{
 "cells": [
  {
   "cell_type": "markdown",
   "metadata": {
    "id": "i7SgvSNZM3Tn"
   },
   "source": [
    "# ME314 Homework 6\n",
    "\n",
    "### Submission instructions\n",
    "\n",
    "Deliverables that should be included with your submission are shown in **bold** at the end of each problem statement and the corresponding supplemental material. **Your homework will be graded IFF you submit a single PDF, .mp4 videos of animations when requested and a link to a Google colab file that meet all the requirements outlined below.**\n",
    "\n",
    "- List the names of students you've collaborated with on this homework assignment.\n",
    "- Include all of your code (and handwritten solutions when applicable) used to complete the problems.\n",
    "- Highlight your answers (i.e. **bold** and outline the answers) for handwritten or markdown questions and include simplified code outputs (e.g. .simplify()) for python questions.\n",
    "- Enable Google Colab permission for viewing \n",
    " * Click Share in the upper right corner\n",
    " * Under \"Get Link\" click \"Share with...\" or \"Change\" \n",
    " * Then make sure it says \"Anyone with Link\" and \"Editor\" under the dropdown menu\n",
    "- Make sure all cells are run before submitting (i.e. check the permission by running your code in a private mode)\n",
    " * Please don't make changes to your file after submitting, so we can grade it!\n",
    "- Submit a link to your Google Colab file that has been run (before the submission deadline) and don't edit it afterwards!\n",
    "\n",
    "**NOTE:** This Juputer Notebook file serves as a template for you to start homework. Make sure you first copy this template to your own Google driver (click \"File\" -> \"Save a copy in Drive\"), and then start to edit it."
   ]
  },
  {
   "cell_type": "markdown",
   "metadata": {
    "id": "JzCmPPCaM3Tq"
   },
   "source": [
    "## Problem 1 (20pts)\n",
    "\n",
    "Show that if $R(\\theta_1)$ and $R(\\theta_2)\\in SO(n)$ then the product is also a rotation matrix, that is $R(\\theta_1)R(\\theta_2)\\in SO(n)$. \n",
    "    \n",
    "> Hint 1: You know this is true when $n=2$ by direct calculation in class, but for $n\\neq2$ you should use the definition of $SO(n)$ to verify it for arbitrary $n$. Do not try to do this by analyzing individual components of the matrix.\n",
    "    \n",
    "**Turn in: A scanned (or photograph from your phone or webcam) copy of your handwritten solution. You can also use *LaTeX*. If you use SymPy, you need to include a copy of your code and the code outputs. Make sure to note why your handwritten solution / code output explains the results.**"
   ]
  },
  {
   "cell_type": "code",
   "execution_count": null,
   "metadata": {
    "id": "EqNTO0UqM3Ts"
   },
   "outputs": [],
   "source": []
  },
  {
   "cell_type": "markdown",
   "metadata": {
    "id": "0kJDEGvqM3Tt"
   },
   "source": [
    "## Problem 2 (20pts)\n",
    "\n",
    "Show that if $g(x_1,y_1,\\theta_1)$ and $g(x_2,y_2,\\theta_2)\\in SE(2)$ then the product satisfies $g(x_1,y_1,\\theta_1)g(x_2,y_2,\\theta_2)\\in SE(2)$. \n",
    "\n",
    "**Turn in: A scanned (or photograph from your phone or webcam) copy of your hand written solution. You can also use *LaTeX*. If you use SymPy, you need to include a copy of your code and the code outputs. Make sure to note why your handwritten soultion / code output explains the results.**"
   ]
  },
  {
   "cell_type": "code",
   "execution_count": null,
   "metadata": {
    "id": "qUpWP6QUM3Tt"
   },
   "outputs": [],
   "source": []
  },
  {
   "cell_type": "markdown",
   "metadata": {
    "id": "NkK0e__NM3Tu"
   },
   "source": [
    "## Problem 3 (20pts)\n",
    "\n",
    "Show that any homogeneous transformation in SE(2) can be separated into a rotation and a translation. What's the order of the two operations, which comes first? What's different if we flip the order in which we compose the rotation and translation? \n",
    "    \n",
    ">Hint 1: For the rotation and translation operation, we first need to know what's the reference frame for these two operations.\n",
    "\n",
    "**Turn in: A scanned (or photograph from your phone or webcam) copy of your hand written solution. You can also use *LaTeX*. If you use SymPy, you need to include a copy of your code and the code outputs. Make sure to note why your handwritten soultion / code output explains the results.**"
   ]
  },
  {
   "cell_type": "code",
   "execution_count": null,
   "metadata": {
    "id": "ZVhpePU_M3Tv"
   },
   "outputs": [],
   "source": []
  },
  {
   "cell_type": "markdown",
   "metadata": {
    "id": "nW3igmCtM3Tv"
   },
   "source": [
    "## Problem 4 (20pts)\n",
    "\n",
    "Simulate the same double-pendulum system in previous homework using only homogeneous transformation (and thus avoid using trigonometry). Simulate the system for $t\\in[0,3]$ with $dt=0.01$. The parameters are $m_1=m_2=1, R_1=R_2=1, g=9.8$ with initial conditions $\\theta_1=\\theta_2=-\\frac{\\pi}{3}, \\dot{\\theta}_1=\\dot{\\theta}_2=0$. <u>Do not use functions provided in the modern robotics package for manipulating transformation matrices such as RpToTrans(), etc.</u>\n",
    "\n",
    "> Hint 1: Same as in the lecture, you will need to define the frames by yourself in order to compute the Lagrangian. An example is shown below.\n",
    "\n",
    "**Turn in: Include a copy of your code used to simulate the system, and clearly labeled plot of $\\theta_1$ and $\\theta_2$ trajectory. Also, attach a figure showing how you defined the frames.**"
   ]
  },
  {
   "cell_type": "code",
   "execution_count": null,
   "metadata": {
    "colab": {
     "base_uri": "https://localhost:8080/",
     "height": 377
    },
    "id": "-W1MK0fzM3Tw",
    "outputId": "a5e87d43-d2c2-4685-cf9e-f41fd06ab316"
   },
   "outputs": [
    {
     "data": {
      "text/html": [
       "<table><tr><td><img src='https://github.com/MuchenSun/ME314pngs/raw/master/doubpend_frames.jpg' width=500' height='350'></table>"
      ],
      "text/plain": [
       "<IPython.core.display.HTML object>"
      ]
     },
     "metadata": {
      "tags": []
     },
     "output_type": "display_data"
    }
   ],
   "source": [
    "from IPython.core.display import HTML\n",
    "display(HTML(\"<table><tr><td><img src='https://github.com/MuchenSun/ME314pngs/raw/master/doubpend_frames.jpg' width=500' height='350'></table>\"))"
   ]
  },
  {
   "cell_type": "code",
   "execution_count": null,
   "metadata": {
    "id": "Cp1dlfHAM3Tx"
   },
   "outputs": [],
   "source": []
  },
  {
   "cell_type": "markdown",
   "metadata": {
    "id": "qQ7pB_M5M3Tx"
   },
   "source": [
    "## Problem 5 (20pts)\n",
    "\n",
    "Modify the previous animation function for the double-pendulum such that the animation shows the frames you defined in the last problem (it's similar to the ``tf`` in RViz, if you're familiar with ROS). All the *x axes* should be displayed in <font color='green'>green</font> and all the *y axes* should be displayed in <font color='red'>red</font>, with axis's length of 0.3 for all. An animation example can be found at [https://youtu.be/2H3KvRWQqys](https://youtu.be/2H3KvRWQqys). <u>Do not use functions provided in the modern robotics package for manipulating transformation matrices such as RpToTrans(), etc. </u>\n",
    "\n",
    "> Hint 1: Each axis can be considered as a line connecting the origin and the point $[0.3, 0]$ or $[0, 0.3]$ in that frame. You will need to use the homogeneous transformations to transfer these two axis/points back into the world/fixed frame. Example code showing how to display one frame is provided below.\n",
    "\n",
    "**Turn in: Include a copy of your code used for animation and a video of the animation. The video can be uploaded separately through Canvas, and it should be in \".mp4\" format. You can either use screen capture or record the screen directly with your phone.**"
   ]
  },
  {
   "cell_type": "code",
   "execution_count": null,
   "metadata": {
    "id": "nB8NeWAGM3Tz"
   },
   "outputs": [],
   "source": [
    "def animate_double_pend(theta_array,L1=1,L2=1,T=10):\n",
    "    \"\"\"\n",
    "    Function to generate web-based animation of double-pendulum system\n",
    "\n",
    "    Parameters:\n",
    "    ================================================\n",
    "    theta_array:\n",
    "        trajectory of theta1 and theta2, should be a NumPy array with\n",
    "        shape of (2,N)\n",
    "    L1:\n",
    "        length of the first pendulum\n",
    "    L2:\n",
    "        length of the second pendulum\n",
    "    T:\n",
    "        length/seconds of animation duration\n",
    "\n",
    "    Returns: None\n",
    "    \"\"\"\n",
    "\n",
    "    ################################\n",
    "    # Imports required for animation.\n",
    "    from plotly.offline import init_notebook_mode, iplot\n",
    "    from IPython.display import display, HTML\n",
    "    import plotly.graph_objects as go\n",
    "\n",
    "    #######################\n",
    "    # Browser configuration.\n",
    "    def configure_plotly_browser_state():\n",
    "        import IPython\n",
    "        display(IPython.core.display.HTML('''\n",
    "            <script src=\"/static/components/requirejs/require.js\"></script>\n",
    "            <script>\n",
    "              requirejs.config({\n",
    "                paths: {\n",
    "                  base: '/static/base',\n",
    "                  plotly: 'https://cdn.plot.ly/plotly-1.5.1.min.js?noext',\n",
    "                },\n",
    "              });\n",
    "            </script>\n",
    "            '''))\n",
    "    configure_plotly_browser_state()\n",
    "    init_notebook_mode(connected=False)\n",
    "\n",
    "    ###############################################\n",
    "    # Getting data from pendulum angle trajectories.\n",
    "    xx1=L1*np.sin(theta_array[0])\n",
    "    yy1=-L1*np.cos(theta_array[0])\n",
    "    xx2=xx1+L2*np.sin(theta_array[0]+theta_array[1])\n",
    "    yy2=yy1-L2*np.cos(theta_array[0]+theta_array[1])\n",
    "    N = len(theta_array[0]) # Need this for specifying length of simulation\n",
    "\n",
    "    ###############################################\n",
    "    # Define arrays containing data for frame axes\n",
    "    # In each frame, the x and y axis are always fixed\n",
    "    x_axis = np.array([0.3, 0.0])\n",
    "    y_axis = np.array([0.0, 0.3])\n",
    "    # Use homogeneous tranformation to transfer these two axes/points\n",
    "    # back to the fixed frame\n",
    "    frame_a_x_axis = np.zeros((2,N))\n",
    "    frame_a_y_axis = np.zeros((2,N))\n",
    "    for i in range(N): # iteration through each time step\n",
    "        # evaluate homogeneous transformation\n",
    "        t_wa = np.array([[np.cos(theta_array[0][i]), -np.sin(theta_array[0][i]), 0],\n",
    "                         [np.sin(theta_array[0][i]),  np.cos(theta_array[0][i]), 0],\n",
    "                         [                        0,                          0, 1]])\n",
    "        # transfer the x and y axes in body frame back to fixed frame at \n",
    "        # the current time step\n",
    "        frame_a_x_axis[:,i] = t_wa.dot([x_axis[0], x_axis[1], 1])[0:2]\n",
    "        frame_a_y_axis[:,i] = t_wa.dot([y_axis[0], y_axis[1], 1])[0:2]\n",
    "\n",
    "    ####################################\n",
    "    # Using these to specify axis limits.\n",
    "    xm = -3 #np.min(xx1)-0.5\n",
    "    xM = 3 #np.max(xx1)+0.5\n",
    "    ym = -3 #np.min(yy1)-2.5\n",
    "    yM = 3 #np.max(yy1)+1.5\n",
    "\n",
    "    ###########################\n",
    "    # Defining data dictionary.\n",
    "    # Trajectories are here.\n",
    "    data=[\n",
    "        # note that except for the trajectory (which you don't need this time),\n",
    "        # you don't need to define entries other than \"name\". The items defined\n",
    "        # in this list will be related to the items defined in the \"frames\" list\n",
    "        # later in the same order. Therefore, these entries can be considered as \n",
    "        # labels for the components in each animation frame\n",
    "        dict(name='Arm'),\n",
    "        dict(name='Mass 1'),\n",
    "        dict(name='Mass 2'),\n",
    "        dict(name='World Frame X'),\n",
    "        dict(name='World Frame Y'),\n",
    "        dict(name='A Frame X Axis'),\n",
    "        dict(name='A Frame Y Axis'),\n",
    "\n",
    "        # You don't need to show trajectory this time,\n",
    "        # but if you want to show the whole trajectory in the animation (like what\n",
    "        # you did in previous homeworks), you will need to define entries other than \n",
    "        # \"name\", such as \"x\", \"y\". and \"mode\".\n",
    "\n",
    "        # dict(x=xx1, y=yy1, \n",
    "        #      mode='markers', name='Pendulum 1 Traj', \n",
    "        #      marker=dict(color=\"fuchsia\", size=2)\n",
    "        #     ),\n",
    "        # dict(x=xx2, y=yy2, \n",
    "        #      mode='markers', name='Pendulum 2 Traj', \n",
    "        #      marker=dict(color=\"purple\", size=2)\n",
    "        #     ),\n",
    "        ]\n",
    "\n",
    "    ################################\n",
    "    # Preparing simulation layout.\n",
    "    # Title and axis ranges are here.\n",
    "    layout=dict(autosize=False, width=1000, height=1000,\n",
    "                xaxis=dict(range=[xm, xM], autorange=False, zeroline=False,dtick=1),\n",
    "                yaxis=dict(range=[ym, yM], autorange=False, zeroline=False,scaleanchor = \"x\",dtick=1),\n",
    "                title='Double Pendulum Simulation', \n",
    "                hovermode='closest',\n",
    "                updatemenus= [{'type': 'buttons',\n",
    "                               'buttons': [{'label': 'Play','method': 'animate',\n",
    "                                            'args': [None, {'frame': {'duration': T, 'redraw': False}}]},\n",
    "                                           {'args': [[None], {'frame': {'duration': T, 'redraw': False}, 'mode': 'immediate',\n",
    "                                            'transition': {'duration': 0}}],'label': 'Pause','method': 'animate'}\n",
    "                                          ]\n",
    "                              }]\n",
    "               )\n",
    "\n",
    "    ########################################\n",
    "    # Defining the frames of the simulation.\n",
    "    # This is what draws the lines from\n",
    "    # joint to joint of the pendulum.\n",
    "    frames=[dict(data=[# first three objects correspond to the arms and two masses,\n",
    "                       # same order as in the \"data\" variable defined above (thus \n",
    "                       # they will be labeled in the same order)\n",
    "                       dict(x=[0,xx1[k],xx2[k]], \n",
    "                            y=[0,yy1[k],yy2[k]], \n",
    "                            mode='lines',\n",
    "                            line=dict(color='orange', width=3),\n",
    "                            ),\n",
    "                       go.Scatter(\n",
    "                            x=[xx1[k]],\n",
    "                            y=[yy1[k]],\n",
    "                            mode=\"markers\",\n",
    "                            marker=dict(color=\"blue\", size=12)),\n",
    "                       go.Scatter(\n",
    "                            x=[xx2[k]],\n",
    "                            y=[yy2[k]],\n",
    "                            mode=\"markers\",\n",
    "                            marker=dict(color=\"blue\", size=12)),\n",
    "                       # display x and y axes of the fixed frame in each animation frame\n",
    "                       dict(x=[0,x_axis[0]], \n",
    "                            y=[0,x_axis[1]], \n",
    "                            mode='lines',\n",
    "                            line=dict(color='green', width=3),\n",
    "                            ),\n",
    "                       dict(x=[0,y_axis[0]], \n",
    "                            y=[0,y_axis[1]], \n",
    "                            mode='lines',\n",
    "                            line=dict(color='red', width=3),\n",
    "                            ),\n",
    "                       # display x and y axes of the {A} frame in each animation frame\n",
    "                       dict(x=[0, frame_a_x_axis[0][k]], \n",
    "                            y=[0, frame_a_x_axis[1][k]], \n",
    "                            mode='lines',\n",
    "                            line=dict(color='green', width=3),\n",
    "                            ),\n",
    "                       dict(x=[0, frame_a_y_axis[0][k]], \n",
    "                            y=[0, frame_a_y_axis[1][k]],\n",
    "                            mode='lines',\n",
    "                            line=dict(color='red', width=3),\n",
    "                            ),\n",
    "                      ]) for k in range(N)]\n",
    "\n",
    "    #######################################\n",
    "    # Putting it all together and plotting.\n",
    "    figure1=dict(data=data, layout=layout, frames=frames)           \n",
    "    iplot(figure1)"
   ]
  },
  {
   "cell_type": "code",
   "execution_count": null,
   "metadata": {
    "id": "jBnHi-tSM3T6"
   },
   "outputs": [],
   "source": []
  }
 ],
 "metadata": {
  "colab": {
   "collapsed_sections": [],
   "provenance": []
  },
  "kernelspec": {
   "display_name": "Python 3 (ipykernel)",
   "language": "python",
   "name": "python3"
  },
  "language_info": {
   "codemirror_mode": {
    "name": "ipython",
    "version": 3
   },
   "file_extension": ".py",
   "mimetype": "text/x-python",
   "name": "python",
   "nbconvert_exporter": "python",
   "pygments_lexer": "ipython3",
   "version": "3.10.7"
  }
 },
 "nbformat": 4,
 "nbformat_minor": 1
}
