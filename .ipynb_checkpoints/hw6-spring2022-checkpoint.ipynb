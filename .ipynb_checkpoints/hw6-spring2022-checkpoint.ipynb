{
 "cells": [
  {
   "cell_type": "markdown",
   "metadata": {
    "id": "i7SgvSNZM3Tn"
   },
   "source": [
    "# ME314 Homework 6\n",
    "\n",
    "### Submission instructions\n",
    "\n",
    "Deliverables that should be included with your submission are shown in **bold** at the end of each problem statement and the corresponding supplemental material. **Your homework will be graded IFF you submit a single PDF, .mp4 videos of animations when requested and a link to a Google colab file that meet all the requirements outlined below.**\n",
    "\n",
    "- List the names of students you've collaborated with on this homework assignment.\n",
    "- Include all of your code (and handwritten solutions when applicable) used to complete the problems.\n",
    "- Highlight your answers (i.e. **bold** and outline the answers) for handwritten or markdown questions and include simplified code outputs (e.g. .simplify()) for python questions.\n",
    "- Enable Google Colab permission for viewing \n",
    " * Click Share in the upper right corner\n",
    " * Under \"Get Link\" click \"Share with...\" or \"Change\" \n",
    " * Then make sure it says \"Anyone with Link\" and \"Editor\" under the dropdown menu\n",
    "- Make sure all cells are run before submitting (i.e. check the permission by running your code in a private mode)\n",
    " * Please don't make changes to your file after submitting, so we can grade it!\n",
    "- Submit a link to your Google Colab file that has been run (before the submission deadline) and don't edit it afterwards!\n",
    "\n",
    "**NOTE:** This Juputer Notebook file serves as a template for you to start homework. Make sure you first copy this template to your own Google driver (click \"File\" -> \"Save a copy in Drive\"), and then start to edit it."
   ]
  },
  {
   "cell_type": "code",
   "execution_count": 1,
   "metadata": {},
   "outputs": [],
   "source": [
    "#imports\n",
    "import numpy as np\n",
    "import sympy as sym\n",
    "import matplotlib.pyplot as plt"
   ]
  },
  {
   "cell_type": "code",
   "execution_count": 2,
   "metadata": {},
   "outputs": [],
   "source": [
    "#helper functions\n",
    "def compute_EL(lagrangian, q):\n",
    "    '''\n",
    "    Helper function for computing the Euler-Lagrange equations for a given system,\n",
    "    so I don't have to keep writing it out over and over again.\n",
    "    \n",
    "    Inputs:\n",
    "    - lagrangian: our Lagrangian function in symbolic (Sympy) form\n",
    "    - q: our state vector [x1, x2, ...], in symbolic (Sympy) form\n",
    "    \n",
    "    Outputs:\n",
    "    - eqn: the Euler-Lagrange equations in Sympy form\n",
    "    '''\n",
    "    \n",
    "    # wrap system states into one vector (in SymPy would be Matrix)\n",
    "    #q = sym.Matrix([x1, x2])\n",
    "    qd = q.diff(t)\n",
    "    qdd = qd.diff(t)\n",
    "\n",
    "    # compute derivative wrt a vector, method 1\n",
    "    # wrap the expression into a SymPy Matrix\n",
    "    L_mat = sym.Matrix([lagrangian])\n",
    "    dL_dq = L_mat.jacobian(q)\n",
    "    dL_dqdot = L_mat.jacobian(qd)\n",
    "\n",
    "    #set up the Euler-Lagrange equations\n",
    "    LHS = dL_dq - dL_dqdot.diff(t)\n",
    "    RHS = sym.zeros(1, len(q))\n",
    "    eqn = sym.Eq(LHS.T, RHS.T)\n",
    "    \n",
    "    return eqn\n",
    "\n",
    "def solve_EL(eqn, var):\n",
    "    '''\n",
    "    Helper function to solve and display the solution for the Euler-Lagrange\n",
    "    equations.\n",
    "    \n",
    "    Inputs:\n",
    "    - eqn: Euler-Lagrange equation (type: Sympy Equation())\n",
    "    - var: state vector (type: Sympy Matrix). typically a form of q-doubledot\n",
    "        but may have different terms\n",
    "    \n",
    "    Outputs:\n",
    "    - Prints symbolic solutions\n",
    "    - Returns symbolic solutions in a dictionary\n",
    "    '''\n",
    "    \n",
    "    soln = sym.solve(eqn, var, dict = True)\n",
    "    eqns_solved = []\n",
    "    \n",
    "    \n",
    "    for i, sol in enumerate(soln):\n",
    "        for x in list(sol.keys()):\n",
    "            eqn_solved = sym.Eq(x, sol[x])\n",
    "            eqns_solved.append(eqn_solved)\n",
    "            \n",
    "    return eqns_solved\n",
    "\n",
    "def solve_constrained_EL(lamb, phi, q, lhs):\n",
    "    \"\"\"Now uses just the LHS of the constrained E-L equations,\n",
    "    rather than the full equation form\"\"\"\n",
    "    \n",
    "    qd = q.diff(t)\n",
    "    qdd = qd.diff(t)\n",
    "    \n",
    "    phidd = phi.diff(t).diff(t)\n",
    "    lamb_grad = sym.Matrix([lamb * phi.diff(a) for a in q])\n",
    "    q_mod = qdd.row_insert(2, sym.Matrix([lamb]))\n",
    "    \n",
    "    #format equations so they're all in one matrix\n",
    "    expr_matrix = lhs - lamb_grad\n",
    "    phidd_matrix = sym.Matrix([phidd])\n",
    "    expr_matrix = expr_matrix.row_insert(2,phidd_matrix)\n",
    "    \n",
    "    print(\"Equations to be solved (LHS - lambda * grad(phi) = 0):\")\n",
    "    RHS = sym.zeros(len(expr_matrix), 1)\n",
    "    disp_eq = sym.Eq(expr_matrix, RHS)\n",
    "    display(disp_eq)\n",
    "    print(\"Variables to solve for:\")\n",
    "    display(q_mod)\n",
    "\n",
    "    #solve E-L equations\n",
    "    eqns_solved = solve_EL(expr_matrix, q_mod)\n",
    "    return eqns_solved\n",
    "\n",
    "def rk4(dxdt, x, t, dt):\n",
    "    '''\n",
    "    Applies the Runge-Kutta method, 4th order, to a sample function,\n",
    "    for a given state q0, for a given step size. Currently only\n",
    "    configured for a 2-variable dependent system (x,y).\n",
    "    ==========\n",
    "    dxdt: a Sympy function that specifies the derivative of the system of interest\n",
    "    t: the current timestep of the simulation\n",
    "    x: current value of the state vector\n",
    "    dt: the amount to increment by for Runge-Kutta\n",
    "    ======\n",
    "    returns:\n",
    "    x_new: value of the state vector at the next timestep\n",
    "    '''      \n",
    "    k1 = dt * dxdt(t, x)\n",
    "    k2 = dt * dxdt(t + dt/2.0, x + k1/2.0)\n",
    "    k3 = dt * dxdt(t + dt/2.0, x + k2/2.0)\n",
    "    k4 = dt * dxdt(t + dt, x + k3)\n",
    "    x_new = x + (k1 + 2.0*k2 + 2.0*k3 + k4)/6.0\n",
    "    \n",
    "    return x_new\n",
    "\n",
    "\n",
    "def simulate(f, x0, tspan, dt, integrate):\n",
    "    \"\"\"\n",
    "    This function takes in an initial condition x0, a timestep dt,\n",
    "    a time span tspan consisting of a list [min_time, max_time],\n",
    "    as well as a dynamical system f(x) that outputs a vector of the\n",
    "    same dimension as x0. It outputs a full trajectory simulated\n",
    "    over the time span of dimensions (xvec_size, time_vec_size).\n",
    "    \n",
    "    Parameters\n",
    "    ============\n",
    "    f: Python function\n",
    "        derivate of the system at a given step x(t), \n",
    "        it can considered as \\dot{x}(t) = func(x(t))\n",
    "    x0: NumPy array\n",
    "        initial conditions\n",
    "    tspan: Python list\n",
    "        tspan = [min_time, max_time], it defines the start and end\n",
    "        time of simulation\n",
    "    dt:\n",
    "        time step for numerical integration\n",
    "    integrate: Python function\n",
    "        numerical integration method used in this simulation\n",
    "\n",
    "    Return\n",
    "    ============\n",
    "    x_traj:\n",
    "        simulated trajectory of x(t) from t=0 to tf\n",
    "    \"\"\"\n",
    "    N = int((max(tspan)-min(tspan))/dt)\n",
    "    x = np.copy(x0)\n",
    "    tvec = np.linspace(min(tspan),max(tspan),N)\n",
    "    xtraj = np.zeros((len(x0),N))\n",
    "    \n",
    "    for i in range(N):\n",
    "        t = tvec[i]\n",
    "        xtraj[:,i]=integrate(f,x,t,dt)\n",
    "        x = np.copy(xtraj[:,i])\n",
    "    return xtraj \n",
    "      "
   ]
  },
  {
   "cell_type": "code",
   "execution_count": 6,
   "metadata": {},
   "outputs": [
    {
     "name": "stdout",
     "output_type": "stream",
     "text": [
      "Matrix([[1, 2, 5], [3, 4, 6], [0, 0, 1]])\n"
     ]
    }
   ],
   "source": [
    "#new for this hw\n",
    "def SO2AndR2ToSE2(R, p):\n",
    "    #this was something I defined from scratch - I did not look at or consult the MR library\n",
    "    G = sym.zeros(3)\n",
    "    G[:2,:2] = R\n",
    "    G[:2, 2] = sym.Matrix(p)\n",
    "    G[ 2, 2] = 1\n",
    "    return G\n",
    "\n",
    "#testing\n",
    "R = sym.Matrix([\n",
    "    [1,2],\n",
    "    [3,4]\n",
    "])\n",
    "p = sym.Matrix([5,6])\n",
    "G = SO2AndR2ToSE2(R, p)\n",
    "print(G)"
   ]
  },
  {
   "cell_type": "markdown",
   "metadata": {
    "id": "JzCmPPCaM3Tq"
   },
   "source": [
    "## Problem 1 (20pts)\n",
    "\n",
    "Show that if $R(\\theta_1)$ and $R(\\theta_2)\\in SO(n)$ then the product is also a rotation matrix, that is $R(\\theta_1)R(\\theta_2)\\in SO(n)$. \n",
    "    \n",
    "> Hint 1: You know this is true when $n=2$ by direct calculation in class, but for $n\\neq2$ you should use the definition of $SO(n)$ to verify it for arbitrary $n$. Do not try to do this by analyzing individual components of the matrix.\n",
    "    \n",
    "**Turn in: A scanned (or photograph from your phone or webcam) copy of your handwritten solution. You can also use *LaTeX*. If you use SymPy, you need to include a copy of your code and the code outputs. Make sure to note why your handwritten solution / code output explains the results.**"
   ]
  },
  {
   "cell_type": "code",
   "execution_count": null,
   "metadata": {
    "id": "EqNTO0UqM3Ts"
   },
   "outputs": [],
   "source": []
  },
  {
   "cell_type": "markdown",
   "metadata": {
    "id": "0kJDEGvqM3Tt"
   },
   "source": [
    "## Problem 2 (20pts)\n",
    "\n",
    "Show that if $g(x_1,y_1,\\theta_1)$ and $g(x_2,y_2,\\theta_2)\\in SE(2)$ then the product satisfies $g(x_1,y_1,\\theta_1)g(x_2,y_2,\\theta_2)\\in SE(2)$. \n",
    "\n",
    "**Turn in: A scanned (or photograph from your phone or webcam) copy of your hand written solution. You can also use *LaTeX*. If you use SymPy, you need to include a copy of your code and the code outputs. Make sure to note why your handwritten soultion / code output explains the results.**"
   ]
  },
  {
   "cell_type": "code",
   "execution_count": null,
   "metadata": {
    "id": "qUpWP6QUM3Tt"
   },
   "outputs": [],
   "source": []
  },
  {
   "cell_type": "markdown",
   "metadata": {
    "id": "NkK0e__NM3Tu"
   },
   "source": [
    "## Problem 3 (20pts)\n",
    "\n",
    "Show that any homogeneous transformation in SE(2) can be separated into a rotation and a translation. What's the order of the two operations, which comes first? What's different if we flip the order in which we compose the rotation and translation? \n",
    "    \n",
    ">Hint 1: For the rotation and translation operation, we first need to know what's the reference frame for these two operations.\n",
    "\n",
    "**Turn in: A scanned (or photograph from your phone or webcam) copy of your hand written solution. You can also use *LaTeX*. If you use SymPy, you need to include a copy of your code and the code outputs. Make sure to note why your handwritten soultion / code output explains the results.**"
   ]
  },
  {
   "cell_type": "code",
   "execution_count": null,
   "metadata": {
    "id": "ZVhpePU_M3Tv"
   },
   "outputs": [],
   "source": []
  },
  {
   "cell_type": "markdown",
   "metadata": {
    "id": "nW3igmCtM3Tv"
   },
   "source": [
    "## Problem 4 (20pts)\n",
    "\n",
    "Simulate the same double-pendulum system in previous homework using only homogeneous transformation (and thus avoid using trigonometry). Simulate the system for $t\\in[0,3]$ with $dt=0.01$. The parameters are $m_1=m_2=1, R_1=R_2=1, g=9.8$ with initial conditions $\\theta_1=\\theta_2=-\\frac{\\pi}{3}, \\dot{\\theta}_1=\\dot{\\theta}_2=0$. <u>Do not use functions provided in the modern robotics package for manipulating transformation matrices such as RpToTrans(), etc.</u>\n",
    "\n",
    "> Hint 1: Same as in the lecture, you will need to define the frames by yourself in order to compute the Lagrangian. An example is shown below.\n",
    "\n",
    "**Turn in: Include a copy of your code used to simulate the system, and clearly labeled plot of $\\theta_1$ and $\\theta_2$ trajectory. Also, attach a figure showing how you defined the frames.**"
   ]
  },
  {
   "cell_type": "code",
   "execution_count": 4,
   "metadata": {
    "colab": {
     "base_uri": "https://localhost:8080/",
     "height": 377
    },
    "id": "-W1MK0fzM3Tw",
    "outputId": "a5e87d43-d2c2-4685-cf9e-f41fd06ab316"
   },
   "outputs": [
    {
     "data": {
      "text/html": [
       "<table><tr><td><img src='https://github.com/MuchenSun/ME314pngs/raw/master/doubpend_frames.jpg' width=500' height='350'></table>"
      ],
      "text/plain": [
       "<IPython.core.display.HTML object>"
      ]
     },
     "metadata": {},
     "output_type": "display_data"
    }
   ],
   "source": [
    "from IPython.core.display import HTML\n",
    "display(HTML(\"<table><tr><td><img src='https://github.com/MuchenSun/ME314pngs/raw/master/doubpend_frames.jpg' width=500' height='350'></table>\"))"
   ]
  },
  {
   "cell_type": "code",
   "execution_count": 28,
   "metadata": {
    "id": "Cp1dlfHAM3Tx"
   },
   "outputs": [
    {
     "name": "stdout",
     "output_type": "stream",
     "text": [
      "Lagrangian:\n"
     ]
    },
    {
     "data": {
      "text/latex": [
       "$\\displaystyle 0.5 L_{1}^{2} m_{1} \\left(\\frac{d}{d t} \\theta_{1}{\\left(t \\right)}\\right)^{2} + L_{1} g m_{1} \\cos{\\left(\\theta_{1}{\\left(t \\right)} \\right)} + g m_{2} \\left(L_{1} \\cos{\\left(\\theta_{1}{\\left(t \\right)} \\right)} + L_{2} \\cos{\\left(\\theta_{1}{\\left(t \\right)} + \\theta_{2}{\\left(t \\right)} \\right)}\\right) + 0.5 m_{2} \\left(L_{1}^{2} \\left(\\frac{d}{d t} \\theta_{1}{\\left(t \\right)}\\right)^{2} + 2 L_{1} L_{2} \\cos{\\left(\\theta_{2}{\\left(t \\right)} \\right)} \\left(\\frac{d}{d t} \\theta_{1}{\\left(t \\right)}\\right)^{2} + 2 L_{1} L_{2} \\cos{\\left(\\theta_{2}{\\left(t \\right)} \\right)} \\frac{d}{d t} \\theta_{1}{\\left(t \\right)} \\frac{d}{d t} \\theta_{2}{\\left(t \\right)} + L_{2}^{2} \\left(\\frac{d}{d t} \\theta_{1}{\\left(t \\right)}\\right)^{2} + 2 L_{2}^{2} \\frac{d}{d t} \\theta_{1}{\\left(t \\right)} \\frac{d}{d t} \\theta_{2}{\\left(t \\right)} + L_{2}^{2} \\left(\\frac{d}{d t} \\theta_{2}{\\left(t \\right)}\\right)^{2}\\right)$"
      ],
      "text/plain": [
       "0.5*L_1**2*m_1*Derivative(\\theta_1(t), t)**2 + L_1*g*m_1*cos(\\theta_1(t)) + g*m_2*(L_1*cos(\\theta_1(t)) + L_2*cos(\\theta_1(t) + \\theta_2(t))) + 0.5*m_2*(L_1**2*Derivative(\\theta_1(t), t)**2 + 2*L_1*L_2*cos(\\theta_2(t))*Derivative(\\theta_1(t), t)**2 + 2*L_1*L_2*cos(\\theta_2(t))*Derivative(\\theta_1(t), t)*Derivative(\\theta_2(t), t) + L_2**2*Derivative(\\theta_1(t), t)**2 + 2*L_2**2*Derivative(\\theta_1(t), t)*Derivative(\\theta_2(t), t) + L_2**2*Derivative(\\theta_2(t), t)**2)"
      ]
     },
     "metadata": {},
     "output_type": "display_data"
    }
   ],
   "source": [
    "#define variables\n",
    "m1, m2, L1, L2, g = sym.symbols(r'm_1, m_2, L_1, L_2, g')\n",
    "t = sym.symbols(r't')\n",
    "\n",
    "theta1 = sym.Function(r'\\theta_1')(t)\n",
    "theta2 = sym.Function(r'\\theta_2')(t)\n",
    "theta1d = theta1.diff(t)\n",
    "theta2d = theta2.diff(t)\n",
    "\n",
    "\n",
    "#define transformation matrices\n",
    "I = sym.eye(2)\n",
    "Rwa = sym.Matrix([\n",
    "    [sym.cos(theta1), -sym.sin(theta1)],\n",
    "    [sym.sin(theta1),  sym.cos(theta1)]\n",
    "\n",
    "])\n",
    "\n",
    "Rbc = sym.Matrix([\n",
    "    [sym.cos(theta2), -sym.sin(theta2)],\n",
    "    [sym.sin(theta2),  sym.cos(theta2)]\n",
    "\n",
    "])\n",
    "\n",
    "Gwa = SO2AndR2ToSE2(Rwa, [0,   0])\n",
    "Gab = SO2AndR2ToSE2(I,   [0, -L1])\n",
    "Gbc = SO2AndR2ToSE2(Rbc, [0,   0])\n",
    "Gcd = SO2AndR2ToSE2(I,   [0, -L2])\n",
    "\n",
    "\n",
    "#define kinetic and potential energy\n",
    "v1 = ( Gwa * Gab * sym.Matrix([0,0,1])  ).diff(t)\n",
    "v2 = ( Gwa * Gab * Gbc * Gcd * sym.Matrix([0,0,1])  ).diff(t)\n",
    "y1 = ( Gwa * Gab * sym.Matrix([0,0,1]) ).tolist()[1][0]\n",
    "y2 = ( Gwa * Gab * Gbc * Gcd * sym.Matrix([0,0,1]) ).tolist()[1][0]\n",
    "\n",
    "y1 = y1.simplify()\n",
    "y2 = y2.simplify()\n",
    "\n",
    "v1 = sym.simplify(v1)\n",
    "v2 = sym.simplify(v2)\n",
    "\n",
    "\n",
    "KE = 0.5 * m1 * (v1.T * v1)[0] + 0.5 * m2 * (v2.T * v2)[0]\n",
    "U = m1 * g * y1 + m2 * g * y2\n",
    "lagrangian = KE - U\n",
    "lagrangian = lagrangian.simplify()\n",
    "\n",
    "# print(\"Y1, Y2:\")\n",
    "# display(y1)\n",
    "# display(y2)\n",
    "\n",
    "# print(\"V1, V2:\")\n",
    "# display(v1)\n",
    "# display(v2)\n",
    "\n",
    "print(\"Lagrangian:\")\n",
    "display(lagrangian)\n",
    "\n"
   ]
  },
  {
   "cell_type": "code",
   "execution_count": 26,
   "metadata": {},
   "outputs": [
    {
     "name": "stdout",
     "output_type": "stream",
     "text": [
      "Euler-Lagrange equations:\n"
     ]
    },
    {
     "data": {
      "text/latex": [
       "$\\displaystyle \\left[\\begin{matrix}0\\\\0\\end{matrix}\\right] = \\left[\\begin{matrix}- 1.0 L_{1}^{2} m_{1} \\frac{d^{2}}{d t^{2}} \\theta_{1}{\\left(t \\right)} - L_{1} g m_{1} \\sin{\\left(\\theta_{1}{\\left(t \\right)} \\right)} - g m_{2} \\left(L_{1} \\sin{\\left(\\theta_{1}{\\left(t \\right)} \\right)} + L_{2} \\sin{\\left(\\theta_{1}{\\left(t \\right)} + \\theta_{2}{\\left(t \\right)} \\right)}\\right) - 1.0 m_{2} \\left(L_{1}^{2} \\frac{d^{2}}{d t^{2}} \\theta_{1}{\\left(t \\right)} - 2 L_{1} L_{2} \\sin{\\left(\\theta_{2}{\\left(t \\right)} \\right)} \\frac{d}{d t} \\theta_{1}{\\left(t \\right)} \\frac{d}{d t} \\theta_{2}{\\left(t \\right)} - L_{1} L_{2} \\sin{\\left(\\theta_{2}{\\left(t \\right)} \\right)} \\left(\\frac{d}{d t} \\theta_{2}{\\left(t \\right)}\\right)^{2} + 2 L_{1} L_{2} \\cos{\\left(\\theta_{2}{\\left(t \\right)} \\right)} \\frac{d^{2}}{d t^{2}} \\theta_{1}{\\left(t \\right)} + L_{1} L_{2} \\cos{\\left(\\theta_{2}{\\left(t \\right)} \\right)} \\frac{d^{2}}{d t^{2}} \\theta_{2}{\\left(t \\right)} + L_{2}^{2} \\frac{d^{2}}{d t^{2}} \\theta_{1}{\\left(t \\right)} + L_{2}^{2} \\frac{d^{2}}{d t^{2}} \\theta_{2}{\\left(t \\right)}\\right)\\\\- 1.0 L_{2} m_{2} \\left(L_{1} \\sin{\\left(\\theta_{2}{\\left(t \\right)} \\right)} \\left(\\frac{d}{d t} \\theta_{1}{\\left(t \\right)}\\right)^{2} + L_{1} \\cos{\\left(\\theta_{2}{\\left(t \\right)} \\right)} \\frac{d^{2}}{d t^{2}} \\theta_{1}{\\left(t \\right)} + L_{2} \\frac{d^{2}}{d t^{2}} \\theta_{1}{\\left(t \\right)} + L_{2} \\frac{d^{2}}{d t^{2}} \\theta_{2}{\\left(t \\right)} + g \\sin{\\left(\\theta_{1}{\\left(t \\right)} + \\theta_{2}{\\left(t \\right)} \\right)}\\right)\\end{matrix}\\right]$"
      ],
      "text/plain": [
       "Eq(Matrix([\n",
       "[0],\n",
       "[0]]), Matrix([\n",
       "[-1.0*L_1**2*m_1*Derivative(\\theta_1(t), (t, 2)) - L_1*g*m_1*sin(\\theta_1(t)) - g*m_2*(L_1*sin(\\theta_1(t)) + L_2*sin(\\theta_1(t) + \\theta_2(t))) - 1.0*m_2*(L_1**2*Derivative(\\theta_1(t), (t, 2)) - 2*L_1*L_2*sin(\\theta_2(t))*Derivative(\\theta_1(t), t)*Derivative(\\theta_2(t), t) - L_1*L_2*sin(\\theta_2(t))*Derivative(\\theta_2(t), t)**2 + 2*L_1*L_2*cos(\\theta_2(t))*Derivative(\\theta_1(t), (t, 2)) + L_1*L_2*cos(\\theta_2(t))*Derivative(\\theta_2(t), (t, 2)) + L_2**2*Derivative(\\theta_1(t), (t, 2)) + L_2**2*Derivative(\\theta_2(t), (t, 2)))],\n",
       "[                                                                                                                                                                                                                                                                                                                  -1.0*L_2*m_2*(L_1*sin(\\theta_2(t))*Derivative(\\theta_1(t), t)**2 + L_1*cos(\\theta_2(t))*Derivative(\\theta_1(t), (t, 2)) + L_2*Derivative(\\theta_1(t), (t, 2)) + L_2*Derivative(\\theta_2(t), (t, 2)) + g*sin(\\theta_1(t) + \\theta_2(t)))]]))"
      ]
     },
     "metadata": {},
     "output_type": "display_data"
    },
    {
     "name": "stdout",
     "output_type": "stream",
     "text": [
      "Solved:\n"
     ]
    },
    {
     "data": {
      "text/latex": [
       "$\\displaystyle \\frac{d^{2}}{d t^{2}} \\theta_{1}{\\left(t \\right)} = \\frac{0.5 L_{1} m_{2} \\sin{\\left(2 \\theta_{2}{\\left(t \\right)} \\right)} \\left(\\frac{d}{d t} \\theta_{1}{\\left(t \\right)}\\right)^{2} + 1.0 L_{2} m_{2} \\sin{\\left(\\theta_{2}{\\left(t \\right)} \\right)} \\left(\\frac{d}{d t} \\theta_{1}{\\left(t \\right)}\\right)^{2} + 2.0 L_{2} m_{2} \\sin{\\left(\\theta_{2}{\\left(t \\right)} \\right)} \\frac{d}{d t} \\theta_{1}{\\left(t \\right)} \\frac{d}{d t} \\theta_{2}{\\left(t \\right)} + 1.0 L_{2} m_{2} \\sin{\\left(\\theta_{2}{\\left(t \\right)} \\right)} \\left(\\frac{d}{d t} \\theta_{2}{\\left(t \\right)}\\right)^{2} - 1.0 g m_{1} \\sin{\\left(\\theta_{1}{\\left(t \\right)} \\right)} + 0.5 g m_{2} \\sin{\\left(\\theta_{1}{\\left(t \\right)} + 2 \\theta_{2}{\\left(t \\right)} \\right)} - 0.5 g m_{2} \\sin{\\left(\\theta_{1}{\\left(t \\right)} \\right)}}{L_{1} \\left(m_{1} + m_{2} \\sin^{2}{\\left(\\theta_{2}{\\left(t \\right)} \\right)}\\right)}$"
      ],
      "text/plain": [
       "Eq(Derivative(\\theta_1(t), (t, 2)), (0.5*L_1*m_2*sin(2*\\theta_2(t))*Derivative(\\theta_1(t), t)**2 + 1.0*L_2*m_2*sin(\\theta_2(t))*Derivative(\\theta_1(t), t)**2 + 2.0*L_2*m_2*sin(\\theta_2(t))*Derivative(\\theta_1(t), t)*Derivative(\\theta_2(t), t) + 1.0*L_2*m_2*sin(\\theta_2(t))*Derivative(\\theta_2(t), t)**2 - 1.0*g*m_1*sin(\\theta_1(t)) + 0.5*g*m_2*sin(\\theta_1(t) + 2*\\theta_2(t)) - 0.5*g*m_2*sin(\\theta_1(t)))/(L_1*(m_1 + m_2*sin(\\theta_2(t))**2)))"
      ]
     },
     "metadata": {},
     "output_type": "display_data"
    },
    {
     "data": {
      "text/latex": [
       "$\\displaystyle \\frac{d^{2}}{d t^{2}} \\theta_{2}{\\left(t \\right)} = \\frac{2 \\left(- 1.0 L_{1}^{2} m_{1} \\sin{\\left(\\theta_{2}{\\left(t \\right)} \\right)} \\left(\\frac{d}{d t} \\theta_{1}{\\left(t \\right)}\\right)^{2} - 1.0 L_{1}^{2} m_{2} \\sin{\\left(\\theta_{2}{\\left(t \\right)} \\right)} \\left(\\frac{d}{d t} \\theta_{1}{\\left(t \\right)}\\right)^{2} - 1.0 L_{1} L_{2} m_{2} \\sin{\\left(2 \\theta_{2}{\\left(t \\right)} \\right)} \\left(\\frac{d}{d t} \\theta_{1}{\\left(t \\right)}\\right)^{2} - 1.0 L_{1} L_{2} m_{2} \\sin{\\left(2 \\theta_{2}{\\left(t \\right)} \\right)} \\frac{d}{d t} \\theta_{1}{\\left(t \\right)} \\frac{d}{d t} \\theta_{2}{\\left(t \\right)} - 0.5 L_{1} L_{2} m_{2} \\sin{\\left(2 \\theta_{2}{\\left(t \\right)} \\right)} \\left(\\frac{d}{d t} \\theta_{2}{\\left(t \\right)}\\right)^{2} + 0.5 L_{1} g m_{1} \\sin{\\left(\\theta_{1}{\\left(t \\right)} - \\theta_{2}{\\left(t \\right)} \\right)} - 0.5 L_{1} g m_{1} \\sin{\\left(\\theta_{1}{\\left(t \\right)} + \\theta_{2}{\\left(t \\right)} \\right)} + 0.5 L_{1} g m_{2} \\sin{\\left(\\theta_{1}{\\left(t \\right)} - \\theta_{2}{\\left(t \\right)} \\right)} - 0.5 L_{1} g m_{2} \\sin{\\left(\\theta_{1}{\\left(t \\right)} + \\theta_{2}{\\left(t \\right)} \\right)} - 1.0 L_{2}^{2} m_{2} \\sin{\\left(\\theta_{2}{\\left(t \\right)} \\right)} \\left(\\frac{d}{d t} \\theta_{1}{\\left(t \\right)}\\right)^{2} - 2.0 L_{2}^{2} m_{2} \\sin{\\left(\\theta_{2}{\\left(t \\right)} \\right)} \\frac{d}{d t} \\theta_{1}{\\left(t \\right)} \\frac{d}{d t} \\theta_{2}{\\left(t \\right)} - 1.0 L_{2}^{2} m_{2} \\sin{\\left(\\theta_{2}{\\left(t \\right)} \\right)} \\left(\\frac{d}{d t} \\theta_{2}{\\left(t \\right)}\\right)^{2} + 1.0 L_{2} g m_{1} \\sin{\\left(\\theta_{1}{\\left(t \\right)} \\right)} - 0.5 L_{2} g m_{2} \\sin{\\left(\\theta_{1}{\\left(t \\right)} + 2 \\theta_{2}{\\left(t \\right)} \\right)} + 0.5 L_{2} g m_{2} \\sin{\\left(\\theta_{1}{\\left(t \\right)} \\right)}\\right)}{L_{1} L_{2} \\cdot \\left(2 m_{1} - m_{2} \\cos{\\left(2 \\theta_{2}{\\left(t \\right)} \\right)} + m_{2}\\right)}$"
      ],
      "text/plain": [
       "Eq(Derivative(\\theta_2(t), (t, 2)), 2*(-1.0*L_1**2*m_1*sin(\\theta_2(t))*Derivative(\\theta_1(t), t)**2 - 1.0*L_1**2*m_2*sin(\\theta_2(t))*Derivative(\\theta_1(t), t)**2 - 1.0*L_1*L_2*m_2*sin(2*\\theta_2(t))*Derivative(\\theta_1(t), t)**2 - 1.0*L_1*L_2*m_2*sin(2*\\theta_2(t))*Derivative(\\theta_1(t), t)*Derivative(\\theta_2(t), t) - 0.5*L_1*L_2*m_2*sin(2*\\theta_2(t))*Derivative(\\theta_2(t), t)**2 + 0.5*L_1*g*m_1*sin(\\theta_1(t) - \\theta_2(t)) - 0.5*L_1*g*m_1*sin(\\theta_1(t) + \\theta_2(t)) + 0.5*L_1*g*m_2*sin(\\theta_1(t) - \\theta_2(t)) - 0.5*L_1*g*m_2*sin(\\theta_1(t) + \\theta_2(t)) - 1.0*L_2**2*m_2*sin(\\theta_2(t))*Derivative(\\theta_1(t), t)**2 - 2.0*L_2**2*m_2*sin(\\theta_2(t))*Derivative(\\theta_1(t), t)*Derivative(\\theta_2(t), t) - 1.0*L_2**2*m_2*sin(\\theta_2(t))*Derivative(\\theta_2(t), t)**2 + 1.0*L_2*g*m_1*sin(\\theta_1(t)) - 0.5*L_2*g*m_2*sin(\\theta_1(t) + 2*\\theta_2(t)) + 0.5*L_2*g*m_2*sin(\\theta_1(t)))/(L_1*L_2*(2*m_1 - m_2*cos(2*\\theta_2(t)) + m_2)))"
      ]
     },
     "metadata": {},
     "output_type": "display_data"
    }
   ],
   "source": [
    "#compute + solve Euler-Lagrange equations\n",
    "\n",
    "q = sym.Matrix([theta1, theta2])\n",
    "qd = q.diff(t)\n",
    "qdd = qd.diff(t)\n",
    "\n",
    "eqn = compute_EL(lagrangian, q)\n",
    "eqn = eqn.simplify()\n",
    "\n",
    "print(\"Euler-Lagrange equations:\")\n",
    "display(eqn)\n",
    "\n",
    "solved_eqns = solve_EL(eqn, qdd)\n",
    "simplified_eqns = []\n",
    "\n",
    "print(\"Solved:\")\n",
    "for eq in solved_eqns:\n",
    "    eq_new = eq.simplify()\n",
    "    simplified_eqns.append(eq_new)\n",
    "    display(eq_new)"
   ]
  },
  {
   "cell_type": "code",
   "execution_count": 29,
   "metadata": {},
   "outputs": [
    {
     "name": "stdout",
     "output_type": "stream",
     "text": [
      "Theta1dd and Theta1dd with constants substituted in:\n"
     ]
    },
    {
     "data": {
      "text/latex": [
       "$\\displaystyle \\frac{d^{2}}{d t^{2}} \\theta_{1}{\\left(t \\right)} = \\frac{4.9 \\sin{\\left(\\theta_{1}{\\left(t \\right)} + 2 \\theta_{2}{\\left(t \\right)} \\right)} - 14.7 \\sin{\\left(\\theta_{1}{\\left(t \\right)} \\right)} + 1.0 \\sin{\\left(\\theta_{2}{\\left(t \\right)} \\right)} \\left(\\frac{d}{d t} \\theta_{1}{\\left(t \\right)}\\right)^{2} + 2.0 \\sin{\\left(\\theta_{2}{\\left(t \\right)} \\right)} \\frac{d}{d t} \\theta_{1}{\\left(t \\right)} \\frac{d}{d t} \\theta_{2}{\\left(t \\right)} + 1.0 \\sin{\\left(\\theta_{2}{\\left(t \\right)} \\right)} \\left(\\frac{d}{d t} \\theta_{2}{\\left(t \\right)}\\right)^{2} + 0.5 \\sin{\\left(2 \\theta_{2}{\\left(t \\right)} \\right)} \\left(\\frac{d}{d t} \\theta_{1}{\\left(t \\right)}\\right)^{2}}{\\sin^{2}{\\left(\\theta_{2}{\\left(t \\right)} \\right)} + 1}$"
      ],
      "text/plain": [
       "Eq(Derivative(\\theta_1(t), (t, 2)), (4.9*sin(\\theta_1(t) + 2*\\theta_2(t)) - 14.7*sin(\\theta_1(t)) + 1.0*sin(\\theta_2(t))*Derivative(\\theta_1(t), t)**2 + 2.0*sin(\\theta_2(t))*Derivative(\\theta_1(t), t)*Derivative(\\theta_2(t), t) + 1.0*sin(\\theta_2(t))*Derivative(\\theta_2(t), t)**2 + 0.5*sin(2*\\theta_2(t))*Derivative(\\theta_1(t), t)**2)/(sin(\\theta_2(t))**2 + 1))"
      ]
     },
     "metadata": {},
     "output_type": "display_data"
    },
    {
     "data": {
      "text/latex": [
       "$\\displaystyle \\frac{d^{2}}{d t^{2}} \\theta_{2}{\\left(t \\right)} = \\frac{2 \\cdot \\left(9.8 \\sin{\\left(\\theta_{1}{\\left(t \\right)} - \\theta_{2}{\\left(t \\right)} \\right)} - 9.8 \\sin{\\left(\\theta_{1}{\\left(t \\right)} + \\theta_{2}{\\left(t \\right)} \\right)} - 4.9 \\sin{\\left(\\theta_{1}{\\left(t \\right)} + 2 \\theta_{2}{\\left(t \\right)} \\right)} + 14.7 \\sin{\\left(\\theta_{1}{\\left(t \\right)} \\right)} - 3.0 \\sin{\\left(\\theta_{2}{\\left(t \\right)} \\right)} \\left(\\frac{d}{d t} \\theta_{1}{\\left(t \\right)}\\right)^{2} - 2.0 \\sin{\\left(\\theta_{2}{\\left(t \\right)} \\right)} \\frac{d}{d t} \\theta_{1}{\\left(t \\right)} \\frac{d}{d t} \\theta_{2}{\\left(t \\right)} - 1.0 \\sin{\\left(\\theta_{2}{\\left(t \\right)} \\right)} \\left(\\frac{d}{d t} \\theta_{2}{\\left(t \\right)}\\right)^{2} - 1.0 \\sin{\\left(2 \\theta_{2}{\\left(t \\right)} \\right)} \\left(\\frac{d}{d t} \\theta_{1}{\\left(t \\right)}\\right)^{2} - 1.0 \\sin{\\left(2 \\theta_{2}{\\left(t \\right)} \\right)} \\frac{d}{d t} \\theta_{1}{\\left(t \\right)} \\frac{d}{d t} \\theta_{2}{\\left(t \\right)} - 0.5 \\sin{\\left(2 \\theta_{2}{\\left(t \\right)} \\right)} \\left(\\frac{d}{d t} \\theta_{2}{\\left(t \\right)}\\right)^{2}\\right)}{3 - \\cos{\\left(2 \\theta_{2}{\\left(t \\right)} \\right)}}$"
      ],
      "text/plain": [
       "Eq(Derivative(\\theta_2(t), (t, 2)), 2*(9.8*sin(\\theta_1(t) - \\theta_2(t)) - 9.8*sin(\\theta_1(t) + \\theta_2(t)) - 4.9*sin(\\theta_1(t) + 2*\\theta_2(t)) + 14.7*sin(\\theta_1(t)) - 3.0*sin(\\theta_2(t))*Derivative(\\theta_1(t), t)**2 - 2.0*sin(\\theta_2(t))*Derivative(\\theta_1(t), t)*Derivative(\\theta_2(t), t) - 1.0*sin(\\theta_2(t))*Derivative(\\theta_2(t), t)**2 - 1.0*sin(2*\\theta_2(t))*Derivative(\\theta_1(t), t)**2 - 1.0*sin(2*\\theta_2(t))*Derivative(\\theta_1(t), t)*Derivative(\\theta_2(t), t) - 0.5*sin(2*\\theta_2(t))*Derivative(\\theta_2(t), t)**2)/(3 - cos(2*\\theta_2(t))))"
      ]
     },
     "metadata": {},
     "output_type": "display_data"
    }
   ],
   "source": [
    "# You can start your implementation here :)\n",
    "\n",
    "consts_dict = {\n",
    "    m1: 1,\n",
    "    m2: 1,\n",
    "    L1: 1,\n",
    "    L2: 1,\n",
    "    g:  9.8\n",
    "}\n",
    "\n",
    "theta1dd_sy = simplified_eqns[0]\n",
    "theta2dd_sy = simplified_eqns[1]\n",
    "\n",
    "theta1dd_sy = theta1dd_sy.subs(consts_dict)\n",
    "theta2dd_sy = theta2dd_sy.subs(consts_dict)\n",
    "\n",
    "print(\"Theta1dd and Theta1dd with constants substituted in:\")\n",
    "display(theta1dd_sy)\n",
    "display(theta2dd_sy)\n",
    "\n",
    "q_ext = sym.Matrix([theta1, theta2, theta1d, theta2d])\n",
    "theta1dd_np = sym.lambdify(q_ext, theta1dd_sy.rhs)\n",
    "theta2dd_np = sym.lambdify(q_ext, theta2dd_sy.rhs)"
   ]
  },
  {
   "cell_type": "code",
   "execution_count": 31,
   "metadata": {},
   "outputs": [
    {
     "name": "stdout",
     "output_type": "stream",
     "text": [
      "Values of theta1dd and theta2dd at t0 with ICs:\n",
      "7.274613391789283s^-2\n",
      "-2.42s^-2\n"
     ]
    }
   ],
   "source": [
    "#simulate system using initial conditions\n",
    "th0 = float(-sym.pi/3.0)\n",
    "s0 = [th0, th0, 0, 0]\n",
    "t_span = [0, 3]\n",
    "dt = 0.01\n",
    "\n",
    "print(\"Values of theta1dd and theta2dd at t0 with ICs:\")\n",
    "print(str(theta1dd_np(*s0)) + \"s^-2\")\n",
    "print(str(round(theta2dd_np(*s0), 2)) + \"s^-2\")"
   ]
  },
  {
   "cell_type": "code",
   "execution_count": 34,
   "metadata": {},
   "outputs": [
    {
     "name": "stdout",
     "output_type": "stream",
     "text": [
      "shape of trajectory:  (4, 300)\n"
     ]
    },
    {
     "data": {
      "text/plain": [
       "Text(0.5, 1.0, 'Position of Double Pendulum over Time')"
      ]
     },
     "execution_count": 34,
     "metadata": {},
     "output_type": "execute_result"
    },
    {
     "data": {
      "image/png": "[encoded data removed]",
      "text/plain": [
       "<Figure size 640x480 with 1 Axes>"
      ]
     },
     "metadata": {},
     "output_type": "display_data"
    }
   ],
   "source": [
    "# You can start your implementation here :)\n",
    "def dxdt(t, s):\n",
    "    return np.array([s[2], s[3], theta1dd_np(*s), theta2dd_np(*s)])\n",
    "\n",
    "#use rk4 for numerical integration\n",
    "q_array = simulate(dxdt, s0, t_span, dt, rk4)\n",
    "print('shape of trajectory: ', q_array.shape)\n",
    "\n",
    "#plot\n",
    "t_array = np.linspace(t_span[0], t_span[1], len(q_array[1]))\n",
    "theta1_array = q_array[0]\n",
    "theta2_array = q_array[1]\n",
    "\n",
    "plt.plot(t_array, theta1_array)\n",
    "plt.plot(t_array, theta2_array)\n",
    "\n",
    "plt.xlabel(\"Time (seconds)\")\n",
    "plt.ylabel(\"Angle (radians)\")\n",
    "plt.title(\"Position of Double Pendulum over Time\")"
   ]
  },
  {
   "cell_type": "markdown",
   "metadata": {
    "id": "qQ7pB_M5M3Tx"
   },
   "source": [
    "## Problem 5 (20pts)\n",
    "\n",
    "Modify the previous animation function for the double-pendulum such that the animation shows the frames you defined in the last problem (it's similar to the ``tf`` in RViz, if you're familiar with ROS). All the *x axes* should be displayed in <font color='green'>green</font> and all the *y axes* should be displayed in <font color='red'>red</font>, with axis's length of 0.3 for all. An animation example can be found at [https://youtu.be/2H3KvRWQqys](https://youtu.be/2H3KvRWQqys). <u>Do not use functions provided in the modern robotics package for manipulating transformation matrices such as RpToTrans(), etc. </u>\n",
    "\n",
    "> Hint 1: Each axis can be considered as a line connecting the origin and the point $[0.3, 0]$ or $[0, 0.3]$ in that frame. You will need to use the homogeneous transformations to transfer these two axis/points back into the world/fixed frame. Example code showing how to display one frame is provided below.\n",
    "\n",
    "**Turn in: Include a copy of your code used for animation and a video of the animation. The video can be uploaded separately through Canvas, and it should be in \".mp4\" format. You can either use screen capture or record the screen directly with your phone.**"
   ]
  },
  {
   "cell_type": "code",
   "execution_count": null,
   "metadata": {
    "id": "nB8NeWAGM3Tz"
   },
   "outputs": [],
   "source": [
    "def animate_double_pend(theta_array,L1=1,L2=1,T=10):\n",
    "    \"\"\"\n",
    "    Function to generate web-based animation of double-pendulum system\n",
    "\n",
    "    Parameters:\n",
    "    ================================================\n",
    "    theta_array:\n",
    "        trajectory of theta1 and theta2, should be a NumPy array with\n",
    "        shape of (2,N)\n",
    "    L1:\n",
    "        length of the first pendulum\n",
    "    L2:\n",
    "        length of the second pendulum\n",
    "    T:\n",
    "        length/seconds of animation duration\n",
    "\n",
    "    Returns: None\n",
    "    \"\"\"\n",
    "\n",
    "    ################################\n",
    "    # Imports required for animation.\n",
    "    from plotly.offline import init_notebook_mode, iplot\n",
    "    from IPython.display import display, HTML\n",
    "    import plotly.graph_objects as go\n",
    "\n",
    "    #######################\n",
    "    # Browser configuration.\n",
    "    def configure_plotly_browser_state():\n",
    "        import IPython\n",
    "        display(IPython.core.display.HTML('''\n",
    "            <script src=\"/static/components/requirejs/require.js\"></script>\n",
    "            <script>\n",
    "              requirejs.config({\n",
    "                paths: {\n",
    "                  base: '/static/base',\n",
    "                  plotly: 'https://cdn.plot.ly/plotly-1.5.1.min.js?noext',\n",
    "                },\n",
    "              });\n",
    "            </script>\n",
    "            '''))\n",
    "    configure_plotly_browser_state()\n",
    "    init_notebook_mode(connected=False)\n",
    "\n",
    "    ###############################################\n",
    "    # Getting data from pendulum angle trajectories.\n",
    "    xx1=L1*np.sin(theta_array[0])\n",
    "    yy1=-L1*np.cos(theta_array[0])\n",
    "    xx2=xx1+L2*np.sin(theta_array[0]+theta_array[1])\n",
    "    yy2=yy1-L2*np.cos(theta_array[0]+theta_array[1])\n",
    "    N = len(theta_array[0]) # Need this for specifying length of simulation\n",
    "\n",
    "    ###############################################\n",
    "    # Define arrays containing data for frame axes\n",
    "    # In each frame, the x and y axis are always fixed\n",
    "    x_axis = np.array([0.3, 0.0])\n",
    "    y_axis = np.array([0.0, 0.3])\n",
    "    # Use homogeneous tranformation to transfer these two axes/points\n",
    "    # back to the fixed frame\n",
    "    frame_a_x_axis = np.zeros((2,N))\n",
    "    frame_a_y_axis = np.zeros((2,N))\n",
    "    for i in range(N): # iteration through each time step\n",
    "        # evaluate homogeneous transformation\n",
    "        t_wa = np.array([[np.cos(theta_array[0][i]), -np.sin(theta_array[0][i]), 0],\n",
    "                         [np.sin(theta_array[0][i]),  np.cos(theta_array[0][i]), 0],\n",
    "                         [                        0,                          0, 1]])\n",
    "        # transfer the x and y axes in body frame back to fixed frame at \n",
    "        # the current time step\n",
    "        frame_a_x_axis[:,i] = t_wa.dot([x_axis[0], x_axis[1], 1])[0:2]\n",
    "        frame_a_y_axis[:,i] = t_wa.dot([y_axis[0], y_axis[1], 1])[0:2]\n",
    "\n",
    "    ####################################\n",
    "    # Using these to specify axis limits.\n",
    "    xm = -3 #np.min(xx1)-0.5\n",
    "    xM = 3 #np.max(xx1)+0.5\n",
    "    ym = -3 #np.min(yy1)-2.5\n",
    "    yM = 3 #np.max(yy1)+1.5\n",
    "\n",
    "    ###########################\n",
    "    # Defining data dictionary.\n",
    "    # Trajectories are here.\n",
    "    data=[\n",
    "        # note that except for the trajectory (which you don't need this time),\n",
    "        # you don't need to define entries other than \"name\". The items defined\n",
    "        # in this list will be related to the items defined in the \"frames\" list\n",
    "        # later in the same order. Therefore, these entries can be considered as \n",
    "        # labels for the components in each animation frame\n",
    "        dict(name='Arm'),\n",
    "        dict(name='Mass 1'),\n",
    "        dict(name='Mass 2'),\n",
    "        dict(name='World Frame X'),\n",
    "        dict(name='World Frame Y'),\n",
    "        dict(name='A Frame X Axis'),\n",
    "        dict(name='A Frame Y Axis'),\n",
    "\n",
    "        # You don't need to show trajectory this time,\n",
    "        # but if you want to show the whole trajectory in the animation (like what\n",
    "        # you did in previous homeworks), you will need to define entries other than \n",
    "        # \"name\", such as \"x\", \"y\". and \"mode\".\n",
    "\n",
    "        # dict(x=xx1, y=yy1, \n",
    "        #      mode='markers', name='Pendulum 1 Traj', \n",
    "        #      marker=dict(color=\"fuchsia\", size=2)\n",
    "        #     ),\n",
    "        # dict(x=xx2, y=yy2, \n",
    "        #      mode='markers', name='Pendulum 2 Traj', \n",
    "        #      marker=dict(color=\"purple\", size=2)\n",
    "        #     ),\n",
    "        ]\n",
    "\n",
    "    ################################\n",
    "    # Preparing simulation layout.\n",
    "    # Title and axis ranges are here.\n",
    "    layout=dict(autosize=False, width=1000, height=1000,\n",
    "                xaxis=dict(range=[xm, xM], autorange=False, zeroline=False,dtick=1),\n",
    "                yaxis=dict(range=[ym, yM], autorange=False, zeroline=False,scaleanchor = \"x\",dtick=1),\n",
    "                title='Double Pendulum Simulation', \n",
    "                hovermode='closest',\n",
    "                updatemenus= [{'type': 'buttons',\n",
    "                               'buttons': [{'label': 'Play','method': 'animate',\n",
    "                                            'args': [None, {'frame': {'duration': T, 'redraw': False}}]},\n",
    "                                           {'args': [[None], {'frame': {'duration': T, 'redraw': False}, 'mode': 'immediate',\n",
    "                                            'transition': {'duration': 0}}],'label': 'Pause','method': 'animate'}\n",
    "                                          ]\n",
    "                              }]\n",
    "               )\n",
    "\n",
    "    ########################################\n",
    "    # Defining the frames of the simulation.\n",
    "    # This is what draws the lines from\n",
    "    # joint to joint of the pendulum.\n",
    "    frames=[dict(data=[# first three objects correspond to the arms and two masses,\n",
    "                       # same order as in the \"data\" variable defined above (thus \n",
    "                       # they will be labeled in the same order)\n",
    "                       dict(x=[0,xx1[k],xx2[k]], \n",
    "                            y=[0,yy1[k],yy2[k]], \n",
    "                            mode='lines',\n",
    "                            line=dict(color='orange', width=3),\n",
    "                            ),\n",
    "                       go.Scatter(\n",
    "                            x=[xx1[k]],\n",
    "                            y=[yy1[k]],\n",
    "                            mode=\"markers\",\n",
    "                            marker=dict(color=\"blue\", size=12)),\n",
    "                       go.Scatter(\n",
    "                            x=[xx2[k]],\n",
    "                            y=[yy2[k]],\n",
    "                            mode=\"markers\",\n",
    "                            marker=dict(color=\"blue\", size=12)),\n",
    "                       # display x and y axes of the fixed frame in each animation frame\n",
    "                       dict(x=[0,x_axis[0]], \n",
    "                            y=[0,x_axis[1]], \n",
    "                            mode='lines',\n",
    "                            line=dict(color='green', width=3),\n",
    "                            ),\n",
    "                       dict(x=[0,y_axis[0]], \n",
    "                            y=[0,y_axis[1]], \n",
    "                            mode='lines',\n",
    "                            line=dict(color='red', width=3),\n",
    "                            ),\n",
    "                       # display x and y axes of the {A} frame in each animation frame\n",
    "                       dict(x=[0, frame_a_x_axis[0][k]], \n",
    "                            y=[0, frame_a_x_axis[1][k]], \n",
    "                            mode='lines',\n",
    "                            line=dict(color='green', width=3),\n",
    "                            ),\n",
    "                       dict(x=[0, frame_a_y_axis[0][k]], \n",
    "                            y=[0, frame_a_y_axis[1][k]],\n",
    "                            mode='lines',\n",
    "                            line=dict(color='red', width=3),\n",
    "                            ),\n",
    "                      ]) for k in range(N)]\n",
    "\n",
    "    #######################################\n",
    "    # Putting it all together and plotting.\n",
    "    figure1=dict(data=data, layout=layout, frames=frames)           \n",
    "    iplot(figure1)"
   ]
  },
  {
   "cell_type": "code",
   "execution_count": null,
   "metadata": {
    "id": "jBnHi-tSM3T6"
   },
   "outputs": [],
   "source": []
  }
 ],
 "metadata": {
  "colab": {
   "collapsed_sections": [],
   "provenance": []
  },
  "kernelspec": {
   "display_name": "Python 3 (ipykernel)",
   "language": "python",
   "name": "python3"
  },
  "language_info": {
   "codemirror_mode": {
    "name": "ipython",
    "version": 3
   },
   "file_extension": ".py",
   "mimetype": "text/x-python",
   "name": "python",
   "nbconvert_exporter": "python",
   "pygments_lexer": "ipython3",
   "version": "3.10.7"
  }
 },
 "nbformat": 4,
 "nbformat_minor": 1
}
