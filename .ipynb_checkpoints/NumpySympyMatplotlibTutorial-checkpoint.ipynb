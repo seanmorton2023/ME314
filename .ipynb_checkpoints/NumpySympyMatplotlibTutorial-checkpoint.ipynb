{
 "cells": [
  {
   "cell_type": "markdown",
   "metadata": {
    "id": "rL7I7livE5Sd"
   },
   "source": [
    "# Numpy, Sympy, and Matplotlib Tutorial for Spring 2022 ME 314\n",
    "In this tutorial we will be looking into the libraries that you will need to use in order to complete your homeworks. Again, if you want to make your own edits to this notebook, you will have to save your own copy of it.\n",
    "\n",
    "*   Numpy is a numerical computation library. It has access to most math tools you'll need to make numerical calculations.\n",
    "*   Sympy is a symbolic computation library. It handles equations and can solve for variables much in the same way you do by hand. It can also do much more than just that so get comfortable with it.\n",
    "*   Matplotlib is a plotting library. While there are other options (particularly for use with notebooks) this is a great plotting library that gives you a lot of freedom to make nice plots.\n",
    "\n"
   ]
  },
  {
   "cell_type": "markdown",
   "metadata": {
    "id": "PumMdpL1Ggss"
   },
   "source": [
    "## Importing Modules\n",
    "Here you can see how you include the libraries. Colaboratory already has them all installed for you. The basic importing command is \"import *library*\""
   ]
  },
  {
   "cell_type": "code",
   "execution_count": null,
   "metadata": {
    "id": "Qnf4IBTGGf4b"
   },
   "outputs": [],
   "source": [
    "import numpy as me314_np\n",
    "import numpy as np\n",
    "import sympy as sym\n",
    "\n",
    "print(\"check sympy version to make sure it's newer than 1.6: \", sym.__version__)\n",
    "\n",
    "# This command below is a type of command that's unique to Jupyter notebooks, \n",
    "# it tells the notebook how to display plotsfrom matplotlib. Don't mess with it.\n",
    "%matplotlib inline \n",
    "import matplotlib.pyplot as plt"
   ]
  },
  {
   "cell_type": "markdown",
   "metadata": {
    "id": "JPdOt7J9IVCA"
   },
   "source": [
    "However, as you note above, I'm using \"import sympy as sym\" and so on. The \"sym\" is called the namespace of the library. This means that if we want to use any of Sympy's functions we'd have to use \"sym.var('x')\" for instance. "
   ]
  },
  {
   "cell_type": "markdown",
   "metadata": {
    "id": "GDl5yDt3JH0S"
   },
   "source": [
    "### Quick Note on Printing\n",
    "At the top of all your homework files I include the code below, which enables pretty printing when using Sympy. This is gonna make all your equations look very nice directly as an output of your code. Don't change it."
   ]
  },
  {
   "cell_type": "code",
   "execution_count": null,
   "metadata": {
    "id": "q1UspKLBJMgp"
   },
   "outputs": [],
   "source": [
    "def custom_latex_printer(exp,**options):\n",
    "    from google.colab.output._publish import javascript\n",
    "    url = \"https://cdnjs.cloudflare.com/ajax/libs/mathjax/2.7.3/latest.js?config=default\"\n",
    "    javascript(url=url)\n",
    "    return sym.printing.latex(exp,**options)\n",
    "sym.init_printing(use_latex=\"mathjax\",latex_printer=custom_latex_printer)"
   ]
  },
  {
   "cell_type": "markdown",
   "metadata": {
    "id": "mkt7sSRKKOXf"
   },
   "source": [
    "## Numpy"
   ]
  },
  {
   "cell_type": "markdown",
   "metadata": {
    "id": "AzjyoJaPM_PF"
   },
   "source": [
    "### Arrays\n",
    "Ok, so we're gonna start with Numpy arrays. While numpy does in fact have a matrix variable type, arrays are most versatile. Let's define an array below:"
   ]
  },
  {
   "cell_type": "code",
   "execution_count": null,
   "metadata": {
    "id": "LSe_dLRvKNU9"
   },
   "outputs": [],
   "source": [
    "A = np.array([[1.,2.,3.],[4.,5.,6.],[7.,8.,9.]])\n",
    "print(A)"
   ]
  },
  {
   "cell_type": "markdown",
   "metadata": {
    "id": "Np8PyoeZLNNP"
   },
   "source": [
    "These arrays are indexed in the usual way that we index arrays, with a comma separating the coordinates."
   ]
  },
  {
   "cell_type": "code",
   "execution_count": null,
   "metadata": {
    "id": "S1q_bPmkLC7Q"
   },
   "outputs": [],
   "source": [
    "print(A[0,1])"
   ]
  },
  {
   "cell_type": "markdown",
   "metadata": {
    "id": "0_Wcy6pcLSuk"
   },
   "source": [
    "Note that numpy has similar types to those used by standard Python, but they are slightly different:"
   ]
  },
  {
   "cell_type": "code",
   "execution_count": null,
   "metadata": {
    "id": "kIRwT8OdLrlK"
   },
   "outputs": [],
   "source": [
    "type(A[0,1])"
   ]
  },
  {
   "cell_type": "markdown",
   "metadata": {
    "id": "DSWhiTvZLrTr"
   },
   "source": [
    "Here's an important note on matrix/vector multiplication:"
   ]
  },
  {
   "cell_type": "code",
   "execution_count": null,
   "metadata": {
    "id": "oy83WhKWKnIx"
   },
   "outputs": [],
   "source": [
    "print(\"Element-wise mult:\")\n",
    "print(A*A,'\\n')\n",
    "print(\"Matrix mult:\")\n",
    "print(A.dot(A))\n",
    "print(np.dot(A,A))"
   ]
  },
  {
   "cell_type": "code",
   "execution_count": null,
   "metadata": {
    "id": "LOs27DlKbwha"
   },
   "outputs": [],
   "source": [
    "# things are even more interesting on vectors\n",
    "a = np.array([1, 2, 3])\n",
    "b = np.array([1, 2, 3])\n",
    "\n",
    "# element-wise multiplication\n",
    "print(a * b)\n",
    "\n",
    "# Matrix multiplication between a 1-by-3 vector and a 3-by-1 vector\n",
    "print(a.dot(b))\n",
    "\n",
    "# Matrix multiplication between a 3-by-1 vector and a 1-by-3 vector\n",
    "print(np.outer(a,b))\n",
    "print(a.reshape(3,1) * b)"
   ]
  },
  {
   "cell_type": "markdown",
   "metadata": {
    "id": "GCkYfam7L9F5"
   },
   "source": [
    "If you want to do matrix multiplication you have to use A.dot(B), or equivalently, np.dot(A,B). If you use the multiplication symbol then you will do element-wise multiplication instead. Note how this is the opposite of matlab.\n",
    "\n",
    "To do a matrix transpose is quite simple as well:"
   ]
  },
  {
   "cell_type": "code",
   "execution_count": null,
   "metadata": {
    "id": "5jfT-qeNLc0K"
   },
   "outputs": [],
   "source": [
    "print(A)\n",
    "print(A.T)"
   ]
  },
  {
   "cell_type": "markdown",
   "metadata": {
    "id": "NmfhCapPMo4B"
   },
   "source": [
    "Another useful trick is that you can check the shape of a numpy array by doing:"
   ]
  },
  {
   "cell_type": "code",
   "execution_count": null,
   "metadata": {
    "id": "x7sgii3ZMN86"
   },
   "outputs": [],
   "source": [
    "print(A.shape)\n",
    "print(a.shape)\n",
    "print(a.T.shape)"
   ]
  },
  {
   "cell_type": "markdown",
   "metadata": {
    "id": "zWdCoSaHPT_o"
   },
   "source": [
    "Most math functions that you'll need should be immediately available within numpy. Here's just a couple for example:"
   ]
  },
  {
   "cell_type": "code",
   "execution_count": null,
   "metadata": {
    "id": "Gmh7Zi_UMt5S"
   },
   "outputs": [],
   "source": [
    "print(np.log(A),'\\n') # Natural log (element-wise)\n",
    "print(np.exp(A),'\\n') # Exponential (element-wise)\n",
    "print(np.sin(A),'\\n') # Sine (element-wise)\n",
    "print(np.sqrt(A),'\\n') # Square root (element-wise)"
   ]
  },
  {
   "cell_type": "markdown",
   "metadata": {
    "id": "2JkLbAQxQRPC"
   },
   "source": [
    "### Useful Functions\n",
    "Here I'm just highlighting some useful functions that you may use in your homeowrks that aren't obviously available within a math toolbox.\n",
    "\n",
    "When you need a matrix of a certain shape full of zeros you can do the following:"
   ]
  },
  {
   "cell_type": "code",
   "execution_count": null,
   "metadata": {
    "id": "x55fdmnsPe5T"
   },
   "outputs": [],
   "source": [
    "desired_shape = (3,4)\n",
    "print(np.zeros(desired_shape))"
   ]
  },
  {
   "cell_type": "markdown",
   "metadata": {
    "id": "PaLi0K3OQtf3"
   },
   "source": [
    "You can do the same for ones:"
   ]
  },
  {
   "cell_type": "code",
   "execution_count": null,
   "metadata": {
    "id": "ADHHdhCuQpyi"
   },
   "outputs": [],
   "source": [
    "desired_shape = (3,4)\n",
    "print(np.ones(desired_shape))"
   ]
  },
  {
   "cell_type": "markdown",
   "metadata": {
    "id": "Tc_OM5b_Qy0n"
   },
   "source": [
    "You can also define a diagonal matrix by supplying just a vector:"
   ]
  },
  {
   "cell_type": "code",
   "execution_count": null,
   "metadata": {
    "id": "SOds2LZBQwby"
   },
   "outputs": [],
   "source": [
    "diagonal = [1,2,3,4]\n",
    "print(np.diag(diagonal))"
   ]
  },
  {
   "cell_type": "markdown",
   "metadata": {
    "id": "f-JUPUtGRO3P"
   },
   "source": [
    "I'll note that if you ever need to use linear algebra with arrays, you need to use numpy's linear algebra submodule linalg. Here's how you'd calculate a determinant of the matrix above:"
   ]
  },
  {
   "cell_type": "code",
   "execution_count": null,
   "metadata": {
    "id": "Xt0nPjTfQ-PK"
   },
   "outputs": [],
   "source": [
    "diagonal = [1,2,3,4]\n",
    "mat = np.diag(diagonal)\n",
    "print(np.linalg.det(mat))"
   ]
  },
  {
   "cell_type": "markdown",
   "metadata": {
    "id": "_2rejQgBRpHS"
   },
   "source": [
    "If you want to round floating point numbers with long decimals as above, you could use the following function:"
   ]
  },
  {
   "cell_type": "code",
   "execution_count": null,
   "metadata": {
    "id": "uOOlWQYaRkjW"
   },
   "outputs": [],
   "source": [
    "decimal_places = 2\n",
    "print(np.round(np.linalg.det(mat),decimal_places))"
   ]
  },
  {
   "cell_type": "markdown",
   "metadata": {
    "id": "ICzVyzcLSW_d"
   },
   "source": [
    "When you need to define a range of numbers you can use the linspace function:"
   ]
  },
  {
   "cell_type": "code",
   "execution_count": null,
   "metadata": {
    "id": "TrvvZK_xR0cL"
   },
   "outputs": [],
   "source": [
    "range_begin = 0\n",
    "range_end = 1\n",
    "num_points = 11\n",
    "print(np.linspace(range_begin, range_end, num_points))"
   ]
  },
  {
   "cell_type": "markdown",
   "metadata": {
    "id": "rjCScVC_dEjd"
   },
   "source": [
    "NumPy also has a similar function to Python's built-in range method, but it's more flexible, and different from \"range()\", NumPy's \"arange()\" can return an array directly."
   ]
  },
  {
   "cell_type": "code",
   "execution_count": null,
   "metadata": {
    "id": "Qub0XnNMdJ60"
   },
   "outputs": [],
   "source": [
    "range_begin = 0\n",
    "range_end = 1\n",
    "interval = 0.1\n",
    "print(np.arange(range_begin, range_end+interval, interval))"
   ]
  },
  {
   "cell_type": "markdown",
   "metadata": {
    "id": "WDGe8VrGTMSb"
   },
   "source": [
    "## Sympy\n",
    "Since this is a dynamics course where things vary in time, we usually begin by defining an immutable variable to represent time at the top of the file in the import section of our file. However, we will just do that here in this case. "
   ]
  },
  {
   "cell_type": "code",
   "execution_count": null,
   "metadata": {
    "id": "vAG-QemKSs3K"
   },
   "outputs": [],
   "source": [
    "from sympy.abc import t, a, b, c\n",
    "display(t, a, b, c)"
   ]
  },
  {
   "cell_type": "markdown",
   "metadata": {
    "id": "Nwl3uGlmUJlY"
   },
   "source": [
    "### Symbols and Functions\n",
    "Let's start by looking at symbols and functions. Symbols are used for when you want to represent quantities that do not depend on other things, such as constants. "
   ]
  },
  {
   "cell_type": "code",
   "execution_count": null,
   "metadata": {
    "id": "yRJydyM0U-TZ"
   },
   "outputs": [],
   "source": [
    "m, L, g, theta = sym.symbols(r'm L g, \\theta') # r'' means raw string\n",
    "display(m, L, g, theta)"
   ]
  },
  {
   "cell_type": "markdown",
   "metadata": {
    "id": "Y28k637HVSHp"
   },
   "source": [
    "Already with these symbols we can write expressions. To print sympy objects nicely, we do not use print(), we use display() instead. See below with this random expression of our symbols:"
   ]
  },
  {
   "cell_type": "code",
   "execution_count": null,
   "metadata": {
    "id": "tyhz6GTiVFrj"
   },
   "outputs": [],
   "source": [
    "expr = sym.sin((1/2)*m)+g**L\n",
    "display(expr)"
   ]
  },
  {
   "cell_type": "markdown",
   "metadata": {
    "id": "TUpXOeSMWaFs"
   },
   "source": [
    "Note here that we have to use Sympy's trigonometric functions which are NOT the same as numpy's. This is because Sympy needs thhe symbolic function, not the numerical one. Now let's define a function of time:"
   ]
  },
  {
   "cell_type": "code",
   "execution_count": null,
   "metadata": {
    "id": "u0GHFEsOVbUC"
   },
   "outputs": [],
   "source": [
    "theta = sym.Function(r'\\theta')(t)\n",
    "display(theta)"
   ]
  },
  {
   "cell_type": "markdown",
   "metadata": {
    "id": "BAyNE8SRXRCd"
   },
   "source": [
    "If you want to use greek letters in your equations, you will need to use the latex command for it in the function instantiation. This is stuff you can easily google, but generally it follows the same format as above. Now that we have a function (which we can equivalently interpret as a curve as stated in class), we can apply certain operations onto it. Most of the time this will just be a derivative:"
   ]
  },
  {
   "cell_type": "code",
   "execution_count": null,
   "metadata": {
    "id": "INQJ6OvjXCwT"
   },
   "outputs": [],
   "source": [
    "thetadot = theta.diff(t)\n",
    "display(thetadot)"
   ]
  },
  {
   "cell_type": "markdown",
   "metadata": {
    "id": "eXQVsoryYVKO"
   },
   "source": [
    "### Matrices and Derivatives\n",
    "We use Sympy's matrix function to define both matrices and vectors. For example, let's define a configuration vector using both $\\theta$ and $\\dot{\\theta}$:"
   ]
  },
  {
   "cell_type": "code",
   "execution_count": null,
   "metadata": {
    "id": "iCPO9vEtYEFQ"
   },
   "outputs": [],
   "source": [
    "q = sym.Matrix([theta,thetadot])\n",
    "display(q)\n",
    "print(\"Matrices/vectors have a shape too:\")\n",
    "display(q.shape)\n",
    "print(\"As well as a transpose:\")\n",
    "display(q.T)"
   ]
  },
  {
   "cell_type": "markdown",
   "metadata": {
    "id": "vhjIPfnRbwnV"
   },
   "source": [
    "We can also take the derivative of matrices with respect to variables such as time:"
   ]
  },
  {
   "cell_type": "code",
   "execution_count": null,
   "metadata": {
    "id": "p1rKONCAbVGX"
   },
   "outputs": [],
   "source": [
    "qdot = q.diff(t)\n",
    "display(qdot)"
   ]
  },
  {
   "cell_type": "markdown",
   "metadata": {
    "id": "uycMLc1icxHF"
   },
   "source": [
    "Normally, when you want the derivative of a vector with respect to another vector, you calculate a Jacobian matrix. That is also what you do here for such a situation. For example, say that we wanted the Jacobian of $[\\theta, \\dot{\\theta}]^T$ with respect to $[t, \\theta]^T$"
   ]
  },
  {
   "cell_type": "code",
   "execution_count": null,
   "metadata": {
    "id": "fHwZqSjab4ab"
   },
   "outputs": [],
   "source": [
    "import sympy as sym\n",
    "from sympy.abc import t\n",
    "from sympy import symbols, Function, Matrix, sin, cos\n",
    "\n",
    "# define two system states as functions\n",
    "x1 = Function(r'x_1')(t)\n",
    "x2 = Function(r'x_2')(t)\n",
    "# wrap system states into one vector (in SymPy would be Matrix)\n",
    "q = Matrix([x1, x2])\n",
    "# define an expression in terms of x1(t) and x2(t)\n",
    "J = sin(x1**2) + cos(x2)**2\n",
    "print('expression J: ')\n",
    "display(J)\n",
    "print('vector q:')\n",
    "display(q)\n",
    "\n",
    "# compute derivative wrt a vector, method 1\n",
    "# wrap the expression into a SymPy Matrix\n",
    "J_mat = Matrix([J])\n",
    "# SymPy Matrix has built-in method for Jacobian\n",
    "dJdq = J_mat.jacobian(q)\n",
    "print('Derivative of J wrt q: ')\n",
    "display(dJdq) # note that dJdq is 1-by-2 vector, not 2-by-1 as q\n",
    "\n",
    "# compute derivative wrt a vector, method 2: do it one by one\n",
    "dJdx1 = J.diff(x1)\n",
    "dJdx2 = J.diff(x2)\n",
    "dJdq = Matrix([dJdx1, dJdx2]).T # transpose so dimension can match\n",
    "print('Derivative of J wrt q: ')\n",
    "display(dJdq)\n",
    "\n",
    "# compute derivative wrt a vector, method 3: do it one by one ... but in a \"fancy\" way\n",
    "dJdq = []\n",
    "for x in q:\n",
    "    dJdq.append(J.diff(x))\n",
    "dJdq = Matrix([dJdq])\n",
    "print('Derivative of J wrt q: ')\n",
    "display(dJdq)"
   ]
  },
  {
   "cell_type": "markdown",
   "metadata": {
    "id": "TL7c6D6jtpaV"
   },
   "source": [
    "### Equations and Substitutions\n",
    "We will now be looking at specifiying equations. Sympy has an equation object that is very nice, and lets you define the left and right hand sides of equations as separated by a comma, see the simple example below for reference:"
   ]
  },
  {
   "cell_type": "code",
   "execution_count": null,
   "metadata": {
    "id": "cJYZe3Iae-aM"
   },
   "outputs": [],
   "source": [
    "my_eq = sym.Eq(thetadot,theta**2+g)\n",
    "display(my_eq)"
   ]
  },
  {
   "cell_type": "markdown",
   "metadata": {
    "id": "jw53UGk4uf-i"
   },
   "source": [
    "When you have an equation object, you can do several useful things, for example you can get the left hand side, or right hand side, or solve for a variable:"
   ]
  },
  {
   "cell_type": "code",
   "execution_count": null,
   "metadata": {
    "id": "Q8Pv7VvTuwax"
   },
   "outputs": [],
   "source": [
    "print(\"Left side:\")\n",
    "display(my_eq.lhs)\n",
    "print(\"Right side:\")\n",
    "display(my_eq.rhs)\n",
    "\n",
    "print(\"Solving for theta:\")\n",
    "my_eq_sol = sym.solve(my_eq, theta)\n",
    "display(my_eq_sol)"
   ]
  },
  {
   "cell_type": "markdown",
   "metadata": {
    "id": "AhqMZhHmvZ1i"
   },
   "source": [
    "As you can see there's two solutions to the equation I wrote down, and they are both represented in the list of solutions to the equation. \n",
    "\n",
    "If we wanted to make a substitution in an expression or equation it is very straight forward, see below:"
   ]
  },
  {
   "cell_type": "code",
   "execution_count": null,
   "metadata": {
    "id": "Bw9zSvey5V44"
   },
   "outputs": [],
   "source": [
    "dummy = sym.symbols('a')\n",
    "display(my_eq.subs(theta,dummy))"
   ]
  },
  {
   "cell_type": "markdown",
   "metadata": {
    "id": "ue-ki7SR5u63"
   },
   "source": [
    "If we wanted to substitute multiple variables at once we use the following syntax:"
   ]
  },
  {
   "cell_type": "code",
   "execution_count": null,
   "metadata": {
    "id": "vWbcvELm50EW"
   },
   "outputs": [],
   "source": [
    "dummy2 = sym.symbols('b')\n",
    "display(my_eq.subs({theta:dummy,g:dummy2})) # use dict when substituting multiple variables"
   ]
  },
  {
   "cell_type": "markdown",
   "metadata": {
    "id": "5b5xavKB3UnJ"
   },
   "source": [
    "### IMPORTANT: Solving Matrix Equations With Dummy Variables\n",
    "Generally, Sympy will have no issues solving matrix equations. But sometimes we will need to use what we call \"dummy variables\" instead of solving the equation directly (and you will need this trick in this course!).\n",
    "\n",
    "<!-- However, when the variables we are manipulating are functions and their derivatives Sympy runs into some issues that we can easily avoid with some foresight. -->\n",
    "\n",
    "Let's look at the matrix equation below:"
   ]
  },
  {
   "cell_type": "code",
   "execution_count": null,
   "metadata": {
    "id": "PPJwybGQv5kL"
   },
   "outputs": [],
   "source": [
    "q = sym.Matrix([theta, thetadot])\n",
    "qdot = q.diff(t)\n",
    "my_mat_eq = sym.Eq(qdot, sym.Matrix([-g+q[0],m*L*q[1]+1]))\n",
    "print('a set of two equation in matrix form:')\n",
    "display(my_mat_eq)\n",
    "print('variable set q to be solved:')\n",
    "display(q)"
   ]
  },
  {
   "cell_type": "markdown",
   "metadata": {
    "id": "Oi0AAbND4E4V"
   },
   "source": [
    "When we try to solve this equation for our configuration $q=[\\theta,\\dot{\\theta}]$, we get the following:"
   ]
  },
  {
   "cell_type": "code",
   "execution_count": null,
   "metadata": {
    "id": "_vvIAwBt4bOD"
   },
   "outputs": [],
   "source": [
    "sym.solve(my_mat_eq, q)"
   ]
  },
  {
   "cell_type": "markdown",
   "metadata": {
    "id": "CeIN3vFp4eYm"
   },
   "source": [
    "After V1.6, SymPy is able to solve the above the equation directly (previous version will return empty solution), but there is another way to solve this equation: We make a variable substitution to get rid of the derivative terms using dummy variables:"
   ]
  },
  {
   "cell_type": "code",
   "execution_count": null,
   "metadata": {
    "id": "E4o-OWju6Ozb"
   },
   "outputs": [],
   "source": [
    "v, vd = sym.symbols('v \\dot{v}') # dummy variables\n",
    "q_dummy = sym.Matrix([theta, v]) # dummy configuration\n",
    "qdot_dummy = sym.Matrix([v,vd]) # dummy configuration velocity\n",
    "my_mat_eq_dummy = my_mat_eq.subs({q[1]: q_dummy[1], qdot[0]:qdot_dummy[0],qdot[1]:qdot_dummy[1]}) # substitution\n",
    "display(my_mat_eq_dummy)"
   ]
  },
  {
   "cell_type": "markdown",
   "metadata": {
    "id": "Ceo3OjRw8Xid"
   },
   "source": [
    "As you can see, the equation above is functionally the same as the previous matrix equation with the derivatives of theta. The only difference is that we made the substitution $[\\dot{\\theta}, \\ddot{\\theta}]\\rightarrow[v, \\dot{v}]$. So let's see if we can solve it now:"
   ]
  },
  {
   "cell_type": "code",
   "execution_count": null,
   "metadata": {
    "id": "G36nHCkO8Wzq"
   },
   "outputs": [],
   "source": [
    "mat_eq_sols_dummy = sym.solve(my_mat_eq_dummy,q_dummy)\n",
    "display(mat_eq_sols_dummy)"
   ]
  },
  {
   "cell_type": "markdown",
   "metadata": {
    "id": "ti0-sCi59ijq"
   },
   "source": [
    "Note that when we solve matrix equations the solutions come back in a Python \"dictionary.\" This is another standard Python data structure, you can google it for more information. But basically, if you want to access the entry under \"$v$\", you have to index it with that variable. See below how we index it: "
   ]
  },
  {
   "cell_type": "code",
   "execution_count": null,
   "metadata": {
    "id": "I_Fm9Wsh9kQG"
   },
   "outputs": [],
   "source": [
    "sol1_dummy = mat_eq_sols_dummy[q_dummy[0]]\n",
    "sol2_dummy = mat_eq_sols_dummy[q_dummy[1]]\n",
    "print(\"Solution for\",q_dummy[0],':')\n",
    "display(sol1_dummy)\n",
    "print(\"Solution for\",q_dummy[1],':')\n",
    "display(sol2_dummy)"
   ]
  },
  {
   "cell_type": "markdown",
   "metadata": {
    "id": "qQ-1WGBCAMHL"
   },
   "source": [
    "Now if we want to get back to the solutions without our substitution, all we need to do is substitute the true variables back in, as seen below:"
   ]
  },
  {
   "cell_type": "code",
   "execution_count": null,
   "metadata": {
    "id": "1HeU7kVGAMqC"
   },
   "outputs": [],
   "source": [
    "sol1 = sol1_dummy.subs({qdot_dummy[0]:qdot[0],qdot_dummy[1]:qdot[1]})\n",
    "sol2 = sol2_dummy.subs({qdot_dummy[0]:qdot[0],qdot_dummy[1]:qdot[1]})\n",
    "print(\"Solution for\",q[0],':')\n",
    "display(sol1)\n",
    "print(\"Solution for\",q[1],':')\n",
    "display(sol2)"
   ]
  },
  {
   "cell_type": "markdown",
   "metadata": {
    "id": "cTgsSeWeCAKR"
   },
   "source": [
    "### IMPORTANT: Lambdifying Symbolic Expressions\n",
    "Lambdifying is Sympy's terminology for taking a symbolic expression and evaluating it numerically. This will be extremely important for you to complete any simulations in your homework assignments. So how is this done? Pretty easily for expressions that are not derivatives of functions, see below:"
   ]
  },
  {
   "cell_type": "code",
   "execution_count": null,
   "metadata": {
    "id": "xWfj3sxDDQuZ"
   },
   "outputs": [],
   "source": [
    "# Let's take one of the expressions we used before, \n",
    "# and substitute values for constants\n",
    "my_eq = sym.Eq(thetadot,theta**2+g)\n",
    "print('original equation:')\n",
    "display(my_eq)\n",
    "\n",
    "fun = my_eq.rhs.subs(g,9.81) \n",
    "print('fun: ')\n",
    "display(fun)\n",
    "lam_fun = sym.lambdify(theta,fun)\n",
    "print('type of lam_fun: ', type(lam_fun))"
   ]
  },
  {
   "cell_type": "markdown",
   "metadata": {
    "id": "tZRux9FzEq8I"
   },
   "source": [
    "Let's evaluate it now:"
   ]
  },
  {
   "cell_type": "code",
   "execution_count": null,
   "metadata": {
    "id": "6Q5rf6yCEuSl"
   },
   "outputs": [],
   "source": [
    "vals = np.linspace(0,5,20)\n",
    "print(lam_fun(0.1))\n",
    "print(lam_fun(vals))"
   ]
  },
  {
   "cell_type": "markdown",
   "metadata": {
    "id": "sUtVu10nE6aC"
   },
   "source": [
    "Lambdify works with numpy to evaluate your symbolic expressions. Again, after v1.6, SymPy is able to lambdify derivative terms directly, but using dummy variables for lambdify is still a useful trick. Let's take a look at one of our solutions to the matrix equation and stack them. If we want to evaluate this vector expression different values of $\\ddot{\\theta}$ we will need to substitute it for a dummy variable:"
   ]
  },
  {
   "cell_type": "code",
   "execution_count": null,
   "metadata": {
    "id": "PUS726iTFU3y"
   },
   "outputs": [],
   "source": [
    "# Substituting for constants\n",
    "vec_fun = sym.Matrix([sol1,sol2]).subs({L:1,g:9.81,m:1})\n",
    "display(vec_fun)"
   ]
  },
  {
   "cell_type": "markdown",
   "metadata": {
    "id": "uqGBtpOAGamn"
   },
   "source": [
    "After we substitute for our dummy variable we have the expression below:"
   ]
  },
  {
   "cell_type": "code",
   "execution_count": null,
   "metadata": {
    "id": "a-M_nrQ5GaN-"
   },
   "outputs": [],
   "source": [
    "dummy_vec_fun = vec_fun.subs(qdot[1],qdot_dummy[1])\n",
    "display(dummy_vec_fun)"
   ]
  },
  {
   "cell_type": "markdown",
   "metadata": {
    "id": "C0Gpyqj7GpcF"
   },
   "source": [
    "And lambdify is happy to evaluate it:"
   ]
  },
  {
   "cell_type": "code",
   "execution_count": null,
   "metadata": {
    "id": "MDjPLgroGthq"
   },
   "outputs": [],
   "source": [
    "lam_vec_fun = sym.lambdify(qdot_dummy[1],dummy_vec_fun)\n",
    "print(lam_vec_fun(0.1))\n",
    "print(lam_vec_fun(0.1).T)"
   ]
  },
  {
   "cell_type": "markdown",
   "metadata": {
    "id": "k-6wETgVH7S5"
   },
   "source": [
    "### Simplifying and Expanding\n",
    "As a short note, you may find it helpful to simplify expressions as you go along so that you can understand them better, or sometimes your code may run faster. Here's a simple example, consider one of our solutions to the matrix equations:"
   ]
  },
  {
   "cell_type": "code",
   "execution_count": null,
   "metadata": {
    "id": "XXaqcFuFf7Fj"
   },
   "outputs": [],
   "source": [
    "sol1"
   ]
  },
  {
   "cell_type": "markdown",
   "metadata": {
    "id": "adn48LT2IYKI"
   },
   "source": [
    "We can expand this expression to play around with it"
   ]
  },
  {
   "cell_type": "code",
   "execution_count": null,
   "metadata": {
    "id": "CL7PSXiyIRsz"
   },
   "outputs": [],
   "source": [
    "exp_sol1 = sym.expand(sol1)\n",
    "display(exp_sol1)"
   ]
  },
  {
   "cell_type": "markdown",
   "metadata": {
    "id": "N_4zDYdBIy1H"
   },
   "source": [
    "And then simplify back:"
   ]
  },
  {
   "cell_type": "code",
   "execution_count": null,
   "metadata": {
    "id": "UbqMn0XEIxo3"
   },
   "outputs": [],
   "source": [
    "sym.simplify(exp_sol1)"
   ]
  },
  {
   "cell_type": "markdown",
   "metadata": {
    "id": "K92q9yglJAdm"
   },
   "source": [
    "You can also do this with matrix expressions without issue."
   ]
  },
  {
   "cell_type": "markdown",
   "metadata": {
    "id": "iFFPHvYaJY2Q"
   },
   "source": [
    "## Matplotlib\n",
    "This is one of Python's plotting main plotting libraries. It's pretty straightforward to use and gives you tons of freedom. I'll leave you with a simple example that is representative of what you may want to do with a plot most of the time in this class, but not representative of all that matplotlib is capable of.\n",
    "\n",
    "Let's plot the outputs of both of the lambdified equations that we worked through in this tutorial:"
   ]
  },
  {
   "cell_type": "code",
   "execution_count": null,
   "metadata": {
    "id": "-Q1t_UWyKqmy"
   },
   "outputs": [],
   "source": [
    "# Range of values we care about\n",
    "x_min = -10; x_max = 10; N = 1000;\n",
    "x_domain = np.linspace(x_min, x_max, N)\n",
    "print('shape of x_domain: ', x_domain.shape)\n",
    "\n",
    "# Plug into our functions\n",
    "lam_fun_output = lam_fun(x_domain)\n",
    "print('shape of lam_fun_output: ', lam_fun_output.shape)\n",
    "lam_vec_fun_output = lam_vec_fun(x_domain)\n",
    "print('shape of lam_vec_fun_output: ', lam_vec_fun_output.shape)"
   ]
  },
  {
   "cell_type": "markdown",
   "metadata": {
    "id": "WK4vgny5LSKW"
   },
   "source": [
    "However, recall that lam_vec_fun was a vector equation, so it has two sets of values, meaning we will have to index them. A simple plot using this data can be seen below:"
   ]
  },
  {
   "cell_type": "code",
   "execution_count": null,
   "metadata": {
    "id": "h14qixMbLGP9"
   },
   "outputs": [],
   "source": [
    "plt.figure(dpi=125,facecolor='w') # we choose the resolution and background color for plot\n",
    "plt.plot(x_domain,lam_fun_output)\n",
    "plt.plot(x_domain,lam_vec_fun_output[0].T) # to make dimensions match you may have to transpose your vector\n",
    "plt.plot(x_domain,lam_vec_fun_output[1].T)\n",
    "plt.xlim([x_min, x_max])\n",
    "plt.xlabel('x')\n",
    "plt.ylabel('Function Outputs')\n",
    "plt.grid(True)\n",
    "plt.title('Tutorial Plot Example')\n",
    "plt.legend(['Fun','VecFun1','VecFun2']) # in order of plots\n",
    "plt.show()"
   ]
  },
  {
   "cell_type": "markdown",
   "metadata": {
    "id": "lSiqF_XCMxWh"
   },
   "source": [
    "Other plots you make will just be variations on this format, so as long as you're comfortable with these basics it'll be fine!"
   ]
  },
  {
   "cell_type": "markdown",
   "metadata": {
    "id": "E1DbcuCglep5"
   },
   "source": [
    "## Other Things You Should Be Careful About"
   ]
  },
  {
   "cell_type": "markdown",
   "metadata": {
    "id": "94lcxoR8l2m1"
   },
   "source": [
    "NumPy and SymPy all have some built-in functions and constants that have same names, BUT they can not be mixed! \n",
    "\n",
    "Every year we will have some people mixed these two libraries and spent DAYS on debugging the code, so please be really careful when you import and use built-in functions and variables from NumPy and SymPy."
   ]
  },
  {
   "cell_type": "code",
   "execution_count": null,
   "metadata": {
    "id": "wFVwKKwBlnLV"
   },
   "outputs": [],
   "source": [
    "from numpy import pi, cos, sin\n",
    "\n",
    "def my_tan(a):\n",
    "    return sin(a) / cos(a)\n",
    "\n",
    "print('my_tan(pi) =', my_tan(pi))\n",
    "print('type of the output: ', type(my_tan(pi)))"
   ]
  },
  {
   "cell_type": "code",
   "execution_count": null,
   "metadata": {
    "id": "RaqNYgCamQns"
   },
   "outputs": [],
   "source": [
    "from sympy import pi, cos, sin\n",
    "\n",
    "def my_tan(a):\n",
    "    return sin(a) / cos(a)\n",
    "\n",
    "print('my_tan(pi) =', my_tan(pi))\n",
    "print('type of the output: ', type(my_tan(pi)))"
   ]
  },
  {
   "cell_type": "code",
   "execution_count": null,
   "metadata": {
    "id": "4LSvnoUj5OuQ"
   },
   "outputs": [],
   "source": [
    "from numpy import sin, cos\n",
    "import numpy as np\n",
    "np.sin(1)\n",
    "np.pi"
   ]
  },
  {
   "cell_type": "markdown",
   "metadata": {
    "id": "7e7LXm90mhbR"
   },
   "source": [
    "Avoid operating function arguments directly"
   ]
  },
  {
   "cell_type": "code",
   "execution_count": null,
   "metadata": {
    "id": "ML6FiRJ0mUFp"
   },
   "outputs": [],
   "source": [
    "def add_one(a):\n",
    "    return [a[0]+1, a[1]+1]\n",
    "\n",
    "a = [1, 2]\n",
    "print('a =', a)\n",
    "print('add_one(a) =', add_one(a))\n",
    "print('a =', a)"
   ]
  },
  {
   "cell_type": "code",
   "execution_count": null,
   "metadata": {
    "id": "l3jkfxL1nHt3"
   },
   "outputs": [],
   "source": [
    "def add_one(a):\n",
    "    b = [0, 0]\n",
    "    b[0] = a[0] + 1\n",
    "    b[1] = a[1] + 1\n",
    "    return b\n",
    "\n",
    "a = [1, 2]\n",
    "print('a =', a)\n",
    "print('add_one(a) =', add_one(a))\n",
    "print('a =', a)"
   ]
  },
  {
   "cell_type": "markdown",
   "metadata": {
    "id": "YvFQHl01ne82"
   },
   "source": [
    "Difference between list and NumPy array"
   ]
  },
  {
   "cell_type": "code",
   "execution_count": null,
   "metadata": {
    "id": "fHY_Wd9InLq-"
   },
   "outputs": [],
   "source": [
    "a_list = [1, 2, 3]\n",
    "an_array = np.array([1, 2, 3])\n",
    "print('a_list + [1, 2, 3] =', a_list + [1, 2, 3])\n",
    "print('an_array + [1, 2, 3] =', an_array + [1, 2, 3])"
   ]
  },
  {
   "cell_type": "code",
   "execution_count": null,
   "metadata": {
    "id": "1n1UOjB_ns6J"
   },
   "outputs": [],
   "source": []
  }
 ],
 "metadata": {
  "colab": {
   "collapsed_sections": [],
   "provenance": [],
   "toc_visible": true
  },
  "kernelspec": {
   "display_name": "Python 3 (ipykernel)",
   "language": "python",
   "name": "python3"
  },
  "language_info": {
   "codemirror_mode": {
    "name": "ipython",
    "version": 3
   },
   "file_extension": ".py",
   "mimetype": "text/x-python",
   "name": "python",
   "nbconvert_exporter": "python",
   "pygments_lexer": "ipython3",
   "version": "3.10.4"
  }
 },
 "nbformat": 4,
 "nbformat_minor": 1
}
