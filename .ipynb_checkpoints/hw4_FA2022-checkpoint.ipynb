{
 "cells": [
  {
   "cell_type": "markdown",
   "metadata": {
    "id": "ZbNFBIg4X-5L"
   },
   "source": [
    "# ME314 Homework 4\n",
    "\n",
    "###Submission instructions\n",
    "\n",
    "Deliverables that should be included with your submission are shown in **bold** at the end of each problem statement and the corresponding supplemental material. **Your homework will be graded IFF you submit a single PDF, .mp4 videos of animations when requested and a link to a Google colab file that meet all the requirements outlined below.**\n",
    "\n",
    "- List the names of students you've collaborated with on this homework assignment.\n",
    "- Include all of your code (and handwritten solutions when applicable) used to complete the problems.\n",
    "- Highlight your answers (i.e. **bold** and outline the answers) for handwritten or markdown questions and include simplified code outputs (e.g. .simplify()) for python questions.\n",
    "\n",
    "- Enable Google Colab permission for viewing \n",
    " * Click Share in the upper right corner\n",
    " * Under \"Get Link\" click \"Share with...\" or \"Change\" \n",
    " * Then make sure it says \"Anyone with Link\" and \"Editor\" under the dropdown menu\n",
    "- Make sure all cells are run before submitting (i.e. check the permission by running your code in a private mode)\n",
    " * Please don't make changes to your file after submitting, so we can grade it!\n",
    "- Submit a link to your Google Colab file that has been run (before the submission deadline) and don't edit it afterwards!\n",
    "\n",
    "**NOTE:** This Juputer Notebook file serves as a template for you to start homework. Make sure you first copy this template to your own Google driver (click \"File\" -> \"Save a copy in Drive\"), and then start to edit it."
   ]
  },
  {
   "cell_type": "code",
   "execution_count": 1,
   "metadata": {},
   "outputs": [],
   "source": [
    "import numpy as np\n",
    "import sympy as sym\n",
    "import matplotlib.pyplot as plt"
   ]
  },
  {
   "cell_type": "code",
   "execution_count": 2,
   "metadata": {
    "id": "02LAJm4yX-5M"
   },
   "outputs": [],
   "source": [
    "##############################################################################################\n",
    "# If you're using Google Colab, uncomment this section by selecting the whole section and press\n",
    "# ctrl+'/' on your and keyboard. Run it before you start programming, this will enable the nice \n",
    "# LaTeX \"display()\" function for you. If you're using the local Jupyter environment, leave it alone\n",
    "##############################################################################################\n",
    "# def custom_latex_printer(exp,**options):\n",
    "#     from google.colab.output._publish import javascript\n",
    "#     url = \"https://cdnjs.cloudflare.com/ajax/libs/mathjax/3.1.1/latest.js?config=TeX-AMS_HTML\"\n",
    "#     javascript(url=url)\n",
    "#     return sym.printing.latex(exp,**options)\n",
    "# sym.init_printing(use_latex=\"mathjax\",latex_printer=custom_latex_printer)"
   ]
  },
  {
   "cell_type": "markdown",
   "metadata": {},
   "source": [
    "# Helper Functions"
   ]
  },
  {
   "cell_type": "code",
   "execution_count": 25,
   "metadata": {},
   "outputs": [],
   "source": [
    "def solve_EL(eqn, var):\n",
    "    '''\n",
    "    Helper function to solve and display the solution for the Euler-Lagrange\n",
    "    equations.\n",
    "    \n",
    "    Inputs:\n",
    "    - eqn: Euler-Lagrange equation (type: Sympy Equation())\n",
    "    - var: state vector (type: Sympy Matrix). typically a form of q-doubledot\n",
    "        but may have different terms\n",
    "    \n",
    "    Outputs:\n",
    "    - Prints symbolic solutions\n",
    "    - Returns symbolic solutions in a dictionary\n",
    "    '''\n",
    "    \n",
    "    soln = sym.solve(eqn, var, dict = True)\n",
    "    eqns_solved = []\n",
    "    \n",
    "    \n",
    "    for i, sol in enumerate(soln):\n",
    "        for x in list(sol.keys()):\n",
    "            eqn_solved = sym.Eq(x, sol[x])\n",
    "            eqns_solved.append(eqn_solved)\n",
    "            \n",
    "    return eqns_solved\n",
    "\n",
    "def solve_constrained_EL(lamb, phi, q, lhs):\n",
    "    \"\"\"Now uses just the LHS of the constrained E-L equations,\n",
    "    rather than the full equation form\"\"\"\n",
    "    \n",
    "    qd = q.diff(t)\n",
    "    qdd = qd.diff(t)\n",
    "    \n",
    "    phidd = phi.diff(t).diff(t)\n",
    "    lamb_grad = sym.Matrix([lamb * phi.diff(a) for a in q])\n",
    "    q_mod = qdd.row_insert(2, sym.Matrix([lamb]))\n",
    "    \n",
    "    #format equations so they're all in one matrix\n",
    "    expr_matrix = lhs - lamb_grad\n",
    "    phidd_matrix = sym.Matrix([phidd])\n",
    "    expr_matrix = expr_matrix.row_insert(2,phidd_matrix)\n",
    "    \n",
    "    print(\"Expressions to be solved:\")\n",
    "    display(expr_matrix)\n",
    "    print(\"Variables to solve for:\")\n",
    "    display(q_mod)\n",
    "\n",
    "    #solve E-L equations\n",
    "    eqns_solved = solve_EL(expr_matrix, q_mod)\n",
    "    return eqns_solved\n"
   ]
  },
  {
   "cell_type": "code",
   "execution_count": 39,
   "metadata": {},
   "outputs": [
    {
     "name": "stdout",
     "output_type": "stream",
     "text": [
      "assertion passed\n"
     ]
    }
   ],
   "source": [
    "def rk4(dxdt, x, t, dt):\n",
    "    '''\n",
    "    Applies the Runge-Kutta method, 4th order, to a sample function,\n",
    "    for a given state q0, for a given step size. Currently only\n",
    "    configured for a 2-variable dependent system (x,y).\n",
    "    ==========\n",
    "    dxdt: a Sympy function that specifies the derivative of the system of interest\n",
    "    t: the current timestep of the simulation\n",
    "    x: current value of the state vector\n",
    "    dt: the amount to increment by for Runge-Kutta\n",
    "    ======\n",
    "    returns:\n",
    "    x_new: value of the state vector at the next timestep\n",
    "    '''  \n",
    "    k1 = dt * dxdt(t, x)\n",
    "    k2 = dt * dxdt(t + dt/2.0, x + k1/2.0)\n",
    "    k3 = dt * dxdt(t + dt/2.0, x + k2/2.0)\n",
    "    k4 = dt * dxdt(t + dt, x + k3)\n",
    "    x_new = x + (k1 + 2.0*k2 + 2.0*k3 + k4)/6.0\n",
    "    \n",
    "    return x_new\n",
    "    \n",
    "rk = rk4(lambda t, x: x**2, 0.5, 2, 0.1)\n",
    "assert np.isclose(rk, 0.526315781526278075), f\"RK4 value: {rk}\" #from an online RK4 solver\n",
    "print(\"assertion passed\")\n"
   ]
  },
  {
   "cell_type": "code",
   "execution_count": 41,
   "metadata": {},
   "outputs": [],
   "source": [
    "def simulate(f, x0, tspan, dt, integrate):\n",
    "    \"\"\"\n",
    "    This function takes in an initial condition x0, a timestep dt,\n",
    "    a time span tspan consisting of a list [min_time, max_time],\n",
    "    as well as a dynamical system f(x) that outputs a vector of the\n",
    "    same dimension as x0. It outputs a full trajectory simulated\n",
    "    over the time span of dimensions (xvec_size, time_vec_size).\n",
    "    \n",
    "    Parameters\n",
    "    ============\n",
    "    f: Python function\n",
    "        derivate of the system at a given step x(t), \n",
    "        it can considered as \\dot{x}(t) = func(x(t))\n",
    "    x0: NumPy array\n",
    "        initial conditions\n",
    "    tspan: Python list\n",
    "        tspan = [min_time, max_time], it defines the start and end\n",
    "        time of simulation\n",
    "    dt:\n",
    "        time step for numerical integration\n",
    "    integrate: Python function\n",
    "        numerical integration method used in this simulation\n",
    "\n",
    "    Return\n",
    "    ============\n",
    "    x_traj:\n",
    "        simulated trajectory of x(t) from t=0 to tf\n",
    "    \"\"\"\n",
    "    N = int((max(tspan)-min(tspan))/dt)\n",
    "    x = np.copy(x0)\n",
    "    tvec = np.linspace(min(tspan),max(tspan),N)\n",
    "    xtraj = np.zeros((len(x0),N))\n",
    "    \n",
    "    for i in range(N):\n",
    "        t = tvec[i]\n",
    "        xtraj[:,i]=integrate(f,x,t,dt)\n",
    "        x = np.copy(xtraj[:,i])\n",
    "    return xtraj \n",
    "      "
   ]
  },
  {
   "cell_type": "code",
   "execution_count": 3,
   "metadata": {
    "colab": {
     "base_uri": "https://localhost:8080/",
     "height": 377
    },
    "id": "U801_ey8X-5Q",
    "outputId": "c906a254-501e-4615-c221-5c3e789b943c"
   },
   "outputs": [
    {
     "data": {
      "text/html": [
       "<table><tr><td><img src='https://github.com/MuchenSun/ME314pngs/raw/master/dynhoop2.png' width=500' height='350'></table>"
      ],
      "text/plain": [
       "<IPython.core.display.HTML object>"
      ]
     },
     "metadata": {},
     "output_type": "display_data"
    }
   ],
   "source": [
    "from IPython.core.display import HTML\n",
    "display(HTML(\"<table><tr><td><img src='https://github.com/MuchenSun/ME314pngs/raw/master/dynhoop2.png' width=500' height='350'></table>\"))"
   ]
  },
  {
   "cell_type": "markdown",
   "metadata": {
    "id": "9HdgLGSjX-5T"
   },
   "source": [
    "## Problem 1 (20pts)\n",
    "\n",
    "Take the bead on a hoop example shown in the image above, model it using a torque input $\\tau$ (about the vertical $z$ axis) instead of a velocity input $\\omega$. You will need to add a configuration variable $\\psi$ that is the rotation about the $z$ axis, so that the system configuration vector is $q=[\\theta,\\psi]$. Use Python's SymPy package to compute the equations of motion for this system in terms of $\\theta, \\psi$.\n",
    "\n",
    "*Hint 1: Note that this should be a Lagrangian system with an external force.*\n",
    "\n",
    "**Turn in: A copy of code used to symbolically solve for the equations of motion, also include the code outputs, which should be the equations of motion.**"
   ]
  },
  {
   "cell_type": "code",
   "execution_count": null,
   "metadata": {
    "id": "pTFU_ptqX-5T"
   },
   "outputs": [],
   "source": []
  },
  {
   "cell_type": "markdown",
   "metadata": {
    "id": "NNhwnlfrX-5V"
   },
   "source": [
    "## Problem 2 (30pts)\n",
    "\n",
    "Consider a point mass in 3D space under the forces of gravity and a radial spring from the origin. The system's Lagrangian is:\n",
    "$$\n",
    "L=\\frac{1}{2} m (\\dot{x}^2+\\dot{y}^2+\\dot{z}^2)- \\frac{1}{2} k (x^2+y^2+z^2)-mgz\n",
    "$$\n",
    "Consider the following rotation matrices, defining rotations about the $z$, $y$, and $x$ axes respectively:\n",
    "$$\n",
    "R_\\theta =\\begin{bmatrix}\\cos \\theta & -\\sin \\theta & 0 \\\\ \\sin \\theta &\n",
    "    \\cos \\theta& 0 \\\\ 0 & 0 & 1\\end{bmatrix}, \n",
    "    \\ \\\n",
    "R_\\psi = \\begin{bmatrix}\\cos \\psi & 0 & \\sin \\psi \\\\ 0 & 1 & 0 \\\\ \n",
    "    -\\sin \\psi & 0 & \\cos \\psi \\end{bmatrix}, \\ \\\n",
    "R_\\phi = \\begin{bmatrix} 1 & 0 & 0 \\\\ 0 & \\cos \\phi & -\\sin \\phi \\\\ \n",
    "    0 & \\sin \\phi & \\cos \\phi \\end{bmatrix} \n",
    "$$ \n",
    "\n",
    "and answer the following three questions:\n",
    "\n",
    "1. Which, if any, of the transformations $q_{\\theta}=R_{\\theta}q$, $q_{\\psi}=R_{\\psi}q$, or $q_{\\phi}=R_{\\phi}q$ keeps the Lagrangian fixed (invariant)? Is this invariance global or local?\n",
    "\n",
    "2. Use small angle approximations to linearize your transformation(s) from the first question. The resulting new transformation(s) should have the form $q_{\\epsilon}=q+\\epsilon G(q)$. Compute the difference in the Lagrangian $L(q_\\epsilon, \\dot{q}_\\epsilon) - L(q,\\dot{q})$ through this/these transformation(s).\n",
    "\n",
    "3. Apply Noether's theorem to determine a conserved quantity. What does this quantity represent physically?  Is there any rationale behind its conservation?\n",
    "\n",
    "You can solve this problem by hand or use Python's SymPy to do the symbolic computation for you.\n",
    "\n",
    "*Hint 1: For question (1), try to imagine how this system looks. Even though the $x$, $y$, and $z$ axes seem to have the same influence on the system, rotation around some axes will influence the Lagrangian more than others will.*\n",
    "\n",
    "*Hint 2: Global invariance here means for any magnitude of rotation the Lagrangian will remain fixed.*\n",
    "\n",
    "**Turn in: A scanned (or photograph from your phone or webcam) copy of your hand written solution. You can also use $\\LaTeX$. If you use SymPy, then you just need to include a copy of code and the code outputs, with notes that explain why the code outputs can answer the questions.**"
   ]
  },
  {
   "cell_type": "code",
   "execution_count": null,
   "metadata": {
    "colab": {
     "base_uri": "https://localhost:8080/",
     "height": 377
    },
    "id": "Zx7Wpj9zX-5V",
    "outputId": "e166e174-7c05-460d-b151-cca8f6de18fc"
   },
   "outputs": [
    {
     "data": {
      "text/html": [
       "<table><tr><td><img src='https://github.com/atulletaylor/ME314Figures/raw/main/hw4problem3.png' width='600' height='350'></td></tr></table>"
      ],
      "text/plain": [
       "<IPython.core.display.HTML object>"
      ]
     },
     "metadata": {},
     "output_type": "display_data"
    }
   ],
   "source": [
    "from IPython.core.display import HTML\n",
    "display(HTML(\"<table><tr><td><img src='https://github.com/atulletaylor/ME314Figures/raw/main/hw4problem3.png' width='600' height='350'></td></tr></table>\"))"
   ]
  },
  {
   "cell_type": "markdown",
   "metadata": {
    "id": "GR2Vzm0pge8Z"
   },
   "source": [
    "## Problem 3 (20pts)\n",
    "\n",
    "For the inverted cart-pendulum system in Homework 1 (feel free to make use of the provided solutions), compute the conserved momentum using N&ouml;ther's theorem.  Plot the momentum for the same simulation parameters and initial conditions.  Taking into account the conserved quantities, what is the minimal number of *states* in the cart/pendulum system that can vary?  (Hint: In some coordinate systems it may *look* like all the states are varying, but if you choose your coordinates cleverly fewer states will vary.)\n",
    "\n",
    "**Turn in: A copy of code used to calculate the conserved quantity and your answer to the question. You don't need to turn in equations of motion, but you need to include the plot of the conserved quantity evaluated along the system trajectory.**"
   ]
  },
  {
   "cell_type": "code",
   "execution_count": null,
   "metadata": {
    "colab": {
     "base_uri": "https://localhost:8080/",
     "height": 377
    },
    "id": "FRfXoQldX-5X",
    "outputId": "78439814-8344-44fa-fc97-e85c9a479805"
   },
   "outputs": [
    {
     "data": {
      "text/html": [
       "<table><tr><td><img src='https://github.com/atulletaylor/ME314Figures/raw/main/hw4p4.png' width='600' height='350'></td></tr></table>"
      ],
      "text/plain": [
       "<IPython.core.display.HTML object>"
      ]
     },
     "metadata": {},
     "output_type": "display_data"
    }
   ],
   "source": [
    "from IPython.core.display import HTML\n",
    "display(HTML(\"<table><tr><td><img src='https://github.com/atulletaylor/ME314Figures/raw/main/hw4p4.png' width='600' height='350'></td></tr></table>\"))"
   ]
  },
  {
   "cell_type": "code",
   "execution_count": 16,
   "metadata": {},
   "outputs": [
    {
     "name": "stdout",
     "output_type": "stream",
     "text": [
      "Lagrangian function:\n"
     ]
    },
    {
     "data": {
      "text/latex": [
       "$\\displaystyle 0.5 M \\left(\\frac{d}{d t} x_{m}{\\left(t \\right)}\\right)^{2} - R g m \\cos{\\left(\\theta{\\left(t \\right)} \\right)} + 0.5 m \\left(R^{2} \\left(\\frac{d}{d t} \\theta{\\left(t \\right)}\\right)^{2} + 2 R \\cos{\\left(\\theta{\\left(t \\right)} \\right)} \\frac{d}{d t} \\theta{\\left(t \\right)} \\frac{d}{d t} x_{m}{\\left(t \\right)} + \\left(\\frac{d}{d t} x_{m}{\\left(t \\right)}\\right)^{2}\\right)$"
      ],
      "text/plain": [
       "0.5*M*Derivative(x_m(t), t)**2 - R*g*m*cos(\\theta(t)) + 0.5*m*(R**2*Derivative(\\theta(t), t)**2 + 2*R*cos(\\theta(t))*Derivative(\\theta(t), t)*Derivative(x_m(t), t) + Derivative(x_m(t), t)**2)"
      ]
     },
     "metadata": {},
     "output_type": "display_data"
    }
   ],
   "source": [
    "#equations drawn from hw1\n",
    "\n",
    "#1. grab variables\n",
    "t = sym.symbols(r't') #ind. var.\n",
    "R, m, M, g = sym.symbols(r'R, m, M, g') #constants\n",
    "\n",
    "const_dict = {\n",
    "    M: 2,\n",
    "    m: 1,\n",
    "    g: 9.8,\n",
    "    R: 1\n",
    "}\n",
    "\n",
    "#2. define position, velocity, accel for masses 1 and 2 as functions\n",
    "xm = sym.Function(r'x_m')(t)\n",
    "theta = sym.Function(r'\\theta')(t)\n",
    "\n",
    "xmd = xm.diff(t)\n",
    "xmdd = xmd.diff(t)\n",
    "\n",
    "thetad = theta.diff(t)\n",
    "thetadd = thetad.diff(t)\n",
    "\n",
    "#intermediate variables: x and y of mass on pendulum\n",
    "xp = xm + R * sym.sin(theta)\n",
    "yp = R * sym.cos(theta)\n",
    "\n",
    "xpd = xp.diff(t)\n",
    "ypd = yp.diff(t)\n",
    "\n",
    "#kinetic and potential energy terms\n",
    "\n",
    "KE_M = 0.5 * M * xmd**2\n",
    "KE_m = 0.5 * m * (xpd**2 + ypd**2)\n",
    "KE_sys = KE_M + KE_m\n",
    "U_sys = m * g * yp\n",
    "\n",
    "print(\"Lagrangian function:\")\n",
    "lagrangian = KE_sys - U_sys\n",
    "lagrangian = lagrangian.simplify()\n",
    "display(lagrangian)"
   ]
  },
  {
   "cell_type": "code",
   "execution_count": 18,
   "metadata": {},
   "outputs": [
    {
     "name": "stdout",
     "output_type": "stream",
     "text": [
      "\n",
      "d/dt(dL/dqd) terms for qd = (x, theta):\n"
     ]
    },
    {
     "data": {
      "text/latex": [
       "$\\displaystyle \\left[\\begin{matrix}1.0 M \\frac{d^{2}}{d t^{2}} x_{m}{\\left(t \\right)} + m \\left(- R \\sin{\\left(\\theta{\\left(t \\right)} \\right)} \\left(\\frac{d}{d t} \\theta{\\left(t \\right)}\\right)^{2} + R \\cos{\\left(\\theta{\\left(t \\right)} \\right)} \\frac{d^{2}}{d t^{2}} \\theta{\\left(t \\right)} + \\frac{d^{2}}{d t^{2}} x_{m}{\\left(t \\right)}\\right)\\\\1.0 R m \\left(R \\frac{d^{2}}{d t^{2}} \\theta{\\left(t \\right)} - \\sin{\\left(\\theta{\\left(t \\right)} \\right)} \\frac{d}{d t} \\theta{\\left(t \\right)} \\frac{d}{d t} x_{m}{\\left(t \\right)} + \\cos{\\left(\\theta{\\left(t \\right)} \\right)} \\frac{d^{2}}{d t^{2}} x_{m}{\\left(t \\right)}\\right)\\end{matrix}\\right]$"
      ],
      "text/plain": [
       "Matrix([\n",
       "[1.0*M*Derivative(x_m(t), (t, 2)) + m*(-R*sin(\\theta(t))*Derivative(\\theta(t), t)**2 + R*cos(\\theta(t))*Derivative(\\theta(t), (t, 2)) + Derivative(x_m(t), (t, 2)))],\n",
       "[             1.0*R*m*(R*Derivative(\\theta(t), (t, 2)) - sin(\\theta(t))*Derivative(\\theta(t), t)*Derivative(x_m(t), t) + cos(\\theta(t))*Derivative(x_m(t), (t, 2)))]])"
      ]
     },
     "metadata": {},
     "output_type": "display_data"
    },
    {
     "name": "stdout",
     "output_type": "stream",
     "text": [
      "\n",
      "dL/dq terms for qd = (x, theta):\n"
     ]
    },
    {
     "data": {
      "text/latex": [
       "$\\displaystyle \\left[\\begin{matrix}0\\\\R m \\left(g - 1.0 \\frac{d}{d t} \\theta{\\left(t \\right)} \\frac{d}{d t} x_{m}{\\left(t \\right)}\\right) \\sin{\\left(\\theta{\\left(t \\right)} \\right)}\\end{matrix}\\right]$"
      ],
      "text/plain": [
       "Matrix([\n",
       "[                                                                          0],\n",
       "[R*m*(g - 1.0*Derivative(\\theta(t), t)*Derivative(x_m(t), t))*sin(\\theta(t))]])"
      ]
     },
     "metadata": {},
     "output_type": "display_data"
    }
   ],
   "source": [
    "#set up conserved quantities calculations for each element in state vector\n",
    "\n",
    "#define state of system\n",
    "q = sym.Matrix([xm, theta])\n",
    "qd = q.diff(t)\n",
    "qdd = qd.diff(t)\n",
    "\n",
    "n = len(q)\n",
    "pdot_matrix = sym.zeros(n,1)\n",
    "dLdQ_matrix = sym.zeros(n,1)\n",
    "\n",
    "for i, x in enumerate(q):\n",
    "    xd = qd[i]\n",
    "    pdot_matrix[i] = lagrangian.diff(xd).diff(t)\n",
    "    dLdQ_matrix[i] = lagrangian.diff(x)\n",
    "    \n",
    "print(\"\\nd/dt(dL/dqd) terms for qd = (x, theta):\")\n",
    "display(sym.simplify(pdot_matrix))\n",
    "print(\"\\ndL/dq terms for qd = (x, theta):\")\n",
    "display(sym.simplify(dLdQ_matrix))"
   ]
  },
  {
   "cell_type": "markdown",
   "metadata": {},
   "source": [
    "Conserved quantity, therefore, is momentum of the cart in the x direction. The expression for the conserved quantity is given by:"
   ]
  },
  {
   "cell_type": "code",
   "execution_count": 20,
   "metadata": {},
   "outputs": [
    {
     "data": {
      "text/latex": [
       "$\\displaystyle 1.0 M \\frac{d^{2}}{d t^{2}} x_{m}{\\left(t \\right)} + 0.5 m \\left(- 2 R \\sin{\\left(\\theta{\\left(t \\right)} \\right)} \\left(\\frac{d}{d t} \\theta{\\left(t \\right)}\\right)^{2} + 2 R \\cos{\\left(\\theta{\\left(t \\right)} \\right)} \\frac{d^{2}}{d t^{2}} \\theta{\\left(t \\right)} + 2 \\frac{d^{2}}{d t^{2}} x_{m}{\\left(t \\right)}\\right) = 0$"
      ],
      "text/plain": [
       "Eq(1.0*M*Derivative(x_m(t), (t, 2)) + 0.5*m*(-2*R*sin(\\theta(t))*Derivative(\\theta(t), t)**2 + 2*R*cos(\\theta(t))*Derivative(\\theta(t), (t, 2)) + 2*Derivative(x_m(t), (t, 2))), 0)"
      ]
     },
     "metadata": {},
     "output_type": "display_data"
    }
   ],
   "source": [
    "conserved = pdot_matrix[0]\n",
    "eq = sym.Eq(conserved, 0)\n",
    "display(eq)"
   ]
  },
  {
   "cell_type": "markdown",
   "metadata": {},
   "source": [
    "The minimal number of states in the system that can vary are $\\theta_m$ and $x_M$. Any Cartesian coordinate system for the mass would give an inaccurate number of states, as x and y of the smaller mass can be determined from x of the smaller mass and theta."
   ]
  },
  {
   "cell_type": "markdown",
   "metadata": {
    "id": "ndrt1xQzX-5Z"
   },
   "source": [
    "## Problem 4 (30 pts)\n",
    "Using the same inverted cart pendulum system, add a constraint such that the pendulum follows the path of a parabola with a vertex of $(1,0)$. \n",
    "\n",
    "Then, simulate the system using $x$ and $\\theta$ as the configuration variables for $t\\in[0,15]$ with $dt=0.01$. The constants are $M=2, m=1, R=1, g=9.8$. Use the initial conditions $x=0, \\theta=0, \\dot{x}=0, \\dot{\\theta}=0.01$ for your simulation.\n",
    "\n",
    "You should use the Runge–Kutta integration function provided in previous homework for simulation. Plot the simulated trajectory for $x, \\theta$ versus time. We have a provided an animation function for testing. \n",
    "\n",
    "*Hint 1: You will need the time derivatives of $\\phi$ to solve the system of equations.*\n",
    "\n",
    "*Hint 2: Make sure to be solving for $\\lambda$ at the same time as your equations of motion.*\n",
    "\n",
    "*Hint 3: Note that if you make your initial condition velocities faster or dt lower resolution, you may not be able to simulate the system because this is challenging constraint.*\n",
    "\n",
    "**Turn in: A copy of code used to simulate the system, you don't need to turn in equations of motion, but you need to include the plot of the simulated trajectories.**"
   ]
  },
  {
   "cell_type": "code",
   "execution_count": 28,
   "metadata": {},
   "outputs": [
    {
     "name": "stdout",
     "output_type": "stream",
     "text": [
      "Expressions to be solved:\n"
     ]
    },
    {
     "data": {
      "text/latex": [
       "$\\displaystyle \\left[\\begin{matrix}1.0 M \\frac{d^{2}}{d t^{2}} x_{m}{\\left(t \\right)} - \\lambda + 0.5 m \\left(- 2 R \\sin{\\left(\\theta{\\left(t \\right)} \\right)} \\left(\\frac{d}{d t} \\theta{\\left(t \\right)}\\right)^{2} + 2 R \\cos{\\left(\\theta{\\left(t \\right)} \\right)} \\frac{d^{2}}{d t^{2}} \\theta{\\left(t \\right)} + 2 \\frac{d^{2}}{d t^{2}} x_{m}{\\left(t \\right)}\\right)\\\\- R g m \\sin{\\left(\\theta{\\left(t \\right)} \\right)} + 1.0 R m \\sin{\\left(\\theta{\\left(t \\right)} \\right)} \\frac{d}{d t} \\theta{\\left(t \\right)} \\frac{d}{d t} x_{m}{\\left(t \\right)} - \\lambda \\left(- 2 R^{2} \\sin{\\left(\\theta{\\left(t \\right)} \\right)} \\cos{\\left(\\theta{\\left(t \\right)} \\right)} + R \\cos{\\left(\\theta{\\left(t \\right)} \\right)}\\right) + 0.5 m \\left(2 R^{2} \\frac{d^{2}}{d t^{2}} \\theta{\\left(t \\right)} - 2 R \\sin{\\left(\\theta{\\left(t \\right)} \\right)} \\frac{d}{d t} \\theta{\\left(t \\right)} \\frac{d}{d t} x_{m}{\\left(t \\right)} + 2 R \\cos{\\left(\\theta{\\left(t \\right)} \\right)} \\frac{d^{2}}{d t^{2}} x_{m}{\\left(t \\right)}\\right)\\\\2 R^{2} \\sin^{2}{\\left(\\theta{\\left(t \\right)} \\right)} \\left(\\frac{d}{d t} \\theta{\\left(t \\right)}\\right)^{2} - 2 R^{2} \\sin{\\left(\\theta{\\left(t \\right)} \\right)} \\cos{\\left(\\theta{\\left(t \\right)} \\right)} \\frac{d^{2}}{d t^{2}} \\theta{\\left(t \\right)} - 2 R^{2} \\cos^{2}{\\left(\\theta{\\left(t \\right)} \\right)} \\left(\\frac{d}{d t} \\theta{\\left(t \\right)}\\right)^{2} - R \\sin{\\left(\\theta{\\left(t \\right)} \\right)} \\left(\\frac{d}{d t} \\theta{\\left(t \\right)}\\right)^{2} + R \\cos{\\left(\\theta{\\left(t \\right)} \\right)} \\frac{d^{2}}{d t^{2}} \\theta{\\left(t \\right)} + \\frac{d^{2}}{d t^{2}} x_{m}{\\left(t \\right)}\\end{matrix}\\right]$"
      ],
      "text/plain": [
       "Matrix([\n",
       "[                                                                                                                                               1.0*M*Derivative(x_m(t), (t, 2)) - \\lambda + 0.5*m*(-2*R*sin(\\theta(t))*Derivative(\\theta(t), t)**2 + 2*R*cos(\\theta(t))*Derivative(\\theta(t), (t, 2)) + 2*Derivative(x_m(t), (t, 2)))],\n",
       "[-R*g*m*sin(\\theta(t)) + 1.0*R*m*sin(\\theta(t))*Derivative(\\theta(t), t)*Derivative(x_m(t), t) - \\lambda*(-2*R**2*sin(\\theta(t))*cos(\\theta(t)) + R*cos(\\theta(t))) + 0.5*m*(2*R**2*Derivative(\\theta(t), (t, 2)) - 2*R*sin(\\theta(t))*Derivative(\\theta(t), t)*Derivative(x_m(t), t) + 2*R*cos(\\theta(t))*Derivative(x_m(t), (t, 2)))],\n",
       "[                        2*R**2*sin(\\theta(t))**2*Derivative(\\theta(t), t)**2 - 2*R**2*sin(\\theta(t))*cos(\\theta(t))*Derivative(\\theta(t), (t, 2)) - 2*R**2*cos(\\theta(t))**2*Derivative(\\theta(t), t)**2 - R*sin(\\theta(t))*Derivative(\\theta(t), t)**2 + R*cos(\\theta(t))*Derivative(\\theta(t), (t, 2)) + Derivative(x_m(t), (t, 2))]])"
      ]
     },
     "metadata": {},
     "output_type": "display_data"
    },
    {
     "name": "stdout",
     "output_type": "stream",
     "text": [
      "Variables to solve for:\n"
     ]
    },
    {
     "data": {
      "text/latex": [
       "$\\displaystyle \\left[\\begin{matrix}\\frac{d^{2}}{d t^{2}} x_{m}{\\left(t \\right)}\\\\\\frac{d^{2}}{d t^{2}} \\theta{\\left(t \\right)}\\\\\\lambda\\end{matrix}\\right]$"
      ],
      "text/plain": [
       "Matrix([\n",
       "[   Derivative(x_m(t), (t, 2))],\n",
       "[Derivative(\\theta(t), (t, 2))],\n",
       "[                      \\lambda]])"
      ]
     },
     "metadata": {},
     "output_type": "display_data"
    }
   ],
   "source": [
    "#set up left hand side of constrained Euler-Lagrange equations\n",
    "EL_lhs = pdot_matrix - dLdQ_matrix\n",
    "lamb = sym.symbols(r'\\lambda')\n",
    "\n",
    "#let constraint be approximately (x-1) =-y^2\n",
    "phi = xp - 1 + yp**2 #equals 0\n",
    "\n",
    "#need gradient of constraint for RHS of equation and for additional constraint EQ\n",
    "eqns_solved = solve_constrained_EL(lamb, phi, q, EL_lhs)"
   ]
  },
  {
   "cell_type": "code",
   "execution_count": 31,
   "metadata": {},
   "outputs": [
    {
     "data": {
      "text/latex": [
       "$\\displaystyle \\frac{d^{2}}{d t^{2}} x_{m}{\\left(t \\right)} = \\frac{m \\left(4.0 R^{3} \\sin^{4}{\\left(\\theta{\\left(t \\right)} \\right)} \\left(\\frac{d}{d t} \\theta{\\left(t \\right)}\\right)^{2} - 8.0 R^{3} \\sin^{2}{\\left(\\theta{\\left(t \\right)} \\right)} \\left(\\frac{d}{d t} \\theta{\\left(t \\right)}\\right)^{2} + 4.0 R^{3} \\left(\\frac{d}{d t} \\theta{\\left(t \\right)}\\right)^{2} - 2.0 R^{2} \\sin^{3}{\\left(\\theta{\\left(t \\right)} \\right)} \\left(\\frac{d}{d t} \\theta{\\left(t \\right)}\\right)^{2} + 2.0 R g \\sin{\\left(\\theta{\\left(t \\right)} \\right)} \\cos{\\left(\\theta{\\left(t \\right)} \\right)} + 1.0 R \\left(\\frac{d}{d t} \\theta{\\left(t \\right)}\\right)^{2} - 1.0 g \\cos{\\left(\\theta{\\left(t \\right)} \\right)}\\right) \\sin{\\left(\\theta{\\left(t \\right)} \\right)}}{0.5 M R^{2} \\cdot \\left(1 - \\cos{\\left(4 \\theta{\\left(t \\right)} \\right)}\\right) - 4.0 M R \\sin{\\left(\\theta{\\left(t \\right)} \\right)} \\cos^{2}{\\left(\\theta{\\left(t \\right)} \\right)} + M \\cos^{2}{\\left(\\theta{\\left(t \\right)} \\right)} + 0.5 R^{2} m \\left(1 - \\cos{\\left(4 \\theta{\\left(t \\right)} \\right)}\\right) - m \\cos^{2}{\\left(\\theta{\\left(t \\right)} \\right)} + m}$"
      ],
      "text/plain": [
       "Eq(Derivative(x_m(t), (t, 2)), m*(4.0*R**3*sin(\\theta(t))**4*Derivative(\\theta(t), t)**2 - 8.0*R**3*sin(\\theta(t))**2*Derivative(\\theta(t), t)**2 + 4.0*R**3*Derivative(\\theta(t), t)**2 - 2.0*R**2*sin(\\theta(t))**3*Derivative(\\theta(t), t)**2 + 2.0*R*g*sin(\\theta(t))*cos(\\theta(t)) + 1.0*R*Derivative(\\theta(t), t)**2 - 1.0*g*cos(\\theta(t)))*sin(\\theta(t))/(0.5*M*R**2*(1 - cos(4*\\theta(t))) - 4.0*M*R*sin(\\theta(t))*cos(\\theta(t))**2 + M*cos(\\theta(t))**2 + 0.5*R**2*m*(1 - cos(4*\\theta(t))) - m*cos(\\theta(t))**2 + m))"
      ]
     },
     "metadata": {},
     "output_type": "display_data"
    },
    {
     "data": {
      "text/latex": [
       "$\\displaystyle \\frac{d^{2}}{d t^{2}} \\theta{\\left(t \\right)} = \\frac{- 1.0 M R^{3} \\sin{\\left(4 \\theta{\\left(t \\right)} \\right)} \\left(\\frac{d}{d t} \\theta{\\left(t \\right)}\\right)^{2} + 0.5 M R^{2} \\cos{\\left(\\theta{\\left(t \\right)} \\right)} \\left(\\frac{d}{d t} \\theta{\\left(t \\right)}\\right)^{2} + 1.5 M R^{2} \\cos{\\left(3 \\theta{\\left(t \\right)} \\right)} \\left(\\frac{d}{d t} \\theta{\\left(t \\right)}\\right)^{2} + 0.5 M R \\sin{\\left(2 \\theta{\\left(t \\right)} \\right)} \\left(\\frac{d}{d t} \\theta{\\left(t \\right)}\\right)^{2} - 1.0 R^{3} m \\sin{\\left(4 \\theta{\\left(t \\right)} \\right)} \\left(\\frac{d}{d t} \\theta{\\left(t \\right)}\\right)^{2} - 0.5 R m \\sin{\\left(2 \\theta{\\left(t \\right)} \\right)} \\left(\\frac{d}{d t} \\theta{\\left(t \\right)}\\right)^{2} + 1.0 g m \\sin{\\left(\\theta{\\left(t \\right)} \\right)}}{R \\left(0.5 M R^{2} \\cdot \\left(1 - \\cos{\\left(4 \\theta{\\left(t \\right)} \\right)}\\right) - 4.0 M R \\sin{\\left(\\theta{\\left(t \\right)} \\right)} \\cos^{2}{\\left(\\theta{\\left(t \\right)} \\right)} + M \\cos^{2}{\\left(\\theta{\\left(t \\right)} \\right)} + 0.5 R^{2} m \\left(1 - \\cos{\\left(4 \\theta{\\left(t \\right)} \\right)}\\right) - m \\cos^{2}{\\left(\\theta{\\left(t \\right)} \\right)} + m\\right)}$"
      ],
      "text/plain": [
       "Eq(Derivative(\\theta(t), (t, 2)), (-1.0*M*R**3*sin(4*\\theta(t))*Derivative(\\theta(t), t)**2 + 0.5*M*R**2*cos(\\theta(t))*Derivative(\\theta(t), t)**2 + 1.5*M*R**2*cos(3*\\theta(t))*Derivative(\\theta(t), t)**2 + 0.5*M*R*sin(2*\\theta(t))*Derivative(\\theta(t), t)**2 - 1.0*R**3*m*sin(4*\\theta(t))*Derivative(\\theta(t), t)**2 - 0.5*R*m*sin(2*\\theta(t))*Derivative(\\theta(t), t)**2 + 1.0*g*m*sin(\\theta(t)))/(R*(0.5*M*R**2*(1 - cos(4*\\theta(t))) - 4.0*M*R*sin(\\theta(t))*cos(\\theta(t))**2 + M*cos(\\theta(t))**2 + 0.5*R**2*m*(1 - cos(4*\\theta(t))) - m*cos(\\theta(t))**2 + m)))"
      ]
     },
     "metadata": {},
     "output_type": "display_data"
    },
    {
     "data": {
      "text/latex": [
       "$\\displaystyle \\lambda = \\frac{m \\left(2.0 M R^{2} \\cos{\\left(2 \\theta{\\left(t \\right)} \\right)} \\left(\\frac{d}{d t} \\theta{\\left(t \\right)}\\right)^{2} + 0.5 M R g \\cos{\\left(\\theta{\\left(t \\right)} \\right)} - 0.5 M R g \\cos{\\left(3 \\theta{\\left(t \\right)} \\right)} + 1.0 M R \\sin{\\left(\\theta{\\left(t \\right)} \\right)} \\left(\\frac{d}{d t} \\theta{\\left(t \\right)}\\right)^{2} - 0.5 M g \\sin{\\left(2 \\theta{\\left(t \\right)} \\right)} - 0.5 R^{2} m \\left(1 - \\cos{\\left(2 \\theta{\\left(t \\right)} \\right)}\\right)^{2} \\left(\\frac{d}{d t} \\theta{\\left(t \\right)}\\right)^{2} + 0.5 R g m \\cos{\\left(\\theta{\\left(t \\right)} \\right)} - 0.5 R g m \\cos{\\left(3 \\theta{\\left(t \\right)} \\right)}\\right)}{0.5 M R^{2} \\cdot \\left(1 - \\cos{\\left(4 \\theta{\\left(t \\right)} \\right)}\\right) - 4.0 M R \\sin{\\left(\\theta{\\left(t \\right)} \\right)} \\cos^{2}{\\left(\\theta{\\left(t \\right)} \\right)} + M \\cos^{2}{\\left(\\theta{\\left(t \\right)} \\right)} + 0.5 R^{2} m \\left(1 - \\cos{\\left(4 \\theta{\\left(t \\right)} \\right)}\\right) - m \\cos^{2}{\\left(\\theta{\\left(t \\right)} \\right)} + m}$"
      ],
      "text/plain": [
       "Eq(\\lambda, m*(2.0*M*R**2*cos(2*\\theta(t))*Derivative(\\theta(t), t)**2 + 0.5*M*R*g*cos(\\theta(t)) - 0.5*M*R*g*cos(3*\\theta(t)) + 1.0*M*R*sin(\\theta(t))*Derivative(\\theta(t), t)**2 - 0.5*M*g*sin(2*\\theta(t)) - 0.5*R**2*m*(1 - cos(2*\\theta(t)))**2*Derivative(\\theta(t), t)**2 + 0.5*R*g*m*cos(\\theta(t)) - 0.5*R*g*m*cos(3*\\theta(t)))/(0.5*M*R**2*(1 - cos(4*\\theta(t))) - 4.0*M*R*sin(\\theta(t))*cos(\\theta(t))**2 + M*cos(\\theta(t))**2 + 0.5*R**2*m*(1 - cos(4*\\theta(t))) - m*cos(\\theta(t))**2 + m))"
      ]
     },
     "metadata": {},
     "output_type": "display_data"
    }
   ],
   "source": [
    "new_eqs = []\n",
    "for i, eq in enumerate(eqns_solved):\n",
    "    \n",
    "    if i == 2:\n",
    "    new_eq = eq.simplify()\n",
    "    new_eqs.append(new_eq)\n",
    "    display(new_eq)"
   ]
  },
  {
   "cell_type": "code",
   "execution_count": 47,
   "metadata": {},
   "outputs": [],
   "source": [
    "#substitute in variables and lambdify\n",
    "xdd_sy = new_eqs[0].rhs.subs(const_dict)\n",
    "thetadd_sy = new_eqs[1].rhs.subs(const_dict)\n",
    "\n",
    "q_ext = sym.Matrix([xm, theta, xmd, thetad])\n",
    "\n",
    "xdd_np = sym.lambdify(q_ext, xdd_sy)\n",
    "thetadd_np = sym.lambdify(q_ext, thetadd_sy)\n"
   ]
  },
  {
   "cell_type": "code",
   "execution_count": 49,
   "metadata": {},
   "outputs": [],
   "source": [
    "#simulate motion of system\n",
    "def dxdt_p3(t, s):\n",
    "    return np.array([s[2],s[3], xdd_np(*s), thetadd_np(*s)])\n",
    "\n",
    "x0 = [0, 0, 0, 0.01]\n",
    "tspan = [0,15]\n",
    "dt = 0.01\n",
    "\n",
    "q_array = simulate(dxdt_p3, x0, tspan, dt, rk4)"
   ]
  },
  {
   "cell_type": "code",
   "execution_count": 50,
   "metadata": {},
   "outputs": [
    {
     "name": "stdout",
     "output_type": "stream",
     "text": [
      "[[-8.16747488e-09 -6.53556090e-08 -2.20636083e-07 ...  7.61583247e-01\n",
      "   8.02052798e-01  8.42266266e-01]\n",
      " [ 1.00018171e-04  2.00105399e-04  3.00310827e-04 ...  3.58194666e+00\n",
      "   3.60589272e+00  3.62943791e+00]\n",
      " [-2.45046508e-06 -9.80502298e-06 -2.20702267e-05 ...  4.05984387e+00\n",
      "   4.03411115e+00  4.00861726e+00]\n",
      " [ 1.00044518e-02  1.00138129e-02  1.00280938e-02 ...  2.41623850e+00\n",
      "   2.37378936e+00  2.33598433e+00]]\n"
     ]
    }
   ],
   "source": [
    "print(q_array)"
   ]
  },
  {
   "cell_type": "code",
   "execution_count": null,
   "metadata": {},
   "outputs": [],
   "source": [
    "x_array = q_array[0]\n",
    "theta_array = q_array[1]\n",
    "plt.plot(x_array)\n",
    "plt.plot(theta_array)\n",
    "\n",
    "plt.xlabel(\"Time (* 10^-2 seconds)\")\n",
    "plt.ylabel(\"Postion & Angle (m & radians)\")\n",
    "plt.title(\"Position of Double Pendulum over Time\")"
   ]
  },
  {
   "cell_type": "code",
   "execution_count": null,
   "metadata": {
    "id": "6KftDPMDX-5Z"
   },
   "outputs": [],
   "source": [
    "def animate_cart_pend(traj_array,R=1,T=15):\n",
    "    \"\"\"\n",
    "    Function to generate web-based animation of double-pendulum system\n",
    "\n",
    "    Parameters:\n",
    "    ================================================\n",
    "    traj_array:\n",
    "        trajectory of theta and x, should be a NumPy array with\n",
    "        shape of (2,N)\n",
    "    R:\n",
    "        length of the pendulum\n",
    "    T:\n",
    "        length/seconds of animation duration\n",
    "\n",
    "    Returns: None\n",
    "    \"\"\"\n",
    "\n",
    "    ################################\n",
    "    # Imports required for animation.\n",
    "    from plotly.offline import init_notebook_mode, iplot\n",
    "    from IPython.display import display, HTML\n",
    "    import plotly.graph_objects as go\n",
    "\n",
    "    #######################\n",
    "    # Browser configuration.\n",
    "    def configure_plotly_browser_state():\n",
    "        import IPython\n",
    "        display(IPython.core.display.HTML('''\n",
    "            <script src=\"/static/components/requirejs/require.js\"></script>\n",
    "            <script>\n",
    "              requirejs.config({\n",
    "                paths: {\n",
    "                  base: '/static/base',\n",
    "                  plotly: 'https://cdn.plot.ly/plotly-1.5.1.min.js?noext',\n",
    "                },\n",
    "              });\n",
    "            </script>\n",
    "            '''))\n",
    "    configure_plotly_browser_state()\n",
    "    init_notebook_mode(connected=False)\n",
    "\n",
    "    ###############################################\n",
    "    # Getting data from pendulum angle trajectories.\n",
    "    xcart=traj_array[0]\n",
    "    ycart = 0.0*np.ones(traj_array[0].shape)\n",
    "    N = len(traj_array[1])\n",
    "\n",
    "    xx1=xcart+R*np.sin(traj_array[1])\n",
    "    yy1=R*np.cos(traj_array[1])\n",
    "\n",
    "     # Need this for specifying length of simulation\n",
    "\n",
    "    ####################################\n",
    "    # Using these to specify axis limits.\n",
    "    xm=-4\n",
    "    xM= 4\n",
    "    ym=-4\n",
    "    yM= 4\n",
    "\n",
    "    ###########################\n",
    "    # Defining data dictionary.\n",
    "    # Trajectories are here.\n",
    "    data=[\n",
    "          dict(x=xcart, y=ycart, \n",
    "               mode='markers', name='Cart Traj', \n",
    "               marker=dict(color=\"green\", size=2)\n",
    "              ),\n",
    "          dict(x=xx1, y=yy1, \n",
    "               mode='lines', name='Arm', \n",
    "               line=dict(width=2, color='blue')\n",
    "              ),\n",
    "           dict(x=xx1, y=yy1, \n",
    "               mode='lines', name='Pendulum',\n",
    "               line=dict(width=2, color='purple')\n",
    "              ),\n",
    "\n",
    "           dict(x=xx1, y=yy1, \n",
    "               mode='markers', name='Pendulum Traj', \n",
    "               marker=dict(color=\"purple\", size=2)\n",
    "              ),\n",
    "        ]\n",
    "\n",
    "    ################################\n",
    "    # Preparing simulation layout.\n",
    "    # Title and axis ranges are here.\n",
    "    layout=dict(xaxis=dict(range=[xm, xM], autorange=False, zeroline=False,dtick=1),\n",
    "                yaxis=dict(range=[ym, yM], autorange=False, zeroline=False,scaleanchor = \"x\",dtick=1),\n",
    "                title='Cart Pendulum Simulation', \n",
    "                hovermode='closest',\n",
    "                updatemenus= [{'type': 'buttons',\n",
    "                               'buttons': [{'label': 'Play','method': 'animate',\n",
    "                                            'args': [None, {'frame': {'duration': T, 'redraw': False}}]},\n",
    "                                           {'args': [[None], {'frame': {'duration': T, 'redraw': False}, 'mode': 'immediate',\n",
    "                                            'transition': {'duration': 0}}],'label': 'Pause','method': 'animate'}\n",
    "                                          ]\n",
    "                              }]\n",
    "               )\n",
    "\n",
    "    ########################################\n",
    "    # Defining the frames of the simulation.\n",
    "    # This is what draws the lines from\n",
    "    # joint to joint of the pendulum.\n",
    "    frames=[dict(data=[go.Scatter(\n",
    "                            x=[xcart[k]],\n",
    "                            y=[ycart[k]],\n",
    "                            mode=\"markers\",\n",
    "                            marker_symbol=\"square\",\n",
    "                            marker=dict(color=\"blue\", size=30)),\n",
    "                       \n",
    "                       dict(x=[xx1[k],xcart[k]], \n",
    "                            y=[yy1[k],ycart[k]], \n",
    "                            mode='lines',\n",
    "                            line=dict(color='red', width=3)\n",
    "                            ),\n",
    "                       go.Scatter(\n",
    "                            x=[xx1[k]],\n",
    "                            y=[yy1[k]],\n",
    "                            mode=\"markers\",\n",
    "                            marker=dict(color=\"blue\", size=12)),\n",
    "\n",
    "                      ]) for k in range(N)]\n",
    "\n",
    "    #######################################\n",
    "    # Putting it all together and plotting.\n",
    "    figure1=dict(data=data, layout=layout, frames=frames)           \n",
    "    iplot(figure1)"
   ]
  },
  {
   "cell_type": "code",
   "execution_count": null,
   "metadata": {
    "id": "H-FttLVDX-5g"
   },
   "outputs": [],
   "source": []
  }
 ],
 "metadata": {
  "colab": {
   "collapsed_sections": [],
   "provenance": []
  },
  "kernelspec": {
   "display_name": "Python 3 (ipykernel)",
   "language": "python",
   "name": "python3"
  },
  "language_info": {
   "codemirror_mode": {
    "name": "ipython",
    "version": 3
   },
   "file_extension": ".py",
   "mimetype": "text/x-python",
   "name": "python",
   "nbconvert_exporter": "python",
   "pygments_lexer": "ipython3",
   "version": "3.10.7"
  }
 },
 "nbformat": 4,
 "nbformat_minor": 1
}
