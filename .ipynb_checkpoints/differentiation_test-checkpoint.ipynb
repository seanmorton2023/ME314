{
 "cells": [
  {
   "cell_type": "code",
   "execution_count": 4,
   "id": "dfbe8cba",
   "metadata": {},
   "outputs": [],
   "source": [
    "#IMPORT ALL NECESSARY PACKAGES AT THE TOP OF THE CODE\n",
    "import sympy as sym\n",
    "import numpy as np\n",
    "import matplotlib.pyplot as plt\n",
    "\n",
    "from IPython.display import Markdown, display\n",
    "\n",
    "# How to print in bold.You could wrap the \"display(Markdown())\"\"\n",
    "# in a function if you want a more concise alternative. \n",
    "\n",
    "# answer = 42\n",
    "\n",
    "# display(Markdown(\"**Hello World: {}**\".format(answer)))"
   ]
  },
  {
   "cell_type": "code",
   "execution_count": 6,
   "id": "a53e5218",
   "metadata": {},
   "outputs": [
    {
     "name": "stdout",
     "output_type": "stream",
     "text": [
      "The derivative of X is\n"
     ]
    },
    {
     "data": {
      "text/latex": [
       "$\\displaystyle \\left[\\begin{matrix}2 x & 2 y & 2 z\\end{matrix}\\right]$"
      ],
      "text/plain": [
       "Matrix([[2*x, 2*y, 2*z]])"
      ]
     },
     "metadata": {},
     "output_type": "display_data"
    },
    {
     "name": "stdout",
     "output_type": "stream",
     "text": [
      "The derivative of Y is\n"
     ]
    },
    {
     "data": {
      "text/latex": [
       "$\\displaystyle 2 f{\\left(s \\right)} \\frac{d}{d s} f{\\left(s \\right)}$"
      ],
      "text/plain": [
       "2*f(s)*Derivative(f(s), s)"
      ]
     },
     "metadata": {},
     "output_type": "display_data"
    },
    {
     "name": "stdout",
     "output_type": "stream",
     "text": [
      "The derivative of Z is\n"
     ]
    },
    {
     "data": {
      "text/latex": [
       "$\\displaystyle f^{2}{\\left(t \\right)}$"
      ],
      "text/plain": [
       "f(t)**2"
      ]
     },
     "metadata": {},
     "output_type": "display_data"
    }
   ],
   "source": [
    "import sympy as sym\n",
    "from sympy.abc import x, y, z, t, s\n",
    "from sympy import Matrix\n",
    "from sympy import Function, Symbol\n",
    "from sympy import diff, integrate\n",
    "\n",
    "t=Symbol('t')\n",
    "s=Symbol('s')\n",
    "f=Function('f')(s)\n",
    "g=Function('g')(s)\n",
    "\n",
    "# define a vector\n",
    "w = Matrix([ x, y, z])\n",
    "\n",
    "#define a function X of the vector w\n",
    "X=w.T*w\n",
    "diffX=(w.T*w).jacobian(w)\n",
    "print('The derivative of X is')\n",
    "display(diffX)\n",
    "\n",
    "#define a function Y of the function f\n",
    "Y=(f**2)\n",
    "diffY=Y.diff(s)\n",
    "print('The derivative of Y is')\n",
    "display(diffY)\n",
    "\n",
    "#define a function Z of the integral of a function and see if sympy applies\n",
    "#Leibniz rule\n",
    "Z=integrate(f**2,[s,0,t])\n",
    "diffZ=Z.diff(t)\n",
    "print('The derivative of Z is')\n",
    "display(diffZ)"
   ]
  },
  {
   "cell_type": "code",
   "execution_count": null,
   "id": "0eede554",
   "metadata": {},
   "outputs": [],
   "source": []
  }
 ],
 "metadata": {
  "kernelspec": {
   "display_name": "Python 3 (ipykernel)",
   "language": "python",
   "name": "python3"
  },
  "language_info": {
   "codemirror_mode": {
    "name": "ipython",
    "version": 3
   },
   "file_extension": ".py",
   "mimetype": "text/x-python",
   "name": "python",
   "nbconvert_exporter": "python",
   "pygments_lexer": "ipython3",
   "version": "3.10.7"
  }
 },
 "nbformat": 4,
 "nbformat_minor": 5
}
