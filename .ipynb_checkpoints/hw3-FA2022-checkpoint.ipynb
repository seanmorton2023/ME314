{
 "cells": [
  {
   "cell_type": "markdown",
   "metadata": {
    "id": "trgiPrPsJfDy"
   },
   "source": [
    "# ME314 Homework 3\n",
    "\n",
    "###Submission instructions\n",
    "\n",
    "Deliverables that should be included with your submission are shown in **bold** at the end of each problem statement and the corresponding supplemental material. **Your homework will be graded IFF you submit a single PDF, .mp4 videos of animations when requested and a link to a Google colab file that meet all the requirements outlined below.**\n",
    "\n",
    "- List the names of students you've collaborated with on this homework assignment.\n",
    "- Include all of your code (and handwritten solutions when applicable) used to complete the problems.\n",
    "- Highlight your answers (i.e. **bold** and outline the answers) for handwritten or markdown questions and include simplified code outputs (e.g. .simplify()) for python questions.\n",
    "- Enable Google Colab permission for viewing \n",
    " * Click Share in the upper right corner\n",
    " * Under \"Get Link\" click \"Share with...\" or \"Change\" \n",
    " * Then make sure it says \"Anyone with Link\" and \"Editor\" under the dropdown menu\n",
    "- Make sure all cells are run before submitting (i.e. check the permission by running your code in a private mode)\n",
    " * Please don't make changes to your file after submitting, so we can grade it!\n",
    "- Submit a link to your Google Colab file that has been run (before the submission deadline) and don't edit it afterwards!\n",
    "\n",
    "**NOTE:** This Juputer Notebook file serves as a template for you to start homework. Make sure you first copy this template to your own Google driver (click \"File\" -> \"Save a copy in Drive\"), and then start to edit it."
   ]
  },
  {
   "cell_type": "code",
   "execution_count": 1,
   "metadata": {
    "executionInfo": {
     "elapsed": 6,
     "status": "ok",
     "timestamp": 1665424268238,
     "user": {
      "displayName": "Jake Ketchum",
      "userId": "08878338408047028227"
     },
     "user_tz": 300
    },
    "id": "ZhKOVhNwgfbw"
   },
   "outputs": [],
   "source": [
    "#IMPORT CELL\n",
    "import sympy as sym\n",
    "import numpy as np\n",
    "import matplotlib.pyplot as plt\n",
    "import time\n"
   ]
  },
  {
   "cell_type": "code",
   "execution_count": 2,
   "metadata": {
    "executionInfo": {
     "elapsed": 12,
     "status": "ok",
     "timestamp": 1665424268347,
     "user": {
      "displayName": "Jake Ketchum",
      "userId": "08878338408047028227"
     },
     "user_tz": 300
    },
    "id": "EKCpAo0OJfDz"
   },
   "outputs": [],
   "source": [
    "##############################################################################################\n",
    "# If you're using Google Colab, uncomment this section by selecting the whole section and press\n",
    "# ctrl+'/' on your and keyboard. Run it before you start programming, this will enable the nice \n",
    "# LaTeX \"display()\" function for you. If you're using the local Jupyter environment, leave it alone\n",
    "##############################################################################################\n",
    "\n",
    "# def custom_latex_printer(exp,**options):\n",
    "#     from google.colab.output._publish import javascript\n",
    "#     url = \"https://cdnjs.cloudflare.com/ajax/libs/mathjax/3.1.1/latest.js?config=TeX-AMS_HTML\"\n",
    "#     javascript(url=url)\n",
    "#     return sym.printing.latex(exp,**options)\n",
    "# sym.init_printing(use_latex=\"mathjax\",latex_printer=custom_latex_printer)"
   ]
  },
  {
   "cell_type": "code",
   "execution_count": 12,
   "metadata": {},
   "outputs": [],
   "source": [
    "#helper functions I've used in past HW:\n",
    "\n",
    "def compute_EL(lagrangian, q):\n",
    "    '''\n",
    "    Helper function for computing the Euler-Lagrange equations for a given system,\n",
    "    so I don't have to keep writing it out over and over again.\n",
    "    \n",
    "    Inputs:\n",
    "    - lagrangian: our Lagrangian function in symbolic (Sympy) form\n",
    "    - q: our state vector [x1, x2, ...], in symbolic (Sympy) form\n",
    "    \n",
    "    Outputs:\n",
    "    - eqn: the Euler-Lagrange equations in Sympy form\n",
    "    '''\n",
    "    \n",
    "    # wrap system states into one vector (in SymPy would be Matrix)\n",
    "    #q = sym.Matrix([x1, x2])\n",
    "    qd = q.diff(t)\n",
    "    qdd = qd.diff(t)\n",
    "\n",
    "    # compute derivative wrt a vector, method 1\n",
    "    # wrap the expression into a SymPy Matrix\n",
    "    L_mat = sym.Matrix([lagrangian])\n",
    "    dL_dq = L_mat.jacobian(q)\n",
    "    dL_dqdot = L_mat.jacobian(qd)\n",
    "\n",
    "    #set up the Euler-Lagrange equations\n",
    "    LHS = dL_dq - dL_dqdot.diff(t)\n",
    "    RHS = sym.Matrix([0,0]).T\n",
    "    eqn = sym.Eq(LHS.T, RHS.T)\n",
    "    \n",
    "    return eqn\n",
    "\n",
    "\n",
    "def solve_EL(eqn, var):\n",
    "    '''\n",
    "    Helper function to solve and display the solution for the Euler-Lagrange\n",
    "    equations.\n",
    "    \n",
    "    Inputs:\n",
    "    - eqn: Euler-Lagrange equation (type: Sympy Equation())\n",
    "    - var: state vector (type: Sympy Matrix). typically a form of q-doubledot\n",
    "        but may have different terms\n",
    "    \n",
    "    Outputs:\n",
    "    - Prints symbolic solutions\n",
    "    - Returns symbolic solutions in a dictionary\n",
    "    '''\n",
    "    \n",
    "    soln = sym.solve(eqn, var, dict = True)\n",
    "    eqns_solved = []\n",
    "    \n",
    "    \n",
    "    for i, sol in enumerate(soln):\n",
    "        for x in list(sol.keys()):\n",
    "            eqn_solved = sym.Eq(x, sol[x])\n",
    "            eqns_solved.append(eqn_solved)\n",
    "            \n",
    "    return eqns_solved"
   ]
  },
  {
   "cell_type": "code",
   "execution_count": 4,
   "metadata": {},
   "outputs": [
    {
     "name": "stdout",
     "output_type": "stream",
     "text": [
      "assertion passed\n"
     ]
    }
   ],
   "source": [
    "def rk4(dxdt, x, t, dt):\n",
    "    '''\n",
    "    Applies the Runge-Kutta method, 4th order, to a sample function,\n",
    "    for a given state q0, for a given step size. Currently only\n",
    "    configured for a 2-variable dependent system (x,y).\n",
    "    ==========\n",
    "    dxdt: a Sympy function that specifies the derivative of the system of interest\n",
    "    t: the current timestep of the simulation\n",
    "    x: current value of the state vector\n",
    "    dt: the amount to increment by for Runge-Kutta\n",
    "    ======\n",
    "    returns:\n",
    "    x_new: value of the state vector at the next timestep\n",
    "    '''  \n",
    "    k1 = dt * dxdt(t, x)\n",
    "    k2 = dt * dxdt(t + dt/2.0, x + k1/2.0)\n",
    "    k3 = dt * dxdt(t + dt/2.0, x + k2/2.0)\n",
    "    k4 = dt * dxdt(t + dt, x + k3)\n",
    "    x_new = x + (k1 + 2.0*k2 + 2.0*k3 + k4)/6.0\n",
    "    \n",
    "    return x_new\n",
    "    \n",
    "rk = rk4(lambda t, x: x**2, 0.5, 2, 0.1)\n",
    "assert np.isclose(rk, 0.526315781526278075), f\"RK4 value: {rk}\" #from an online RK4 solver\n",
    "print(\"assertion passed\")\n"
   ]
  },
  {
   "cell_type": "code",
   "execution_count": 5,
   "metadata": {},
   "outputs": [],
   "source": [
    "def simulate(f, x0, tspan, dt, integrate):\n",
    "    \"\"\"\n",
    "    This function takes in an initial condition x0, a timestep dt,\n",
    "    a time span tspan consisting of a list [min_time, max_time],\n",
    "    as well as a dynamical system f(x) that outputs a vector of the\n",
    "    same dimension as x0. It outputs a full trajectory simulated\n",
    "    over the time span of dimensions (xvec_size, time_vec_size).\n",
    "    \n",
    "    Parameters\n",
    "    ============\n",
    "    f: Python function\n",
    "        derivate of the system at a given step x(t), \n",
    "        it can considered as \\dot{x}(t) = func(x(t))\n",
    "    x0: NumPy array\n",
    "        initial conditions\n",
    "    tspan: Python list\n",
    "        tspan = [min_time, max_time], it defines the start and end\n",
    "        time of simulation\n",
    "    dt:\n",
    "        time step for numerical integration\n",
    "    integrate: Python function\n",
    "        numerical integration method used in this simulation\n",
    "\n",
    "    Return\n",
    "    ============\n",
    "    x_traj:\n",
    "        simulated trajectory of x(t) from t=0 to tf\n",
    "    \"\"\"\n",
    "    N = int((max(tspan)-min(tspan))/dt)\n",
    "    x = np.copy(x0)\n",
    "    tvec = np.linspace(min(tspan),max(tspan),N)\n",
    "    xtraj = np.zeros((len(x0),N))\n",
    "    \n",
    "    for i in range(N):\n",
    "        t = tvec[i]\n",
    "        xtraj[:,i]=integrate(f,x,t,dt)\n",
    "        x = np.copy(xtraj[:,i])\n",
    "    return xtraj \n",
    "      "
   ]
  },
  {
   "cell_type": "markdown",
   "metadata": {
    "id": "-SUDkJtyJfD3"
   },
   "source": [
    "## Problem 1 (10pts)\n",
    "\n",
    "Let $f:\\mathbb{R}^2\\to\\mathbb{R}$ with $f(x,y)=\\sin(x+y)\\sin(x-y)$.  Show that $(x,y)=(0,\\pi/2)$ satisfies both the necessary and sufficient conditions to be a local minimizer of $f$.\n",
    "\n",
    "> *Hint 1: You will need to take the first and second order derivative of $f$ with respect to $[x,y]$.*\n",
    "\n",
    "---\n",
    "**Turn in: A scanned (or photograph from your phone or webcam) copy of your hand written solution. You can also use $\\LaTeX$. If you use SymPy, include a copy of your code and all the outputs. Regardless of the format you choose, explain why your result satisfies the necessary and sufficient conditions.**"
   ]
  },
  {
   "cell_type": "markdown",
   "metadata": {
    "id": "z4wkvcQjJfD1"
   },
   "source": [
    "Below are the help functions in previous homeworks, which you may need for this homework."
   ]
  },
  {
   "cell_type": "code",
   "execution_count": 6,
   "metadata": {
    "executionInfo": {
     "elapsed": 31,
     "status": "ok",
     "timestamp": 1665424268523,
     "user": {
      "displayName": "Jake Ketchum",
      "userId": "08878338408047028227"
     },
     "user_tz": 300
    },
    "id": "fojgpjP9JfD4"
   },
   "outputs": [
    {
     "name": "stdout",
     "output_type": "stream",
     "text": [
      "Function:\n"
     ]
    },
    {
     "data": {
      "text/latex": [
       "$\\displaystyle \\sin{\\left(x - y \\right)} \\sin{\\left(x + y \\right)}$"
      ],
      "text/plain": [
       "sin(x - y)*sin(x + y)"
      ]
     },
     "metadata": {},
     "output_type": "display_data"
    },
    {
     "name": "stdout",
     "output_type": "stream",
     "text": [
      "\n",
      "Derivs wrt x:\n"
     ]
    },
    {
     "data": {
      "text/latex": [
       "$\\displaystyle \\sin{\\left(2 x \\right)}$"
      ],
      "text/plain": [
       "sin(2*x)"
      ]
     },
     "metadata": {},
     "output_type": "display_data"
    },
    {
     "data": {
      "text/latex": [
       "$\\displaystyle 2 \\cos{\\left(2 x \\right)}$"
      ],
      "text/plain": [
       "2*cos(2*x)"
      ]
     },
     "metadata": {},
     "output_type": "display_data"
    },
    {
     "name": "stdout",
     "output_type": "stream",
     "text": [
      "\n",
      "Derivs wrt y:\n"
     ]
    },
    {
     "data": {
      "text/latex": [
       "$\\displaystyle - \\sin{\\left(2 y \\right)}$"
      ],
      "text/plain": [
       "-sin(2*y)"
      ]
     },
     "metadata": {},
     "output_type": "display_data"
    },
    {
     "data": {
      "text/latex": [
       "$\\displaystyle - 2 \\cos{\\left(2 y \\right)}$"
      ],
      "text/plain": [
       "-2*cos(2*y)"
      ]
     },
     "metadata": {},
     "output_type": "display_data"
    },
    {
     "name": "stdout",
     "output_type": "stream",
     "text": [
      "\n"
     ]
    }
   ],
   "source": [
    "#define variables. do x,y need to be functions/variables/something?\n",
    "x, y, t = sym.symbols(r'x,y,t')\n",
    "f = sym.sin(x + y) * sym.sin(x - y)\n",
    "\n",
    "#derivatives with respect to x, y\n",
    "dfx = f.diff(x)\n",
    "ddfx = dfx.diff(x)\n",
    "\n",
    "dfy = f.diff(y)\n",
    "ddfy = dfy.diff(y)\n",
    "\n",
    "print(\"Function:\")\n",
    "display(f)\n",
    "print()\n",
    "\n",
    "print(\"Derivs wrt x:\")\n",
    "display(dfx.simplify())\n",
    "display(ddfx.simplify())\n",
    "print()\n",
    "\n",
    "print(\"Derivs wrt y:\")\n",
    "display(dfy.simplify())\n",
    "display(ddfy.simplify())\n",
    "print()\n",
    "\n"
   ]
  },
  {
   "cell_type": "code",
   "execution_count": 7,
   "metadata": {},
   "outputs": [
    {
     "name": "stdout",
     "output_type": "stream",
     "text": [
      "First and second derivatives at (0, pi/2):\n",
      "dfx: 0.0\n",
      "ddfx: 2.0\n",
      "dfy: -1.2246467991473532e-16\n",
      "ddfy: 2.0\n"
     ]
    }
   ],
   "source": [
    "dfx_np = sym.lambdify(sym.Matrix([x,y]), dfx.simplify())\n",
    "ddfx_np = sym.lambdify(sym.Matrix([x,y]), ddfx.simplify())\n",
    "dfy_np = sym.lambdify(sym.Matrix([x,y]), dfy.simplify())\n",
    "ddfy_np = sym.lambdify(sym.Matrix([x,y]), ddfy.simplify())\n",
    "\n",
    "#expect first derivatives to be 0 and second derivatives to be >0\n",
    "#for point (0, pi/2) to be a local minimizer of f\n",
    "\n",
    "print(\"First and second derivatives at (0, pi/2):\")\n",
    "print(f\"dfx: {dfx_np(0,np.pi/2)}\")\n",
    "print(f\"ddfx: {ddfx_np(0,np.pi/2)}\")\n",
    "print(f\"dfy: {dfy_np(0,np.pi/2)}\")\n",
    "print(f\"ddfy: {ddfy_np(0,np.pi/2)}\")"
   ]
  },
  {
   "cell_type": "markdown",
   "metadata": {},
   "source": [
    "The first and second derivatives of f, with respect to x and y, show that the function is locally minimized at (x,y) = (0, pi/2). "
   ]
  },
  {
   "cell_type": "markdown",
   "metadata": {
    "id": "YK1UkYW_hiMb"
   },
   "source": [
    "## Problem 2 (20pts)"
   ]
  },
  {
   "cell_type": "code",
   "execution_count": 8,
   "metadata": {
    "cellView": "form",
    "colab": {
     "base_uri": "https://localhost:8080/",
     "height": 377
    },
    "executionInfo": {
     "elapsed": 31,
     "status": "ok",
     "timestamp": 1665424268525,
     "user": {
      "displayName": "Jake Ketchum",
      "userId": "08878338408047028227"
     },
     "user_tz": 300
    },
    "id": "B-DiCe_mJfD6",
    "outputId": "83e13772-058e-49e8-d060-d89151519dbd"
   },
   "outputs": [
    {
     "data": {
      "text/html": [
       "<table><tr><td><img src='https://github.com/MuchenSun/ME314pngs/raw/master/twolinearmasses.png' width=500' height='350'></table>"
      ],
      "text/plain": [
       "<IPython.core.display.HTML object>"
      ]
     },
     "metadata": {},
     "output_type": "display_data"
    }
   ],
   "source": [
    "#@title\n",
    "from IPython.core.display import HTML\n",
    "display(HTML(\"<table><tr><td><img src='https://github.com/MuchenSun/ME314pngs/raw/master/twolinearmasses.png' width=500' height='350'></table>\"))"
   ]
  },
  {
   "cell_type": "markdown",
   "metadata": {
    "id": "lT8T6Q6pJfD8"
   },
   "source": [
    "Compute the equations of motion for the two-mass-spring system (shown above) in $\\theta=(\\theta_1,\\theta_2)$ coordinates. The first sphere with mass $m_1$ is the one close to the wall, and the second sphere has mass $m_2$. Assume that there is a spring of spring constant $k_1$ between the first mass and the wall and a spring of spring constant $k_2$ between the first mass and the second mass.\n",
    "\n",
    "---\n",
    "**Turn in: Include the code used to symbolically solve for the equations of motion and the code output, which should be the equations of motion. Make sure you are using *SimPy*'s `.simplify()` functionality when printing your output.**"
   ]
  },
  {
   "cell_type": "code",
   "execution_count": 19,
   "metadata": {
    "executionInfo": {
     "elapsed": 28,
     "status": "ok",
     "timestamp": 1665424268526,
     "user": {
      "displayName": "Jake Ketchum",
      "userId": "08878338408047028227"
     },
     "user_tz": 300
    },
    "id": "FxvYr5lLJfD8"
   },
   "outputs": [
    {
     "name": "stdout",
     "output_type": "stream",
     "text": [
      "Representations y1(theta) and y1d:\n"
     ]
    },
    {
     "data": {
      "text/latex": [
       "$\\displaystyle L \\tan{\\left(\\theta_{1}{\\left(t \\right)} \\right)}$"
      ],
      "text/plain": [
       "L*tan(\\theta_1(t))"
      ]
     },
     "metadata": {},
     "output_type": "display_data"
    },
    {
     "data": {
      "text/latex": [
       "$\\displaystyle L \\left(\\tan^{2}{\\left(\\theta_{1}{\\left(t \\right)} \\right)} + 1\\right) \\frac{d}{d t} \\theta_{1}{\\left(t \\right)}$"
      ],
      "text/plain": [
       "L*(tan(\\theta_1(t))**2 + 1)*Derivative(\\theta_1(t), t)"
      ]
     },
     "metadata": {},
     "output_type": "display_data"
    },
    {
     "name": "stdout",
     "output_type": "stream",
     "text": [
      "Representations y1(theta) and y1d:\n"
     ]
    },
    {
     "data": {
      "text/latex": [
       "$\\displaystyle L \\tan{\\left(\\theta_{1}{\\left(t \\right)} + \\theta_{2}{\\left(t \\right)} \\right)}$"
      ],
      "text/plain": [
       "L*tan(\\theta_1(t) + \\theta_2(t))"
      ]
     },
     "metadata": {},
     "output_type": "display_data"
    },
    {
     "data": {
      "text/latex": [
       "$\\displaystyle L \\left(\\tan^{2}{\\left(\\theta_{1}{\\left(t \\right)} + \\theta_{2}{\\left(t \\right)} \\right)} + 1\\right) \\left(\\frac{d}{d t} \\theta_{1}{\\left(t \\right)} + \\frac{d}{d t} \\theta_{2}{\\left(t \\right)}\\right)$"
      ],
      "text/plain": [
       "L*(tan(\\theta_1(t) + \\theta_2(t))**2 + 1)*(Derivative(\\theta_1(t), t) + Derivative(\\theta_2(t), t))"
      ]
     },
     "metadata": {},
     "output_type": "display_data"
    }
   ],
   "source": [
    "#grab variables\n",
    "m1, m2, k1, k2, L = sym.symbols(r'm_1, m_2, k_1, k_2, L')\n",
    "t = sym.symbols(r't')\n",
    "\n",
    "#define variables\n",
    "theta1 = sym.Function(r'\\theta_1')(t)\n",
    "theta2 = sym.Function(r'\\theta_2')(t)\n",
    "\n",
    "theta1d = theta1.diff(t)\n",
    "theta1dd = theta1d.diff(t)\n",
    "\n",
    "theta2d = theta2.diff(t)\n",
    "theta2dd = theta2d.diff(t)\n",
    "\n",
    "#let y coords be an intermediate for calculating equations\n",
    "y1 = L*sym.tan(theta1)\n",
    "y2 = L*sym.tan(theta1 + theta2)\n",
    "\n",
    "y1d = y1.diff(t)\n",
    "y2d = y2.diff(t)\n",
    "\n",
    "#print y1 and y2 in terms of theta\n",
    "print(\"Representations y1(theta) and y1d:\")\n",
    "display(y1)\n",
    "display(y1d)\n",
    "print(\"Representations y1(theta) and y1d:\")\n",
    "display(y2)\n",
    "display(y2d)\n"
   ]
  },
  {
   "cell_type": "code",
   "execution_count": 20,
   "metadata": {},
   "outputs": [
    {
     "name": "stdout",
     "output_type": "stream",
     "text": [
      "Energy functions:\n"
     ]
    },
    {
     "data": {
      "text/latex": [
       "$\\displaystyle 0.5 L^{2} m_{1} \\left(\\tan^{2}{\\left(\\theta_{1}{\\left(t \\right)} \\right)} + 1\\right)^{2} \\left(\\frac{d}{d t} \\theta_{1}{\\left(t \\right)}\\right)^{2} + 0.5 L^{2} m_{2} \\left(\\tan^{2}{\\left(\\theta_{1}{\\left(t \\right)} + \\theta_{2}{\\left(t \\right)} \\right)} + 1\\right)^{2} \\left(\\frac{d}{d t} \\theta_{1}{\\left(t \\right)} + \\frac{d}{d t} \\theta_{2}{\\left(t \\right)}\\right)^{2}$"
      ],
      "text/plain": [
       "0.5*L**2*m_1*(tan(\\theta_1(t))**2 + 1)**2*Derivative(\\theta_1(t), t)**2 + 0.5*L**2*m_2*(tan(\\theta_1(t) + \\theta_2(t))**2 + 1)**2*(Derivative(\\theta_1(t), t) + Derivative(\\theta_2(t), t))**2"
      ]
     },
     "metadata": {},
     "output_type": "display_data"
    },
    {
     "data": {
      "text/latex": [
       "$\\displaystyle 0.5 L^{2} k_{1} \\tan^{2}{\\left(\\theta_{1}{\\left(t \\right)} \\right)} + 0.5 k_{2} \\left(L \\tan{\\left(\\theta_{1}{\\left(t \\right)} + \\theta_{2}{\\left(t \\right)} \\right)} - L \\tan{\\left(\\theta_{1}{\\left(t \\right)} \\right)}\\right)^{2}$"
      ],
      "text/plain": [
       "0.5*L**2*k_1*tan(\\theta_1(t))**2 + 0.5*k_2*(L*tan(\\theta_1(t) + \\theta_2(t)) - L*tan(\\theta_1(t)))**2"
      ]
     },
     "metadata": {},
     "output_type": "display_data"
    },
    {
     "name": "stdout",
     "output_type": "stream",
     "text": [
      "\n",
      "Lagrangian:\n"
     ]
    },
    {
     "data": {
      "text/latex": [
       "$\\displaystyle - 0.5 L^{2} k_{1} \\tan^{2}{\\left(\\theta_{1}{\\left(t \\right)} \\right)} + 0.5 L^{2} m_{1} \\left(\\tan^{2}{\\left(\\theta_{1}{\\left(t \\right)} \\right)} + 1\\right)^{2} \\left(\\frac{d}{d t} \\theta_{1}{\\left(t \\right)}\\right)^{2} + 0.5 L^{2} m_{2} \\left(\\tan^{2}{\\left(\\theta_{1}{\\left(t \\right)} + \\theta_{2}{\\left(t \\right)} \\right)} + 1\\right)^{2} \\left(\\frac{d}{d t} \\theta_{1}{\\left(t \\right)} + \\frac{d}{d t} \\theta_{2}{\\left(t \\right)}\\right)^{2} - 0.5 k_{2} \\left(L \\tan{\\left(\\theta_{1}{\\left(t \\right)} + \\theta_{2}{\\left(t \\right)} \\right)} - L \\tan{\\left(\\theta_{1}{\\left(t \\right)} \\right)}\\right)^{2}$"
      ],
      "text/plain": [
       "-0.5*L**2*k_1*tan(\\theta_1(t))**2 + 0.5*L**2*m_1*(tan(\\theta_1(t))**2 + 1)**2*Derivative(\\theta_1(t), t)**2 + 0.5*L**2*m_2*(tan(\\theta_1(t) + \\theta_2(t))**2 + 1)**2*(Derivative(\\theta_1(t), t) + Derivative(\\theta_2(t), t))**2 - 0.5*k_2*(L*tan(\\theta_1(t) + \\theta_2(t)) - L*tan(\\theta_1(t)))**2"
      ]
     },
     "metadata": {},
     "output_type": "display_data"
    }
   ],
   "source": [
    "#kinetic and potential energy functions\n",
    "KE1 = 0.5 * m1 * y1d**2 \n",
    "KE2 = 0.5 * m2 * y2d**2\n",
    "KE = KE1 + KE2\n",
    "\n",
    "U1 = 0.5 * k1 * y1**2\n",
    "U2 = 0.5 * k2 * (y2 - y1) **2\n",
    "U = U1 + U2\n",
    "\n",
    "print(\"Energy functions:\")\n",
    "display(KE)\n",
    "display(U)\n",
    "\n",
    "#lagrangian\n",
    "lagrangian = KE - U\n",
    "print(\"\\nLagrangian:\")\n",
    "display(lagrangian)\n",
    "\n",
    "# print(\"\\nSimplified:\")\n",
    "# lagrangian = lagrangian.simplify()\n",
    "# display(lagrangian)"
   ]
  },
  {
   "cell_type": "code",
   "execution_count": 22,
   "metadata": {},
   "outputs": [
    {
     "name": "stdout",
     "output_type": "stream",
     "text": [
      "Euler-Lagrange Equations:\n",
      "Eq(Matrix([\n",
      "[0],\n",
      "[0]]), Matrix([\n",
      "[L**2*(-1.0*k_1*tan(\\theta_1(t))/cos(\\theta_1(t))**2 - 1.0*k_2*(tan(\\theta_1(t) + \\theta_2(t)) - tan(\\theta_1(t)))*(tan(\\theta_1(t) + \\theta_2(t))**2 - tan(\\theta_1(t))**2) - 2.0*m_1*tan(\\theta_1(t))*Derivative(\\theta_1(t), t)**2/cos(\\theta_1(t))**4 - 1.0*m_1*Derivative(\\theta_1(t), (t, 2))/cos(\\theta_1(t))**4 - 2.0*m_2*(tan(\\theta_1(t) + \\theta_2(t))**2 + 1)**2*(Derivative(\\theta_1(t), t) + Derivative(\\theta_2(t), t))**2*tan(\\theta_1(t) + \\theta_2(t)) - 1.0*m_2*(tan(\\theta_1(t) + \\theta_2(t))**2 + 1)**2*(Derivative(\\theta_1(t), (t, 2)) + Derivative(\\theta_2(t), (t, 2))))],\n",
      "[                                                                                                                                                                                                                  L**2*(tan(\\theta_1(t) + \\theta_2(t))**2 + 1)*(-1.0*k_2*(tan(\\theta_1(t) + \\theta_2(t)) - tan(\\theta_1(t))) - 2.0*m_2*(tan(\\theta_1(t) + \\theta_2(t))**2 + 1)*(Derivative(\\theta_1(t), t) + Derivative(\\theta_2(t), t))**2*tan(\\theta_1(t) + \\theta_2(t)) - 1.0*m_2*(tan(\\theta_1(t) + \\theta_2(t))**2 + 1)*(Derivative(\\theta_1(t), (t, 2)) + Derivative(\\theta_2(t), (t, 2))))]]))\n"
     ]
    }
   ],
   "source": [
    "#compute E-L equations\n",
    "q = sym.Matrix([theta1, theta2])\n",
    "eqn = compute_EL(lagrangian, q)\n",
    "print(\"Euler-Lagrange Equations:\")\n",
    "eqn = eqn.simplify()\n"
   ]
  },
  {
   "cell_type": "code",
   "execution_count": 23,
   "metadata": {},
   "outputs": [
    {
     "data": {
      "text/latex": [
       "$\\displaystyle \\left[\\begin{matrix}0\\\\0\\end{matrix}\\right] = \\left[\\begin{matrix}L^{2} \\left(- \\frac{1.0 k_{1} \\tan{\\left(\\theta_{1}{\\left(t \\right)} \\right)}}{\\cos^{2}{\\left(\\theta_{1}{\\left(t \\right)} \\right)}} - 1.0 k_{2} \\left(\\tan{\\left(\\theta_{1}{\\left(t \\right)} + \\theta_{2}{\\left(t \\right)} \\right)} - \\tan{\\left(\\theta_{1}{\\left(t \\right)} \\right)}\\right) \\left(\\tan^{2}{\\left(\\theta_{1}{\\left(t \\right)} + \\theta_{2}{\\left(t \\right)} \\right)} - \\tan^{2}{\\left(\\theta_{1}{\\left(t \\right)} \\right)}\\right) - \\frac{2.0 m_{1} \\tan{\\left(\\theta_{1}{\\left(t \\right)} \\right)} \\left(\\frac{d}{d t} \\theta_{1}{\\left(t \\right)}\\right)^{2}}{\\cos^{4}{\\left(\\theta_{1}{\\left(t \\right)} \\right)}} - \\frac{1.0 m_{1} \\frac{d^{2}}{d t^{2}} \\theta_{1}{\\left(t \\right)}}{\\cos^{4}{\\left(\\theta_{1}{\\left(t \\right)} \\right)}} - 2.0 m_{2} \\left(\\tan^{2}{\\left(\\theta_{1}{\\left(t \\right)} + \\theta_{2}{\\left(t \\right)} \\right)} + 1\\right)^{2} \\left(\\frac{d}{d t} \\theta_{1}{\\left(t \\right)} + \\frac{d}{d t} \\theta_{2}{\\left(t \\right)}\\right)^{2} \\tan{\\left(\\theta_{1}{\\left(t \\right)} + \\theta_{2}{\\left(t \\right)} \\right)} - 1.0 m_{2} \\left(\\tan^{2}{\\left(\\theta_{1}{\\left(t \\right)} + \\theta_{2}{\\left(t \\right)} \\right)} + 1\\right)^{2} \\left(\\frac{d^{2}}{d t^{2}} \\theta_{1}{\\left(t \\right)} + \\frac{d^{2}}{d t^{2}} \\theta_{2}{\\left(t \\right)}\\right)\\right)\\\\L^{2} \\left(\\tan^{2}{\\left(\\theta_{1}{\\left(t \\right)} + \\theta_{2}{\\left(t \\right)} \\right)} + 1\\right) \\left(- 1.0 k_{2} \\left(\\tan{\\left(\\theta_{1}{\\left(t \\right)} + \\theta_{2}{\\left(t \\right)} \\right)} - \\tan{\\left(\\theta_{1}{\\left(t \\right)} \\right)}\\right) - 2.0 m_{2} \\left(\\tan^{2}{\\left(\\theta_{1}{\\left(t \\right)} + \\theta_{2}{\\left(t \\right)} \\right)} + 1\\right) \\left(\\frac{d}{d t} \\theta_{1}{\\left(t \\right)} + \\frac{d}{d t} \\theta_{2}{\\left(t \\right)}\\right)^{2} \\tan{\\left(\\theta_{1}{\\left(t \\right)} + \\theta_{2}{\\left(t \\right)} \\right)} - 1.0 m_{2} \\left(\\tan^{2}{\\left(\\theta_{1}{\\left(t \\right)} + \\theta_{2}{\\left(t \\right)} \\right)} + 1\\right) \\left(\\frac{d^{2}}{d t^{2}} \\theta_{1}{\\left(t \\right)} + \\frac{d^{2}}{d t^{2}} \\theta_{2}{\\left(t \\right)}\\right)\\right)\\end{matrix}\\right]$"
      ],
      "text/plain": [
       "Eq(Matrix([\n",
       "[0],\n",
       "[0]]), Matrix([\n",
       "[L**2*(-1.0*k_1*tan(\\theta_1(t))/cos(\\theta_1(t))**2 - 1.0*k_2*(tan(\\theta_1(t) + \\theta_2(t)) - tan(\\theta_1(t)))*(tan(\\theta_1(t) + \\theta_2(t))**2 - tan(\\theta_1(t))**2) - 2.0*m_1*tan(\\theta_1(t))*Derivative(\\theta_1(t), t)**2/cos(\\theta_1(t))**4 - 1.0*m_1*Derivative(\\theta_1(t), (t, 2))/cos(\\theta_1(t))**4 - 2.0*m_2*(tan(\\theta_1(t) + \\theta_2(t))**2 + 1)**2*(Derivative(\\theta_1(t), t) + Derivative(\\theta_2(t), t))**2*tan(\\theta_1(t) + \\theta_2(t)) - 1.0*m_2*(tan(\\theta_1(t) + \\theta_2(t))**2 + 1)**2*(Derivative(\\theta_1(t), (t, 2)) + Derivative(\\theta_2(t), (t, 2))))],\n",
       "[                                                                                                                                                                                                                  L**2*(tan(\\theta_1(t) + \\theta_2(t))**2 + 1)*(-1.0*k_2*(tan(\\theta_1(t) + \\theta_2(t)) - tan(\\theta_1(t))) - 2.0*m_2*(tan(\\theta_1(t) + \\theta_2(t))**2 + 1)*(Derivative(\\theta_1(t), t) + Derivative(\\theta_2(t), t))**2*tan(\\theta_1(t) + \\theta_2(t)) - 1.0*m_2*(tan(\\theta_1(t) + \\theta_2(t))**2 + 1)*(Derivative(\\theta_1(t), (t, 2)) + Derivative(\\theta_2(t), (t, 2))))]]))"
      ]
     },
     "metadata": {},
     "output_type": "display_data"
    }
   ],
   "source": [
    "#took about 4min to run that\n",
    "display(eqn)"
   ]
  },
  {
   "cell_type": "code",
   "execution_count": 24,
   "metadata": {},
   "outputs": [
    {
     "name": "stdout",
     "output_type": "stream",
     "text": [
      "Solved:\n",
      "Equation 1:\n"
     ]
    },
    {
     "data": {
      "text/latex": [
       "$\\displaystyle \\frac{d^{2}}{d t^{2}} \\theta_{1}{\\left(t \\right)} = \\frac{- 0.5 k_{1} \\sin{\\left(2 \\theta_{1}{\\left(t \\right)} \\right)} \\tan{\\left(\\theta_{1}{\\left(t \\right)} \\right)} \\tan{\\left(\\theta_{2}{\\left(t \\right)} \\right)} + 0.5 k_{1} \\sin{\\left(2 \\theta_{1}{\\left(t \\right)} \\right)} - 1.0 k_{2} \\tan{\\left(\\theta_{2}{\\left(t \\right)} \\right)} - 2.0 m_{1} \\tan^{2}{\\left(\\theta_{1}{\\left(t \\right)} \\right)} \\tan{\\left(\\theta_{2}{\\left(t \\right)} \\right)} \\left(\\frac{d}{d t} \\theta_{1}{\\left(t \\right)}\\right)^{2} + 2.0 m_{1} \\tan{\\left(\\theta_{1}{\\left(t \\right)} \\right)} \\left(\\frac{d}{d t} \\theta_{1}{\\left(t \\right)}\\right)^{2}}{m_{1} \\left(\\tan{\\left(\\theta_{1}{\\left(t \\right)} \\right)} \\tan{\\left(\\theta_{2}{\\left(t \\right)} \\right)} - 1\\right)}$"
      ],
      "text/plain": [
       "Eq(Derivative(\\theta_1(t), (t, 2)), (-0.5*k_1*sin(2*\\theta_1(t))*tan(\\theta_1(t))*tan(\\theta_2(t)) + 0.5*k_1*sin(2*\\theta_1(t)) - 1.0*k_2*tan(\\theta_2(t)) - 2.0*m_1*tan(\\theta_1(t))**2*tan(\\theta_2(t))*Derivative(\\theta_1(t), t)**2 + 2.0*m_1*tan(\\theta_1(t))*Derivative(\\theta_1(t), t)**2)/(m_1*(tan(\\theta_1(t))*tan(\\theta_2(t)) - 1)))"
      ]
     },
     "metadata": {},
     "output_type": "display_data"
    },
    {
     "name": "stdout",
     "output_type": "stream",
     "text": [
      "Equation 2:\n"
     ]
    },
    {
     "data": {
      "text/latex": [
       "$\\displaystyle \\frac{d^{2}}{d t^{2}} \\theta_{2}{\\left(t \\right)} = \\frac{\\frac{k_{1} m_{2} \\sin{\\left(2 \\theta_{1}{\\left(t \\right)} \\right)}}{2} + k_{1} m_{2} \\cos^{2}{\\left(\\theta_{1}{\\left(t \\right)} \\right)} \\tan^{2}{\\left(\\theta_{1}{\\left(t \\right)} + \\theta_{2}{\\left(t \\right)} \\right)} \\tan{\\left(\\theta_{1}{\\left(t \\right)} \\right)} - k_{2} m_{1} \\tan{\\left(\\theta_{1}{\\left(t \\right)} + \\theta_{2}{\\left(t \\right)} \\right)} + k_{2} m_{1} \\tan{\\left(\\theta_{1}{\\left(t \\right)} \\right)} + k_{2} m_{2} \\sin^{3}{\\left(\\theta_{1}{\\left(t \\right)} \\right)} \\cos{\\left(\\theta_{1}{\\left(t \\right)} \\right)} - k_{2} m_{2} \\cos^{4}{\\left(\\theta_{1}{\\left(t \\right)} \\right)} \\tan^{3}{\\left(\\theta_{1}{\\left(t \\right)} + \\theta_{2}{\\left(t \\right)} \\right)} \\tan^{2}{\\left(\\theta_{1}{\\left(t \\right)} \\right)} - k_{2} m_{2} \\cos^{4}{\\left(\\theta_{1}{\\left(t \\right)} \\right)} \\tan^{3}{\\left(\\theta_{1}{\\left(t \\right)} + \\theta_{2}{\\left(t \\right)} \\right)} + k_{2} m_{2} \\cos^{4}{\\left(\\theta_{1}{\\left(t \\right)} \\right)} \\tan^{2}{\\left(\\theta_{1}{\\left(t \\right)} + \\theta_{2}{\\left(t \\right)} \\right)} \\tan^{3}{\\left(\\theta_{1}{\\left(t \\right)} \\right)} + k_{2} m_{2} \\cos^{4}{\\left(\\theta_{1}{\\left(t \\right)} \\right)} \\tan^{2}{\\left(\\theta_{1}{\\left(t \\right)} + \\theta_{2}{\\left(t \\right)} \\right)} \\tan{\\left(\\theta_{1}{\\left(t \\right)} \\right)} - k_{2} m_{2} \\cos^{4}{\\left(\\theta_{1}{\\left(t \\right)} \\right)} \\tan{\\left(\\theta_{1}{\\left(t \\right)} + \\theta_{2}{\\left(t \\right)} \\right)} \\tan^{2}{\\left(\\theta_{1}{\\left(t \\right)} \\right)} - k_{2} m_{2} \\cos^{4}{\\left(\\theta_{1}{\\left(t \\right)} \\right)} \\tan{\\left(\\theta_{1}{\\left(t \\right)} + \\theta_{2}{\\left(t \\right)} \\right)} + k_{2} m_{2} \\cos^{4}{\\left(\\theta_{1}{\\left(t \\right)} \\right)} \\tan{\\left(\\theta_{1}{\\left(t \\right)} \\right)} - 2.0 m_{1} m_{2} \\tan^{3}{\\left(\\theta_{1}{\\left(t \\right)} + \\theta_{2}{\\left(t \\right)} \\right)} \\left(\\frac{d}{d t} \\theta_{1}{\\left(t \\right)}\\right)^{2} - 4.0 m_{1} m_{2} \\tan^{3}{\\left(\\theta_{1}{\\left(t \\right)} + \\theta_{2}{\\left(t \\right)} \\right)} \\frac{d}{d t} \\theta_{1}{\\left(t \\right)} \\frac{d}{d t} \\theta_{2}{\\left(t \\right)} - 2.0 m_{1} m_{2} \\tan^{3}{\\left(\\theta_{1}{\\left(t \\right)} + \\theta_{2}{\\left(t \\right)} \\right)} \\left(\\frac{d}{d t} \\theta_{2}{\\left(t \\right)}\\right)^{2} + 2.0 m_{1} m_{2} \\tan^{2}{\\left(\\theta_{1}{\\left(t \\right)} + \\theta_{2}{\\left(t \\right)} \\right)} \\tan{\\left(\\theta_{1}{\\left(t \\right)} \\right)} \\left(\\frac{d}{d t} \\theta_{1}{\\left(t \\right)}\\right)^{2} - 2.0 m_{1} m_{2} \\tan{\\left(\\theta_{1}{\\left(t \\right)} + \\theta_{2}{\\left(t \\right)} \\right)} \\left(\\frac{d}{d t} \\theta_{1}{\\left(t \\right)}\\right)^{2} - 4.0 m_{1} m_{2} \\tan{\\left(\\theta_{1}{\\left(t \\right)} + \\theta_{2}{\\left(t \\right)} \\right)} \\frac{d}{d t} \\theta_{1}{\\left(t \\right)} \\frac{d}{d t} \\theta_{2}{\\left(t \\right)} - 2.0 m_{1} m_{2} \\tan{\\left(\\theta_{1}{\\left(t \\right)} + \\theta_{2}{\\left(t \\right)} \\right)} \\left(\\frac{d}{d t} \\theta_{2}{\\left(t \\right)}\\right)^{2} + 2.0 m_{1} m_{2} \\tan{\\left(\\theta_{1}{\\left(t \\right)} \\right)} \\left(\\frac{d}{d t} \\theta_{1}{\\left(t \\right)}\\right)^{2}}{m_{1} m_{2} \\left(\\tan^{2}{\\left(\\theta_{1}{\\left(t \\right)} + \\theta_{2}{\\left(t \\right)} \\right)} + 1\\right)}$"
      ],
      "text/plain": [
       "Eq(Derivative(\\theta_2(t), (t, 2)), (k_1*m_2*sin(2*\\theta_1(t))/2 + k_1*m_2*cos(\\theta_1(t))**2*tan(\\theta_1(t) + \\theta_2(t))**2*tan(\\theta_1(t)) - k_2*m_1*tan(\\theta_1(t) + \\theta_2(t)) + k_2*m_1*tan(\\theta_1(t)) + k_2*m_2*sin(\\theta_1(t))**3*cos(\\theta_1(t)) - k_2*m_2*cos(\\theta_1(t))**4*tan(\\theta_1(t) + \\theta_2(t))**3*tan(\\theta_1(t))**2 - k_2*m_2*cos(\\theta_1(t))**4*tan(\\theta_1(t) + \\theta_2(t))**3 + k_2*m_2*cos(\\theta_1(t))**4*tan(\\theta_1(t) + \\theta_2(t))**2*tan(\\theta_1(t))**3 + k_2*m_2*cos(\\theta_1(t))**4*tan(\\theta_1(t) + \\theta_2(t))**2*tan(\\theta_1(t)) - k_2*m_2*cos(\\theta_1(t))**4*tan(\\theta_1(t) + \\theta_2(t))*tan(\\theta_1(t))**2 - k_2*m_2*cos(\\theta_1(t))**4*tan(\\theta_1(t) + \\theta_2(t)) + k_2*m_2*cos(\\theta_1(t))**4*tan(\\theta_1(t)) - 2.0*m_1*m_2*tan(\\theta_1(t) + \\theta_2(t))**3*Derivative(\\theta_1(t), t)**2 - 4.0*m_1*m_2*tan(\\theta_1(t) + \\theta_2(t))**3*Derivative(\\theta_1(t), t)*Derivative(\\theta_2(t), t) - 2.0*m_1*m_2*tan(\\theta_1(t) + \\theta_2(t))**3*Derivative(\\theta_2(t), t)**2 + 2.0*m_1*m_2*tan(\\theta_1(t) + \\theta_2(t))**2*tan(\\theta_1(t))*Derivative(\\theta_1(t), t)**2 - 2.0*m_1*m_2*tan(\\theta_1(t) + \\theta_2(t))*Derivative(\\theta_1(t), t)**2 - 4.0*m_1*m_2*tan(\\theta_1(t) + \\theta_2(t))*Derivative(\\theta_1(t), t)*Derivative(\\theta_2(t), t) - 2.0*m_1*m_2*tan(\\theta_1(t) + \\theta_2(t))*Derivative(\\theta_2(t), t)**2 + 2.0*m_1*m_2*tan(\\theta_1(t))*Derivative(\\theta_1(t), t)**2)/(m_1*m_2*(tan(\\theta_1(t) + \\theta_2(t))**2 + 1)))"
      ]
     },
     "metadata": {},
     "output_type": "display_data"
    }
   ],
   "source": [
    "qd = q.diff(t)\n",
    "qdd = qd.diff(t)\n",
    "eqns_solved = solve_EL(eqn, qdd)\n",
    "\n",
    "print(\"Solved:\")\n",
    "for i, eq in enumerate(eqns_solved):\n",
    "    print(f\"Equation {i+1}:\")\n",
    "    eqns_solved[i] = eq.simplify()\n",
    "    display(eqns_solved[i])\n",
    "    \n",
    "#2 minutes for code execution"
   ]
  },
  {
   "cell_type": "markdown",
   "metadata": {
    "id": "Z-7OD_CSJfD-"
   },
   "source": [
    "## Problem 3 (10pts)\n",
    "\n",
    "For the same two-spring-mass system in Problem 2, show by example that Newton's equations do not hold in an arbitrary choice of coordinates (but they do, of course, hold in Cartesian coordinates). Your example should be implemented using Python's SymPy package.\n",
    "\n",
    "> *Hint 1: In other words, you need to find a set of coordinates $q=[q_1,q_2]$, and compute the equations of motion ($F=ma=m\\ddot{q}$), showing that these equations of motion do not make the same prediction as Newton's laws in the Cartesian inertially fixed frame (where they are correct).*\n",
    ">\n",
    "> *Hint 2: Newton's equations don't hold in non-inertia coordinates. For the $x_1,x_2$ and $y_1,y_2$ coordinates shown in the image, one of them is non-inertia coordinate.*\n",
    "\n",
    "---\n",
    "**Turn in: Include the code you used to symbolically compute the equations of motion to show that Newton's equations don't hold. Also, include the output of the code, which should be the equations of motion under the chosen set of coordinates. Make sure toindicate what coordinate you choose in the comments.**"
   ]
  },
  {
   "cell_type": "code",
   "execution_count": null,
   "metadata": {
    "executionInfo": {
     "elapsed": 26,
     "status": "ok",
     "timestamp": 1665424268527,
     "user": {
      "displayName": "Jake Ketchum",
      "userId": "08878338408047028227"
     },
     "user_tz": 300
    },
    "id": "3RNr1YhuJfD-"
   },
   "outputs": [],
   "source": [
    "#part 1: Euler-Lagrange equations in x frame\n",
    "\n",
    "#grab variables\n",
    "m1, m2, k1, k2, L = sym.symbols(r'm_1, m_2, k_1, k_2, L')\n",
    "t = sym.symbols(r't')\n",
    "\n",
    "#define state variables\n",
    "x1 = sym.Function(r'x_1')(t)\n",
    "x2 = sym.Function(r'x_2')(t)\n",
    "x1d = x1.diff(t)\n",
    "x2d = x2.diff(t)\n",
    "\n",
    "#kinetic and potential energy of system\n",
    "KE1 = 0.5 * m1 * x1d**2 \n",
    "KE2 = 0.5 * m2 * (x1d + x2d)**2\n",
    "KE = KE1 + KE2\n",
    "\n",
    "U1 = 0.5 * k1 * x1**2\n",
    "U2 = 0.5 * k2 * x2**2\n",
    "U = U1 + U2\n",
    "\n",
    "print(\"Energy functions:\")\n",
    "display(KE)\n",
    "display(U)\n",
    "\n",
    "#lagrangian\n",
    "lagrangian2 = KE - U\n",
    "print(\"Lagrangian:\")\n",
    "display(lagrangian2)\n"
   ]
  },
  {
   "cell_type": "markdown",
   "metadata": {},
   "source": [
    "Compute the Euler-Lagrange equations and solve to get an expression for qdd. We will apply F=ma to both this second derivative of q and the second derivative of q obtained using y coordinates."
   ]
  },
  {
   "cell_type": "code",
   "execution_count": null,
   "metadata": {},
   "outputs": [],
   "source": [
    "#compute E-L \n",
    "q = sym.Matrix([x1, x2])\n",
    "qd = q.diff(t)\n",
    "qdd = qd.diff(t)\n",
    "\n",
    "eqn = compute_EL(lagrangian2, q)\n",
    "print(\"Euler-Lagrange equations:\")\n",
    "display(eqn)\n",
    "\n",
    "#solve E-L\n",
    "x_eqns_solved = solve_EL(eqn, qdd)\n",
    "print(\"Solved:\")\n",
    "for eq in x_eqns_solved:\n",
    "    display(eq)\n"
   ]
  },
  {
   "cell_type": "code",
   "execution_count": null,
   "metadata": {},
   "outputs": [],
   "source": [
    "#part 2: Euler-Lagrange equations in y frame\n",
    "\n",
    "#grab variables\n",
    "m1, m2, k1, k2, L = sym.symbols(r'm_1, m_2, k_1, k_2, L')\n",
    "t = sym.symbols(r't')\n",
    "\n",
    "#define state variables\n",
    "y1 = sym.Function(r'y_1')(t)\n",
    "y2 = sym.Function(r'y_2')(t)\n",
    "y1d = y1.diff(t)\n",
    "y2d = y2.diff(t)\n",
    "\n",
    "\n",
    "#kinetic and potential energy of system\n",
    "KE1 = 0.5 * m1 * y1d**2 \n",
    "KE2 = 0.5 * m2 * y2d**2\n",
    "KE = KE1 + KE2\n",
    "\n",
    "U1 = 0.5 * k1 * y1**2\n",
    "U2 = 0.5 * k2 * (y2 - y1) **2\n",
    "U = U1 + U2\n",
    "\n",
    "print(\"Energy functions:\")\n",
    "display(KE)\n",
    "display(U)\n",
    "\n",
    "#lagrangian\n",
    "lagrangian3 = KE - U\n",
    "print(\"Lagrangian:\")\n",
    "display(lagrangian3)"
   ]
  },
  {
   "cell_type": "markdown",
   "metadata": {},
   "source": [
    "Solve to get the accelerations qdd in the y frame."
   ]
  },
  {
   "cell_type": "code",
   "execution_count": null,
   "metadata": {},
   "outputs": [],
   "source": [
    "#compute E-L \n",
    "q = sym.Matrix([y1, y2])\n",
    "qd = q.diff(t)\n",
    "qdd = qd.diff(t)\n",
    "\n",
    "eqn = compute_EL(lagrangian3, q)\n",
    "print(\"Euler-Lagrange equations:\")\n",
    "display(eqn)\n",
    "\n",
    "#solve E-L\n",
    "y_eqns_solved = solve_EL(eqn, qdd)\n",
    "print(\"Solved:\")\n",
    "for eq in y_eqns_solved:\n",
    "    display(eq)\n"
   ]
  },
  {
   "cell_type": "code",
   "execution_count": null,
   "metadata": {},
   "outputs": [],
   "source": [
    "subs_dict = {\n",
    "    x1: y1,\n",
    "    x2: y2 - y1    \n",
    "}\n",
    "\n",
    "#compare F=ma in both frames for equality\n",
    "F_x1 = (x_eqns_solved[0].rhs * m1).subs(subs_dict).simplify()\n",
    "F_x2 = (x_eqns_solved[1].rhs * m2).subs(subs_dict).simplify()\n",
    "print(\"Forces on masses 1 and 2 (from x coords):\")\n",
    "display(F_x1)\n",
    "display(F_x2)\n",
    "print()\n",
    "\n",
    "F_y1 = (y_eqns_solved[0].rhs * m1).subs(subs_dict).simplify()\n",
    "F_y2 = (y_eqns_solved[1].rhs * m2).subs(subs_dict).simplify()\n",
    "print(\"Forces on masses 1 and 2 (from y coords):\")\n",
    "display(F_y1)\n",
    "display(F_y2)"
   ]
  },
  {
   "cell_type": "markdown",
   "metadata": {},
   "source": [
    "If Newton's second law, F = ma, held for every possible reference frame, we would expect the force calculations in x and y coordinates to be the same. The force calculations are different for x and y coordinates, which means Newton's laws don't hold for all possible reference frames. \n",
    "\n",
    "The fact that the results are different is due to the fact that the X coordinate frame is non-inertial, and is accelerating according to the motion of mass m1."
   ]
  },
  {
   "cell_type": "markdown",
   "metadata": {
    "id": "yaPawRzig-0o"
   },
   "source": [
    "\n",
    "## Problem 4 (10pts)"
   ]
  },
  {
   "cell_type": "code",
   "execution_count": 25,
   "metadata": {
    "cellView": "form",
    "colab": {
     "base_uri": "https://localhost:8080/",
     "height": 377
    },
    "executionInfo": {
     "elapsed": 26,
     "status": "ok",
     "timestamp": 1665424268529,
     "user": {
      "displayName": "Jake Ketchum",
      "userId": "08878338408047028227"
     },
     "user_tz": 300
    },
    "id": "oZjf1UFIJfEA",
    "outputId": "3912683a-d5a3-4a92-f064-8b9364057dac"
   },
   "outputs": [
    {
     "data": {
      "text/html": [
       "<table><tr><td><img src='https://github.com/MuchenSun/ME314pngs/raw/master/dyndoublepend.png' width=500' height='350'></table>"
      ],
      "text/plain": [
       "<IPython.core.display.HTML object>"
      ]
     },
     "metadata": {},
     "output_type": "display_data"
    }
   ],
   "source": [
    "#@title\n",
    "from IPython.core.display import HTML\n",
    "display(HTML(\"<table><tr><td><img src='https://github.com/MuchenSun/ME314pngs/raw/master/dyndoublepend.png' width=500' height='350'></table>\"))"
   ]
  },
  {
   "cell_type": "markdown",
   "metadata": {
    "id": "cIf0pSCiJfEC"
   },
   "source": [
    "\n",
    "\n",
    "For the same double-pendulum system hanging in gravity in Homework 2 (shown above), take $q=[\\theta_1, \\theta_2]$ as the system configuration variables, with $R_1=R_2=1, m_1=m_2=1$. Symbolically compute the Hamiltonian of this system using Python's *SymPy* package.\n",
    "\n",
    "---\n",
    "**Turn in: Include the code used to symbolically compute the Hamiltonian of the system and the code output, which should the Hamiltonian of the system. Make sure you are using *SimPy*'s `.simplify()` functionality when printing your output.**"
   ]
  },
  {
   "cell_type": "code",
   "execution_count": 40,
   "metadata": {
    "executionInfo": {
     "elapsed": 299,
     "status": "ok",
     "timestamp": 1665424268805,
     "user": {
      "displayName": "Jake Ketchum",
      "userId": "08878338408047028227"
     },
     "user_tz": 300
    },
    "id": "JoXuspHUJfED"
   },
   "outputs": [],
   "source": [
    "#grab variables\n",
    "R1, R2, m1, m2, g, lamb = sym.symbols(r'R_1, R_2, m_1, m_2, g, \\lambda')\n",
    "t = sym.symbols(r't')\n",
    "\n",
    "#define state variables\n",
    "theta1 = sym.Function(r'\\theta_1')(t)\n",
    "theta2 = sym.Function(r'\\theta_2')(t)\n",
    "\n",
    "#intermediate variables to simplify energy calculations\n",
    "x1 = R1 * sym.sin(theta1)\n",
    "y1 = -R1 * sym.cos(theta1)\n",
    "x2 = x1 + R2 * sym.sin(theta1 + theta2)\n",
    "y2 = y1 - R2 * sym.cos(theta1 + theta2)\n",
    "\n",
    "x1d = x1.diff(t)\n",
    "x2d = x2.diff(t)\n",
    "y1d = y1.diff(t)\n",
    "y2d = y2.diff(t)\n",
    "\n",
    "\n",
    "#define KE, U, and lagrangian\n",
    "KE1 = 0.5 * m1 * (x1d**2 + y1d**2)\n",
    "KE2 = 0.5 * m2 * (x2d**2 + y2d**2)\n",
    "KE_sys = KE1 + KE2\n",
    "\n",
    "U1 = m1 * g * y1\n",
    "U2 = m2 * g * y2\n",
    "U_sys = U1 + U2\n",
    "\n",
    "lagrangian4 = KE_sys - U_sys\n",
    "lagrangian4 = lagrangian4.simplify()"
   ]
  },
  {
   "cell_type": "code",
   "execution_count": 27,
   "metadata": {},
   "outputs": [
    {
     "name": "stdout",
     "output_type": "stream",
     "text": [
      "Lagrangian:\n"
     ]
    },
    {
     "data": {
      "text/latex": [
       "$\\displaystyle 0.5 R_{1}^{2} m_{1} \\left(\\frac{d}{d t} \\theta_{1}{\\left(t \\right)}\\right)^{2} + R_{1} g m_{1} \\cos{\\left(\\theta_{1}{\\left(t \\right)} \\right)} + g m_{2} \\left(R_{1} \\cos{\\left(\\theta_{1}{\\left(t \\right)} \\right)} + R_{2} \\cos{\\left(\\theta_{1}{\\left(t \\right)} + \\theta_{2}{\\left(t \\right)} \\right)}\\right) + 0.5 m_{2} \\left(R_{1}^{2} \\left(\\frac{d}{d t} \\theta_{1}{\\left(t \\right)}\\right)^{2} + 2 R_{1} R_{2} \\cos{\\left(\\theta_{2}{\\left(t \\right)} \\right)} \\left(\\frac{d}{d t} \\theta_{1}{\\left(t \\right)}\\right)^{2} + 2 R_{1} R_{2} \\cos{\\left(\\theta_{2}{\\left(t \\right)} \\right)} \\frac{d}{d t} \\theta_{1}{\\left(t \\right)} \\frac{d}{d t} \\theta_{2}{\\left(t \\right)} + R_{2}^{2} \\left(\\frac{d}{d t} \\theta_{1}{\\left(t \\right)}\\right)^{2} + 2 R_{2}^{2} \\frac{d}{d t} \\theta_{1}{\\left(t \\right)} \\frac{d}{d t} \\theta_{2}{\\left(t \\right)} + R_{2}^{2} \\left(\\frac{d}{d t} \\theta_{2}{\\left(t \\right)}\\right)^{2}\\right)$"
      ],
      "text/plain": [
       "0.5*R_1**2*m_1*Derivative(\\theta_1(t), t)**2 + R_1*g*m_1*cos(\\theta_1(t)) + g*m_2*(R_1*cos(\\theta_1(t)) + R_2*cos(\\theta_1(t) + \\theta_2(t))) + 0.5*m_2*(R_1**2*Derivative(\\theta_1(t), t)**2 + 2*R_1*R_2*cos(\\theta_2(t))*Derivative(\\theta_1(t), t)**2 + 2*R_1*R_2*cos(\\theta_2(t))*Derivative(\\theta_1(t), t)*Derivative(\\theta_2(t), t) + R_2**2*Derivative(\\theta_1(t), t)**2 + 2*R_2**2*Derivative(\\theta_1(t), t)*Derivative(\\theta_2(t), t) + R_2**2*Derivative(\\theta_2(t), t)**2)"
      ]
     },
     "metadata": {},
     "output_type": "display_data"
    }
   ],
   "source": [
    "#check values of things\n",
    "print(\"Lagrangian:\")\n",
    "display(lagrangian4)"
   ]
  },
  {
   "cell_type": "code",
   "execution_count": 28,
   "metadata": {},
   "outputs": [
    {
     "name": "stdout",
     "output_type": "stream",
     "text": [
      "Hamiltonian:\n"
     ]
    },
    {
     "data": {
      "text/latex": [
       "$\\displaystyle 0.5 R_{1}^{2} m_{1} \\left(\\frac{d}{d t} \\theta_{1}{\\left(t \\right)}\\right)^{2} + 0.5 R_{1}^{2} m_{2} \\left(\\frac{d}{d t} \\theta_{1}{\\left(t \\right)}\\right)^{2} + 1.0 R_{1} R_{2} m_{2} \\cos{\\left(\\theta_{2}{\\left(t \\right)} \\right)} \\left(\\frac{d}{d t} \\theta_{1}{\\left(t \\right)}\\right)^{2} + 1.0 R_{1} R_{2} m_{2} \\cos{\\left(\\theta_{2}{\\left(t \\right)} \\right)} \\frac{d}{d t} \\theta_{1}{\\left(t \\right)} \\frac{d}{d t} \\theta_{2}{\\left(t \\right)} - 1.0 R_{1} g m_{1} \\cos{\\left(\\theta_{1}{\\left(t \\right)} \\right)} - 1.0 R_{1} g m_{2} \\cos{\\left(\\theta_{1}{\\left(t \\right)} \\right)} + 0.5 R_{2}^{2} m_{2} \\left(\\frac{d}{d t} \\theta_{1}{\\left(t \\right)}\\right)^{2} + 1.0 R_{2}^{2} m_{2} \\frac{d}{d t} \\theta_{1}{\\left(t \\right)} \\frac{d}{d t} \\theta_{2}{\\left(t \\right)} + 0.5 R_{2}^{2} m_{2} \\left(\\frac{d}{d t} \\theta_{2}{\\left(t \\right)}\\right)^{2} - 1.0 R_{2} g m_{2} \\cos{\\left(\\theta_{1}{\\left(t \\right)} + \\theta_{2}{\\left(t \\right)} \\right)}$"
      ],
      "text/plain": [
       "0.5*R_1**2*m_1*Derivative(\\theta_1(t), t)**2 + 0.5*R_1**2*m_2*Derivative(\\theta_1(t), t)**2 + 1.0*R_1*R_2*m_2*cos(\\theta_2(t))*Derivative(\\theta_1(t), t)**2 + 1.0*R_1*R_2*m_2*cos(\\theta_2(t))*Derivative(\\theta_1(t), t)*Derivative(\\theta_2(t), t) - 1.0*R_1*g*m_1*cos(\\theta_1(t)) - 1.0*R_1*g*m_2*cos(\\theta_1(t)) + 0.5*R_2**2*m_2*Derivative(\\theta_1(t), t)**2 + 1.0*R_2**2*m_2*Derivative(\\theta_1(t), t)*Derivative(\\theta_2(t), t) + 0.5*R_2**2*m_2*Derivative(\\theta_2(t), t)**2 - 1.0*R_2*g*m_2*cos(\\theta_1(t) + \\theta_2(t))"
      ]
     },
     "metadata": {},
     "output_type": "display_data"
    }
   ],
   "source": [
    "#hamiltonian: H = pqdot - lagrangian\n",
    "#p = dL/dqdot\n",
    "q = sym.Matrix([theta1, theta2])\n",
    "qd = q.diff(t)\n",
    "qdd = qd.diff(t)\n",
    "\n",
    "p = lagrangian4.diff(qd).T\n",
    "pqd = (p*qd)[0]\n",
    "ham = pqd - lagrangian4\n",
    "ham = ham.simplify()\n",
    "\n",
    "print(\"Hamiltonian:\")\n",
    "display(ham)"
   ]
  },
  {
   "cell_type": "markdown",
   "metadata": {
    "id": "QE4_6zCVJfEE"
   },
   "source": [
    "## Problem 5 (10pts)\n",
    "\n",
    "Simulate the double-pendulum system in Problem 4 with initial condition $\\theta_1=\\theta_2=-\\frac{\\pi}{2}, \\dot{\\theta}_1=\\dot{\\theta}_2=0$ for $t\\in[0,10]$ and $dt=0.01$. Numerically evaluate the Hamiltonian of this system from the simulated trajectory, and plot it.\n",
    "\n",
    "> *Hint 1: The Hamiltonian can be numerically evaluated as a function of $\\theta_1, \\theta_2, \\dot{\\theta}_1, \\dot{\\theta}_2$, which means for each time step in the simulated trajectory, you can compute the Hamiltonian for this time step, and store it in a list or array for plotting later. This doesn't need to be done during the numerical simulation, after you have the simulated the trajectory you can access each time step within another loop.*\n",
    "\n",
    "---\n",
    "**Turn in: Include the code used to numerically evaluate and plot the Hamiltonian, as well as the code output, which should be the plot of Hamiltonian. Make sure you label the plot with axis labels, legend and a title.**"
   ]
  },
  {
   "cell_type": "code",
   "execution_count": 30,
   "metadata": {
    "executionInfo": {
     "elapsed": 22,
     "status": "ok",
     "timestamp": 1665424268807,
     "user": {
      "displayName": "Jake Ketchum",
      "userId": "08878338408047028227"
     },
     "user_tz": 300
    },
    "id": "hs_I0_pbJfEF"
   },
   "outputs": [
    {
     "name": "stdout",
     "output_type": "stream",
     "text": [
      "Solved:\n"
     ]
    },
    {
     "data": {
      "text/latex": [
       "$\\displaystyle \\frac{d^{2}}{d t^{2}} \\theta_{1}{\\left(t \\right)} = \\frac{0.5 R_{1} m_{2} \\sin{\\left(2 \\theta_{2}{\\left(t \\right)} \\right)} \\left(\\frac{d}{d t} \\theta_{1}{\\left(t \\right)}\\right)^{2} + 1.0 R_{2} m_{2} \\sin{\\left(\\theta_{2}{\\left(t \\right)} \\right)} \\left(\\frac{d}{d t} \\theta_{1}{\\left(t \\right)}\\right)^{2} + 2.0 R_{2} m_{2} \\sin{\\left(\\theta_{2}{\\left(t \\right)} \\right)} \\frac{d}{d t} \\theta_{1}{\\left(t \\right)} \\frac{d}{d t} \\theta_{2}{\\left(t \\right)} + 1.0 R_{2} m_{2} \\sin{\\left(\\theta_{2}{\\left(t \\right)} \\right)} \\left(\\frac{d}{d t} \\theta_{2}{\\left(t \\right)}\\right)^{2} - 1.0 g m_{1} \\sin{\\left(\\theta_{1}{\\left(t \\right)} \\right)} + 0.5 g m_{2} \\sin{\\left(\\theta_{1}{\\left(t \\right)} + 2 \\theta_{2}{\\left(t \\right)} \\right)} - 0.5 g m_{2} \\sin{\\left(\\theta_{1}{\\left(t \\right)} \\right)}}{R_{1} \\left(m_{1} + m_{2} \\sin^{2}{\\left(\\theta_{2}{\\left(t \\right)} \\right)}\\right)}$"
      ],
      "text/plain": [
       "Eq(Derivative(\\theta_1(t), (t, 2)), (0.5*R_1*m_2*sin(2*\\theta_2(t))*Derivative(\\theta_1(t), t)**2 + 1.0*R_2*m_2*sin(\\theta_2(t))*Derivative(\\theta_1(t), t)**2 + 2.0*R_2*m_2*sin(\\theta_2(t))*Derivative(\\theta_1(t), t)*Derivative(\\theta_2(t), t) + 1.0*R_2*m_2*sin(\\theta_2(t))*Derivative(\\theta_2(t), t)**2 - 1.0*g*m_1*sin(\\theta_1(t)) + 0.5*g*m_2*sin(\\theta_1(t) + 2*\\theta_2(t)) - 0.5*g*m_2*sin(\\theta_1(t)))/(R_1*(m_1 + m_2*sin(\\theta_2(t))**2)))"
      ]
     },
     "metadata": {},
     "output_type": "display_data"
    },
    {
     "data": {
      "text/latex": [
       "$\\displaystyle \\frac{d^{2}}{d t^{2}} \\theta_{2}{\\left(t \\right)} = \\frac{2 \\left(- 1.0 R_{1}^{2} m_{1} \\sin{\\left(\\theta_{2}{\\left(t \\right)} \\right)} \\left(\\frac{d}{d t} \\theta_{1}{\\left(t \\right)}\\right)^{2} - 1.0 R_{1}^{2} m_{2} \\sin{\\left(\\theta_{2}{\\left(t \\right)} \\right)} \\left(\\frac{d}{d t} \\theta_{1}{\\left(t \\right)}\\right)^{2} - 1.0 R_{1} R_{2} m_{2} \\sin{\\left(2 \\theta_{2}{\\left(t \\right)} \\right)} \\left(\\frac{d}{d t} \\theta_{1}{\\left(t \\right)}\\right)^{2} - 1.0 R_{1} R_{2} m_{2} \\sin{\\left(2 \\theta_{2}{\\left(t \\right)} \\right)} \\frac{d}{d t} \\theta_{1}{\\left(t \\right)} \\frac{d}{d t} \\theta_{2}{\\left(t \\right)} - 0.5 R_{1} R_{2} m_{2} \\sin{\\left(2 \\theta_{2}{\\left(t \\right)} \\right)} \\left(\\frac{d}{d t} \\theta_{2}{\\left(t \\right)}\\right)^{2} + 0.5 R_{1} g m_{1} \\sin{\\left(\\theta_{1}{\\left(t \\right)} - \\theta_{2}{\\left(t \\right)} \\right)} - 0.5 R_{1} g m_{1} \\sin{\\left(\\theta_{1}{\\left(t \\right)} + \\theta_{2}{\\left(t \\right)} \\right)} + 0.5 R_{1} g m_{2} \\sin{\\left(\\theta_{1}{\\left(t \\right)} - \\theta_{2}{\\left(t \\right)} \\right)} - 0.5 R_{1} g m_{2} \\sin{\\left(\\theta_{1}{\\left(t \\right)} + \\theta_{2}{\\left(t \\right)} \\right)} - 1.0 R_{2}^{2} m_{2} \\sin{\\left(\\theta_{2}{\\left(t \\right)} \\right)} \\left(\\frac{d}{d t} \\theta_{1}{\\left(t \\right)}\\right)^{2} - 2.0 R_{2}^{2} m_{2} \\sin{\\left(\\theta_{2}{\\left(t \\right)} \\right)} \\frac{d}{d t} \\theta_{1}{\\left(t \\right)} \\frac{d}{d t} \\theta_{2}{\\left(t \\right)} - 1.0 R_{2}^{2} m_{2} \\sin{\\left(\\theta_{2}{\\left(t \\right)} \\right)} \\left(\\frac{d}{d t} \\theta_{2}{\\left(t \\right)}\\right)^{2} + 1.0 R_{2} g m_{1} \\sin{\\left(\\theta_{1}{\\left(t \\right)} \\right)} - 0.5 R_{2} g m_{2} \\sin{\\left(\\theta_{1}{\\left(t \\right)} + 2 \\theta_{2}{\\left(t \\right)} \\right)} + 0.5 R_{2} g m_{2} \\sin{\\left(\\theta_{1}{\\left(t \\right)} \\right)}\\right)}{R_{1} R_{2} \\cdot \\left(2 m_{1} - m_{2} \\cos{\\left(2 \\theta_{2}{\\left(t \\right)} \\right)} + m_{2}\\right)}$"
      ],
      "text/plain": [
       "Eq(Derivative(\\theta_2(t), (t, 2)), 2*(-1.0*R_1**2*m_1*sin(\\theta_2(t))*Derivative(\\theta_1(t), t)**2 - 1.0*R_1**2*m_2*sin(\\theta_2(t))*Derivative(\\theta_1(t), t)**2 - 1.0*R_1*R_2*m_2*sin(2*\\theta_2(t))*Derivative(\\theta_1(t), t)**2 - 1.0*R_1*R_2*m_2*sin(2*\\theta_2(t))*Derivative(\\theta_1(t), t)*Derivative(\\theta_2(t), t) - 0.5*R_1*R_2*m_2*sin(2*\\theta_2(t))*Derivative(\\theta_2(t), t)**2 + 0.5*R_1*g*m_1*sin(\\theta_1(t) - \\theta_2(t)) - 0.5*R_1*g*m_1*sin(\\theta_1(t) + \\theta_2(t)) + 0.5*R_1*g*m_2*sin(\\theta_1(t) - \\theta_2(t)) - 0.5*R_1*g*m_2*sin(\\theta_1(t) + \\theta_2(t)) - 1.0*R_2**2*m_2*sin(\\theta_2(t))*Derivative(\\theta_1(t), t)**2 - 2.0*R_2**2*m_2*sin(\\theta_2(t))*Derivative(\\theta_1(t), t)*Derivative(\\theta_2(t), t) - 1.0*R_2**2*m_2*sin(\\theta_2(t))*Derivative(\\theta_2(t), t)**2 + 1.0*R_2*g*m_1*sin(\\theta_1(t)) - 0.5*R_2*g*m_2*sin(\\theta_1(t) + 2*\\theta_2(t)) + 0.5*R_2*g*m_2*sin(\\theta_1(t)))/(R_1*R_2*(2*m_1 - m_2*cos(2*\\theta_2(t)) + m_2)))"
      ]
     },
     "metadata": {},
     "output_type": "display_data"
    },
    {
     "name": "stdout",
     "output_type": "stream",
     "text": [
      "Time: 57.012391328811646\n"
     ]
    }
   ],
   "source": [
    "#set up euler-lagrange equations and solve\n",
    "eqn = compute_EL(lagrangian4, q)\n",
    "eqns_solved = solve_EL(eqn, qdd)\n",
    "import time\n",
    "t1 = time.time()\n",
    "\n",
    "eqns_simplified = []\n",
    "print(\"Solved:\")\n",
    "for eq in eqns_solved:\n",
    "    eq_simpl = eq.simplify()\n",
    "    eqns_simplified.append(eq_simpl)\n",
    "    display(eq_simpl)\n",
    "    \n",
    "t2 = time.time()\n",
    "print(f\"Elapsed: {t2 - t1}\")"
   ]
  },
  {
   "cell_type": "markdown",
   "metadata": {},
   "source": [
    "Get expressions for accelerations qdd of each mass in theta coordinates. Use these acceleration equations to simulate motion."
   ]
  },
  {
   "cell_type": "code",
   "execution_count": 31,
   "metadata": {},
   "outputs": [],
   "source": [
    "theta1dd_sy = eqns_simplified[0]\n",
    "theta2dd_sy = eqns_simplified[1]\n",
    "\n",
    "consts_dict = {\n",
    "    R1: 1,\n",
    "    R2: 1,\n",
    "    m1: 1,\n",
    "    m2: 1,\n",
    "    g: 9.8\n",
    "}\n",
    "\n",
    "theta1dd_sy = theta1dd_sy.subs(consts_dict).rhs\n",
    "theta2dd_sy = theta2dd_sy.subs(consts_dict).rhs\n",
    "\n",
    "theta1d = theta1.diff(t)\n",
    "theta2d = theta2.diff(t)\n",
    "q_ext = sym.Matrix([theta1, theta2, theta1d, theta2d])\n",
    "\n",
    "theta1dd_np = sym.lambdify(q_ext, theta1dd_sy)\n",
    "theta2dd_np = sym.lambdify(q_ext, theta2dd_sy)\n"
   ]
  },
  {
   "cell_type": "code",
   "execution_count": 32,
   "metadata": {},
   "outputs": [
    {
     "data": {
      "text/plain": [
       "Text(0.5, 1.0, 'Position of Double Pendulum over Time')"
      ]
     },
     "execution_count": 32,
     "metadata": {},
     "output_type": "execute_result"
    },
    {
     "data": {
      "image/png": "[encoded data removed]",
      "text/plain": [
       "<Figure size 640x480 with 1 Axes>"
      ]
     },
     "metadata": {},
     "output_type": "display_data"
    }
   ],
   "source": [
    "#simulate with given ICs\n",
    "   \n",
    "ICs = [-np.pi/2, -np.pi/2, 0, 0]\n",
    "t_span = [0, 10]\n",
    "dt = 0.01\n",
    "\n",
    "def dxdt(t, s):\n",
    "    '''\n",
    "    Derivative of our state vector at the given state.\n",
    "        \n",
    "    Inputs:\n",
    "        t: current time\n",
    "        s: current state\n",
    "        \n",
    "    Notes:\n",
    "        indeces [0,1] of output: 1st derivative of position\n",
    "        indeces [2,3] of output: 2nd derivative of position\n",
    "        q: current value of our state vector\n",
    "     \n",
    "     Returns: an array of derivatives of the state vector\n",
    "    '''\n",
    "    return np.array([s[2], s[3], theta1dd_np(*s), theta2dd_np(*s)])\n",
    "\n",
    "q_array = simulate(dxdt, ICs, t_span, dt, rk4)   \n",
    "\n",
    "theta1_array = q_array[0]\n",
    "theta2_array = q_array[1]\n",
    "plt.plot(theta1_array)\n",
    "plt.plot(theta2_array)\n",
    "\n",
    "plt.xlabel(\"Time (* 10^-2 seconds)\")\n",
    "plt.ylabel(\"Angle (radians)\")\n",
    "plt.title(\"Position of Double Pendulum over Time\")"
   ]
  },
  {
   "cell_type": "code",
   "execution_count": 33,
   "metadata": {},
   "outputs": [
    {
     "data": {
      "text/plain": [
       "Text(0.5, 1.0, 'Hamiltonian of 2-pend System over Time')"
      ]
     },
     "execution_count": 33,
     "metadata": {},
     "output_type": "execute_result"
    },
    {
     "data": {
      "image/png": "[encoded data removed]",
      "text/plain": [
       "<Figure size 640x480 with 1 Axes>"
      ]
     },
     "metadata": {},
     "output_type": "display_data"
    }
   ],
   "source": [
    "#plot hamiltonian over time\n",
    "ham = ham.subs(consts_dict)\n",
    "ham_np = sym.lambdify(q_ext, ham)\n",
    "\n",
    "#apply lambdified function to entire array\n",
    "ham_array = [ham_np(*s) for s in q_array.T]\n",
    "\n",
    "plt.plot(ham_array)\n",
    "\n",
    "plt.xlabel(\"Time (* 10^-2 seconds)\")\n",
    "plt.ylabel(\"Energy (J)\")\n",
    "plt.title(\"Hamiltonian of 2-pend System over Time\")"
   ]
  },
  {
   "cell_type": "markdown",
   "metadata": {
    "id": "RTgDT02eJfEG"
   },
   "source": [
    "## Problem 6 (15pts)\n",
    "\n",
    "In the previously provided code for simulation, the numerical integration is a forth-order Runge–Kutta integration. Now, write down your own numerical integration function using Euler's method, and use your numerical integration function to simulate the same double-pendulum system with same parameters and initial condition in Problem 4. Compute and plot the Hamiltonian from the simulated trajectory, what's the difference between two plots?\n",
    "\n",
    "> *Hint 1: You will need to implement a new ${\\tt integrate()}$ function. This function takes in three inputs: a function $f(x)$ representing the dynamics of the system state $x$ (you can consider it as $\\dot{x}=f(x)$), current state $x$ (for example $x(t)$ if $t$ is the current time step), and integration step length $dt$. This function should output $x(t+dt)$, for which the analytical solution is $x(t+dt) = x(t) + \\int_t^{t+dt} f(x(\\tau)) d\\tau$. Thus, you need to think about how to numerically evaluate this integration using Euler's method.*\n",
    ">\n",
    "> *Hint 2: The implemented function should have the same input-output structure as the previous one.*\n",
    ">\n",
    "> *Hint 3: After you implement the new integration function, you can use the same helper function ${\\tt simulate()}$ for simulation. You just need to input replace the integration function name as the new one (for example, your new function can be named as ${\\tt euler\\_integrate()}$). Please carefully read the comments in the ${\\tt simulate()}$ function. Below is the template/example of how to implement the new integration function and use it for simulation.*\n",
    "\n",
    "---\n",
    "**Turn in: Include you numerical integration function (you only need to include the code for your new integration function), and the resulting plot of Hamiltonian. Make sure you label the plot appropriately with axis labels, legend and a title.**"
   ]
  },
  {
   "cell_type": "code",
   "execution_count": 35,
   "metadata": {
    "executionInfo": {
     "elapsed": 24,
     "status": "ok",
     "timestamp": 1665424268811,
     "user": {
      "displayName": "Jake Ketchum",
      "userId": "08878338408047028227"
     },
     "user_tz": 300
    },
    "id": "HCu1wbaOJfEH"
   },
   "outputs": [],
   "source": [
    "#################\n",
    "# This is the same \"simulate()\" function we provided\n",
    "# in previous homework. \n",
    "def simulate_prob6(f, x0, tspan, dt, integrate):\n",
    "    \"\"\"\n",
    "    See simulate() above. Difference between this function and that one\n",
    "    is the usage of integrate(f, x, dt) rather than integrate(f, x, t, dt).\n",
    "    \"\"\"\n",
    "    N = int((max(tspan)-min(tspan))/dt)\n",
    "    x = np.copy(x0)\n",
    "    tvec = np.linspace(min(tspan),max(tspan),N)\n",
    "    xtraj = np.zeros((len(x0),N))\n",
    "    for i in range(N):\n",
    "        xtraj[:,i]=integrate(f,x,dt)\n",
    "        x = np.copy(xtraj[:,i])\n",
    "    return xtraj \n",
    "\n",
    "##################\n",
    "# This is where you implement your new integration function for this problem.\n",
    "def new_integrate(f, xt, dt):\n",
    "    \"\"\"\n",
    "    This function takes in an initial condition x(t) and a timestep dt,\n",
    "    as well as a dynamical system f(x) that outputs a vector of the\n",
    "    same dimension as x(t). It outputs a vector x(t+dt) at the future\n",
    "    time step.\n",
    "\n",
    "    Parameters\n",
    "    ============\n",
    "    dyn: Python function\n",
    "        derivate of the system at a given step x(t), \n",
    "        it can considered as \\dot{x}(t) = func(x(t))\n",
    "    xt: NumPy array\n",
    "        current step x(t)\n",
    "    dt: \n",
    "        step size for integration\n",
    "\n",
    "    Return\n",
    "    ============\n",
    "    new_xt: \n",
    "        value of x(t+dt) integrated from x(t)\n",
    "    \"\"\"\n",
    "    x_new = xt + dt * f(xt)\n",
    "    return x_new\n",
    "\n",
    "\n",
    "def dxdt_new(s):\n",
    "    '''\n",
    "    See \"dxdt(t, s). This function has no \"t\" input, as current time is not used to calculate\n",
    "    derivatives of the state vector at the next timestep.\n",
    "    '''\n",
    "    return np.array([s[2], s[3], theta1dd_np(*s), theta2dd_np(*s)])\n",
    "\n",
    "##############\n",
    "# You can start your simulation implementation here.\n",
    "\n",
    "traj = simulate_prob6(f=dxdt_new, x0=ICs, tspan=[0,10], dt=0.01, integrate=new_integrate) \n"
   ]
  },
  {
   "cell_type": "markdown",
   "metadata": {},
   "source": [
    "Calculate the Hamiltonian of the system at each timestep. Use the values of (q, qd) calculated at each timestep via simulate()"
   ]
  },
  {
   "cell_type": "code",
   "execution_count": 36,
   "metadata": {
    "executionInfo": {
     "elapsed": 26,
     "status": "ok",
     "timestamp": 1665424268818,
     "user": {
      "displayName": "Jake Ketchum",
      "userId": "08878338408047028227"
     },
     "user_tz": 300
    },
    "id": "r9bFKXjQJfEL"
   },
   "outputs": [
    {
     "data": {
      "text/plain": [
       "Text(0.5, 1.0, 'Hamiltonian of 2-pend System over Time')"
      ]
     },
     "execution_count": 36,
     "metadata": {},
     "output_type": "execute_result"
    },
    {
     "data": {
      "image/png": "[encoded data removed]",
      "text/plain": [
       "<Figure size 640x480 with 1 Axes>"
      ]
     },
     "metadata": {},
     "output_type": "display_data"
    }
   ],
   "source": [
    "x_array = traj[0]\n",
    "y_array = traj[1]\n",
    "\n",
    "#apply lambdified function to entire array\n",
    "ham_array = [ham_np(*s) for s in traj.T]\n",
    "\n",
    "plt.plot(ham_array)\n",
    "\n",
    "plt.xlabel(\"Time (* 10^-2 seconds)\")\n",
    "plt.ylabel(\"Energy (J)\")\n",
    "plt.title(\"Hamiltonian of 2-pend System over Time\")\n",
    "\n",
    "#this shouldn't start at energy = 10"
   ]
  },
  {
   "cell_type": "markdown",
   "metadata": {
    "id": "nmDyQNQKJfEL"
   },
   "source": [
    "## Problem 7 (20pts)\n",
    "\n",
    "For the same double-pendulum you simulated in Problem 4 with same parameters and initial condition, now add a constraint to the system such that the distance between the second pendulum and the origin is fixed at $\\sqrt{2}$. Simulate the system with same parameters and initial condition, and animate the system with the same animate function provided in Homework 2.\n",
    "\n",
    "> *Hint 1: What do you think the equations of motion should look like? Think about how the system will behave after adding the constraint. With no double, you can solve this problem using $\\phi$ and all the following results for constrained Euler-Lagrange equations, however, if you really understand this constrained system, things might be much easier, and you can actually treat it as an unconstrained system.*\n",
    "\n",
    "---\n",
    "**Turn in: Include the code used to numerically evaluate, simulate and animate the system. Also, upload the video of animation separately through Canvas in \".mp4\" format. You can use screen capture or record the screen directly with your phone.**"
   ]
  },
  {
   "cell_type": "code",
   "execution_count": 37,
   "metadata": {},
   "outputs": [],
   "source": [
    "    \n",
    "def solve_constrained_EL(lamb, phi, q, lhs):\n",
    "    \"\"\"Now uses just the LHS of the constrained E-L equations,\n",
    "    rather than the full equation form\"\"\"\n",
    "    \n",
    "    qd = q.diff(t)\n",
    "    qdd = qd.diff(t)\n",
    "    \n",
    "    phidd = phi.diff(t).diff(t)\n",
    "    lamb_grad = sym.Matrix([lamb * phi.diff(a) for a in q])\n",
    "    q_mod = qdd.row_insert(2, sym.Matrix([lamb]))\n",
    "    \n",
    "    #format equations so they're all in one matrix\n",
    "    expr_matrix = lhs - lamb_grad\n",
    "    phidd_matrix = sym.Matrix([phidd])\n",
    "    expr_matrix = expr_matrix.row_insert(2,phidd_matrix)\n",
    "    \n",
    "    print(\"Expressions to be solved:\")\n",
    "    display(expr_matrix)\n",
    "    print(\"Variables to solve for:\")\n",
    "    display(q_mod)\n",
    "\n",
    "    #solve E-L equations\n",
    "    eqns_solved = solve_EL(expr_matrix, q_mod)\n",
    "    return eqns_solved\n"
   ]
  },
  {
   "cell_type": "markdown",
   "metadata": {},
   "source": [
    "## NOTE: \n",
    "this code block below uses the Lagrangian calculated in problem 4. Make sure to run that code block first."
   ]
  },
  {
   "cell_type": "code",
   "execution_count": 41,
   "metadata": {},
   "outputs": [
    {
     "name": "stdout",
     "output_type": "stream",
     "text": [
      "Constraint equation:\n"
     ]
    },
    {
     "data": {
      "text/latex": [
       "$\\displaystyle R_{1}^{2} + 2 R_{1} R_{2} \\cos{\\left(\\theta_{2}{\\left(t \\right)} \\right)} + R_{2}^{2} - 2$"
      ],
      "text/plain": [
       "R_1**2 + 2*R_1*R_2*cos(\\theta_2(t)) + R_2**2 - 2"
      ]
     },
     "metadata": {},
     "output_type": "display_data"
    },
    {
     "name": "stdout",
     "output_type": "stream",
     "text": [
      "Expressions to be solved:\n"
     ]
    },
    {
     "data": {
      "text/latex": [
       "$\\displaystyle \\left[\\begin{matrix}L^{2} \\left(- \\frac{1.0 k_{1} \\tan{\\left(\\theta_{1}{\\left(t \\right)} \\right)}}{\\cos^{2}{\\left(\\theta_{1}{\\left(t \\right)} \\right)}} - 1.0 k_{2} \\left(\\tan{\\left(\\theta_{1}{\\left(t \\right)} + \\theta_{2}{\\left(t \\right)} \\right)} - \\tan{\\left(\\theta_{1}{\\left(t \\right)} \\right)}\\right) \\left(\\tan^{2}{\\left(\\theta_{1}{\\left(t \\right)} + \\theta_{2}{\\left(t \\right)} \\right)} - \\tan^{2}{\\left(\\theta_{1}{\\left(t \\right)} \\right)}\\right) - \\frac{2.0 m_{1} \\tan{\\left(\\theta_{1}{\\left(t \\right)} \\right)} \\left(\\frac{d}{d t} \\theta_{1}{\\left(t \\right)}\\right)^{2}}{\\cos^{4}{\\left(\\theta_{1}{\\left(t \\right)} \\right)}} - \\frac{1.0 m_{1} \\frac{d^{2}}{d t^{2}} \\theta_{1}{\\left(t \\right)}}{\\cos^{4}{\\left(\\theta_{1}{\\left(t \\right)} \\right)}} - 2.0 m_{2} \\left(\\tan^{2}{\\left(\\theta_{1}{\\left(t \\right)} + \\theta_{2}{\\left(t \\right)} \\right)} + 1\\right)^{2} \\left(\\frac{d}{d t} \\theta_{1}{\\left(t \\right)} + \\frac{d}{d t} \\theta_{2}{\\left(t \\right)}\\right)^{2} \\tan{\\left(\\theta_{1}{\\left(t \\right)} + \\theta_{2}{\\left(t \\right)} \\right)} - 1.0 m_{2} \\left(\\tan^{2}{\\left(\\theta_{1}{\\left(t \\right)} + \\theta_{2}{\\left(t \\right)} \\right)} + 1\\right)^{2} \\left(\\frac{d^{2}}{d t^{2}} \\theta_{1}{\\left(t \\right)} + \\frac{d^{2}}{d t^{2}} \\theta_{2}{\\left(t \\right)}\\right)\\right)\\\\L^{2} \\left(\\tan^{2}{\\left(\\theta_{1}{\\left(t \\right)} + \\theta_{2}{\\left(t \\right)} \\right)} + 1\\right) \\left(- 1.0 k_{2} \\left(\\tan{\\left(\\theta_{1}{\\left(t \\right)} + \\theta_{2}{\\left(t \\right)} \\right)} - \\tan{\\left(\\theta_{1}{\\left(t \\right)} \\right)}\\right) - 2.0 m_{2} \\left(\\tan^{2}{\\left(\\theta_{1}{\\left(t \\right)} + \\theta_{2}{\\left(t \\right)} \\right)} + 1\\right) \\left(\\frac{d}{d t} \\theta_{1}{\\left(t \\right)} + \\frac{d}{d t} \\theta_{2}{\\left(t \\right)}\\right)^{2} \\tan{\\left(\\theta_{1}{\\left(t \\right)} + \\theta_{2}{\\left(t \\right)} \\right)} - 1.0 m_{2} \\left(\\tan^{2}{\\left(\\theta_{1}{\\left(t \\right)} + \\theta_{2}{\\left(t \\right)} \\right)} + 1\\right) \\left(\\frac{d^{2}}{d t^{2}} \\theta_{1}{\\left(t \\right)} + \\frac{d^{2}}{d t^{2}} \\theta_{2}{\\left(t \\right)}\\right)\\right) + 2 R_{1} R_{2} \\lambda \\sin{\\left(\\theta_{2}{\\left(t \\right)} \\right)}\\\\- 2 R_{1} R_{2} \\sin{\\left(\\theta_{2}{\\left(t \\right)} \\right)} \\frac{d^{2}}{d t^{2}} \\theta_{2}{\\left(t \\right)} - 2 R_{1} R_{2} \\cos{\\left(\\theta_{2}{\\left(t \\right)} \\right)} \\left(\\frac{d}{d t} \\theta_{2}{\\left(t \\right)}\\right)^{2}\\end{matrix}\\right]$"
      ],
      "text/plain": [
       "Matrix([\n",
       "[L**2*(-1.0*k_1*tan(\\theta_1(t))/cos(\\theta_1(t))**2 - 1.0*k_2*(tan(\\theta_1(t) + \\theta_2(t)) - tan(\\theta_1(t)))*(tan(\\theta_1(t) + \\theta_2(t))**2 - tan(\\theta_1(t))**2) - 2.0*m_1*tan(\\theta_1(t))*Derivative(\\theta_1(t), t)**2/cos(\\theta_1(t))**4 - 1.0*m_1*Derivative(\\theta_1(t), (t, 2))/cos(\\theta_1(t))**4 - 2.0*m_2*(tan(\\theta_1(t) + \\theta_2(t))**2 + 1)**2*(Derivative(\\theta_1(t), t) + Derivative(\\theta_2(t), t))**2*tan(\\theta_1(t) + \\theta_2(t)) - 1.0*m_2*(tan(\\theta_1(t) + \\theta_2(t))**2 + 1)**2*(Derivative(\\theta_1(t), (t, 2)) + Derivative(\\theta_2(t), (t, 2))))],\n",
       "[                                                                                                                                                                             L**2*(tan(\\theta_1(t) + \\theta_2(t))**2 + 1)*(-1.0*k_2*(tan(\\theta_1(t) + \\theta_2(t)) - tan(\\theta_1(t))) - 2.0*m_2*(tan(\\theta_1(t) + \\theta_2(t))**2 + 1)*(Derivative(\\theta_1(t), t) + Derivative(\\theta_2(t), t))**2*tan(\\theta_1(t) + \\theta_2(t)) - 1.0*m_2*(tan(\\theta_1(t) + \\theta_2(t))**2 + 1)*(Derivative(\\theta_1(t), (t, 2)) + Derivative(\\theta_2(t), (t, 2)))) + 2*R_1*R_2*\\lambda*sin(\\theta_2(t))],\n",
       "[                                                                                                                                                                                                                                                                                                                                                                                                                                                                           -2*R_1*R_2*sin(\\theta_2(t))*Derivative(\\theta_2(t), (t, 2)) - 2*R_1*R_2*cos(\\theta_2(t))*Derivative(\\theta_2(t), t)**2]])"
      ]
     },
     "metadata": {},
     "output_type": "display_data"
    },
    {
     "name": "stdout",
     "output_type": "stream",
     "text": [
      "Variables to solve for:\n"
     ]
    },
    {
     "data": {
      "text/latex": [
       "$\\displaystyle \\left[\\begin{matrix}\\frac{d^{2}}{d t^{2}} \\theta_{1}{\\left(t \\right)}\\\\\\frac{d^{2}}{d t^{2}} \\theta_{2}{\\left(t \\right)}\\\\\\lambda\\end{matrix}\\right]$"
      ],
      "text/plain": [
       "Matrix([\n",
       "[Derivative(\\theta_1(t), (t, 2))],\n",
       "[Derivative(\\theta_2(t), (t, 2))],\n",
       "[                        \\lambda]])"
      ]
     },
     "metadata": {},
     "output_type": "display_data"
    },
    {
     "name": "stdout",
     "output_type": "stream",
     "text": [
      "Solved:\n"
     ]
    },
    {
     "data": {
      "text/latex": [
       "$\\displaystyle \\frac{d^{2}}{d t^{2}} \\theta_{1}{\\left(t \\right)} = \\frac{- \\frac{k_{1} \\left(\\cos{\\left(2 \\theta_{1}{\\left(t \\right)} - \\theta_{2}{\\left(t \\right)} \\right)} - \\cos{\\left(2 \\theta_{1}{\\left(t \\right)} + \\theta_{2}{\\left(t \\right)} \\right)}\\right)}{4} - k_{2} \\sin^{3}{\\left(\\theta_{1}{\\left(t \\right)} \\right)} \\sin{\\left(\\theta_{2}{\\left(t \\right)} \\right)} \\cos{\\left(\\theta_{1}{\\left(t \\right)} \\right)} - k_{2} \\sin{\\left(\\theta_{2}{\\left(t \\right)} \\right)} \\cos^{4}{\\left(\\theta_{1}{\\left(t \\right)} \\right)} \\tan^{3}{\\left(\\theta_{1}{\\left(t \\right)} + \\theta_{2}{\\left(t \\right)} \\right)} + k_{2} \\sin{\\left(\\theta_{2}{\\left(t \\right)} \\right)} \\cos^{4}{\\left(\\theta_{1}{\\left(t \\right)} \\right)} \\tan^{2}{\\left(\\theta_{1}{\\left(t \\right)} + \\theta_{2}{\\left(t \\right)} \\right)} \\tan{\\left(\\theta_{1}{\\left(t \\right)} \\right)} + k_{2} \\sin{\\left(\\theta_{2}{\\left(t \\right)} \\right)} \\cos^{4}{\\left(\\theta_{1}{\\left(t \\right)} \\right)} \\tan{\\left(\\theta_{1}{\\left(t \\right)} + \\theta_{2}{\\left(t \\right)} \\right)} \\tan^{2}{\\left(\\theta_{1}{\\left(t \\right)} \\right)} - 2.0 m_{1} \\sin{\\left(\\theta_{2}{\\left(t \\right)} \\right)} \\tan{\\left(\\theta_{1}{\\left(t \\right)} \\right)} \\left(\\frac{d}{d t} \\theta_{1}{\\left(t \\right)}\\right)^{2} - 2.0 m_{2} \\sin{\\left(\\theta_{2}{\\left(t \\right)} \\right)} \\cos^{4}{\\left(\\theta_{1}{\\left(t \\right)} \\right)} \\tan^{5}{\\left(\\theta_{1}{\\left(t \\right)} + \\theta_{2}{\\left(t \\right)} \\right)} \\left(\\frac{d}{d t} \\theta_{1}{\\left(t \\right)}\\right)^{2} - 4.0 m_{2} \\sin{\\left(\\theta_{2}{\\left(t \\right)} \\right)} \\cos^{4}{\\left(\\theta_{1}{\\left(t \\right)} \\right)} \\tan^{5}{\\left(\\theta_{1}{\\left(t \\right)} + \\theta_{2}{\\left(t \\right)} \\right)} \\frac{d}{d t} \\theta_{1}{\\left(t \\right)} \\frac{d}{d t} \\theta_{2}{\\left(t \\right)} - 2.0 m_{2} \\sin{\\left(\\theta_{2}{\\left(t \\right)} \\right)} \\cos^{4}{\\left(\\theta_{1}{\\left(t \\right)} \\right)} \\tan^{5}{\\left(\\theta_{1}{\\left(t \\right)} + \\theta_{2}{\\left(t \\right)} \\right)} \\left(\\frac{d}{d t} \\theta_{2}{\\left(t \\right)}\\right)^{2} - 4.0 m_{2} \\sin{\\left(\\theta_{2}{\\left(t \\right)} \\right)} \\cos^{4}{\\left(\\theta_{1}{\\left(t \\right)} \\right)} \\tan^{3}{\\left(\\theta_{1}{\\left(t \\right)} + \\theta_{2}{\\left(t \\right)} \\right)} \\left(\\frac{d}{d t} \\theta_{1}{\\left(t \\right)}\\right)^{2} - 8.0 m_{2} \\sin{\\left(\\theta_{2}{\\left(t \\right)} \\right)} \\cos^{4}{\\left(\\theta_{1}{\\left(t \\right)} \\right)} \\tan^{3}{\\left(\\theta_{1}{\\left(t \\right)} + \\theta_{2}{\\left(t \\right)} \\right)} \\frac{d}{d t} \\theta_{1}{\\left(t \\right)} \\frac{d}{d t} \\theta_{2}{\\left(t \\right)} - 4.0 m_{2} \\sin{\\left(\\theta_{2}{\\left(t \\right)} \\right)} \\cos^{4}{\\left(\\theta_{1}{\\left(t \\right)} \\right)} \\tan^{3}{\\left(\\theta_{1}{\\left(t \\right)} + \\theta_{2}{\\left(t \\right)} \\right)} \\left(\\frac{d}{d t} \\theta_{2}{\\left(t \\right)}\\right)^{2} - 2.0 m_{2} \\sin{\\left(\\theta_{2}{\\left(t \\right)} \\right)} \\cos^{4}{\\left(\\theta_{1}{\\left(t \\right)} \\right)} \\tan{\\left(\\theta_{1}{\\left(t \\right)} + \\theta_{2}{\\left(t \\right)} \\right)} \\left(\\frac{d}{d t} \\theta_{1}{\\left(t \\right)}\\right)^{2} - 4.0 m_{2} \\sin{\\left(\\theta_{2}{\\left(t \\right)} \\right)} \\cos^{4}{\\left(\\theta_{1}{\\left(t \\right)} \\right)} \\tan{\\left(\\theta_{1}{\\left(t \\right)} + \\theta_{2}{\\left(t \\right)} \\right)} \\frac{d}{d t} \\theta_{1}{\\left(t \\right)} \\frac{d}{d t} \\theta_{2}{\\left(t \\right)} - 2.0 m_{2} \\sin{\\left(\\theta_{2}{\\left(t \\right)} \\right)} \\cos^{4}{\\left(\\theta_{1}{\\left(t \\right)} \\right)} \\tan{\\left(\\theta_{1}{\\left(t \\right)} + \\theta_{2}{\\left(t \\right)} \\right)} \\left(\\frac{d}{d t} \\theta_{2}{\\left(t \\right)}\\right)^{2} + m_{2} \\cos^{4}{\\left(\\theta_{1}{\\left(t \\right)} \\right)} \\cos{\\left(\\theta_{2}{\\left(t \\right)} \\right)} \\tan^{4}{\\left(\\theta_{1}{\\left(t \\right)} + \\theta_{2}{\\left(t \\right)} \\right)} \\left(\\frac{d}{d t} \\theta_{2}{\\left(t \\right)}\\right)^{2} + 2.0 m_{2} \\cos^{4}{\\left(\\theta_{1}{\\left(t \\right)} \\right)} \\cos{\\left(\\theta_{2}{\\left(t \\right)} \\right)} \\tan^{2}{\\left(\\theta_{1}{\\left(t \\right)} + \\theta_{2}{\\left(t \\right)} \\right)} \\left(\\frac{d}{d t} \\theta_{2}{\\left(t \\right)}\\right)^{2} + m_{2} \\cos^{4}{\\left(\\theta_{1}{\\left(t \\right)} \\right)} \\cos{\\left(\\theta_{2}{\\left(t \\right)} \\right)} \\left(\\frac{d}{d t} \\theta_{2}{\\left(t \\right)}\\right)^{2}}{\\left(m_{1} + m_{2} \\cos^{4}{\\left(\\theta_{1}{\\left(t \\right)} \\right)} \\tan^{4}{\\left(\\theta_{1}{\\left(t \\right)} + \\theta_{2}{\\left(t \\right)} \\right)} + 2.0 m_{2} \\cos^{4}{\\left(\\theta_{1}{\\left(t \\right)} \\right)} \\tan^{2}{\\left(\\theta_{1}{\\left(t \\right)} + \\theta_{2}{\\left(t \\right)} \\right)} + m_{2} \\cos^{4}{\\left(\\theta_{1}{\\left(t \\right)} \\right)}\\right) \\sin{\\left(\\theta_{2}{\\left(t \\right)} \\right)}}$"
      ],
      "text/plain": [
       "Eq(Derivative(\\theta_1(t), (t, 2)), (-k_1*(cos(2*\\theta_1(t) - \\theta_2(t)) - cos(2*\\theta_1(t) + \\theta_2(t)))/4 - k_2*sin(\\theta_1(t))**3*sin(\\theta_2(t))*cos(\\theta_1(t)) - k_2*sin(\\theta_2(t))*cos(\\theta_1(t))**4*tan(\\theta_1(t) + \\theta_2(t))**3 + k_2*sin(\\theta_2(t))*cos(\\theta_1(t))**4*tan(\\theta_1(t) + \\theta_2(t))**2*tan(\\theta_1(t)) + k_2*sin(\\theta_2(t))*cos(\\theta_1(t))**4*tan(\\theta_1(t) + \\theta_2(t))*tan(\\theta_1(t))**2 - 2.0*m_1*sin(\\theta_2(t))*tan(\\theta_1(t))*Derivative(\\theta_1(t), t)**2 - 2.0*m_2*sin(\\theta_2(t))*cos(\\theta_1(t))**4*tan(\\theta_1(t) + \\theta_2(t))**5*Derivative(\\theta_1(t), t)**2 - 4.0*m_2*sin(\\theta_2(t))*cos(\\theta_1(t))**4*tan(\\theta_1(t) + \\theta_2(t))**5*Derivative(\\theta_1(t), t)*Derivative(\\theta_2(t), t) - 2.0*m_2*sin(\\theta_2(t))*cos(\\theta_1(t))**4*tan(\\theta_1(t) + \\theta_2(t))**5*Derivative(\\theta_2(t), t)**2 - 4.0*m_2*sin(\\theta_2(t))*cos(\\theta_1(t))**4*tan(\\theta_1(t) + \\theta_2(t))**3*Derivative(\\theta_1(t), t)**2 - 8.0*m_2*sin(\\theta_2(t))*cos(\\theta_1(t))**4*tan(\\theta_1(t) + \\theta_2(t))**3*Derivative(\\theta_1(t), t)*Derivative(\\theta_2(t), t) - 4.0*m_2*sin(\\theta_2(t))*cos(\\theta_1(t))**4*tan(\\theta_1(t) + \\theta_2(t))**3*Derivative(\\theta_2(t), t)**2 - 2.0*m_2*sin(\\theta_2(t))*cos(\\theta_1(t))**4*tan(\\theta_1(t) + \\theta_2(t))*Derivative(\\theta_1(t), t)**2 - 4.0*m_2*sin(\\theta_2(t))*cos(\\theta_1(t))**4*tan(\\theta_1(t) + \\theta_2(t))*Derivative(\\theta_1(t), t)*Derivative(\\theta_2(t), t) - 2.0*m_2*sin(\\theta_2(t))*cos(\\theta_1(t))**4*tan(\\theta_1(t) + \\theta_2(t))*Derivative(\\theta_2(t), t)**2 + m_2*cos(\\theta_1(t))**4*cos(\\theta_2(t))*tan(\\theta_1(t) + \\theta_2(t))**4*Derivative(\\theta_2(t), t)**2 + 2.0*m_2*cos(\\theta_1(t))**4*cos(\\theta_2(t))*tan(\\theta_1(t) + \\theta_2(t))**2*Derivative(\\theta_2(t), t)**2 + m_2*cos(\\theta_1(t))**4*cos(\\theta_2(t))*Derivative(\\theta_2(t), t)**2)/((m_1 + m_2*cos(\\theta_1(t))**4*tan(\\theta_1(t) + \\theta_2(t))**4 + 2.0*m_2*cos(\\theta_1(t))**4*tan(\\theta_1(t) + \\theta_2(t))**2 + m_2*cos(\\theta_1(t))**4)*sin(\\theta_2(t))))"
      ]
     },
     "metadata": {},
     "output_type": "display_data"
    },
    {
     "data": {
      "text/latex": [
       "$\\displaystyle \\frac{d^{2}}{d t^{2}} \\theta_{2}{\\left(t \\right)} = - \\frac{\\left(\\frac{d}{d t} \\theta_{2}{\\left(t \\right)}\\right)^{2}}{\\tan{\\left(\\theta_{2}{\\left(t \\right)} \\right)}}$"
      ],
      "text/plain": [
       "Eq(Derivative(\\theta_2(t), (t, 2)), -Derivative(\\theta_2(t), t)**2/tan(\\theta_2(t)))"
      ]
     },
     "metadata": {},
     "output_type": "display_data"
    },
    {
     "data": {
      "text/latex": [
       "$\\displaystyle \\lambda = \\frac{L^{2} \\left(- \\frac{k_{1} m_{2} \\left(\\cos{\\left(2 \\theta_{1}{\\left(t \\right)} - \\theta_{2}{\\left(t \\right)} \\right)} - \\cos{\\left(2 \\theta_{1}{\\left(t \\right)} + \\theta_{2}{\\left(t \\right)} \\right)}\\right)}{4} - k_{1} m_{2} \\sin{\\left(\\theta_{2}{\\left(t \\right)} \\right)} \\cos^{2}{\\left(\\theta_{1}{\\left(t \\right)} \\right)} \\tan^{4}{\\left(\\theta_{1}{\\left(t \\right)} + \\theta_{2}{\\left(t \\right)} \\right)} \\tan{\\left(\\theta_{1}{\\left(t \\right)} \\right)} - 2.0 k_{1} m_{2} \\sin{\\left(\\theta_{2}{\\left(t \\right)} \\right)} \\cos^{2}{\\left(\\theta_{1}{\\left(t \\right)} \\right)} \\tan^{2}{\\left(\\theta_{1}{\\left(t \\right)} + \\theta_{2}{\\left(t \\right)} \\right)} \\tan{\\left(\\theta_{1}{\\left(t \\right)} \\right)} + k_{2} m_{1} \\sin{\\left(\\theta_{2}{\\left(t \\right)} \\right)} \\tan^{3}{\\left(\\theta_{1}{\\left(t \\right)} + \\theta_{2}{\\left(t \\right)} \\right)} - k_{2} m_{1} \\sin{\\left(\\theta_{2}{\\left(t \\right)} \\right)} \\tan^{2}{\\left(\\theta_{1}{\\left(t \\right)} + \\theta_{2}{\\left(t \\right)} \\right)} \\tan{\\left(\\theta_{1}{\\left(t \\right)} \\right)} + k_{2} m_{1} \\sin{\\left(\\theta_{2}{\\left(t \\right)} \\right)} \\tan{\\left(\\theta_{1}{\\left(t \\right)} + \\theta_{2}{\\left(t \\right)} \\right)} - k_{2} m_{1} \\sin{\\left(\\theta_{2}{\\left(t \\right)} \\right)} \\tan{\\left(\\theta_{1}{\\left(t \\right)} \\right)} - k_{2} m_{2} \\sin^{3}{\\left(\\theta_{1}{\\left(t \\right)} \\right)} \\sin{\\left(\\theta_{2}{\\left(t \\right)} \\right)} \\cos{\\left(\\theta_{1}{\\left(t \\right)} \\right)} + k_{2} m_{2} \\sin{\\left(\\theta_{2}{\\left(t \\right)} \\right)} \\cos^{4}{\\left(\\theta_{1}{\\left(t \\right)} \\right)} \\tan^{5}{\\left(\\theta_{1}{\\left(t \\right)} + \\theta_{2}{\\left(t \\right)} \\right)} \\tan^{2}{\\left(\\theta_{1}{\\left(t \\right)} \\right)} + k_{2} m_{2} \\sin{\\left(\\theta_{2}{\\left(t \\right)} \\right)} \\cos^{4}{\\left(\\theta_{1}{\\left(t \\right)} \\right)} \\tan^{5}{\\left(\\theta_{1}{\\left(t \\right)} + \\theta_{2}{\\left(t \\right)} \\right)} - k_{2} m_{2} \\sin{\\left(\\theta_{2}{\\left(t \\right)} \\right)} \\cos^{4}{\\left(\\theta_{1}{\\left(t \\right)} \\right)} \\tan^{4}{\\left(\\theta_{1}{\\left(t \\right)} + \\theta_{2}{\\left(t \\right)} \\right)} \\tan^{3}{\\left(\\theta_{1}{\\left(t \\right)} \\right)} - k_{2} m_{2} \\sin{\\left(\\theta_{2}{\\left(t \\right)} \\right)} \\cos^{4}{\\left(\\theta_{1}{\\left(t \\right)} \\right)} \\tan^{4}{\\left(\\theta_{1}{\\left(t \\right)} + \\theta_{2}{\\left(t \\right)} \\right)} \\tan{\\left(\\theta_{1}{\\left(t \\right)} \\right)} + 2.0 k_{2} m_{2} \\sin{\\left(\\theta_{2}{\\left(t \\right)} \\right)} \\cos^{4}{\\left(\\theta_{1}{\\left(t \\right)} \\right)} \\tan^{3}{\\left(\\theta_{1}{\\left(t \\right)} + \\theta_{2}{\\left(t \\right)} \\right)} \\tan^{2}{\\left(\\theta_{1}{\\left(t \\right)} \\right)} + 2.0 k_{2} m_{2} \\sin{\\left(\\theta_{2}{\\left(t \\right)} \\right)} \\cos^{4}{\\left(\\theta_{1}{\\left(t \\right)} \\right)} \\tan^{3}{\\left(\\theta_{1}{\\left(t \\right)} + \\theta_{2}{\\left(t \\right)} \\right)} - 2.0 k_{2} m_{2} \\sin{\\left(\\theta_{2}{\\left(t \\right)} \\right)} \\cos^{4}{\\left(\\theta_{1}{\\left(t \\right)} \\right)} \\tan^{2}{\\left(\\theta_{1}{\\left(t \\right)} + \\theta_{2}{\\left(t \\right)} \\right)} \\tan^{3}{\\left(\\theta_{1}{\\left(t \\right)} \\right)} - 2.0 k_{2} m_{2} \\sin{\\left(\\theta_{2}{\\left(t \\right)} \\right)} \\cos^{4}{\\left(\\theta_{1}{\\left(t \\right)} \\right)} \\tan^{2}{\\left(\\theta_{1}{\\left(t \\right)} + \\theta_{2}{\\left(t \\right)} \\right)} \\tan{\\left(\\theta_{1}{\\left(t \\right)} \\right)} + k_{2} m_{2} \\sin{\\left(\\theta_{2}{\\left(t \\right)} \\right)} \\cos^{4}{\\left(\\theta_{1}{\\left(t \\right)} \\right)} \\tan{\\left(\\theta_{1}{\\left(t \\right)} + \\theta_{2}{\\left(t \\right)} \\right)} \\tan^{2}{\\left(\\theta_{1}{\\left(t \\right)} \\right)} + k_{2} m_{2} \\sin{\\left(\\theta_{2}{\\left(t \\right)} \\right)} \\cos^{4}{\\left(\\theta_{1}{\\left(t \\right)} \\right)} \\tan{\\left(\\theta_{1}{\\left(t \\right)} + \\theta_{2}{\\left(t \\right)} \\right)} - k_{2} m_{2} \\sin{\\left(\\theta_{2}{\\left(t \\right)} \\right)} \\cos^{4}{\\left(\\theta_{1}{\\left(t \\right)} \\right)} \\tan{\\left(\\theta_{1}{\\left(t \\right)} \\right)} + 2.0 m_{1} m_{2} \\sin{\\left(\\theta_{2}{\\left(t \\right)} \\right)} \\tan^{5}{\\left(\\theta_{1}{\\left(t \\right)} + \\theta_{2}{\\left(t \\right)} \\right)} \\left(\\frac{d}{d t} \\theta_{1}{\\left(t \\right)}\\right)^{2} + 4.0 m_{1} m_{2} \\sin{\\left(\\theta_{2}{\\left(t \\right)} \\right)} \\tan^{5}{\\left(\\theta_{1}{\\left(t \\right)} + \\theta_{2}{\\left(t \\right)} \\right)} \\frac{d}{d t} \\theta_{1}{\\left(t \\right)} \\frac{d}{d t} \\theta_{2}{\\left(t \\right)} + 2.0 m_{1} m_{2} \\sin{\\left(\\theta_{2}{\\left(t \\right)} \\right)} \\tan^{5}{\\left(\\theta_{1}{\\left(t \\right)} + \\theta_{2}{\\left(t \\right)} \\right)} \\left(\\frac{d}{d t} \\theta_{2}{\\left(t \\right)}\\right)^{2} - 2.0 m_{1} m_{2} \\sin{\\left(\\theta_{2}{\\left(t \\right)} \\right)} \\tan^{4}{\\left(\\theta_{1}{\\left(t \\right)} + \\theta_{2}{\\left(t \\right)} \\right)} \\tan{\\left(\\theta_{1}{\\left(t \\right)} \\right)} \\left(\\frac{d}{d t} \\theta_{1}{\\left(t \\right)}\\right)^{2} + 4.0 m_{1} m_{2} \\sin{\\left(\\theta_{2}{\\left(t \\right)} \\right)} \\tan^{3}{\\left(\\theta_{1}{\\left(t \\right)} + \\theta_{2}{\\left(t \\right)} \\right)} \\left(\\frac{d}{d t} \\theta_{1}{\\left(t \\right)}\\right)^{2} + 8.0 m_{1} m_{2} \\sin{\\left(\\theta_{2}{\\left(t \\right)} \\right)} \\tan^{3}{\\left(\\theta_{1}{\\left(t \\right)} + \\theta_{2}{\\left(t \\right)} \\right)} \\frac{d}{d t} \\theta_{1}{\\left(t \\right)} \\frac{d}{d t} \\theta_{2}{\\left(t \\right)} + 4.0 m_{1} m_{2} \\sin{\\left(\\theta_{2}{\\left(t \\right)} \\right)} \\tan^{3}{\\left(\\theta_{1}{\\left(t \\right)} + \\theta_{2}{\\left(t \\right)} \\right)} \\left(\\frac{d}{d t} \\theta_{2}{\\left(t \\right)}\\right)^{2} - 4.0 m_{1} m_{2} \\sin{\\left(\\theta_{2}{\\left(t \\right)} \\right)} \\tan^{2}{\\left(\\theta_{1}{\\left(t \\right)} + \\theta_{2}{\\left(t \\right)} \\right)} \\tan{\\left(\\theta_{1}{\\left(t \\right)} \\right)} \\left(\\frac{d}{d t} \\theta_{1}{\\left(t \\right)}\\right)^{2} + 2.0 m_{1} m_{2} \\sin{\\left(\\theta_{2}{\\left(t \\right)} \\right)} \\tan{\\left(\\theta_{1}{\\left(t \\right)} + \\theta_{2}{\\left(t \\right)} \\right)} \\left(\\frac{d}{d t} \\theta_{1}{\\left(t \\right)}\\right)^{2} + 4.0 m_{1} m_{2} \\sin{\\left(\\theta_{2}{\\left(t \\right)} \\right)} \\tan{\\left(\\theta_{1}{\\left(t \\right)} + \\theta_{2}{\\left(t \\right)} \\right)} \\frac{d}{d t} \\theta_{1}{\\left(t \\right)} \\frac{d}{d t} \\theta_{2}{\\left(t \\right)} + 2.0 m_{1} m_{2} \\sin{\\left(\\theta_{2}{\\left(t \\right)} \\right)} \\tan{\\left(\\theta_{1}{\\left(t \\right)} + \\theta_{2}{\\left(t \\right)} \\right)} \\left(\\frac{d}{d t} \\theta_{2}{\\left(t \\right)}\\right)^{2} - 2.0 m_{1} m_{2} \\sin{\\left(\\theta_{2}{\\left(t \\right)} \\right)} \\tan{\\left(\\theta_{1}{\\left(t \\right)} \\right)} \\left(\\frac{d}{d t} \\theta_{1}{\\left(t \\right)}\\right)^{2} - m_{1} m_{2} \\cos{\\left(\\theta_{2}{\\left(t \\right)} \\right)} \\tan^{4}{\\left(\\theta_{1}{\\left(t \\right)} + \\theta_{2}{\\left(t \\right)} \\right)} \\left(\\frac{d}{d t} \\theta_{2}{\\left(t \\right)}\\right)^{2} - 2.0 m_{1} m_{2} \\cos{\\left(\\theta_{2}{\\left(t \\right)} \\right)} \\tan^{2}{\\left(\\theta_{1}{\\left(t \\right)} + \\theta_{2}{\\left(t \\right)} \\right)} \\left(\\frac{d}{d t} \\theta_{2}{\\left(t \\right)}\\right)^{2} - m_{1} m_{2} \\cos{\\left(\\theta_{2}{\\left(t \\right)} \\right)} \\left(\\frac{d}{d t} \\theta_{2}{\\left(t \\right)}\\right)^{2}\\right)}{R_{1} R_{2} \\cdot \\left(2.0 m_{1} + 2.0 m_{2} \\cos^{4}{\\left(\\theta_{1}{\\left(t \\right)} \\right)} \\tan^{4}{\\left(\\theta_{1}{\\left(t \\right)} + \\theta_{2}{\\left(t \\right)} \\right)} + 4.0 m_{2} \\cos^{4}{\\left(\\theta_{1}{\\left(t \\right)} \\right)} \\tan^{2}{\\left(\\theta_{1}{\\left(t \\right)} + \\theta_{2}{\\left(t \\right)} \\right)} + 2.0 m_{2} \\cos^{4}{\\left(\\theta_{1}{\\left(t \\right)} \\right)}\\right) \\sin^{2}{\\left(\\theta_{2}{\\left(t \\right)} \\right)}}$"
      ],
      "text/plain": [
       "Eq(\\lambda, L**2*(-k_1*m_2*(cos(2*\\theta_1(t) - \\theta_2(t)) - cos(2*\\theta_1(t) + \\theta_2(t)))/4 - k_1*m_2*sin(\\theta_2(t))*cos(\\theta_1(t))**2*tan(\\theta_1(t) + \\theta_2(t))**4*tan(\\theta_1(t)) - 2.0*k_1*m_2*sin(\\theta_2(t))*cos(\\theta_1(t))**2*tan(\\theta_1(t) + \\theta_2(t))**2*tan(\\theta_1(t)) + k_2*m_1*sin(\\theta_2(t))*tan(\\theta_1(t) + \\theta_2(t))**3 - k_2*m_1*sin(\\theta_2(t))*tan(\\theta_1(t) + \\theta_2(t))**2*tan(\\theta_1(t)) + k_2*m_1*sin(\\theta_2(t))*tan(\\theta_1(t) + \\theta_2(t)) - k_2*m_1*sin(\\theta_2(t))*tan(\\theta_1(t)) - k_2*m_2*sin(\\theta_1(t))**3*sin(\\theta_2(t))*cos(\\theta_1(t)) + k_2*m_2*sin(\\theta_2(t))*cos(\\theta_1(t))**4*tan(\\theta_1(t) + \\theta_2(t))**5*tan(\\theta_1(t))**2 + k_2*m_2*sin(\\theta_2(t))*cos(\\theta_1(t))**4*tan(\\theta_1(t) + \\theta_2(t))**5 - k_2*m_2*sin(\\theta_2(t))*cos(\\theta_1(t))**4*tan(\\theta_1(t) + \\theta_2(t))**4*tan(\\theta_1(t))**3 - k_2*m_2*sin(\\theta_2(t))*cos(\\theta_1(t))**4*tan(\\theta_1(t) + \\theta_2(t))**4*tan(\\theta_1(t)) + 2.0*k_2*m_2*sin(\\theta_2(t))*cos(\\theta_1(t))**4*tan(\\theta_1(t) + \\theta_2(t))**3*tan(\\theta_1(t))**2 + 2.0*k_2*m_2*sin(\\theta_2(t))*cos(\\theta_1(t))**4*tan(\\theta_1(t) + \\theta_2(t))**3 - 2.0*k_2*m_2*sin(\\theta_2(t))*cos(\\theta_1(t))**4*tan(\\theta_1(t) + \\theta_2(t))**2*tan(\\theta_1(t))**3 - 2.0*k_2*m_2*sin(\\theta_2(t))*cos(\\theta_1(t))**4*tan(\\theta_1(t) + \\theta_2(t))**2*tan(\\theta_1(t)) + k_2*m_2*sin(\\theta_2(t))*cos(\\theta_1(t))**4*tan(\\theta_1(t) + \\theta_2(t))*tan(\\theta_1(t))**2 + k_2*m_2*sin(\\theta_2(t))*cos(\\theta_1(t))**4*tan(\\theta_1(t) + \\theta_2(t)) - k_2*m_2*sin(\\theta_2(t))*cos(\\theta_1(t))**4*tan(\\theta_1(t)) + 2.0*m_1*m_2*sin(\\theta_2(t))*tan(\\theta_1(t) + \\theta_2(t))**5*Derivative(\\theta_1(t), t)**2 + 4.0*m_1*m_2*sin(\\theta_2(t))*tan(\\theta_1(t) + \\theta_2(t))**5*Derivative(\\theta_1(t), t)*Derivative(\\theta_2(t), t) + 2.0*m_1*m_2*sin(\\theta_2(t))*tan(\\theta_1(t) + \\theta_2(t))**5*Derivative(\\theta_2(t), t)**2 - 2.0*m_1*m_2*sin(\\theta_2(t))*tan(\\theta_1(t) + \\theta_2(t))**4*tan(\\theta_1(t))*Derivative(\\theta_1(t), t)**2 + 4.0*m_1*m_2*sin(\\theta_2(t))*tan(\\theta_1(t) + \\theta_2(t))**3*Derivative(\\theta_1(t), t)**2 + 8.0*m_1*m_2*sin(\\theta_2(t))*tan(\\theta_1(t) + \\theta_2(t))**3*Derivative(\\theta_1(t), t)*Derivative(\\theta_2(t), t) + 4.0*m_1*m_2*sin(\\theta_2(t))*tan(\\theta_1(t) + \\theta_2(t))**3*Derivative(\\theta_2(t), t)**2 - 4.0*m_1*m_2*sin(\\theta_2(t))*tan(\\theta_1(t) + \\theta_2(t))**2*tan(\\theta_1(t))*Derivative(\\theta_1(t), t)**2 + 2.0*m_1*m_2*sin(\\theta_2(t))*tan(\\theta_1(t) + \\theta_2(t))*Derivative(\\theta_1(t), t)**2 + 4.0*m_1*m_2*sin(\\theta_2(t))*tan(\\theta_1(t) + \\theta_2(t))*Derivative(\\theta_1(t), t)*Derivative(\\theta_2(t), t) + 2.0*m_1*m_2*sin(\\theta_2(t))*tan(\\theta_1(t) + \\theta_2(t))*Derivative(\\theta_2(t), t)**2 - 2.0*m_1*m_2*sin(\\theta_2(t))*tan(\\theta_1(t))*Derivative(\\theta_1(t), t)**2 - m_1*m_2*cos(\\theta_2(t))*tan(\\theta_1(t) + \\theta_2(t))**4*Derivative(\\theta_2(t), t)**2 - 2.0*m_1*m_2*cos(\\theta_2(t))*tan(\\theta_1(t) + \\theta_2(t))**2*Derivative(\\theta_2(t), t)**2 - m_1*m_2*cos(\\theta_2(t))*Derivative(\\theta_2(t), t)**2)/(R_1*R_2*(2.0*m_1 + 2.0*m_2*cos(\\theta_1(t))**4*tan(\\theta_1(t) + \\theta_2(t))**4 + 4.0*m_2*cos(\\theta_1(t))**4*tan(\\theta_1(t) + \\theta_2(t))**2 + 2.0*m_2*cos(\\theta_1(t))**4)*sin(\\theta_2(t))**2))"
      ]
     },
     "metadata": {},
     "output_type": "display_data"
    },
    {
     "name": "stdout",
     "output_type": "stream",
     "text": [
      "Elapsed: 2016.9455256462097\n"
     ]
    }
   ],
   "source": [
    "#constraint equation\n",
    "phi = x2**2 + y2**2 - 2\n",
    "phi = phi.simplify()\n",
    "print(\"Constraint equation:\")\n",
    "display(phi)\n",
    "\n",
    "t1 = time.time()\n",
    "\n",
    "#left-hand side of constrained Euler-Lagrange equations\n",
    "eqn = compute_EL(lagrangian, q)\n",
    "eqn = eqn.simplify()\n",
    "lhs = eqn.rhs #left side of the Sympy equation is [0,0]T\n",
    "\n",
    "eqns_solved = solve_constrained_EL(lamb, phi, q, lhs)\n",
    "print(\"Solved:\")\n",
    "\n",
    "eq_simpl = []\n",
    "for eq in eqns_solved:\n",
    "    eq_new = eq.simplify()\n",
    "    eq_simpl.append(eq_new)\n",
    "    display(eq_new)\n",
    "    \n",
    "t2 = time.time()\n",
    "print(f\"Elapsed: {t2 - t1}\")\n"
   ]
  },
  {
   "cell_type": "code",
   "execution_count": null,
   "metadata": {},
   "outputs": [],
   "source": [
    "#2016 seconds is 33.5 minutes, but on my end it was really more like 48 min"
   ]
  },
  {
   "cell_type": "code",
   "execution_count": 44,
   "metadata": {},
   "outputs": [
    {
     "name": "stdout",
     "output_type": "stream",
     "text": [
      "Equations of motion and constraint force lambda:\n"
     ]
    },
    {
     "data": {
      "text/latex": [
       "$\\displaystyle \\frac{d^{2}}{d t^{2}} \\theta_{1}{\\left(t \\right)} = \\frac{- \\frac{k_{1} \\left(\\cos{\\left(2 \\theta_{1}{\\left(t \\right)} - \\theta_{2}{\\left(t \\right)} \\right)} - \\cos{\\left(2 \\theta_{1}{\\left(t \\right)} + \\theta_{2}{\\left(t \\right)} \\right)}\\right)}{4} - k_{2} \\sin^{3}{\\left(\\theta_{1}{\\left(t \\right)} \\right)} \\sin{\\left(\\theta_{2}{\\left(t \\right)} \\right)} \\cos{\\left(\\theta_{1}{\\left(t \\right)} \\right)} - k_{2} \\sin{\\left(\\theta_{2}{\\left(t \\right)} \\right)} \\cos^{4}{\\left(\\theta_{1}{\\left(t \\right)} \\right)} \\tan^{3}{\\left(\\theta_{1}{\\left(t \\right)} + \\theta_{2}{\\left(t \\right)} \\right)} + k_{2} \\sin{\\left(\\theta_{2}{\\left(t \\right)} \\right)} \\cos^{4}{\\left(\\theta_{1}{\\left(t \\right)} \\right)} \\tan^{2}{\\left(\\theta_{1}{\\left(t \\right)} + \\theta_{2}{\\left(t \\right)} \\right)} \\tan{\\left(\\theta_{1}{\\left(t \\right)} \\right)} + k_{2} \\sin{\\left(\\theta_{2}{\\left(t \\right)} \\right)} \\cos^{4}{\\left(\\theta_{1}{\\left(t \\right)} \\right)} \\tan{\\left(\\theta_{1}{\\left(t \\right)} + \\theta_{2}{\\left(t \\right)} \\right)} \\tan^{2}{\\left(\\theta_{1}{\\left(t \\right)} \\right)} - 2.0 \\sin{\\left(\\theta_{2}{\\left(t \\right)} \\right)} \\cos^{4}{\\left(\\theta_{1}{\\left(t \\right)} \\right)} \\tan^{5}{\\left(\\theta_{1}{\\left(t \\right)} + \\theta_{2}{\\left(t \\right)} \\right)} \\left(\\frac{d}{d t} \\theta_{1}{\\left(t \\right)}\\right)^{2} - 4.0 \\sin{\\left(\\theta_{2}{\\left(t \\right)} \\right)} \\cos^{4}{\\left(\\theta_{1}{\\left(t \\right)} \\right)} \\tan^{5}{\\left(\\theta_{1}{\\left(t \\right)} + \\theta_{2}{\\left(t \\right)} \\right)} \\frac{d}{d t} \\theta_{1}{\\left(t \\right)} \\frac{d}{d t} \\theta_{2}{\\left(t \\right)} - 2.0 \\sin{\\left(\\theta_{2}{\\left(t \\right)} \\right)} \\cos^{4}{\\left(\\theta_{1}{\\left(t \\right)} \\right)} \\tan^{5}{\\left(\\theta_{1}{\\left(t \\right)} + \\theta_{2}{\\left(t \\right)} \\right)} \\left(\\frac{d}{d t} \\theta_{2}{\\left(t \\right)}\\right)^{2} - 4.0 \\sin{\\left(\\theta_{2}{\\left(t \\right)} \\right)} \\cos^{4}{\\left(\\theta_{1}{\\left(t \\right)} \\right)} \\tan^{3}{\\left(\\theta_{1}{\\left(t \\right)} + \\theta_{2}{\\left(t \\right)} \\right)} \\left(\\frac{d}{d t} \\theta_{1}{\\left(t \\right)}\\right)^{2} - 8.0 \\sin{\\left(\\theta_{2}{\\left(t \\right)} \\right)} \\cos^{4}{\\left(\\theta_{1}{\\left(t \\right)} \\right)} \\tan^{3}{\\left(\\theta_{1}{\\left(t \\right)} + \\theta_{2}{\\left(t \\right)} \\right)} \\frac{d}{d t} \\theta_{1}{\\left(t \\right)} \\frac{d}{d t} \\theta_{2}{\\left(t \\right)} - 4.0 \\sin{\\left(\\theta_{2}{\\left(t \\right)} \\right)} \\cos^{4}{\\left(\\theta_{1}{\\left(t \\right)} \\right)} \\tan^{3}{\\left(\\theta_{1}{\\left(t \\right)} + \\theta_{2}{\\left(t \\right)} \\right)} \\left(\\frac{d}{d t} \\theta_{2}{\\left(t \\right)}\\right)^{2} - 2.0 \\sin{\\left(\\theta_{2}{\\left(t \\right)} \\right)} \\cos^{4}{\\left(\\theta_{1}{\\left(t \\right)} \\right)} \\tan{\\left(\\theta_{1}{\\left(t \\right)} + \\theta_{2}{\\left(t \\right)} \\right)} \\left(\\frac{d}{d t} \\theta_{1}{\\left(t \\right)}\\right)^{2} - 4.0 \\sin{\\left(\\theta_{2}{\\left(t \\right)} \\right)} \\cos^{4}{\\left(\\theta_{1}{\\left(t \\right)} \\right)} \\tan{\\left(\\theta_{1}{\\left(t \\right)} + \\theta_{2}{\\left(t \\right)} \\right)} \\frac{d}{d t} \\theta_{1}{\\left(t \\right)} \\frac{d}{d t} \\theta_{2}{\\left(t \\right)} - 2.0 \\sin{\\left(\\theta_{2}{\\left(t \\right)} \\right)} \\cos^{4}{\\left(\\theta_{1}{\\left(t \\right)} \\right)} \\tan{\\left(\\theta_{1}{\\left(t \\right)} + \\theta_{2}{\\left(t \\right)} \\right)} \\left(\\frac{d}{d t} \\theta_{2}{\\left(t \\right)}\\right)^{2} - 2.0 \\sin{\\left(\\theta_{2}{\\left(t \\right)} \\right)} \\tan{\\left(\\theta_{1}{\\left(t \\right)} \\right)} \\left(\\frac{d}{d t} \\theta_{1}{\\left(t \\right)}\\right)^{2} + \\cos^{4}{\\left(\\theta_{1}{\\left(t \\right)} \\right)} \\cos{\\left(\\theta_{2}{\\left(t \\right)} \\right)} \\tan^{4}{\\left(\\theta_{1}{\\left(t \\right)} + \\theta_{2}{\\left(t \\right)} \\right)} \\left(\\frac{d}{d t} \\theta_{2}{\\left(t \\right)}\\right)^{2} + 2.0 \\cos^{4}{\\left(\\theta_{1}{\\left(t \\right)} \\right)} \\cos{\\left(\\theta_{2}{\\left(t \\right)} \\right)} \\tan^{2}{\\left(\\theta_{1}{\\left(t \\right)} + \\theta_{2}{\\left(t \\right)} \\right)} \\left(\\frac{d}{d t} \\theta_{2}{\\left(t \\right)}\\right)^{2} + \\cos^{4}{\\left(\\theta_{1}{\\left(t \\right)} \\right)} \\cos{\\left(\\theta_{2}{\\left(t \\right)} \\right)} \\left(\\frac{d}{d t} \\theta_{2}{\\left(t \\right)}\\right)^{2}}{\\left(\\cos^{4}{\\left(\\theta_{1}{\\left(t \\right)} \\right)} \\tan^{4}{\\left(\\theta_{1}{\\left(t \\right)} + \\theta_{2}{\\left(t \\right)} \\right)} + 2.0 \\cos^{4}{\\left(\\theta_{1}{\\left(t \\right)} \\right)} \\tan^{2}{\\left(\\theta_{1}{\\left(t \\right)} + \\theta_{2}{\\left(t \\right)} \\right)} + \\cos^{4}{\\left(\\theta_{1}{\\left(t \\right)} \\right)} + 1\\right) \\sin{\\left(\\theta_{2}{\\left(t \\right)} \\right)}}$"
      ],
      "text/plain": [
       "Eq(Derivative(\\theta_1(t), (t, 2)), (-k_1*(cos(2*\\theta_1(t) - \\theta_2(t)) - cos(2*\\theta_1(t) + \\theta_2(t)))/4 - k_2*sin(\\theta_1(t))**3*sin(\\theta_2(t))*cos(\\theta_1(t)) - k_2*sin(\\theta_2(t))*cos(\\theta_1(t))**4*tan(\\theta_1(t) + \\theta_2(t))**3 + k_2*sin(\\theta_2(t))*cos(\\theta_1(t))**4*tan(\\theta_1(t) + \\theta_2(t))**2*tan(\\theta_1(t)) + k_2*sin(\\theta_2(t))*cos(\\theta_1(t))**4*tan(\\theta_1(t) + \\theta_2(t))*tan(\\theta_1(t))**2 - 2.0*sin(\\theta_2(t))*cos(\\theta_1(t))**4*tan(\\theta_1(t) + \\theta_2(t))**5*Derivative(\\theta_1(t), t)**2 - 4.0*sin(\\theta_2(t))*cos(\\theta_1(t))**4*tan(\\theta_1(t) + \\theta_2(t))**5*Derivative(\\theta_1(t), t)*Derivative(\\theta_2(t), t) - 2.0*sin(\\theta_2(t))*cos(\\theta_1(t))**4*tan(\\theta_1(t) + \\theta_2(t))**5*Derivative(\\theta_2(t), t)**2 - 4.0*sin(\\theta_2(t))*cos(\\theta_1(t))**4*tan(\\theta_1(t) + \\theta_2(t))**3*Derivative(\\theta_1(t), t)**2 - 8.0*sin(\\theta_2(t))*cos(\\theta_1(t))**4*tan(\\theta_1(t) + \\theta_2(t))**3*Derivative(\\theta_1(t), t)*Derivative(\\theta_2(t), t) - 4.0*sin(\\theta_2(t))*cos(\\theta_1(t))**4*tan(\\theta_1(t) + \\theta_2(t))**3*Derivative(\\theta_2(t), t)**2 - 2.0*sin(\\theta_2(t))*cos(\\theta_1(t))**4*tan(\\theta_1(t) + \\theta_2(t))*Derivative(\\theta_1(t), t)**2 - 4.0*sin(\\theta_2(t))*cos(\\theta_1(t))**4*tan(\\theta_1(t) + \\theta_2(t))*Derivative(\\theta_1(t), t)*Derivative(\\theta_2(t), t) - 2.0*sin(\\theta_2(t))*cos(\\theta_1(t))**4*tan(\\theta_1(t) + \\theta_2(t))*Derivative(\\theta_2(t), t)**2 - 2.0*sin(\\theta_2(t))*tan(\\theta_1(t))*Derivative(\\theta_1(t), t)**2 + cos(\\theta_1(t))**4*cos(\\theta_2(t))*tan(\\theta_1(t) + \\theta_2(t))**4*Derivative(\\theta_2(t), t)**2 + 2.0*cos(\\theta_1(t))**4*cos(\\theta_2(t))*tan(\\theta_1(t) + \\theta_2(t))**2*Derivative(\\theta_2(t), t)**2 + cos(\\theta_1(t))**4*cos(\\theta_2(t))*Derivative(\\theta_2(t), t)**2)/((cos(\\theta_1(t))**4*tan(\\theta_1(t) + \\theta_2(t))**4 + 2.0*cos(\\theta_1(t))**4*tan(\\theta_1(t) + \\theta_2(t))**2 + cos(\\theta_1(t))**4 + 1)*sin(\\theta_2(t))))"
      ]
     },
     "metadata": {},
     "output_type": "display_data"
    },
    {
     "data": {
      "text/latex": [
       "$\\displaystyle \\frac{d^{2}}{d t^{2}} \\theta_{2}{\\left(t \\right)} = - \\frac{\\left(\\frac{d}{d t} \\theta_{2}{\\left(t \\right)}\\right)^{2}}{\\tan{\\left(\\theta_{2}{\\left(t \\right)} \\right)}}$"
      ],
      "text/plain": [
       "Eq(Derivative(\\theta_2(t), (t, 2)), -Derivative(\\theta_2(t), t)**2/tan(\\theta_2(t)))"
      ]
     },
     "metadata": {},
     "output_type": "display_data"
    },
    {
     "name": "stdout",
     "output_type": "stream",
     "text": [
      "Elapsed: -817.965690612793 seconds\n"
     ]
    }
   ],
   "source": [
    "consts_dict = {\n",
    "    R1: 1,\n",
    "    R2: 1,\n",
    "    m1: 1,\n",
    "    m2: 1,\n",
    "    g: 9.8\n",
    "}\n",
    "\n",
    "t1 = time.time()\n",
    "theta1dd_sy = eq_simpl[0].subs(consts_dict).simplify()\n",
    "theta2dd_sy = eq_simpl[1].subs(consts_dict).simplify()\n",
    "\n",
    "print(\"Equations of motion and constraint force lambda:\")\n",
    "display(theta1dd_sy)\n",
    "display(theta2dd_sy)\n",
    "t2 = time.time()\n",
    "\n",
    "print(f\"Elapsed: {t2 - t1} seconds\")"
   ]
  },
  {
   "cell_type": "code",
   "execution_count": null,
   "metadata": {},
   "outputs": [],
   "source": [
    "#13 minutes"
   ]
  },
  {
   "cell_type": "code",
   "execution_count": 47,
   "metadata": {},
   "outputs": [
    {
     "ename": "TypeError",
     "evalue": "Cannot convert expression to float",
     "output_type": "error",
     "traceback": [
      "\u001b[1;31m---------------------------------------------------------------------------\u001b[0m",
      "\u001b[1;31mTypeError\u001b[0m                                 Traceback (most recent call last)",
      "Cell \u001b[1;32mIn [47], line 10\u001b[0m\n\u001b[0;32m      7\u001b[0m t_span \u001b[38;5;241m=\u001b[39m [\u001b[38;5;241m0\u001b[39m, \u001b[38;5;241m10\u001b[39m]\n\u001b[0;32m      8\u001b[0m dt \u001b[38;5;241m=\u001b[39m \u001b[38;5;241m0.01\u001b[39m\n\u001b[1;32m---> 10\u001b[0m traj \u001b[38;5;241m=\u001b[39m \u001b[43msimulate_prob6\u001b[49m\u001b[43m(\u001b[49m\u001b[43mdxdt_new\u001b[49m\u001b[43m,\u001b[49m\u001b[43m \u001b[49m\u001b[43mx0\u001b[49m\u001b[38;5;241;43m=\u001b[39;49m\u001b[43mICs\u001b[49m\u001b[43m,\u001b[49m\u001b[43m \u001b[49m\u001b[43mtspan\u001b[49m\u001b[38;5;241;43m=\u001b[39;49m\u001b[43m[\u001b[49m\u001b[38;5;241;43m0\u001b[39;49m\u001b[43m,\u001b[49m\u001b[38;5;241;43m10\u001b[39;49m\u001b[43m]\u001b[49m\u001b[43m,\u001b[49m\u001b[43m \u001b[49m\u001b[43mdt\u001b[49m\u001b[38;5;241;43m=\u001b[39;49m\u001b[38;5;241;43m0.01\u001b[39;49m\u001b[43m,\u001b[49m\u001b[43m \u001b[49m\u001b[43mintegrate\u001b[49m\u001b[38;5;241;43m=\u001b[39;49m\u001b[43mnew_integrate\u001b[49m\u001b[43m)\u001b[49m\n",
      "Cell \u001b[1;32mIn [35], line 14\u001b[0m, in \u001b[0;36msimulate_prob6\u001b[1;34m(f, x0, tspan, dt, integrate)\u001b[0m\n\u001b[0;32m     12\u001b[0m xtraj \u001b[38;5;241m=\u001b[39m np\u001b[38;5;241m.\u001b[39mzeros((\u001b[38;5;28mlen\u001b[39m(x0),N))\n\u001b[0;32m     13\u001b[0m \u001b[38;5;28;01mfor\u001b[39;00m i \u001b[38;5;129;01min\u001b[39;00m \u001b[38;5;28mrange\u001b[39m(N):\n\u001b[1;32m---> 14\u001b[0m     \u001b[43mxtraj\u001b[49m\u001b[43m[\u001b[49m\u001b[43m:\u001b[49m\u001b[43m,\u001b[49m\u001b[43mi\u001b[49m\u001b[43m]\u001b[49m\u001b[38;5;241m=\u001b[39mintegrate(f,x,dt)\n\u001b[0;32m     15\u001b[0m     x \u001b[38;5;241m=\u001b[39m np\u001b[38;5;241m.\u001b[39mcopy(xtraj[:,i])\n\u001b[0;32m     16\u001b[0m \u001b[38;5;28;01mreturn\u001b[39;00m xtraj\n",
      "File \u001b[1;32m~\\AppData\\Local\\Programs\\Python\\Python310\\lib\\site-packages\\sympy\\core\\expr.py:351\u001b[0m, in \u001b[0;36mExpr.__float__\u001b[1;34m(self)\u001b[0m\n\u001b[0;32m    349\u001b[0m \u001b[38;5;28;01mif\u001b[39;00m result\u001b[38;5;241m.\u001b[39mis_number \u001b[38;5;129;01mand\u001b[39;00m result\u001b[38;5;241m.\u001b[39mas_real_imag()[\u001b[38;5;241m1\u001b[39m]:\n\u001b[0;32m    350\u001b[0m     \u001b[38;5;28;01mraise\u001b[39;00m \u001b[38;5;167;01mTypeError\u001b[39;00m(\u001b[38;5;124m\"\u001b[39m\u001b[38;5;124mCannot convert complex to float\u001b[39m\u001b[38;5;124m\"\u001b[39m)\n\u001b[1;32m--> 351\u001b[0m \u001b[38;5;28;01mraise\u001b[39;00m \u001b[38;5;167;01mTypeError\u001b[39;00m(\u001b[38;5;124m\"\u001b[39m\u001b[38;5;124mCannot convert expression to float\u001b[39m\u001b[38;5;124m\"\u001b[39m)\n",
      "\u001b[1;31mTypeError\u001b[0m: Cannot convert expression to float"
     ]
    }
   ],
   "source": [
    "q_ext = sym.Matrix([theta1, theta2, theta1d, theta2d])\n",
    "theta1dd_np = sym.lambdify(q_ext, theta1dd_sy.rhs)\n",
    "theta2dd_np = sym.lambdify(q_ext, theta2dd_sy.rhs)\n",
    "\n",
    "#simulate motion of the system over time\n",
    "ICs = [-np.pi/2, -np.pi/2, 0, 0]\n",
    "t_span = [0, 10]\n",
    "dt = 0.01\n",
    "\n",
    "traj = simulate_prob6(dxdt_new, x0=ICs, tspan=[0,10], dt=0.01, integrate=new_integrate) \n",
    "\n",
    "\n"
   ]
  },
  {
   "cell_type": "markdown",
   "metadata": {
    "id": "Jvm71AhKJfEP"
   },
   "source": [
    "## Problem 8 (5pts)\n",
    "\n",
    "For the same system with same constraint in Problem 6, simulate the system with initial condition $\\theta_1=\\theta_2=-\\frac{\\pi}{4}$, which actually violates the constraint! Simulate the system and see what happen, what do you think is the actual influence after adding this constraint?\n",
    "\n",
    "---\n",
    "**Turn in: Your thoughts about the actual effect of the constraint in this system. Note that you don't need to include any code for this problem.**"
   ]
  },
  {
   "cell_type": "code",
   "execution_count": null,
   "metadata": {},
   "outputs": [],
   "source": []
  },
  {
   "cell_type": "code",
   "execution_count": null,
   "metadata": {
    "executionInfo": {
     "elapsed": 31,
     "status": "ok",
     "timestamp": 1665424268824,
     "user": {
      "displayName": "Jake Ketchum",
      "userId": "08878338408047028227"
     },
     "user_tz": 300
    },
    "id": "OHz3npTUJfEP"
   },
   "outputs": [],
   "source": []
  }
 ],
 "metadata": {
  "colab": {
   "collapsed_sections": [],
   "provenance": []
  },
  "kernelspec": {
   "display_name": "Python 3 (ipykernel)",
   "language": "python",
   "name": "python3"
  },
  "language_info": {
   "codemirror_mode": {
    "name": "ipython",
    "version": 3
   },
   "file_extension": ".py",
   "mimetype": "text/x-python",
   "name": "python",
   "nbconvert_exporter": "python",
   "pygments_lexer": "ipython3",
   "version": "3.10.7"
  }
 },
 "nbformat": 4,
 "nbformat_minor": 1
}
