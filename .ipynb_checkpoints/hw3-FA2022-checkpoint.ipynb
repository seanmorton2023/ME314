{
 "cells": [
  {
   "cell_type": "markdown",
   "metadata": {
    "id": "trgiPrPsJfDy"
   },
   "source": [
    "# ME314 Homework 3\n",
    "\n",
    "###Submission instructions\n",
    "\n",
    "Deliverables that should be included with your submission are shown in **bold** at the end of each problem statement and the corresponding supplemental material. **Your homework will be graded IFF you submit a single PDF, .mp4 videos of animations when requested and a link to a Google colab file that meet all the requirements outlined below.**\n",
    "\n",
    "- List the names of students you've collaborated with on this homework assignment.\n",
    "- Include all of your code (and handwritten solutions when applicable) used to complete the problems.\n",
    "- Highlight your answers (i.e. **bold** and outline the answers) for handwritten or markdown questions and include simplified code outputs (e.g. .simplify()) for python questions.\n",
    "- Enable Google Colab permission for viewing \n",
    " * Click Share in the upper right corner\n",
    " * Under \"Get Link\" click \"Share with...\" or \"Change\" \n",
    " * Then make sure it says \"Anyone with Link\" and \"Editor\" under the dropdown menu\n",
    "- Make sure all cells are run before submitting (i.e. check the permission by running your code in a private mode)\n",
    " * Please don't make changes to your file after submitting, so we can grade it!\n",
    "- Submit a link to your Google Colab file that has been run (before the submission deadline) and don't edit it afterwards!\n",
    "\n",
    "**NOTE:** This Juputer Notebook file serves as a template for you to start homework. Make sure you first copy this template to your own Google driver (click \"File\" -> \"Save a copy in Drive\"), and then start to edit it."
   ]
  },
  {
   "cell_type": "code",
   "execution_count": 1,
   "metadata": {
    "executionInfo": {
     "elapsed": 6,
     "status": "ok",
     "timestamp": 1665424268238,
     "user": {
      "displayName": "Jake Ketchum",
      "userId": "08878338408047028227"
     },
     "user_tz": 300
    },
    "id": "ZhKOVhNwgfbw"
   },
   "outputs": [],
   "source": [
    "#IMPORT CELL\n",
    "import sympy as sym\n",
    "import numpy as np\n"
   ]
  },
  {
   "cell_type": "code",
   "execution_count": 2,
   "metadata": {
    "executionInfo": {
     "elapsed": 12,
     "status": "ok",
     "timestamp": 1665424268347,
     "user": {
      "displayName": "Jake Ketchum",
      "userId": "08878338408047028227"
     },
     "user_tz": 300
    },
    "id": "EKCpAo0OJfDz"
   },
   "outputs": [],
   "source": [
    "##############################################################################################\n",
    "# If you're using Google Colab, uncomment this section by selecting the whole section and press\n",
    "# ctrl+'/' on your and keyboard. Run it before you start programming, this will enable the nice \n",
    "# LaTeX \"display()\" function for you. If you're using the local Jupyter environment, leave it alone\n",
    "##############################################################################################\n",
    "\n",
    "# def custom_latex_printer(exp,**options):\n",
    "#     from google.colab.output._publish import javascript\n",
    "#     url = \"https://cdnjs.cloudflare.com/ajax/libs/mathjax/3.1.1/latest.js?config=TeX-AMS_HTML\"\n",
    "#     javascript(url=url)\n",
    "#     return sym.printing.latex(exp,**options)\n",
    "# sym.init_printing(use_latex=\"mathjax\",latex_printer=custom_latex_printer)"
   ]
  },
  {
   "cell_type": "code",
   "execution_count": 3,
   "metadata": {},
   "outputs": [],
   "source": [
    "#helper functions I've used in past HW:\n",
    "\n",
    "def compute_EL(lagrangian, q):\n",
    "    '''\n",
    "    Helper function for computing the Euler-Lagrange equations for a given system,\n",
    "    so I don't have to keep writing it out over and over again.\n",
    "    \n",
    "    Inputs:\n",
    "    - lagrangian: our Lagrangian function in symbolic (Sympy) form\n",
    "    - q: our state vector [x1, x2, ...], in symbolic (Sympy) form\n",
    "    \n",
    "    Outputs:\n",
    "    - eqn: the Euler-Lagrange equations in Sympy form\n",
    "    '''\n",
    "    \n",
    "    # wrap system states into one vector (in SymPy would be Matrix)\n",
    "    #q = sym.Matrix([x1, x2])\n",
    "    qd = q.diff(t)\n",
    "    qdd = qd.diff(t)\n",
    "\n",
    "    # compute derivative wrt a vector, method 1\n",
    "    # wrap the expression into a SymPy Matrix\n",
    "    L_mat = sym.Matrix([lagrangian])\n",
    "    dL_dq = L_mat.jacobian(q)\n",
    "    dL_dqdot = L_mat.jacobian(qd)\n",
    "\n",
    "    #set up the Euler-Lagrange equations\n",
    "    LHS = dL_dq - dL_dqdot.diff(t)\n",
    "    RHS = sym.Matrix([0,0]).T\n",
    "    eqn = sym.Eq(LHS.T, RHS.T)\n",
    "    \n",
    "    return eqn\n",
    "\n",
    "\n",
    "def solve_EL(eqn, var):\n",
    "    '''\n",
    "    Helper function to solve and display the solution for the Euler-Lagrange\n",
    "    equations.\n",
    "    \n",
    "    Inputs:\n",
    "    - eqn: Euler-Lagrange equation (type: Sympy Equation())\n",
    "    - var: state vector (type: Sympy Matrix). typically a form of q-doubledot\n",
    "        but may have different terms\n",
    "    \n",
    "    Outputs:\n",
    "    - Prints symbolic solutions\n",
    "    - Returns symbolic solutions in a dictionary\n",
    "    '''\n",
    "    \n",
    "    soln = sym.solve(eqn, var, dict = True)\n",
    "    eqns_solved = []\n",
    "    \n",
    "    for i, sol in enumerate(soln):\n",
    "        for x in var:\n",
    "            eqn_solved = sym.Eq(x, sol[x])\n",
    "            eqns_solved.append(eqn_solved)\n",
    "            \n",
    "    return eqns_solved"
   ]
  },
  {
   "cell_type": "code",
   "execution_count": 4,
   "metadata": {},
   "outputs": [
    {
     "name": "stdout",
     "output_type": "stream",
     "text": [
      "assertion passed\n",
      "assertion passed\n"
     ]
    }
   ],
   "source": [
    "\n",
    "def rk4(dxdt, x, t, dt):\n",
    "    '''\n",
    "    Applies the Runge-Kutta method, 4th order, to a sample function,\n",
    "    for a given state q0, for a given step size. Currently only\n",
    "    configured for a 2-variable dependent system (x,y).\n",
    "    ==========\n",
    "    dxdt: a Sympy function that specifies the derivative of the system of interest\n",
    "    t: the current timestep of the simulation\n",
    "    x: current value of the state vector\n",
    "    dt: the amount to increment by for Runge-Kutta\n",
    "    ======\n",
    "    returns:\n",
    "    x_new: value of the state vector at the next timestep\n",
    "    '''  \n",
    "    k1 = dt * dxdt(t, x)\n",
    "    k2 = dt * dxdt(t + dt/2.0, x + k1/2.0)\n",
    "    k3 = dt * dxdt(t + dt/2.0, x + k2/2.0)\n",
    "    k4 = dt * dxdt(t + dt, x + k3)\n",
    "    x_new = x + (k1 + 2.0*k2 + 2.0*k3 + k4)/6.0\n",
    "    \n",
    "    return x_new\n",
    "    \n",
    "def euler(dxdt, x, t, dt):\n",
    "    '''\n",
    "    Euler's method\n",
    "\n",
    "    Parameters:\n",
    "    =============\n",
    "    dxdt: a Sympy function that specifies the derivative of the system of interest\n",
    "    t: the current timestep of the simulation\n",
    "    x: current value of the state vector\n",
    "    dt: the amount to increment by for Euler\n",
    "    ======\n",
    "    returns:\n",
    "    x_new: value of the state vector at the next timestep\n",
    "    '''\n",
    "    x_new = x + dt * dxdt(t, x)\n",
    "    return x_new\n",
    "\n",
    "eul = euler(lambda t, x: x**2, 0.5, 2, 0.1)\n",
    "assert eul == 0.525, f\"Euler val: {res}\"\n",
    "print(\"assertion passed\")\n",
    "\n",
    "rk = rk4(lambda t, x: x**2, 0.5, 2, 0.1)\n",
    "assert np.isclose(rk, 0.526315781526278075), f\"RK4 value: {rk}\" #from an online RK4 solver\n",
    "print(\"assertion passed\")\n"
   ]
  },
  {
   "cell_type": "code",
   "execution_count": 5,
   "metadata": {},
   "outputs": [],
   "source": [
    "def simulate(f, x0, tspan, dt, integrate):\n",
    "    \"\"\"\n",
    "    This function takes in an initial condition x0, a timestep dt,\n",
    "    a time span tspan consisting of a list [min_time, max_time],\n",
    "    as well as a dynamical system f(x) that outputs a vector of the\n",
    "    same dimension as x0. It outputs a full trajectory simulated\n",
    "    over the time span of dimensions (xvec_size, time_vec_size).\n",
    "    \n",
    "    Parameters\n",
    "    ============\n",
    "    f: Python function\n",
    "        derivate of the system at a given step x(t), \n",
    "        it can considered as \\dot{x}(t) = func(x(t))\n",
    "    x0: NumPy array\n",
    "        initial conditions\n",
    "    tspan: Python list\n",
    "        tspan = [min_time, max_time], it defines the start and end\n",
    "        time of simulation\n",
    "    dt:\n",
    "        time step for numerical integration\n",
    "    integrate: Python function\n",
    "        numerical integration method used in this simulation\n",
    "\n",
    "    Return\n",
    "    ============\n",
    "    x_traj:\n",
    "        simulated trajectory of x(t) from t=0 to tf\n",
    "    \"\"\"\n",
    "    N = int((max(tspan)-min(tspan))/dt)\n",
    "    x = np.copy(x0)\n",
    "    tvec = np.linspace(min(tspan),max(tspan),N)\n",
    "    xtraj = np.zeros((len(x0),N))\n",
    "    \n",
    "    for i in range(N):\n",
    "        t = tvec[i]\n",
    "        xtraj[:,i]=integrate(f,x,t,dt)\n",
    "        x = np.copy(xtraj[:,i])\n",
    "    return xtraj \n",
    "      "
   ]
  },
  {
   "cell_type": "markdown",
   "metadata": {
    "id": "-SUDkJtyJfD3"
   },
   "source": [
    "## Problem 1 (10pts)\n",
    "\n",
    "Let $f:\\mathbb{R}^2\\to\\mathbb{R}$ with $f(x,y)=\\sin(x+y)\\sin(x-y)$.  Show that $(x,y)=(0,\\pi/2)$ satisfies both the necessary and sufficient conditions to be a local minimizer of $f$.\n",
    "\n",
    "> *Hint 1: You will need to take the first and second order derivative of $f$ with respect to $[x,y]$.*\n",
    "\n",
    "---\n",
    "**Turn in: A scanned (or photograph from your phone or webcam) copy of your hand written solution. You can also use $\\LaTeX$. If you use SymPy, include a copy of your code and all the outputs. Regardless of the format you choose, explain why your result satisfies the necessary and sufficient conditions.**"
   ]
  },
  {
   "cell_type": "markdown",
   "metadata": {
    "id": "z4wkvcQjJfD1"
   },
   "source": [
    "Below are the help functions in previous homeworks, which you may need for this homework."
   ]
  },
  {
   "cell_type": "code",
   "execution_count": null,
   "metadata": {
    "executionInfo": {
     "elapsed": 31,
     "status": "ok",
     "timestamp": 1665424268523,
     "user": {
      "displayName": "Jake Ketchum",
      "userId": "08878338408047028227"
     },
     "user_tz": 300
    },
    "id": "fojgpjP9JfD4"
   },
   "outputs": [],
   "source": [
    "#define variables. do x,y need to be functions/variables/something?\n",
    "x, y, t = sym.symbols(r'x,y,t')\n",
    "f = sym.sin(x + y) * sym.sin(x - y)\n",
    "\n",
    "#derivatives with respect to x, y\n",
    "dfx = f.diff(x)\n",
    "ddfx = dfx.diff(x)\n",
    "\n",
    "dfy = f.diff(y)\n",
    "ddfy = dfy.diff(y)\n",
    "\n",
    "print(\"Function:\")\n",
    "display(f)\n",
    "print()\n",
    "\n",
    "print(\"Derivs wrt x:\")\n",
    "display(dfx.simplify())\n",
    "display(ddfx.simplify())\n",
    "print()\n",
    "\n",
    "print(\"Derivs wrt y:\")\n",
    "display(dfy.simplify())\n",
    "display(ddfy.simplify())\n",
    "print()\n",
    "\n"
   ]
  },
  {
   "cell_type": "code",
   "execution_count": null,
   "metadata": {},
   "outputs": [],
   "source": [
    "dfx_np = sym.lambdify(sym.Matrix([x,y]), dfx.simplify())\n",
    "ddfx_np = sym.lambdify(sym.Matrix([x,y]), ddfx.simplify())\n",
    "dfy_np = sym.lambdify(sym.Matrix([x,y]), dfy.simplify())\n",
    "ddfy_np = sym.lambdify(sym.Matrix([x,y]), ddfy.simplify())\n",
    "\n",
    "#expect first derivatives to be 0 and second derivatives to be >0\n",
    "#for point (0, pi/2) to be a local minimizer of f\n",
    "\n",
    "print(\"First and second derivatives at (0, pi/2):\")\n",
    "print(f\"dfx: {dfx_np(0,np.pi/2)}\")\n",
    "print(f\"ddfx: {ddfx_np(0,np.pi/2)}\")\n",
    "print(f\"dfy: {dfy_np(0,np.pi/2)}\")\n",
    "print(f\"ddfy: {ddfy_np(0,np.pi/2)}\")"
   ]
  },
  {
   "cell_type": "markdown",
   "metadata": {},
   "source": [
    "The first and second derivatives of f, with respect to x and y, show that the function is locally minimized at (x,y) = (0, pi/2). "
   ]
  },
  {
   "cell_type": "markdown",
   "metadata": {
    "id": "YK1UkYW_hiMb"
   },
   "source": [
    "## Problem 2 (20pts)"
   ]
  },
  {
   "cell_type": "code",
   "execution_count": 29,
   "metadata": {
    "cellView": "form",
    "colab": {
     "base_uri": "https://localhost:8080/",
     "height": 377
    },
    "executionInfo": {
     "elapsed": 31,
     "status": "ok",
     "timestamp": 1665424268525,
     "user": {
      "displayName": "Jake Ketchum",
      "userId": "08878338408047028227"
     },
     "user_tz": 300
    },
    "id": "B-DiCe_mJfD6",
    "outputId": "83e13772-058e-49e8-d060-d89151519dbd"
   },
   "outputs": [
    {
     "data": {
      "text/html": [
       "<table><tr><td><img src='https://github.com/MuchenSun/ME314pngs/raw/master/twolinearmasses.png' width=500' height='350'></table>"
      ],
      "text/plain": [
       "<IPython.core.display.HTML object>"
      ]
     },
     "metadata": {},
     "output_type": "display_data"
    }
   ],
   "source": [
    "#@title\n",
    "from IPython.core.display import HTML\n",
    "display(HTML(\"<table><tr><td><img src='https://github.com/MuchenSun/ME314pngs/raw/master/twolinearmasses.png' width=500' height='350'></table>\"))"
   ]
  },
  {
   "cell_type": "markdown",
   "metadata": {
    "id": "lT8T6Q6pJfD8"
   },
   "source": [
    "Compute the equations of motion for the two-mass-spring system (shown above) in $\\theta=(\\theta_1,\\theta_2)$ coordinates. The first sphere with mass $m_1$ is the one close to the wall, and the second sphere has mass $m_2$. Assume that there is a spring of spring constant $k_1$ between the first mass and the wall and a spring of spring constant $k_2$ between the first mass and the second mass.\n",
    "\n",
    "---\n",
    "**Turn in: Include the code used to symbolically solve for the equations of motion and the code output, which should be the equations of motion. Make sure you are using *SimPy*'s `.simplify()` functionality when printing your output.**"
   ]
  },
  {
   "cell_type": "code",
   "execution_count": null,
   "metadata": {
    "executionInfo": {
     "elapsed": 28,
     "status": "ok",
     "timestamp": 1665424268526,
     "user": {
      "displayName": "Jake Ketchum",
      "userId": "08878338408047028227"
     },
     "user_tz": 300
    },
    "id": "FxvYr5lLJfD8"
   },
   "outputs": [],
   "source": [
    "#grab variables\n",
    "m1, m2, k1, k2, L = sym.symbols(r'm_1, m_2, k_1, k_2, L')\n",
    "t = sym.symbols(r't')\n",
    "\n",
    "#define variables\n",
    "theta1 = sym.Function(r'\\theta_1')(t)\n",
    "theta2 = sym.Function(r'\\theta_2')(t)\n",
    "\n",
    "theta1d = theta1.diff(t)\n",
    "theta1dd = theta1d.diff(t)\n",
    "\n",
    "theta2d = theta2.diff(t)\n",
    "theta2dd = theta2d.diff(t)\n",
    "\n",
    "#let y coords be an intermediate for calculating equations\n",
    "y1 = L*sym.tan(theta1)\n",
    "y2 = L*sym.tan(theta1 + theta2)\n",
    "\n",
    "y1d = y1.diff(t)\n",
    "y2d = y2.diff(t)\n",
    "\n",
    "#print y1 and y2 in terms of theta\n",
    "print(\"Representations y1(theta) and y1d:\")\n",
    "display(y1)\n",
    "display(y1d)\n",
    "print(\"Representations y1(theta) and y1d:\")\n",
    "display(y2)\n",
    "display(y2d)\n"
   ]
  },
  {
   "cell_type": "code",
   "execution_count": null,
   "metadata": {},
   "outputs": [],
   "source": [
    "#kinetic and potential energy functions\n",
    "KE1 = 0.5 * m1 * y1d**2 \n",
    "KE2 = 0.5 * m2 * y2d**2\n",
    "KE = KE1 + KE2\n",
    "\n",
    "U1 = 0.5 * k1 * y1**2\n",
    "U2 = 0.5 * k2 * (y2 - y1) **2\n",
    "U = U1 + U2\n",
    "\n",
    "print(\"Energy functions:\")\n",
    "display(KE)\n",
    "display(U)\n",
    "\n",
    "#lagrangian\n",
    "L = KE - U\n",
    "print(\"Lagrangian:\")\n",
    "display(L)\n",
    "\n",
    "print(\"Simplified:\")\n",
    "L = L.simplify()\n",
    "display(L)"
   ]
  },
  {
   "cell_type": "code",
   "execution_count": null,
   "metadata": {},
   "outputs": [],
   "source": [
    "#compute E-L equations\n",
    "q = sym.Matrix([theta1, theta2])\n",
    "eqn = compute_EL(L, q)\n",
    "print(\"Euler-Lagrange Equations:\")\n",
    "display(eqn)"
   ]
  },
  {
   "cell_type": "code",
   "execution_count": null,
   "metadata": {},
   "outputs": [],
   "source": [
    "qd = q.diff(t)\n",
    "qdd = qd.diff(t)\n",
    "eqns_solved = solve_EL(eqn, qdd)\n",
    "\n",
    "print(\"Solved:\")\n",
    "for i, eq in enumerate(eqns_solved):\n",
    "    print(f\"Equation {i+1}:\")\n",
    "    eqns_solved[i] = eq.simplify()\n",
    "    display(eqns_solved[i])"
   ]
  },
  {
   "cell_type": "markdown",
   "metadata": {
    "id": "Z-7OD_CSJfD-"
   },
   "source": [
    "## Problem 3 (10pts)\n",
    "\n",
    "For the same two-spring-mass system in Problem 2, show by example that Newton's equations do not hold in an arbitrary choice of coordinates (but they do, of course, hold in Cartesian coordinates). Your example should be implemented using Python's SymPy package.\n",
    "\n",
    "> *Hint 1: In other words, you need to find a set of coordinates $q=[q_1,q_2]$, and compute the equations of motion ($F=ma=m\\ddot{q}$), showing that these equations of motion do not make the same prediction as Newton's laws in the Cartesian inertially fixed frame (where they are correct).*\n",
    ">\n",
    "> *Hint 2: Newton's equations don't hold in non-inertia coordinates. For the $x_1,x_2$ and $y_1,y_2$ coordinates shown in the image, one of them is non-inertia coordinate.*\n",
    "\n",
    "---\n",
    "**Turn in: Include the code you used to symbolically compute the equations of motion to show that Newton's equations don't hold. Also, include the output of the code, which should be the equations of motion under the chosen set of coordinates. Make sure toindicate what coordinate you choose in the comments.**"
   ]
  },
  {
   "cell_type": "code",
   "execution_count": 14,
   "metadata": {
    "executionInfo": {
     "elapsed": 26,
     "status": "ok",
     "timestamp": 1665424268527,
     "user": {
      "displayName": "Jake Ketchum",
      "userId": "08878338408047028227"
     },
     "user_tz": 300
    },
    "id": "3RNr1YhuJfD-"
   },
   "outputs": [
    {
     "name": "stdout",
     "output_type": "stream",
     "text": [
      "Energy functions:\n"
     ]
    },
    {
     "data": {
      "text/latex": [
       "$\\displaystyle 0.5 m_{1} \\left(\\frac{d}{d t} x_{1}{\\left(t \\right)}\\right)^{2} + 0.5 m_{2} \\left(\\frac{d}{d t} x_{1}{\\left(t \\right)} + \\frac{d}{d t} x_{2}{\\left(t \\right)}\\right)^{2}$"
      ],
      "text/plain": [
       "0.5*m_1*Derivative(x_1(t), t)**2 + 0.5*m_2*(Derivative(x_1(t), t) + Derivative(x_2(t), t))**2"
      ]
     },
     "metadata": {},
     "output_type": "display_data"
    },
    {
     "data": {
      "text/latex": [
       "$\\displaystyle 0.5 k_{1} x_{1}^{2}{\\left(t \\right)} + 0.5 k_{2} x_{2}^{2}{\\left(t \\right)}$"
      ],
      "text/plain": [
       "0.5*k_1*x_1(t)**2 + 0.5*k_2*x_2(t)**2"
      ]
     },
     "metadata": {},
     "output_type": "display_data"
    },
    {
     "name": "stdout",
     "output_type": "stream",
     "text": [
      "Lagrangian:\n"
     ]
    },
    {
     "data": {
      "text/latex": [
       "$\\displaystyle - 0.5 k_{1} x_{1}^{2}{\\left(t \\right)} - 0.5 k_{2} x_{2}^{2}{\\left(t \\right)} + 0.5 m_{1} \\left(\\frac{d}{d t} x_{1}{\\left(t \\right)}\\right)^{2} + 0.5 m_{2} \\left(\\frac{d}{d t} x_{1}{\\left(t \\right)} + \\frac{d}{d t} x_{2}{\\left(t \\right)}\\right)^{2}$"
      ],
      "text/plain": [
       "-0.5*k_1*x_1(t)**2 - 0.5*k_2*x_2(t)**2 + 0.5*m_1*Derivative(x_1(t), t)**2 + 0.5*m_2*(Derivative(x_1(t), t) + Derivative(x_2(t), t))**2"
      ]
     },
     "metadata": {},
     "output_type": "display_data"
    }
   ],
   "source": [
    "#part 1: Euler-Lagrange equations in x frame\n",
    "\n",
    "#grab variables\n",
    "m1, m2, k1, k2, L = sym.symbols(r'm_1, m_2, k_1, k_2, L')\n",
    "t = sym.symbols(r't')\n",
    "\n",
    "#define state variables\n",
    "x1 = sym.Function(r'x_1')(t)\n",
    "x2 = sym.Function(r'x_2')(t)\n",
    "x1d = x1.diff(t)\n",
    "x2d = x2.diff(t)\n",
    "\n",
    "#kinetic and potential energy of system\n",
    "KE1 = 0.5 * m1 * x1d**2 \n",
    "KE2 = 0.5 * m2 * (x1d + x2d)**2\n",
    "KE = KE1 + KE2\n",
    "\n",
    "U1 = 0.5 * k1 * x1**2\n",
    "U2 = 0.5 * k2 * x2**2\n",
    "U = U1 + U2\n",
    "\n",
    "print(\"Energy functions:\")\n",
    "display(KE)\n",
    "display(U)\n",
    "\n",
    "#lagrangian\n",
    "lagrangian2 = KE - U\n",
    "print(\"Lagrangian:\")\n",
    "display(lagrangian2)\n"
   ]
  },
  {
   "cell_type": "code",
   "execution_count": 15,
   "metadata": {},
   "outputs": [
    {
     "name": "stdout",
     "output_type": "stream",
     "text": [
      "Euler-Lagrange equations:\n"
     ]
    },
    {
     "data": {
      "text/latex": [
       "$\\displaystyle \\left[\\begin{matrix}- 1.0 k_{1} x_{1}{\\left(t \\right)} - 1.0 m_{1} \\frac{d^{2}}{d t^{2}} x_{1}{\\left(t \\right)} - 0.5 m_{2} \\cdot \\left(2 \\frac{d^{2}}{d t^{2}} x_{1}{\\left(t \\right)} + 2 \\frac{d^{2}}{d t^{2}} x_{2}{\\left(t \\right)}\\right)\\\\- 1.0 k_{2} x_{2}{\\left(t \\right)} - 0.5 m_{2} \\cdot \\left(2 \\frac{d^{2}}{d t^{2}} x_{1}{\\left(t \\right)} + 2 \\frac{d^{2}}{d t^{2}} x_{2}{\\left(t \\right)}\\right)\\end{matrix}\\right] = \\left[\\begin{matrix}0\\\\0\\end{matrix}\\right]$"
      ],
      "text/plain": [
       "Eq(Matrix([\n",
       "[-1.0*k_1*x_1(t) - 1.0*m_1*Derivative(x_1(t), (t, 2)) - 0.5*m_2*(2*Derivative(x_1(t), (t, 2)) + 2*Derivative(x_2(t), (t, 2)))],\n",
       "[                                     -1.0*k_2*x_2(t) - 0.5*m_2*(2*Derivative(x_1(t), (t, 2)) + 2*Derivative(x_2(t), (t, 2)))]]), Matrix([\n",
       "[0],\n",
       "[0]]))"
      ]
     },
     "metadata": {},
     "output_type": "display_data"
    },
    {
     "name": "stdout",
     "output_type": "stream",
     "text": [
      "Solved:\n"
     ]
    },
    {
     "data": {
      "text/latex": [
       "$\\displaystyle \\frac{d^{2}}{d t^{2}} x_{1}{\\left(t \\right)} = - \\frac{k_{1} x_{1}{\\left(t \\right)}}{m_{1}} + \\frac{k_{2} x_{2}{\\left(t \\right)}}{m_{1}}$"
      ],
      "text/plain": [
       "Eq(Derivative(x_1(t), (t, 2)), -k_1*x_1(t)/m_1 + k_2*x_2(t)/m_1)"
      ]
     },
     "metadata": {},
     "output_type": "display_data"
    },
    {
     "data": {
      "text/latex": [
       "$\\displaystyle \\frac{d^{2}}{d t^{2}} x_{2}{\\left(t \\right)} = \\frac{k_{1} x_{1}{\\left(t \\right)}}{m_{1}} - \\frac{k_{2} x_{2}{\\left(t \\right)}}{m_{2}} - \\frac{k_{2} x_{2}{\\left(t \\right)}}{m_{1}}$"
      ],
      "text/plain": [
       "Eq(Derivative(x_2(t), (t, 2)), k_1*x_1(t)/m_1 - k_2*x_2(t)/m_2 - k_2*x_2(t)/m_1)"
      ]
     },
     "metadata": {},
     "output_type": "display_data"
    }
   ],
   "source": [
    "#compute E-L \n",
    "q = sym.Matrix([x1, x2])\n",
    "qd = q.diff(t)\n",
    "qdd = qd.diff(t)\n",
    "\n",
    "eqn = compute_EL(lagrangian2, q)\n",
    "print(\"Euler-Lagrange equations:\")\n",
    "display(eqn)\n",
    "\n",
    "#solve E-L\n",
    "x_eqns_solved = solve_EL(eqn, qdd)\n",
    "print(\"Solved:\")\n",
    "for eq in x_eqns_solved:\n",
    "    display(eq)\n"
   ]
  },
  {
   "cell_type": "code",
   "execution_count": 16,
   "metadata": {},
   "outputs": [
    {
     "name": "stdout",
     "output_type": "stream",
     "text": [
      "Energy functions:\n"
     ]
    },
    {
     "data": {
      "text/latex": [
       "$\\displaystyle 0.5 m_{1} \\left(\\frac{d}{d t} y_{1}{\\left(t \\right)}\\right)^{2} + 0.5 m_{2} \\left(\\frac{d}{d t} y_{2}{\\left(t \\right)}\\right)^{2}$"
      ],
      "text/plain": [
       "0.5*m_1*Derivative(y_1(t), t)**2 + 0.5*m_2*Derivative(y_2(t), t)**2"
      ]
     },
     "metadata": {},
     "output_type": "display_data"
    },
    {
     "data": {
      "text/latex": [
       "$\\displaystyle 0.5 k_{1} y_{1}^{2}{\\left(t \\right)} + 0.5 k_{2} \\left(- y_{1}{\\left(t \\right)} + y_{2}{\\left(t \\right)}\\right)^{2}$"
      ],
      "text/plain": [
       "0.5*k_1*y_1(t)**2 + 0.5*k_2*(-y_1(t) + y_2(t))**2"
      ]
     },
     "metadata": {},
     "output_type": "display_data"
    },
    {
     "name": "stdout",
     "output_type": "stream",
     "text": [
      "Lagrangian:\n"
     ]
    },
    {
     "data": {
      "text/latex": [
       "$\\displaystyle - 0.5 k_{1} y_{1}^{2}{\\left(t \\right)} - 0.5 k_{2} \\left(- y_{1}{\\left(t \\right)} + y_{2}{\\left(t \\right)}\\right)^{2} + 0.5 m_{1} \\left(\\frac{d}{d t} y_{1}{\\left(t \\right)}\\right)^{2} + 0.5 m_{2} \\left(\\frac{d}{d t} y_{2}{\\left(t \\right)}\\right)^{2}$"
      ],
      "text/plain": [
       "-0.5*k_1*y_1(t)**2 - 0.5*k_2*(-y_1(t) + y_2(t))**2 + 0.5*m_1*Derivative(y_1(t), t)**2 + 0.5*m_2*Derivative(y_2(t), t)**2"
      ]
     },
     "metadata": {},
     "output_type": "display_data"
    }
   ],
   "source": [
    "#part 2: Euler-Lagrange equations in y frame\n",
    "\n",
    "#grab variables\n",
    "m1, m2, k1, k2, L = sym.symbols(r'm_1, m_2, k_1, k_2, L')\n",
    "t = sym.symbols(r't')\n",
    "\n",
    "#define state variables\n",
    "y1 = sym.Function(r'y_1')(t)\n",
    "y2 = sym.Function(r'y_2')(t)\n",
    "y1d = y1.diff(t)\n",
    "y2d = y2.diff(t)\n",
    "\n",
    "\n",
    "#kinetic and potential energy of system\n",
    "KE1 = 0.5 * m1 * y1d**2 \n",
    "KE2 = 0.5 * m2 * y2d**2\n",
    "KE = KE1 + KE2\n",
    "\n",
    "U1 = 0.5 * k1 * y1**2\n",
    "U2 = 0.5 * k2 * (y2 - y1) **2\n",
    "U = U1 + U2\n",
    "\n",
    "print(\"Energy functions:\")\n",
    "display(KE)\n",
    "display(U)\n",
    "\n",
    "#lagrangian\n",
    "lagrangian3 = KE - U\n",
    "print(\"Lagrangian:\")\n",
    "display(lagrangian3)"
   ]
  },
  {
   "cell_type": "code",
   "execution_count": 17,
   "metadata": {},
   "outputs": [
    {
     "name": "stdout",
     "output_type": "stream",
     "text": [
      "Euler-Lagrange equations:\n"
     ]
    },
    {
     "data": {
      "text/latex": [
       "$\\displaystyle \\left[\\begin{matrix}- 1.0 k_{1} y_{1}{\\left(t \\right)} - 0.5 k_{2} \\cdot \\left(2 y_{1}{\\left(t \\right)} - 2 y_{2}{\\left(t \\right)}\\right) - 1.0 m_{1} \\frac{d^{2}}{d t^{2}} y_{1}{\\left(t \\right)}\\\\- 0.5 k_{2} \\left(- 2 y_{1}{\\left(t \\right)} + 2 y_{2}{\\left(t \\right)}\\right) - 1.0 m_{2} \\frac{d^{2}}{d t^{2}} y_{2}{\\left(t \\right)}\\end{matrix}\\right] = \\left[\\begin{matrix}0\\\\0\\end{matrix}\\right]$"
      ],
      "text/plain": [
       "Eq(Matrix([\n",
       "[-1.0*k_1*y_1(t) - 0.5*k_2*(2*y_1(t) - 2*y_2(t)) - 1.0*m_1*Derivative(y_1(t), (t, 2))],\n",
       "[                -0.5*k_2*(-2*y_1(t) + 2*y_2(t)) - 1.0*m_2*Derivative(y_2(t), (t, 2))]]), Matrix([\n",
       "[0],\n",
       "[0]]))"
      ]
     },
     "metadata": {},
     "output_type": "display_data"
    },
    {
     "name": "stdout",
     "output_type": "stream",
     "text": [
      "Solved:\n"
     ]
    },
    {
     "data": {
      "text/latex": [
       "$\\displaystyle \\frac{d^{2}}{d t^{2}} y_{1}{\\left(t \\right)} = - \\frac{k_{1} y_{1}{\\left(t \\right)}}{m_{1}} - \\frac{k_{2} y_{1}{\\left(t \\right)}}{m_{1}} + \\frac{k_{2} y_{2}{\\left(t \\right)}}{m_{1}}$"
      ],
      "text/plain": [
       "Eq(Derivative(y_1(t), (t, 2)), -k_1*y_1(t)/m_1 - k_2*y_1(t)/m_1 + k_2*y_2(t)/m_1)"
      ]
     },
     "metadata": {},
     "output_type": "display_data"
    },
    {
     "data": {
      "text/latex": [
       "$\\displaystyle \\frac{d^{2}}{d t^{2}} y_{2}{\\left(t \\right)} = \\frac{k_{2} y_{1}{\\left(t \\right)}}{m_{2}} - \\frac{k_{2} y_{2}{\\left(t \\right)}}{m_{2}}$"
      ],
      "text/plain": [
       "Eq(Derivative(y_2(t), (t, 2)), k_2*y_1(t)/m_2 - k_2*y_2(t)/m_2)"
      ]
     },
     "metadata": {},
     "output_type": "display_data"
    }
   ],
   "source": [
    "#compute E-L \n",
    "q = sym.Matrix([y1, y2])\n",
    "qd = q.diff(t)\n",
    "qdd = qd.diff(t)\n",
    "\n",
    "eqn = compute_EL(lagrangian3, q)\n",
    "print(\"Euler-Lagrange equations:\")\n",
    "display(eqn)\n",
    "\n",
    "#solve E-L\n",
    "y_eqns_solved = solve_EL(eqn, qdd)\n",
    "print(\"Solved:\")\n",
    "for eq in y_eqns_solved:\n",
    "    display(eq)\n"
   ]
  },
  {
   "cell_type": "code",
   "execution_count": 28,
   "metadata": {},
   "outputs": [
    {
     "data": {
      "text/latex": [
       "$\\displaystyle \\frac{d^{2}}{d t^{2}} y_{1}{\\left(t \\right)} = - \\frac{k_{1} y_{1}{\\left(t \\right)}}{m_{1}} + \\frac{k_{2} \\left(- y_{1}{\\left(t \\right)} + y_{2}{\\left(t \\right)}\\right)}{m_{1}}$"
      ],
      "text/plain": [
       "Eq(Derivative(y_1(t), (t, 2)), -k_1*y_1(t)/m_1 + k_2*(-y_1(t) + y_2(t))/m_1)"
      ]
     },
     "metadata": {},
     "output_type": "display_data"
    },
    {
     "data": {
      "text/latex": [
       "$\\displaystyle \\frac{d^{2}}{d t^{2}} \\left(- y_{1}{\\left(t \\right)} + y_{2}{\\left(t \\right)}\\right) = \\frac{k_{1} y_{1}{\\left(t \\right)}}{m_{1}} - \\frac{k_{2} \\left(- y_{1}{\\left(t \\right)} + y_{2}{\\left(t \\right)}\\right)}{m_{2}} - \\frac{k_{2} \\left(- y_{1}{\\left(t \\right)} + y_{2}{\\left(t \\right)}\\right)}{m_{1}}$"
      ],
      "text/plain": [
       "Eq(Derivative(-y_1(t) + y_2(t), (t, 2)), k_1*y_1(t)/m_1 - k_2*(-y_1(t) + y_2(t))/m_2 - k_2*(-y_1(t) + y_2(t))/m_1)"
      ]
     },
     "metadata": {},
     "output_type": "display_data"
    },
    {
     "data": {
      "text/latex": [
       "$\\displaystyle \\frac{d^{2}}{d t^{2}} y_{2}{\\left(t \\right)} = \\frac{k_{2} \\left(y_{1}{\\left(t \\right)} - y_{2}{\\left(t \\right)}\\right)}{m_{2}}$"
      ],
      "text/plain": [
       "Eq(Derivative(y_2(t), (t, 2)), k_2*(y_1(t) - y_2(t))/m_2)"
      ]
     },
     "metadata": {},
     "output_type": "display_data"
    }
   ],
   "source": [
    "#take in solved equations and compare to each other\n",
    "subs_dict = {\n",
    "    x1 : y1,\n",
    "    x2 : y2 - y1\n",
    "}\n",
    "\n",
    "for eq in x_eqns_solved:\n",
    "    eq = eq.subs(subs_dict)\n",
    "    display(eq)\n",
    "    \n",
    "new_eq_lhs = x_eqns_solved[0].lhs + x_eqns_solved[1].lhs\n",
    "new_eq_rhs = x_eqns_solved[0].rhs + x_eqns_solved[1].rhs\n",
    "new_eq = sym.Eq(new_eq_lhs, new_eq_rhs)\n",
    "display(new_eq.subs(subs_dict).simplify())\n",
    "\n",
    "#hm. via the Euler-Lagrange equations both methods yield the same results\n",
    "\n",
    "#if newton's laws applied, f = mx'' = my'' would yield the same value without having to change them"
   ]
  },
  {
   "cell_type": "markdown",
   "metadata": {
    "id": "yaPawRzig-0o"
   },
   "source": [
    "\n",
    "## Problem 4 (10pts)"
   ]
  },
  {
   "cell_type": "code",
   "execution_count": null,
   "metadata": {
    "cellView": "form",
    "colab": {
     "base_uri": "https://localhost:8080/",
     "height": 377
    },
    "executionInfo": {
     "elapsed": 26,
     "status": "ok",
     "timestamp": 1665424268529,
     "user": {
      "displayName": "Jake Ketchum",
      "userId": "08878338408047028227"
     },
     "user_tz": 300
    },
    "id": "oZjf1UFIJfEA",
    "outputId": "3912683a-d5a3-4a92-f064-8b9364057dac"
   },
   "outputs": [],
   "source": [
    "#@title\n",
    "from IPython.core.display import HTML\n",
    "display(HTML(\"<table><tr><td><img src='https://github.com/MuchenSun/ME314pngs/raw/master/dyndoublepend.png' width=500' height='350'></table>\"))"
   ]
  },
  {
   "cell_type": "markdown",
   "metadata": {
    "id": "cIf0pSCiJfEC"
   },
   "source": [
    "\n",
    "\n",
    "For the same double-pendulum system hanging in gravity in Homework 2 (shown above), take $q=[\\theta_1, \\theta_2]$ as the system configuration variables, with $R_1=R_2=1, m_1=m_2=1$. Symbolically compute the Hamiltonian of this system using Python's *SymPy* package.\n",
    "\n",
    "---\n",
    "**Turn in: Include the code used to symbolically compute the Hamiltonian of the system and the code output, which should the Hamiltonian of the system. Make sure you are using *SimPy*'s `.simplify()` functionality when printing your output.**"
   ]
  },
  {
   "cell_type": "code",
   "execution_count": null,
   "metadata": {
    "executionInfo": {
     "elapsed": 299,
     "status": "ok",
     "timestamp": 1665424268805,
     "user": {
      "displayName": "Jake Ketchum",
      "userId": "08878338408047028227"
     },
     "user_tz": 300
    },
    "id": "JoXuspHUJfED"
   },
   "outputs": [],
   "source": []
  },
  {
   "cell_type": "markdown",
   "metadata": {
    "id": "QE4_6zCVJfEE"
   },
   "source": [
    "## Problem 5 (10pts)\n",
    "\n",
    "Simulate the double-pendulum system in Problem 4 with initial condition $\\theta_1=\\theta_2=-\\frac{\\pi}{2}, \\dot{\\theta}_1=\\dot{\\theta}_2=0$ for $t\\in[0,10]$ and $dt=0.01$. Numerically evaluate the Hamiltonian of this system from the simulated trajectory, and plot it.\n",
    "\n",
    "> *Hint 1: The Hamiltonian can be numerically evaluated as a function of $\\theta_1, \\theta_2, \\dot{\\theta}_1, \\dot{\\theta}_2$, which means for each time step in the simulated trajectory, you can compute the Hamiltonian for this time step, and store it in a list or array for plotting later. This doesn't need to be done during the numerical simulation, after you have the simulated the trajectory you can access each time step within another loop.*\n",
    "\n",
    "---\n",
    "**Turn in: Include the code used to numerically evaluate and plot the Hamiltonian, as well as the code output, which should be the plot of Hamiltonian. Make sure you label the plot with axis labels, legend and a title.**"
   ]
  },
  {
   "cell_type": "code",
   "execution_count": null,
   "metadata": {
    "executionInfo": {
     "elapsed": 22,
     "status": "ok",
     "timestamp": 1665424268807,
     "user": {
      "displayName": "Jake Ketchum",
      "userId": "08878338408047028227"
     },
     "user_tz": 300
    },
    "id": "hs_I0_pbJfEF"
   },
   "outputs": [],
   "source": []
  },
  {
   "cell_type": "markdown",
   "metadata": {
    "id": "RTgDT02eJfEG"
   },
   "source": [
    "## Problem 6 (15pts)\n",
    "\n",
    "In the previously provided code for simulation, the numerical integration is a forth-order Runge–Kutta integration. Now, write down your own numerical integration function using Euler's method, and use your numerical integration function to simulate the same double-pendulum system with same parameters and initial condition in Problem 4. Compute and plot the Hamiltonian from the simulated trajectory, what's the difference between two plots?\n",
    "\n",
    "> *Hint 1: You will need to implement a new ${\\tt integrate()}$ function. This function takes in three inputs: a function $f(x)$ representing the dynamics of the system state $x$ (you can consider it as $\\dot{x}=f(x)$), current state $x$ (for example $x(t)$ if $t$ is the current time step), and integration step length $dt$. This function should output $x(t+dt)$, for which the analytical solution is $x(t+dt) = x(t) + \\int_t^{t+dt} f(x(\\tau)) d\\tau$. Thus, you need to think about how to numerically evaluate this integration using Euler's method.*\n",
    ">\n",
    "> *Hint 2: The implemented function should have the same input-output structure as the previous one.*\n",
    ">\n",
    "> *Hint 3: After you implement the new integration function, you can use the same helper function ${\\tt simulate()}$ for simulation. You just need to input replace the integration function name as the new one (for example, your new function can be named as ${\\tt euler\\_integrate()}$). Please carefully read the comments in the ${\\tt simulate()}$ function. Below is the template/example of how to implement the new integration function and use it for simulation.*\n",
    "\n",
    "---\n",
    "**Turn in: Include you numerical integration function (you only need to include the code for your new integration function), and the resulting plot of Hamiltonian. Make sure you label the plot appropriately with axis labels, legend and a title.**"
   ]
  },
  {
   "cell_type": "code",
   "execution_count": null,
   "metadata": {
    "executionInfo": {
     "elapsed": 24,
     "status": "ok",
     "timestamp": 1665424268811,
     "user": {
      "displayName": "Jake Ketchum",
      "userId": "08878338408047028227"
     },
     "user_tz": 300
    },
    "id": "HCu1wbaOJfEH"
   },
   "outputs": [],
   "source": [
    "##########################################################################\n",
    "# Below is an example of how to implement a new integration\n",
    "# function and use it for simulation\n",
    "\n",
    "##########################################################################\n",
    "# This is the same \"simulate()\" function we provided\n",
    "# in previous homework. \n",
    "def simulate(f, x0, tspan, dt, integrate):\n",
    "    \"\"\"\n",
    "    This function takes in an initial condition x0, a timestep dt,\n",
    "    a time span tspan consisting of a list [min_time, max_time],\n",
    "    as well as a dynamical system f(x) that outputs a vector of the\n",
    "    same dimension as x0. It outputs a full trajectory simulated\n",
    "    over the time span of dimensions (xvec_size, time_vec_size).\n",
    "\n",
    "    Parameters\n",
    "    ============\n",
    "    f: Python function\n",
    "        derivate of the system at a given step x(t), \n",
    "        it can considered as \\dot{x}(t) = func(x(t))\n",
    "    x0: NumPy array\n",
    "        initial conditions\n",
    "    tspan: Python list\n",
    "        tspan = [min_time, max_time], it defines the start and end\n",
    "        time of simulation\n",
    "    dt:\n",
    "        time step for numerical integration\n",
    "    integrate: Python function\n",
    "        numerical integration method used in this simulation\n",
    "\n",
    "    Return\n",
    "    ============\n",
    "    x_traj:\n",
    "        simulated trajectory of x(t) from t=0 to tf\n",
    "    \"\"\"\n",
    "    N = int((max(tspan)-min(tspan))/dt)\n",
    "    x = np.copy(x0)\n",
    "    tvec = np.linspace(min(tspan),max(tspan),N)\n",
    "    xtraj = np.zeros((len(x0),N))\n",
    "    for i in range(N):\n",
    "        xtraj[:,i]=integrate(f,x,dt)\n",
    "        x = np.copy(xtraj[:,i])\n",
    "    return xtraj \n",
    "\n",
    "##########################################################################\n",
    "# This is the same \"integrate()\" function we provided in previous homework.\n",
    "def integrate(f, xt, dt):\n",
    "    \"\"\"\n",
    "    This function takes in an initial condition x(t) and a timestep dt,\n",
    "    as well as a dynamical system f(x) that outputs a vector of the\n",
    "    same dimension as x(t). It outputs a vector x(t+dt) at the future\n",
    "    time step.\n",
    "\n",
    "    Parameters\n",
    "    ============\n",
    "    dyn: Python function\n",
    "        derivate of the system at a given step x(t), \n",
    "        it can considered as \\dot{x}(t) = func(x(t))\n",
    "    xt: NumPy array\n",
    "        current step x(t)\n",
    "    dt: \n",
    "        step size for integration\n",
    "\n",
    "    Return\n",
    "    ============\n",
    "    new_xt: \n",
    "        value of x(t+dt) integrated from x(t)\n",
    "    \"\"\"\n",
    "    k1 = dt * f(xt)\n",
    "    k2 = dt * f(xt+k1/2.)\n",
    "    k3 = dt * f(xt+k2/2.)\n",
    "    k4 = dt * f(xt+k3)\n",
    "    new_xt = xt + (1/6.) * (k1+2.0*k2+2.0*k3+k4)\n",
    "    return new_xt\n",
    "\n",
    "##########################################################################\n",
    "# This is where you implement your new integration function for this \n",
    "# problem. Please make sure the new integration function has the same\n",
    "# input-output structure as the old one.\n",
    "def new_integrate(f, xt, dt):\n",
    "    \"\"\"\n",
    "    This function takes in an initial condition x(t) and a timestep dt,\n",
    "    as well as a dynamical system f(x) that outputs a vector of the\n",
    "    same dimension as x(t). It outputs a vector x(t+dt) at the future\n",
    "    time step.\n",
    "\n",
    "    Parameters\n",
    "    ============\n",
    "    dyn: Python function\n",
    "        derivate of the system at a given step x(t), \n",
    "        it can considered as \\dot{x}(t) = func(x(t))\n",
    "    xt: NumPy array\n",
    "        current step x(t)\n",
    "    dt: \n",
    "        step size for integration\n",
    "\n",
    "    Return\n",
    "    ============\n",
    "    new_xt: \n",
    "        value of x(t+dt) integrated from x(t)\n",
    "    \"\"\"\n",
    "    pass # you can start your implementation here\n",
    "\n",
    "##########################################################################\n",
    "# In this example, we're going to simulate a particle falling in gravity,\n",
    "# and assume that we already have the equations of motion (which you have\n",
    "# to use Euler-Lagrange equations to solve for in the homework, but you \n",
    "# should have that in last homework) \n",
    "import numpy as np\n",
    "\n",
    "def xddot(x, xdot):\n",
    "    return -9.8\n",
    "\n",
    "def dyn(s):\n",
    "    return np.array([s[1], xddot(s[0], s[1])])\n",
    "\n",
    "# define initial condition\n",
    "s0 = np.array([10, 0])\n",
    "\n",
    "##########################################################################\n",
    "# We first use the old integration function to simulate the system, please\n",
    "# carefully read the comments inside the \"simulate()\" function\n",
    "traj = simulate(f=dyn, x0=s0, tspan=[0,10], dt=0.01, integrate=integrate) \n",
    "# note that, here I pass the function arguments explicitly using the so-called \n",
    "# *keyword arguments*. It's not necessary, as long as the order of the arguments \n",
    "# are correct, you don't have to explicitly write down the keyword names. When \n",
    "# calling the function explicitly through keyword arguments, we have \"integrate=integrate\", \n",
    "# the first \"integrate\" indicates the argument name (you can see it in function definition), \n",
    "# and the second \"integrate\" is the name of the provided integration function. \n",
    "# You can also call the function as: \"traj = simulate(dyn, s0, [0,10], 0.01, integrate)\", \n",
    "# where \"integrate\" indicates the provided integration function name.\n",
    "\n",
    "##########################################################################\n",
    "# Based on the code above, once you finished your own integration function,\n",
    "# which is named here as \"new_integrate\" (but you really can name it \n",
    "# as anything you like), you can simulate the trajectory as:\n",
    "traj = simulate(f=dyn, x0=s0, tspan=[0,10], dt=0.01, integrate=new_integrate) \n",
    "# if you run this code now, of course if will not succeed, since you haven't implemented \n",
    "# \"new_integrate\" yet."
   ]
  },
  {
   "cell_type": "code",
   "execution_count": null,
   "metadata": {
    "executionInfo": {
     "elapsed": 25,
     "status": "ok",
     "timestamp": 1665424268814,
     "user": {
      "displayName": "Jake Ketchum",
      "userId": "08878338408047028227"
     },
     "user_tz": 300
    },
    "id": "Ui-Q2VJnJfEJ"
   },
   "outputs": [],
   "source": []
  },
  {
   "cell_type": "markdown",
   "metadata": {
    "id": "nmDyQNQKJfEL"
   },
   "source": [
    "## Problem 7 (20pts)\n",
    "\n",
    "For the same double-pendulum you simulated in Problem 4 with same parameters and initial condition, now add a constraint to the system such that the distance between the second pendulum and the origin is fixed at $\\sqrt{2}$. Simulate the system with same parameters and initial condition, and animate the system with the same animate function provided in Homework 2.\n",
    "\n",
    "> *Hint 1: What do you think the equations of motion should look like? Think about how the system will behave after adding the constraint. With no double, you can solve this problem using $\\phi$ and all the following results for constrained Euler-Lagrange equations, however, if you really understand this constrained system, things might be much easier, and you can actually treat it as an unconstrained system.*\n",
    "\n",
    "---\n",
    "**Turn in: Include the code used to numerically evaluate, simulate and animate the system. Also, upload the video of animation separately through Canvas in \".mp4\" format. You can use screen capture or record the screen directly with your phone.**"
   ]
  },
  {
   "cell_type": "code",
   "execution_count": null,
   "metadata": {
    "executionInfo": {
     "elapsed": 26,
     "status": "ok",
     "timestamp": 1665424268818,
     "user": {
      "displayName": "Jake Ketchum",
      "userId": "08878338408047028227"
     },
     "user_tz": 300
    },
    "id": "r9bFKXjQJfEL"
   },
   "outputs": [],
   "source": []
  },
  {
   "cell_type": "markdown",
   "metadata": {
    "id": "Jvm71AhKJfEP"
   },
   "source": [
    "## Problem 8 (5pts)\n",
    "\n",
    "For the same system with same constraint in Problem 6, simulate the system with initial condition $\\theta_1=\\theta_2=-\\frac{\\pi}{4}$, which actually violates the constraint! Simulate the system and see what happen, what do you think is the actual influence after adding this constraint?\n",
    "\n",
    "---\n",
    "**Turn in: Your thoughts about the actual effect of the constraint in this system. Note that you don't need to include any code for this problem.**"
   ]
  },
  {
   "cell_type": "code",
   "execution_count": null,
   "metadata": {
    "executionInfo": {
     "elapsed": 31,
     "status": "ok",
     "timestamp": 1665424268824,
     "user": {
      "displayName": "Jake Ketchum",
      "userId": "08878338408047028227"
     },
     "user_tz": 300
    },
    "id": "OHz3npTUJfEP"
   },
   "outputs": [],
   "source": []
  }
 ],
 "metadata": {
  "colab": {
   "collapsed_sections": [],
   "provenance": []
  },
  "kernelspec": {
   "display_name": "Python 3 (ipykernel)",
   "language": "python",
   "name": "python3"
  },
  "language_info": {
   "codemirror_mode": {
    "name": "ipython",
    "version": 3
   },
   "file_extension": ".py",
   "mimetype": "text/x-python",
   "name": "python",
   "nbconvert_exporter": "python",
   "pygments_lexer": "ipython3",
   "version": "3.10.7"
  }
 },
 "nbformat": 4,
 "nbformat_minor": 1
}
