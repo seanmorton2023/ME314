{
 "cells": [
  {
   "cell_type": "markdown",
   "metadata": {
    "id": "p5AANcq8aXQE"
   },
   "source": [
    "# ME314 Homework 0\n",
    "\n",
    "###Submission instructions\n",
    "\n",
    "Deliverables that should be included with your submission are shown in **bold** at the end of each problem statement and the corresponding supplemental material. Your homework will be graded IFF you submit a **single** PDF and a link to a Google colab file that meet all the requirements outlined below.\n",
    "\n",
    "- List the names of students you've collaborated with on this homework assignment.\n",
    "- Include all of your code (and handwritten solutions when applicable) used to complete the problems.\n",
    "- Highlight your answers (i.e. **bold** and outline the answers) and include simplified code outputs (e.g. .simplify()).\n",
    "- Enable Google Colab permission for viewing \n",
    " * Click Share in the upper right corner\n",
    " * Under \"Get Link\" click \"Share with...\" or \"Change\" \n",
    " * Then make sure it says \"Anyone with Link\" and \"Editor\" under the dropdown menu\n",
    "- Make sure all cells are run before submitting (i.e. check the permission by running your code in a private mode)\n",
    " * Please don't make changes to your file after submitting, so we can grade it!\n",
    "- Submit a link to your Google Colab file that has been run (before the submission deadline) and don't edit it afterwards!\n",
    "\n",
    "**NOTE:** This Jupyter Notebook file serves as a template for you to start homework. Make sure you first copy this template to your own Google drive (click \"File\" -> \"Save a copy in Drive\"), and then start to edit it."
   ]
  },
  {
   "cell_type": "markdown",
   "metadata": {},
   "source": [
    "___________________________________________\n",
    "Sean Morton\n",
    "\n",
    "**Students I worked with on this homework:** N/A"
   ]
  },
  {
   "cell_type": "code",
   "execution_count": 1,
   "metadata": {
    "id": "e10BTR6Ldtgc"
   },
   "outputs": [],
   "source": [
    "#IMPORT ALL NECESSARY PACKAGES AT THE TOP OF THE CODE\n",
    "import sympy as sym\n",
    "import numpy as np\n",
    "import matplotlib.pyplot as plt\n",
    "\n",
    "from IPython.display import Markdown, display\n",
    "\n",
    "# How to print in bold.You could wrap the \"display(Markdown())\"\"\n",
    "# in a function if you want a more concise alternative. \n",
    "\n",
    "# answer = 42\n",
    "\n",
    "# display(Markdown(\"**Hello World: {}**\".format(answer)))"
   ]
  },
  {
   "cell_type": "code",
   "execution_count": 2,
   "metadata": {
    "id": "9HlLVMmeaXQF"
   },
   "outputs": [],
   "source": [
    "# ##############################################################################################\n",
    "# # If you're using Google Colab, uncomment this section by selecting the whole section and press\n",
    "# # ctrl+'/' (Linux/Windows) or cmd+'/' (MacOS) on your and keyboard. Run it before you start \n",
    "# # programming, this will enable the nice LaTeX \"display()\" function for you. If you're using \n",
    "# # the local Jupyter environment, leave it alone\n",
    "# ##############################################################################################\n",
    "\n",
    "\n",
    "# def custom_latex_printer(exp,**options):\n",
    "#     from google.colab.output._publish import javascript\n",
    "#     url = \"https://cdnjs.cloudflare.com/ajax/libs/mathjax/3.1.1/latest.js?config=TeX-AMS_HTML\"\n",
    "#     javascript(url=url)\n",
    "#     return sym.printing.latex(exp,**options)\n",
    "# sym.init_printing(use_latex=\"mathjax\",latex_printer=custom_latex_printer)"
   ]
  },
  {
   "cell_type": "code",
   "execution_count": null,
   "metadata": {},
   "outputs": [],
   "source": []
  },
  {
   "cell_type": "markdown",
   "metadata": {
    "id": "R8KcW-HdaXQK"
   },
   "source": [
    "## Problem 1 (20pts)\n",
    "\n",
    "Given a function $f(x)=\\sin(x)$, find the derivative of $f(x)$ and find the directional derivative of $f(x)$ in the direction $v$.  Moreover, compute these derivatives using Pythons's SymPy package.\n",
    "\n",
    "*Hint 1: feel free to take the starting code as a start point for your solution.*"
   ]
  },
  {
   "cell_type": "markdown",
   "metadata": {
    "id": "mBdOhX1vaXQO"
   },
   "source": [
    "**Turn in: A scanned (or photograph from your phone or webcam) copy of your hand written solution for both derivatives (or you can use $\\LaTeX$, instead of hand writing). Also, turn in the code used to compute the symbolic solutions for both derivatives and the code output.**"
   ]
  },
  {
   "cell_type": "code",
   "execution_count": 3,
   "metadata": {
    "id": "-ZivndofaXQP"
   },
   "outputs": [
    {
     "name": "stdout",
     "output_type": "stream",
     "text": [
      "derivative of f: \n"
     ]
    },
    {
     "data": {
      "text/latex": [
       "$\\displaystyle \\cos{\\left(x \\right)}$"
      ],
      "text/plain": [
       "cos(x)"
      ]
     },
     "metadata": {},
     "output_type": "display_data"
    },
    {
     "name": "stdout",
     "output_type": "stream",
     "text": [
      "derivative of f wrt epsilon:\n"
     ]
    },
    {
     "data": {
      "text/latex": [
       "$\\displaystyle v \\cos{\\left(\\epsilon v + x \\right)}$"
      ],
      "text/plain": [
       "v*cos(\\epsilon*v + x)"
      ]
     },
     "metadata": {},
     "output_type": "display_data"
    },
    {
     "data": {
      "text/markdown": [
       "**directional derivative of f in v direction:**"
      ],
      "text/plain": [
       "<IPython.core.display.Markdown object>"
      ]
     },
     "metadata": {},
     "output_type": "display_data"
    },
    {
     "data": {
      "text/latex": [
       "$\\displaystyle v \\cos{\\left(x \\right)}$"
      ],
      "text/plain": [
       "v*cos(x)"
      ]
     },
     "metadata": {},
     "output_type": "display_data"
    }
   ],
   "source": [
    "####################################\n",
    "# Part 1: compute derivative of f\n",
    "\n",
    "# define your symbolic variable here\n",
    "x = sym.symbols('x')\n",
    "\n",
    "# define the function f\n",
    "f = sym.sin(x) # if you're using Jupyter-Notebook, try \"display(f)\"\n",
    "\n",
    "# compute derivative of f\n",
    "# (uncomment next line and add your code)\n",
    "df = f.diff(x)\n",
    "\n",
    "# output resutls\n",
    "print(\"derivative of f: \")\n",
    "display(df)\n",
    "\n",
    "####################################\n",
    "# Part 2: compute directional derivative of f\n",
    "\n",
    "# define dummy variable epsilon, and the direction v\n",
    "eps, v = sym.symbols(r'\\epsilon, v')\n",
    "\n",
    "fnew = sym.sin(x + eps*v)\n",
    "\n",
    "#differentiate w.r.t. the scaling factor\n",
    "dfde = fnew.diff(eps)\n",
    "print(\"derivative of f wrt epsilon:\")\n",
    "display(dfde)\n",
    "\n",
    "#evaluated at epsilon = 0, this gives the directional deriv in v direction\n",
    "dfnew = dfde.subs(eps, 0)\n",
    "display(Markdown(\"**directional derivative of f in v direction:**\"))\n",
    "display(dfnew)"
   ]
  },
  {
   "cell_type": "markdown",
   "metadata": {},
   "source": [
    "For Problem 1 handwritten work: see PDF"
   ]
  },
  {
   "cell_type": "markdown",
   "metadata": {
    "id": "2GySmCekaXRC"
   },
   "source": [
    "## Problem 2 (20pts)\n",
    "\n",
    "Given a function of trajectory:\n",
    "$$\n",
    "J(x(t)) = \\int_0^{\\pi/2} \\frac{1}{2} x(t)^2 dt\n",
    "$$\n",
    "Compute the analytical solution when $x=\\cos(t)$, verify your answer by numerical integration.\n",
    "\n",
    "The code for numerical integration is provided below:"
   ]
  },
  {
   "cell_type": "code",
   "execution_count": 4,
   "metadata": {},
   "outputs": [],
   "source": [
    "def integrate(func, xspan, step_size):\n",
    "    '''\n",
    "    Numerical integration with Euler's method\n",
    "\n",
    "    Parameters:\n",
    "    ====================\n",
    "    func: Python function\n",
    "        func is the function you want to integrate for\n",
    "    xspan: list\n",
    "        xspan is a list of two elements, representing \n",
    "        the start and end of integration\n",
    "    step_size:\n",
    "        a smaller step_size will give a more accurate result\n",
    "\n",
    "    Returns:\n",
    "    int_val:\n",
    "        result of the integration\n",
    "    ====================\n",
    "    '''\n",
    "    x = np.arange(xspan[0], xspan[1], step_size)\n",
    "    int_val = 0\n",
    "    for xi in x:\n",
    "        int_val += func(xi) * step_size\n",
    "    return int_val"
   ]
  },
  {
   "cell_type": "markdown",
   "metadata": {
    "id": "Mn5Oe2QVaXSP"
   },
   "source": [
    "**Turn in: A scanned (or photograph from your phone or webcam) copy of your hand written analytical solution (or you can use $\\LaTeX$). Also, turn in the code you used to numerically evaluate the result and the code output.**"
   ]
  },
  {
   "cell_type": "code",
   "execution_count": 5,
   "metadata": {
    "colab": {
     "base_uri": "https://localhost:8080/"
    },
    "id": "OvgRhdLMaXRC",
    "outputId": "accdcd91-e83d-4fe9-93c2-8d0027fde6ed"
   },
   "outputs": [
    {
     "name": "stdout",
     "output_type": "stream",
     "text": [
      "Analytical solution for J(x(t)):\n",
      "Result: 0.3927115816987216\n",
      "Result * 8: 3.141692653589773\n",
      "np.pi/8: 0.39269908169872414\n"
     ]
    }
   ],
   "source": [
    "#my implementation: \n",
    "\n",
    "#given x(t) = cos(t) and J(x(t)) = int{0}{pi/2} (1/2*x(t)^2) dt:\n",
    "\n",
    "def integrand0(t):\n",
    "    return 0.5 * (np.cos(t))**2\n",
    "\n",
    "tspan = [0, np.pi/2.0]\n",
    "step = 0.00005\n",
    "res = integrate(integrand0, tspan, step)\n",
    "\n",
    "print(\"Analytical solution for J(x(t)):\")\n",
    "print(f'Result: {res}')\n",
    "print(f'Result * 8: {res*8}')\n",
    "print(f'np.pi/8: {np.pi/8.0}')"
   ]
  },
  {
   "cell_type": "markdown",
   "metadata": {},
   "source": [
    "For problem 2 written work, see PDF"
   ]
  },
  {
   "cell_type": "markdown",
   "metadata": {
    "id": "Xuw8SIBPaXSS"
   },
   "source": [
    "## Problem 3 (20pts)\n",
    "\n",
    "For the function $J(x(t))$ in Problem 2, compute and evaluate the analytical solution for the directional derivative of $J$ at $x(t) = \\cos(t)$, in the direction $v(t) = \\sin(t)$. The directional derivative should be in the form of integration, evaluate the integration analytically, and verify it using numerical integration.\n",
    "\n",
    "**Turn in: A scanned (or photograph from your phone or webcam) copy of your hand written analytical solution (or you can use $\\LaTeX$), you need to evaluate the integration in this problem. Also, include the code used to numerically verify the integration result.**"
   ]
  },
  {
   "cell_type": "code",
   "execution_count": 6,
   "metadata": {
    "id": "o2AafVE6aXSS"
   },
   "outputs": [
    {
     "name": "stdout",
     "output_type": "stream",
     "text": [
      "Expected answer: 0.5\n"
     ]
    },
    {
     "data": {
      "text/markdown": [
       "**Analytical integration: 0.4999999144285416**"
      ],
      "text/plain": [
       "<IPython.core.display.Markdown object>"
      ]
     },
     "metadata": {},
     "output_type": "display_data"
    }
   ],
   "source": [
    "#analytical form of integration: int{0}{pi/2}[ cos(t)sin(t)dt  ]\n",
    "\n",
    "#numerical integration below\n",
    "\n",
    "def integrand1(t):\n",
    "    return np.sin(t) * np.cos(t)\n",
    "\n",
    "bounds = [0, np.pi/2.0]\n",
    "step = 0.001\n",
    "\n",
    "intval = integrate(integrand1, bounds, step)\n",
    "print(f\"Expected answer: {0.5}\")\n",
    "display(Markdown(f\"**Analytical integration: {intval}**\"))\n"
   ]
  },
  {
   "cell_type": "markdown",
   "metadata": {},
   "source": [
    "For Problem 2 written work, see PDF"
   ]
  },
  {
   "cell_type": "markdown",
   "metadata": {
    "id": "72Jg3xWJaXSw"
   },
   "source": [
    "## Problem 4 (20pts)\n",
    "\n",
    "Verify your answer in Problem 3 symbolically using Python's SymPy package, this means you need to compute the directional derivative and evaluate the integration all symbolically.\n",
    "\n",
    "*Hint 1: Different from computing directional derivative in Problem 1, this time the function includes integration. Thus, instead of defining x as a symbol, you should define x as a function of symbol t. An example of defining function and taking the derivative of the function integration is provided below.*"
   ]
  },
  {
   "cell_type": "code",
   "execution_count": 7,
   "metadata": {
    "colab": {
     "base_uri": "https://localhost:8080/",
     "height": 287
    },
    "id": "VES-iwYBaXSz",
    "outputId": "5d46ccaf-f2c9-4623-d5dd-169029cc5a5c"
   },
   "outputs": [
    {
     "name": "stdout",
     "output_type": "stream",
     "text": [
      "J(x(t), y(t)) = \n"
     ]
    },
    {
     "data": {
      "text/latex": [
       "$\\displaystyle \\int\\limits_{0}^{\\pi} \\left(x{\\left(t \\right)} + y{\\left(t \\right)}\\right) x{\\left(t \\right)}\\, dt$"
      ],
      "text/plain": [
       "Integral((x(t) + y(t))*x(t), (t, 0, pi))"
      ]
     },
     "metadata": {},
     "output_type": "display_data"
    },
    {
     "name": "stdout",
     "output_type": "stream",
     "text": [
      "derivative of J(x(t), y(t)) wrt x(t): \n"
     ]
    },
    {
     "data": {
      "text/latex": [
       "$\\displaystyle \\int\\limits_{0}^{\\pi} \\left(2 x{\\left(t \\right)} + y{\\left(t \\right)}\\right)\\, dt$"
      ],
      "text/plain": [
       "Integral(2*x(t) + y(t), (t, 0, pi))"
      ]
     },
     "metadata": {},
     "output_type": "display_data"
    },
    {
     "name": "stdout",
     "output_type": "stream",
     "text": [
      "derivative of J, after substitution: \n"
     ]
    },
    {
     "data": {
      "text/latex": [
       "$\\displaystyle \\int\\limits_{0}^{\\pi} \\left(2 \\sin{\\left(t \\right)} + \\cos{\\left(t \\right)}\\right)\\, dt$"
      ],
      "text/plain": [
       "Integral(2*sin(t) + cos(t), (t, 0, pi))"
      ]
     },
     "metadata": {},
     "output_type": "display_data"
    },
    {
     "data": {
      "text/markdown": [
       "**evaluation of derivative of J, after substitution:**"
      ],
      "text/plain": [
       "<IPython.core.display.Markdown object>"
      ]
     },
     "metadata": {},
     "output_type": "display_data"
    },
    {
     "data": {
      "text/latex": [
       "$\\displaystyle 4.0$"
      ],
      "text/plain": [
       "4.00000000000000"
      ]
     },
     "metadata": {},
     "output_type": "display_data"
    }
   ],
   "source": [
    "#example code:\n",
    "\n",
    "t = sym.symbols('t')\n",
    "# define function x and y\n",
    "x = sym.Function('x')(t)\n",
    "y = sym.Function('y')(t)\n",
    "# define J(x(t), y(t))\n",
    "J = sym.integrate(x**2 + x*y, [t, 0, sym.pi])\n",
    "print('J(x(t), y(t)) = ')\n",
    "display(J)\n",
    "\n",
    "# take the time derivative of J(x(t))\n",
    "dJdx = J.diff(x)\n",
    "print('derivative of J(x(t), y(t)) wrt x(t): ')\n",
    "display(dJdx)\n",
    "\n",
    "# now, we have x(t)=sin(t) and y(t)=cos(t), we substitute them \n",
    "# in, and evaluate the integration\n",
    "dJdx_subs = dJdx.subs({x:sym.sin(t), y:sym.cos(t)})\n",
    "print('derivative of J, after substitution: ')\n",
    "display(dJdx_subs)\n",
    "display(Markdown(\"**evaluation of derivative of J, after substitution:**\"))\n",
    "display(sym.N(dJdx_subs))"
   ]
  },
  {
   "cell_type": "markdown",
   "metadata": {
    "id": "XpXlPCKGaXS1"
   },
   "source": [
    "**Turn in: A copy of the code you used to symbolically evaluate the solution as well as the corresponding code output for both.**"
   ]
  },
  {
   "cell_type": "code",
   "execution_count": 8,
   "metadata": {
    "id": "T-A50gSgaXS2"
   },
   "outputs": [
    {
     "name": "stdout",
     "output_type": "stream",
     "text": [
      "J(x(t)): \n"
     ]
    },
    {
     "data": {
      "text/latex": [
       "$\\displaystyle 0.5 \\int\\limits_{0}^{\\frac{\\pi}{2}} x^{2}{\\left(t \\right)}\\, dt$"
      ],
      "text/plain": [
       "0.5*Integral(x(t)**2, (t, 0, pi/2))"
      ]
     },
     "metadata": {},
     "output_type": "display_data"
    },
    {
     "name": "stdout",
     "output_type": "stream",
     "text": [
      "J(x(t) + eps*v(t)): \n"
     ]
    },
    {
     "data": {
      "text/latex": [
       "$\\displaystyle 0.5 \\int\\limits_{0}^{\\frac{\\pi}{2}} \\left(\\epsilon v{\\left(t \\right)} + x{\\left(t \\right)}\\right)^{2}\\, dt$"
      ],
      "text/plain": [
       "0.5*Integral((\\epsilon*v(t) + x(t))**2, (t, 0, pi/2))"
      ]
     },
     "metadata": {},
     "output_type": "display_data"
    },
    {
     "name": "stdout",
     "output_type": "stream",
     "text": [
      "d/dEps (J(x+eps*v)): \n"
     ]
    },
    {
     "data": {
      "text/latex": [
       "$\\displaystyle 0.5 \\int\\limits_{0}^{\\frac{\\pi}{2}} 2 \\left(\\epsilon v{\\left(t \\right)} + x{\\left(t \\right)}\\right) v{\\left(t \\right)}\\, dt$"
      ],
      "text/plain": [
       "0.5*Integral(2*(\\epsilon*v(t) + x(t))*v(t), (t, 0, pi/2))"
      ]
     },
     "metadata": {},
     "output_type": "display_data"
    },
    {
     "name": "stdout",
     "output_type": "stream",
     "text": [
      "Directional derivative of J * v: \n"
     ]
    },
    {
     "data": {
      "text/latex": [
       "$\\displaystyle 0.5 \\int\\limits_{0}^{\\frac{\\pi}{2}} 2 v{\\left(t \\right)} x{\\left(t \\right)}\\, dt$"
      ],
      "text/plain": [
       "0.5*Integral(2*v(t)*x(t), (t, 0, pi/2))"
      ]
     },
     "metadata": {},
     "output_type": "display_data"
    },
    {
     "name": "stdout",
     "output_type": "stream",
     "text": [
      "Derivative of J in v direction after substitution: \n"
     ]
    },
    {
     "data": {
      "text/latex": [
       "$\\displaystyle 0.5 \\int\\limits_{0}^{\\frac{\\pi}{2}} 2 \\sin{\\left(t \\right)} \\cos{\\left(t \\right)}\\, dt$"
      ],
      "text/plain": [
       "0.5*Integral(2*sin(t)*cos(t), (t, 0, pi/2))"
      ]
     },
     "metadata": {},
     "output_type": "display_data"
    },
    {
     "data": {
      "text/markdown": [
       " **Evaluation of DJ(x(t))*v after substitution:** "
      ],
      "text/plain": [
       "<IPython.core.display.Markdown object>"
      ]
     },
     "metadata": {},
     "output_type": "display_data"
    },
    {
     "data": {
      "text/latex": [
       "$\\displaystyle 0.5$"
      ],
      "text/plain": [
       "0.500000000000000"
      ]
     },
     "metadata": {},
     "output_type": "display_data"
    }
   ],
   "source": [
    "# You can start your implementation here :)\n",
    "\n",
    "eps, t = sym.symbols(r'\\epsilon, t')\n",
    "\n",
    "#function representations\n",
    "x = sym.Function('x')(t)\n",
    "v = sym.Function('v')(t)\n",
    "f_x = 0.5 * x**2\n",
    "\n",
    "#form of J(x(t)) \n",
    "J = sym.integrate(f_x, [t, 0, sym.pi/2])\n",
    "print('J(x(t)): ')\n",
    "display(J)\n",
    "\n",
    "#substitute in x + eps*v\n",
    "J_dir = J.subs(x, (x + eps * v))\n",
    "print('J(x(t) + eps*v(t)): ')\n",
    "display(J_dir)\n",
    "\n",
    "#differentiate wrt epsilon\n",
    "dJde = J_dir.diff(eps)\n",
    "print('d/dEps (J(x+eps*v)): ')\n",
    "display(dJde)\n",
    "\n",
    "#evaluate at epsilon = 0 \n",
    "dJ_new = dJde.subs(eps, 0)\n",
    "print('Directional derivative of J * v: ')\n",
    "display(dJ_new)\n",
    "\n",
    "#substitute in x(t) = cos(t), v = sin(t)\n",
    "dJ_subbed = dJ_new.subs({x: sym.cos(t), v: sym.sin(t)})\n",
    "print('Derivative of J in v direction after substitution: ')\n",
    "display(dJ_subbed)\n",
    "\n",
    "#solve.\n",
    "display(Markdown(\" **Evaluation of DJ(x(t))*v after substitution:** \"))\n",
    "display(dJ_subbed.evalf())\n"
   ]
  },
  {
   "cell_type": "markdown",
   "metadata": {},
   "source": [
    "For problem 4 written work, see PDF"
   ]
  },
  {
   "cell_type": "markdown",
   "metadata": {
    "id": "rmzz-xtCaXS4"
   },
   "source": [
    "## Problem 5 (20pts)\n",
    "\n",
    "Given the equation:\n",
    "$$\n",
    "xy + \\sin(x) = x + y\n",
    "$$\n",
    "Use Python's SymPy package to symbolically solve this equation for $y$, thus you can write $y$ as a function of $x$. Transfer your symbolic solution into a numerical function and plot this function for $x\\in[0, \\pi]$ with Python's Matplotlib package.\n",
    "\n",
    "In this problem you will use two methods in SymPy. The first is its symbolic sovler method **solve()**, which takes in an equation or expression (in this it equals 0) and solve it for one or one set of variables. Another method you will use is **lambdify()**, which can transfer a symbolic expression into a numerical function automatically (of course in this problem we can hand code the function, but later in the class we will have super sophisticated expressions to evaluate.\n",
    "\n",
    "Below is an example of using these two methods for an equation $2x^3\\sin(4x) = xy$ (feel free to take this as the start point for your solution):"
   ]
  },
  {
   "cell_type": "code",
   "execution_count": 9,
   "metadata": {
    "colab": {
     "base_uri": "https://localhost:8080/",
     "height": 356
    },
    "id": "fbFESQlpaXS4",
    "outputId": "4cbcb4db-d542-4245-f2f6-3762afa63d4f"
   },
   "outputs": [
    {
     "name": "stdout",
     "output_type": "stream",
     "text": [
      "Original equation\n"
     ]
    },
    {
     "data": {
      "text/latex": [
       "$\\displaystyle 2 x^{3} \\sin{\\left(4 x \\right)} = x y$"
      ],
      "text/plain": [
       "Eq(2*x**3*sin(4*x), x*y)"
      ]
     },
     "metadata": {},
     "output_type": "display_data"
    },
    {
     "name": "stdout",
     "output_type": "stream",
     "text": [
      "Symbolic solutions\n",
      "[2*x**2*sin(4*x)]\n",
      "Test: func(1.0) =  -1.5136049906158564\n"
     ]
    },
    {
     "data": {
      "image/png": "[encoded data removed]",
      "text/plain": [
       "<Figure size 640x480 with 1 Axes>"
      ]
     },
     "metadata": {},
     "output_type": "display_data"
    }
   ],
   "source": [
    "#example code\n",
    "\n",
    "# from sympy.abc import x, y # it's same as defining x, y using symbols() OR\n",
    "x, y = sym.symbols(r'x,y')\n",
    "\n",
    "# define an equation\n",
    "eqn = sym.Eq(x**3 * 2*sym.sin(4*x), x*y)\n",
    "print('Original equation')\n",
    "display(eqn)\n",
    "\n",
    "# solve this equation for y\n",
    "y_sol = sym.solve(eqn, y) # this method returns a list, \n",
    "                             # which may include multiple solutions\n",
    "print('Symbolic solutions')\n",
    "print(y_sol)\n",
    "y_expr = y_sol[0] # in this case we just have one solution\n",
    "\n",
    "# lambdify the expression wrt symbol x\n",
    "func = sym.lambdify(x, y_expr)\n",
    "print('Test: func(1.0) = ', func(1.0))\n",
    "\n",
    "##############\n",
    "# now it's time to plot it from 0 to pi\n",
    "\n",
    "# generate list of values from 0 to pi\n",
    "x_list = np.linspace(0, np.pi, 100) \n",
    "\n",
    "# evaluate function at those values\n",
    "f_list = func(x_list)\n",
    "\n",
    "# plot it\n",
    "plt.plot(x_list, f_list)\n",
    "plt.show()"
   ]
  },
  {
   "cell_type": "markdown",
   "metadata": {
    "id": "UBG_nJa0aXS7"
   },
   "source": [
    "**Turn in: A copy of the code used to solve for symbolic solution and evaluate it as a numerical function. Also, include the plot of the numerical function.**"
   ]
  },
  {
   "cell_type": "code",
   "execution_count": 10,
   "metadata": {
    "id": "nVpc5FEGaXTC"
   },
   "outputs": [
    {
     "name": "stdout",
     "output_type": "stream",
     "text": [
      "Original equation: \n"
     ]
    },
    {
     "data": {
      "text/latex": [
       "$\\displaystyle x y + \\sin{\\left(x \\right)} = x + y$"
      ],
      "text/plain": [
       "Eq(x*y + sin(x), x + y)"
      ]
     },
     "metadata": {},
     "output_type": "display_data"
    },
    {
     "data": {
      "text/markdown": [
       " **Symbolic solutions: <br> [(x - sin(x))/(x - 1)]** "
      ],
      "text/plain": [
       "<IPython.core.display.Markdown object>"
      ]
     },
     "metadata": {},
     "output_type": "display_data"
    },
    {
     "name": "stdout",
     "output_type": "stream",
     "text": [
      "\n",
      "Test of lambdified function: 1.0\n",
      "Expected value: 1.0\n"
     ]
    },
    {
     "name": "stderr",
     "output_type": "stream",
     "text": [
      "<lambdifygenerated-2>:2: RuntimeWarning: divide by zero encountered in divide\n",
      "  return (x - sin(x))/(x - 1)\n"
     ]
    },
    {
     "data": {
      "image/png": "[encoded data removed]",
      "text/plain": [
       "<Figure size 640x480 with 1 Axes>"
      ]
     },
     "metadata": {},
     "output_type": "display_data"
    }
   ],
   "source": [
    "# You can start your implementation here :)\n",
    "\n",
    "#setup expression, symbols\n",
    "x, y = sym.symbols('x, y')\n",
    "eqn = sym.Eq(x*y + sym.sin(x), x + y)\n",
    "print('Original equation: ')\n",
    "display(eqn)\n",
    "\n",
    "#solve()\n",
    "y_sol = sym.solve(eqn, y)\n",
    "display(Markdown(f\" **Symbolic solutions: <br> {y_sol}** \"))\n",
    "\n",
    "#lambdify()\n",
    "new_func = sym.lambdify(x, y_sol[0])\n",
    "print(f'\\nTest of lambdified function: {new_func(np.pi/2)}')\n",
    "print(f'Expected value: 1.0')\n",
    "\n",
    "#np arrays, then plot\n",
    "x_list = np.arange(0, np.pi, 0.01)\n",
    "y_list = new_func(x_list)\n",
    "\n",
    "\n",
    "fig1 = plt.figure()\n",
    "plt.plot(x_list, y_list)\n",
    "plt.show()\n"
   ]
  }
 ],
 "metadata": {
  "colab": {
   "collapsed_sections": [],
   "provenance": []
  },
  "kernelspec": {
   "display_name": "Python 3 (ipykernel)",
   "language": "python",
   "name": "python3"
  },
  "language_info": {
   "codemirror_mode": {
    "name": "ipython",
    "version": 3
   },
   "file_extension": ".py",
   "mimetype": "text/x-python",
   "name": "python",
   "nbconvert_exporter": "python",
   "pygments_lexer": "ipython3",
   "version": "3.10.7"
  }
 },
 "nbformat": 4,
 "nbformat_minor": 1
}
