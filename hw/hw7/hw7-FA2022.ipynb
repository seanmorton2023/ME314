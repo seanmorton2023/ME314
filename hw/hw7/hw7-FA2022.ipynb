{
 "cells": [
  {
   "cell_type": "markdown",
   "metadata": {
    "id": "23kYoAh3Jvin"
   },
   "source": [
    "# ME314 Homework 7\n",
    "\n",
    "###Submission instructions\n",
    "\n",
    "Deliverables that should be included with your submission are shown in **bold** at the end of each problem statement and the corresponding supplemental material. **Your homework will be graded IFF you submit a single PDF, .mp4 videos of animations when requested and a link to a Google colab file that meet all the requirements outlined below.**\n",
    "\n",
    "- List the names of students you've collaborated with on this homework assignment.\n",
    "- Include all of your code (and handwritten solutions when applicable) used to complete the problems.\n",
    "- Highlight your answers (i.e. **bold** and outline the answers) for handwritten or markdown questions and include simplified code outputs (e.g. .simplify()) for python questions.\n",
    "- Enable Google Colab permission for viewing \n",
    " * Click Share in the upper right corner\n",
    " * Under \"Get Link\" click \"Share with...\" or \"Change\" \n",
    " * Then make sure it says \"Anyone with Link\" and \"Editor\" under the dropdown menu\n",
    "- Make sure all cells are run before submitting (i.e. check the permission by running your code in a private mode)\n",
    " * Please don't make changes to your file after submitting, so we can grade it!\n",
    "- Submit a link to your Google Colab file that has been run (before the submission deadline) and don't edit it afterwards!\n",
    "\n",
    "**NOTE:** This Jupyter Notebook file serves as a template for you to start homework. Make sure you first copy this template to your own Google driver (click \"File\" -> \"Save a copy in Drive\"), and then start to edit it."
   ]
  },
  {
   "cell_type": "code",
   "execution_count": 1,
   "metadata": {
    "id": "FH8Cv1USJxqN"
   },
   "outputs": [],
   "source": [
    "##############################################################################################\n",
    "# If you're using Google Colab, uncomment this section by selecting the whole section and press\n",
    "# ctrl+'/' on your and keyboard. Run it before you start programming, this will enable the nice \n",
    "# LaTeX \"display()\" function for you. If you're using the local Jupyter environment, leave it alone\n",
    "##############################################################################################\n",
    "import sympy as sym\n",
    "import numpy as np\n",
    "\n",
    "# def custom_latex_printer(exp,**options):\n",
    "#     from google.colab.output._publish import javascript\n",
    "#     url = \"https://cdnjs.cloudflare.com/ajax/libs/mathjax/3.1.1/latest.js?config=TeX-AMS_HTML\"\n",
    "#     javascript(url=url)\n",
    "#     return sym.printing.latex(exp,**options)\n",
    "# sym.init_printing(use_latex=\"mathjax\",latex_printer=custom_latex_printer)"
   ]
  },
  {
   "cell_type": "code",
   "execution_count": 49,
   "metadata": {
    "id": "lDGRDqmmKe1o"
   },
   "outputs": [
    {
     "name": "stdout",
     "output_type": "stream",
     "text": [
      "Debug: \n",
      "\n",
      "R:\n",
      "[[1 2]\n",
      " [3 4]]    \n",
      "\n",
      "p:\n",
      "[5, 6]   \n",
      "Debug: \n",
      "\n",
      "R:\n",
      "[[1 2 3]\n",
      " [4 5 6]\n",
      " [7 8 9]]    \n",
      "\n",
      "p:\n",
      "[1.1, 2.2, 3.3]   \n",
      "Debug: \n",
      "\n",
      "R:\n",
      "[[1. 0. 0.]\n",
      " [0. 1. 0.]\n",
      " [0. 0. 1.]]    \n",
      "\n",
      "p:\n",
      "[1, 2, 3]   \n",
      "Debug: \n",
      "\n",
      "R:\n",
      "[[1. 0.]\n",
      " [0. 1.]]    \n",
      "\n",
      "p:\n",
      "[4, 5]   \n",
      "All assertions passed\n"
     ]
    }
   ],
   "source": [
    "#helper functions\n",
    "\n",
    "def SOnAndRnToSEn(R, p):\n",
    "       \n",
    "    #do type checking for the matrix types\n",
    "    if type(R) == list:\n",
    "        R = np.matrix(R)\n",
    "        \n",
    "    n = R.shape[0]\n",
    "    if ((R.shape[0] != R.shape[1]) or                               #R is NP array or Sym matrix\n",
    "        ((type(p) is np.ndarray and max(p.shape) != R.shape[0]) or  #p is NP array and shape mismatch or.. \n",
    "          ((isinstance(p, list) or isinstance(p, sym.Matrix)) and \n",
    "            ( len(p) != R.shape[0] ))   )  ):                       #p is Sym matrix or \"list\" and shape mismatch\n",
    "        raise Exception(f\"Shape of R {R.shape} and p ({len(p)}) mismatch; exiting.\")\n",
    "        return None\n",
    "        \n",
    "    #construct a matrix based on returning a Sympy Matrix\n",
    "    if isinstance(R, sym.Matrix) or isinstance(p, sym.Matrix): \n",
    "        #realistically one of these needs to be symbolic to do this\n",
    "\n",
    "        if isinstance(R, np.ndarray) or isinstance(p, np.ndarray):\n",
    "            raise Exception(\"R and p cannot mix/match Sympy and Numpy types\")\n",
    "            return None\n",
    "        \n",
    "        G = sym.zeros(n+1)\n",
    "        G[:n, n] = sym.Matrix(p)\n",
    "    \n",
    "    #construct a matrix based on returning a Numpy matrix\n",
    "    elif isinstance(R, np.ndarray) or isinstance(R, list):\n",
    "        G = np.zeros([n+1, n+1])\n",
    "        print(f\"Debug: \\n\\nR:\\n{R}    \\n\\np:\\n{p}   \")\n",
    "        G[:n, n] = np.array(p).T\n",
    "        \n",
    "    else:\n",
    "        raise Exception(\"Error: type not recognized\")\n",
    "        return None\n",
    "    \n",
    "    G[:n,:n] = R\n",
    "    G[-1,-1] = 1\n",
    "    return G  \n",
    "\n",
    "def SEnToSOnAndRn(SEnmat):\n",
    "    '''Decomposes a SE(n) vector into its rotation matrix and displacement components.\n",
    "    '''\n",
    "    if isinstance(SEnmat, list):\n",
    "        SEnmat = np.matrix(SEnmat)\n",
    "    n = SEnmat.shape[0]\n",
    "    return SEnmat[:(n-1), :(n-1)], SEnmat[:(n-1), n-1]\n",
    "\n",
    "#test cases\n",
    "\n",
    "#SO(2) and R2 - numpy\n",
    "mat1 = np.matrix([[1,2],[3,4]])\n",
    "p1 = [5,6]\n",
    "out = SOnAndRnToSEn(mat1, p1)\n",
    "assert np.array_equal(out,  np.matrix([[1,2,5],[3,4,6],[0,0,1]]) ), f\"{out}\"\n",
    "\n",
    "#SO(2) and R2 - sympy\n",
    "mat2 = sym.Matrix([[5,6],[7,8]])\n",
    "p2 = [9,0]\n",
    "out = SOnAndRnToSEn(mat2, p2)\n",
    "assert out - sym.Matrix([[5,6,9],[7,8,0],[0,0,1]]) == sym.zeros(3,3), f\"{out}\"\n",
    "\n",
    "#SO(3) and R3 - numpy \n",
    "mat3 = np.matrix([[1,2,3],[4,5,6],[7,8,9]])\n",
    "p3 = [1.1,2.2,3.3]\n",
    "out = SOnAndRnToSEn(mat3, p3)\n",
    "assert np.array_equal(out,  np.matrix([[1,2,3,1.1],[4,5,6,2.2],[7,8,9,3.3],[0,0,0,1]]) ), f\"{out}\"\n",
    "\n",
    "#SO(3) and R3 - sympy \n",
    "mat4 = sym.Matrix([[1,2,3],[4,5,6],[7,8,9]])\n",
    "p4 = [4.4,5.5,6.6]\n",
    "out = SOnAndRnToSEn(mat4, p4)\n",
    "diff = out - sym.Matrix([[1,2,3,4.4],[4,5,6,5.5],[7,8,9,6.6],[0,0,0,1]])\n",
    "assert diff == sym.zeros(4,4), f\"{out}\\n\\n{diff}\"\n",
    "\n",
    "#dimensional mismatch - check that it throws an error\n",
    "#SOnAndRnToSEn(mat2, p4)\n",
    "\n",
    "#type mismatch - check that it throws an error\n",
    "#SOnAndRnToSEn(mat2, sym.Matrix(p1))\n",
    "#SOnAndRnToSEn(mat1, np.matrix(p2))\n",
    "\n",
    "#SE(3)\n",
    "SE3mat = SOnAndRnToSEn(np.identity(3), [1,2,3])\n",
    "[SO3, R3] = SEnToSOnAndRn(SE3mat)\n",
    "assert np.array_equal(SO3, np.identity(3)) and np.array_equal(R3, [1,2,3]), f\"{SO3}\\n{R3}\"\n",
    "\n",
    "#SE(2)\n",
    "SE3mat = SOnAndRnToSEn(np.identity(2), [4,5])\n",
    "[SO2, R2] = SEnToSOnAndRn(SE3mat)\n",
    "assert np.array_equal(SO2, np.identity(2)) and np.array_equal(R2, [4,5]), f\"{SO2}\\n{R2}\"\n",
    "\n",
    "print(\"All assertions passed\")\n"
   ]
  },
  {
   "cell_type": "code",
   "execution_count": 43,
   "metadata": {},
   "outputs": [
    {
     "name": "stdout",
     "output_type": "stream",
     "text": [
      "\n",
      "Hat: \n",
      "[[ 0 -4  5]\n",
      " [ 4  0 -6]\n",
      " [-5  6  0]]\n",
      "\n",
      "Unhat: \n",
      "[7 8 9]\n",
      "\n",
      "TransInv: \n",
      "[[   1.    5.    9. -152.]\n",
      " [   2.    6.   10. -176.]\n",
      " [   3.    7.   11. -200.]\n",
      " [   0.    0.    0.    1.]]\n"
     ]
    }
   ],
   "source": [
    "def HatVector3(w):\n",
    "    '''Turns a vector in R3 to a skew-symmetric matrix in so(3). \n",
    "    Works with both Sympy and Numpy matrices.\n",
    "    '''\n",
    "     \n",
    "    if isinstance(w, list):\n",
    "        w_hat = np.matrix([\n",
    "            [    0, -w[2],  w[1]],\n",
    "            [ w[2],     0, -w[0]],\n",
    "            [-w[1],  w[0],     0]\n",
    "        ])\n",
    "        \n",
    "    else: #NP and Sym\n",
    "        w_hat = type(w)([\n",
    "            [    0, -w[2],  w[1]],\n",
    "            [ w[2],     0, -w[0]],\n",
    "            [-w[1],  w[0],     0]\n",
    "        ])\n",
    "\n",
    "    return w_hat\n",
    "\n",
    "###\n",
    "\n",
    "def UnhatMatrix3(w_hat):\n",
    "    '''Turns a skew-symmetric matrix in so(3) into a vector in R3.\n",
    "    '''\n",
    "    if isinstance(w_hat, list):\n",
    "        w_hat = np.matrix(w_hat)\n",
    "    \n",
    "    #NP and Sym\n",
    "    w = type(w_hat)([\n",
    "        -w_hat[1,2],\n",
    "        w_hat[0,2],\n",
    "        -w_hat[0,1],\n",
    "    ])\n",
    "        \n",
    "    #numpy matrix type has an extra dimension; remove it\n",
    "    if isinstance(w_hat, np.matrix):\n",
    "        w = np.asarray(w)[0]\n",
    "    \n",
    "    return w\n",
    "\n",
    "def InvSEn(SEnmat):\n",
    "    '''Takes the inverse of a SE(n) matrix.\n",
    "    Compatible with Numpy, Sympy, and list formats.\n",
    "    '''\n",
    "    if isinstance(SEnmat, list):\n",
    "        SEnmat = np.matrix(SEnmat)\n",
    "    ###\n",
    "    n = SEnmat.shape[0]\n",
    "    R = SEnmat[:(n-1), :(n-1)]\n",
    "    p = SEnmat[:(n-1),   n-1 ]\n",
    "        \n",
    "    return SOnAndRnToSEn(R.T, -R.T @ p)\n",
    "    \n",
    "###\n",
    "\n",
    "#testing\n",
    "w1 = [6,5,4]\n",
    "print(f\"\\nHat: \\n{HatVector3(w1)}\")\n",
    "\n",
    "w_hat1 = [\n",
    "    [0, -9, 8],\n",
    "    [9, 0, -7],\n",
    "    [-8, 7, 0]\n",
    "]\n",
    "print(f\"\\nUnhat: \\n{UnhatMatrix3(w_hat1)}\")\n",
    "\n",
    "T1 = [\n",
    "    [1,  2,  3,  4],\n",
    "    [5,  6,  7,  8],\n",
    "    [9, 10, 11, 12],\n",
    "    [0,  0,  0,  1]\n",
    "]\n",
    "\n",
    "print(f\"\\nTransInv: \\n{InvSEn(T1)}\")"
   ]
  },
  {
   "cell_type": "code",
   "execution_count": null,
   "metadata": {},
   "outputs": [],
   "source": [
    "def compute_EL(lagrangian, q):\n",
    "    '''\n",
    "    Helper function for computing the Euler-Lagrange equations for a given system,\n",
    "    so I don't have to keep writing it out over and over again.\n",
    "    \n",
    "    Inputs:\n",
    "    - lagrangian: our Lagrangian function in symbolic (Sympy) form\n",
    "    - q: our state vector [x1, x2, ...], in symbolic (Sympy) form\n",
    "    \n",
    "    Outputs:\n",
    "    - eqn: the Euler-Lagrange equations in Sympy form\n",
    "    '''\n",
    "    \n",
    "    # wrap system states into one vector (in SymPy would be Matrix)\n",
    "    #q = sym.Matrix([x1, x2])\n",
    "    qd = q.diff(t)\n",
    "    qdd = qd.diff(t)\n",
    "\n",
    "    # compute derivative wrt a vector, method 1\n",
    "    # wrap the expression into a SymPy Matrix\n",
    "    L_mat = sym.Matrix([lagrangian])\n",
    "    dL_dq = L_mat.jacobian(q)\n",
    "    dL_dqdot = L_mat.jacobian(qd)\n",
    "\n",
    "    #set up the Euler-Lagrange equations\n",
    "    LHS = dL_dq - dL_dqdot.diff(t)\n",
    "    RHS = sym.zeros(1, len(q))\n",
    "    eqn = sym.Eq(LHS.T, RHS.T)\n",
    "    \n",
    "    return eqn\n",
    "\n",
    "def solve_EL(eqn, var):\n",
    "    '''\n",
    "    Helper function to solve and display the solution for the Euler-Lagrange\n",
    "    equations.\n",
    "    \n",
    "    Inputs:\n",
    "    - eqn: Euler-Lagrange equation (type: Sympy Equation())\n",
    "    - var: state vector (type: Sympy Matrix). typically a form of q-doubledot\n",
    "        but may have different terms\n",
    "    \n",
    "    Outputs:\n",
    "    - Prints symbolic solutions\n",
    "    - Returns symbolic solutions in a dictionary\n",
    "    '''\n",
    "    \n",
    "    soln = sym.solve(eqn, var, dict = True)\n",
    "    eqns_solved = []\n",
    "    \n",
    "    \n",
    "    for i, sol in enumerate(soln):\n",
    "        for x in list(sol.keys()):\n",
    "            eqn_solved = sym.Eq(x, sol[x])\n",
    "            eqns_solved.append(eqn_solved)\n",
    "            \n",
    "    return eqns_solved\n",
    "\n",
    "def solve_EL_hw7(lamb_list, phi_list, F_mat, q, lhs):\n",
    "    \"\"\"This version of the Euler-Lagrange equations uses both a constraint \n",
    "    \"\"\"\n",
    "    \n",
    "    qd = q.diff(t)\n",
    "    qdd = qd.diff(t)\n",
    "    expr_matrix = lhs - F_mat\n",
    "    phidd_matrix = sym.Matrix([0])\n",
    "    \n",
    "    #add constraint terms to matrix of expressions to solve\n",
    "    for i in range(len(phi_list)):\n",
    "        phi = phi_list[i]\n",
    "        lamb = lamb_list[i]\n",
    "        \n",
    "        phidd = phi.diff(t).diff(t)\n",
    "        lamb_grad = sym.Matrix([lamb * phi.diff(a) for a in q])\n",
    "        qdd = qdd.row_insert(len(qdd, sym.Matrix([lamb]))\n",
    "    \n",
    "        #format equations so they're all in one matrix\n",
    "        expr_matrix = expr_matrix - lamb_grad\n",
    "        phidd_matrix = sym.Matrix([phidd])\n",
    "        expr_matrix = expr_matrix.row_insert(len(expr_matrix), phidd_matrix)\n",
    "    \n",
    "    print(\"Equations to be solved (LHS - lambda * grad(phi) = 0):\")\n",
    "    RHS = sym.zeros(len(expr_matrix), 1)\n",
    "    disp_eq = sym.Eq(expr_matrix, RHS)\n",
    "    display(disp_eq)\n",
    "    print(\"Variables to solve for:\")\n",
    "    display(qdd)\n",
    "\n",
    "    #solve E-L equations\n",
    "    eqns_solved = solve_EL(expr_matrix, qdd)\n",
    "    return eqns_solved\n"
   ]
  },
  {
   "cell_type": "code",
   "execution_count": null,
   "metadata": {},
   "outputs": [],
   "source": [
    "def rk4(dxdt, x, t, dt):\n",
    "    '''\n",
    "    Applies the Runge-Kutta method, 4th order, to a sample function,\n",
    "    for a given state q0, for a given step size. Currently only\n",
    "    configured for a 2-variable dependent system (x,y).\n",
    "    ==========\n",
    "    dxdt: a Sympy function that specifies the derivative of the system of interest\n",
    "    t: the current timestep of the simulation\n",
    "    x: current value of the state vector\n",
    "    dt: the amount to increment by for Runge-Kutta\n",
    "    ======\n",
    "    returns:\n",
    "    x_new: value of the state vector at the next timestep\n",
    "    '''      \n",
    "    k1 = dt * dxdt(t, x)\n",
    "    k2 = dt * dxdt(t + dt/2.0, x + k1/2.0)\n",
    "    k3 = dt * dxdt(t + dt/2.0, x + k2/2.0)\n",
    "    k4 = dt * dxdt(t + dt, x + k3)\n",
    "    x_new = x + (k1 + 2.0*k2 + 2.0*k3 + k4)/6.0\n",
    "    \n",
    "    return x_new\n",
    "\n",
    "\n",
    "def simulate(f, x0, tspan, dt, integrate):\n",
    "    \"\"\"\n",
    "    This function takes in an initial condition x0, a timestep dt,\n",
    "    a time span tspan consisting of a list [min_time, max_time],\n",
    "    as well as a dynamical system f(x) that outputs a vector of the\n",
    "    same dimension as x0. It outputs a full trajectory simulated\n",
    "    over the time span of dimensions (xvec_size, time_vec_size).\n",
    "    \n",
    "    Parameters\n",
    "    ============\n",
    "    f: Python function\n",
    "        derivate of the system at a given step x(t), \n",
    "        it can considered as \\dot{x}(t) = func(x(t))\n",
    "    x0: NumPy array\n",
    "        initial conditions\n",
    "    tspan: Python list\n",
    "        tspan = [min_time, max_time], it defines the start and end\n",
    "        time of simulation\n",
    "    dt:\n",
    "        time step for numerical integration\n",
    "    integrate: Python function\n",
    "        numerical integration method used in this simulation\n",
    "\n",
    "    Return\n",
    "    ============\n",
    "    x_traj:\n",
    "        simulated trajectory of x(t) from t=0 to tf\n",
    "    \"\"\"\n",
    "    N = int((max(tspan)-min(tspan))/dt)\n",
    "    x = np.copy(x0)\n",
    "    tvec = np.linspace(min(tspan),max(tspan),N)\n",
    "    xtraj = np.zeros((len(x0),N))\n",
    "    \n",
    "    for i in range(N):\n",
    "        t = tvec[i]\n",
    "        xtraj[:,i]=integrate(f,x,t,dt)\n",
    "        x = np.copy(xtraj[:,i])\n",
    "    return xtraj \n",
    "      "
   ]
  },
  {
   "cell_type": "markdown",
   "metadata": {
    "id": "W8ojINipKFfh"
   },
   "source": [
    "## Problem 1 (20pts)\n",
    "\n",
    "Show that if $R\\in SO(n)$, then the matrix $A=\\frac{d}{dt}(R)R^{-1}$ is skew symmetric.\n",
    "    \n",
    "**Turn in: A scanned (or photograph from your phone or webcam) copy of your hand written solution. Or you can use \\LaTeX.**"
   ]
  },
  {
   "cell_type": "code",
   "execution_count": null,
   "metadata": {
    "id": "YP3SS77PKGGZ"
   },
   "outputs": [],
   "source": []
  },
  {
   "cell_type": "markdown",
   "metadata": {
    "id": "JhKePBV-KG8T"
   },
   "source": [
    "## Problem 2 (20pts)\n",
    "\n",
    "Show that $\\underline{\\widehat{\\omega}}\\,\\underline{r}_b= -\\underline{\\widehat{r}}_b\\, \\underline{\\omega}$. \n",
    "    \n",
    "**Turn in: A scanned (or photograph from your phone or webcam) copy of your hand written solution. Or you can use \\LaTeX.**"
   ]
  },
  {
   "cell_type": "code",
   "execution_count": null,
   "metadata": {},
   "outputs": [],
   "source": []
  },
  {
   "cell_type": "code",
   "execution_count": 54,
   "metadata": {
    "colab": {
     "base_uri": "https://localhost:8080/",
     "height": 377
    },
    "executionInfo": {
     "elapsed": 232,
     "status": "ok",
     "timestamp": 1652642379327,
     "user": {
      "displayName": "Joel Meyer",
      "userId": "03002831383364556541"
     },
     "user_tz": 300
    },
    "id": "tMnFPtxOKWzL",
    "outputId": "148c8e6f-06fb-48f4-ec9b-4f3a662ffafc"
   },
   "outputs": [
    {
     "data": {
      "text/html": [
       "<table><tr><td><img src='https://github.com/MuchenSun/ME314pngs/raw/master/biped_simplified.jpg' width=600' height='350'></table>"
      ],
      "text/plain": [
       "<IPython.core.display.HTML object>"
      ]
     },
     "metadata": {},
     "output_type": "display_data"
    }
   ],
   "source": [
    "from IPython.core.display import HTML\n",
    "display(HTML(\"<table><tr><td><img src='https://github.com/MuchenSun/ME314pngs/raw/master/biped_simplified.jpg' width=600' height='350'></table>\"))"
   ]
  },
  {
   "cell_type": "markdown",
   "metadata": {
    "id": "fqM9lN2TKOdP"
   },
   "source": [
    "## Problem 3 (60pts)\n",
    "\n",
    "Consider a person doing the splits (shown in the image above). To simplify the model, we ignore the upper body and assume the knees can not bend --- which means we only need four variables $q=[x, y, \\theta_1, \\theta_2]$ to configure the system. $x$ and $y$ are the position of the intersection point of the two legs, $\\theta_1$ and $\\theta_2$ are the angles between the legs and the green vertical dash line. The feet are constrained on the ground, and there is no friction between the feet and the ground. \n",
    "    \n",
    "Each leg is a rigid body with length $L=1$, width $W=0.2$, mass $m=1$, and rotational inertia $J=1$ (assuming the center of mass is at the center of geometry). Moreover, there are two torques applied on $\\theta_1$ and $\\theta_2$ to control the legs to track a desired trajectory:\n",
    "$$\n",
    "\\begin{aligned}\n",
    "\\theta_1^d(t) & = \\frac{\\pi}{15} + \\frac{\\pi}{3} \\sin^2(\\frac{t}{2}) \\\\\n",
    "\\theta_2^d(t) & =-\\frac{\\pi}{15} - \\frac{\\pi}{3} \\sin^2(\\frac{t}{2})\n",
    "\\end{aligned}\n",
    "$$ and the torques are:\n",
    "$$\n",
    "\\begin{aligned}\n",
    "F_{\\theta_1 }& = -k_1(\\theta_1-\\theta_1^d)\\\\\n",
    "F_{\\theta_2} & = -k_1(\\theta_2-\\theta_2^d)\n",
    "\\end{aligned}\n",
    "$$ In this problem we use $k_1=20$. \n",
    "\n",
    "Given the model description above, define the frames that you need (several example frames are shown in the image as well), simulate the motion of the biped from rest for $t\\in[0,10], dt=0.01$, with initial condition $q=[0, L_1\\cos(\\frac{\\pi}{15}), \\frac{\\pi}{15}, -\\frac{\\pi}{15}]$. You will need to modify the animation function to display the leg as a rectangle, an example of the animation can be found at [https://youtu.be/w8XHYrEoWTc](https://youtu.be/w8XHYrEoWTc). \n",
    "\n",
    "*Hint 1: Even though this is a 2D system, in order to compute kinetic energy from both translation and rotation you will need to model the system in the 3D world --- the $z$ coordinate is always zero and the rotation is around the $z$ axis (based on these facts, what should the SE(3) matrix and rotational inertia tensor look like?). This also means you need to represent transformations in  SE(3) and the body velocity $\\mathcal{V}_b\\in\\mathbb{R}^6$.*\n",
    "\n",
    "*Hint 2: It could be helpful to define several helper functions for all the matrix operations you will need to use. For example, a function that returns SE(3) matrices given a rotation angle and 2D translation vector, functions for ''hat'' and ''unhat'' operations, a function for the matrix inverse of SE(3) (which is definitely not the same as the SymPy matrix inverse function), and a function that returns the time derivative of SO(3) or SE(3).*\n",
    "\n",
    "*Hint 3: In this problem the external force depends on time $t$. Therefore, in order to solve for the symbolic solution you need to substitute your configuration variables, which are defined as symbolic functions of time $t$ (such as $\\theta_1(t)$ and $\\frac{d}{dt}\\theta_1(t)$), with dummy symbolic variables. For the same reason (the dynamics now explicitly depend on time), you will need to do some tiny modifications on the ''integrate'' and ''simulate'' functions, a good reference can be found at [https://en.wikipedia.org/wiki/Runge-Kutta_methods](https://en.wikipedia.org/wiki/Runge-Kutta_methods).*\n",
    "\n",
    "*Hint 4: Symbolically solving this system should be fast, but if you encountered some problem when solving the dynamics symbolically, an alternative method is to solve the system numerically --- substitute in the system state at each time step during simulation and solve for the numerical solution --- but based on my experience, this would cost more than one hour for 500 time steps, so it's not recommended.*\n",
    "\n",
    "*Hint 5: The animation of this problem is similar to the one in last homework --- the coordinates of the vertices in the body frame are constant, you just need to transfer them back to the world frame using the the transformation matrices you already have in the simulation.*\n",
    "\n",
    "*Hint 6: Be careful to consider the relationship between the frames and to not build in any implicit assumptions (such as assuming some variables are fixed).*\n",
    "\n",
    "*Hint 7: The rotation, by convention, is assumed to follow the right hand rule, which means the z-axis is out of the screen and the positive rotation orientation is counter-clockwise. Make sure you follow a consistent set of positive directions for all the computation.*\n",
    "\n",
    "*Hint 8: This problem is designed as a ''mini-project'', it could help you estimate the complexity of your final project, and you could adjust your proposal based on your experience with this problem.*\n",
    "\n",
    "**Turn in: A copy of the code used to simulate and animate the system. Also, include a plot of the trajectory and upload a video of the animation separately through Canvas. The video should be in \".mp4\" format, you can use screen capture or record the screen directly with your phone.**"
   ]
  },
  {
   "cell_type": "code",
   "execution_count": null,
   "metadata": {
    "id": "Zf9rci7IKPIR"
   },
   "outputs": [],
   "source": [
    "## Your code goes here"
   ]
  },
  {
   "cell_type": "code",
   "execution_count": 66,
   "metadata": {},
   "outputs": [
    {
     "name": "stdout",
     "output_type": "stream",
     "text": [
      "bottom1 (bar):\n"
     ]
    },
    {
     "data": {
      "text/latex": [
       "$\\displaystyle \\left[\\begin{matrix}- L_{2} \\sin{\\left(\\theta_{2}{\\left(t \\right)} \\right)} + x{\\left(t \\right)}\\\\- L_{2} \\cos{\\left(\\theta_{2}{\\left(t \\right)} \\right)} + y{\\left(t \\right)}\\\\0\\\\1\\end{matrix}\\right]$"
      ],
      "text/plain": [
       "Matrix([\n",
       "[-L_2*sin(\\theta_2(t)) + x(t)],\n",
       "[-L_2*cos(\\theta_2(t)) + y(t)],\n",
       "[                           0],\n",
       "[                           1]])"
      ]
     },
     "metadata": {},
     "output_type": "display_data"
    },
    {
     "name": "stdout",
     "output_type": "stream",
     "text": [
      "bottom2 (bar):\n"
     ]
    },
    {
     "data": {
      "text/latex": [
       "$\\displaystyle \\left[\\begin{matrix}L_{1} \\sin{\\left(\\theta_{1}{\\left(t \\right)} \\right)} + x{\\left(t \\right)}\\\\- L_{1} \\cos{\\left(\\theta_{1}{\\left(t \\right)} \\right)} + y{\\left(t \\right)}\\\\0\\\\1\\end{matrix}\\right]$"
      ],
      "text/plain": [
       "Matrix([\n",
       "[ L_1*sin(\\theta_1(t)) + x(t)],\n",
       "[-L_1*cos(\\theta_1(t)) + y(t)],\n",
       "[                           0],\n",
       "[                           1]])"
      ]
     },
     "metadata": {},
     "output_type": "display_data"
    }
   ],
   "source": [
    "#define variables\n",
    "L1, L2, m, J, W, g = sym.symbols(r'L_1, L_2, m, J, W, g')\n",
    "t = sym.symbols(r't')\n",
    "x = sym.Function(r'x')(t)\n",
    "y = sym.Function(r'y')(t)\n",
    "theta1 = sym.Function(r'\\theta_1')(t)\n",
    "theta2 = sym.Function(r'\\theta_2')(t)\n",
    "\n",
    "q = sym.Matrix([x, y, theta1, theta2])\n",
    "qd = q.diff(t)\n",
    "qdd = qd.diff(t)\n",
    "\n",
    "#not included: xd, yd, ..., q_ext\n",
    "\n",
    "#define transformation matrices. let A1 be in the direction of \n",
    "#the right leg and A2 be in the direction of the left leg\n",
    "\n",
    "#------right leg------#\n",
    "Raa1 = sym.Matrix([\n",
    "    [sym.cos(theta1), -sym.sin(theta1), 0],\n",
    "    [sym.sin(theta1),  sym.cos(theta1), 0],\n",
    "    [              0,                0, 1]\n",
    "])\n",
    "\n",
    "Rdf = sym.Matrix([\n",
    "    [sym.cos(-theta1), -sym.sin(-theta1), 0],\n",
    "    [sym.sin(-theta1),  sym.cos(-theta1), 0],\n",
    "    [              0,                0,   1]\n",
    "])\n",
    "\n",
    "p_a1b = sym.Matrix([0, -L1/2, 0])\n",
    "p_bd =  sym.Matrix([0, -L1/2, 0])\n",
    "\n",
    "Gaa1 = SOnAndRnToSEn(Raa1, [0,0,0]) \n",
    "Ga1b = SOnAndRnToSEn(sym.eye(3), p_a1b)\n",
    "Gbd  = SOnAndRnToSEn(sym.eye(3),  p_bd) \n",
    "Gdf  = SOnAndRnToSEn(Rdf,  [0,0,0]) \n",
    "\n",
    "#------left leg------#\n",
    "\n",
    "Raa2 = sym.Matrix([\n",
    "    [sym.cos(-theta2), -sym.sin(-theta2), 0],\n",
    "    [sym.sin(-theta2),  sym.cos(-theta2), 0],\n",
    "    [              0,                0,   1]\n",
    "\n",
    "])\n",
    "\n",
    "Reg = sym.Matrix([\n",
    "    [sym.cos(theta2), -sym.sin(theta2), 0],\n",
    "    [sym.sin(theta2),  sym.cos(theta2), 0],\n",
    "    [              0,                0, 1]\n",
    "])\n",
    "\n",
    "p_a2c = sym.Matrix([0, -L2/2, 0])\n",
    "p_ce =  sym.Matrix([0, -L2/2, 0])\n",
    "\n",
    "Gaa2 = SOnAndRnToSEn(Raa2, [0,0,0])\n",
    "Ga2c = SOnAndRnToSEn(sym.eye(3), p_a2c)\n",
    "Gce  = SOnAndRnToSEn(sym.eye(3), p_ce)\n",
    "Geg  = SOnAndRnToSEn(Reg, [0,0,0])\n",
    "\n",
    "#---------------------#\n",
    "\n",
    "#combine transformation matrices\n",
    "Gsa = SOnAndRnToSEn(sym.eye(3),sym.Matrix([x,y,0]))\n",
    "Gsb = Gsa @ Gaa1 @ Ga1b\n",
    "Gsc = Gsa @ Gaa2 @ Ga2c\n",
    "Gsd = Gsb @ Gbd\n",
    "Gse = Gsc @ Gce\n",
    "Gsf = Gsd @ Gdf\n",
    "Gsg = Gse @ Geg\n",
    "\n",
    "#define important positions in space\n",
    "posn_CM2 = Gsc @ sym.Matrix([0,0,0,1]) #\"bar\" version of 3D posn\n",
    "posn_CM1 = Gsb @ sym.Matrix([0,0,0,1])\n",
    "\n",
    "bottom1 = Gsg @ sym.Matrix([0,0,0,1])\n",
    "bottom2 = Gsf @ sym.Matrix([0,0,0,1])\n",
    "\n",
    "print(\"bottom1 (bar):\")\n",
    "display(bottom1)\n",
    "print(\"bottom2 (bar):\")\n",
    "display(bottom2)\n"
   ]
  },
  {
   "cell_type": "code",
   "execution_count": 77,
   "metadata": {},
   "outputs": [
    {
     "data": {
      "text/latex": [
       "$\\displaystyle 0.0138888888888889 \\pi^{2} J \\sin^{2}{\\left(t \\right)}$"
      ],
      "text/plain": [
       "0.0138888888888889*pi**2*J*sin(t)**2"
      ]
     },
     "metadata": {},
     "output_type": "display_data"
    },
    {
     "data": {
      "text/latex": [
       "$\\displaystyle 0.0138888888888889 \\pi^{2} J \\sin^{2}{\\left(t \\right)}$"
      ],
      "text/plain": [
       "0.0138888888888889*pi**2*J*sin(t)**2"
      ]
     },
     "metadata": {},
     "output_type": "display_data"
    },
    {
     "data": {
      "text/latex": [
       "$\\displaystyle 0.0277777777777778 \\pi^{2} J \\sin^{2}{\\left(t \\right)} + g m \\left(- \\frac{L_{1} \\cos{\\left(\\theta_{1}{\\left(t \\right)} \\right)}}{2} - \\frac{L_{2} \\cos{\\left(\\theta_{2}{\\left(t \\right)} \\right)}}{2} + 2 y{\\left(t \\right)}\\right)$"
      ],
      "text/plain": [
       "0.0277777777777778*pi**2*J*sin(t)**2 + g*m*(-L_1*cos(\\theta_1(t))/2 - L_2*cos(\\theta_2(t))/2 + 2*y(t))"
      ]
     },
     "metadata": {},
     "output_type": "display_data"
    }
   ],
   "source": [
    "#define lagrangian\n",
    "ybottom1 = bottom1[1] \n",
    "ybottom2 = bottom2[1]\n",
    "y_CM1    = posn_CM1[1]\n",
    "y_CM2    = posn_CM2[1]\n",
    "\n",
    "U = m*g* (y_CM1 + y_CM2)\n",
    "\n",
    "#to define kinetic energy: need axis of rotation in the body's own frame; the z axis\n",
    "#KE_rot1 = 0.5*w.T * I * w = 0.5(I)(1)(thetand)^2\n",
    "ti = sym.symbols(r't_i')\n",
    "k1 = sym.symbols(r'k_1')\n",
    "theta1_des =  sym.pi/15 + sym.pi/3 * (sym.sin(t/2))**2 #des = \"desired\"\n",
    "theta1d_des = theta1_des.diff(t).simplify()\n",
    "theta2_des = -sym.pi/15 - sym.pi/3 * (sym.sin(t/2))**2\n",
    "theta2d_des = theta2_des.diff(t).simplify()\n",
    "\n",
    "F1 = -k1 * (theta1 - theta1_des)\n",
    "F2 = -k1 * (theta2 - theta2_des)\n",
    "\n",
    "# display(F1)\n",
    "# display(F2)\n",
    "\n",
    "KE1 = (0.5 * sym.Matrix([0,0,1]).T * J * sym.Matrix([0,0,1]) * (theta1d_des)**2)[0]\n",
    "KE2 = (0.5 * sym.Matrix([0,0,1]).T * J * sym.Matrix([0,0,1]) * (theta2d_des)**2)[0]\n",
    "lagrangian = KE1 + KE2 + U\n",
    "\n",
    "display(KE1)\n",
    "display(KE2)\n",
    "display(lagrangian)"
   ]
  },
  {
   "cell_type": "code",
   "execution_count": null,
   "metadata": {},
   "outputs": [],
   "source": [
    "#set up the left and right hand sides of Euler-Lagrange EQs"
   ]
  }
 ],
 "metadata": {
  "colab": {
   "provenance": []
  },
  "kernelspec": {
   "display_name": "Python 3 (ipykernel)",
   "language": "python",
   "name": "python3"
  },
  "language_info": {
   "codemirror_mode": {
    "name": "ipython",
    "version": 3
   },
   "file_extension": ".py",
   "mimetype": "text/x-python",
   "name": "python",
   "nbconvert_exporter": "python",
   "pygments_lexer": "ipython3",
   "version": "3.10.7"
  }
 },
 "nbformat": 4,
 "nbformat_minor": 1
}
