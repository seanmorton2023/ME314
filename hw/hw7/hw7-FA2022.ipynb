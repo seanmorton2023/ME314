{
 "cells": [
  {
   "cell_type": "markdown",
   "metadata": {
    "id": "23kYoAh3Jvin"
   },
   "source": [
    "# ME314 Homework 7\n",
    "\n",
    "### Submission instructions\n",
    "\n",
    "Deliverables that should be included with your submission are shown in **bold** at the end of each problem statement and the corresponding supplemental material. **Your homework will be graded IFF you submit a single PDF, .mp4 videos of animations when requested and a link to a Google colab file that meet all the requirements outlined below.**\n",
    "\n",
    "- List the names of students you've collaborated with on this homework assignment.\n",
    "- Include all of your code (and handwritten solutions when applicable) used to complete the problems.\n",
    "- Highlight your answers (i.e. **bold** and outline the answers) for handwritten or markdown questions and include simplified code outputs (e.g. .simplify()) for python questions.\n",
    "- Enable Google Colab permission for viewing \n",
    " * Click Share in the upper right corner\n",
    " * Under \"Get Link\" click \"Share with...\" or \"Change\" \n",
    " * Then make sure it says \"Anyone with Link\" and \"Editor\" under the dropdown menu\n",
    "- Make sure all cells are run before submitting (i.e. check the permission by running your code in a private mode)\n",
    " * Please don't make changes to your file after submitting, so we can grade it!\n",
    "- Submit a link to your Google Colab file that has been run (before the submission deadline) and don't edit it afterwards!\n",
    "\n",
    "**NOTE:** This Jupyter Notebook file serves as a template for you to start homework. Make sure you first copy this template to your own Google driver (click \"File\" -> \"Save a copy in Drive\"), and then start to edit it."
   ]
  },
  {
   "cell_type": "code",
   "execution_count": 15,
   "metadata": {
    "id": "FH8Cv1USJxqN"
   },
   "outputs": [],
   "source": [
    "##############################################################################################\n",
    "# If you're using Google Colab, uncomment this section by selecting the whole section and press\n",
    "# ctrl+'/' on your and keyboard. Run it before you start programming, this will enable the nice \n",
    "# LaTeX \"display()\" function for you. If you're using the local Jupyter environment, leave it alone\n",
    "##############################################################################################\n",
    "import sympy as sym\n",
    "import numpy as np\n",
    "import time\n",
    "\n",
    "# def custom_latex_printer(exp,**options):\n",
    "#     from google.colab.output._publish import javascript\n",
    "#     url = \"https://cdnjs.cloudflare.com/ajax/libs/mathjax/3.1.1/latest.js?config=TeX-AMS_HTML\"\n",
    "#     javascript(url=url)\n",
    "#     return sym.printing.latex(exp,**options)\n",
    "# sym.init_printing(use_latex=\"mathjax\",latex_printer=custom_latex_printer)"
   ]
  },
  {
   "cell_type": "code",
   "execution_count": 2,
   "metadata": {
    "id": "lDGRDqmmKe1o"
   },
   "outputs": [
    {
     "name": "stdout",
     "output_type": "stream",
     "text": [
      "All assertions passed\n"
     ]
    }
   ],
   "source": [
    "#helper functions\n",
    "\n",
    "def SOnAndRnToSEn(R, p):\n",
    "       \n",
    "#     print('-----------------------')\n",
    "#     print(\"\\nSOnAndRn... Debug:\")\n",
    "#     print(\"\\nR:\")\n",
    "#     print(type(R))\n",
    "#     print(R)\n",
    "#     print(\"\\np:\")\n",
    "#     print(type(p))\n",
    "#     print(p)\n",
    "    \n",
    "    #do type checking for the matrix types\n",
    "    if type(R) == list:\n",
    "        R = np.matrix(R)\n",
    "        \n",
    "    n = R.shape[0]\n",
    "    if ((R.shape[0] != R.shape[1]) or                               #R is NP array or Sym matrix\n",
    "        ((type(p) is np.ndarray and max(p.shape) != R.shape[0]) or  #p is NP array and shape mismatch or.. \n",
    "          ((isinstance(p, list) or isinstance(p, sym.Matrix)) and \n",
    "            ( len(p) != R.shape[0] ))   )  ):                       #p is Sym matrix or \"list\" and shape mismatch\n",
    "        raise Exception(f\"Shape of R {R.shape} and p ({len(p)}) mismatch; exiting.\")\n",
    "        return None\n",
    "        \n",
    "    #construct a matrix based on returning a Sympy Matrix\n",
    "    if isinstance(R, sym.Matrix) or isinstance(p, sym.Matrix): \n",
    "        #realistically one of these needs to be symbolic to do this\n",
    "\n",
    "        if isinstance(R, np.ndarray) or isinstance(p, np.ndarray):\n",
    "            raise Exception(\"R and p cannot mix/match Sympy and Numpy types\")\n",
    "            return None\n",
    "        \n",
    "        G = sym.zeros(n+1)\n",
    "        G[:n, n] = sym.Matrix(p)\n",
    "    \n",
    "    #construct a matrix based on returning a Numpy matrix\n",
    "    elif isinstance(R, np.ndarray) or isinstance(R, list):\n",
    "        G = np.zeros([n+1, n+1])\n",
    "        # print(f\"\\nSOnAndRnToSEn Debug: \\n\\nR:\\n{R}    \\n\\np:\\n{p}   \")\n",
    "        G[:n, n] = np.array(p).T\n",
    "        \n",
    "    else:\n",
    "        raise Exception(\"Error: type not recognized\")\n",
    "        return None\n",
    "    \n",
    "    G[:n,:n] = R\n",
    "    G[-1,-1] = 1\n",
    "    return G  \n",
    "\n",
    "def SEnToSOnAndRn(SEnmat):\n",
    "    '''Decomposes a SE(n) vector into its rotation matrix and displacement components.\n",
    "    '''\n",
    "    if isinstance(SEnmat, list):\n",
    "        SEnmat = np.matrix(SEnmat)\n",
    "    n = SEnmat.shape[0]\n",
    "    return SEnmat[:(n-1), :(n-1)], SEnmat[:(n-1), n-1]\n",
    "\n",
    "#test cases\n",
    "\n",
    "#SO(2) and R2 - numpy\n",
    "mat1 = np.matrix([[1,2],[3,4]])\n",
    "p1 = [5,6]\n",
    "out = SOnAndRnToSEn(mat1, p1)\n",
    "assert np.array_equal(out,  np.matrix([[1,2,5],[3,4,6],[0,0,1]]) ), f\"{out}\"\n",
    "\n",
    "#SO(2) and R2 - sympy\n",
    "mat2 = sym.Matrix([[5,6],[7,8]])\n",
    "p2 = [9,0]\n",
    "out = SOnAndRnToSEn(mat2, p2)\n",
    "assert out - sym.Matrix([[5,6,9],[7,8,0],[0,0,1]]) == sym.zeros(3,3), f\"{out}\"\n",
    "\n",
    "#SO(3) and R3 - numpy \n",
    "mat3 = np.matrix([[1,2,3],[4,5,6],[7,8,9]])\n",
    "p3 = [1.1,2.2,3.3]\n",
    "out = SOnAndRnToSEn(mat3, p3)\n",
    "assert np.array_equal(out,  np.matrix([[1,2,3,1.1],[4,5,6,2.2],[7,8,9,3.3],[0,0,0,1]]) ), f\"{out}\"\n",
    "\n",
    "#SO(3) and R3 - sympy \n",
    "mat4 = sym.Matrix([[1,2,3],[4,5,6],[7,8,9]])\n",
    "p4 = [4.4,5.5,6.6]\n",
    "out = SOnAndRnToSEn(mat4, p4)\n",
    "diff = out - sym.Matrix([[1,2,3,4.4],[4,5,6,5.5],[7,8,9,6.6],[0,0,0,1]])\n",
    "assert diff == sym.zeros(4,4), f\"{out}\\n\\n{diff}\"\n",
    "\n",
    "#dimensional mismatch - check that it throws an error\n",
    "#SOnAndRnToSEn(mat2, p4)\n",
    "\n",
    "#type mismatch - check that it throws an error\n",
    "#SOnAndRnToSEn(mat2, sym.Matrix(p1))\n",
    "#SOnAndRnToSEn(mat1, np.matrix(p2))\n",
    "\n",
    "#SE(3)\n",
    "SE3mat = SOnAndRnToSEn(np.identity(3), [1,2,3])\n",
    "[SO3, R3] = SEnToSOnAndRn(SE3mat)\n",
    "assert np.array_equal(SO3, np.identity(3)) and np.array_equal(R3, [1,2,3]), f\"{SO3}\\n{R3}\"\n",
    "\n",
    "#SE(2)\n",
    "SE3mat = SOnAndRnToSEn(np.identity(2), [4,5])\n",
    "[SO2, R2] = SEnToSOnAndRn(SE3mat)\n",
    "assert np.array_equal(SO2, np.identity(2)) and np.array_equal(R2, [4,5]), f\"{SO2}\\n{R2}\"\n",
    "\n",
    "print(\"All assertions passed\")\n"
   ]
  },
  {
   "cell_type": "code",
   "execution_count": 3,
   "metadata": {},
   "outputs": [
    {
     "name": "stdout",
     "output_type": "stream",
     "text": [
      "\n",
      "Hat: \n",
      " [6, 5, 4] \n",
      "[[ 0 -4  5]\n",
      " [ 4  0 -6]\n",
      " [-5  6  0]]\n",
      "\n",
      "Unhat: \n",
      "[[0, -9, 8], [9, 0, -7], [-8, 7, 0]] \n",
      "[7 8 9]\n",
      "\n",
      "Symbolic unhat: \n",
      "Matrix([[0, -\\theta_1(t), 8], [\\theta_1(t), 0, -7], [-8, 7, 0]]) \n",
      "Matrix([[7], [8], [\\theta_1(t)]])\n",
      "\n",
      "TransInv: \n",
      "[[1, 2, 3, 4], [5, 6, 7, 8], [9, 10, 11, 12], [0, 0, 0, 1]] \n",
      "[[   1.    5.    9. -152.]\n",
      " [   2.    6.   10. -176.]\n",
      " [   3.    7.   11. -200.]\n",
      " [   0.    0.    0.    1.]]\n"
     ]
    }
   ],
   "source": [
    "def HatVector3(w):\n",
    "    '''Turns a vector in R3 to a skew-symmetric matrix in so(3). \n",
    "    Works with both Sympy and Numpy matrices.\n",
    "    '''   \n",
    "    #create different datatype representations based on type of w\n",
    "    if isinstance(w, list) or isinstance(w, np.ndarray) \\\n",
    "        or isinstance(w, np.matrix):\n",
    "        f = np.array \n",
    "    elif isinstance(w, sym.Matrix): #NP and Sym\n",
    "        f = sym.Matrix\n",
    "\n",
    "    return f([\n",
    "        [    0, -w[2],  w[1]],\n",
    "        [ w[2],     0, -w[0]],\n",
    "        [-w[1],  w[0],     0]\n",
    "    ])\n",
    "\n",
    "###\n",
    "\n",
    "def UnhatMatrix3(w_hat):\n",
    "    '''Turns a skew-symmetric matrix in so(3) into a vector in R3.\n",
    "    '''\n",
    "    if isinstance(w_hat, list) or isinstance(w_hat, np.ndarray) \\\n",
    "        or isinstance(w_hat, np.matrix):\n",
    "        f = np.array\n",
    "        w_hat = np.array(w_hat)\n",
    "    elif isinstance(w_hat, sym.Matrix) or isinstance(w_hat, sym.ImmutableMatrix):\n",
    "        f = sym.Matrix\n",
    "    else:\n",
    "        raise Exception(f\"UnhatMatrix3: Unexpected type of w_hat: {type(w_hat)}\")\n",
    "    \n",
    "    #matrix checking, for use in potential debug. generalized to both Sympy and Numpy\n",
    "    same = np.array([w_hat + w_hat.T == f([\n",
    "        [0, 0, 0],\n",
    "        [0, 0, 0],\n",
    "        [0, 0, 0]\n",
    "    ]\n",
    "    ) ] )\n",
    "    \n",
    "    if (not same.all()):\n",
    "        raise Exception(\"UnhatMatrix3: w_hat not skew_symmetric\")\n",
    "    \n",
    "    #NP and Sym\n",
    "    return f([\n",
    "        -w_hat[1,2],\n",
    "        w_hat[0,2],\n",
    "        -w_hat[0,1],\n",
    "    ])\n",
    "\n",
    "def InvSEn(SEnmat):\n",
    "    '''Takes the inverse of a SE(n) matrix.\n",
    "    Compatible with Numpy, Sympy, and list formats.\n",
    "    '''\n",
    "    if isinstance(SEnmat, list):\n",
    "        SEnmat = np.matrix(SEnmat)\n",
    "    ###\n",
    "    n = SEnmat.shape[0]\n",
    "    R = SEnmat[:(n-1), :(n-1)]\n",
    "    p = SEnmat[:(n-1),   n-1 ]\n",
    "        \n",
    "    return SOnAndRnToSEn(R.T, -R.T @ p)\n",
    "    \n",
    "###\n",
    "\n",
    "#testing\n",
    "\n",
    "t = sym.symbols(r't')\n",
    "theta1 = sym.Function(r'\\theta_1')(t)\n",
    "theta2 = sym.Function(r'\\theta_2')(t)\n",
    "x = sym.Function(r'x')(t)\n",
    "y = sym.Function(r'y')(t)\n",
    "\n",
    "\n",
    "w1 = [6,5,4]\n",
    "\n",
    "w_hat1 = [\n",
    "    [0, -9, 8],\n",
    "    [9, 0, -7],\n",
    "    [-8, 7, 0]\n",
    "]\n",
    "\n",
    "w_hat2 = [\n",
    "    [10, -9, 8],\n",
    "    [9, 0, -7],\n",
    "    [-8, 7, 0]\n",
    "]\n",
    "\n",
    "w_hat3 = sym.Matrix([\n",
    "    [0, -theta1, 8],\n",
    "    [theta1, 0, -7],\n",
    "    [-8, 7, 0]\n",
    "])\n",
    "\n",
    "T1 = [\n",
    "    [1,  2,  3,  4],\n",
    "    [5,  6,  7,  8],\n",
    "    [9, 10, 11, 12],\n",
    "    [0,  0,  0,  1]\n",
    "]\n",
    "\n",
    "print(f\"\\nHat: \\n {w1} \\n{HatVector3(w1)}\")\n",
    "print(f\"\\nUnhat: \\n{w_hat1} \\n{UnhatMatrix3(w_hat1)}\")\n",
    "#print(f\"\\nNon-Skew-symm unhat: \\n{w_hat2} \\n{UnhatMatrix3(w_hat2)}\")\n",
    "print(f\"\\nSymbolic unhat: \\n{w_hat3} \\n{UnhatMatrix3(w_hat3)}\")\n",
    "\n",
    "print(f\"\\nTransInv: \\n{T1} \\n{InvSEn(T1)}\")"
   ]
  },
  {
   "cell_type": "code",
   "execution_count": 4,
   "metadata": {},
   "outputs": [],
   "source": [
    "def InertiaMatrix6(m, scriptI):\n",
    "    '''Takes the mass and inertia matrix properties of an object in space,\n",
    "    and constructs a 6x6 matrix corresponding to [[mI 0]; [0 scriptI]].\n",
    "    Currently only written for Sympy matrix representations.\n",
    "    '''\n",
    "    if (m.is_Matrix or not scriptI.is_square):\n",
    "        raise Exception(\"Type error: m or scriptI in InertiaMatrix6\")\n",
    "        \n",
    "    mat = sym.zeros(6)\n",
    "    mI = m * sym.eye(3)\n",
    "    mat[:3, :3] = mI\n",
    "    mat[3:6, 3:6] = scriptI\n",
    "    return mat\n",
    "\n",
    "def HatVector6(vec):\n",
    "    '''Convert a 6-dimensional body velocity into a 4x4 \"hatted\" matrix,\n",
    "    [[w_hat v]; [0 0]], where w_hat is skew-symmetric.\n",
    "    w = \n",
    "    '''\n",
    "    if isinstance(vec, np.matrix) or isinstance(vec, np.ndarray):\n",
    "        vec = np.array(vec).flatten()\n",
    "    \n",
    "    v = vec[:3]\n",
    "    w = vec[3:6]\n",
    "    \n",
    "    #this ensures if there are symbolic variables, they stay in Sympy form\n",
    "    if isinstance(vec, sym.Matrix):\n",
    "        v = sym.Matrix(v)\n",
    "        w = sym.Matrix(w)\n",
    "        \n",
    "    w_hat = HatVector3(w)\n",
    "    \n",
    "    #note that the result isn't actually in SE(3) but \n",
    "    #that the function below creates a 4x4 matrix from a 3x3 and\n",
    "    #1x3 matrix - with type checking - so we'll use it\n",
    "    mat = SOnAndRnToSEn(w_hat, v)\n",
    "    return mat\n",
    "\n",
    "def UnhatMatrix4(mat):\n",
    "    '''Convert a 4x4 \"hatted\" matrix,[[w_hat v]; [0 0]], into a 6-dimensional\n",
    "    body velocity [v, w].\n",
    "    '''\n",
    "    #same as above - matrices aren't SE(3) and SO(3) but the function\n",
    "    #can take in a 4x4 mat and return a 3x3 and 3x1 mat\n",
    "    [w_hat, v] = SEnToSOnAndRn(mat)\n",
    "    w = UnhatMatrix3(w_hat)\n",
    "    \n",
    "    if (isinstance(w, np.matrix) or isinstance(w, np.ndarray)):\n",
    "        return np.array([v, w]).flatten()\n",
    "    elif isinstance(w, sym.Matrix):\n",
    "        return sym.Matrix([v, w])\n",
    "    else:\n",
    "        raise Exception(\"Unexpected datatype in UnhatMatrix4\")\n",
    "    \n",
    "### testing\n",
    "test1, test2, test3 = sym.symbols(r'test_1, test_2, test_3')\n",
    "vec1 = np.matrix([1,2,3,4,5,6])\n",
    "vec2 = sym.Matrix([test1, test2, test3, test1, test2, test3])\n",
    "vec3 = np.array([1, 2, 3, 4, 5, 6])\n",
    "\n",
    "#inertia matrix testing\n",
    "#---------------------------#\n",
    "\n",
    "#print(\"InertiaMatrix6 tests:\")\n",
    "\n",
    "##not currently configured to work\n",
    "## m1 = 4\n",
    "## scriptI1 = 7*np.eye(3)\n",
    "\n",
    "m2 = sym.symbols(r'test_m')\n",
    "scriptI2 = sym.symbols(r'test_J') * sym.eye(3)\n",
    "## print(InertiaMatrix6(m1, scriptI1))\n",
    "#display(InertiaMatrix6(m2, scriptI2))\n",
    "\n",
    "\n",
    "#---------------------------#\n",
    "\n",
    "mat1 = HatVector6(vec1)\n",
    "mat2 = HatVector6(vec2)\n",
    "mat3 = HatVector6(vec3)\n",
    "\n",
    "#print(\"HatVector6 tests:\")\n",
    "# print(type(mat1))\n",
    "# print(mat1, end='\\n\\n')\n",
    "\n",
    "# print(type(mat2))\n",
    "# display(mat2)\n",
    "\n",
    "# print(type(mat3))\n",
    "# print(mat3, end='\\n\\n')\n",
    "\n",
    "#---------------------------#\n",
    "\n",
    "vec4 = UnhatMatrix4(mat1)\n",
    "vec5 = UnhatMatrix4(mat2)\n",
    "vec6 = UnhatMatrix4(mat3)\n",
    "\n",
    "# print(\"UnhatMatrix4 tests:\")\n",
    "# print(type(vec4))\n",
    "# print(vec4, end='\\n\\n')\n",
    "\n",
    "# print(type(vec5))\n",
    "# display(vec5)\n",
    "\n",
    "# print(type(vec6))\n",
    "# print(vec6, end='\\n\\n')"
   ]
  },
  {
   "cell_type": "code",
   "execution_count": 5,
   "metadata": {},
   "outputs": [
    {
     "name": "stdout",
     "output_type": "stream",
     "text": [
      "\n",
      "V:\n"
     ]
    },
    {
     "data": {
      "text/latex": [
       "$\\displaystyle \\left[\\begin{matrix}- \\sin{\\left(\\theta_{2}{\\left(t \\right)} \\right)} \\frac{d}{d t} y{\\left(t \\right)} + \\cos{\\left(\\theta_{2}{\\left(t \\right)} \\right)} \\frac{d}{d t} x{\\left(t \\right)}\\\\\\sin{\\left(\\theta_{2}{\\left(t \\right)} \\right)} \\frac{d}{d t} x{\\left(t \\right)} + \\cos{\\left(\\theta_{2}{\\left(t \\right)} \\right)} \\frac{d}{d t} y{\\left(t \\right)}\\\\0\\\\0\\\\0\\\\- \\frac{d}{d t} \\theta_{2}{\\left(t \\right)}\\end{matrix}\\right]$"
      ],
      "text/plain": [
       "Matrix([\n",
       "[-sin(\\theta_2(t))*Derivative(y(t), t) + cos(\\theta_2(t))*Derivative(x(t), t)],\n",
       "[ sin(\\theta_2(t))*Derivative(x(t), t) + cos(\\theta_2(t))*Derivative(y(t), t)],\n",
       "[                                                                           0],\n",
       "[                                                                           0],\n",
       "[                                                                           0],\n",
       "[                                                 -Derivative(\\theta_2(t), t)]])"
      ]
     },
     "metadata": {},
     "output_type": "display_data"
    }
   ],
   "source": [
    "def CalculateVb6(G):\n",
    "    '''Calculate the body velocity, a 6D vector [v, w], given a trans-\n",
    "    formation matrix G from one frame to another.\n",
    "    '''\n",
    "    G_inv = InvSEn(G)\n",
    "    Gdot = G.diff(t) #for sympy matrices, this also carries out chain rule \n",
    "    V_hat = G_inv @ Gdot \n",
    "    \n",
    "    if isinstance(G, sym.Matrix):\n",
    "        V_hat = sym.simplify(V_hat)\n",
    "        \n",
    "    return UnhatMatrix4(V_hat)\n",
    "\n",
    "#testing\n",
    "R = sym.Matrix([\n",
    "    [sym.cos(-theta2), -sym.sin(-theta2), 0],\n",
    "    [sym.sin(-theta2),  sym.cos(-theta2), 0],\n",
    "    [              0,                0,   1]\n",
    "\n",
    "])\n",
    "\n",
    "G = SOnAndRnToSEn(R, [x,y,0])\n",
    "V = CalculateVb6(G)\n",
    "print(\"\\nV:\")\n",
    "display(V)\n",
    "\n",
    "#"
   ]
  },
  {
   "cell_type": "code",
   "execution_count": 6,
   "metadata": {},
   "outputs": [],
   "source": [
    "def compute_EL_lhs(lagrangian, q):\n",
    "    '''\n",
    "    Helper function for computing the Euler-Lagrange equations for a given system,\n",
    "    so I don't have to keep writing it out over and over again.\n",
    "    \n",
    "    Inputs:\n",
    "    - lagrangian: our Lagrangian function in symbolic (Sympy) form\n",
    "    - q: our state vector [x1, x2, ...], in symbolic (Sympy) form\n",
    "    \n",
    "    Outputs:\n",
    "    - eqn: the Euler-Lagrange equations in Sympy form\n",
    "    '''\n",
    "    \n",
    "    # wrap system states into one vector (in SymPy would be Matrix)\n",
    "    #q = sym.Matrix([x1, x2])\n",
    "    qd = q.diff(t)\n",
    "    qdd = qd.diff(t)\n",
    "\n",
    "    # compute derivative wrt a vector, method 1\n",
    "    # wrap the expression into a SymPy Matrix\n",
    "    L_mat = sym.Matrix([lagrangian])\n",
    "    dL_dq = L_mat.jacobian(q)\n",
    "    dL_dqdot = L_mat.jacobian(qd)\n",
    "\n",
    "    #set up the Euler-Lagrange equations\n",
    "    LHS = dL_dq - dL_dqdot.diff(t)\n",
    "#     RHS = sym.zeros(1, len(q))\n",
    "#     eqn = sym.Eq(LHS.T, RHS.T)\n",
    "    \n",
    "    return LHS.T\n",
    "\n",
    "def solve_EL(eqn, var):\n",
    "    '''\n",
    "    Helper function to solve and display the solution for the Euler-Lagrange\n",
    "    equations.\n",
    "    \n",
    "    Inputs:\n",
    "    - eqn: Euler-Lagrange equation (type: Sympy Equation())\n",
    "    - var: state vector (type: Sympy Matrix). typically a form of q-doubledot\n",
    "        but may have different terms\n",
    "    \n",
    "    Outputs:\n",
    "    - Prints symbolic solutions\n",
    "    - Returns symbolic solutions in a dictionary\n",
    "    '''\n",
    "    \n",
    "    soln = sym.solve(eqn, var, dict = True, rational = False, simplify = False)\n",
    "    #soln = sym.solve_poly_system(eqn, var)\n",
    "    eqns_solved = []\n",
    "    print(\"Solve_EL: solved.\")\n",
    "    \n",
    "    for i, sol in enumerate(soln):\n",
    "        for x in list(sol.keys()):\n",
    "            eqn_solved = sym.Eq(x, sol[x])\n",
    "            eqns_solved.append(eqn_solved)\n",
    "            \n",
    "    return eqns_solved\n",
    "\n",
    "def solve_EL_hw7(lamb_list, phi_list, F_mat, q, lhs, subs_dict):\n",
    "    \"\"\"This version of the Euler-Lagrange equations uses both constraints \n",
    "    and external forcing terms.\n",
    "    \n",
    "    Inputs:\n",
    "    - lamb_list: a list of symbolic variables lambda1, lambda2, ...\n",
    "    - phi_list: a list of constraint equations phi1, phi2, ...\n",
    "        - must be the same length as list of lambda variables\n",
    "    - F_mat: a *Sympy Matrix* of forcing terms. Needs to be the same \n",
    "        dimension in the vertical direction as the LHS of the Euler-Lagrange EQs\n",
    "    - lhs: the left-hand side of the Euler-Lagrange EQs, passed in from compute_EL()\n",
    "    - q: the state vector, in Sympy Matrix form\n",
    "    - subs_dict: substitutions from symbolic variables to numeric values\n",
    "    \"\"\"\n",
    "    \n",
    "    qd = q.diff(t)\n",
    "    qdd = qd.diff(t)\n",
    "    expr_matrix = lhs - F_mat\n",
    "    phidd_matrix = sym.Matrix([0])\n",
    "    phidd_list = []\n",
    "    \n",
    "    #add constraint terms to matrix of expressions to solve\n",
    "    for i in range(len(phi_list)):\n",
    "        phi = phi_list[i]\n",
    "        lamb = lamb_list[i]\n",
    "        \n",
    "        phidd = phi.diff(t).diff(t)\n",
    "        lamb_grad = sym.Matrix([lamb * phi.diff(a) for a in q])\n",
    "        qdd = qdd.row_insert(len(qdd), sym.Matrix([lamb]) )\n",
    "    \n",
    "        #format equations so they're all in one matrix\n",
    "        expr_matrix = expr_matrix - lamb_grad\n",
    "        phidd_list.append(sym.Matrix([phidd])  )\n",
    "\n",
    "    for phidd_matrix in phidd_list:\n",
    "        expr_matrix = expr_matrix.row_insert(len(expr_matrix), phidd_matrix)\n",
    "        \n",
    "    ###------FOR HW7 ONLY:--------#\n",
    "    L = sym.symbols(r'L')\n",
    "    theta1dd = theta1.diff(t).diff(t)\n",
    "#    expr_matrix = expr_matrix.subs({L1:L, L2:L})\n",
    "#     expr_matrix = sym.collect(expr_matrix, theta1dd)\n",
    "    \n",
    "    subs_dict = {\n",
    "        L1: 1,\n",
    "        L2: 1,\n",
    "        m:  1,\n",
    "        g:  9.8,\n",
    "        J:  1,\n",
    "        k1: 20\n",
    "    }\n",
    "    \n",
    "    expr_matrix = expr_matrix.subs(subs_dict)\n",
    "    \n",
    "    print(\"Equations to be solved (LHS - lambda * grad(phi) = 0):\")\n",
    "    RHS = sym.zeros(len(expr_matrix), 1)\n",
    "    disp_eq = sym.Eq(expr_matrix, RHS)\n",
    "    display(disp_eq)\n",
    "    print(\"Variables to solve for:\")\n",
    "    display(qdd)\n",
    "\n",
    "    #solve E-L equations\n",
    "    eqns_solved = solve_EL(expr_matrix, qdd)\n",
    "    return eqns_solved\n"
   ]
  },
  {
   "cell_type": "code",
   "execution_count": 7,
   "metadata": {},
   "outputs": [],
   "source": [
    "def rk4(dxdt, x, t, dt):\n",
    "    '''\n",
    "    Applies the Runge-Kutta method, 4th order, to a sample function,\n",
    "    for a given state q0, for a given step size. Currently only\n",
    "    configured for a 2-variable dependent system (x,y).\n",
    "    ==========\n",
    "    dxdt: a Sympy function that specifies the derivative of the system of interest\n",
    "    t: the current timestep of the simulation\n",
    "    x: current value of the state vector\n",
    "    dt: the amount to increment by for Runge-Kutta\n",
    "    ======\n",
    "    returns:\n",
    "    x_new: value of the state vector at the next timestep\n",
    "    '''      \n",
    "    k1 = dt * dxdt(t, x)\n",
    "    k2 = dt * dxdt(t + dt/2.0, x + k1/2.0)\n",
    "    k3 = dt * dxdt(t + dt/2.0, x + k2/2.0)\n",
    "    k4 = dt * dxdt(t + dt, x + k3)\n",
    "    x_new = x + (k1 + 2.0*k2 + 2.0*k3 + k4)/6.0\n",
    "    \n",
    "    return x_new\n",
    "\n",
    "\n",
    "def simulate(f, x0, tspan, dt, integrate):\n",
    "    \"\"\"\n",
    "    This function takes in an initial condition x0, a timestep dt,\n",
    "    a time span tspan consisting of a list [min_time, max_time],\n",
    "    as well as a dynamical system f(x) that outputs a vector of the\n",
    "    same dimension as x0. It outputs a full trajectory simulated\n",
    "    over the time span of dimensions (xvec_size, time_vec_size).\n",
    "    \n",
    "    Parameters\n",
    "    ============\n",
    "    f: Python function\n",
    "        derivate of the system at a given step x(t), \n",
    "        it can considered as \\dot{x}(t) = func(x(t))\n",
    "    x0: NumPy array\n",
    "        initial conditions\n",
    "    tspan: Python list\n",
    "        tspan = [min_time, max_time], it defines the start and end\n",
    "        time of simulation\n",
    "    dt:\n",
    "        time step for numerical integration\n",
    "    integrate: Python function\n",
    "        numerical integration method used in this simulation\n",
    "\n",
    "    Return\n",
    "    ============\n",
    "    x_traj:\n",
    "        simulated trajectory of x(t) from t=0 to tf\n",
    "    \"\"\"\n",
    "    N = int((max(tspan)-min(tspan))/dt)\n",
    "    x = np.copy(x0)\n",
    "    tvec = np.linspace(min(tspan),max(tspan),N)\n",
    "    xtraj = np.zeros((len(x0),N))\n",
    "    \n",
    "    for i in range(N):\n",
    "        t = tvec[i]\n",
    "        xtraj[:,i]=integrate(f,x,t,dt)\n",
    "        x = np.copy(xtraj[:,i])\n",
    "    return xtraj \n",
    "      "
   ]
  },
  {
   "cell_type": "markdown",
   "metadata": {
    "id": "W8ojINipKFfh"
   },
   "source": [
    "## Problem 1 (20pts)\n",
    "\n",
    "Show that if $R\\in SO(n)$, then the matrix $A=\\frac{d}{dt}(R)R^{-1}$ is skew symmetric.\n",
    "    \n",
    "**Turn in: A scanned (or photograph from your phone or webcam) copy of your hand written solution. Or you can use \\LaTeX.**"
   ]
  },
  {
   "cell_type": "code",
   "execution_count": null,
   "metadata": {
    "id": "YP3SS77PKGGZ"
   },
   "outputs": [],
   "source": []
  },
  {
   "cell_type": "markdown",
   "metadata": {
    "id": "JhKePBV-KG8T"
   },
   "source": [
    "## Problem 2 (20pts)\n",
    "\n",
    "Show that $\\underline{\\widehat{\\omega}}\\,\\underline{r}_b= -\\underline{\\widehat{r}}_b\\, \\underline{\\omega}$. \n",
    "    \n",
    "**Turn in: A scanned (or photograph from your phone or webcam) copy of your hand written solution. Or you can use \\LaTeX.**"
   ]
  },
  {
   "cell_type": "code",
   "execution_count": null,
   "metadata": {},
   "outputs": [],
   "source": []
  },
  {
   "cell_type": "code",
   "execution_count": 8,
   "metadata": {
    "colab": {
     "base_uri": "https://localhost:8080/",
     "height": 377
    },
    "executionInfo": {
     "elapsed": 232,
     "status": "ok",
     "timestamp": 1652642379327,
     "user": {
      "displayName": "Joel Meyer",
      "userId": "03002831383364556541"
     },
     "user_tz": 300
    },
    "id": "tMnFPtxOKWzL",
    "outputId": "148c8e6f-06fb-48f4-ec9b-4f3a662ffafc"
   },
   "outputs": [
    {
     "data": {
      "text/html": [
       "<table><tr><td><img src='https://github.com/MuchenSun/ME314pngs/raw/master/biped_simplified.jpg' width=600' height='350'></table>"
      ],
      "text/plain": [
       "<IPython.core.display.HTML object>"
      ]
     },
     "metadata": {},
     "output_type": "display_data"
    }
   ],
   "source": [
    "from IPython.core.display import HTML\n",
    "display(HTML(\"<table><tr><td><img src='https://github.com/MuchenSun/ME314pngs/raw/master/biped_simplified.jpg' width=600' height='350'></table>\"))"
   ]
  },
  {
   "cell_type": "markdown",
   "metadata": {
    "id": "fqM9lN2TKOdP"
   },
   "source": [
    "## Problem 3 (60pts)\n",
    "\n",
    "Consider a person doing the splits (shown in the image above). To simplify the model, we ignore the upper body and assume the knees can not bend --- which means we only need four variables $q=[x, y, \\theta_1, \\theta_2]$ to configure the system. $x$ and $y$ are the position of the intersection point of the two legs, $\\theta_1$ and $\\theta_2$ are the angles between the legs and the green vertical dash line. The feet are constrained on the ground, and there is no friction between the feet and the ground. \n",
    "    \n",
    "Each leg is a rigid body with length $L=1$, width $W=0.2$, mass $m=1$, and rotational inertia $J=1$ (assuming the center of mass is at the center of geometry). Moreover, there are two torques applied on $\\theta_1$ and $\\theta_2$ to control the legs to track a desired trajectory:\n",
    "$$\n",
    "\\begin{aligned}\n",
    "\\theta_1^d(t) & = \\frac{\\pi}{15} + \\frac{\\pi}{3} \\sin^2(\\frac{t}{2}) \\\\\n",
    "\\theta_2^d(t) & =-\\frac{\\pi}{15} - \\frac{\\pi}{3} \\sin^2(\\frac{t}{2})\n",
    "\\end{aligned}\n",
    "$$ and the torques are:\n",
    "$$\n",
    "\\begin{aligned}\n",
    "F_{\\theta_1 }& = -k_1(\\theta_1-\\theta_1^d)\\\\\n",
    "F_{\\theta_2} & = -k_1(\\theta_2-\\theta_2^d)\n",
    "\\end{aligned}\n",
    "$$ In this problem we use $k_1=20$. \n",
    "\n",
    "Given the model description above, define the frames that you need (several example frames are shown in the image as well), simulate the motion of the biped from rest for $t\\in[0,10], dt=0.01$, with initial condition $q=[0, L_1\\cos(\\frac{\\pi}{15}), \\frac{\\pi}{15}, -\\frac{\\pi}{15}]$. You will need to modify the animation function to display the leg as a rectangle, an example of the animation can be found at [https://youtu.be/w8XHYrEoWTc](https://youtu.be/w8XHYrEoWTc). \n",
    "\n",
    "*Hint 1: Even though this is a 2D system, in order to compute kinetic energy from both translation and rotation you will need to model the system in the 3D world --- the $z$ coordinate is always zero and the rotation is around the $z$ axis (based on these facts, what should the SE(3) matrix and rotational inertia tensor look like?). This also means you need to represent transformations in  SE(3) and the body velocity $\\mathcal{V}_b\\in\\mathbb{R}^6$.*\n",
    "\n",
    "*Hint 2: It could be helpful to define several helper functions for all the matrix operations you will need to use. For example, a function that returns SE(3) matrices given a rotation angle and 2D translation vector, functions for ''hat'' and ''unhat'' operations, a function for the matrix inverse of SE(3) (which is definitely not the same as the SymPy matrix inverse function), and a function that returns the time derivative of SO(3) or SE(3).*\n",
    "\n",
    "*Hint 3: In this problem the external force depends on time $t$. Therefore, in order to solve for the symbolic solution you need to substitute your configuration variables, which are defined as symbolic functions of time $t$ (such as $\\theta_1(t)$ and $\\frac{d}{dt}\\theta_1(t)$), with dummy symbolic variables. For the same reason (the dynamics now explicitly depend on time), you will need to do some tiny modifications on the ''integrate'' and ''simulate'' functions, a good reference can be found at [https://en.wikipedia.org/wiki/Runge-Kutta_methods](https://en.wikipedia.org/wiki/Runge-Kutta_methods).*\n",
    "\n",
    "*Hint 4: Symbolically solving this system should be fast, but if you encountered some problem when solving the dynamics symbolically, an alternative method is to solve the system numerically --- substitute in the system state at each time step during simulation and solve for the numerical solution --- but based on my experience, this would cost more than one hour for 500 time steps, so it's not recommended.*\n",
    "\n",
    "*Hint 5: The animation of this problem is similar to the one in last homework --- the coordinates of the vertices in the body frame are constant, you just need to transfer them back to the world frame using the the transformation matrices you already have in the simulation.*\n",
    "\n",
    "*Hint 6: Be careful to consider the relationship between the frames and to not build in any implicit assumptions (such as assuming some variables are fixed).*\n",
    "\n",
    "*Hint 7: The rotation, by convention, is assumed to follow the right hand rule, which means the z-axis is out of the screen and the positive rotation orientation is counter-clockwise. Make sure you follow a consistent set of positive directions for all the computation.*\n",
    "\n",
    "*Hint 8: This problem is designed as a ''mini-project'', it could help you estimate the complexity of your final project, and you could adjust your proposal based on your experience with this problem.*\n",
    "\n",
    "**Turn in: A copy of the code used to simulate and animate the system. Also, include a plot of the trajectory and upload a video of the animation separately through Canvas. The video should be in \".mp4\" format, you can use screen capture or record the screen directly with your phone.**"
   ]
  },
  {
   "cell_type": "code",
   "execution_count": 9,
   "metadata": {
    "id": "Zf9rci7IKPIR"
   },
   "outputs": [],
   "source": [
    "## Your code goes here"
   ]
  },
  {
   "cell_type": "code",
   "execution_count": 30,
   "metadata": {},
   "outputs": [
    {
     "name": "stdout",
     "output_type": "stream",
     "text": [
      "bottom1 (bar):\n"
     ]
    },
    {
     "data": {
      "text/latex": [
       "$\\displaystyle \\left[\\begin{matrix}L_{1} \\sin{\\left(\\theta_{1}{\\left(t \\right)} \\right)} + x{\\left(t \\right)}\\\\- L_{1} \\cos{\\left(\\theta_{1}{\\left(t \\right)} \\right)} + y{\\left(t \\right)}\\\\0\\\\1\\end{matrix}\\right]$"
      ],
      "text/plain": [
       "Matrix([\n",
       "[ L_1*sin(\\theta_1(t)) + x(t)],\n",
       "[-L_1*cos(\\theta_1(t)) + y(t)],\n",
       "[                           0],\n",
       "[                           1]])"
      ]
     },
     "metadata": {},
     "output_type": "display_data"
    },
    {
     "name": "stdout",
     "output_type": "stream",
     "text": [
      "bottom2 (bar):\n"
     ]
    },
    {
     "data": {
      "text/latex": [
       "$\\displaystyle \\left[\\begin{matrix}- L_{2} \\sin{\\left(\\theta_{2}{\\left(t \\right)} \\right)} + x{\\left(t \\right)}\\\\- L_{2} \\cos{\\left(\\theta_{2}{\\left(t \\right)} \\right)} + y{\\left(t \\right)}\\\\0\\\\1\\end{matrix}\\right]$"
      ],
      "text/plain": [
       "Matrix([\n",
       "[-L_2*sin(\\theta_2(t)) + x(t)],\n",
       "[-L_2*cos(\\theta_2(t)) + y(t)],\n",
       "[                           0],\n",
       "[                           1]])"
      ]
     },
     "metadata": {},
     "output_type": "display_data"
    },
    {
     "name": "stdout",
     "output_type": "stream",
     "text": [
      "Gsd:\n"
     ]
    },
    {
     "data": {
      "text/latex": [
       "$\\displaystyle \\left[\\begin{matrix}\\cos{\\left(\\theta_{1}{\\left(t \\right)} \\right)} & - \\sin{\\left(\\theta_{1}{\\left(t \\right)} \\right)} & 0 & L_{1} \\sin{\\left(\\theta_{1}{\\left(t \\right)} \\right)} + x{\\left(t \\right)}\\\\\\sin{\\left(\\theta_{1}{\\left(t \\right)} \\right)} & \\cos{\\left(\\theta_{1}{\\left(t \\right)} \\right)} & 0 & - L_{1} \\cos{\\left(\\theta_{1}{\\left(t \\right)} \\right)} + y{\\left(t \\right)}\\\\0 & 0 & 1 & 0\\\\0 & 0 & 0 & 1\\end{matrix}\\right]$"
      ],
      "text/plain": [
       "Matrix([\n",
       "[cos(\\theta_1(t)), -sin(\\theta_1(t)), 0,  L_1*sin(\\theta_1(t)) + x(t)],\n",
       "[sin(\\theta_1(t)),  cos(\\theta_1(t)), 0, -L_1*cos(\\theta_1(t)) + y(t)],\n",
       "[               0,                 0, 1,                            0],\n",
       "[               0,                 0, 0,                            1]])"
      ]
     },
     "metadata": {},
     "output_type": "display_data"
    },
    {
     "name": "stdout",
     "output_type": "stream",
     "text": [
      "Gds:\n"
     ]
    },
    {
     "data": {
      "text/latex": [
       "$\\displaystyle \\left[\\begin{matrix}\\cos{\\left(\\theta_{1}{\\left(t \\right)} \\right)} & \\sin{\\left(\\theta_{1}{\\left(t \\right)} \\right)} & 0 & - \\left(L_{1} \\sin{\\left(\\theta_{1}{\\left(t \\right)} \\right)} + x{\\left(t \\right)}\\right) \\cos{\\left(\\theta_{1}{\\left(t \\right)} \\right)} - \\left(- L_{1} \\cos{\\left(\\theta_{1}{\\left(t \\right)} \\right)} + y{\\left(t \\right)}\\right) \\sin{\\left(\\theta_{1}{\\left(t \\right)} \\right)}\\\\- \\sin{\\left(\\theta_{1}{\\left(t \\right)} \\right)} & \\cos{\\left(\\theta_{1}{\\left(t \\right)} \\right)} & 0 & \\left(L_{1} \\sin{\\left(\\theta_{1}{\\left(t \\right)} \\right)} + x{\\left(t \\right)}\\right) \\sin{\\left(\\theta_{1}{\\left(t \\right)} \\right)} - \\left(- L_{1} \\cos{\\left(\\theta_{1}{\\left(t \\right)} \\right)} + y{\\left(t \\right)}\\right) \\cos{\\left(\\theta_{1}{\\left(t \\right)} \\right)}\\\\0 & 0 & 1 & 0\\\\0 & 0 & 0 & 1\\end{matrix}\\right]$"
      ],
      "text/plain": [
       "Matrix([\n",
       "[ cos(\\theta_1(t)), sin(\\theta_1(t)), 0, -(L_1*sin(\\theta_1(t)) + x(t))*cos(\\theta_1(t)) - (-L_1*cos(\\theta_1(t)) + y(t))*sin(\\theta_1(t))],\n",
       "[-sin(\\theta_1(t)), cos(\\theta_1(t)), 0,  (L_1*sin(\\theta_1(t)) + x(t))*sin(\\theta_1(t)) - (-L_1*cos(\\theta_1(t)) + y(t))*cos(\\theta_1(t))],\n",
       "[                0,                0, 1,                                                                                                 0],\n",
       "[                0,                0, 0,                                                                                                 1]])"
      ]
     },
     "metadata": {},
     "output_type": "display_data"
    }
   ],
   "source": [
    "#define variables\n",
    "L1, L2, m, J, W, g = sym.symbols(r'L_1, L_2, m, J, W, g')\n",
    "t = sym.symbols(r't')\n",
    "x = sym.Function(r'x')(t)\n",
    "y = sym.Function(r'y')(t)\n",
    "theta1 = sym.Function(r'\\theta_1')(t)\n",
    "theta2 = sym.Function(r'\\theta_2')(t)\n",
    "\n",
    "q = sym.Matrix([x, y, theta1, theta2])\n",
    "qd = q.diff(t)\n",
    "qdd = qd.diff(t)\n",
    "\n",
    "#not included: xd, yd, ..., q_ext\n",
    "\n",
    "#define transformation matrices. let A1 be in the direction of \n",
    "#the right leg and A2 be in the direction of the left leg\n",
    "\n",
    "#------right leg------#\n",
    "Raa1 = sym.Matrix([\n",
    "    [sym.cos(theta1), -sym.sin(theta1), 0],\n",
    "    [sym.sin(theta1),  sym.cos(theta1), 0],\n",
    "    [              0,                0, 1]\n",
    "])\n",
    "\n",
    "Rdf = sym.Matrix([\n",
    "    [sym.cos(-theta1), -sym.sin(-theta1), 0],\n",
    "    [sym.sin(-theta1),  sym.cos(-theta1), 0],\n",
    "    [              0,                0,   1]\n",
    "])\n",
    "\n",
    "p_a1b = sym.Matrix([0, -L1/2, 0])\n",
    "p_bd =  sym.Matrix([0, -L1/2, 0])\n",
    "\n",
    "Gaa1 = SOnAndRnToSEn(Raa1, [0,0,0]) \n",
    "Ga1b = SOnAndRnToSEn(sym.eye(3), p_a1b)\n",
    "Gbd  = SOnAndRnToSEn(sym.eye(3),  p_bd) \n",
    "Gdf  = SOnAndRnToSEn(Rdf,  [0,0,0]) \n",
    "\n",
    "#------left leg------#\n",
    "\n",
    "Raa2 = sym.Matrix([\n",
    "    [sym.cos(-theta2), -sym.sin(-theta2), 0],\n",
    "    [sym.sin(-theta2),  sym.cos(-theta2), 0],\n",
    "    [              0,                0,   1]\n",
    "\n",
    "])\n",
    "\n",
    "Reg = sym.Matrix([\n",
    "    [sym.cos(theta2), -sym.sin(theta2), 0],\n",
    "    [sym.sin(theta2),  sym.cos(theta2), 0],\n",
    "    [              0,                0, 1]\n",
    "])\n",
    "\n",
    "p_a2c = sym.Matrix([0, -L2/2, 0])\n",
    "p_ce =  sym.Matrix([0, -L2/2, 0])\n",
    "\n",
    "Gaa2 = SOnAndRnToSEn(Raa2, [0,0,0])\n",
    "Ga2c = SOnAndRnToSEn(sym.eye(3), p_a2c)\n",
    "Gce  = SOnAndRnToSEn(sym.eye(3), p_ce)\n",
    "Geg  = SOnAndRnToSEn(Reg, [0,0,0])\n",
    "\n",
    "#---------------------#\n",
    "\n",
    "#combine transformation matrices\n",
    "Gsa = SOnAndRnToSEn(sym.eye(3),sym.Matrix([x,y,0]))\n",
    "Gsb = Gsa @ Gaa1 @ Ga1b\n",
    "Gsc = Gsa @ Gaa2 @ Ga2c\n",
    "Gsd = Gsb @ Gbd\n",
    "Gse = Gsc @ Gce\n",
    "Gsf = Gsd @ Gdf\n",
    "Gsg = Gse @ Geg\n",
    "\n",
    "#define important positions in space\n",
    "posn_CM2 = Gsc @ sym.Matrix([0,0,0,1]) #\"bar\" version of 3D posn\n",
    "posn_CM1 = Gsb @ sym.Matrix([0,0,0,1])\n",
    "\n",
    "bottom2 = Gsg @ sym.Matrix([0,0,0,1])\n",
    "bottom1 = Gsf @ sym.Matrix([0,0,0,1])\n",
    "\n",
    "print(\"bottom1 (bar):\")\n",
    "display(bottom1)\n",
    "print(\"bottom2 (bar):\")\n",
    "display(bottom2)\n",
    "\n",
    "print(\"Gsd:\")\n",
    "display(Gsd)\n",
    "print(\"Gds:\")\n",
    "display(InvSEn(Gsd))"
   ]
  },
  {
   "cell_type": "code",
   "execution_count": 31,
   "metadata": {},
   "outputs": [
    {
     "name": "stdout",
     "output_type": "stream",
     "text": [
      "\n",
      "Vsb:\n"
     ]
    },
    {
     "data": {
      "text/latex": [
       "$\\displaystyle \\left[\\begin{matrix}\\frac{L_{1} \\frac{d}{d t} \\theta_{1}{\\left(t \\right)}}{2} + \\sin{\\left(\\theta_{1}{\\left(t \\right)} \\right)} \\frac{d}{d t} y{\\left(t \\right)} + \\cos{\\left(\\theta_{1}{\\left(t \\right)} \\right)} \\frac{d}{d t} x{\\left(t \\right)}\\\\- \\sin{\\left(\\theta_{1}{\\left(t \\right)} \\right)} \\frac{d}{d t} x{\\left(t \\right)} + \\cos{\\left(\\theta_{1}{\\left(t \\right)} \\right)} \\frac{d}{d t} y{\\left(t \\right)}\\\\0\\\\0\\\\0\\\\\\frac{d}{d t} \\theta_{1}{\\left(t \\right)}\\end{matrix}\\right]$"
      ],
      "text/plain": [
       "Matrix([\n",
       "[L_1*Derivative(\\theta_1(t), t)/2 + sin(\\theta_1(t))*Derivative(y(t), t) + cos(\\theta_1(t))*Derivative(x(t), t)],\n",
       "[                                  -sin(\\theta_1(t))*Derivative(x(t), t) + cos(\\theta_1(t))*Derivative(y(t), t)],\n",
       "[                                                                                                             0],\n",
       "[                                                                                                             0],\n",
       "[                                                                                                             0],\n",
       "[                                                                                    Derivative(\\theta_1(t), t)]])"
      ]
     },
     "metadata": {},
     "output_type": "display_data"
    },
    {
     "name": "stdout",
     "output_type": "stream",
     "text": [
      "\n",
      "Vsc:\n"
     ]
    },
    {
     "data": {
      "text/latex": [
       "$\\displaystyle \\left[\\begin{matrix}- \\frac{L_{2} \\frac{d}{d t} \\theta_{2}{\\left(t \\right)}}{2} - \\sin{\\left(\\theta_{2}{\\left(t \\right)} \\right)} \\frac{d}{d t} y{\\left(t \\right)} + \\cos{\\left(\\theta_{2}{\\left(t \\right)} \\right)} \\frac{d}{d t} x{\\left(t \\right)}\\\\\\sin{\\left(\\theta_{2}{\\left(t \\right)} \\right)} \\frac{d}{d t} x{\\left(t \\right)} + \\cos{\\left(\\theta_{2}{\\left(t \\right)} \\right)} \\frac{d}{d t} y{\\left(t \\right)}\\\\0\\\\0\\\\0\\\\- \\frac{d}{d t} \\theta_{2}{\\left(t \\right)}\\end{matrix}\\right]$"
      ],
      "text/plain": [
       "Matrix([\n",
       "[-L_2*Derivative(\\theta_2(t), t)/2 - sin(\\theta_2(t))*Derivative(y(t), t) + cos(\\theta_2(t))*Derivative(x(t), t)],\n",
       "[                                    sin(\\theta_2(t))*Derivative(x(t), t) + cos(\\theta_2(t))*Derivative(y(t), t)],\n",
       "[                                                                                                              0],\n",
       "[                                                                                                              0],\n",
       "[                                                                                                              0],\n",
       "[                                                                                    -Derivative(\\theta_2(t), t)]])"
      ]
     },
     "metadata": {},
     "output_type": "display_data"
    },
    {
     "name": "stdout",
     "output_type": "stream",
     "text": [
      "\n",
      "Lagrangian:\n"
     ]
    },
    {
     "data": {
      "text/latex": [
       "$\\displaystyle 0.5 J \\left(\\frac{d}{d t} \\theta_{1}{\\left(t \\right)}\\right)^{2} + 0.5 J \\left(\\frac{d}{d t} \\theta_{2}{\\left(t \\right)}\\right)^{2} + 0.125 L_{1}^{2} m \\left(\\frac{d}{d t} \\theta_{1}{\\left(t \\right)}\\right)^{2} + 0.5 L_{1} m \\sin{\\left(\\theta_{1}{\\left(t \\right)} \\right)} \\frac{d}{d t} \\theta_{1}{\\left(t \\right)} \\frac{d}{d t} y{\\left(t \\right)} + 0.5 L_{1} m \\cos{\\left(\\theta_{1}{\\left(t \\right)} \\right)} \\frac{d}{d t} \\theta_{1}{\\left(t \\right)} \\frac{d}{d t} x{\\left(t \\right)} + 0.125 L_{2}^{2} m \\left(\\frac{d}{d t} \\theta_{2}{\\left(t \\right)}\\right)^{2} + 0.5 L_{2} m \\sin{\\left(\\theta_{2}{\\left(t \\right)} \\right)} \\frac{d}{d t} \\theta_{2}{\\left(t \\right)} \\frac{d}{d t} y{\\left(t \\right)} - 0.5 L_{2} m \\cos{\\left(\\theta_{2}{\\left(t \\right)} \\right)} \\frac{d}{d t} \\theta_{2}{\\left(t \\right)} \\frac{d}{d t} x{\\left(t \\right)} - g m \\left(- \\frac{L_{1} \\cos{\\left(\\theta_{1}{\\left(t \\right)} \\right)}}{2} - \\frac{L_{2} \\cos{\\left(\\theta_{2}{\\left(t \\right)} \\right)}}{2} + 2 y{\\left(t \\right)}\\right) + 1.0 m \\left(\\frac{d}{d t} x{\\left(t \\right)}\\right)^{2} + 1.0 m \\left(\\frac{d}{d t} y{\\left(t \\right)}\\right)^{2}$"
      ],
      "text/plain": [
       "0.5*J*Derivative(\\theta_1(t), t)**2 + 0.5*J*Derivative(\\theta_2(t), t)**2 + 0.125*L_1**2*m*Derivative(\\theta_1(t), t)**2 + 0.5*L_1*m*sin(\\theta_1(t))*Derivative(\\theta_1(t), t)*Derivative(y(t), t) + 0.5*L_1*m*cos(\\theta_1(t))*Derivative(\\theta_1(t), t)*Derivative(x(t), t) + 0.125*L_2**2*m*Derivative(\\theta_2(t), t)**2 + 0.5*L_2*m*sin(\\theta_2(t))*Derivative(\\theta_2(t), t)*Derivative(y(t), t) - 0.5*L_2*m*cos(\\theta_2(t))*Derivative(\\theta_2(t), t)*Derivative(x(t), t) - g*m*(-L_1*cos(\\theta_1(t))/2 - L_2*cos(\\theta_2(t))/2 + 2*y(t)) + 1.0*m*Derivative(x(t), t)**2 + 1.0*m*Derivative(y(t), t)**2"
      ]
     },
     "metadata": {},
     "output_type": "display_data"
    }
   ],
   "source": [
    "#define lagrangian\n",
    "ybottom1 = bottom1[1] \n",
    "ybottom2 = bottom2[1]\n",
    "y_CM1    = posn_CM1[1]\n",
    "y_CM2    = posn_CM2[1]\n",
    "\n",
    "U = m*g* (y_CM1 + y_CM2)\n",
    "\n",
    "#to define kinetic energy: need axis of rotation in the body's own frame; the z axis\n",
    "#KE_rot1 = 0.5*w.T * I * w = 0.5(I)(1)(thetand)^2\n",
    "\n",
    "ti = sym.symbols(r't_i')\n",
    "#ti = sym.Function(r't_i')(t)\n",
    "\n",
    "k1 = sym.symbols(r'k_1')\n",
    "theta1_des =  sym.pi/15 + sym.pi/3 * (sym.sin(t/2))**2 #des = \"desired\"\n",
    "theta1d_des = theta1_des.diff(t).simplify()\n",
    "theta2_des = -sym.pi/15 - sym.pi/3 * (sym.sin(t/2))**2\n",
    "theta2d_des = theta2_des.diff(t).simplify()\n",
    "\n",
    "#substitute in t for a symbolic variable\n",
    "theta1_des = theta1_des.subs(t, ti)\n",
    "theta2_des = theta2_des.subs(t, ti)\n",
    "theta1d_des = theta1d_des.subs(t, ti)\n",
    "theta2d_des = theta2d_des.subs(t, ti)\n",
    "\n",
    "F1 = -k1 * (theta1 - theta1_des)\n",
    "F2 = -k1 * (theta2 - theta2_des)\n",
    "\n",
    "#calculate KE of each object, then find Lagrangian\n",
    "\n",
    "Vsb = CalculateVb6(Gsb)\n",
    "Vsc = CalculateVb6(Gsc)\n",
    "scriptI = J*sym.eye(3)\n",
    "inertia_mat = InertiaMatrix6(m, scriptI)\n",
    "\n",
    "KE1 = 0.5 * (Vsb.T @ inertia_mat @ Vsb)[0]\n",
    "KE2 = 0.5 * (Vsc.T @ inertia_mat @ Vsc)[0]\n",
    "\n",
    "KE1 = KE1.simplify()\n",
    "KE2 = KE2.simplify()\n",
    "lagrangian = KE1 + KE2 - U\n",
    "\n",
    "print(\"\\nVsb:\")\n",
    "display(Vsb)\n",
    "print(\"\\nVsc:\")\n",
    "display(Vsc)\n",
    "\n",
    "print(\"\\nLagrangian:\")\n",
    "display(lagrangian)"
   ]
  },
  {
   "cell_type": "code",
   "execution_count": 32,
   "metadata": {},
   "outputs": [
    {
     "name": "stdout",
     "output_type": "stream",
     "text": [
      "Matrix of forcing terms:\n"
     ]
    },
    {
     "data": {
      "text/latex": [
       "$\\displaystyle \\left[\\begin{matrix}0\\\\0\\\\F_{\\theta 1}\\\\F_{\\theta 2}\\end{matrix}\\right]$"
      ],
      "text/plain": [
       "Matrix([\n",
       "[         0],\n",
       "[         0],\n",
       "[F_\\theta_1],\n",
       "[F_\\theta_2]])"
      ]
     },
     "metadata": {},
     "output_type": "display_data"
    },
    {
     "name": "stdout",
     "output_type": "stream",
     "text": [
      "Constraint equations and lambda:\n"
     ]
    },
    {
     "data": {
      "text/latex": [
       "$\\displaystyle \\lambda_{1}$"
      ],
      "text/plain": [
       "\\lambda_1"
      ]
     },
     "metadata": {},
     "output_type": "display_data"
    },
    {
     "data": {
      "text/latex": [
       "$\\displaystyle - L_{1} \\cos{\\left(\\theta_{1}{\\left(t \\right)} \\right)} + y{\\left(t \\right)}$"
      ],
      "text/plain": [
       "-L_1*cos(\\theta_1(t)) + y(t)"
      ]
     },
     "metadata": {},
     "output_type": "display_data"
    },
    {
     "data": {
      "text/latex": [
       "$\\displaystyle \\lambda_{2}$"
      ],
      "text/plain": [
       "\\lambda_2"
      ]
     },
     "metadata": {},
     "output_type": "display_data"
    },
    {
     "data": {
      "text/latex": [
       "$\\displaystyle - L_{2} \\cos{\\left(\\theta_{2}{\\left(t \\right)} \\right)} + y{\\left(t \\right)}$"
      ],
      "text/plain": [
       "-L_2*cos(\\theta_2(t)) + y(t)"
      ]
     },
     "metadata": {},
     "output_type": "display_data"
    }
   ],
   "source": [
    "#set up the left and right hand sides of Euler-Lagrange EQs\n",
    "#F_mat = sym.Matrix([0, 0, F1, F2])\n",
    "F1_v2, F2_v2 = sym.symbols(r'F_\\theta_1, F_\\theta_2')\n",
    "F_mat = sym.Matrix([0, 0, F1_v2, F2_v2])\n",
    "\n",
    "##F_mat = F_mat.subs(t, ti) #very old\n",
    "\n",
    "lamb1 = sym.symbols(r'\\lambda_1')\n",
    "lamb2 = sym.symbols(r'\\lambda_2')\n",
    "\n",
    "lamb_list = [lamb1, lamb2]\n",
    "phi_list = [ybottom1, ybottom2]\n",
    "\n",
    "print(\"Matrix of forcing terms:\")\n",
    "display(F_mat)\n",
    "# F_mat = F_mat.subs(ti, t_new)\n",
    "\n",
    "\n",
    "print(\"Constraint equations and lambda:\")\n",
    "for i, a in enumerate(lamb_list):\n",
    "    display(a)\n",
    "    display(phi_list[i])\n"
   ]
  },
  {
   "cell_type": "code",
   "execution_count": 33,
   "metadata": {},
   "outputs": [],
   "source": [
    "lhs = compute_EL_lhs(lagrangian, q)\n",
    "t_new = sym.Function(r't_{new}')(t)\n",
    "lhs = lhs.subs(ti, t_new)\n",
    "\n",
    "#do symbolic substitutions before solving to speed up computation\n",
    "subs_dict = {\n",
    "    L1: 1,\n",
    "    L2: 1,\n",
    "    m:  1,\n",
    "    g:  9.8,\n",
    "    J:  1,\n",
    "    k1: 20\n",
    "}\n",
    "\n",
    "# eqns_solved = solve_EL_hw7(lamb_list, phi_list, F_mat, q, lhs, subs_dict)"
   ]
  },
  {
   "cell_type": "code",
   "execution_count": 70,
   "metadata": {},
   "outputs": [
    {
     "name": "stdout",
     "output_type": "stream",
     "text": [
      "Equations to solve (LHS = lambda*grad(phi) + F_ext):\n"
     ]
    },
    {
     "data": {
      "text/latex": [
       "$\\displaystyle \\left[\\begin{matrix}0.5 \\sin{\\left(\\theta_{1}{\\left(t \\right)} \\right)} \\left(\\frac{d}{d t} \\theta_{1}{\\left(t \\right)}\\right)^{2} - 0.5 \\sin{\\left(\\theta_{2}{\\left(t \\right)} \\right)} \\left(\\frac{d}{d t} \\theta_{2}{\\left(t \\right)}\\right)^{2} - 0.5 \\cos{\\left(\\theta_{1}{\\left(t \\right)} \\right)} \\frac{d^{2}}{d t^{2}} \\theta_{1}{\\left(t \\right)} + 0.5 \\cos{\\left(\\theta_{2}{\\left(t \\right)} \\right)} \\frac{d^{2}}{d t^{2}} \\theta_{2}{\\left(t \\right)} - 2.0 \\frac{d^{2}}{d t^{2}} x{\\left(t \\right)}\\\\- 0.5 \\sin{\\left(\\theta_{1}{\\left(t \\right)} \\right)} \\frac{d^{2}}{d t^{2}} \\theta_{1}{\\left(t \\right)} - 0.5 \\sin{\\left(\\theta_{2}{\\left(t \\right)} \\right)} \\frac{d^{2}}{d t^{2}} \\theta_{2}{\\left(t \\right)} - 0.5 \\cos{\\left(\\theta_{1}{\\left(t \\right)} \\right)} \\left(\\frac{d}{d t} \\theta_{1}{\\left(t \\right)}\\right)^{2} - 0.5 \\cos{\\left(\\theta_{2}{\\left(t \\right)} \\right)} \\left(\\frac{d}{d t} \\theta_{2}{\\left(t \\right)}\\right)^{2} - 2.0 \\frac{d^{2}}{d t^{2}} y{\\left(t \\right)} - 19.6\\\\- 0.5 \\sin{\\left(\\theta_{1}{\\left(t \\right)} \\right)} \\frac{d^{2}}{d t^{2}} y{\\left(t \\right)} - 4.9 \\sin{\\left(\\theta_{1}{\\left(t \\right)} \\right)} - 0.5 \\cos{\\left(\\theta_{1}{\\left(t \\right)} \\right)} \\frac{d^{2}}{d t^{2}} x{\\left(t \\right)} - 1.25 \\frac{d^{2}}{d t^{2}} \\theta_{1}{\\left(t \\right)}\\\\- 0.5 \\sin{\\left(\\theta_{2}{\\left(t \\right)} \\right)} \\frac{d^{2}}{d t^{2}} y{\\left(t \\right)} - 4.9 \\sin{\\left(\\theta_{2}{\\left(t \\right)} \\right)} + 0.5 \\cos{\\left(\\theta_{2}{\\left(t \\right)} \\right)} \\frac{d^{2}}{d t^{2}} x{\\left(t \\right)} - 1.25 \\frac{d^{2}}{d t^{2}} \\theta_{2}{\\left(t \\right)}\\\\\\sin{\\left(\\theta_{1}{\\left(t \\right)} \\right)} \\frac{d^{2}}{d t^{2}} \\theta_{1}{\\left(t \\right)} + \\cos{\\left(\\theta_{1}{\\left(t \\right)} \\right)} \\left(\\frac{d}{d t} \\theta_{1}{\\left(t \\right)}\\right)^{2} + \\frac{d^{2}}{d t^{2}} y{\\left(t \\right)}\\\\\\sin{\\left(\\theta_{2}{\\left(t \\right)} \\right)} \\frac{d^{2}}{d t^{2}} \\theta_{2}{\\left(t \\right)} + \\cos{\\left(\\theta_{2}{\\left(t \\right)} \\right)} \\left(\\frac{d}{d t} \\theta_{2}{\\left(t \\right)}\\right)^{2} + \\frac{d^{2}}{d t^{2}} y{\\left(t \\right)}\\end{matrix}\\right] = \\left[\\begin{matrix}0\\\\\\lambda_{1} + \\lambda_{2}\\\\F_{\\theta 1} + \\lambda_{1} \\sin{\\left(\\theta_{1}{\\left(t \\right)} \\right)}\\\\F_{\\theta 2} + \\lambda_{2} \\sin{\\left(\\theta_{2}{\\left(t \\right)} \\right)}\\\\0\\\\0\\end{matrix}\\right]$"
      ],
      "text/plain": [
       "Eq(Matrix([\n",
       "[        0.5*sin(\\theta_1(t))*Derivative(\\theta_1(t), t)**2 - 0.5*sin(\\theta_2(t))*Derivative(\\theta_2(t), t)**2 - 0.5*cos(\\theta_1(t))*Derivative(\\theta_1(t), (t, 2)) + 0.5*cos(\\theta_2(t))*Derivative(\\theta_2(t), (t, 2)) - 2.0*Derivative(x(t), (t, 2))],\n",
       "[-0.5*sin(\\theta_1(t))*Derivative(\\theta_1(t), (t, 2)) - 0.5*sin(\\theta_2(t))*Derivative(\\theta_2(t), (t, 2)) - 0.5*cos(\\theta_1(t))*Derivative(\\theta_1(t), t)**2 - 0.5*cos(\\theta_2(t))*Derivative(\\theta_2(t), t)**2 - 2.0*Derivative(y(t), (t, 2)) - 19.6],\n",
       "[                                                                                                -0.5*sin(\\theta_1(t))*Derivative(y(t), (t, 2)) - 4.9*sin(\\theta_1(t)) - 0.5*cos(\\theta_1(t))*Derivative(x(t), (t, 2)) - 1.25*Derivative(\\theta_1(t), (t, 2))],\n",
       "[                                                                                                -0.5*sin(\\theta_2(t))*Derivative(y(t), (t, 2)) - 4.9*sin(\\theta_2(t)) + 0.5*cos(\\theta_2(t))*Derivative(x(t), (t, 2)) - 1.25*Derivative(\\theta_2(t), (t, 2))],\n",
       "[                                                                                                                                sin(\\theta_1(t))*Derivative(\\theta_1(t), (t, 2)) + cos(\\theta_1(t))*Derivative(\\theta_1(t), t)**2 + Derivative(y(t), (t, 2))],\n",
       "[                                                                                                                                sin(\\theta_2(t))*Derivative(\\theta_2(t), (t, 2)) + cos(\\theta_2(t))*Derivative(\\theta_2(t), t)**2 + Derivative(y(t), (t, 2))]]), Matrix([\n",
       "[                                      0],\n",
       "[                  \\lambda_1 + \\lambda_2],\n",
       "[F_\\theta_1 + \\lambda_1*sin(\\theta_1(t))],\n",
       "[F_\\theta_2 + \\lambda_2*sin(\\theta_2(t))],\n",
       "[                                      0],\n",
       "[                                      0]]))"
      ]
     },
     "metadata": {},
     "output_type": "display_data"
    },
    {
     "name": "stdout",
     "output_type": "stream",
     "text": [
      "Variables to solve for:\n"
     ]
    },
    {
     "data": {
      "text/latex": [
       "$\\displaystyle \\left[\\begin{matrix}\\frac{d^{2}}{d t^{2}} x{\\left(t \\right)}\\\\\\frac{d^{2}}{d t^{2}} y{\\left(t \\right)}\\\\\\frac{d^{2}}{d t^{2}} \\theta_{1}{\\left(t \\right)}\\\\\\frac{d^{2}}{d t^{2}} \\theta_{2}{\\left(t \\right)}\\\\\\lambda_{1}\\\\\\lambda_{2}\\end{matrix}\\right]$"
      ],
      "text/plain": [
       "Matrix([\n",
       "[       Derivative(x(t), (t, 2))],\n",
       "[       Derivative(y(t), (t, 2))],\n",
       "[Derivative(\\theta_1(t), (t, 2))],\n",
       "[Derivative(\\theta_2(t), (t, 2))],\n",
       "[                      \\lambda_1],\n",
       "[                      \\lambda_2]])"
      ]
     },
     "metadata": {},
     "output_type": "display_data"
    }
   ],
   "source": [
    "#solve for the Euler-Lagrange equations. previously was in a function; pulled it out so it would be easier\n",
    "#to isolate where the slowdown is\n",
    "qd = q.diff(t)\n",
    "qdd = qd.diff(t)\n",
    "expr_matrix = lhs\n",
    "phidd_matrix = sym.Matrix([0])\n",
    "phidd_list = []\n",
    "RHS = sym.zeros(len(expr_matrix), 1)\n",
    "RHS = RHS + F_mat\n",
    "\n",
    "#add constraint terms to matrix of expressions to solve\n",
    "for i in range(len(phi_list)):\n",
    "    phi = phi_list[i]\n",
    "    lamb = lamb_list[i]\n",
    "\n",
    "    phidd = phi.diff(t).diff(t)\n",
    "    lamb_grad = sym.Matrix([lamb * phi.diff(a) for a in q])\n",
    "    qdd = qdd.row_insert(len(qdd), sym.Matrix([lamb]) )\n",
    "\n",
    "    #format equations so they're all in one matrix\n",
    "    RHS = RHS + lamb_grad\n",
    "    phidd_list.append(sym.Matrix([phidd])  )\n",
    "\n",
    "RHS = RHS.row_insert(len(qdd)-1, sym.Matrix([0]))\n",
    "RHS = RHS.row_insert(len(qdd), sym.Matrix([0]))\n",
    "    \n",
    "for phidd_matrix in phidd_list:\n",
    "    expr_matrix = expr_matrix.row_insert(len(expr_matrix), phidd_matrix)\n",
    "\n",
    "subs_dict = {\n",
    "    L1: 1,\n",
    "    L2: 1,\n",
    "    m:  1,\n",
    "    g:  9.8,\n",
    "    J:  1,\n",
    "    k1: 20\n",
    "}\n",
    "\n",
    "expr_matrix = expr_matrix.subs(subs_dict)\n",
    "RHS = RHS.subs(subs_dict)\n",
    "\n",
    "\n",
    "print(\"Equations to solve (LHS = lambda*grad(phi) + F_ext):\")\n",
    "total_eq = sym.Eq(expr_matrix, RHS)\n",
    "# display(expr_matrix)\n",
    "# display(RHS)\n",
    "\n",
    "display(total_eq)\n",
    "print(\"Variables to solve for:\")\n",
    "display(qdd)"
   ]
  },
  {
   "cell_type": "code",
   "execution_count": null,
   "metadata": {},
   "outputs": [],
   "source": []
  },
  {
   "cell_type": "code",
   "execution_count": 71,
   "metadata": {},
   "outputs": [
    {
     "data": {
      "text/latex": [
       "$\\displaystyle \\left[\\begin{matrix}0\\end{matrix}\\right]$"
      ],
      "text/plain": [
       "Matrix([[0]])"
      ]
     },
     "metadata": {},
     "output_type": "display_data"
    },
    {
     "data": {
      "text/latex": [
       "$\\displaystyle \\left[\\begin{matrix}0\\\\0\\end{matrix}\\right]$"
      ],
      "text/plain": [
       "Matrix([\n",
       "[0],\n",
       "[0]])"
      ]
     },
     "metadata": {},
     "output_type": "display_data"
    },
    {
     "data": {
      "text/latex": [
       "$\\displaystyle \\left[\\begin{matrix}0.5 \\sin{\\left(\\theta_{1}{\\left(t \\right)} \\right)} \\left(\\frac{d}{d t} \\theta_{1}{\\left(t \\right)}\\right)^{2} - 0.5 \\sin{\\left(\\theta_{2}{\\left(t \\right)} \\right)} \\left(\\frac{d}{d t} \\theta_{2}{\\left(t \\right)}\\right)^{2} - 0.5 \\cos{\\left(\\theta_{1}{\\left(t \\right)} \\right)} \\frac{d^{2}}{d t^{2}} \\theta_{1}{\\left(t \\right)} + 0.5 \\cos{\\left(\\theta_{2}{\\left(t \\right)} \\right)} \\frac{d^{2}}{d t^{2}} \\theta_{2}{\\left(t \\right)} - 2.0 \\frac{d^{2}}{d t^{2}} x{\\left(t \\right)}\\\\\\sin{\\left(\\theta_{1}{\\left(t \\right)} \\right)} \\frac{d^{2}}{d t^{2}} \\theta_{1}{\\left(t \\right)} + \\cos{\\left(\\theta_{1}{\\left(t \\right)} \\right)} \\left(\\frac{d}{d t} \\theta_{1}{\\left(t \\right)}\\right)^{2} + \\frac{d^{2}}{d t^{2}} y{\\left(t \\right)}\\\\\\sin{\\left(\\theta_{2}{\\left(t \\right)} \\right)} \\frac{d^{2}}{d t^{2}} \\theta_{2}{\\left(t \\right)} + \\cos{\\left(\\theta_{2}{\\left(t \\right)} \\right)} \\left(\\frac{d}{d t} \\theta_{2}{\\left(t \\right)}\\right)^{2} + \\frac{d^{2}}{d t^{2}} y{\\left(t \\right)}\\end{matrix}\\right]$"
      ],
      "text/plain": [
       "Matrix([\n",
       "[0.5*sin(\\theta_1(t))*Derivative(\\theta_1(t), t)**2 - 0.5*sin(\\theta_2(t))*Derivative(\\theta_2(t), t)**2 - 0.5*cos(\\theta_1(t))*Derivative(\\theta_1(t), (t, 2)) + 0.5*cos(\\theta_2(t))*Derivative(\\theta_2(t), (t, 2)) - 2.0*Derivative(x(t), (t, 2))],\n",
       "[                                                                                                                        sin(\\theta_1(t))*Derivative(\\theta_1(t), (t, 2)) + cos(\\theta_1(t))*Derivative(\\theta_1(t), t)**2 + Derivative(y(t), (t, 2))],\n",
       "[                                                                                                                        sin(\\theta_2(t))*Derivative(\\theta_2(t), (t, 2)) + cos(\\theta_2(t))*Derivative(\\theta_2(t), t)**2 + Derivative(y(t), (t, 2))]])"
      ]
     },
     "metadata": {},
     "output_type": "display_data"
    },
    {
     "data": {
      "text/latex": [
       "$\\displaystyle \\left[\\begin{matrix}0\\\\0\\\\0\\end{matrix}\\right]$"
      ],
      "text/plain": [
       "Matrix([\n",
       "[0],\n",
       "[0],\n",
       "[0]])"
      ]
     },
     "metadata": {},
     "output_type": "display_data"
    },
    {
     "data": {
      "text/latex": [
       "$\\displaystyle \\left[\\begin{matrix}\\frac{d^{2}}{d t^{2}} x{\\left(t \\right)}\\\\\\frac{d^{2}}{d t^{2}} \\theta_{1}{\\left(t \\right)}\\\\\\frac{d^{2}}{d t^{2}} \\theta_{2}{\\left(t \\right)}\\end{matrix}\\right]$"
      ],
      "text/plain": [
       "Matrix([\n",
       "[       Derivative(x(t), (t, 2))],\n",
       "[Derivative(\\theta_1(t), (t, 2))],\n",
       "[Derivative(\\theta_2(t), (t, 2))]])"
      ]
     },
     "metadata": {},
     "output_type": "display_data"
    }
   ],
   "source": [
    "#try decomposing the system into separate equations; run them separately\n",
    "display(sym.Matrix([RHS[0]]))\n",
    "display(sym.Matrix(RHS[4:6]))\n",
    "RHS_A = sym.zeros(3,1);    LHS_A = sym.zeros(3,1);    qdd_A = sym.zeros(3,1)\n",
    "RHS_A[0] =         RHS[0];         RHS_A[1] = RHS[4];         RHS_A[2] = RHS[5]\n",
    "LHS_A[0] = expr_matrix[0]; LHS_A[1] = expr_matrix[4]; LHS_A[2] = expr_matrix[5]\n",
    "qdd_A[0] =         qdd[0];         qdd_A[1] = qdd[2];         qdd_A[2] = qdd[3]\n",
    "\n",
    "display(LHS_A)\n",
    "display(RHS_A)\n",
    "display(qdd_A)"
   ]
  },
  {
   "cell_type": "code",
   "execution_count": 72,
   "metadata": {},
   "outputs": [
    {
     "data": {
      "text/latex": [
       "$\\displaystyle \\left[\\begin{matrix}- 0.5 \\sin{\\left(\\theta_{1}{\\left(t \\right)} \\right)} \\frac{d^{2}}{d t^{2}} \\theta_{1}{\\left(t \\right)} - 0.5 \\sin{\\left(\\theta_{2}{\\left(t \\right)} \\right)} \\frac{d^{2}}{d t^{2}} \\theta_{2}{\\left(t \\right)} - 0.5 \\cos{\\left(\\theta_{1}{\\left(t \\right)} \\right)} \\left(\\frac{d}{d t} \\theta_{1}{\\left(t \\right)}\\right)^{2} - 0.5 \\cos{\\left(\\theta_{2}{\\left(t \\right)} \\right)} \\left(\\frac{d}{d t} \\theta_{2}{\\left(t \\right)}\\right)^{2} - 2.0 \\frac{d^{2}}{d t^{2}} y{\\left(t \\right)} - 19.6\\\\- 0.5 \\sin{\\left(\\theta_{1}{\\left(t \\right)} \\right)} \\frac{d^{2}}{d t^{2}} y{\\left(t \\right)} - 4.9 \\sin{\\left(\\theta_{1}{\\left(t \\right)} \\right)} - 0.5 \\cos{\\left(\\theta_{1}{\\left(t \\right)} \\right)} \\frac{d^{2}}{d t^{2}} x{\\left(t \\right)} - 1.25 \\frac{d^{2}}{d t^{2}} \\theta_{1}{\\left(t \\right)}\\\\- 0.5 \\sin{\\left(\\theta_{2}{\\left(t \\right)} \\right)} \\frac{d^{2}}{d t^{2}} y{\\left(t \\right)} - 4.9 \\sin{\\left(\\theta_{2}{\\left(t \\right)} \\right)} + 0.5 \\cos{\\left(\\theta_{2}{\\left(t \\right)} \\right)} \\frac{d^{2}}{d t^{2}} x{\\left(t \\right)} - 1.25 \\frac{d^{2}}{d t^{2}} \\theta_{2}{\\left(t \\right)}\\end{matrix}\\right]$"
      ],
      "text/plain": [
       "Matrix([\n",
       "[-0.5*sin(\\theta_1(t))*Derivative(\\theta_1(t), (t, 2)) - 0.5*sin(\\theta_2(t))*Derivative(\\theta_2(t), (t, 2)) - 0.5*cos(\\theta_1(t))*Derivative(\\theta_1(t), t)**2 - 0.5*cos(\\theta_2(t))*Derivative(\\theta_2(t), t)**2 - 2.0*Derivative(y(t), (t, 2)) - 19.6],\n",
       "[                                                                                                -0.5*sin(\\theta_1(t))*Derivative(y(t), (t, 2)) - 4.9*sin(\\theta_1(t)) - 0.5*cos(\\theta_1(t))*Derivative(x(t), (t, 2)) - 1.25*Derivative(\\theta_1(t), (t, 2))],\n",
       "[                                                                                                -0.5*sin(\\theta_2(t))*Derivative(y(t), (t, 2)) - 4.9*sin(\\theta_2(t)) + 0.5*cos(\\theta_2(t))*Derivative(x(t), (t, 2)) - 1.25*Derivative(\\theta_2(t), (t, 2))]])"
      ]
     },
     "metadata": {},
     "output_type": "display_data"
    },
    {
     "data": {
      "text/latex": [
       "$\\displaystyle \\left[\\begin{matrix}\\lambda_{1} + \\lambda_{2}\\\\F_{\\theta 1} + \\lambda_{1} \\sin{\\left(\\theta_{1}{\\left(t \\right)} \\right)}\\\\F_{\\theta 2} + \\lambda_{2} \\sin{\\left(\\theta_{2}{\\left(t \\right)} \\right)}\\end{matrix}\\right]$"
      ],
      "text/plain": [
       "Matrix([\n",
       "[                  \\lambda_1 + \\lambda_2],\n",
       "[F_\\theta_1 + \\lambda_1*sin(\\theta_1(t))],\n",
       "[F_\\theta_2 + \\lambda_2*sin(\\theta_2(t))]])"
      ]
     },
     "metadata": {},
     "output_type": "display_data"
    },
    {
     "data": {
      "text/latex": [
       "$\\displaystyle \\left[\\begin{matrix}\\frac{d^{2}}{d t^{2}} y{\\left(t \\right)}\\\\\\lambda_{1}\\\\\\lambda_{2}\\end{matrix}\\right]$"
      ],
      "text/plain": [
       "Matrix([\n",
       "[Derivative(y(t), (t, 2))],\n",
       "[               \\lambda_1],\n",
       "[               \\lambda_2]])"
      ]
     },
     "metadata": {},
     "output_type": "display_data"
    }
   ],
   "source": [
    "RHS_B = sym.zeros(3,1);    LHS_B = sym.zeros(3,1);    qdd_B = sym.zeros(3,1)\n",
    "RHS_B[0] =         RHS[1];         RHS_B[1] = RHS[2];         RHS_B[2] = RHS[3]\n",
    "LHS_B[0] = expr_matrix[1]; LHS_B[1] = expr_matrix[2]; LHS_B[2] = expr_matrix[3]\n",
    "qdd_B[0] =         qdd[1];         qdd_B[1] = qdd[4];         qdd_B[2] = qdd[5]\n",
    "\n",
    "display(LHS_B)\n",
    "display(RHS_B)\n",
    "display(qdd_B)"
   ]
  },
  {
   "cell_type": "code",
   "execution_count": 73,
   "metadata": {},
   "outputs": [
    {
     "data": {
      "text/latex": [
       "$\\displaystyle \\left[\\begin{matrix}0.5 \\sin{\\left(\\theta_{1}{\\left(t \\right)} \\right)} \\left(\\frac{d}{d t} \\theta_{1}{\\left(t \\right)}\\right)^{2} - 0.5 \\sin{\\left(\\theta_{2}{\\left(t \\right)} \\right)} \\left(\\frac{d}{d t} \\theta_{2}{\\left(t \\right)}\\right)^{2} - 0.5 \\cos{\\left(\\theta_{1}{\\left(t \\right)} \\right)} \\frac{d^{2}}{d t^{2}} \\theta_{1}{\\left(t \\right)} + 0.5 \\cos{\\left(\\theta_{2}{\\left(t \\right)} \\right)} \\frac{d^{2}}{d t^{2}} \\theta_{2}{\\left(t \\right)} - 2.0 \\frac{d^{2}}{d t^{2}} x{\\left(t \\right)}\\\\\\sin{\\left(\\theta_{1}{\\left(t \\right)} \\right)} \\frac{d^{2}}{d t^{2}} \\theta_{1}{\\left(t \\right)} + \\cos{\\left(\\theta_{1}{\\left(t \\right)} \\right)} \\left(\\frac{d}{d t} \\theta_{1}{\\left(t \\right)}\\right)^{2} + \\frac{d^{2}}{d t^{2}} y{\\left(t \\right)}\\\\\\sin{\\left(\\theta_{2}{\\left(t \\right)} \\right)} \\frac{d^{2}}{d t^{2}} \\theta_{2}{\\left(t \\right)} + \\cos{\\left(\\theta_{2}{\\left(t \\right)} \\right)} \\left(\\frac{d}{d t} \\theta_{2}{\\left(t \\right)}\\right)^{2} + \\frac{d^{2}}{d t^{2}} y{\\left(t \\right)}\\end{matrix}\\right] = \\left[\\begin{matrix}0\\\\0\\\\0\\end{matrix}\\right]$"
      ],
      "text/plain": [
       "Eq(Matrix([\n",
       "[0.5*sin(\\theta_1(t))*Derivative(\\theta_1(t), t)**2 - 0.5*sin(\\theta_2(t))*Derivative(\\theta_2(t), t)**2 - 0.5*cos(\\theta_1(t))*Derivative(\\theta_1(t), (t, 2)) + 0.5*cos(\\theta_2(t))*Derivative(\\theta_2(t), (t, 2)) - 2.0*Derivative(x(t), (t, 2))],\n",
       "[                                                                                                                        sin(\\theta_1(t))*Derivative(\\theta_1(t), (t, 2)) + cos(\\theta_1(t))*Derivative(\\theta_1(t), t)**2 + Derivative(y(t), (t, 2))],\n",
       "[                                                                                                                        sin(\\theta_2(t))*Derivative(\\theta_2(t), (t, 2)) + cos(\\theta_2(t))*Derivative(\\theta_2(t), t)**2 + Derivative(y(t), (t, 2))]]), Matrix([\n",
       "[0],\n",
       "[0],\n",
       "[0]]))"
      ]
     },
     "metadata": {},
     "output_type": "display_data"
    },
    {
     "data": {
      "text/latex": [
       "$\\displaystyle \\left[\\begin{matrix}- 0.5 \\sin{\\left(\\theta_{1}{\\left(t \\right)} \\right)} \\frac{d^{2}}{d t^{2}} \\theta_{1}{\\left(t \\right)} - 0.5 \\sin{\\left(\\theta_{2}{\\left(t \\right)} \\right)} \\frac{d^{2}}{d t^{2}} \\theta_{2}{\\left(t \\right)} - 0.5 \\cos{\\left(\\theta_{1}{\\left(t \\right)} \\right)} \\left(\\frac{d}{d t} \\theta_{1}{\\left(t \\right)}\\right)^{2} - 0.5 \\cos{\\left(\\theta_{2}{\\left(t \\right)} \\right)} \\left(\\frac{d}{d t} \\theta_{2}{\\left(t \\right)}\\right)^{2} - 2.0 \\frac{d^{2}}{d t^{2}} y{\\left(t \\right)} - 19.6\\\\- 0.5 \\sin{\\left(\\theta_{1}{\\left(t \\right)} \\right)} \\frac{d^{2}}{d t^{2}} y{\\left(t \\right)} - 4.9 \\sin{\\left(\\theta_{1}{\\left(t \\right)} \\right)} - 0.5 \\cos{\\left(\\theta_{1}{\\left(t \\right)} \\right)} \\frac{d^{2}}{d t^{2}} x{\\left(t \\right)} - 1.25 \\frac{d^{2}}{d t^{2}} \\theta_{1}{\\left(t \\right)}\\\\- 0.5 \\sin{\\left(\\theta_{2}{\\left(t \\right)} \\right)} \\frac{d^{2}}{d t^{2}} y{\\left(t \\right)} - 4.9 \\sin{\\left(\\theta_{2}{\\left(t \\right)} \\right)} + 0.5 \\cos{\\left(\\theta_{2}{\\left(t \\right)} \\right)} \\frac{d^{2}}{d t^{2}} x{\\left(t \\right)} - 1.25 \\frac{d^{2}}{d t^{2}} \\theta_{2}{\\left(t \\right)}\\end{matrix}\\right] = \\left[\\begin{matrix}\\lambda_{1} + \\lambda_{2}\\\\F_{\\theta 1} + \\lambda_{1} \\sin{\\left(\\theta_{1}{\\left(t \\right)} \\right)}\\\\F_{\\theta 2} + \\lambda_{2} \\sin{\\left(\\theta_{2}{\\left(t \\right)} \\right)}\\end{matrix}\\right]$"
      ],
      "text/plain": [
       "Eq(Matrix([\n",
       "[-0.5*sin(\\theta_1(t))*Derivative(\\theta_1(t), (t, 2)) - 0.5*sin(\\theta_2(t))*Derivative(\\theta_2(t), (t, 2)) - 0.5*cos(\\theta_1(t))*Derivative(\\theta_1(t), t)**2 - 0.5*cos(\\theta_2(t))*Derivative(\\theta_2(t), t)**2 - 2.0*Derivative(y(t), (t, 2)) - 19.6],\n",
       "[                                                                                                -0.5*sin(\\theta_1(t))*Derivative(y(t), (t, 2)) - 4.9*sin(\\theta_1(t)) - 0.5*cos(\\theta_1(t))*Derivative(x(t), (t, 2)) - 1.25*Derivative(\\theta_1(t), (t, 2))],\n",
       "[                                                                                                -0.5*sin(\\theta_2(t))*Derivative(y(t), (t, 2)) - 4.9*sin(\\theta_2(t)) + 0.5*cos(\\theta_2(t))*Derivative(x(t), (t, 2)) - 1.25*Derivative(\\theta_2(t), (t, 2))]]), Matrix([\n",
       "[                  \\lambda_1 + \\lambda_2],\n",
       "[F_\\theta_1 + \\lambda_1*sin(\\theta_1(t))],\n",
       "[F_\\theta_2 + \\lambda_2*sin(\\theta_2(t))]]))"
      ]
     },
     "metadata": {},
     "output_type": "display_data"
    }
   ],
   "source": [
    "eq_A = sym.Eq(LHS_A, RHS_A)\n",
    "eq_B = sym.Eq(LHS_B, RHS_B)\n",
    "display(eq_A)\n",
    "display(eq_B)"
   ]
  },
  {
   "cell_type": "code",
   "execution_count": 74,
   "metadata": {},
   "outputs": [],
   "source": [
    "solns_A = sym.solve(eq_A, qdd_A, dict=True)"
   ]
  },
  {
   "cell_type": "code",
   "execution_count": 75,
   "metadata": {},
   "outputs": [],
   "source": [
    "solns_B = sym.solve(eq_B, qdd_B, dict=True)"
   ]
  },
  {
   "cell_type": "code",
   "execution_count": 78,
   "metadata": {},
   "outputs": [
    {
     "name": "stdout",
     "output_type": "stream",
     "text": [
      "Intermediate equations of state variables:\n"
     ]
    },
    {
     "data": {
      "text/latex": [
       "$\\displaystyle \\frac{d^{2}}{d t^{2}} x{\\left(t \\right)} = 0.25 \\sin{\\left(\\theta_{1}{\\left(t \\right)} \\right)} \\left(\\frac{d}{d t} \\theta_{1}{\\left(t \\right)}\\right)^{2} - 0.25 \\sin{\\left(\\theta_{2}{\\left(t \\right)} \\right)} \\left(\\frac{d}{d t} \\theta_{2}{\\left(t \\right)}\\right)^{2} - \\frac{0.25 \\cos^{2}{\\left(\\theta_{2}{\\left(t \\right)} \\right)} \\left(\\frac{d}{d t} \\theta_{2}{\\left(t \\right)}\\right)^{2}}{\\sin{\\left(\\theta_{2}{\\left(t \\right)} \\right)}} - \\frac{0.25 \\cos{\\left(\\theta_{2}{\\left(t \\right)} \\right)} \\frac{d^{2}}{d t^{2}} y{\\left(t \\right)}}{\\sin{\\left(\\theta_{2}{\\left(t \\right)} \\right)}} + \\frac{0.25 \\cos^{2}{\\left(\\theta_{1}{\\left(t \\right)} \\right)} \\left(\\frac{d}{d t} \\theta_{1}{\\left(t \\right)}\\right)^{2}}{\\sin{\\left(\\theta_{1}{\\left(t \\right)} \\right)}} + \\frac{0.25 \\cos{\\left(\\theta_{1}{\\left(t \\right)} \\right)} \\frac{d^{2}}{d t^{2}} y{\\left(t \\right)}}{\\sin{\\left(\\theta_{1}{\\left(t \\right)} \\right)}}$"
      ],
      "text/plain": [
       "Eq(Derivative(x(t), (t, 2)), 0.25*sin(\\theta_1(t))*Derivative(\\theta_1(t), t)**2 - 0.25*sin(\\theta_2(t))*Derivative(\\theta_2(t), t)**2 - 0.25*cos(\\theta_2(t))**2*Derivative(\\theta_2(t), t)**2/sin(\\theta_2(t)) - 0.25*cos(\\theta_2(t))*Derivative(y(t), (t, 2))/sin(\\theta_2(t)) + 0.25*cos(\\theta_1(t))**2*Derivative(\\theta_1(t), t)**2/sin(\\theta_1(t)) + 0.25*cos(\\theta_1(t))*Derivative(y(t), (t, 2))/sin(\\theta_1(t)))"
      ]
     },
     "metadata": {},
     "output_type": "display_data"
    },
    {
     "data": {
      "text/latex": [
       "$\\displaystyle \\frac{d^{2}}{d t^{2}} \\theta_{1}{\\left(t \\right)} = - \\frac{\\cos{\\left(\\theta_{1}{\\left(t \\right)} \\right)} \\left(\\frac{d}{d t} \\theta_{1}{\\left(t \\right)}\\right)^{2}}{\\sin{\\left(\\theta_{1}{\\left(t \\right)} \\right)}} - \\frac{\\frac{d^{2}}{d t^{2}} y{\\left(t \\right)}}{\\sin{\\left(\\theta_{1}{\\left(t \\right)} \\right)}}$"
      ],
      "text/plain": [
       "Eq(Derivative(\\theta_1(t), (t, 2)), -cos(\\theta_1(t))*Derivative(\\theta_1(t), t)**2/sin(\\theta_1(t)) - Derivative(y(t), (t, 2))/sin(\\theta_1(t)))"
      ]
     },
     "metadata": {},
     "output_type": "display_data"
    },
    {
     "data": {
      "text/latex": [
       "$\\displaystyle \\frac{d^{2}}{d t^{2}} \\theta_{2}{\\left(t \\right)} = - \\frac{\\cos{\\left(\\theta_{2}{\\left(t \\right)} \\right)} \\left(\\frac{d}{d t} \\theta_{2}{\\left(t \\right)}\\right)^{2}}{\\sin{\\left(\\theta_{2}{\\left(t \\right)} \\right)}} - \\frac{\\frac{d^{2}}{d t^{2}} y{\\left(t \\right)}}{\\sin{\\left(\\theta_{2}{\\left(t \\right)} \\right)}}$"
      ],
      "text/plain": [
       "Eq(Derivative(\\theta_2(t), (t, 2)), -cos(\\theta_2(t))*Derivative(\\theta_2(t), t)**2/sin(\\theta_2(t)) - Derivative(y(t), (t, 2))/sin(\\theta_2(t)))"
      ]
     },
     "metadata": {},
     "output_type": "display_data"
    },
    {
     "data": {
      "text/latex": [
       "$\\displaystyle \\frac{d^{2}}{d t^{2}} y{\\left(t \\right)} = \\frac{F_{\\theta 1}}{\\sin{\\left(\\theta_{1}{\\left(t \\right)} \\right)}} + \\frac{F_{\\theta 2}}{\\sin{\\left(\\theta_{2}{\\left(t \\right)} \\right)}} - 0.5 \\sin{\\left(\\theta_{1}{\\left(t \\right)} \\right)} \\frac{d^{2}}{d t^{2}} \\theta_{1}{\\left(t \\right)} - 0.5 \\sin{\\left(\\theta_{2}{\\left(t \\right)} \\right)} \\frac{d^{2}}{d t^{2}} \\theta_{2}{\\left(t \\right)} - 0.5 \\cos{\\left(\\theta_{1}{\\left(t \\right)} \\right)} \\left(\\frac{d}{d t} \\theta_{1}{\\left(t \\right)}\\right)^{2} - 0.5 \\cos{\\left(\\theta_{2}{\\left(t \\right)} \\right)} \\left(\\frac{d}{d t} \\theta_{2}{\\left(t \\right)}\\right)^{2} - 9.8 - \\frac{0.5 \\cos{\\left(\\theta_{2}{\\left(t \\right)} \\right)} \\frac{d^{2}}{d t^{2}} x{\\left(t \\right)}}{\\sin{\\left(\\theta_{2}{\\left(t \\right)} \\right)}} + \\frac{1.25 \\frac{d^{2}}{d t^{2}} \\theta_{2}{\\left(t \\right)}}{\\sin{\\left(\\theta_{2}{\\left(t \\right)} \\right)}} + \\frac{0.5 \\cos{\\left(\\theta_{1}{\\left(t \\right)} \\right)} \\frac{d^{2}}{d t^{2}} x{\\left(t \\right)}}{\\sin{\\left(\\theta_{1}{\\left(t \\right)} \\right)}} + \\frac{1.25 \\frac{d^{2}}{d t^{2}} \\theta_{1}{\\left(t \\right)}}{\\sin{\\left(\\theta_{1}{\\left(t \\right)} \\right)}}$"
      ],
      "text/plain": [
       "Eq(Derivative(y(t), (t, 2)), F_\\theta_1/sin(\\theta_1(t)) + F_\\theta_2/sin(\\theta_2(t)) - 0.5*sin(\\theta_1(t))*Derivative(\\theta_1(t), (t, 2)) - 0.5*sin(\\theta_2(t))*Derivative(\\theta_2(t), (t, 2)) - 0.5*cos(\\theta_1(t))*Derivative(\\theta_1(t), t)**2 - 0.5*cos(\\theta_2(t))*Derivative(\\theta_2(t), t)**2 - 9.8 - 0.5*cos(\\theta_2(t))*Derivative(x(t), (t, 2))/sin(\\theta_2(t)) + 1.25*Derivative(\\theta_2(t), (t, 2))/sin(\\theta_2(t)) + 0.5*cos(\\theta_1(t))*Derivative(x(t), (t, 2))/sin(\\theta_1(t)) + 1.25*Derivative(\\theta_1(t), (t, 2))/sin(\\theta_1(t)))"
      ]
     },
     "metadata": {},
     "output_type": "display_data"
    },
    {
     "data": {
      "text/latex": [
       "$\\displaystyle \\lambda_{1} = - \\frac{1.5 F_{\\theta 1}}{\\sin{\\left(\\theta_{1}{\\left(t \\right)} \\right)}} - \\frac{0.5 F_{\\theta 2}}{\\sin{\\left(\\theta_{2}{\\left(t \\right)} \\right)}} + 0.25 \\sin{\\left(\\theta_{1}{\\left(t \\right)} \\right)} \\frac{d^{2}}{d t^{2}} \\theta_{1}{\\left(t \\right)} + 0.25 \\sin{\\left(\\theta_{2}{\\left(t \\right)} \\right)} \\frac{d^{2}}{d t^{2}} \\theta_{2}{\\left(t \\right)} + 0.25 \\cos{\\left(\\theta_{1}{\\left(t \\right)} \\right)} \\left(\\frac{d}{d t} \\theta_{1}{\\left(t \\right)}\\right)^{2} + 0.25 \\cos{\\left(\\theta_{2}{\\left(t \\right)} \\right)} \\left(\\frac{d}{d t} \\theta_{2}{\\left(t \\right)}\\right)^{2} + \\frac{0.25 \\cos{\\left(\\theta_{2}{\\left(t \\right)} \\right)} \\frac{d^{2}}{d t^{2}} x{\\left(t \\right)}}{\\sin{\\left(\\theta_{2}{\\left(t \\right)} \\right)}} - \\frac{0.625 \\frac{d^{2}}{d t^{2}} \\theta_{2}{\\left(t \\right)}}{\\sin{\\left(\\theta_{2}{\\left(t \\right)} \\right)}} - \\frac{0.75 \\cos{\\left(\\theta_{1}{\\left(t \\right)} \\right)} \\frac{d^{2}}{d t^{2}} x{\\left(t \\right)}}{\\sin{\\left(\\theta_{1}{\\left(t \\right)} \\right)}} - \\frac{1.875 \\frac{d^{2}}{d t^{2}} \\theta_{1}{\\left(t \\right)}}{\\sin{\\left(\\theta_{1}{\\left(t \\right)} \\right)}}$"
      ],
      "text/plain": [
       "Eq(\\lambda_1, -1.5*F_\\theta_1/sin(\\theta_1(t)) - 0.5*F_\\theta_2/sin(\\theta_2(t)) + 0.25*sin(\\theta_1(t))*Derivative(\\theta_1(t), (t, 2)) + 0.25*sin(\\theta_2(t))*Derivative(\\theta_2(t), (t, 2)) + 0.25*cos(\\theta_1(t))*Derivative(\\theta_1(t), t)**2 + 0.25*cos(\\theta_2(t))*Derivative(\\theta_2(t), t)**2 + 0.25*cos(\\theta_2(t))*Derivative(x(t), (t, 2))/sin(\\theta_2(t)) - 0.625*Derivative(\\theta_2(t), (t, 2))/sin(\\theta_2(t)) - 0.75*cos(\\theta_1(t))*Derivative(x(t), (t, 2))/sin(\\theta_1(t)) - 1.875*Derivative(\\theta_1(t), (t, 2))/sin(\\theta_1(t)))"
      ]
     },
     "metadata": {},
     "output_type": "display_data"
    },
    {
     "data": {
      "text/latex": [
       "$\\displaystyle \\lambda_{2} = - \\frac{0.5 F_{\\theta 1}}{\\sin{\\left(\\theta_{1}{\\left(t \\right)} \\right)}} - \\frac{1.5 F_{\\theta 2}}{\\sin{\\left(\\theta_{2}{\\left(t \\right)} \\right)}} + 0.25 \\sin{\\left(\\theta_{1}{\\left(t \\right)} \\right)} \\frac{d^{2}}{d t^{2}} \\theta_{1}{\\left(t \\right)} + 0.25 \\sin{\\left(\\theta_{2}{\\left(t \\right)} \\right)} \\frac{d^{2}}{d t^{2}} \\theta_{2}{\\left(t \\right)} + 0.25 \\cos{\\left(\\theta_{1}{\\left(t \\right)} \\right)} \\left(\\frac{d}{d t} \\theta_{1}{\\left(t \\right)}\\right)^{2} + 0.25 \\cos{\\left(\\theta_{2}{\\left(t \\right)} \\right)} \\left(\\frac{d}{d t} \\theta_{2}{\\left(t \\right)}\\right)^{2} + \\frac{0.75 \\cos{\\left(\\theta_{2}{\\left(t \\right)} \\right)} \\frac{d^{2}}{d t^{2}} x{\\left(t \\right)}}{\\sin{\\left(\\theta_{2}{\\left(t \\right)} \\right)}} - \\frac{1.875 \\frac{d^{2}}{d t^{2}} \\theta_{2}{\\left(t \\right)}}{\\sin{\\left(\\theta_{2}{\\left(t \\right)} \\right)}} - \\frac{0.25 \\cos{\\left(\\theta_{1}{\\left(t \\right)} \\right)} \\frac{d^{2}}{d t^{2}} x{\\left(t \\right)}}{\\sin{\\left(\\theta_{1}{\\left(t \\right)} \\right)}} - \\frac{0.625 \\frac{d^{2}}{d t^{2}} \\theta_{1}{\\left(t \\right)}}{\\sin{\\left(\\theta_{1}{\\left(t \\right)} \\right)}}$"
      ],
      "text/plain": [
       "Eq(\\lambda_2, -0.5*F_\\theta_1/sin(\\theta_1(t)) - 1.5*F_\\theta_2/sin(\\theta_2(t)) + 0.25*sin(\\theta_1(t))*Derivative(\\theta_1(t), (t, 2)) + 0.25*sin(\\theta_2(t))*Derivative(\\theta_2(t), (t, 2)) + 0.25*cos(\\theta_1(t))*Derivative(\\theta_1(t), t)**2 + 0.25*cos(\\theta_2(t))*Derivative(\\theta_2(t), t)**2 + 0.75*cos(\\theta_2(t))*Derivative(x(t), (t, 2))/sin(\\theta_2(t)) - 1.875*Derivative(\\theta_2(t), (t, 2))/sin(\\theta_2(t)) - 0.25*cos(\\theta_1(t))*Derivative(x(t), (t, 2))/sin(\\theta_1(t)) - 0.625*Derivative(\\theta_1(t), (t, 2))/sin(\\theta_1(t)))"
      ]
     },
     "metadata": {},
     "output_type": "display_data"
    }
   ],
   "source": [
    "def format_simplify_solns(soln):\n",
    "    eqns_solved = []\n",
    "    #eqns_new = []\n",
    "\n",
    "    for i, sol in enumerate(soln):\n",
    "        for x in list(sol.keys()):\n",
    "            eqn_solved = sym.Eq(x, sol[x])\n",
    "            eqns_solved.append(eqn_solved)\n",
    "\n",
    "    return eqns_solved\n",
    "            \n",
    "#     print(\"Simplified:\")\n",
    "#     for eq in eqns_solved:\n",
    "#         eq_new = eq.simplify()\n",
    "#         display(eq_new)\n",
    "#         eqns_new.append(eq_new)\n",
    "#         #display(eq)\n",
    "        \n",
    "eqns_A  = format_simplify_solns(solns_A)\n",
    "eqns_B  = format_simplify_solns(solns_B)\n",
    "\n",
    "print(\"Intermediate equations of state variables:\")\n",
    "for eqn in eqns_A:\n",
    "    display(eqn)\n",
    "for eqn in eqns_B:\n",
    "    display(eqn)\n"
   ]
  },
  {
   "cell_type": "code",
   "execution_count": 80,
   "metadata": {},
   "outputs": [
    {
     "name": "stdout",
     "output_type": "stream",
     "text": [
      "Slightly substituted equations to solve:\n"
     ]
    },
    {
     "data": {
      "text/latex": [
       "$\\displaystyle \\left[\\begin{matrix}- 0.25 \\sin{\\left(\\theta_{1}{\\left(t \\right)} \\right)} \\left(\\frac{d}{d t} \\theta_{1}{\\left(t \\right)}\\right)^{2} + 0.25 \\sin{\\left(\\theta_{2}{\\left(t \\right)} \\right)} \\left(\\frac{d}{d t} \\theta_{2}{\\left(t \\right)}\\right)^{2} + \\frac{d^{2}}{d t^{2}} x{\\left(t \\right)} + \\frac{0.25 \\cos^{2}{\\left(\\theta_{2}{\\left(t \\right)} \\right)} \\left(\\frac{d}{d t} \\theta_{2}{\\left(t \\right)}\\right)^{2}}{\\sin{\\left(\\theta_{2}{\\left(t \\right)} \\right)}} + \\frac{0.25 \\cos{\\left(\\theta_{2}{\\left(t \\right)} \\right)} \\frac{d^{2}}{d t^{2}} y{\\left(t \\right)}}{\\sin{\\left(\\theta_{2}{\\left(t \\right)} \\right)}} - \\frac{0.25 \\cos^{2}{\\left(\\theta_{1}{\\left(t \\right)} \\right)} \\left(\\frac{d}{d t} \\theta_{1}{\\left(t \\right)}\\right)^{2}}{\\sin{\\left(\\theta_{1}{\\left(t \\right)} \\right)}} - \\frac{0.25 \\cos{\\left(\\theta_{1}{\\left(t \\right)} \\right)} \\frac{d^{2}}{d t^{2}} y{\\left(t \\right)}}{\\sin{\\left(\\theta_{1}{\\left(t \\right)} \\right)}}\\\\\\frac{d^{2}}{d t^{2}} \\theta_{1}{\\left(t \\right)} + \\frac{\\cos{\\left(\\theta_{1}{\\left(t \\right)} \\right)} \\left(\\frac{d}{d t} \\theta_{1}{\\left(t \\right)}\\right)^{2}}{\\sin{\\left(\\theta_{1}{\\left(t \\right)} \\right)}} + \\frac{\\frac{d^{2}}{d t^{2}} y{\\left(t \\right)}}{\\sin{\\left(\\theta_{1}{\\left(t \\right)} \\right)}}\\\\\\frac{d^{2}}{d t^{2}} \\theta_{2}{\\left(t \\right)} + \\frac{\\cos{\\left(\\theta_{2}{\\left(t \\right)} \\right)} \\left(\\frac{d}{d t} \\theta_{2}{\\left(t \\right)}\\right)^{2}}{\\sin{\\left(\\theta_{2}{\\left(t \\right)} \\right)}} + \\frac{\\frac{d^{2}}{d t^{2}} y{\\left(t \\right)}}{\\sin{\\left(\\theta_{2}{\\left(t \\right)} \\right)}}\\\\- \\frac{F_{\\theta 1}}{\\sin{\\left(\\theta_{1}{\\left(t \\right)} \\right)}} - \\frac{F_{\\theta 2}}{\\sin{\\left(\\theta_{2}{\\left(t \\right)} \\right)}} + 0.5 \\sin{\\left(\\theta_{1}{\\left(t \\right)} \\right)} \\frac{d^{2}}{d t^{2}} \\theta_{1}{\\left(t \\right)} + 0.5 \\sin{\\left(\\theta_{2}{\\left(t \\right)} \\right)} \\frac{d^{2}}{d t^{2}} \\theta_{2}{\\left(t \\right)} + 0.5 \\cos{\\left(\\theta_{1}{\\left(t \\right)} \\right)} \\left(\\frac{d}{d t} \\theta_{1}{\\left(t \\right)}\\right)^{2} + 0.5 \\cos{\\left(\\theta_{2}{\\left(t \\right)} \\right)} \\left(\\frac{d}{d t} \\theta_{2}{\\left(t \\right)}\\right)^{2} + \\frac{d^{2}}{d t^{2}} y{\\left(t \\right)} + 9.8 + \\frac{0.5 \\cos{\\left(\\theta_{2}{\\left(t \\right)} \\right)} \\frac{d^{2}}{d t^{2}} x{\\left(t \\right)}}{\\sin{\\left(\\theta_{2}{\\left(t \\right)} \\right)}} - \\frac{1.25 \\frac{d^{2}}{d t^{2}} \\theta_{2}{\\left(t \\right)}}{\\sin{\\left(\\theta_{2}{\\left(t \\right)} \\right)}} - \\frac{0.5 \\cos{\\left(\\theta_{1}{\\left(t \\right)} \\right)} \\frac{d^{2}}{d t^{2}} x{\\left(t \\right)}}{\\sin{\\left(\\theta_{1}{\\left(t \\right)} \\right)}} - \\frac{1.25 \\frac{d^{2}}{d t^{2}} \\theta_{1}{\\left(t \\right)}}{\\sin{\\left(\\theta_{1}{\\left(t \\right)} \\right)}}\\end{matrix}\\right]$"
      ],
      "text/plain": [
       "Matrix([\n",
       "[                                                                                                                                        -0.25*sin(\\theta_1(t))*Derivative(\\theta_1(t), t)**2 + 0.25*sin(\\theta_2(t))*Derivative(\\theta_2(t), t)**2 + Derivative(x(t), (t, 2)) + 0.25*cos(\\theta_2(t))**2*Derivative(\\theta_2(t), t)**2/sin(\\theta_2(t)) + 0.25*cos(\\theta_2(t))*Derivative(y(t), (t, 2))/sin(\\theta_2(t)) - 0.25*cos(\\theta_1(t))**2*Derivative(\\theta_1(t), t)**2/sin(\\theta_1(t)) - 0.25*cos(\\theta_1(t))*Derivative(y(t), (t, 2))/sin(\\theta_1(t))],\n",
       "[                                                                                                                                                                                                                                                                                                                                                                                                                        Derivative(\\theta_1(t), (t, 2)) + cos(\\theta_1(t))*Derivative(\\theta_1(t), t)**2/sin(\\theta_1(t)) + Derivative(y(t), (t, 2))/sin(\\theta_1(t))],\n",
       "[                                                                                                                                                                                                                                                                                                                                                                                                                        Derivative(\\theta_2(t), (t, 2)) + cos(\\theta_2(t))*Derivative(\\theta_2(t), t)**2/sin(\\theta_2(t)) + Derivative(y(t), (t, 2))/sin(\\theta_2(t))],\n",
       "[-F_\\theta_1/sin(\\theta_1(t)) - F_\\theta_2/sin(\\theta_2(t)) + 0.5*sin(\\theta_1(t))*Derivative(\\theta_1(t), (t, 2)) + 0.5*sin(\\theta_2(t))*Derivative(\\theta_2(t), (t, 2)) + 0.5*cos(\\theta_1(t))*Derivative(\\theta_1(t), t)**2 + 0.5*cos(\\theta_2(t))*Derivative(\\theta_2(t), t)**2 + Derivative(y(t), (t, 2)) + 9.8 + 0.5*cos(\\theta_2(t))*Derivative(x(t), (t, 2))/sin(\\theta_2(t)) - 1.25*Derivative(\\theta_2(t), (t, 2))/sin(\\theta_2(t)) - 0.5*cos(\\theta_1(t))*Derivative(x(t), (t, 2))/sin(\\theta_1(t)) - 1.25*Derivative(\\theta_1(t), (t, 2))/sin(\\theta_1(t))]])"
      ]
     },
     "metadata": {},
     "output_type": "display_data"
    }
   ],
   "source": [
    "#work with the results of the previous simplifications and solve the ODEs independently\n",
    "xdd      = x.diff(t).diff(t)\n",
    "theta1dd = theta1.diff(t).diff(t)\n",
    "theta2dd = theta2.diff(t).diff(t)\n",
    "ydd      = y.diff(t).diff(t)\n",
    "\n",
    "# xdd_sy      = eqns_A[0].rhs \n",
    "# theta1dd_sy = eqns_A[1].rhs\n",
    "# theta2dd_sy = eqns_A[2].rhs\n",
    "\n",
    "# ydd_sy   = eqns_B[0].rhs\n",
    "# lamb1_sy = eqns_B[1].rhs\n",
    "# lamb2_sy = eqns_B[2].rhs\n",
    "\n",
    "xdd_sy      = eqns_A[0].rhs \n",
    "theta1dd_sy = eqns_A[1].rhs\n",
    "theta2dd_sy = eqns_A[2].rhs\n",
    "ydd_sy      = eqns_B[0].rhs\n",
    "\n",
    "mat_sol2 = sym.Matrix([\n",
    "    eqns_A[0].lhs - eqns_A[0].rhs,\n",
    "    eqns_A[1].lhs - eqns_A[1].rhs,\n",
    "    eqns_A[2].lhs - eqns_A[2].rhs,\n",
    "    eqns_B[0].lhs - eqns_B[0].rhs,\n",
    "])\n",
    "\n",
    "print(\"Slightly substituted equations to solve:\")\n",
    "display(mat_sol2)\n"
   ]
  },
  {
   "cell_type": "code",
   "execution_count": 83,
   "metadata": {},
   "outputs": [
    {
     "name": "stdout",
     "output_type": "stream",
     "text": [
      "Elapsed: 2.5351128578186035 seconds\n"
     ]
    }
   ],
   "source": [
    "'''\n",
    "solve the smaller system of equations. lambda1 and lambda2 are already\n",
    "factored in, due to the earlier solution of y, lambda1, and lambda2 in terms of \n",
    "the other state variables. this reduced matrix will hopefully be less computationally expensive\n",
    "to solve.\n",
    "'''\n",
    "qdd_v2 = sym.Matrix([xdd, ydd, theta1dd, theta2dd])\n",
    "#display(qdd_v2)\n",
    "\n",
    "t0 = time.time()\n",
    "soln_v2 = sym.solve(mat_sol2, qdd_v2, dict=True)\n",
    "tf = time.time()\n",
    "print(f\"Elapsed: {tf - t0} seconds\")"
   ]
  },
  {
   "cell_type": "code",
   "execution_count": 84,
   "metadata": {},
   "outputs": [
    {
     "data": {
      "text/latex": [
       "$\\displaystyle \\frac{d^{2}}{d t^{2}} x{\\left(t \\right)} = \\frac{20.0 F_{\\theta 1} \\sin{\\left(\\theta_{1}{\\left(t \\right)} \\right)} \\sin{\\left(\\theta_{2}{\\left(t \\right)} \\right)} \\cos{\\left(\\theta_{2}{\\left(t \\right)} \\right)}}{10.0 \\sin^{2}{\\left(\\theta_{1}{\\left(t \\right)} \\right)} \\cos^{2}{\\left(\\theta_{2}{\\left(t \\right)} \\right)} - 100.0 \\sin^{2}{\\left(\\theta_{1}{\\left(t \\right)} \\right)} - 20.0 \\sin{\\left(\\theta_{1}{\\left(t \\right)} \\right)} \\sin{\\left(\\theta_{2}{\\left(t \\right)} \\right)} \\cos{\\left(\\theta_{1}{\\left(t \\right)} \\right)} \\cos{\\left(\\theta_{2}{\\left(t \\right)} \\right)} + 10.0 \\sin^{2}{\\left(\\theta_{2}{\\left(t \\right)} \\right)} \\cos^{2}{\\left(\\theta_{1}{\\left(t \\right)} \\right)} - 100.0 \\sin^{2}{\\left(\\theta_{2}{\\left(t \\right)} \\right)}} - \\frac{20.0 F_{\\theta 1} \\sin^{2}{\\left(\\theta_{2}{\\left(t \\right)} \\right)} \\cos{\\left(\\theta_{1}{\\left(t \\right)} \\right)}}{10.0 \\sin^{2}{\\left(\\theta_{1}{\\left(t \\right)} \\right)} \\cos^{2}{\\left(\\theta_{2}{\\left(t \\right)} \\right)} - 100.0 \\sin^{2}{\\left(\\theta_{1}{\\left(t \\right)} \\right)} - 20.0 \\sin{\\left(\\theta_{1}{\\left(t \\right)} \\right)} \\sin{\\left(\\theta_{2}{\\left(t \\right)} \\right)} \\cos{\\left(\\theta_{1}{\\left(t \\right)} \\right)} \\cos{\\left(\\theta_{2}{\\left(t \\right)} \\right)} + 10.0 \\sin^{2}{\\left(\\theta_{2}{\\left(t \\right)} \\right)} \\cos^{2}{\\left(\\theta_{1}{\\left(t \\right)} \\right)} - 100.0 \\sin^{2}{\\left(\\theta_{2}{\\left(t \\right)} \\right)}} + \\frac{20.0 F_{\\theta 2} \\sin^{2}{\\left(\\theta_{1}{\\left(t \\right)} \\right)} \\cos{\\left(\\theta_{2}{\\left(t \\right)} \\right)}}{10.0 \\sin^{2}{\\left(\\theta_{1}{\\left(t \\right)} \\right)} \\cos^{2}{\\left(\\theta_{2}{\\left(t \\right)} \\right)} - 100.0 \\sin^{2}{\\left(\\theta_{1}{\\left(t \\right)} \\right)} - 20.0 \\sin{\\left(\\theta_{1}{\\left(t \\right)} \\right)} \\sin{\\left(\\theta_{2}{\\left(t \\right)} \\right)} \\cos{\\left(\\theta_{1}{\\left(t \\right)} \\right)} \\cos{\\left(\\theta_{2}{\\left(t \\right)} \\right)} + 10.0 \\sin^{2}{\\left(\\theta_{2}{\\left(t \\right)} \\right)} \\cos^{2}{\\left(\\theta_{1}{\\left(t \\right)} \\right)} - 100.0 \\sin^{2}{\\left(\\theta_{2}{\\left(t \\right)} \\right)}} - \\frac{20.0 F_{\\theta 2} \\sin{\\left(\\theta_{1}{\\left(t \\right)} \\right)} \\sin{\\left(\\theta_{2}{\\left(t \\right)} \\right)} \\cos{\\left(\\theta_{1}{\\left(t \\right)} \\right)}}{10.0 \\sin^{2}{\\left(\\theta_{1}{\\left(t \\right)} \\right)} \\cos^{2}{\\left(\\theta_{2}{\\left(t \\right)} \\right)} - 100.0 \\sin^{2}{\\left(\\theta_{1}{\\left(t \\right)} \\right)} - 20.0 \\sin{\\left(\\theta_{1}{\\left(t \\right)} \\right)} \\sin{\\left(\\theta_{2}{\\left(t \\right)} \\right)} \\cos{\\left(\\theta_{1}{\\left(t \\right)} \\right)} \\cos{\\left(\\theta_{2}{\\left(t \\right)} \\right)} + 10.0 \\sin^{2}{\\left(\\theta_{2}{\\left(t \\right)} \\right)} \\cos^{2}{\\left(\\theta_{1}{\\left(t \\right)} \\right)} - 100.0 \\sin^{2}{\\left(\\theta_{2}{\\left(t \\right)} \\right)}} - \\frac{25.0 \\sin^{3}{\\left(\\theta_{1}{\\left(t \\right)} \\right)} \\left(\\frac{d}{d t} \\theta_{1}{\\left(t \\right)}\\right)^{2}}{10.0 \\sin^{2}{\\left(\\theta_{1}{\\left(t \\right)} \\right)} \\cos^{2}{\\left(\\theta_{2}{\\left(t \\right)} \\right)} - 100.0 \\sin^{2}{\\left(\\theta_{1}{\\left(t \\right)} \\right)} - 20.0 \\sin{\\left(\\theta_{1}{\\left(t \\right)} \\right)} \\sin{\\left(\\theta_{2}{\\left(t \\right)} \\right)} \\cos{\\left(\\theta_{1}{\\left(t \\right)} \\right)} \\cos{\\left(\\theta_{2}{\\left(t \\right)} \\right)} + 10.0 \\sin^{2}{\\left(\\theta_{2}{\\left(t \\right)} \\right)} \\cos^{2}{\\left(\\theta_{1}{\\left(t \\right)} \\right)} - 100.0 \\sin^{2}{\\left(\\theta_{2}{\\left(t \\right)} \\right)}} - \\frac{196.0 \\sin^{2}{\\left(\\theta_{1}{\\left(t \\right)} \\right)} \\sin{\\left(\\theta_{2}{\\left(t \\right)} \\right)} \\cos{\\left(\\theta_{2}{\\left(t \\right)} \\right)}}{10.0 \\sin^{2}{\\left(\\theta_{1}{\\left(t \\right)} \\right)} \\cos^{2}{\\left(\\theta_{2}{\\left(t \\right)} \\right)} - 100.0 \\sin^{2}{\\left(\\theta_{1}{\\left(t \\right)} \\right)} - 20.0 \\sin{\\left(\\theta_{1}{\\left(t \\right)} \\right)} \\sin{\\left(\\theta_{2}{\\left(t \\right)} \\right)} \\cos{\\left(\\theta_{1}{\\left(t \\right)} \\right)} \\cos{\\left(\\theta_{2}{\\left(t \\right)} \\right)} + 10.0 \\sin^{2}{\\left(\\theta_{2}{\\left(t \\right)} \\right)} \\cos^{2}{\\left(\\theta_{1}{\\left(t \\right)} \\right)} - 100.0 \\sin^{2}{\\left(\\theta_{2}{\\left(t \\right)} \\right)}} + \\frac{25.0 \\sin^{2}{\\left(\\theta_{1}{\\left(t \\right)} \\right)} \\sin{\\left(\\theta_{2}{\\left(t \\right)} \\right)} \\left(\\frac{d}{d t} \\theta_{2}{\\left(t \\right)}\\right)^{2}}{10.0 \\sin^{2}{\\left(\\theta_{1}{\\left(t \\right)} \\right)} \\cos^{2}{\\left(\\theta_{2}{\\left(t \\right)} \\right)} - 100.0 \\sin^{2}{\\left(\\theta_{1}{\\left(t \\right)} \\right)} - 20.0 \\sin{\\left(\\theta_{1}{\\left(t \\right)} \\right)} \\sin{\\left(\\theta_{2}{\\left(t \\right)} \\right)} \\cos{\\left(\\theta_{1}{\\left(t \\right)} \\right)} \\cos{\\left(\\theta_{2}{\\left(t \\right)} \\right)} + 10.0 \\sin^{2}{\\left(\\theta_{2}{\\left(t \\right)} \\right)} \\cos^{2}{\\left(\\theta_{1}{\\left(t \\right)} \\right)} - 100.0 \\sin^{2}{\\left(\\theta_{2}{\\left(t \\right)} \\right)}} + \\frac{196.0 \\sin{\\left(\\theta_{1}{\\left(t \\right)} \\right)} \\sin^{2}{\\left(\\theta_{2}{\\left(t \\right)} \\right)} \\cos{\\left(\\theta_{1}{\\left(t \\right)} \\right)}}{10.0 \\sin^{2}{\\left(\\theta_{1}{\\left(t \\right)} \\right)} \\cos^{2}{\\left(\\theta_{2}{\\left(t \\right)} \\right)} - 100.0 \\sin^{2}{\\left(\\theta_{1}{\\left(t \\right)} \\right)} - 20.0 \\sin{\\left(\\theta_{1}{\\left(t \\right)} \\right)} \\sin{\\left(\\theta_{2}{\\left(t \\right)} \\right)} \\cos{\\left(\\theta_{1}{\\left(t \\right)} \\right)} \\cos{\\left(\\theta_{2}{\\left(t \\right)} \\right)} + 10.0 \\sin^{2}{\\left(\\theta_{2}{\\left(t \\right)} \\right)} \\cos^{2}{\\left(\\theta_{1}{\\left(t \\right)} \\right)} - 100.0 \\sin^{2}{\\left(\\theta_{2}{\\left(t \\right)} \\right)}} - \\frac{25.0 \\sin{\\left(\\theta_{1}{\\left(t \\right)} \\right)} \\sin^{2}{\\left(\\theta_{2}{\\left(t \\right)} \\right)} \\left(\\frac{d}{d t} \\theta_{1}{\\left(t \\right)}\\right)^{2}}{10.0 \\sin^{2}{\\left(\\theta_{1}{\\left(t \\right)} \\right)} \\cos^{2}{\\left(\\theta_{2}{\\left(t \\right)} \\right)} - 100.0 \\sin^{2}{\\left(\\theta_{1}{\\left(t \\right)} \\right)} - 20.0 \\sin{\\left(\\theta_{1}{\\left(t \\right)} \\right)} \\sin{\\left(\\theta_{2}{\\left(t \\right)} \\right)} \\cos{\\left(\\theta_{1}{\\left(t \\right)} \\right)} \\cos{\\left(\\theta_{2}{\\left(t \\right)} \\right)} + 10.0 \\sin^{2}{\\left(\\theta_{2}{\\left(t \\right)} \\right)} \\cos^{2}{\\left(\\theta_{1}{\\left(t \\right)} \\right)} - 100.0 \\sin^{2}{\\left(\\theta_{2}{\\left(t \\right)} \\right)}} - \\frac{25.0 \\sin{\\left(\\theta_{1}{\\left(t \\right)} \\right)} \\cos^{2}{\\left(\\theta_{1}{\\left(t \\right)} \\right)} \\left(\\frac{d}{d t} \\theta_{1}{\\left(t \\right)}\\right)^{2}}{10.0 \\sin^{2}{\\left(\\theta_{1}{\\left(t \\right)} \\right)} \\cos^{2}{\\left(\\theta_{2}{\\left(t \\right)} \\right)} - 100.0 \\sin^{2}{\\left(\\theta_{1}{\\left(t \\right)} \\right)} - 20.0 \\sin{\\left(\\theta_{1}{\\left(t \\right)} \\right)} \\sin{\\left(\\theta_{2}{\\left(t \\right)} \\right)} \\cos{\\left(\\theta_{1}{\\left(t \\right)} \\right)} \\cos{\\left(\\theta_{2}{\\left(t \\right)} \\right)} + 10.0 \\sin^{2}{\\left(\\theta_{2}{\\left(t \\right)} \\right)} \\cos^{2}{\\left(\\theta_{1}{\\left(t \\right)} \\right)} - 100.0 \\sin^{2}{\\left(\\theta_{2}{\\left(t \\right)} \\right)}} + \\frac{25.0 \\sin{\\left(\\theta_{1}{\\left(t \\right)} \\right)} \\cos{\\left(\\theta_{1}{\\left(t \\right)} \\right)} \\cos{\\left(\\theta_{2}{\\left(t \\right)} \\right)} \\left(\\frac{d}{d t} \\theta_{2}{\\left(t \\right)}\\right)^{2}}{10.0 \\sin^{2}{\\left(\\theta_{1}{\\left(t \\right)} \\right)} \\cos^{2}{\\left(\\theta_{2}{\\left(t \\right)} \\right)} - 100.0 \\sin^{2}{\\left(\\theta_{1}{\\left(t \\right)} \\right)} - 20.0 \\sin{\\left(\\theta_{1}{\\left(t \\right)} \\right)} \\sin{\\left(\\theta_{2}{\\left(t \\right)} \\right)} \\cos{\\left(\\theta_{1}{\\left(t \\right)} \\right)} \\cos{\\left(\\theta_{2}{\\left(t \\right)} \\right)} + 10.0 \\sin^{2}{\\left(\\theta_{2}{\\left(t \\right)} \\right)} \\cos^{2}{\\left(\\theta_{1}{\\left(t \\right)} \\right)} - 100.0 \\sin^{2}{\\left(\\theta_{2}{\\left(t \\right)} \\right)}} + \\frac{25.0 \\sin^{3}{\\left(\\theta_{2}{\\left(t \\right)} \\right)} \\left(\\frac{d}{d t} \\theta_{2}{\\left(t \\right)}\\right)^{2}}{10.0 \\sin^{2}{\\left(\\theta_{1}{\\left(t \\right)} \\right)} \\cos^{2}{\\left(\\theta_{2}{\\left(t \\right)} \\right)} - 100.0 \\sin^{2}{\\left(\\theta_{1}{\\left(t \\right)} \\right)} - 20.0 \\sin{\\left(\\theta_{1}{\\left(t \\right)} \\right)} \\sin{\\left(\\theta_{2}{\\left(t \\right)} \\right)} \\cos{\\left(\\theta_{1}{\\left(t \\right)} \\right)} \\cos{\\left(\\theta_{2}{\\left(t \\right)} \\right)} + 10.0 \\sin^{2}{\\left(\\theta_{2}{\\left(t \\right)} \\right)} \\cos^{2}{\\left(\\theta_{1}{\\left(t \\right)} \\right)} - 100.0 \\sin^{2}{\\left(\\theta_{2}{\\left(t \\right)} \\right)}} - \\frac{25.0 \\sin{\\left(\\theta_{2}{\\left(t \\right)} \\right)} \\cos{\\left(\\theta_{1}{\\left(t \\right)} \\right)} \\cos{\\left(\\theta_{2}{\\left(t \\right)} \\right)} \\left(\\frac{d}{d t} \\theta_{1}{\\left(t \\right)}\\right)^{2}}{10.0 \\sin^{2}{\\left(\\theta_{1}{\\left(t \\right)} \\right)} \\cos^{2}{\\left(\\theta_{2}{\\left(t \\right)} \\right)} - 100.0 \\sin^{2}{\\left(\\theta_{1}{\\left(t \\right)} \\right)} - 20.0 \\sin{\\left(\\theta_{1}{\\left(t \\right)} \\right)} \\sin{\\left(\\theta_{2}{\\left(t \\right)} \\right)} \\cos{\\left(\\theta_{1}{\\left(t \\right)} \\right)} \\cos{\\left(\\theta_{2}{\\left(t \\right)} \\right)} + 10.0 \\sin^{2}{\\left(\\theta_{2}{\\left(t \\right)} \\right)} \\cos^{2}{\\left(\\theta_{1}{\\left(t \\right)} \\right)} - 100.0 \\sin^{2}{\\left(\\theta_{2}{\\left(t \\right)} \\right)}} + \\frac{25.0 \\sin{\\left(\\theta_{2}{\\left(t \\right)} \\right)} \\cos^{2}{\\left(\\theta_{2}{\\left(t \\right)} \\right)} \\left(\\frac{d}{d t} \\theta_{2}{\\left(t \\right)}\\right)^{2}}{10.0 \\sin^{2}{\\left(\\theta_{1}{\\left(t \\right)} \\right)} \\cos^{2}{\\left(\\theta_{2}{\\left(t \\right)} \\right)} - 100.0 \\sin^{2}{\\left(\\theta_{1}{\\left(t \\right)} \\right)} - 20.0 \\sin{\\left(\\theta_{1}{\\left(t \\right)} \\right)} \\sin{\\left(\\theta_{2}{\\left(t \\right)} \\right)} \\cos{\\left(\\theta_{1}{\\left(t \\right)} \\right)} \\cos{\\left(\\theta_{2}{\\left(t \\right)} \\right)} + 10.0 \\sin^{2}{\\left(\\theta_{2}{\\left(t \\right)} \\right)} \\cos^{2}{\\left(\\theta_{1}{\\left(t \\right)} \\right)} - 100.0 \\sin^{2}{\\left(\\theta_{2}{\\left(t \\right)} \\right)}}$"
      ],
      "text/plain": [
       "Eq(Derivative(x(t), (t, 2)), 20.0*F_\\theta_1*sin(\\theta_1(t))*sin(\\theta_2(t))*cos(\\theta_2(t))/(10.0*sin(\\theta_1(t))**2*cos(\\theta_2(t))**2 - 100.0*sin(\\theta_1(t))**2 - 20.0*sin(\\theta_1(t))*sin(\\theta_2(t))*cos(\\theta_1(t))*cos(\\theta_2(t)) + 10.0*sin(\\theta_2(t))**2*cos(\\theta_1(t))**2 - 100.0*sin(\\theta_2(t))**2) - 20.0*F_\\theta_1*sin(\\theta_2(t))**2*cos(\\theta_1(t))/(10.0*sin(\\theta_1(t))**2*cos(\\theta_2(t))**2 - 100.0*sin(\\theta_1(t))**2 - 20.0*sin(\\theta_1(t))*sin(\\theta_2(t))*cos(\\theta_1(t))*cos(\\theta_2(t)) + 10.0*sin(\\theta_2(t))**2*cos(\\theta_1(t))**2 - 100.0*sin(\\theta_2(t))**2) + 20.0*F_\\theta_2*sin(\\theta_1(t))**2*cos(\\theta_2(t))/(10.0*sin(\\theta_1(t))**2*cos(\\theta_2(t))**2 - 100.0*sin(\\theta_1(t))**2 - 20.0*sin(\\theta_1(t))*sin(\\theta_2(t))*cos(\\theta_1(t))*cos(\\theta_2(t)) + 10.0*sin(\\theta_2(t))**2*cos(\\theta_1(t))**2 - 100.0*sin(\\theta_2(t))**2) - 20.0*F_\\theta_2*sin(\\theta_1(t))*sin(\\theta_2(t))*cos(\\theta_1(t))/(10.0*sin(\\theta_1(t))**2*cos(\\theta_2(t))**2 - 100.0*sin(\\theta_1(t))**2 - 20.0*sin(\\theta_1(t))*sin(\\theta_2(t))*cos(\\theta_1(t))*cos(\\theta_2(t)) + 10.0*sin(\\theta_2(t))**2*cos(\\theta_1(t))**2 - 100.0*sin(\\theta_2(t))**2) - 25.0*sin(\\theta_1(t))**3*Derivative(\\theta_1(t), t)**2/(10.0*sin(\\theta_1(t))**2*cos(\\theta_2(t))**2 - 100.0*sin(\\theta_1(t))**2 - 20.0*sin(\\theta_1(t))*sin(\\theta_2(t))*cos(\\theta_1(t))*cos(\\theta_2(t)) + 10.0*sin(\\theta_2(t))**2*cos(\\theta_1(t))**2 - 100.0*sin(\\theta_2(t))**2) - 196.0*sin(\\theta_1(t))**2*sin(\\theta_2(t))*cos(\\theta_2(t))/(10.0*sin(\\theta_1(t))**2*cos(\\theta_2(t))**2 - 100.0*sin(\\theta_1(t))**2 - 20.0*sin(\\theta_1(t))*sin(\\theta_2(t))*cos(\\theta_1(t))*cos(\\theta_2(t)) + 10.0*sin(\\theta_2(t))**2*cos(\\theta_1(t))**2 - 100.0*sin(\\theta_2(t))**2) + 25.0*sin(\\theta_1(t))**2*sin(\\theta_2(t))*Derivative(\\theta_2(t), t)**2/(10.0*sin(\\theta_1(t))**2*cos(\\theta_2(t))**2 - 100.0*sin(\\theta_1(t))**2 - 20.0*sin(\\theta_1(t))*sin(\\theta_2(t))*cos(\\theta_1(t))*cos(\\theta_2(t)) + 10.0*sin(\\theta_2(t))**2*cos(\\theta_1(t))**2 - 100.0*sin(\\theta_2(t))**2) + 196.0*sin(\\theta_1(t))*sin(\\theta_2(t))**2*cos(\\theta_1(t))/(10.0*sin(\\theta_1(t))**2*cos(\\theta_2(t))**2 - 100.0*sin(\\theta_1(t))**2 - 20.0*sin(\\theta_1(t))*sin(\\theta_2(t))*cos(\\theta_1(t))*cos(\\theta_2(t)) + 10.0*sin(\\theta_2(t))**2*cos(\\theta_1(t))**2 - 100.0*sin(\\theta_2(t))**2) - 25.0*sin(\\theta_1(t))*sin(\\theta_2(t))**2*Derivative(\\theta_1(t), t)**2/(10.0*sin(\\theta_1(t))**2*cos(\\theta_2(t))**2 - 100.0*sin(\\theta_1(t))**2 - 20.0*sin(\\theta_1(t))*sin(\\theta_2(t))*cos(\\theta_1(t))*cos(\\theta_2(t)) + 10.0*sin(\\theta_2(t))**2*cos(\\theta_1(t))**2 - 100.0*sin(\\theta_2(t))**2) - 25.0*sin(\\theta_1(t))*cos(\\theta_1(t))**2*Derivative(\\theta_1(t), t)**2/(10.0*sin(\\theta_1(t))**2*cos(\\theta_2(t))**2 - 100.0*sin(\\theta_1(t))**2 - 20.0*sin(\\theta_1(t))*sin(\\theta_2(t))*cos(\\theta_1(t))*cos(\\theta_2(t)) + 10.0*sin(\\theta_2(t))**2*cos(\\theta_1(t))**2 - 100.0*sin(\\theta_2(t))**2) + 25.0*sin(\\theta_1(t))*cos(\\theta_1(t))*cos(\\theta_2(t))*Derivative(\\theta_2(t), t)**2/(10.0*sin(\\theta_1(t))**2*cos(\\theta_2(t))**2 - 100.0*sin(\\theta_1(t))**2 - 20.0*sin(\\theta_1(t))*sin(\\theta_2(t))*cos(\\theta_1(t))*cos(\\theta_2(t)) + 10.0*sin(\\theta_2(t))**2*cos(\\theta_1(t))**2 - 100.0*sin(\\theta_2(t))**2) + 25.0*sin(\\theta_2(t))**3*Derivative(\\theta_2(t), t)**2/(10.0*sin(\\theta_1(t))**2*cos(\\theta_2(t))**2 - 100.0*sin(\\theta_1(t))**2 - 20.0*sin(\\theta_1(t))*sin(\\theta_2(t))*cos(\\theta_1(t))*cos(\\theta_2(t)) + 10.0*sin(\\theta_2(t))**2*cos(\\theta_1(t))**2 - 100.0*sin(\\theta_2(t))**2) - 25.0*sin(\\theta_2(t))*cos(\\theta_1(t))*cos(\\theta_2(t))*Derivative(\\theta_1(t), t)**2/(10.0*sin(\\theta_1(t))**2*cos(\\theta_2(t))**2 - 100.0*sin(\\theta_1(t))**2 - 20.0*sin(\\theta_1(t))*sin(\\theta_2(t))*cos(\\theta_1(t))*cos(\\theta_2(t)) + 10.0*sin(\\theta_2(t))**2*cos(\\theta_1(t))**2 - 100.0*sin(\\theta_2(t))**2) + 25.0*sin(\\theta_2(t))*cos(\\theta_2(t))**2*Derivative(\\theta_2(t), t)**2/(10.0*sin(\\theta_1(t))**2*cos(\\theta_2(t))**2 - 100.0*sin(\\theta_1(t))**2 - 20.0*sin(\\theta_1(t))*sin(\\theta_2(t))*cos(\\theta_1(t))*cos(\\theta_2(t)) + 10.0*sin(\\theta_2(t))**2*cos(\\theta_1(t))**2 - 100.0*sin(\\theta_2(t))**2))"
      ]
     },
     "metadata": {},
     "output_type": "display_data"
    },
    {
     "data": {
      "text/latex": [
       "$\\displaystyle \\frac{d^{2}}{d t^{2}} y{\\left(t \\right)} = - \\frac{40.0 F_{\\theta 1} \\sin{\\left(\\theta_{1}{\\left(t \\right)} \\right)} \\sin^{2}{\\left(\\theta_{2}{\\left(t \\right)} \\right)}}{5.0 \\sin^{2}{\\left(\\theta_{1}{\\left(t \\right)} \\right)} \\cos^{2}{\\left(\\theta_{2}{\\left(t \\right)} \\right)} - 50.0 \\sin^{2}{\\left(\\theta_{1}{\\left(t \\right)} \\right)} - 10.0 \\sin{\\left(\\theta_{1}{\\left(t \\right)} \\right)} \\sin{\\left(\\theta_{2}{\\left(t \\right)} \\right)} \\cos{\\left(\\theta_{1}{\\left(t \\right)} \\right)} \\cos{\\left(\\theta_{2}{\\left(t \\right)} \\right)} + 5.0 \\sin^{2}{\\left(\\theta_{2}{\\left(t \\right)} \\right)} \\cos^{2}{\\left(\\theta_{1}{\\left(t \\right)} \\right)} - 50.0 \\sin^{2}{\\left(\\theta_{2}{\\left(t \\right)} \\right)}} - \\frac{40.0 F_{\\theta 2} \\sin^{2}{\\left(\\theta_{1}{\\left(t \\right)} \\right)} \\sin{\\left(\\theta_{2}{\\left(t \\right)} \\right)}}{5.0 \\sin^{2}{\\left(\\theta_{1}{\\left(t \\right)} \\right)} \\cos^{2}{\\left(\\theta_{2}{\\left(t \\right)} \\right)} - 50.0 \\sin^{2}{\\left(\\theta_{1}{\\left(t \\right)} \\right)} - 10.0 \\sin{\\left(\\theta_{1}{\\left(t \\right)} \\right)} \\sin{\\left(\\theta_{2}{\\left(t \\right)} \\right)} \\cos{\\left(\\theta_{1}{\\left(t \\right)} \\right)} \\cos{\\left(\\theta_{2}{\\left(t \\right)} \\right)} + 5.0 \\sin^{2}{\\left(\\theta_{2}{\\left(t \\right)} \\right)} \\cos^{2}{\\left(\\theta_{1}{\\left(t \\right)} \\right)} - 50.0 \\sin^{2}{\\left(\\theta_{2}{\\left(t \\right)} \\right)}} + \\frac{5.0 \\sin^{3}{\\left(\\theta_{1}{\\left(t \\right)} \\right)} \\sin{\\left(\\theta_{2}{\\left(t \\right)} \\right)} \\cos{\\left(\\theta_{2}{\\left(t \\right)} \\right)} \\left(\\frac{d}{d t} \\theta_{1}{\\left(t \\right)}\\right)^{2}}{5.0 \\sin^{2}{\\left(\\theta_{1}{\\left(t \\right)} \\right)} \\cos^{2}{\\left(\\theta_{2}{\\left(t \\right)} \\right)} - 50.0 \\sin^{2}{\\left(\\theta_{1}{\\left(t \\right)} \\right)} - 10.0 \\sin{\\left(\\theta_{1}{\\left(t \\right)} \\right)} \\sin{\\left(\\theta_{2}{\\left(t \\right)} \\right)} \\cos{\\left(\\theta_{1}{\\left(t \\right)} \\right)} \\cos{\\left(\\theta_{2}{\\left(t \\right)} \\right)} + 5.0 \\sin^{2}{\\left(\\theta_{2}{\\left(t \\right)} \\right)} \\cos^{2}{\\left(\\theta_{1}{\\left(t \\right)} \\right)} - 50.0 \\sin^{2}{\\left(\\theta_{2}{\\left(t \\right)} \\right)}} - \\frac{5.0 \\sin^{2}{\\left(\\theta_{1}{\\left(t \\right)} \\right)} \\sin^{2}{\\left(\\theta_{2}{\\left(t \\right)} \\right)} \\cos{\\left(\\theta_{1}{\\left(t \\right)} \\right)} \\left(\\frac{d}{d t} \\theta_{1}{\\left(t \\right)}\\right)^{2}}{5.0 \\sin^{2}{\\left(\\theta_{1}{\\left(t \\right)} \\right)} \\cos^{2}{\\left(\\theta_{2}{\\left(t \\right)} \\right)} - 50.0 \\sin^{2}{\\left(\\theta_{1}{\\left(t \\right)} \\right)} - 10.0 \\sin{\\left(\\theta_{1}{\\left(t \\right)} \\right)} \\sin{\\left(\\theta_{2}{\\left(t \\right)} \\right)} \\cos{\\left(\\theta_{1}{\\left(t \\right)} \\right)} \\cos{\\left(\\theta_{2}{\\left(t \\right)} \\right)} + 5.0 \\sin^{2}{\\left(\\theta_{2}{\\left(t \\right)} \\right)} \\cos^{2}{\\left(\\theta_{1}{\\left(t \\right)} \\right)} - 50.0 \\sin^{2}{\\left(\\theta_{2}{\\left(t \\right)} \\right)}} - \\frac{5.0 \\sin^{2}{\\left(\\theta_{1}{\\left(t \\right)} \\right)} \\sin^{2}{\\left(\\theta_{2}{\\left(t \\right)} \\right)} \\cos{\\left(\\theta_{2}{\\left(t \\right)} \\right)} \\left(\\frac{d}{d t} \\theta_{2}{\\left(t \\right)}\\right)^{2}}{5.0 \\sin^{2}{\\left(\\theta_{1}{\\left(t \\right)} \\right)} \\cos^{2}{\\left(\\theta_{2}{\\left(t \\right)} \\right)} - 50.0 \\sin^{2}{\\left(\\theta_{1}{\\left(t \\right)} \\right)} - 10.0 \\sin{\\left(\\theta_{1}{\\left(t \\right)} \\right)} \\sin{\\left(\\theta_{2}{\\left(t \\right)} \\right)} \\cos{\\left(\\theta_{1}{\\left(t \\right)} \\right)} \\cos{\\left(\\theta_{2}{\\left(t \\right)} \\right)} + 5.0 \\sin^{2}{\\left(\\theta_{2}{\\left(t \\right)} \\right)} \\cos^{2}{\\left(\\theta_{1}{\\left(t \\right)} \\right)} - 50.0 \\sin^{2}{\\left(\\theta_{2}{\\left(t \\right)} \\right)}} + \\frac{392.0 \\sin^{2}{\\left(\\theta_{1}{\\left(t \\right)} \\right)} \\sin^{2}{\\left(\\theta_{2}{\\left(t \\right)} \\right)}}{5.0 \\sin^{2}{\\left(\\theta_{1}{\\left(t \\right)} \\right)} \\cos^{2}{\\left(\\theta_{2}{\\left(t \\right)} \\right)} - 50.0 \\sin^{2}{\\left(\\theta_{1}{\\left(t \\right)} \\right)} - 10.0 \\sin{\\left(\\theta_{1}{\\left(t \\right)} \\right)} \\sin{\\left(\\theta_{2}{\\left(t \\right)} \\right)} \\cos{\\left(\\theta_{1}{\\left(t \\right)} \\right)} \\cos{\\left(\\theta_{2}{\\left(t \\right)} \\right)} + 5.0 \\sin^{2}{\\left(\\theta_{2}{\\left(t \\right)} \\right)} \\cos^{2}{\\left(\\theta_{1}{\\left(t \\right)} \\right)} - 50.0 \\sin^{2}{\\left(\\theta_{2}{\\left(t \\right)} \\right)}} - \\frac{5.0 \\sin^{2}{\\left(\\theta_{1}{\\left(t \\right)} \\right)} \\cos^{3}{\\left(\\theta_{2}{\\left(t \\right)} \\right)} \\left(\\frac{d}{d t} \\theta_{2}{\\left(t \\right)}\\right)^{2}}{5.0 \\sin^{2}{\\left(\\theta_{1}{\\left(t \\right)} \\right)} \\cos^{2}{\\left(\\theta_{2}{\\left(t \\right)} \\right)} - 50.0 \\sin^{2}{\\left(\\theta_{1}{\\left(t \\right)} \\right)} - 10.0 \\sin{\\left(\\theta_{1}{\\left(t \\right)} \\right)} \\sin{\\left(\\theta_{2}{\\left(t \\right)} \\right)} \\cos{\\left(\\theta_{1}{\\left(t \\right)} \\right)} \\cos{\\left(\\theta_{2}{\\left(t \\right)} \\right)} + 5.0 \\sin^{2}{\\left(\\theta_{2}{\\left(t \\right)} \\right)} \\cos^{2}{\\left(\\theta_{1}{\\left(t \\right)} \\right)} - 50.0 \\sin^{2}{\\left(\\theta_{2}{\\left(t \\right)} \\right)}} + \\frac{50.0 \\sin^{2}{\\left(\\theta_{1}{\\left(t \\right)} \\right)} \\cos{\\left(\\theta_{2}{\\left(t \\right)} \\right)} \\left(\\frac{d}{d t} \\theta_{2}{\\left(t \\right)}\\right)^{2}}{5.0 \\sin^{2}{\\left(\\theta_{1}{\\left(t \\right)} \\right)} \\cos^{2}{\\left(\\theta_{2}{\\left(t \\right)} \\right)} - 50.0 \\sin^{2}{\\left(\\theta_{1}{\\left(t \\right)} \\right)} - 10.0 \\sin{\\left(\\theta_{1}{\\left(t \\right)} \\right)} \\sin{\\left(\\theta_{2}{\\left(t \\right)} \\right)} \\cos{\\left(\\theta_{1}{\\left(t \\right)} \\right)} \\cos{\\left(\\theta_{2}{\\left(t \\right)} \\right)} + 5.0 \\sin^{2}{\\left(\\theta_{2}{\\left(t \\right)} \\right)} \\cos^{2}{\\left(\\theta_{1}{\\left(t \\right)} \\right)} - 50.0 \\sin^{2}{\\left(\\theta_{2}{\\left(t \\right)} \\right)}} + \\frac{5.0 \\sin{\\left(\\theta_{1}{\\left(t \\right)} \\right)} \\sin^{3}{\\left(\\theta_{2}{\\left(t \\right)} \\right)} \\cos{\\left(\\theta_{1}{\\left(t \\right)} \\right)} \\left(\\frac{d}{d t} \\theta_{2}{\\left(t \\right)}\\right)^{2}}{5.0 \\sin^{2}{\\left(\\theta_{1}{\\left(t \\right)} \\right)} \\cos^{2}{\\left(\\theta_{2}{\\left(t \\right)} \\right)} - 50.0 \\sin^{2}{\\left(\\theta_{1}{\\left(t \\right)} \\right)} - 10.0 \\sin{\\left(\\theta_{1}{\\left(t \\right)} \\right)} \\sin{\\left(\\theta_{2}{\\left(t \\right)} \\right)} \\cos{\\left(\\theta_{1}{\\left(t \\right)} \\right)} \\cos{\\left(\\theta_{2}{\\left(t \\right)} \\right)} + 5.0 \\sin^{2}{\\left(\\theta_{2}{\\left(t \\right)} \\right)} \\cos^{2}{\\left(\\theta_{1}{\\left(t \\right)} \\right)} - 50.0 \\sin^{2}{\\left(\\theta_{2}{\\left(t \\right)} \\right)}} + \\frac{5.0 \\sin{\\left(\\theta_{1}{\\left(t \\right)} \\right)} \\sin{\\left(\\theta_{2}{\\left(t \\right)} \\right)} \\cos^{2}{\\left(\\theta_{1}{\\left(t \\right)} \\right)} \\cos{\\left(\\theta_{2}{\\left(t \\right)} \\right)} \\left(\\frac{d}{d t} \\theta_{1}{\\left(t \\right)}\\right)^{2}}{5.0 \\sin^{2}{\\left(\\theta_{1}{\\left(t \\right)} \\right)} \\cos^{2}{\\left(\\theta_{2}{\\left(t \\right)} \\right)} - 50.0 \\sin^{2}{\\left(\\theta_{1}{\\left(t \\right)} \\right)} - 10.0 \\sin{\\left(\\theta_{1}{\\left(t \\right)} \\right)} \\sin{\\left(\\theta_{2}{\\left(t \\right)} \\right)} \\cos{\\left(\\theta_{1}{\\left(t \\right)} \\right)} \\cos{\\left(\\theta_{2}{\\left(t \\right)} \\right)} + 5.0 \\sin^{2}{\\left(\\theta_{2}{\\left(t \\right)} \\right)} \\cos^{2}{\\left(\\theta_{1}{\\left(t \\right)} \\right)} - 50.0 \\sin^{2}{\\left(\\theta_{2}{\\left(t \\right)} \\right)}} + \\frac{5.0 \\sin{\\left(\\theta_{1}{\\left(t \\right)} \\right)} \\sin{\\left(\\theta_{2}{\\left(t \\right)} \\right)} \\cos{\\left(\\theta_{1}{\\left(t \\right)} \\right)} \\cos^{2}{\\left(\\theta_{2}{\\left(t \\right)} \\right)} \\left(\\frac{d}{d t} \\theta_{2}{\\left(t \\right)}\\right)^{2}}{5.0 \\sin^{2}{\\left(\\theta_{1}{\\left(t \\right)} \\right)} \\cos^{2}{\\left(\\theta_{2}{\\left(t \\right)} \\right)} - 50.0 \\sin^{2}{\\left(\\theta_{1}{\\left(t \\right)} \\right)} - 10.0 \\sin{\\left(\\theta_{1}{\\left(t \\right)} \\right)} \\sin{\\left(\\theta_{2}{\\left(t \\right)} \\right)} \\cos{\\left(\\theta_{1}{\\left(t \\right)} \\right)} \\cos{\\left(\\theta_{2}{\\left(t \\right)} \\right)} + 5.0 \\sin^{2}{\\left(\\theta_{2}{\\left(t \\right)} \\right)} \\cos^{2}{\\left(\\theta_{1}{\\left(t \\right)} \\right)} - 50.0 \\sin^{2}{\\left(\\theta_{2}{\\left(t \\right)} \\right)}} - \\frac{5.0 \\sin^{2}{\\left(\\theta_{2}{\\left(t \\right)} \\right)} \\cos^{3}{\\left(\\theta_{1}{\\left(t \\right)} \\right)} \\left(\\frac{d}{d t} \\theta_{1}{\\left(t \\right)}\\right)^{2}}{5.0 \\sin^{2}{\\left(\\theta_{1}{\\left(t \\right)} \\right)} \\cos^{2}{\\left(\\theta_{2}{\\left(t \\right)} \\right)} - 50.0 \\sin^{2}{\\left(\\theta_{1}{\\left(t \\right)} \\right)} - 10.0 \\sin{\\left(\\theta_{1}{\\left(t \\right)} \\right)} \\sin{\\left(\\theta_{2}{\\left(t \\right)} \\right)} \\cos{\\left(\\theta_{1}{\\left(t \\right)} \\right)} \\cos{\\left(\\theta_{2}{\\left(t \\right)} \\right)} + 5.0 \\sin^{2}{\\left(\\theta_{2}{\\left(t \\right)} \\right)} \\cos^{2}{\\left(\\theta_{1}{\\left(t \\right)} \\right)} - 50.0 \\sin^{2}{\\left(\\theta_{2}{\\left(t \\right)} \\right)}} + \\frac{50.0 \\sin^{2}{\\left(\\theta_{2}{\\left(t \\right)} \\right)} \\cos{\\left(\\theta_{1}{\\left(t \\right)} \\right)} \\left(\\frac{d}{d t} \\theta_{1}{\\left(t \\right)}\\right)^{2}}{5.0 \\sin^{2}{\\left(\\theta_{1}{\\left(t \\right)} \\right)} \\cos^{2}{\\left(\\theta_{2}{\\left(t \\right)} \\right)} - 50.0 \\sin^{2}{\\left(\\theta_{1}{\\left(t \\right)} \\right)} - 10.0 \\sin{\\left(\\theta_{1}{\\left(t \\right)} \\right)} \\sin{\\left(\\theta_{2}{\\left(t \\right)} \\right)} \\cos{\\left(\\theta_{1}{\\left(t \\right)} \\right)} \\cos{\\left(\\theta_{2}{\\left(t \\right)} \\right)} + 5.0 \\sin^{2}{\\left(\\theta_{2}{\\left(t \\right)} \\right)} \\cos^{2}{\\left(\\theta_{1}{\\left(t \\right)} \\right)} - 50.0 \\sin^{2}{\\left(\\theta_{2}{\\left(t \\right)} \\right)}}$"
      ],
      "text/plain": [
       "Eq(Derivative(y(t), (t, 2)), -40.0*F_\\theta_1*sin(\\theta_1(t))*sin(\\theta_2(t))**2/(5.0*sin(\\theta_1(t))**2*cos(\\theta_2(t))**2 - 50.0*sin(\\theta_1(t))**2 - 10.0*sin(\\theta_1(t))*sin(\\theta_2(t))*cos(\\theta_1(t))*cos(\\theta_2(t)) + 5.0*sin(\\theta_2(t))**2*cos(\\theta_1(t))**2 - 50.0*sin(\\theta_2(t))**2) - 40.0*F_\\theta_2*sin(\\theta_1(t))**2*sin(\\theta_2(t))/(5.0*sin(\\theta_1(t))**2*cos(\\theta_2(t))**2 - 50.0*sin(\\theta_1(t))**2 - 10.0*sin(\\theta_1(t))*sin(\\theta_2(t))*cos(\\theta_1(t))*cos(\\theta_2(t)) + 5.0*sin(\\theta_2(t))**2*cos(\\theta_1(t))**2 - 50.0*sin(\\theta_2(t))**2) + 5.0*sin(\\theta_1(t))**3*sin(\\theta_2(t))*cos(\\theta_2(t))*Derivative(\\theta_1(t), t)**2/(5.0*sin(\\theta_1(t))**2*cos(\\theta_2(t))**2 - 50.0*sin(\\theta_1(t))**2 - 10.0*sin(\\theta_1(t))*sin(\\theta_2(t))*cos(\\theta_1(t))*cos(\\theta_2(t)) + 5.0*sin(\\theta_2(t))**2*cos(\\theta_1(t))**2 - 50.0*sin(\\theta_2(t))**2) - 5.0*sin(\\theta_1(t))**2*sin(\\theta_2(t))**2*cos(\\theta_1(t))*Derivative(\\theta_1(t), t)**2/(5.0*sin(\\theta_1(t))**2*cos(\\theta_2(t))**2 - 50.0*sin(\\theta_1(t))**2 - 10.0*sin(\\theta_1(t))*sin(\\theta_2(t))*cos(\\theta_1(t))*cos(\\theta_2(t)) + 5.0*sin(\\theta_2(t))**2*cos(\\theta_1(t))**2 - 50.0*sin(\\theta_2(t))**2) - 5.0*sin(\\theta_1(t))**2*sin(\\theta_2(t))**2*cos(\\theta_2(t))*Derivative(\\theta_2(t), t)**2/(5.0*sin(\\theta_1(t))**2*cos(\\theta_2(t))**2 - 50.0*sin(\\theta_1(t))**2 - 10.0*sin(\\theta_1(t))*sin(\\theta_2(t))*cos(\\theta_1(t))*cos(\\theta_2(t)) + 5.0*sin(\\theta_2(t))**2*cos(\\theta_1(t))**2 - 50.0*sin(\\theta_2(t))**2) + 392.0*sin(\\theta_1(t))**2*sin(\\theta_2(t))**2/(5.0*sin(\\theta_1(t))**2*cos(\\theta_2(t))**2 - 50.0*sin(\\theta_1(t))**2 - 10.0*sin(\\theta_1(t))*sin(\\theta_2(t))*cos(\\theta_1(t))*cos(\\theta_2(t)) + 5.0*sin(\\theta_2(t))**2*cos(\\theta_1(t))**2 - 50.0*sin(\\theta_2(t))**2) - 5.0*sin(\\theta_1(t))**2*cos(\\theta_2(t))**3*Derivative(\\theta_2(t), t)**2/(5.0*sin(\\theta_1(t))**2*cos(\\theta_2(t))**2 - 50.0*sin(\\theta_1(t))**2 - 10.0*sin(\\theta_1(t))*sin(\\theta_2(t))*cos(\\theta_1(t))*cos(\\theta_2(t)) + 5.0*sin(\\theta_2(t))**2*cos(\\theta_1(t))**2 - 50.0*sin(\\theta_2(t))**2) + 50.0*sin(\\theta_1(t))**2*cos(\\theta_2(t))*Derivative(\\theta_2(t), t)**2/(5.0*sin(\\theta_1(t))**2*cos(\\theta_2(t))**2 - 50.0*sin(\\theta_1(t))**2 - 10.0*sin(\\theta_1(t))*sin(\\theta_2(t))*cos(\\theta_1(t))*cos(\\theta_2(t)) + 5.0*sin(\\theta_2(t))**2*cos(\\theta_1(t))**2 - 50.0*sin(\\theta_2(t))**2) + 5.0*sin(\\theta_1(t))*sin(\\theta_2(t))**3*cos(\\theta_1(t))*Derivative(\\theta_2(t), t)**2/(5.0*sin(\\theta_1(t))**2*cos(\\theta_2(t))**2 - 50.0*sin(\\theta_1(t))**2 - 10.0*sin(\\theta_1(t))*sin(\\theta_2(t))*cos(\\theta_1(t))*cos(\\theta_2(t)) + 5.0*sin(\\theta_2(t))**2*cos(\\theta_1(t))**2 - 50.0*sin(\\theta_2(t))**2) + 5.0*sin(\\theta_1(t))*sin(\\theta_2(t))*cos(\\theta_1(t))**2*cos(\\theta_2(t))*Derivative(\\theta_1(t), t)**2/(5.0*sin(\\theta_1(t))**2*cos(\\theta_2(t))**2 - 50.0*sin(\\theta_1(t))**2 - 10.0*sin(\\theta_1(t))*sin(\\theta_2(t))*cos(\\theta_1(t))*cos(\\theta_2(t)) + 5.0*sin(\\theta_2(t))**2*cos(\\theta_1(t))**2 - 50.0*sin(\\theta_2(t))**2) + 5.0*sin(\\theta_1(t))*sin(\\theta_2(t))*cos(\\theta_1(t))*cos(\\theta_2(t))**2*Derivative(\\theta_2(t), t)**2/(5.0*sin(\\theta_1(t))**2*cos(\\theta_2(t))**2 - 50.0*sin(\\theta_1(t))**2 - 10.0*sin(\\theta_1(t))*sin(\\theta_2(t))*cos(\\theta_1(t))*cos(\\theta_2(t)) + 5.0*sin(\\theta_2(t))**2*cos(\\theta_1(t))**2 - 50.0*sin(\\theta_2(t))**2) - 5.0*sin(\\theta_2(t))**2*cos(\\theta_1(t))**3*Derivative(\\theta_1(t), t)**2/(5.0*sin(\\theta_1(t))**2*cos(\\theta_2(t))**2 - 50.0*sin(\\theta_1(t))**2 - 10.0*sin(\\theta_1(t))*sin(\\theta_2(t))*cos(\\theta_1(t))*cos(\\theta_2(t)) + 5.0*sin(\\theta_2(t))**2*cos(\\theta_1(t))**2 - 50.0*sin(\\theta_2(t))**2) + 50.0*sin(\\theta_2(t))**2*cos(\\theta_1(t))*Derivative(\\theta_1(t), t)**2/(5.0*sin(\\theta_1(t))**2*cos(\\theta_2(t))**2 - 50.0*sin(\\theta_1(t))**2 - 10.0*sin(\\theta_1(t))*sin(\\theta_2(t))*cos(\\theta_1(t))*cos(\\theta_2(t)) + 5.0*sin(\\theta_2(t))**2*cos(\\theta_1(t))**2 - 50.0*sin(\\theta_2(t))**2))"
      ]
     },
     "metadata": {},
     "output_type": "display_data"
    },
    {
     "data": {
      "text/latex": [
       "$\\displaystyle \\frac{d^{2}}{d t^{2}} \\theta_{1}{\\left(t \\right)} = \\frac{40.0 F_{\\theta 1} \\sin^{2}{\\left(\\theta_{2}{\\left(t \\right)} \\right)}}{5.0 \\sin^{2}{\\left(\\theta_{1}{\\left(t \\right)} \\right)} \\cos^{2}{\\left(\\theta_{2}{\\left(t \\right)} \\right)} - 50.0 \\sin^{2}{\\left(\\theta_{1}{\\left(t \\right)} \\right)} - 10.0 \\sin{\\left(\\theta_{1}{\\left(t \\right)} \\right)} \\sin{\\left(\\theta_{2}{\\left(t \\right)} \\right)} \\cos{\\left(\\theta_{1}{\\left(t \\right)} \\right)} \\cos{\\left(\\theta_{2}{\\left(t \\right)} \\right)} + 5.0 \\sin^{2}{\\left(\\theta_{2}{\\left(t \\right)} \\right)} \\cos^{2}{\\left(\\theta_{1}{\\left(t \\right)} \\right)} - 50.0 \\sin^{2}{\\left(\\theta_{2}{\\left(t \\right)} \\right)}} + \\frac{40.0 F_{\\theta 2} \\sin{\\left(\\theta_{1}{\\left(t \\right)} \\right)} \\sin{\\left(\\theta_{2}{\\left(t \\right)} \\right)}}{5.0 \\sin^{2}{\\left(\\theta_{1}{\\left(t \\right)} \\right)} \\cos^{2}{\\left(\\theta_{2}{\\left(t \\right)} \\right)} - 50.0 \\sin^{2}{\\left(\\theta_{1}{\\left(t \\right)} \\right)} - 10.0 \\sin{\\left(\\theta_{1}{\\left(t \\right)} \\right)} \\sin{\\left(\\theta_{2}{\\left(t \\right)} \\right)} \\cos{\\left(\\theta_{1}{\\left(t \\right)} \\right)} \\cos{\\left(\\theta_{2}{\\left(t \\right)} \\right)} + 5.0 \\sin^{2}{\\left(\\theta_{2}{\\left(t \\right)} \\right)} \\cos^{2}{\\left(\\theta_{1}{\\left(t \\right)} \\right)} - 50.0 \\sin^{2}{\\left(\\theta_{2}{\\left(t \\right)} \\right)}} - \\frac{5.0 \\sin^{2}{\\left(\\theta_{1}{\\left(t \\right)} \\right)} \\sin{\\left(\\theta_{2}{\\left(t \\right)} \\right)} \\cos{\\left(\\theta_{2}{\\left(t \\right)} \\right)} \\left(\\frac{d}{d t} \\theta_{1}{\\left(t \\right)}\\right)^{2}}{5.0 \\sin^{2}{\\left(\\theta_{1}{\\left(t \\right)} \\right)} \\cos^{2}{\\left(\\theta_{2}{\\left(t \\right)} \\right)} - 50.0 \\sin^{2}{\\left(\\theta_{1}{\\left(t \\right)} \\right)} - 10.0 \\sin{\\left(\\theta_{1}{\\left(t \\right)} \\right)} \\sin{\\left(\\theta_{2}{\\left(t \\right)} \\right)} \\cos{\\left(\\theta_{1}{\\left(t \\right)} \\right)} \\cos{\\left(\\theta_{2}{\\left(t \\right)} \\right)} + 5.0 \\sin^{2}{\\left(\\theta_{2}{\\left(t \\right)} \\right)} \\cos^{2}{\\left(\\theta_{1}{\\left(t \\right)} \\right)} - 50.0 \\sin^{2}{\\left(\\theta_{2}{\\left(t \\right)} \\right)}} + \\frac{5.0 \\sin{\\left(\\theta_{1}{\\left(t \\right)} \\right)} \\sin^{2}{\\left(\\theta_{2}{\\left(t \\right)} \\right)} \\cos{\\left(\\theta_{1}{\\left(t \\right)} \\right)} \\left(\\frac{d}{d t} \\theta_{1}{\\left(t \\right)}\\right)^{2}}{5.0 \\sin^{2}{\\left(\\theta_{1}{\\left(t \\right)} \\right)} \\cos^{2}{\\left(\\theta_{2}{\\left(t \\right)} \\right)} - 50.0 \\sin^{2}{\\left(\\theta_{1}{\\left(t \\right)} \\right)} - 10.0 \\sin{\\left(\\theta_{1}{\\left(t \\right)} \\right)} \\sin{\\left(\\theta_{2}{\\left(t \\right)} \\right)} \\cos{\\left(\\theta_{1}{\\left(t \\right)} \\right)} \\cos{\\left(\\theta_{2}{\\left(t \\right)} \\right)} + 5.0 \\sin^{2}{\\left(\\theta_{2}{\\left(t \\right)} \\right)} \\cos^{2}{\\left(\\theta_{1}{\\left(t \\right)} \\right)} - 50.0 \\sin^{2}{\\left(\\theta_{2}{\\left(t \\right)} \\right)}} + \\frac{5.0 \\sin{\\left(\\theta_{1}{\\left(t \\right)} \\right)} \\sin^{2}{\\left(\\theta_{2}{\\left(t \\right)} \\right)} \\cos{\\left(\\theta_{2}{\\left(t \\right)} \\right)} \\left(\\frac{d}{d t} \\theta_{2}{\\left(t \\right)}\\right)^{2}}{5.0 \\sin^{2}{\\left(\\theta_{1}{\\left(t \\right)} \\right)} \\cos^{2}{\\left(\\theta_{2}{\\left(t \\right)} \\right)} - 50.0 \\sin^{2}{\\left(\\theta_{1}{\\left(t \\right)} \\right)} - 10.0 \\sin{\\left(\\theta_{1}{\\left(t \\right)} \\right)} \\sin{\\left(\\theta_{2}{\\left(t \\right)} \\right)} \\cos{\\left(\\theta_{1}{\\left(t \\right)} \\right)} \\cos{\\left(\\theta_{2}{\\left(t \\right)} \\right)} + 5.0 \\sin^{2}{\\left(\\theta_{2}{\\left(t \\right)} \\right)} \\cos^{2}{\\left(\\theta_{1}{\\left(t \\right)} \\right)} - 50.0 \\sin^{2}{\\left(\\theta_{2}{\\left(t \\right)} \\right)}} - \\frac{392.0 \\sin{\\left(\\theta_{1}{\\left(t \\right)} \\right)} \\sin^{2}{\\left(\\theta_{2}{\\left(t \\right)} \\right)}}{5.0 \\sin^{2}{\\left(\\theta_{1}{\\left(t \\right)} \\right)} \\cos^{2}{\\left(\\theta_{2}{\\left(t \\right)} \\right)} - 50.0 \\sin^{2}{\\left(\\theta_{1}{\\left(t \\right)} \\right)} - 10.0 \\sin{\\left(\\theta_{1}{\\left(t \\right)} \\right)} \\sin{\\left(\\theta_{2}{\\left(t \\right)} \\right)} \\cos{\\left(\\theta_{1}{\\left(t \\right)} \\right)} \\cos{\\left(\\theta_{2}{\\left(t \\right)} \\right)} + 5.0 \\sin^{2}{\\left(\\theta_{2}{\\left(t \\right)} \\right)} \\cos^{2}{\\left(\\theta_{1}{\\left(t \\right)} \\right)} - 50.0 \\sin^{2}{\\left(\\theta_{2}{\\left(t \\right)} \\right)}} - \\frac{5.0 \\sin{\\left(\\theta_{1}{\\left(t \\right)} \\right)} \\cos{\\left(\\theta_{1}{\\left(t \\right)} \\right)} \\cos^{2}{\\left(\\theta_{2}{\\left(t \\right)} \\right)} \\left(\\frac{d}{d t} \\theta_{1}{\\left(t \\right)}\\right)^{2}}{5.0 \\sin^{2}{\\left(\\theta_{1}{\\left(t \\right)} \\right)} \\cos^{2}{\\left(\\theta_{2}{\\left(t \\right)} \\right)} - 50.0 \\sin^{2}{\\left(\\theta_{1}{\\left(t \\right)} \\right)} - 10.0 \\sin{\\left(\\theta_{1}{\\left(t \\right)} \\right)} \\sin{\\left(\\theta_{2}{\\left(t \\right)} \\right)} \\cos{\\left(\\theta_{1}{\\left(t \\right)} \\right)} \\cos{\\left(\\theta_{2}{\\left(t \\right)} \\right)} + 5.0 \\sin^{2}{\\left(\\theta_{2}{\\left(t \\right)} \\right)} \\cos^{2}{\\left(\\theta_{1}{\\left(t \\right)} \\right)} - 50.0 \\sin^{2}{\\left(\\theta_{2}{\\left(t \\right)} \\right)}} + \\frac{50.0 \\sin{\\left(\\theta_{1}{\\left(t \\right)} \\right)} \\cos{\\left(\\theta_{1}{\\left(t \\right)} \\right)} \\left(\\frac{d}{d t} \\theta_{1}{\\left(t \\right)}\\right)^{2}}{5.0 \\sin^{2}{\\left(\\theta_{1}{\\left(t \\right)} \\right)} \\cos^{2}{\\left(\\theta_{2}{\\left(t \\right)} \\right)} - 50.0 \\sin^{2}{\\left(\\theta_{1}{\\left(t \\right)} \\right)} - 10.0 \\sin{\\left(\\theta_{1}{\\left(t \\right)} \\right)} \\sin{\\left(\\theta_{2}{\\left(t \\right)} \\right)} \\cos{\\left(\\theta_{1}{\\left(t \\right)} \\right)} \\cos{\\left(\\theta_{2}{\\left(t \\right)} \\right)} + 5.0 \\sin^{2}{\\left(\\theta_{2}{\\left(t \\right)} \\right)} \\cos^{2}{\\left(\\theta_{1}{\\left(t \\right)} \\right)} - 50.0 \\sin^{2}{\\left(\\theta_{2}{\\left(t \\right)} \\right)}} + \\frac{5.0 \\sin{\\left(\\theta_{1}{\\left(t \\right)} \\right)} \\cos^{3}{\\left(\\theta_{2}{\\left(t \\right)} \\right)} \\left(\\frac{d}{d t} \\theta_{2}{\\left(t \\right)}\\right)^{2}}{5.0 \\sin^{2}{\\left(\\theta_{1}{\\left(t \\right)} \\right)} \\cos^{2}{\\left(\\theta_{2}{\\left(t \\right)} \\right)} - 50.0 \\sin^{2}{\\left(\\theta_{1}{\\left(t \\right)} \\right)} - 10.0 \\sin{\\left(\\theta_{1}{\\left(t \\right)} \\right)} \\sin{\\left(\\theta_{2}{\\left(t \\right)} \\right)} \\cos{\\left(\\theta_{1}{\\left(t \\right)} \\right)} \\cos{\\left(\\theta_{2}{\\left(t \\right)} \\right)} + 5.0 \\sin^{2}{\\left(\\theta_{2}{\\left(t \\right)} \\right)} \\cos^{2}{\\left(\\theta_{1}{\\left(t \\right)} \\right)} - 50.0 \\sin^{2}{\\left(\\theta_{2}{\\left(t \\right)} \\right)}} - \\frac{50.0 \\sin{\\left(\\theta_{1}{\\left(t \\right)} \\right)} \\cos{\\left(\\theta_{2}{\\left(t \\right)} \\right)} \\left(\\frac{d}{d t} \\theta_{2}{\\left(t \\right)}\\right)^{2}}{5.0 \\sin^{2}{\\left(\\theta_{1}{\\left(t \\right)} \\right)} \\cos^{2}{\\left(\\theta_{2}{\\left(t \\right)} \\right)} - 50.0 \\sin^{2}{\\left(\\theta_{1}{\\left(t \\right)} \\right)} - 10.0 \\sin{\\left(\\theta_{1}{\\left(t \\right)} \\right)} \\sin{\\left(\\theta_{2}{\\left(t \\right)} \\right)} \\cos{\\left(\\theta_{1}{\\left(t \\right)} \\right)} \\cos{\\left(\\theta_{2}{\\left(t \\right)} \\right)} + 5.0 \\sin^{2}{\\left(\\theta_{2}{\\left(t \\right)} \\right)} \\cos^{2}{\\left(\\theta_{1}{\\left(t \\right)} \\right)} - 50.0 \\sin^{2}{\\left(\\theta_{2}{\\left(t \\right)} \\right)}} - \\frac{5.0 \\sin^{3}{\\left(\\theta_{2}{\\left(t \\right)} \\right)} \\cos{\\left(\\theta_{1}{\\left(t \\right)} \\right)} \\left(\\frac{d}{d t} \\theta_{2}{\\left(t \\right)}\\right)^{2}}{5.0 \\sin^{2}{\\left(\\theta_{1}{\\left(t \\right)} \\right)} \\cos^{2}{\\left(\\theta_{2}{\\left(t \\right)} \\right)} - 50.0 \\sin^{2}{\\left(\\theta_{1}{\\left(t \\right)} \\right)} - 10.0 \\sin{\\left(\\theta_{1}{\\left(t \\right)} \\right)} \\sin{\\left(\\theta_{2}{\\left(t \\right)} \\right)} \\cos{\\left(\\theta_{1}{\\left(t \\right)} \\right)} \\cos{\\left(\\theta_{2}{\\left(t \\right)} \\right)} + 5.0 \\sin^{2}{\\left(\\theta_{2}{\\left(t \\right)} \\right)} \\cos^{2}{\\left(\\theta_{1}{\\left(t \\right)} \\right)} - 50.0 \\sin^{2}{\\left(\\theta_{2}{\\left(t \\right)} \\right)}} + \\frac{5.0 \\sin{\\left(\\theta_{2}{\\left(t \\right)} \\right)} \\cos^{2}{\\left(\\theta_{1}{\\left(t \\right)} \\right)} \\cos{\\left(\\theta_{2}{\\left(t \\right)} \\right)} \\left(\\frac{d}{d t} \\theta_{1}{\\left(t \\right)}\\right)^{2}}{5.0 \\sin^{2}{\\left(\\theta_{1}{\\left(t \\right)} \\right)} \\cos^{2}{\\left(\\theta_{2}{\\left(t \\right)} \\right)} - 50.0 \\sin^{2}{\\left(\\theta_{1}{\\left(t \\right)} \\right)} - 10.0 \\sin{\\left(\\theta_{1}{\\left(t \\right)} \\right)} \\sin{\\left(\\theta_{2}{\\left(t \\right)} \\right)} \\cos{\\left(\\theta_{1}{\\left(t \\right)} \\right)} \\cos{\\left(\\theta_{2}{\\left(t \\right)} \\right)} + 5.0 \\sin^{2}{\\left(\\theta_{2}{\\left(t \\right)} \\right)} \\cos^{2}{\\left(\\theta_{1}{\\left(t \\right)} \\right)} - 50.0 \\sin^{2}{\\left(\\theta_{2}{\\left(t \\right)} \\right)}} - \\frac{5.0 \\sin{\\left(\\theta_{2}{\\left(t \\right)} \\right)} \\cos{\\left(\\theta_{1}{\\left(t \\right)} \\right)} \\cos^{2}{\\left(\\theta_{2}{\\left(t \\right)} \\right)} \\left(\\frac{d}{d t} \\theta_{2}{\\left(t \\right)}\\right)^{2}}{5.0 \\sin^{2}{\\left(\\theta_{1}{\\left(t \\right)} \\right)} \\cos^{2}{\\left(\\theta_{2}{\\left(t \\right)} \\right)} - 50.0 \\sin^{2}{\\left(\\theta_{1}{\\left(t \\right)} \\right)} - 10.0 \\sin{\\left(\\theta_{1}{\\left(t \\right)} \\right)} \\sin{\\left(\\theta_{2}{\\left(t \\right)} \\right)} \\cos{\\left(\\theta_{1}{\\left(t \\right)} \\right)} \\cos{\\left(\\theta_{2}{\\left(t \\right)} \\right)} + 5.0 \\sin^{2}{\\left(\\theta_{2}{\\left(t \\right)} \\right)} \\cos^{2}{\\left(\\theta_{1}{\\left(t \\right)} \\right)} - 50.0 \\sin^{2}{\\left(\\theta_{2}{\\left(t \\right)} \\right)}}$"
      ],
      "text/plain": [
       "Eq(Derivative(\\theta_1(t), (t, 2)), 40.0*F_\\theta_1*sin(\\theta_2(t))**2/(5.0*sin(\\theta_1(t))**2*cos(\\theta_2(t))**2 - 50.0*sin(\\theta_1(t))**2 - 10.0*sin(\\theta_1(t))*sin(\\theta_2(t))*cos(\\theta_1(t))*cos(\\theta_2(t)) + 5.0*sin(\\theta_2(t))**2*cos(\\theta_1(t))**2 - 50.0*sin(\\theta_2(t))**2) + 40.0*F_\\theta_2*sin(\\theta_1(t))*sin(\\theta_2(t))/(5.0*sin(\\theta_1(t))**2*cos(\\theta_2(t))**2 - 50.0*sin(\\theta_1(t))**2 - 10.0*sin(\\theta_1(t))*sin(\\theta_2(t))*cos(\\theta_1(t))*cos(\\theta_2(t)) + 5.0*sin(\\theta_2(t))**2*cos(\\theta_1(t))**2 - 50.0*sin(\\theta_2(t))**2) - 5.0*sin(\\theta_1(t))**2*sin(\\theta_2(t))*cos(\\theta_2(t))*Derivative(\\theta_1(t), t)**2/(5.0*sin(\\theta_1(t))**2*cos(\\theta_2(t))**2 - 50.0*sin(\\theta_1(t))**2 - 10.0*sin(\\theta_1(t))*sin(\\theta_2(t))*cos(\\theta_1(t))*cos(\\theta_2(t)) + 5.0*sin(\\theta_2(t))**2*cos(\\theta_1(t))**2 - 50.0*sin(\\theta_2(t))**2) + 5.0*sin(\\theta_1(t))*sin(\\theta_2(t))**2*cos(\\theta_1(t))*Derivative(\\theta_1(t), t)**2/(5.0*sin(\\theta_1(t))**2*cos(\\theta_2(t))**2 - 50.0*sin(\\theta_1(t))**2 - 10.0*sin(\\theta_1(t))*sin(\\theta_2(t))*cos(\\theta_1(t))*cos(\\theta_2(t)) + 5.0*sin(\\theta_2(t))**2*cos(\\theta_1(t))**2 - 50.0*sin(\\theta_2(t))**2) + 5.0*sin(\\theta_1(t))*sin(\\theta_2(t))**2*cos(\\theta_2(t))*Derivative(\\theta_2(t), t)**2/(5.0*sin(\\theta_1(t))**2*cos(\\theta_2(t))**2 - 50.0*sin(\\theta_1(t))**2 - 10.0*sin(\\theta_1(t))*sin(\\theta_2(t))*cos(\\theta_1(t))*cos(\\theta_2(t)) + 5.0*sin(\\theta_2(t))**2*cos(\\theta_1(t))**2 - 50.0*sin(\\theta_2(t))**2) - 392.0*sin(\\theta_1(t))*sin(\\theta_2(t))**2/(5.0*sin(\\theta_1(t))**2*cos(\\theta_2(t))**2 - 50.0*sin(\\theta_1(t))**2 - 10.0*sin(\\theta_1(t))*sin(\\theta_2(t))*cos(\\theta_1(t))*cos(\\theta_2(t)) + 5.0*sin(\\theta_2(t))**2*cos(\\theta_1(t))**2 - 50.0*sin(\\theta_2(t))**2) - 5.0*sin(\\theta_1(t))*cos(\\theta_1(t))*cos(\\theta_2(t))**2*Derivative(\\theta_1(t), t)**2/(5.0*sin(\\theta_1(t))**2*cos(\\theta_2(t))**2 - 50.0*sin(\\theta_1(t))**2 - 10.0*sin(\\theta_1(t))*sin(\\theta_2(t))*cos(\\theta_1(t))*cos(\\theta_2(t)) + 5.0*sin(\\theta_2(t))**2*cos(\\theta_1(t))**2 - 50.0*sin(\\theta_2(t))**2) + 50.0*sin(\\theta_1(t))*cos(\\theta_1(t))*Derivative(\\theta_1(t), t)**2/(5.0*sin(\\theta_1(t))**2*cos(\\theta_2(t))**2 - 50.0*sin(\\theta_1(t))**2 - 10.0*sin(\\theta_1(t))*sin(\\theta_2(t))*cos(\\theta_1(t))*cos(\\theta_2(t)) + 5.0*sin(\\theta_2(t))**2*cos(\\theta_1(t))**2 - 50.0*sin(\\theta_2(t))**2) + 5.0*sin(\\theta_1(t))*cos(\\theta_2(t))**3*Derivative(\\theta_2(t), t)**2/(5.0*sin(\\theta_1(t))**2*cos(\\theta_2(t))**2 - 50.0*sin(\\theta_1(t))**2 - 10.0*sin(\\theta_1(t))*sin(\\theta_2(t))*cos(\\theta_1(t))*cos(\\theta_2(t)) + 5.0*sin(\\theta_2(t))**2*cos(\\theta_1(t))**2 - 50.0*sin(\\theta_2(t))**2) - 50.0*sin(\\theta_1(t))*cos(\\theta_2(t))*Derivative(\\theta_2(t), t)**2/(5.0*sin(\\theta_1(t))**2*cos(\\theta_2(t))**2 - 50.0*sin(\\theta_1(t))**2 - 10.0*sin(\\theta_1(t))*sin(\\theta_2(t))*cos(\\theta_1(t))*cos(\\theta_2(t)) + 5.0*sin(\\theta_2(t))**2*cos(\\theta_1(t))**2 - 50.0*sin(\\theta_2(t))**2) - 5.0*sin(\\theta_2(t))**3*cos(\\theta_1(t))*Derivative(\\theta_2(t), t)**2/(5.0*sin(\\theta_1(t))**2*cos(\\theta_2(t))**2 - 50.0*sin(\\theta_1(t))**2 - 10.0*sin(\\theta_1(t))*sin(\\theta_2(t))*cos(\\theta_1(t))*cos(\\theta_2(t)) + 5.0*sin(\\theta_2(t))**2*cos(\\theta_1(t))**2 - 50.0*sin(\\theta_2(t))**2) + 5.0*sin(\\theta_2(t))*cos(\\theta_1(t))**2*cos(\\theta_2(t))*Derivative(\\theta_1(t), t)**2/(5.0*sin(\\theta_1(t))**2*cos(\\theta_2(t))**2 - 50.0*sin(\\theta_1(t))**2 - 10.0*sin(\\theta_1(t))*sin(\\theta_2(t))*cos(\\theta_1(t))*cos(\\theta_2(t)) + 5.0*sin(\\theta_2(t))**2*cos(\\theta_1(t))**2 - 50.0*sin(\\theta_2(t))**2) - 5.0*sin(\\theta_2(t))*cos(\\theta_1(t))*cos(\\theta_2(t))**2*Derivative(\\theta_2(t), t)**2/(5.0*sin(\\theta_1(t))**2*cos(\\theta_2(t))**2 - 50.0*sin(\\theta_1(t))**2 - 10.0*sin(\\theta_1(t))*sin(\\theta_2(t))*cos(\\theta_1(t))*cos(\\theta_2(t)) + 5.0*sin(\\theta_2(t))**2*cos(\\theta_1(t))**2 - 50.0*sin(\\theta_2(t))**2))"
      ]
     },
     "metadata": {},
     "output_type": "display_data"
    },
    {
     "data": {
      "text/latex": [
       "$\\displaystyle \\frac{d^{2}}{d t^{2}} \\theta_{2}{\\left(t \\right)} = \\frac{40.0 F_{\\theta 1} \\sin{\\left(\\theta_{1}{\\left(t \\right)} \\right)} \\sin{\\left(\\theta_{2}{\\left(t \\right)} \\right)}}{5.0 \\sin^{2}{\\left(\\theta_{1}{\\left(t \\right)} \\right)} \\cos^{2}{\\left(\\theta_{2}{\\left(t \\right)} \\right)} - 50.0 \\sin^{2}{\\left(\\theta_{1}{\\left(t \\right)} \\right)} - 10.0 \\sin{\\left(\\theta_{1}{\\left(t \\right)} \\right)} \\sin{\\left(\\theta_{2}{\\left(t \\right)} \\right)} \\cos{\\left(\\theta_{1}{\\left(t \\right)} \\right)} \\cos{\\left(\\theta_{2}{\\left(t \\right)} \\right)} + 5.0 \\sin^{2}{\\left(\\theta_{2}{\\left(t \\right)} \\right)} \\cos^{2}{\\left(\\theta_{1}{\\left(t \\right)} \\right)} - 50.0 \\sin^{2}{\\left(\\theta_{2}{\\left(t \\right)} \\right)}} + \\frac{40.0 F_{\\theta 2} \\sin^{2}{\\left(\\theta_{1}{\\left(t \\right)} \\right)}}{5.0 \\sin^{2}{\\left(\\theta_{1}{\\left(t \\right)} \\right)} \\cos^{2}{\\left(\\theta_{2}{\\left(t \\right)} \\right)} - 50.0 \\sin^{2}{\\left(\\theta_{1}{\\left(t \\right)} \\right)} - 10.0 \\sin{\\left(\\theta_{1}{\\left(t \\right)} \\right)} \\sin{\\left(\\theta_{2}{\\left(t \\right)} \\right)} \\cos{\\left(\\theta_{1}{\\left(t \\right)} \\right)} \\cos{\\left(\\theta_{2}{\\left(t \\right)} \\right)} + 5.0 \\sin^{2}{\\left(\\theta_{2}{\\left(t \\right)} \\right)} \\cos^{2}{\\left(\\theta_{1}{\\left(t \\right)} \\right)} - 50.0 \\sin^{2}{\\left(\\theta_{2}{\\left(t \\right)} \\right)}} - \\frac{5.0 \\sin^{3}{\\left(\\theta_{1}{\\left(t \\right)} \\right)} \\cos{\\left(\\theta_{2}{\\left(t \\right)} \\right)} \\left(\\frac{d}{d t} \\theta_{1}{\\left(t \\right)}\\right)^{2}}{5.0 \\sin^{2}{\\left(\\theta_{1}{\\left(t \\right)} \\right)} \\cos^{2}{\\left(\\theta_{2}{\\left(t \\right)} \\right)} - 50.0 \\sin^{2}{\\left(\\theta_{1}{\\left(t \\right)} \\right)} - 10.0 \\sin{\\left(\\theta_{1}{\\left(t \\right)} \\right)} \\sin{\\left(\\theta_{2}{\\left(t \\right)} \\right)} \\cos{\\left(\\theta_{1}{\\left(t \\right)} \\right)} \\cos{\\left(\\theta_{2}{\\left(t \\right)} \\right)} + 5.0 \\sin^{2}{\\left(\\theta_{2}{\\left(t \\right)} \\right)} \\cos^{2}{\\left(\\theta_{1}{\\left(t \\right)} \\right)} - 50.0 \\sin^{2}{\\left(\\theta_{2}{\\left(t \\right)} \\right)}} + \\frac{5.0 \\sin^{2}{\\left(\\theta_{1}{\\left(t \\right)} \\right)} \\sin{\\left(\\theta_{2}{\\left(t \\right)} \\right)} \\cos{\\left(\\theta_{1}{\\left(t \\right)} \\right)} \\left(\\frac{d}{d t} \\theta_{1}{\\left(t \\right)}\\right)^{2}}{5.0 \\sin^{2}{\\left(\\theta_{1}{\\left(t \\right)} \\right)} \\cos^{2}{\\left(\\theta_{2}{\\left(t \\right)} \\right)} - 50.0 \\sin^{2}{\\left(\\theta_{1}{\\left(t \\right)} \\right)} - 10.0 \\sin{\\left(\\theta_{1}{\\left(t \\right)} \\right)} \\sin{\\left(\\theta_{2}{\\left(t \\right)} \\right)} \\cos{\\left(\\theta_{1}{\\left(t \\right)} \\right)} \\cos{\\left(\\theta_{2}{\\left(t \\right)} \\right)} + 5.0 \\sin^{2}{\\left(\\theta_{2}{\\left(t \\right)} \\right)} \\cos^{2}{\\left(\\theta_{1}{\\left(t \\right)} \\right)} - 50.0 \\sin^{2}{\\left(\\theta_{2}{\\left(t \\right)} \\right)}} + \\frac{5.0 \\sin^{2}{\\left(\\theta_{1}{\\left(t \\right)} \\right)} \\sin{\\left(\\theta_{2}{\\left(t \\right)} \\right)} \\cos{\\left(\\theta_{2}{\\left(t \\right)} \\right)} \\left(\\frac{d}{d t} \\theta_{2}{\\left(t \\right)}\\right)^{2}}{5.0 \\sin^{2}{\\left(\\theta_{1}{\\left(t \\right)} \\right)} \\cos^{2}{\\left(\\theta_{2}{\\left(t \\right)} \\right)} - 50.0 \\sin^{2}{\\left(\\theta_{1}{\\left(t \\right)} \\right)} - 10.0 \\sin{\\left(\\theta_{1}{\\left(t \\right)} \\right)} \\sin{\\left(\\theta_{2}{\\left(t \\right)} \\right)} \\cos{\\left(\\theta_{1}{\\left(t \\right)} \\right)} \\cos{\\left(\\theta_{2}{\\left(t \\right)} \\right)} + 5.0 \\sin^{2}{\\left(\\theta_{2}{\\left(t \\right)} \\right)} \\cos^{2}{\\left(\\theta_{1}{\\left(t \\right)} \\right)} - 50.0 \\sin^{2}{\\left(\\theta_{2}{\\left(t \\right)} \\right)}} - \\frac{392.0 \\sin^{2}{\\left(\\theta_{1}{\\left(t \\right)} \\right)} \\sin{\\left(\\theta_{2}{\\left(t \\right)} \\right)}}{5.0 \\sin^{2}{\\left(\\theta_{1}{\\left(t \\right)} \\right)} \\cos^{2}{\\left(\\theta_{2}{\\left(t \\right)} \\right)} - 50.0 \\sin^{2}{\\left(\\theta_{1}{\\left(t \\right)} \\right)} - 10.0 \\sin{\\left(\\theta_{1}{\\left(t \\right)} \\right)} \\sin{\\left(\\theta_{2}{\\left(t \\right)} \\right)} \\cos{\\left(\\theta_{1}{\\left(t \\right)} \\right)} \\cos{\\left(\\theta_{2}{\\left(t \\right)} \\right)} + 5.0 \\sin^{2}{\\left(\\theta_{2}{\\left(t \\right)} \\right)} \\cos^{2}{\\left(\\theta_{1}{\\left(t \\right)} \\right)} - 50.0 \\sin^{2}{\\left(\\theta_{2}{\\left(t \\right)} \\right)}} - \\frac{5.0 \\sin{\\left(\\theta_{1}{\\left(t \\right)} \\right)} \\sin^{2}{\\left(\\theta_{2}{\\left(t \\right)} \\right)} \\cos{\\left(\\theta_{1}{\\left(t \\right)} \\right)} \\left(\\frac{d}{d t} \\theta_{2}{\\left(t \\right)}\\right)^{2}}{5.0 \\sin^{2}{\\left(\\theta_{1}{\\left(t \\right)} \\right)} \\cos^{2}{\\left(\\theta_{2}{\\left(t \\right)} \\right)} - 50.0 \\sin^{2}{\\left(\\theta_{1}{\\left(t \\right)} \\right)} - 10.0 \\sin{\\left(\\theta_{1}{\\left(t \\right)} \\right)} \\sin{\\left(\\theta_{2}{\\left(t \\right)} \\right)} \\cos{\\left(\\theta_{1}{\\left(t \\right)} \\right)} \\cos{\\left(\\theta_{2}{\\left(t \\right)} \\right)} + 5.0 \\sin^{2}{\\left(\\theta_{2}{\\left(t \\right)} \\right)} \\cos^{2}{\\left(\\theta_{1}{\\left(t \\right)} \\right)} - 50.0 \\sin^{2}{\\left(\\theta_{2}{\\left(t \\right)} \\right)}} - \\frac{5.0 \\sin{\\left(\\theta_{1}{\\left(t \\right)} \\right)} \\cos^{2}{\\left(\\theta_{1}{\\left(t \\right)} \\right)} \\cos{\\left(\\theta_{2}{\\left(t \\right)} \\right)} \\left(\\frac{d}{d t} \\theta_{1}{\\left(t \\right)}\\right)^{2}}{5.0 \\sin^{2}{\\left(\\theta_{1}{\\left(t \\right)} \\right)} \\cos^{2}{\\left(\\theta_{2}{\\left(t \\right)} \\right)} - 50.0 \\sin^{2}{\\left(\\theta_{1}{\\left(t \\right)} \\right)} - 10.0 \\sin{\\left(\\theta_{1}{\\left(t \\right)} \\right)} \\sin{\\left(\\theta_{2}{\\left(t \\right)} \\right)} \\cos{\\left(\\theta_{1}{\\left(t \\right)} \\right)} \\cos{\\left(\\theta_{2}{\\left(t \\right)} \\right)} + 5.0 \\sin^{2}{\\left(\\theta_{2}{\\left(t \\right)} \\right)} \\cos^{2}{\\left(\\theta_{1}{\\left(t \\right)} \\right)} - 50.0 \\sin^{2}{\\left(\\theta_{2}{\\left(t \\right)} \\right)}} + \\frac{5.0 \\sin{\\left(\\theta_{1}{\\left(t \\right)} \\right)} \\cos{\\left(\\theta_{1}{\\left(t \\right)} \\right)} \\cos^{2}{\\left(\\theta_{2}{\\left(t \\right)} \\right)} \\left(\\frac{d}{d t} \\theta_{2}{\\left(t \\right)}\\right)^{2}}{5.0 \\sin^{2}{\\left(\\theta_{1}{\\left(t \\right)} \\right)} \\cos^{2}{\\left(\\theta_{2}{\\left(t \\right)} \\right)} - 50.0 \\sin^{2}{\\left(\\theta_{1}{\\left(t \\right)} \\right)} - 10.0 \\sin{\\left(\\theta_{1}{\\left(t \\right)} \\right)} \\sin{\\left(\\theta_{2}{\\left(t \\right)} \\right)} \\cos{\\left(\\theta_{1}{\\left(t \\right)} \\right)} \\cos{\\left(\\theta_{2}{\\left(t \\right)} \\right)} + 5.0 \\sin^{2}{\\left(\\theta_{2}{\\left(t \\right)} \\right)} \\cos^{2}{\\left(\\theta_{1}{\\left(t \\right)} \\right)} - 50.0 \\sin^{2}{\\left(\\theta_{2}{\\left(t \\right)} \\right)}} + \\frac{5.0 \\sin{\\left(\\theta_{2}{\\left(t \\right)} \\right)} \\cos^{3}{\\left(\\theta_{1}{\\left(t \\right)} \\right)} \\left(\\frac{d}{d t} \\theta_{1}{\\left(t \\right)}\\right)^{2}}{5.0 \\sin^{2}{\\left(\\theta_{1}{\\left(t \\right)} \\right)} \\cos^{2}{\\left(\\theta_{2}{\\left(t \\right)} \\right)} - 50.0 \\sin^{2}{\\left(\\theta_{1}{\\left(t \\right)} \\right)} - 10.0 \\sin{\\left(\\theta_{1}{\\left(t \\right)} \\right)} \\sin{\\left(\\theta_{2}{\\left(t \\right)} \\right)} \\cos{\\left(\\theta_{1}{\\left(t \\right)} \\right)} \\cos{\\left(\\theta_{2}{\\left(t \\right)} \\right)} + 5.0 \\sin^{2}{\\left(\\theta_{2}{\\left(t \\right)} \\right)} \\cos^{2}{\\left(\\theta_{1}{\\left(t \\right)} \\right)} - 50.0 \\sin^{2}{\\left(\\theta_{2}{\\left(t \\right)} \\right)}} - \\frac{5.0 \\sin{\\left(\\theta_{2}{\\left(t \\right)} \\right)} \\cos^{2}{\\left(\\theta_{1}{\\left(t \\right)} \\right)} \\cos{\\left(\\theta_{2}{\\left(t \\right)} \\right)} \\left(\\frac{d}{d t} \\theta_{2}{\\left(t \\right)}\\right)^{2}}{5.0 \\sin^{2}{\\left(\\theta_{1}{\\left(t \\right)} \\right)} \\cos^{2}{\\left(\\theta_{2}{\\left(t \\right)} \\right)} - 50.0 \\sin^{2}{\\left(\\theta_{1}{\\left(t \\right)} \\right)} - 10.0 \\sin{\\left(\\theta_{1}{\\left(t \\right)} \\right)} \\sin{\\left(\\theta_{2}{\\left(t \\right)} \\right)} \\cos{\\left(\\theta_{1}{\\left(t \\right)} \\right)} \\cos{\\left(\\theta_{2}{\\left(t \\right)} \\right)} + 5.0 \\sin^{2}{\\left(\\theta_{2}{\\left(t \\right)} \\right)} \\cos^{2}{\\left(\\theta_{1}{\\left(t \\right)} \\right)} - 50.0 \\sin^{2}{\\left(\\theta_{2}{\\left(t \\right)} \\right)}} - \\frac{50.0 \\sin{\\left(\\theta_{2}{\\left(t \\right)} \\right)} \\cos{\\left(\\theta_{1}{\\left(t \\right)} \\right)} \\left(\\frac{d}{d t} \\theta_{1}{\\left(t \\right)}\\right)^{2}}{5.0 \\sin^{2}{\\left(\\theta_{1}{\\left(t \\right)} \\right)} \\cos^{2}{\\left(\\theta_{2}{\\left(t \\right)} \\right)} - 50.0 \\sin^{2}{\\left(\\theta_{1}{\\left(t \\right)} \\right)} - 10.0 \\sin{\\left(\\theta_{1}{\\left(t \\right)} \\right)} \\sin{\\left(\\theta_{2}{\\left(t \\right)} \\right)} \\cos{\\left(\\theta_{1}{\\left(t \\right)} \\right)} \\cos{\\left(\\theta_{2}{\\left(t \\right)} \\right)} + 5.0 \\sin^{2}{\\left(\\theta_{2}{\\left(t \\right)} \\right)} \\cos^{2}{\\left(\\theta_{1}{\\left(t \\right)} \\right)} - 50.0 \\sin^{2}{\\left(\\theta_{2}{\\left(t \\right)} \\right)}} + \\frac{50.0 \\sin{\\left(\\theta_{2}{\\left(t \\right)} \\right)} \\cos{\\left(\\theta_{2}{\\left(t \\right)} \\right)} \\left(\\frac{d}{d t} \\theta_{2}{\\left(t \\right)}\\right)^{2}}{5.0 \\sin^{2}{\\left(\\theta_{1}{\\left(t \\right)} \\right)} \\cos^{2}{\\left(\\theta_{2}{\\left(t \\right)} \\right)} - 50.0 \\sin^{2}{\\left(\\theta_{1}{\\left(t \\right)} \\right)} - 10.0 \\sin{\\left(\\theta_{1}{\\left(t \\right)} \\right)} \\sin{\\left(\\theta_{2}{\\left(t \\right)} \\right)} \\cos{\\left(\\theta_{1}{\\left(t \\right)} \\right)} \\cos{\\left(\\theta_{2}{\\left(t \\right)} \\right)} + 5.0 \\sin^{2}{\\left(\\theta_{2}{\\left(t \\right)} \\right)} \\cos^{2}{\\left(\\theta_{1}{\\left(t \\right)} \\right)} - 50.0 \\sin^{2}{\\left(\\theta_{2}{\\left(t \\right)} \\right)}}$"
      ],
      "text/plain": [
       "Eq(Derivative(\\theta_2(t), (t, 2)), 40.0*F_\\theta_1*sin(\\theta_1(t))*sin(\\theta_2(t))/(5.0*sin(\\theta_1(t))**2*cos(\\theta_2(t))**2 - 50.0*sin(\\theta_1(t))**2 - 10.0*sin(\\theta_1(t))*sin(\\theta_2(t))*cos(\\theta_1(t))*cos(\\theta_2(t)) + 5.0*sin(\\theta_2(t))**2*cos(\\theta_1(t))**2 - 50.0*sin(\\theta_2(t))**2) + 40.0*F_\\theta_2*sin(\\theta_1(t))**2/(5.0*sin(\\theta_1(t))**2*cos(\\theta_2(t))**2 - 50.0*sin(\\theta_1(t))**2 - 10.0*sin(\\theta_1(t))*sin(\\theta_2(t))*cos(\\theta_1(t))*cos(\\theta_2(t)) + 5.0*sin(\\theta_2(t))**2*cos(\\theta_1(t))**2 - 50.0*sin(\\theta_2(t))**2) - 5.0*sin(\\theta_1(t))**3*cos(\\theta_2(t))*Derivative(\\theta_1(t), t)**2/(5.0*sin(\\theta_1(t))**2*cos(\\theta_2(t))**2 - 50.0*sin(\\theta_1(t))**2 - 10.0*sin(\\theta_1(t))*sin(\\theta_2(t))*cos(\\theta_1(t))*cos(\\theta_2(t)) + 5.0*sin(\\theta_2(t))**2*cos(\\theta_1(t))**2 - 50.0*sin(\\theta_2(t))**2) + 5.0*sin(\\theta_1(t))**2*sin(\\theta_2(t))*cos(\\theta_1(t))*Derivative(\\theta_1(t), t)**2/(5.0*sin(\\theta_1(t))**2*cos(\\theta_2(t))**2 - 50.0*sin(\\theta_1(t))**2 - 10.0*sin(\\theta_1(t))*sin(\\theta_2(t))*cos(\\theta_1(t))*cos(\\theta_2(t)) + 5.0*sin(\\theta_2(t))**2*cos(\\theta_1(t))**2 - 50.0*sin(\\theta_2(t))**2) + 5.0*sin(\\theta_1(t))**2*sin(\\theta_2(t))*cos(\\theta_2(t))*Derivative(\\theta_2(t), t)**2/(5.0*sin(\\theta_1(t))**2*cos(\\theta_2(t))**2 - 50.0*sin(\\theta_1(t))**2 - 10.0*sin(\\theta_1(t))*sin(\\theta_2(t))*cos(\\theta_1(t))*cos(\\theta_2(t)) + 5.0*sin(\\theta_2(t))**2*cos(\\theta_1(t))**2 - 50.0*sin(\\theta_2(t))**2) - 392.0*sin(\\theta_1(t))**2*sin(\\theta_2(t))/(5.0*sin(\\theta_1(t))**2*cos(\\theta_2(t))**2 - 50.0*sin(\\theta_1(t))**2 - 10.0*sin(\\theta_1(t))*sin(\\theta_2(t))*cos(\\theta_1(t))*cos(\\theta_2(t)) + 5.0*sin(\\theta_2(t))**2*cos(\\theta_1(t))**2 - 50.0*sin(\\theta_2(t))**2) - 5.0*sin(\\theta_1(t))*sin(\\theta_2(t))**2*cos(\\theta_1(t))*Derivative(\\theta_2(t), t)**2/(5.0*sin(\\theta_1(t))**2*cos(\\theta_2(t))**2 - 50.0*sin(\\theta_1(t))**2 - 10.0*sin(\\theta_1(t))*sin(\\theta_2(t))*cos(\\theta_1(t))*cos(\\theta_2(t)) + 5.0*sin(\\theta_2(t))**2*cos(\\theta_1(t))**2 - 50.0*sin(\\theta_2(t))**2) - 5.0*sin(\\theta_1(t))*cos(\\theta_1(t))**2*cos(\\theta_2(t))*Derivative(\\theta_1(t), t)**2/(5.0*sin(\\theta_1(t))**2*cos(\\theta_2(t))**2 - 50.0*sin(\\theta_1(t))**2 - 10.0*sin(\\theta_1(t))*sin(\\theta_2(t))*cos(\\theta_1(t))*cos(\\theta_2(t)) + 5.0*sin(\\theta_2(t))**2*cos(\\theta_1(t))**2 - 50.0*sin(\\theta_2(t))**2) + 5.0*sin(\\theta_1(t))*cos(\\theta_1(t))*cos(\\theta_2(t))**2*Derivative(\\theta_2(t), t)**2/(5.0*sin(\\theta_1(t))**2*cos(\\theta_2(t))**2 - 50.0*sin(\\theta_1(t))**2 - 10.0*sin(\\theta_1(t))*sin(\\theta_2(t))*cos(\\theta_1(t))*cos(\\theta_2(t)) + 5.0*sin(\\theta_2(t))**2*cos(\\theta_1(t))**2 - 50.0*sin(\\theta_2(t))**2) + 5.0*sin(\\theta_2(t))*cos(\\theta_1(t))**3*Derivative(\\theta_1(t), t)**2/(5.0*sin(\\theta_1(t))**2*cos(\\theta_2(t))**2 - 50.0*sin(\\theta_1(t))**2 - 10.0*sin(\\theta_1(t))*sin(\\theta_2(t))*cos(\\theta_1(t))*cos(\\theta_2(t)) + 5.0*sin(\\theta_2(t))**2*cos(\\theta_1(t))**2 - 50.0*sin(\\theta_2(t))**2) - 5.0*sin(\\theta_2(t))*cos(\\theta_1(t))**2*cos(\\theta_2(t))*Derivative(\\theta_2(t), t)**2/(5.0*sin(\\theta_1(t))**2*cos(\\theta_2(t))**2 - 50.0*sin(\\theta_1(t))**2 - 10.0*sin(\\theta_1(t))*sin(\\theta_2(t))*cos(\\theta_1(t))*cos(\\theta_2(t)) + 5.0*sin(\\theta_2(t))**2*cos(\\theta_1(t))**2 - 50.0*sin(\\theta_2(t))**2) - 50.0*sin(\\theta_2(t))*cos(\\theta_1(t))*Derivative(\\theta_1(t), t)**2/(5.0*sin(\\theta_1(t))**2*cos(\\theta_2(t))**2 - 50.0*sin(\\theta_1(t))**2 - 10.0*sin(\\theta_1(t))*sin(\\theta_2(t))*cos(\\theta_1(t))*cos(\\theta_2(t)) + 5.0*sin(\\theta_2(t))**2*cos(\\theta_1(t))**2 - 50.0*sin(\\theta_2(t))**2) + 50.0*sin(\\theta_2(t))*cos(\\theta_2(t))*Derivative(\\theta_2(t), t)**2/(5.0*sin(\\theta_1(t))**2*cos(\\theta_2(t))**2 - 50.0*sin(\\theta_1(t))**2 - 10.0*sin(\\theta_1(t))*sin(\\theta_2(t))*cos(\\theta_1(t))*cos(\\theta_2(t)) + 5.0*sin(\\theta_2(t))**2*cos(\\theta_1(t))**2 - 50.0*sin(\\theta_2(t))**2))"
      ]
     },
     "metadata": {},
     "output_type": "display_data"
    }
   ],
   "source": [
    "eqns_v2 = format_simplify_solns(soln_v2)\n",
    "for eq in eqns_v2:\n",
    "    #eqn_new = eq.simplify()\n",
    "    display(eq)"
   ]
  },
  {
   "cell_type": "code",
   "execution_count": null,
   "metadata": {},
   "outputs": [],
   "source": [
    "#solve E-L equations\n",
    "t0 = time.time()\n",
    "\n",
    "soln = sym.solve(total_eq, qdd, dict = True, rational = False, simplify = False)\n",
    "#soln = sym.solve_poly_system(eqn, var)\n",
    "\n",
    "print(\"Solve_EL: solved.\")\n",
    "tf = time.time()\n",
    "print(f\"Elapsed: {tf - t0} seconds\")"
   ]
  },
  {
   "cell_type": "code",
   "execution_count": null,
   "metadata": {},
   "outputs": [],
   "source": [
    "t0 = time.time()\n",
    "eqns_solved = []\n",
    "eqns_new = []\n",
    "\n",
    "for i, sol in enumerate(soln):\n",
    "    for x in list(sol.keys()):\n",
    "        eqn_solved = sym.Eq(x, sol[x])\n",
    "        eqns_solved.append(eqn_solved)\n",
    "\n",
    "print(\"Simplified:\")\n",
    "for eq in eqns_solved:\n",
    "    eq_new = eq.simplify()\n",
    "    display(eq_new)\n",
    "    eqns_new.append(eq_new)\n",
    "\n",
    "tf = time.time()\n",
    "print(f\"Elapsed: {tf - t0} seconds\")"
   ]
  },
  {
   "cell_type": "code",
   "execution_count": null,
   "metadata": {},
   "outputs": [],
   "source": [
    "#take results and turn them into numerical functions\n",
    "xdd_sy      = eqns_new[0].rhs\n",
    "ydd_sy      = eqns_new[1].rhs\n",
    "theta1dd_sy = eqns_new[2].rhs\n",
    "theta2dd_sy = eqns_new[3].rhs\n",
    "\n",
    "subs_dict = {\n",
    "    L1: 1,\n",
    "    L2: 1,\n",
    "    m:  1,\n",
    "    g:  9.8,\n",
    "    J:  1,\n",
    "    k1: 20\n",
    "}\n",
    "\n",
    "xdd_sy      = xdd_sy.subs(subs_dict)\n",
    "ydd_sy      = ydd_sy.subs(subs_dict)\n",
    "theta1dd_sy = theta1dd_sy.subs(subs_dict)\n",
    "theta2dd_sy = theta2dd_sy.subs(subs_dict)\n",
    "\n",
    "xd = x.diff(t)\n",
    "yd = y.diff(t)\n",
    "theta1d = theta1.diff(t)\n",
    "theta2d = theta2.diff(t)\n",
    "\n",
    "q_ext = sym.Matrix([x, y, theta1, theta2, xd, yd, theta1d, theta2d, t_new])\n",
    "#q_ext = sym.Matrix([x, y, theta1, theta2, xd, yd, theta1d, theta2d, ti])\n",
    "\n",
    "xdd_np = sym.lambdify(q_ext, xdd_sy)\n",
    "ydd_np = sym.lambdify(q_ext, ydd_sy)\n",
    "theta1dd_np = sym.lambdify(q_ext, theta1dd_sy)\n",
    "theta2dd_np = sym.lambdify(q_ext, theta2dd_sy)\n",
    "\n",
    "help(theta1dd_np)"
   ]
  },
  {
   "cell_type": "code",
   "execution_count": null,
   "metadata": {},
   "outputs": [],
   "source": [
    "#define simulation functions\n",
    "def dxdt(t, s):\n",
    "    #dependence on t matters for this problem\n",
    "    s = np.append(s,t)\n",
    "    return np.array([s[4], s[5], s[6], s[7], \n",
    "        xdd_np(*s), ydd_np(*s), theta1dd_np(*s), theta2dd_np(*s)])\n",
    "\n",
    "t_span = [0, 10]\n",
    "dt = 0.01\n",
    "th0 = np.pi/15\n",
    "ICs = [0, np.cos(th0), th0, -th0, 0, 0, 0, 0]\n",
    "\n",
    "q_array = simulate(dxdt, ICs, t_span, dt, rk4)\n"
   ]
  },
  {
   "cell_type": "code",
   "execution_count": null,
   "metadata": {},
   "outputs": [],
   "source": [
    "print(q_array.T)\n",
    "print(q_array.T.shape)"
   ]
  },
  {
   "cell_type": "code",
   "execution_count": null,
   "metadata": {},
   "outputs": [],
   "source": [
    "  def animate_biped(q_array, L1=1, L2=1, w=0.2, T=10):\n",
    "    \"\"\"\n",
    "    Function to generate web-based animation of biped with two legs.\n",
    "\n",
    "    Parameters:\n",
    "    ================================================\n",
    "    q_array:\n",
    "        trajectory of x, y, theta1, theta2\n",
    "    L1:\n",
    "        length of the first leg\n",
    "    L2:\n",
    "        length of the second leg\n",
    "    T:\n",
    "        length/seconds of animation duration\n",
    "\n",
    "    Returns: None\n",
    "    \"\"\"\n",
    "\n",
    "    ################################\n",
    "    # Imports required for animation.\n",
    "    from plotly.offline import init_notebook_mode, iplot\n",
    "    from IPython.display import display, HTML\n",
    "    import plotly.graph_objects as go\n",
    "\n",
    "    #######################\n",
    "    # Browser configuration.\n",
    "    def configure_plotly_browser_state():\n",
    "        import IPython\n",
    "        display(IPython.core.display.HTML('''\n",
    "            <script src=\"/static/components/requirejs/require.js\"></script>\n",
    "            <script>\n",
    "              requirejs.config({\n",
    "                paths: {\n",
    "                  base: '/static/base',\n",
    "                  plotly: 'https://cdn.plot.ly/plotly-1.5.1.min.js?noext',\n",
    "                },\n",
    "              });\n",
    "            </script>\n",
    "            '''))\n",
    "    configure_plotly_browser_state()\n",
    "    init_notebook_mode(connected=False)\n",
    "\n",
    "    ###############################################\n",
    "    # Getting data from pendulum angle trajectories.\n",
    "    x_array      = q_array[0]\n",
    "    y_array      = q_array[1]\n",
    "    theta1_array = q_array[2]\n",
    "    theta2_array = q_array[3]\n",
    "    \n",
    "    #this matrix contains vectors that correspond to the locations\n",
    "    #of all 4 vertices of the leg rectangles in space. needs to be \n",
    "    #multiplied by the transf. mat. for the top of each leg to get world posns.\n",
    "    vertices_mat_L1 = np.matrix([\n",
    "        [-w/2, w/2, w/2, -w/2],\n",
    "        [   0,   0, -L1,  -L1],\n",
    "        [   0,   0,   0,    0],\n",
    "        [   1,   1,   1,    1]\n",
    "    ])\n",
    "    \n",
    "    vertices_mat_L2 = np.matrix([\n",
    "        [-w/2, w/2, w/2, -w/2],\n",
    "        [   0,   0, -L2,  -L2],\n",
    "        [   0,   0,   0,    0],\n",
    "        [   1,   1,   1,    1]\n",
    "    ])\n",
    "    \n",
    "    N = len(q_array[0]) # Need this for specifying length of simulation\n",
    "\n",
    "    ###############################################\n",
    "    # Define arrays containing data for plotting    \n",
    "    vertices1x = np.zeros((4,N))\n",
    "    vertices1y = np.zeros((4,N))\n",
    "    vertices2x = np.zeros((4,N))\n",
    "    vertices2y = np.zeros((4,N))\n",
    "    \n",
    "    # evaluate homogeneous transformations to get data to plot\n",
    "    for i in range(N): # iteration through each time step\n",
    "        \n",
    "        #transformation matrices we need: Tsa, Tab, Tac, Tbd, Tce, \n",
    "        x      = x_array[i]\n",
    "        y      = y_array[i]\n",
    "        theta1 = theta1_array[i]\n",
    "        theta2 = theta2_array[i]\n",
    "                \n",
    "        Raa1 = np.matrix([\n",
    "            [np.cos(theta1), -np.sin(theta1), 0],\n",
    "            [np.sin(theta1),  np.cos(theta1), 0],\n",
    "            [              0,                0, 1]\n",
    "        ])\n",
    "\n",
    "        Raa2 = np.matrix([\n",
    "            [np.cos(theta2), -np.sin(theta2), 0],\n",
    "            [np.sin(theta2),  np.cos(theta2), 0],\n",
    "            [              0,                0,   1]\n",
    "\n",
    "        ])\n",
    "        \n",
    "        Gaa1 = SOnAndRnToSEn(Raa1, [0,0,0]) \n",
    "        Gaa2 = SOnAndRnToSEn(Raa2, [0,0,0])\n",
    "\n",
    "        #---------------------#\n",
    "\n",
    "        #combine transformation matrices\n",
    "        Gsa = SOnAndRnToSEn(np.matrix(np.eye(3)),[x,y,0])\n",
    "        vertices1 = Gsa @ Gaa1 @ vertices_mat_L1\n",
    "        vertices2 = Gsa @ Gaa2 @ vertices_mat_L2\n",
    "        \n",
    "        vertices1x[:,i] = vertices1[0,:]\n",
    "        vertices1y[:,i] = vertices1[1,:]\n",
    "        vertices2x[:,i] = vertices2[0,:]\n",
    "        vertices2y[:,i] = vertices2[1,:]        \n",
    "        \n",
    "    #all the stuff below here is for plotting\n",
    "    \n",
    "    ####################################\n",
    "    # Using these to specify axis limits.\n",
    "    xm = np.min(x_array)-L1\n",
    "    xM = np.max(x_array)+L1\n",
    "    ym = np.min(y_array)- 0.5*L1\n",
    "    yM = np.max(y_array)+ 0.5*L1\n",
    "\n",
    "    ###########################\n",
    "    # Defining data dictionary.\n",
    "    # Trajectories are here.\n",
    "    data=[\n",
    "        # note that except for the trajectory (which you don't need this time),\n",
    "        # you don't need to define entries other than \"name\". The items defined\n",
    "        # in this list will be related to the items defined in the \"frames\" list\n",
    "        # later in the same order. Therefore, these entries can be considered as \n",
    "        # labels for the components in each animation frame\n",
    "        dict(name='Leg 1'),\n",
    "        dict(name='Leg 2'),\n",
    "        ]\n",
    "\n",
    "    ################################\n",
    "    # Preparing simulation layout.\n",
    "    # Title and axis ranges are here.\n",
    "    layout=dict(autosize=False, width=1000, height=500,\n",
    "                xaxis=dict(range=[xm, xM], autorange=False, zeroline=False,dtick=1),\n",
    "                yaxis=dict(range=[ym, yM], autorange=False, zeroline=False,scaleanchor = \"x\",dtick=1),\n",
    "                title='Biped Forcing Simulation', \n",
    "                hovermode='closest',\n",
    "                updatemenus= [{'type': 'buttons',\n",
    "                               'buttons': [{'label': 'Play','method': 'animate',\n",
    "                                            'args': [None, {'frame': {'duration': T, 'redraw': False}}]},\n",
    "                                           {'args': [[None], {'frame': {'duration': T, 'redraw': False}, 'mode': 'immediate',\n",
    "                                            'transition': {'duration': 0}}],'label': 'Pause','method': 'animate'}\n",
    "                                          ]\n",
    "                              }]\n",
    "               )\n",
    "\n",
    "    ########################################\n",
    "    # Defining the frames of the simulation.\n",
    "    # This is what draws the lines from\n",
    "    # joint to joint of the pendulum.\n",
    "    frames=[dict(data=[# first three objects correspond to the arms and two masses,\n",
    "                       # same order as in the \"data\" variable defined above (thus \n",
    "                       # they will be labeled in the same order)\n",
    "        \n",
    "                       dict(x=[vertices1x[0,k], vertices1x[1,k], vertices1x[2,k], vertices1x[3,k], vertices1x[0,k] ], \n",
    "                            y=[vertices1y[0,k], vertices1y[1,k], vertices1y[2,k], vertices1y[3,k], vertices1y[0,k] ], \n",
    "                            mode='lines',\n",
    "                            line=dict(color='red', width=2),\n",
    "                            ),\n",
    "        \n",
    "                       dict(x=[vertices2x[0,k], vertices2x[1,k], vertices2x[2,k], vertices2x[3,k], vertices2x[0,k] ], \n",
    "                            y=[vertices2y[0,k], vertices2y[1,k], vertices2y[2,k], vertices2y[3,k], vertices2y[0,k] ], \n",
    "                            mode='lines',\n",
    "                            line=dict(color='blue', width=2),\n",
    "                            ),       \n",
    "                                             \n",
    "                      ]) for k in range(N)]\n",
    "\n",
    "    #######################################\n",
    "    # Putting it all together and plotting.\n",
    "    figure1=dict(data=data, layout=layout, frames=frames)           \n",
    "    iplot(figure1)\n",
    "    "
   ]
  },
  {
   "cell_type": "code",
   "execution_count": null,
   "metadata": {},
   "outputs": [],
   "source": [
    "L1 = 1\n",
    "L2 = 1\n",
    "w = 0.2\n",
    "\n",
    "N = 500\n",
    "theta1_test = np.linspace(0, np.pi/2, N)\n",
    "theta2_test = np.linspace(0, -np.pi/2, N)\n",
    "x_test = np.linspace(0,0,N)\n",
    "y_test = L1 * np.cos(theta1_test)\n",
    "\n",
    "# print(\"Theta1test and theta2test:\")\n",
    "# display(theta1_test)\n",
    "# display(theta2_test)\n",
    "\n",
    "q_test = np.array([\n",
    "    x_test,\n",
    "    y_test,\n",
    "    theta1_test,\n",
    "    theta2_test\n",
    "])\n",
    "\n",
    "#print(q_test[2])\n",
    "\n",
    "animate_biped(q_test, L1=L1, L2=L2, w=w, T=10)\n"
   ]
  },
  {
   "cell_type": "code",
   "execution_count": null,
   "metadata": {},
   "outputs": [],
   "source": []
  }
 ],
 "metadata": {
  "colab": {
   "provenance": []
  },
  "kernelspec": {
   "display_name": "Python 3 (ipykernel)",
   "language": "python",
   "name": "python3"
  },
  "language_info": {
   "codemirror_mode": {
    "name": "ipython",
    "version": 3
   },
   "file_extension": ".py",
   "mimetype": "text/x-python",
   "name": "python",
   "nbconvert_exporter": "python",
   "pygments_lexer": "ipython3",
   "version": "3.10.7"
  }
 },
 "nbformat": 4,
 "nbformat_minor": 1
}
