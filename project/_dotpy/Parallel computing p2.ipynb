{
 "cells": [
  {
   "cell_type": "code",
   "execution_count": 1,
   "id": "1535179d",
   "metadata": {},
   "outputs": [],
   "source": [
    "from geometry import *\n",
    "from helpers import *\n",
    "from el_equations import *\n",
    "from impacts import *\n",
    "from plotting_helpers import *\n",
    "from GUI import GUI"
   ]
  },
  {
   "cell_type": "code",
   "execution_count": 2,
   "id": "0badd6c2",
   "metadata": {},
   "outputs": [
    {
     "name": "stdout",
     "output_type": "stream",
     "text": [
      "Preparing Lagrangian...\n",
      "Generating impact equations...\n"
     ]
    },
    {
     "name": "stderr",
     "output_type": "stream",
     "text": [
      "100%|███████████████████████████████████████████████████████████████████████████████████| 8/8 [26:45<00:00, 200.64s/it]\n"
     ]
    }
   ],
   "source": [
    "print(\"Preparing Lagrangian...\")\n",
    "xy_coords_list = convert_coords_to_xy()\n",
    "vertices_list_np = [sym.lambdify(q, expr) for expr in xy_coords_list]\n",
    "phiq_list_sym = calculate_sym_phiq(xy_coords_list)\n",
    "phiq_list_sym = phiq_list_sym[8:16]\n",
    "lagrangian = compute_lagrangian()\n",
    "\n",
    "print(\"Generating impact equations...\")\n",
    "#test_gen_impact_updates(phiq_list_sym, lagrangian, q, subs_dict) #subs_dict = constants\n",
    "out = gen_impact_eqns(phiq_list_sym, lagrangian, q, subs_dict) #subs_dict = constants\n",
    "\n"
   ]
  },
  {
   "cell_type": "code",
   "execution_count": 3,
   "id": "d22004f0",
   "metadata": {},
   "outputs": [],
   "source": [
    "dill_dump(\"../dill/impact_eqns_8_16.dill\", out)"
   ]
  }
 ],
 "metadata": {
  "kernelspec": {
   "display_name": "Python 3 (ipykernel)",
   "language": "python",
   "name": "python3"
  },
  "language_info": {
   "codemirror_mode": {
    "name": "ipython",
    "version": 3
   },
   "file_extension": ".py",
   "mimetype": "text/x-python",
   "name": "python",
   "nbconvert_exporter": "python",
   "pygments_lexer": "ipython3",
   "version": "3.10.7"
  }
 },
 "nbformat": 4,
 "nbformat_minor": 5
}
