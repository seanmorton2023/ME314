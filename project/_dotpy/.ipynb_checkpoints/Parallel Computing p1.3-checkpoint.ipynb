{
 "cells": [
  {
   "cell_type": "code",
   "execution_count": 2,
   "id": "8984b9e5",
   "metadata": {},
   "outputs": [],
   "source": [
    "from geometry import *\n",
    "from helpers import *\n",
    "from el_equations import *\n",
    "from impacts import *\n",
    "from plotting_helpers import *\n",
    "from GUI import GUI"
   ]
  },
  {
   "cell_type": "code",
   "execution_count": 12,
   "id": "b32e4c98",
   "metadata": {},
   "outputs": [],
   "source": [
    "#attempt to solve first equations, \n",
    "lamb = sym.symbols(r'\\lambda')\n",
    "\n",
    "#qd_q is similar to q_ext, only derivatives come first so that \n",
    "#substitution works properly\n",
    "qd_q = sym.Matrix([sym.Matrix(q.diff(t)), q])\n",
    "\n",
    "#substitution dictionaries and lists for use in calculating impact\n",
    "#update equations\n",
    "q_state_dict, qd_taum_dict, qd_taup_dict, \\\n",
    "    q_taum_list, qd_taum_list, qd_taup_list = gen_sym_subs(q, qd_q)\n",
    "\n",
    "#solve for the values of qdot and lambda\n",
    "sol_vars = qd_taup_list\n",
    "sol_vars.append(lamb)"
   ]
  },
  {
   "cell_type": "code",
   "execution_count": 3,
   "id": "c4217032",
   "metadata": {},
   "outputs": [],
   "source": [
    "impact_eqns_0_8 = dill_load('../dill/impact_eqns_0_8.dill')"
   ]
  },
  {
   "cell_type": "code",
   "execution_count": 5,
   "id": "cd1cf114",
   "metadata": {},
   "outputs": [],
   "source": [
    "impact_eqs_test = impact_eqns_0_8[0]"
   ]
  },
  {
   "cell_type": "code",
   "execution_count": 6,
   "id": "a81b070b",
   "metadata": {},
   "outputs": [],
   "source": [
    "sinusoid_subs, sinusoid_subs_inv = gen_sinusoid_subs(impact_eqs_test)"
   ]
  },
  {
   "cell_type": "code",
   "execution_count": 8,
   "id": "87be60e2",
   "metadata": {},
   "outputs": [],
   "source": [
    "#sinusoid_subs\n",
    "impact_eqs_sinsub = impact_eqs_test.subs(sinusoid_subs)"
   ]
  },
  {
   "cell_type": "code",
   "execution_count": 9,
   "id": "3c9a2905",
   "metadata": {},
   "outputs": [
    {
     "data": {
      "text/latex": [
       "$\\displaystyle \\left[\\begin{matrix}1.0 c_{1} qd^{+}_{3} - 1.0 c_{1} qd^{-}_{3} + 1.0 c_{2} qd^{+}_{4} - 1.0 c_{2} qd^{-}_{4} + 2.0 qd^{+}_{1} - 2.0 qd^{-}_{1}\\\\1.0 c_{3} qd^{+}_{3} - 1.0 c_{3} qd^{-}_{3} + 1.0 c_{4} qd^{+}_{4} - 1.0 c_{4} qd^{-}_{4} + 2.0 qd^{+}_{2} - 2.0 qd^{-}_{2}\\\\- 0.0833333333333333 \\sqrt{2} \\lambda c_{1} c_{12} c_{2} c_{8} + 0.166666666666667 \\lambda c_{1} c_{14} c_{2} c_{5} - 0.166666666666667 \\lambda c_{10} c_{11} c_{4} + 0.0833333333333333 \\sqrt{2} \\lambda c_{13} c_{9} - 0.166666666666667 \\lambda c_{15} - 0.0833333333333333 \\sqrt{2} \\lambda c_{2} c_{3} c_{5} c_{6} + 0.0833333333333333 \\sqrt{2} \\lambda c_{2} c_{3} c_{7} - 0.0833333333333333 \\sqrt{2} \\lambda c_{4} c_{8} c_{9} + 1.0 c_{1} qd^{+}_{1} - 1.0 c_{1} qd^{-}_{1} + 1.0 c_{3} qd^{+}_{2} - 1.0 c_{3} qd^{-}_{2} + 1.05555555555556 qd^{+}_{3} - 1.05555555555556 qd^{-}_{3} + 0.0555555555555556 qd^{+}_{5} - 0.0555555555555556 qd^{-}_{5}\\\\- 0.166666666666667 \\lambda c_{11} c_{12} c_{18} - 0.166666666666667 \\lambda c_{14} c_{19} c_{5} + 0.166666666666667 \\lambda c_{15} - 0.0833333333333333 \\sqrt{2} \\lambda c_{16} c_{6} + 0.0833333333333333 \\sqrt{2} \\lambda c_{17} c_{8} + 1.0 c_{2} qd^{+}_{1} - 1.0 c_{2} qd^{-}_{1} + 1.0 c_{4} qd^{+}_{2} - 1.0 c_{4} qd^{-}_{2} + 1.05555555555556 qd^{+}_{4} - 1.05555555555556 qd^{-}_{4} + 0.0555555555555556 qd^{+}_{6} - 0.0555555555555556 qd^{-}_{6}\\\\0.0833333333333333 \\sqrt{2} \\lambda \\left(c_{20} + c_{21}\\right) + 0.0555555555555556 qd^{+}_{3} - 0.0555555555555556 qd^{-}_{3} + 0.0555555555555556 qd^{+}_{5} - 0.0555555555555556 qd^{-}_{5}\\\\\\lambda \\left(0.166666666666667 c_{20} \\left(- c_{22} + c_{6}\\right) - 0.0833333333333333 \\sqrt{2} c_{20} + 0.166666666666667 c_{21} \\left(c_{12} - c_{17}\\right) - 0.0833333333333333 \\sqrt{2} c_{21}\\right) + 0.0555555555555556 qd^{+}_{4} - 0.0555555555555556 qd^{-}_{4} + 0.0555555555555556 qd^{+}_{6} - 0.0555555555555556 qd^{-}_{6}\\\\1.0 c_{1} qd^{+}_{1} qd^{+}_{3} - 1.0 c_{1} qd^{-}_{1} qd^{-}_{3} + 1.0 c_{2} qd^{+}_{1} qd^{+}_{4} - 1.0 c_{2} qd^{-}_{1} qd^{-}_{4} + 1.0 c_{3} qd^{+}_{2} qd^{+}_{3} - 1.0 c_{3} qd^{-}_{2} qd^{-}_{3} + 1.0 c_{4} qd^{+}_{2} qd^{+}_{4} - 1.0 c_{4} qd^{-}_{2} qd^{-}_{4} + 1.0 \\left(qd^{+}_{1}\\right)^{2} - 1.0 \\left(qd^{-}_{1}\\right)^{2} + 1.0 \\left(qd^{+}_{2}\\right)^{2} - 1.0 \\left(qd^{-}_{2}\\right)^{2} + 0.527777777777778 \\left(qd^{+}_{3}\\right)^{2} + 0.0555555555555556 qd^{+}_{3} qd^{+}_{5} - 0.527777777777778 \\left(qd^{-}_{3}\\right)^{2} - 0.0555555555555556 qd^{-}_{3} qd^{-}_{5} + 0.527777777777778 \\left(qd^{+}_{4}\\right)^{2} + 0.0555555555555556 qd^{+}_{4} qd^{+}_{6} - 0.527777777777778 \\left(qd^{-}_{4}\\right)^{2} - 0.0555555555555556 qd^{-}_{4} qd^{-}_{6} + 0.0277777777777778 \\left(qd^{+}_{5}\\right)^{2} - 0.0277777777777778 \\left(qd^{-}_{5}\\right)^{2} + 0.0277777777777778 \\left(qd^{+}_{6}\\right)^{2} - 0.0277777777777778 \\left(qd^{-}_{6}\\right)^{2}\\end{matrix}\\right]$"
      ],
      "text/plain": [
       "Matrix([\n",
       "[                                                                                                                                                                                                                                                                                                                                                                                                                                                                                                                                                                  1.0*c_1*qd_3^+ - 1.0*c_1*qd_3^- + 1.0*c_2*qd_4^+ - 1.0*c_2*qd_4^- + 2.0*qd_1^+ - 2.0*qd_1^-],\n",
       "[                                                                                                                                                                                                                                                                                                                                                                                                                                                                                                                                                                  1.0*c_3*qd_3^+ - 1.0*c_3*qd_3^- + 1.0*c_4*qd_4^+ - 1.0*c_4*qd_4^- + 2.0*qd_2^+ - 2.0*qd_2^-],\n",
       "[                                                                                            -0.0833333333333333*sqrt(2)*\\lambda*c_1*c_12*c_2*c_8 + 0.166666666666667*\\lambda*c_1*c_14*c_2*c_5 - 0.166666666666667*\\lambda*c_10*c_11*c_4 + 0.0833333333333333*sqrt(2)*\\lambda*c_13*c_9 - 0.166666666666667*\\lambda*c_15 - 0.0833333333333333*sqrt(2)*\\lambda*c_2*c_3*c_5*c_6 + 0.0833333333333333*sqrt(2)*\\lambda*c_2*c_3*c_7 - 0.0833333333333333*sqrt(2)*\\lambda*c_4*c_8*c_9 + 1.0*c_1*qd_1^+ - 1.0*c_1*qd_1^- + 1.0*c_3*qd_2^+ - 1.0*c_3*qd_2^- + 1.05555555555556*qd_3^+ - 1.05555555555556*qd_3^- + 0.0555555555555556*qd_5^+ - 0.0555555555555556*qd_5^-],\n",
       "[                                                                                                                                                                                                                                                             -0.166666666666667*\\lambda*c_11*c_12*c_18 - 0.166666666666667*\\lambda*c_14*c_19*c_5 + 0.166666666666667*\\lambda*c_15 - 0.0833333333333333*sqrt(2)*\\lambda*c_16*c_6 + 0.0833333333333333*sqrt(2)*\\lambda*c_17*c_8 + 1.0*c_2*qd_1^+ - 1.0*c_2*qd_1^- + 1.0*c_4*qd_2^+ - 1.0*c_4*qd_2^- + 1.05555555555556*qd_4^+ - 1.05555555555556*qd_4^- + 0.0555555555555556*qd_6^+ - 0.0555555555555556*qd_6^-],\n",
       "[                                                                                                                                                                                                                                                                                                                                                                                                                                                                                             0.0833333333333333*sqrt(2)*\\lambda*(c_20 + c_21) + 0.0555555555555556*qd_3^+ - 0.0555555555555556*qd_3^- + 0.0555555555555556*qd_5^+ - 0.0555555555555556*qd_5^-],\n",
       "[                                                                                                                                                                                                                                                                                                                                                                                    \\lambda*(0.166666666666667*c_20*(-c_22 + c_6) - 0.0833333333333333*sqrt(2)*c_20 + 0.166666666666667*c_21*(c_12 - c_17) - 0.0833333333333333*sqrt(2)*c_21) + 0.0555555555555556*qd_4^+ - 0.0555555555555556*qd_4^- + 0.0555555555555556*qd_6^+ - 0.0555555555555556*qd_6^-],\n",
       "[1.0*c_1*qd_1^+*qd_3^+ - 1.0*c_1*qd_1^-*qd_3^- + 1.0*c_2*qd_1^+*qd_4^+ - 1.0*c_2*qd_1^-*qd_4^- + 1.0*c_3*qd_2^+*qd_3^+ - 1.0*c_3*qd_2^-*qd_3^- + 1.0*c_4*qd_2^+*qd_4^+ - 1.0*c_4*qd_2^-*qd_4^- + 1.0*qd_1^+**2 - 1.0*qd_1^-**2 + 1.0*qd_2^+**2 - 1.0*qd_2^-**2 + 0.527777777777778*qd_3^+**2 + 0.0555555555555556*qd_3^+*qd_5^+ - 0.527777777777778*qd_3^-**2 - 0.0555555555555556*qd_3^-*qd_5^- + 0.527777777777778*qd_4^+**2 + 0.0555555555555556*qd_4^+*qd_6^+ - 0.527777777777778*qd_4^-**2 - 0.0555555555555556*qd_4^-*qd_6^- + 0.0277777777777778*qd_5^+**2 - 0.0277777777777778*qd_5^-**2 + 0.0277777777777778*qd_6^+**2 - 0.0277777777777778*qd_6^-**2]])"
      ]
     },
     "execution_count": 9,
     "metadata": {},
     "output_type": "execute_result"
    }
   ],
   "source": [
    "impact_eqs_sinsub"
   ]
  },
  {
   "cell_type": "code",
   "execution_count": 10,
   "id": "738b2261",
   "metadata": {},
   "outputs": [],
   "source": [
    "curr_state_subs = {**{sym.symbols(f\"q_{i+1}\") : s_test[i] for i in range(6)},\n",
    "                    **{sym.symbols(f\"qd_{i+1}^-\") : s_test[i+6] for i in range(6)}}\n",
    "impact_eqs_curr = impact_eqs_test.subs(curr_state_subs)"
   ]
  },
  {
   "cell_type": "code",
   "execution_count": 11,
   "id": "222dcd7d",
   "metadata": {},
   "outputs": [
    {
     "data": {
      "text/latex": [
       "$\\displaystyle \\left[\\begin{matrix}2.0 qd^{+}_{1} + 1.0 qd^{+}_{3} \\cos{\\left(3 \\right)} + 1.0 qd^{+}_{4} \\cos{\\left(4 \\right)} - 14.0 - 10.0 \\cos{\\left(4 \\right)} - 9.0 \\cos{\\left(3 \\right)}\\\\2.0 qd^{+}_{2} + 1.0 qd^{+}_{3} \\sin{\\left(3 \\right)} + 1.0 qd^{+}_{4} \\sin{\\left(4 \\right)} - 16.0 - 9.0 \\sin{\\left(3 \\right)} - 10.0 \\sin{\\left(4 \\right)}\\\\- 0.166666666666667 \\lambda \\cos{\\left(7 \\right)} + 0.0833333333333333 \\sqrt{2} \\lambda \\sin{\\left(8 \\right)} \\sin{\\left(10 \\right)} + 0.166666666666667 \\lambda \\sin{\\left(\\frac{\\pi}{4} + 5 \\right)} \\cos{\\left(3 \\right)} \\cos{\\left(4 \\right)} \\cos{\\left(6 \\right)} - 0.0833333333333333 \\sqrt{2} \\lambda \\sin{\\left(4 \\right)} \\sin{\\left(6 \\right)} \\sin{\\left(8 \\right)} - 0.0833333333333333 \\sqrt{2} \\lambda \\sin{\\left(3 \\right)} \\sin{\\left(5 \\right)} \\cos{\\left(4 \\right)} \\cos{\\left(6 \\right)} - 0.166666666666667 \\lambda \\sin{\\left(4 \\right)} \\sin{\\left(\\frac{\\pi}{4} + 6 \\right)} \\cos{\\left(8 \\right)} + 0.0833333333333333 \\sqrt{2} \\lambda \\sin{\\left(3 \\right)} \\cos{\\left(1 \\right)} \\cos{\\left(4 \\right)} - 0.0833333333333333 \\sqrt{2} \\lambda \\sin{\\left(6 \\right)} \\cos{\\left(3 \\right)} \\cos{\\left(4 \\right)} \\cos{\\left(5 \\right)} + 1.0 qd^{+}_{1} \\cos{\\left(3 \\right)} + 1.0 qd^{+}_{2} \\sin{\\left(3 \\right)} + 1.05555555555556 qd^{+}_{3} + 0.0555555555555556 qd^{+}_{5} - 10.1111111111111 - 8.0 \\sin{\\left(3 \\right)} - 7.0 \\cos{\\left(3 \\right)}\\\\0.166666666666667 \\lambda \\sin{\\left(1 \\right)} \\sin{\\left(\\frac{\\pi}{4} + 6 \\right)} \\cos{\\left(5 \\right)} + 0.0833333333333333 \\sqrt{2} \\lambda \\sin{\\left(6 \\right)} \\cos{\\left(4 \\right)} - 0.166666666666667 \\lambda \\sin{\\left(\\frac{\\pi}{4} + 5 \\right)} \\cos{\\left(1 \\right)} \\cos{\\left(6 \\right)} - 0.0833333333333333 \\sqrt{2} \\lambda \\sin{\\left(5 \\right)} \\sin{\\left(7 \\right)} + 0.166666666666667 \\lambda \\cos{\\left(7 \\right)} + 1.0 qd^{+}_{1} \\cos{\\left(4 \\right)} + 1.0 qd^{+}_{2} \\sin{\\left(4 \\right)} + 1.05555555555556 qd^{+}_{4} + 0.0555555555555556 qd^{+}_{6} - 11.2222222222222 - 7.0 \\cos{\\left(4 \\right)} - 8.0 \\sin{\\left(4 \\right)}\\\\0.0833333333333333 \\sqrt{2} \\lambda \\left(- \\sin{\\left(2 \\right)} + \\cos{\\left(2 \\right)}\\right) + 0.0555555555555556 qd^{+}_{3} + 0.0555555555555556 qd^{+}_{5} - 1.11111111111111\\\\\\lambda \\left(0.166666666666667 \\left(\\cos{\\left(5 \\right)} - \\cos{\\left(4 \\right)}\\right) \\cos{\\left(2 \\right)} - 0.166666666666667 \\left(\\sin{\\left(5 \\right)} - \\sin{\\left(4 \\right)}\\right) \\sin{\\left(2 \\right)} - 0.0833333333333333 \\sqrt{2} \\cos{\\left(2 \\right)} + 0.0833333333333333 \\sqrt{2} \\sin{\\left(2 \\right)}\\right) + 0.0555555555555556 qd^{+}_{4} + 0.0555555555555556 qd^{+}_{6} - 1.22222222222222\\\\1.0 \\left(qd^{+}_{1}\\right)^{2} + 1.0 qd^{+}_{1} qd^{+}_{3} \\cos{\\left(3 \\right)} + 1.0 qd^{+}_{1} qd^{+}_{4} \\cos{\\left(4 \\right)} + 1.0 \\left(qd^{+}_{2}\\right)^{2} + 1.0 qd^{+}_{2} qd^{+}_{3} \\sin{\\left(3 \\right)} + 1.0 qd^{+}_{2} qd^{+}_{4} \\sin{\\left(4 \\right)} + 0.527777777777778 \\left(qd^{+}_{3}\\right)^{2} + 0.0555555555555556 qd^{+}_{3} qd^{+}_{5} + 0.527777777777778 \\left(qd^{+}_{4}\\right)^{2} + 0.0555555555555556 qd^{+}_{4} qd^{+}_{6} + 0.0277777777777778 \\left(qd^{+}_{5}\\right)^{2} + 0.0277777777777778 \\left(qd^{+}_{6}\\right)^{2} - 228.055555555556 - 72.0 \\sin{\\left(3 \\right)} - 70.0 \\cos{\\left(4 \\right)} - 80.0 \\sin{\\left(4 \\right)} - 63.0 \\cos{\\left(3 \\right)}\\end{matrix}\\right]$"
      ],
      "text/plain": [
       "Matrix([\n",
       "[                                                                                                                                                                                                                                                                                                                                                                                                                                                                                                                         2.0*qd_1^+ + 1.0*qd_3^+*cos(3) + 1.0*qd_4^+*cos(4) - 14.0 - 10.0*cos(4) - 9.0*cos(3)],\n",
       "[                                                                                                                                                                                                                                                                                                                                                                                                                                                                                                                         2.0*qd_2^+ + 1.0*qd_3^+*sin(3) + 1.0*qd_4^+*sin(4) - 16.0 - 9.0*sin(3) - 10.0*sin(4)],\n",
       "[-0.166666666666667*\\lambda*cos(7) + 0.0833333333333333*sqrt(2)*\\lambda*sin(8)*sin(10) + 0.166666666666667*\\lambda*sin(pi/4 + 5)*cos(3)*cos(4)*cos(6) - 0.0833333333333333*sqrt(2)*\\lambda*sin(4)*sin(6)*sin(8) - 0.0833333333333333*sqrt(2)*\\lambda*sin(3)*sin(5)*cos(4)*cos(6) - 0.166666666666667*\\lambda*sin(4)*sin(pi/4 + 6)*cos(8) + 0.0833333333333333*sqrt(2)*\\lambda*sin(3)*cos(1)*cos(4) - 0.0833333333333333*sqrt(2)*\\lambda*sin(6)*cos(3)*cos(4)*cos(5) + 1.0*qd_1^+*cos(3) + 1.0*qd_2^+*sin(3) + 1.05555555555556*qd_3^+ + 0.0555555555555556*qd_5^+ - 10.1111111111111 - 8.0*sin(3) - 7.0*cos(3)],\n",
       "[                                                                                                                                                                                                            0.166666666666667*\\lambda*sin(1)*sin(pi/4 + 6)*cos(5) + 0.0833333333333333*sqrt(2)*\\lambda*sin(6)*cos(4) - 0.166666666666667*\\lambda*sin(pi/4 + 5)*cos(1)*cos(6) - 0.0833333333333333*sqrt(2)*\\lambda*sin(5)*sin(7) + 0.166666666666667*\\lambda*cos(7) + 1.0*qd_1^+*cos(4) + 1.0*qd_2^+*sin(4) + 1.05555555555556*qd_4^+ + 0.0555555555555556*qd_6^+ - 11.2222222222222 - 7.0*cos(4) - 8.0*sin(4)],\n",
       "[                                                                                                                                                                                                                                                                                                                                                                                                                                                                             0.0833333333333333*sqrt(2)*\\lambda*(-sin(2) + cos(2)) + 0.0555555555555556*qd_3^+ + 0.0555555555555556*qd_5^+ - 1.11111111111111],\n",
       "[                                                                                                                                                                                                                                                                                                                                                         \\lambda*(0.166666666666667*(cos(5) - cos(4))*cos(2) - 0.166666666666667*(sin(5) - sin(4))*sin(2) - 0.0833333333333333*sqrt(2)*cos(2) + 0.0833333333333333*sqrt(2)*sin(2)) + 0.0555555555555556*qd_4^+ + 0.0555555555555556*qd_6^+ - 1.22222222222222],\n",
       "[                                                                                                                                                                                         1.0*qd_1^+**2 + 1.0*qd_1^+*qd_3^+*cos(3) + 1.0*qd_1^+*qd_4^+*cos(4) + 1.0*qd_2^+**2 + 1.0*qd_2^+*qd_3^+*sin(3) + 1.0*qd_2^+*qd_4^+*sin(4) + 0.527777777777778*qd_3^+**2 + 0.0555555555555556*qd_3^+*qd_5^+ + 0.527777777777778*qd_4^+**2 + 0.0555555555555556*qd_4^+*qd_6^+ + 0.0277777777777778*qd_5^+**2 + 0.0277777777777778*qd_6^+**2 - 228.055555555556 - 72.0*sin(3) - 70.0*cos(4) - 80.0*sin(4) - 63.0*cos(3)]])"
      ]
     },
     "execution_count": 11,
     "metadata": {},
     "output_type": "execute_result"
    }
   ],
   "source": [
    "impact_eqs_curr"
   ]
  },
  {
   "cell_type": "code",
   "execution_count": null,
   "id": "a86af021",
   "metadata": {},
   "outputs": [],
   "source": []
  },
  {
   "cell_type": "code",
   "execution_count": 25,
   "id": "191849e8",
   "metadata": {},
   "outputs": [
    {
     "name": "stderr",
     "output_type": "stream",
     "text": [
      "  0%|                                                                                           | 0/10 [00:00<?, ?it/s]"
     ]
    },
    {
     "name": "stdout",
     "output_type": "stream",
     "text": [
      "{qd_1^+: -2.36397950448792, qd_2^+: -3.74102225936610, qd_3^+: -0.870811335929789, qd_4^+: -6.52291255946141, qd_5^+: 36.1280279934353, qd_6^+: -31.3155633117124, \\lambda: 14.4958484310715}\n",
      "Found soln\n"
     ]
    },
    {
     "name": "stderr",
     "output_type": "stream",
     "text": [
      "\n"
     ]
    }
   ],
   "source": [
    "#try nsolve, then  a basic symsolve\n",
    "attempts = 10\n",
    "init_guess = -1 * np.array(s_test[6:12] + [0])\n",
    "\n",
    "#code is based on Jake's code from discussion page\n",
    "for i in tqdm(range(attempts)):\n",
    "    #try:\n",
    "    curr_soln = sym.nsolve(impact_eqs_curr, sol_vars, init_guess, dict = True, verify = False)[0]\n",
    "    print(curr_soln)\n",
    "    if abs(curr_soln[lamb]) > 1e-9:\n",
    "        print(\"Found soln\")\n",
    "        soln = curr_soln\n",
    "        break\n",
    "        \n",
    "    init_guess = -1.5*init_guess\n",
    "        \n",
    "    \n",
    "    #except Exception as e:\n",
    "    #    print(f\"Nsolve threw an error: {e}\")\n",
    "        "
   ]
  },
  {
   "cell_type": "code",
   "execution_count": null,
   "id": "4f2f95ba",
   "metadata": {},
   "outputs": [],
   "source": []
  }
 ],
 "metadata": {
  "kernelspec": {
   "display_name": "Python 3 (ipykernel)",
   "language": "python",
   "name": "python3"
  },
  "language_info": {
   "codemirror_mode": {
    "name": "ipython",
    "version": 3
   },
   "file_extension": ".py",
   "mimetype": "text/x-python",
   "name": "python",
   "nbconvert_exporter": "python",
   "pygments_lexer": "ipython3",
   "version": "3.10.7"
  }
 },
 "nbformat": 4,
 "nbformat_minor": 5
}
