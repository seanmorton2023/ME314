{
 "cells": [
  {
   "cell_type": "code",
   "execution_count": 2,
   "id": "8984b9e5",
   "metadata": {},
   "outputs": [],
   "source": [
    "from geometry import *\n",
    "from helpers import *\n",
    "from el_equations import *\n",
    "from impacts import *\n",
    "from plotting_helpers import *\n",
    "from GUI import GUI"
   ]
  },
  {
   "cell_type": "code",
   "execution_count": 6,
   "id": "b32e4c98",
   "metadata": {},
   "outputs": [],
   "source": [
    "#attempt to solve first equations, \n",
    "lamb = sym.symbols(r'\\lambda')\n",
    "\n",
    "#qd_q is similar to q_ext, only derivatives come first so that \n",
    "#substitution works properly\n",
    "qd_q = sym.Matrix([sym.Matrix(q.diff(t)), q])\n",
    "\n",
    "#substitution dictionaries and lists for use in calculating impact\n",
    "#update equations\n",
    "q_state_dict, qd_taum_dict, qd_taup_dict, \\\n",
    "    q_taum_list, qd_taum_list, qd_taup_list = gen_sym_subs(q, qd_q)\n",
    "\n",
    "#solve for the values of qdot and lambda\n",
    "sol_vars = qd_taup_list\n",
    "sol_vars.append(lamb)"
   ]
  },
  {
   "cell_type": "code",
   "execution_count": 3,
   "id": "27ba9656",
   "metadata": {},
   "outputs": [],
   "source": [
    "impact_eqns_0_8 = dill_load('../dill/impact_eqns_0_8.dill')\n",
    "impact_eqs_test = impact_eqns_0_8[0]"
   ]
  },
  {
   "cell_type": "code",
   "execution_count": 22,
   "id": "2e3b7f19",
   "metadata": {},
   "outputs": [],
   "source": [
    "s_test = [1,2,3,4,5,6,0,1,0.1,0,0,0]"
   ]
  },
  {
   "cell_type": "code",
   "execution_count": 23,
   "id": "191849e8",
   "metadata": {},
   "outputs": [
    {
     "name": "stderr",
     "output_type": "stream",
     "text": [
      "  0%|                                                                                           | 0/10 [00:00<?, ?it/s]"
     ]
    },
    {
     "name": "stdout",
     "output_type": "stream",
     "text": [
      "{qd_1^+: 0.00225402731600828, qd_2^+: 1.00791542030592, qd_3^+: 0.0917572666086258, qd_4^+: 0.0193810486886068, qd_5^+: -0.201143868367623, qd_6^+: 0.143923232342527, \\lambda: -0.0744699670818965}\n",
      "Found soln\n",
      "Elapsed: 0.5 seconds\n"
     ]
    },
    {
     "name": "stderr",
     "output_type": "stream",
     "text": [
      "\n"
     ]
    }
   ],
   "source": [
    "t0 = time.time()\n",
    "curr_state_subs = {**{sym.symbols(f\"q_{i+1}\") : s_test[i] for i in range(6)},\n",
    "                    **{sym.symbols(f\"qd_{i+1}^-\") : s_test[i+6] for i in range(6)}}\n",
    "impact_eqs_curr = impact_eqs_test.subs(curr_state_subs)\n",
    "#try nsolve, then  a basic symsolve\n",
    "attempts = 10\n",
    "init_guess = -1 * np.array(s_test[6:12] + [0])\n",
    "\n",
    "#code is based on Jake's code from discussion page\n",
    "#would be great if I could log the impacts separately and maintain tqdm running\n",
    "for i in tqdm(range(attempts)):\n",
    "    try:\n",
    "        curr_soln = sym.nsolve(impact_eqs_curr, sol_vars, init_guess, dict = True, verify = False)[0]\n",
    "        print(curr_soln)\n",
    "        if abs(curr_soln[lamb]) > 1e-9:\n",
    "            print(\"Found soln\")\n",
    "            #soln = curr_soln\n",
    "            break         \n",
    "    \n",
    "    except Exception as e:\n",
    "        print(f\"Nsolve threw an error: {e}\")\n",
    "    init_guess = -1.5*init_guess\n",
    "\n",
    "    \n",
    "    \n",
    "tf = time.time()\n",
    "print(f\"Elapsed: {round(tf - t0, 2)} seconds\")\n"
   ]
  },
  {
   "cell_type": "code",
   "execution_count": 24,
   "id": "4f2f95ba",
   "metadata": {},
   "outputs": [],
   "source": [
    "impact_eqns_0_8 = dill_load('../dill/impact_eqns_0_8.dill')\n",
    "impact_eqns_8_16 = dill_load('../dill/impact_eqns_8_16.dill')\n",
    "impact_eqns_16_24 = dill_load('../dill/impact_eqns_16_24.dill')\n",
    "impact_eqns_24_32 = dill_load('../dill/impact_eqns_24_32.dill')\n"
   ]
  },
  {
   "cell_type": "code",
   "execution_count": 25,
   "id": "fdef53ad",
   "metadata": {},
   "outputs": [],
   "source": [
    "impact_eqns_0_32 = impact_eqns_0_8 + impact_eqns_8_16 + impact_eqns_16_24 + impact_eqns_24_32"
   ]
  },
  {
   "cell_type": "code",
   "execution_count": 29,
   "id": "4c655c92",
   "metadata": {
    "scrolled": true
   },
   "outputs": [
    {
     "name": "stdout",
     "output_type": "stream",
     "text": [
      "\n"
     ]
    },
    {
     "data": {
      "text/latex": [
       "$\\displaystyle \\left[\\begin{matrix}0\\\\0\\\\0\\\\0\\\\0\\\\0\\\\0\\end{matrix}\\right]$"
      ],
      "text/plain": [
       "Matrix([\n",
       "[0],\n",
       "[0],\n",
       "[0],\n",
       "[0],\n",
       "[0],\n",
       "[0],\n",
       "[0]])"
      ]
     },
     "metadata": {},
     "output_type": "display_data"
    },
    {
     "name": "stdout",
     "output_type": "stream",
     "text": [
      "\n"
     ]
    },
    {
     "data": {
      "text/latex": [
       "$\\displaystyle \\left[\\begin{matrix}0\\\\0\\\\- 0.0833333333333333 \\sqrt{2} \\lambda \\sin{\\left(q_{3} \\right)} \\sin{\\left(q_{5} \\right)} \\cos{\\left(q_{4} \\right)} \\cos{\\left(q_{6} \\right)} + 0.0833333333333333 \\sqrt{2} \\lambda \\sin{\\left(q_{3} \\right)} \\cos{\\left(q_{4} \\right)} \\cos{\\left(q_{5} - q_{6} \\right)} - 0.0833333333333333 \\sqrt{2} \\lambda \\sin{\\left(q_{4} \\right)} \\sin{\\left(q_{6} \\right)} \\sin{\\left(q_{3} + q_{5} \\right)} - 0.166666666666667 \\lambda \\sin{\\left(q_{4} \\right)} \\sin{\\left(q_{6} + \\frac{\\pi}{4} \\right)} \\cos{\\left(q_{3} + q_{5} \\right)} - 0.0833333333333333 \\sqrt{2} \\lambda \\sin{\\left(q_{5} \\right)} \\cos{\\left(- q_{3} + q_{4} + q_{6} \\right)} + 0.0833333333333333 \\sqrt{2} \\lambda \\sin{\\left(q_{6} \\right)} \\sin{\\left(q_{3} - q_{4} + q_{5} \\right)} - 0.0833333333333333 \\sqrt{2} \\lambda \\sin{\\left(q_{6} \\right)} \\cos{\\left(q_{3} \\right)} \\cos{\\left(q_{4} \\right)} \\cos{\\left(q_{5} \\right)} - 0.166666666666667 \\lambda \\sin{\\left(q_{3} - q_{4} \\right)} \\sin{\\left(q_{5} + \\frac{\\pi}{4} \\right)} \\cos{\\left(q_{6} \\right)} + 0.0833333333333333 \\sqrt{2} \\lambda \\sin{\\left(q_{3} + q_{5} \\right)} \\sin{\\left(q_{4} + q_{6} \\right)} + 0.166666666666667 \\lambda \\sin{\\left(q_{5} + \\frac{\\pi}{4} \\right)} \\cos{\\left(q_{3} \\right)} \\cos{\\left(q_{4} \\right)} \\cos{\\left(q_{6} \\right)} + 0.166666666666667 \\lambda \\sin{\\left(q_{6} + \\frac{\\pi}{4} \\right)} \\cos{\\left(q_{5} \\right)} \\cos{\\left(q_{3} - q_{4} \\right)} - 0.166666666666667 \\lambda \\sin{\\left(- q_{3} + q_{4} + q_{6} \\right)} - 0.166666666666667 \\lambda \\cos{\\left(- q_{3} + q_{4} + q_{6} \\right)}\\\\- 0.0833333333333333 \\sqrt{2} \\lambda \\sin{\\left(q_{5} \\right)} \\sin{\\left(- q_{3} + q_{4} + q_{6} \\right)} + 0.166666666666667 \\lambda \\sin{\\left(q_{5} \\right)} \\cos{\\left(q_{3} - q_{4} + q_{5} - q_{6} \\right)} + 0.0833333333333333 \\sqrt{2} \\lambda \\sin{\\left(q_{6} \\right)} \\cos{\\left(q_{3} - q_{4} + q_{5} \\right)} - 0.166666666666667 \\lambda \\sin{\\left(q_{3} - q_{4} \\right)} \\sin{\\left(q_{6} + \\frac{\\pi}{4} \\right)} \\cos{\\left(q_{5} \\right)} - 0.166666666666667 \\lambda \\sin{\\left(q_{5} + \\frac{\\pi}{4} \\right)} \\cos{\\left(q_{6} \\right)} \\cos{\\left(q_{3} - q_{4} \\right)} - 0.166666666666667 \\lambda \\sin{\\left(q_{3} - q_{4} + q_{5} - q_{6} \\right)} \\cos{\\left(q_{5} \\right)} + 0.0833333333333333 \\sqrt{2} \\lambda \\sin{\\left(q_{3} - q_{4} + q_{5} - q_{6} \\right)} + 0.166666666666667 \\lambda \\cos{\\left(- q_{3} + q_{4} + q_{6} \\right)} - 0.0833333333333333 \\sqrt{2} \\lambda \\cos{\\left(q_{3} - q_{4} + q_{5} - q_{6} \\right)} - 1.0 qd^{+}_{1} \\sin{\\left(q_{6} \\right)} \\sin{\\left(q_{4} + q_{6} \\right)} + 1.0 qd^{+}_{1} \\cos{\\left(q_{4} \\right)} - 1.0 qd^{+}_{1} \\cos{\\left(q_{6} \\right)} \\cos{\\left(q_{4} + q_{6} \\right)} + 1.0 qd^{-}_{1} \\sin{\\left(q_{6} \\right)} \\sin{\\left(q_{4} + q_{6} \\right)} - 1.0 qd^{-}_{1} \\cos{\\left(q_{4} \\right)} + 1.0 qd^{-}_{1} \\cos{\\left(q_{6} \\right)} \\cos{\\left(q_{4} + q_{6} \\right)} + 1.0 qd^{+}_{2} \\sin{\\left(q_{4} \\right)} + 1.0 qd^{+}_{2} \\sin{\\left(q_{6} \\right)} \\cos{\\left(q_{4} + q_{6} \\right)} - 1.0 qd^{+}_{2} \\sin{\\left(q_{4} + q_{6} \\right)} \\cos{\\left(q_{6} \\right)} - 1.0 qd^{-}_{2} \\sin{\\left(q_{4} \\right)} - 1.0 qd^{-}_{2} \\sin{\\left(q_{6} \\right)} \\cos{\\left(q_{4} + q_{6} \\right)} + 1.0 qd^{-}_{2} \\sin{\\left(q_{4} + q_{6} \\right)} \\cos{\\left(q_{6} \\right)} - 1.0 qd^{+}_{4} \\sin^{2}{\\left(q_{6} \\right)} - 1.0 qd^{+}_{4} \\cos^{2}{\\left(q_{6} \\right)} + 1.0 qd^{+}_{4} + 1.0 qd^{-}_{4} \\sin^{2}{\\left(q_{6} \\right)} + 1.0 qd^{-}_{4} \\cos^{2}{\\left(q_{6} \\right)} - 1.0 qd^{-}_{4}\\\\- 0.0833333333333333 \\sqrt{2} \\lambda \\left(\\sin{\\left(q_{3} - q_{4} + q_{5} - q_{6} \\right)} - \\cos{\\left(q_{3} - q_{4} + q_{5} - q_{6} \\right)}\\right) + 0.0833333333333333 \\sqrt{2} \\lambda \\left(\\sin{\\left(q_{3} - q_{4} + q_{5} - q_{6} \\right)} + \\cos{\\left(q_{3} - q_{4} + q_{5} - q_{6} \\right)}\\right)\\\\\\lambda \\left(0.166666666666667 \\left(\\sin{\\left(q_{5} \\right)} - \\sin{\\left(q_{3} - q_{4} + q_{5} \\right)}\\right) \\sin{\\left(q_{3} - q_{4} + q_{5} - q_{6} \\right)} + 0.166666666666667 \\left(\\cos{\\left(q_{5} \\right)} - \\cos{\\left(q_{3} - q_{4} + q_{5} \\right)}\\right) \\cos{\\left(q_{3} - q_{4} + q_{5} - q_{6} \\right)} - 0.0833333333333333 \\sqrt{2} \\sin{\\left(q_{3} - q_{4} + q_{5} - q_{6} \\right)} - 0.0833333333333333 \\sqrt{2} \\cos{\\left(q_{3} - q_{4} + q_{5} - q_{6} \\right)}\\right) + \\lambda \\left(0.166666666666667 \\left(\\sin{\\left(q_{5} \\right)} - \\sin{\\left(q_{3} - q_{4} + q_{5} \\right)}\\right) \\cos{\\left(q_{3} - q_{4} + q_{5} - q_{6} \\right)} - 0.166666666666667 \\left(\\cos{\\left(q_{5} \\right)} - \\cos{\\left(q_{3} - q_{4} + q_{5} \\right)}\\right) \\sin{\\left(q_{3} - q_{4} + q_{5} - q_{6} \\right)} + 0.0833333333333333 \\sqrt{2} \\sin{\\left(q_{3} - q_{4} + q_{5} - q_{6} \\right)} - 0.0833333333333333 \\sqrt{2} \\cos{\\left(q_{3} - q_{4} + q_{5} - q_{6} \\right)}\\right)\\\\0\\end{matrix}\\right]$"
      ],
      "text/plain": [
       "Matrix([\n",
       "[                                                                                                                                                                                                                                                                                                                                                                                                                                                                                                                                                                                                                                                                                                                                                                                                                                                                                                                                                                                                                                                                                                                            0],\n",
       "[                                                                                                                                                                                                                                                                                                                                                                                                                                                                                                                                                                                                                                                                                                                                                                                                                                                                                                                                                                                                                                                                                                                            0],\n",
       "[                                                                                                                                                                                                                                -0.0833333333333333*sqrt(2)*\\lambda*sin(q_3)*sin(q_5)*cos(q_4)*cos(q_6) + 0.0833333333333333*sqrt(2)*\\lambda*sin(q_3)*cos(q_4)*cos(q_5 - q_6) - 0.0833333333333333*sqrt(2)*\\lambda*sin(q_4)*sin(q_6)*sin(q_3 + q_5) - 0.166666666666667*\\lambda*sin(q_4)*sin(q_6 + pi/4)*cos(q_3 + q_5) - 0.0833333333333333*sqrt(2)*\\lambda*sin(q_5)*cos(-q_3 + q_4 + q_6) + 0.0833333333333333*sqrt(2)*\\lambda*sin(q_6)*sin(q_3 - q_4 + q_5) - 0.0833333333333333*sqrt(2)*\\lambda*sin(q_6)*cos(q_3)*cos(q_4)*cos(q_5) - 0.166666666666667*\\lambda*sin(q_3 - q_4)*sin(q_5 + pi/4)*cos(q_6) + 0.0833333333333333*sqrt(2)*\\lambda*sin(q_3 + q_5)*sin(q_4 + q_6) + 0.166666666666667*\\lambda*sin(q_5 + pi/4)*cos(q_3)*cos(q_4)*cos(q_6) + 0.166666666666667*\\lambda*sin(q_6 + pi/4)*cos(q_5)*cos(q_3 - q_4) - 0.166666666666667*\\lambda*sin(-q_3 + q_4 + q_6) - 0.166666666666667*\\lambda*cos(-q_3 + q_4 + q_6)],\n",
       "[-0.0833333333333333*sqrt(2)*\\lambda*sin(q_5)*sin(-q_3 + q_4 + q_6) + 0.166666666666667*\\lambda*sin(q_5)*cos(q_3 - q_4 + q_5 - q_6) + 0.0833333333333333*sqrt(2)*\\lambda*sin(q_6)*cos(q_3 - q_4 + q_5) - 0.166666666666667*\\lambda*sin(q_3 - q_4)*sin(q_6 + pi/4)*cos(q_5) - 0.166666666666667*\\lambda*sin(q_5 + pi/4)*cos(q_6)*cos(q_3 - q_4) - 0.166666666666667*\\lambda*sin(q_3 - q_4 + q_5 - q_6)*cos(q_5) + 0.0833333333333333*sqrt(2)*\\lambda*sin(q_3 - q_4 + q_5 - q_6) + 0.166666666666667*\\lambda*cos(-q_3 + q_4 + q_6) - 0.0833333333333333*sqrt(2)*\\lambda*cos(q_3 - q_4 + q_5 - q_6) - 1.0*qd_1^+*sin(q_6)*sin(q_4 + q_6) + 1.0*qd_1^+*cos(q_4) - 1.0*qd_1^+*cos(q_6)*cos(q_4 + q_6) + 1.0*qd_1^-*sin(q_6)*sin(q_4 + q_6) - 1.0*qd_1^-*cos(q_4) + 1.0*qd_1^-*cos(q_6)*cos(q_4 + q_6) + 1.0*qd_2^+*sin(q_4) + 1.0*qd_2^+*sin(q_6)*cos(q_4 + q_6) - 1.0*qd_2^+*sin(q_4 + q_6)*cos(q_6) - 1.0*qd_2^-*sin(q_4) - 1.0*qd_2^-*sin(q_6)*cos(q_4 + q_6) + 1.0*qd_2^-*sin(q_4 + q_6)*cos(q_6) - 1.0*qd_4^+*sin(q_6)**2 - 1.0*qd_4^+*cos(q_6)**2 + 1.0*qd_4^+ + 1.0*qd_4^-*sin(q_6)**2 + 1.0*qd_4^-*cos(q_6)**2 - 1.0*qd_4^-],\n",
       "[                                                                                                                                                                                                                                                                                                                                                                                                                                                                                                                                                                                                                                                                                                                                                                                                                                                                                                                                 -0.0833333333333333*sqrt(2)*\\lambda*(sin(q_3 - q_4 + q_5 - q_6) - cos(q_3 - q_4 + q_5 - q_6)) + 0.0833333333333333*sqrt(2)*\\lambda*(sin(q_3 - q_4 + q_5 - q_6) + cos(q_3 - q_4 + q_5 - q_6))],\n",
       "[                                                                                                                                                                                                                                                                                                                                                                                                                                                                                                                                        \\lambda*(0.166666666666667*(sin(q_5) - sin(q_3 - q_4 + q_5))*sin(q_3 - q_4 + q_5 - q_6) + 0.166666666666667*(cos(q_5) - cos(q_3 - q_4 + q_5))*cos(q_3 - q_4 + q_5 - q_6) - 0.0833333333333333*sqrt(2)*sin(q_3 - q_4 + q_5 - q_6) - 0.0833333333333333*sqrt(2)*cos(q_3 - q_4 + q_5 - q_6)) + \\lambda*(0.166666666666667*(sin(q_5) - sin(q_3 - q_4 + q_5))*cos(q_3 - q_4 + q_5 - q_6) - 0.166666666666667*(cos(q_5) - cos(q_3 - q_4 + q_5))*sin(q_3 - q_4 + q_5 - q_6) + 0.0833333333333333*sqrt(2)*sin(q_3 - q_4 + q_5 - q_6) - 0.0833333333333333*sqrt(2)*cos(q_3 - q_4 + q_5 - q_6))],\n",
       "[                                                                                                                                                                                                                                                                                                                                                                                                                                                                                                                                                                                                                                                                                                                                                                                                                                                                                                                                                                                                                                                                                                                            0]])"
      ]
     },
     "metadata": {},
     "output_type": "display_data"
    },
    {
     "name": "stdout",
     "output_type": "stream",
     "text": [
      "\n"
     ]
    },
    {
     "data": {
      "text/latex": [
       "$\\displaystyle \\left[\\begin{matrix}0\\\\0\\\\0\\\\0\\\\0\\\\0\\\\0\\end{matrix}\\right]$"
      ],
      "text/plain": [
       "Matrix([\n",
       "[0],\n",
       "[0],\n",
       "[0],\n",
       "[0],\n",
       "[0],\n",
       "[0],\n",
       "[0]])"
      ]
     },
     "metadata": {},
     "output_type": "display_data"
    },
    {
     "name": "stdout",
     "output_type": "stream",
     "text": [
      "\n"
     ]
    },
    {
     "data": {
      "text/latex": [
       "$\\displaystyle \\left[\\begin{matrix}0\\\\0\\\\0.166666666666667 \\lambda \\sin{\\left(q_{5} \\right)} \\sin{\\left(q_{3} - q_{4} + q_{5} - q_{6} \\right)} + 0.0833333333333333 \\sqrt{2} \\lambda \\sin{\\left(q_{5} \\right)} \\cos{\\left(- q_{3} + q_{4} + q_{6} \\right)} - 0.0833333333333333 \\sqrt{2} \\lambda \\sin{\\left(q_{6} \\right)} \\sin{\\left(q_{3} - q_{4} + q_{5} \\right)} + 0.166666666666667 \\lambda \\sin{\\left(q_{3} - q_{4} \\right)} \\sin{\\left(q_{5} + \\frac{\\pi}{4} \\right)} \\cos{\\left(q_{6} \\right)} - 0.166666666666667 \\lambda \\sin{\\left(q_{6} + \\frac{\\pi}{4} \\right)} \\cos{\\left(q_{5} \\right)} \\cos{\\left(q_{3} - q_{4} \\right)} + 0.166666666666667 \\lambda \\sin{\\left(- q_{3} + q_{4} + q_{6} \\right)} + 0.0833333333333333 \\sqrt{2} \\lambda \\sin{\\left(q_{3} - q_{4} + q_{5} - q_{6} \\right)} + 0.166666666666667 \\lambda \\cos{\\left(q_{5} \\right)} \\cos{\\left(q_{3} - q_{4} + q_{5} - q_{6} \\right)} - 0.0833333333333333 \\sqrt{2} \\lambda \\cos{\\left(q_{3} - q_{4} + q_{5} - q_{6} \\right)} - 1.0 qd^{+}_{1} \\sin{\\left(q_{5} \\right)} \\sin{\\left(q_{3} + q_{5} \\right)} + 1.0 qd^{+}_{1} \\cos{\\left(q_{3} \\right)} - 1.0 qd^{+}_{1} \\cos{\\left(q_{5} \\right)} \\cos{\\left(q_{3} + q_{5} \\right)} + 1.0 qd^{-}_{1} \\sin{\\left(q_{5} \\right)} \\sin{\\left(q_{3} + q_{5} \\right)} - 1.0 qd^{-}_{1} \\cos{\\left(q_{3} \\right)} + 1.0 qd^{-}_{1} \\cos{\\left(q_{5} \\right)} \\cos{\\left(q_{3} + q_{5} \\right)} + 1.0 qd^{+}_{2} \\sin{\\left(q_{3} \\right)} + 1.0 qd^{+}_{2} \\sin{\\left(q_{5} \\right)} \\cos{\\left(q_{3} + q_{5} \\right)} - 1.0 qd^{+}_{2} \\sin{\\left(q_{3} + q_{5} \\right)} \\cos{\\left(q_{5} \\right)} - 1.0 qd^{-}_{2} \\sin{\\left(q_{3} \\right)} - 1.0 qd^{-}_{2} \\sin{\\left(q_{5} \\right)} \\cos{\\left(q_{3} + q_{5} \\right)} + 1.0 qd^{-}_{2} \\sin{\\left(q_{3} + q_{5} \\right)} \\cos{\\left(q_{5} \\right)} - 1.0 qd^{+}_{3} \\sin^{2}{\\left(q_{5} \\right)} - 1.0 qd^{+}_{3} \\cos^{2}{\\left(q_{5} \\right)} + 1.0 qd^{+}_{3} + 1.0 qd^{-}_{3} \\sin^{2}{\\left(q_{5} \\right)} + 1.0 qd^{-}_{3} \\cos^{2}{\\left(q_{5} \\right)} - 1.0 qd^{-}_{3}\\\\- 0.0833333333333333 \\sqrt{2} \\lambda \\sin{\\left(q_{5} \\right)} \\cos{\\left(- q_{3} + q_{4} + q_{6} \\right)} - 0.166666666666667 \\lambda \\sin{\\left(q_{5} \\right)} \\cos{\\left(q_{3} - q_{4} + q_{5} - q_{6} \\right)} + 0.0833333333333333 \\sqrt{2} \\lambda \\sin{\\left(q_{6} \\right)} \\sin{\\left(q_{3} - q_{4} + q_{5} \\right)} - 0.166666666666667 \\lambda \\sin{\\left(q_{3} - q_{4} \\right)} \\sin{\\left(q_{5} + \\frac{\\pi}{4} \\right)} \\cos{\\left(q_{6} \\right)} + 0.166666666666667 \\lambda \\sin{\\left(q_{6} + \\frac{\\pi}{4} \\right)} \\cos{\\left(q_{5} \\right)} \\cos{\\left(q_{3} - q_{4} \\right)} + 0.166666666666667 \\lambda \\sin{\\left(q_{3} - q_{4} + q_{5} - q_{6} \\right)} \\cos{\\left(q_{5} \\right)} - 0.0833333333333333 \\sqrt{2} \\lambda \\sin{\\left(q_{3} - q_{4} + q_{5} - q_{6} \\right)} - 0.166666666666667 \\lambda \\cos{\\left(- q_{3} + q_{4} + q_{6} \\right)} + 0.0833333333333333 \\sqrt{2} \\lambda \\cos{\\left(q_{3} - q_{4} + q_{5} - q_{6} \\right)} + 1.0 qd^{+}_{1} \\sin{\\left(q_{6} \\right)} \\sin{\\left(q_{4} + q_{6} \\right)} - 1.0 qd^{+}_{1} \\cos{\\left(q_{4} \\right)} + 1.0 qd^{+}_{1} \\cos{\\left(q_{6} \\right)} \\cos{\\left(q_{4} + q_{6} \\right)} - 1.0 qd^{-}_{1} \\sin{\\left(q_{6} \\right)} \\sin{\\left(q_{4} + q_{6} \\right)} + 1.0 qd^{-}_{1} \\cos{\\left(q_{4} \\right)} - 1.0 qd^{-}_{1} \\cos{\\left(q_{6} \\right)} \\cos{\\left(q_{4} + q_{6} \\right)} - 1.0 qd^{+}_{2} \\sin{\\left(q_{4} \\right)} - 1.0 qd^{+}_{2} \\sin{\\left(q_{6} \\right)} \\cos{\\left(q_{4} + q_{6} \\right)} + 1.0 qd^{+}_{2} \\sin{\\left(q_{4} + q_{6} \\right)} \\cos{\\left(q_{6} \\right)} + 1.0 qd^{-}_{2} \\sin{\\left(q_{4} \\right)} + 1.0 qd^{-}_{2} \\sin{\\left(q_{6} \\right)} \\cos{\\left(q_{4} + q_{6} \\right)} - 1.0 qd^{-}_{2} \\sin{\\left(q_{4} + q_{6} \\right)} \\cos{\\left(q_{6} \\right)} + 1.0 qd^{+}_{4} \\sin^{2}{\\left(q_{6} \\right)} + 1.0 qd^{+}_{4} \\cos^{2}{\\left(q_{6} \\right)} - 1.0 qd^{+}_{4} - 1.0 qd^{-}_{4} \\sin^{2}{\\left(q_{6} \\right)} - 1.0 qd^{-}_{4} \\cos^{2}{\\left(q_{6} \\right)} + 1.0 qd^{-}_{4}\\\\0.166666666666667 \\sqrt{2} \\lambda \\left(\\sin{\\left(q_{3} - q_{4} + q_{5} - q_{6} \\right)} - \\cos{\\left(q_{3} - q_{4} + q_{5} - q_{6} \\right)}\\right)\\\\- \\lambda \\left(0.166666666666667 \\left(\\sin{\\left(q_{5} \\right)} - \\sin{\\left(q_{3} - q_{4} + q_{5} \\right)}\\right) \\sin{\\left(q_{3} - q_{4} + q_{5} - q_{6} \\right)} + 0.166666666666667 \\left(\\cos{\\left(q_{5} \\right)} - \\cos{\\left(q_{3} - q_{4} + q_{5} \\right)}\\right) \\cos{\\left(q_{3} - q_{4} + q_{5} - q_{6} \\right)} + 0.0833333333333333 \\sqrt{2} \\sin{\\left(q_{3} - q_{4} + q_{5} - q_{6} \\right)} - 0.0833333333333333 \\sqrt{2} \\cos{\\left(q_{3} - q_{4} + q_{5} - q_{6} \\right)}\\right) - \\lambda \\left(0.166666666666667 \\left(\\sin{\\left(q_{5} \\right)} - \\sin{\\left(q_{3} - q_{4} + q_{5} \\right)}\\right) \\cos{\\left(q_{3} - q_{4} + q_{5} - q_{6} \\right)} - 0.166666666666667 \\left(\\cos{\\left(q_{5} \\right)} - \\cos{\\left(q_{3} - q_{4} + q_{5} \\right)}\\right) \\sin{\\left(q_{3} - q_{4} + q_{5} - q_{6} \\right)} + 0.0833333333333333 \\sqrt{2} \\sin{\\left(q_{3} - q_{4} + q_{5} - q_{6} \\right)} - 0.0833333333333333 \\sqrt{2} \\cos{\\left(q_{3} - q_{4} + q_{5} - q_{6} \\right)}\\right)\\\\0\\end{matrix}\\right]$"
      ],
      "text/plain": [
       "Matrix([\n",
       "[                                                                                                                                                                                                                                                                                                                                                                                                                                                                                                                                                                                                                                                                                                                                                                                                                                                                                                                                                                                                                                                                                                                            0],\n",
       "[                                                                                                                                                                                                                                                                                                                                                                                                                                                                                                                                                                                                                                                                                                                                                                                                                                                                                                                                                                                                                                                                                                                            0],\n",
       "[ 0.166666666666667*\\lambda*sin(q_5)*sin(q_3 - q_4 + q_5 - q_6) + 0.0833333333333333*sqrt(2)*\\lambda*sin(q_5)*cos(-q_3 + q_4 + q_6) - 0.0833333333333333*sqrt(2)*\\lambda*sin(q_6)*sin(q_3 - q_4 + q_5) + 0.166666666666667*\\lambda*sin(q_3 - q_4)*sin(q_5 + pi/4)*cos(q_6) - 0.166666666666667*\\lambda*sin(q_6 + pi/4)*cos(q_5)*cos(q_3 - q_4) + 0.166666666666667*\\lambda*sin(-q_3 + q_4 + q_6) + 0.0833333333333333*sqrt(2)*\\lambda*sin(q_3 - q_4 + q_5 - q_6) + 0.166666666666667*\\lambda*cos(q_5)*cos(q_3 - q_4 + q_5 - q_6) - 0.0833333333333333*sqrt(2)*\\lambda*cos(q_3 - q_4 + q_5 - q_6) - 1.0*qd_1^+*sin(q_5)*sin(q_3 + q_5) + 1.0*qd_1^+*cos(q_3) - 1.0*qd_1^+*cos(q_5)*cos(q_3 + q_5) + 1.0*qd_1^-*sin(q_5)*sin(q_3 + q_5) - 1.0*qd_1^-*cos(q_3) + 1.0*qd_1^-*cos(q_5)*cos(q_3 + q_5) + 1.0*qd_2^+*sin(q_3) + 1.0*qd_2^+*sin(q_5)*cos(q_3 + q_5) - 1.0*qd_2^+*sin(q_3 + q_5)*cos(q_5) - 1.0*qd_2^-*sin(q_3) - 1.0*qd_2^-*sin(q_5)*cos(q_3 + q_5) + 1.0*qd_2^-*sin(q_3 + q_5)*cos(q_5) - 1.0*qd_3^+*sin(q_5)**2 - 1.0*qd_3^+*cos(q_5)**2 + 1.0*qd_3^+ + 1.0*qd_3^-*sin(q_5)**2 + 1.0*qd_3^-*cos(q_5)**2 - 1.0*qd_3^-],\n",
       "[-0.0833333333333333*sqrt(2)*\\lambda*sin(q_5)*cos(-q_3 + q_4 + q_6) - 0.166666666666667*\\lambda*sin(q_5)*cos(q_3 - q_4 + q_5 - q_6) + 0.0833333333333333*sqrt(2)*\\lambda*sin(q_6)*sin(q_3 - q_4 + q_5) - 0.166666666666667*\\lambda*sin(q_3 - q_4)*sin(q_5 + pi/4)*cos(q_6) + 0.166666666666667*\\lambda*sin(q_6 + pi/4)*cos(q_5)*cos(q_3 - q_4) + 0.166666666666667*\\lambda*sin(q_3 - q_4 + q_5 - q_6)*cos(q_5) - 0.0833333333333333*sqrt(2)*\\lambda*sin(q_3 - q_4 + q_5 - q_6) - 0.166666666666667*\\lambda*cos(-q_3 + q_4 + q_6) + 0.0833333333333333*sqrt(2)*\\lambda*cos(q_3 - q_4 + q_5 - q_6) + 1.0*qd_1^+*sin(q_6)*sin(q_4 + q_6) - 1.0*qd_1^+*cos(q_4) + 1.0*qd_1^+*cos(q_6)*cos(q_4 + q_6) - 1.0*qd_1^-*sin(q_6)*sin(q_4 + q_6) + 1.0*qd_1^-*cos(q_4) - 1.0*qd_1^-*cos(q_6)*cos(q_4 + q_6) - 1.0*qd_2^+*sin(q_4) - 1.0*qd_2^+*sin(q_6)*cos(q_4 + q_6) + 1.0*qd_2^+*sin(q_4 + q_6)*cos(q_6) + 1.0*qd_2^-*sin(q_4) + 1.0*qd_2^-*sin(q_6)*cos(q_4 + q_6) - 1.0*qd_2^-*sin(q_4 + q_6)*cos(q_6) + 1.0*qd_4^+*sin(q_6)**2 + 1.0*qd_4^+*cos(q_6)**2 - 1.0*qd_4^+ - 1.0*qd_4^-*sin(q_6)**2 - 1.0*qd_4^-*cos(q_6)**2 + 1.0*qd_4^-],\n",
       "[                                                                                                                                                                                                                                                                                                                                                                                                                                                                                                                                                                                                                                                                                                                                                                                                                                                                                                                                                                                                                                  0.166666666666667*sqrt(2)*\\lambda*(sin(q_3 - q_4 + q_5 - q_6) - cos(q_3 - q_4 + q_5 - q_6))],\n",
       "[                                                                                                                                                                                                                                                                                                                                                                                                                                                                                                                                       -\\lambda*(0.166666666666667*(sin(q_5) - sin(q_3 - q_4 + q_5))*sin(q_3 - q_4 + q_5 - q_6) + 0.166666666666667*(cos(q_5) - cos(q_3 - q_4 + q_5))*cos(q_3 - q_4 + q_5 - q_6) + 0.0833333333333333*sqrt(2)*sin(q_3 - q_4 + q_5 - q_6) - 0.0833333333333333*sqrt(2)*cos(q_3 - q_4 + q_5 - q_6)) - \\lambda*(0.166666666666667*(sin(q_5) - sin(q_3 - q_4 + q_5))*cos(q_3 - q_4 + q_5 - q_6) - 0.166666666666667*(cos(q_5) - cos(q_3 - q_4 + q_5))*sin(q_3 - q_4 + q_5 - q_6) + 0.0833333333333333*sqrt(2)*sin(q_3 - q_4 + q_5 - q_6) - 0.0833333333333333*sqrt(2)*cos(q_3 - q_4 + q_5 - q_6))],\n",
       "[                                                                                                                                                                                                                                                                                                                                                                                                                                                                                                                                                                                                                                                                                                                                                                                                                                                                                                                                                                                                                                                                                                                            0]])"
      ]
     },
     "metadata": {},
     "output_type": "display_data"
    },
    {
     "name": "stdout",
     "output_type": "stream",
     "text": [
      "\n"
     ]
    },
    {
     "data": {
      "text/latex": [
       "$\\displaystyle \\left[\\begin{matrix}0\\\\0\\\\0\\\\0\\\\0\\\\0\\\\0\\end{matrix}\\right]$"
      ],
      "text/plain": [
       "Matrix([\n",
       "[0],\n",
       "[0],\n",
       "[0],\n",
       "[0],\n",
       "[0],\n",
       "[0],\n",
       "[0]])"
      ]
     },
     "metadata": {},
     "output_type": "display_data"
    },
    {
     "name": "stdout",
     "output_type": "stream",
     "text": [
      "\n"
     ]
    },
    {
     "data": {
      "text/latex": [
       "$\\displaystyle \\left[\\begin{matrix}0\\\\0\\\\0.0833333333333333 \\sqrt{2} \\lambda \\sin{\\left(q_{3} \\right)} \\sin{\\left(q_{5} \\right)} \\cos{\\left(q_{4} \\right)} \\cos{\\left(q_{6} \\right)} - 0.0833333333333333 \\sqrt{2} \\lambda \\sin{\\left(q_{3} \\right)} \\cos{\\left(q_{4} \\right)} \\cos{\\left(q_{5} - q_{6} \\right)} + 0.0833333333333333 \\sqrt{2} \\lambda \\sin{\\left(q_{4} \\right)} \\sin{\\left(q_{6} \\right)} \\sin{\\left(q_{3} + q_{5} \\right)} + 0.166666666666667 \\lambda \\sin{\\left(q_{4} \\right)} \\sin{\\left(q_{6} + \\frac{\\pi}{4} \\right)} \\cos{\\left(q_{3} + q_{5} \\right)} - 0.166666666666667 \\lambda \\sin{\\left(q_{5} \\right)} \\sin{\\left(q_{3} - q_{4} + q_{5} - q_{6} \\right)} + 0.0833333333333333 \\sqrt{2} \\lambda \\sin{\\left(q_{6} \\right)} \\cos{\\left(q_{3} \\right)} \\cos{\\left(q_{4} \\right)} \\cos{\\left(q_{5} \\right)} - 0.0833333333333333 \\sqrt{2} \\lambda \\sin{\\left(q_{3} + q_{5} \\right)} \\sin{\\left(q_{4} + q_{6} \\right)} - 0.166666666666667 \\lambda \\sin{\\left(q_{5} + \\frac{\\pi}{4} \\right)} \\cos{\\left(q_{3} \\right)} \\cos{\\left(q_{4} \\right)} \\cos{\\left(q_{6} \\right)} - 0.166666666666667 \\lambda \\sin{\\left(- q_{3} + q_{4} + q_{6} \\right)} - 0.0833333333333333 \\sqrt{2} \\lambda \\sin{\\left(q_{3} - q_{4} + q_{5} - q_{6} \\right)} - 0.166666666666667 \\lambda \\cos{\\left(q_{5} \\right)} \\cos{\\left(q_{3} - q_{4} + q_{5} - q_{6} \\right)} + 0.0833333333333333 \\sqrt{2} \\lambda \\cos{\\left(q_{3} - q_{4} + q_{5} - q_{6} \\right)} + 1.0 qd^{+}_{1} \\sin{\\left(q_{5} \\right)} \\sin{\\left(q_{3} + q_{5} \\right)} - 1.0 qd^{+}_{1} \\cos{\\left(q_{3} \\right)} + 1.0 qd^{+}_{1} \\cos{\\left(q_{5} \\right)} \\cos{\\left(q_{3} + q_{5} \\right)} - 1.0 qd^{-}_{1} \\sin{\\left(q_{5} \\right)} \\sin{\\left(q_{3} + q_{5} \\right)} + 1.0 qd^{-}_{1} \\cos{\\left(q_{3} \\right)} - 1.0 qd^{-}_{1} \\cos{\\left(q_{5} \\right)} \\cos{\\left(q_{3} + q_{5} \\right)} - 1.0 qd^{+}_{2} \\sin{\\left(q_{3} \\right)} - 1.0 qd^{+}_{2} \\sin{\\left(q_{5} \\right)} \\cos{\\left(q_{3} + q_{5} \\right)} + 1.0 qd^{+}_{2} \\sin{\\left(q_{3} + q_{5} \\right)} \\cos{\\left(q_{5} \\right)} + 1.0 qd^{-}_{2} \\sin{\\left(q_{3} \\right)} + 1.0 qd^{-}_{2} \\sin{\\left(q_{5} \\right)} \\cos{\\left(q_{3} + q_{5} \\right)} - 1.0 qd^{-}_{2} \\sin{\\left(q_{3} + q_{5} \\right)} \\cos{\\left(q_{5} \\right)} + 1.0 qd^{+}_{3} \\sin^{2}{\\left(q_{5} \\right)} + 1.0 qd^{+}_{3} \\cos^{2}{\\left(q_{5} \\right)} - 1.0 qd^{+}_{3} - 1.0 qd^{-}_{3} \\sin^{2}{\\left(q_{5} \\right)} - 1.0 qd^{-}_{3} \\cos^{2}{\\left(q_{5} \\right)} + 1.0 qd^{-}_{3}\\\\0.0833333333333333 \\sqrt{2} \\lambda \\sin{\\left(q_{5} \\right)} \\sin{\\left(- q_{3} + q_{4} + q_{6} \\right)} + 0.0833333333333333 \\sqrt{2} \\lambda \\sin{\\left(q_{5} \\right)} \\cos{\\left(- q_{3} + q_{4} + q_{6} \\right)} - 0.0833333333333333 \\sqrt{2} \\lambda \\sin{\\left(q_{6} \\right)} \\sin{\\left(q_{3} - q_{4} + q_{5} \\right)} - 0.0833333333333333 \\sqrt{2} \\lambda \\sin{\\left(q_{6} \\right)} \\cos{\\left(q_{3} - q_{4} + q_{5} \\right)} + 0.166666666666667 \\lambda \\sin{\\left(q_{3} - q_{4} \\right)} \\sin{\\left(q_{5} + \\frac{\\pi}{4} \\right)} \\cos{\\left(q_{6} \\right)} + 0.166666666666667 \\lambda \\sin{\\left(q_{3} - q_{4} \\right)} \\sin{\\left(q_{6} + \\frac{\\pi}{4} \\right)} \\cos{\\left(q_{5} \\right)} + 0.166666666666667 \\lambda \\sin{\\left(q_{5} + \\frac{\\pi}{4} \\right)} \\cos{\\left(q_{6} \\right)} \\cos{\\left(q_{3} - q_{4} \\right)} - 0.166666666666667 \\lambda \\sin{\\left(q_{6} + \\frac{\\pi}{4} \\right)} \\cos{\\left(q_{5} \\right)} \\cos{\\left(q_{3} - q_{4} \\right)} + 0.166666666666667 \\lambda \\sin{\\left(- q_{3} + q_{4} + q_{6} \\right)} + 0.166666666666667 \\lambda \\cos{\\left(- q_{3} + q_{4} + q_{6} \\right)}\\\\- 0.0833333333333333 \\sqrt{2} \\lambda \\left(\\sin{\\left(q_{3} - q_{4} + q_{5} - q_{6} \\right)} - \\cos{\\left(q_{3} - q_{4} + q_{5} - q_{6} \\right)}\\right) - 0.0833333333333333 \\sqrt{2} \\lambda \\left(\\sin{\\left(q_{3} - q_{4} + q_{5} - q_{6} \\right)} + \\cos{\\left(q_{3} - q_{4} + q_{5} - q_{6} \\right)}\\right)\\\\\\lambda \\left(0.166666666666667 \\left(\\sin{\\left(q_{5} \\right)} - \\sin{\\left(q_{3} - q_{4} + q_{5} \\right)}\\right) \\sin{\\left(q_{3} - q_{4} + q_{5} - q_{6} \\right)} + 0.166666666666667 \\left(\\cos{\\left(q_{5} \\right)} - \\cos{\\left(q_{3} - q_{4} + q_{5} \\right)}\\right) \\cos{\\left(q_{3} - q_{4} + q_{5} - q_{6} \\right)} + 0.0833333333333333 \\sqrt{2} \\sin{\\left(q_{3} - q_{4} + q_{5} - q_{6} \\right)} - 0.0833333333333333 \\sqrt{2} \\cos{\\left(q_{3} - q_{4} + q_{5} - q_{6} \\right)}\\right) + \\lambda \\left(0.166666666666667 \\left(\\sin{\\left(q_{5} \\right)} - \\sin{\\left(q_{3} - q_{4} + q_{5} \\right)}\\right) \\cos{\\left(q_{3} - q_{4} + q_{5} - q_{6} \\right)} - 0.166666666666667 \\left(\\cos{\\left(q_{5} \\right)} - \\cos{\\left(q_{3} - q_{4} + q_{5} \\right)}\\right) \\sin{\\left(q_{3} - q_{4} + q_{5} - q_{6} \\right)} + 0.0833333333333333 \\sqrt{2} \\sin{\\left(q_{3} - q_{4} + q_{5} - q_{6} \\right)} + 0.0833333333333333 \\sqrt{2} \\cos{\\left(q_{3} - q_{4} + q_{5} - q_{6} \\right)}\\right)\\\\0\\end{matrix}\\right]$"
      ],
      "text/plain": [
       "Matrix([\n",
       "[                                                                                                                                                                                                                                                                                                                                                                                                                                                                                                                                                                                                                                                                                                                                                                                                                                                                                                                                                                                                                                                                                                                                                                                                                                                                                                                                                        0],\n",
       "[                                                                                                                                                                                                                                                                                                                                                                                                                                                                                                                                                                                                                                                                                                                                                                                                                                                                                                                                                                                                                                                                                                                                                                                                                                                                                                                                                        0],\n",
       "[0.0833333333333333*sqrt(2)*\\lambda*sin(q_3)*sin(q_5)*cos(q_4)*cos(q_6) - 0.0833333333333333*sqrt(2)*\\lambda*sin(q_3)*cos(q_4)*cos(q_5 - q_6) + 0.0833333333333333*sqrt(2)*\\lambda*sin(q_4)*sin(q_6)*sin(q_3 + q_5) + 0.166666666666667*\\lambda*sin(q_4)*sin(q_6 + pi/4)*cos(q_3 + q_5) - 0.166666666666667*\\lambda*sin(q_5)*sin(q_3 - q_4 + q_5 - q_6) + 0.0833333333333333*sqrt(2)*\\lambda*sin(q_6)*cos(q_3)*cos(q_4)*cos(q_5) - 0.0833333333333333*sqrt(2)*\\lambda*sin(q_3 + q_5)*sin(q_4 + q_6) - 0.166666666666667*\\lambda*sin(q_5 + pi/4)*cos(q_3)*cos(q_4)*cos(q_6) - 0.166666666666667*\\lambda*sin(-q_3 + q_4 + q_6) - 0.0833333333333333*sqrt(2)*\\lambda*sin(q_3 - q_4 + q_5 - q_6) - 0.166666666666667*\\lambda*cos(q_5)*cos(q_3 - q_4 + q_5 - q_6) + 0.0833333333333333*sqrt(2)*\\lambda*cos(q_3 - q_4 + q_5 - q_6) + 1.0*qd_1^+*sin(q_5)*sin(q_3 + q_5) - 1.0*qd_1^+*cos(q_3) + 1.0*qd_1^+*cos(q_5)*cos(q_3 + q_5) - 1.0*qd_1^-*sin(q_5)*sin(q_3 + q_5) + 1.0*qd_1^-*cos(q_3) - 1.0*qd_1^-*cos(q_5)*cos(q_3 + q_5) - 1.0*qd_2^+*sin(q_3) - 1.0*qd_2^+*sin(q_5)*cos(q_3 + q_5) + 1.0*qd_2^+*sin(q_3 + q_5)*cos(q_5) + 1.0*qd_2^-*sin(q_3) + 1.0*qd_2^-*sin(q_5)*cos(q_3 + q_5) - 1.0*qd_2^-*sin(q_3 + q_5)*cos(q_5) + 1.0*qd_3^+*sin(q_5)**2 + 1.0*qd_3^+*cos(q_5)**2 - 1.0*qd_3^+ - 1.0*qd_3^-*sin(q_5)**2 - 1.0*qd_3^-*cos(q_5)**2 + 1.0*qd_3^-],\n",
       "[                                                                                                                                                                                                                                                                                                                                                                                                                                                                                                                                                                                                                                                                                          0.0833333333333333*sqrt(2)*\\lambda*sin(q_5)*sin(-q_3 + q_4 + q_6) + 0.0833333333333333*sqrt(2)*\\lambda*sin(q_5)*cos(-q_3 + q_4 + q_6) - 0.0833333333333333*sqrt(2)*\\lambda*sin(q_6)*sin(q_3 - q_4 + q_5) - 0.0833333333333333*sqrt(2)*\\lambda*sin(q_6)*cos(q_3 - q_4 + q_5) + 0.166666666666667*\\lambda*sin(q_3 - q_4)*sin(q_5 + pi/4)*cos(q_6) + 0.166666666666667*\\lambda*sin(q_3 - q_4)*sin(q_6 + pi/4)*cos(q_5) + 0.166666666666667*\\lambda*sin(q_5 + pi/4)*cos(q_6)*cos(q_3 - q_4) - 0.166666666666667*\\lambda*sin(q_6 + pi/4)*cos(q_5)*cos(q_3 - q_4) + 0.166666666666667*\\lambda*sin(-q_3 + q_4 + q_6) + 0.166666666666667*\\lambda*cos(-q_3 + q_4 + q_6)],\n",
       "[                                                                                                                                                                                                                                                                                                                                                                                                                                                                                                                                                                                                                                                                                                                                                                                                                                                                                                                                                                                                                                                                                                                                                             -0.0833333333333333*sqrt(2)*\\lambda*(sin(q_3 - q_4 + q_5 - q_6) - cos(q_3 - q_4 + q_5 - q_6)) - 0.0833333333333333*sqrt(2)*\\lambda*(sin(q_3 - q_4 + q_5 - q_6) + cos(q_3 - q_4 + q_5 - q_6))],\n",
       "[                                                                                                                                                                                                                                                                                                                                                                                                                                                                                                                                                                                                                                                                                                                                                                    \\lambda*(0.166666666666667*(sin(q_5) - sin(q_3 - q_4 + q_5))*sin(q_3 - q_4 + q_5 - q_6) + 0.166666666666667*(cos(q_5) - cos(q_3 - q_4 + q_5))*cos(q_3 - q_4 + q_5 - q_6) + 0.0833333333333333*sqrt(2)*sin(q_3 - q_4 + q_5 - q_6) - 0.0833333333333333*sqrt(2)*cos(q_3 - q_4 + q_5 - q_6)) + \\lambda*(0.166666666666667*(sin(q_5) - sin(q_3 - q_4 + q_5))*cos(q_3 - q_4 + q_5 - q_6) - 0.166666666666667*(cos(q_5) - cos(q_3 - q_4 + q_5))*sin(q_3 - q_4 + q_5 - q_6) + 0.0833333333333333*sqrt(2)*sin(q_3 - q_4 + q_5 - q_6) + 0.0833333333333333*sqrt(2)*cos(q_3 - q_4 + q_5 - q_6))],\n",
       "[                                                                                                                                                                                                                                                                                                                                                                                                                                                                                                                                                                                                                                                                                                                                                                                                                                                                                                                                                                                                                                                                                                                                                                                                                                                                                                                                                        0]])"
      ]
     },
     "metadata": {},
     "output_type": "display_data"
    },
    {
     "name": "stdout",
     "output_type": "stream",
     "text": [
      "\n"
     ]
    },
    {
     "data": {
      "text/latex": [
       "$\\displaystyle \\left[\\begin{matrix}0\\\\0\\\\0\\\\0\\\\0\\\\0\\\\0\\end{matrix}\\right]$"
      ],
      "text/plain": [
       "Matrix([\n",
       "[0],\n",
       "[0],\n",
       "[0],\n",
       "[0],\n",
       "[0],\n",
       "[0],\n",
       "[0]])"
      ]
     },
     "metadata": {},
     "output_type": "display_data"
    },
    {
     "name": "stdout",
     "output_type": "stream",
     "text": [
      "\n"
     ]
    },
    {
     "data": {
      "text/latex": [
       "$\\displaystyle \\left[\\begin{matrix}0\\\\0\\\\- 0.0833333333333333 \\sqrt{2} \\lambda \\sin{\\left(q_{3} \\right)} \\sin{\\left(q_{5} \\right)} \\cos{\\left(q_{4} \\right)} \\cos{\\left(q_{6} \\right)} + 0.0833333333333333 \\sqrt{2} \\lambda \\sin{\\left(q_{3} \\right)} \\cos{\\left(q_{4} \\right)} \\cos{\\left(q_{5} - q_{6} \\right)} - 0.0833333333333333 \\sqrt{2} \\lambda \\sin{\\left(q_{4} \\right)} \\sin{\\left(q_{6} \\right)} \\sin{\\left(q_{3} + q_{5} \\right)} - 0.166666666666667 \\lambda \\sin{\\left(q_{4} \\right)} \\sin{\\left(q_{6} + \\frac{\\pi}{4} \\right)} \\cos{\\left(q_{3} + q_{5} \\right)} + 0.0833333333333333 \\sqrt{2} \\lambda \\sin{\\left(q_{5} \\right)} \\sin{\\left(- q_{3} + q_{4} + q_{6} \\right)} - 0.0833333333333333 \\sqrt{2} \\lambda \\sin{\\left(q_{6} \\right)} \\cos{\\left(q_{3} \\right)} \\cos{\\left(q_{4} \\right)} \\cos{\\left(q_{5} \\right)} - 0.0833333333333333 \\sqrt{2} \\lambda \\sin{\\left(q_{6} \\right)} \\cos{\\left(q_{3} - q_{4} + q_{5} \\right)} + 0.166666666666667 \\lambda \\sin{\\left(q_{3} - q_{4} \\right)} \\sin{\\left(q_{6} + \\frac{\\pi}{4} \\right)} \\cos{\\left(q_{5} \\right)} + 0.0833333333333333 \\sqrt{2} \\lambda \\sin{\\left(q_{3} + q_{5} \\right)} \\sin{\\left(q_{4} + q_{6} \\right)} + 0.166666666666667 \\lambda \\sin{\\left(q_{5} + \\frac{\\pi}{4} \\right)} \\cos{\\left(q_{3} \\right)} \\cos{\\left(q_{4} \\right)} \\cos{\\left(q_{6} \\right)} + 0.166666666666667 \\lambda \\sin{\\left(q_{5} + \\frac{\\pi}{4} \\right)} \\cos{\\left(q_{6} \\right)} \\cos{\\left(q_{3} - q_{4} \\right)} + 0.166666666666667 \\lambda \\sin{\\left(- q_{3} + q_{4} + q_{6} \\right)} + 0.166666666666667 \\lambda \\cos{\\left(- q_{3} + q_{4} + q_{6} \\right)}\\\\0.0833333333333333 \\sqrt{2} \\lambda \\sin{\\left(q_{3} \\right)} \\sin{\\left(q_{5} \\right)} \\cos{\\left(q_{4} \\right)} \\cos{\\left(q_{6} \\right)} - 0.0833333333333333 \\sqrt{2} \\lambda \\sin{\\left(q_{3} \\right)} \\cos{\\left(q_{4} \\right)} \\cos{\\left(q_{5} - q_{6} \\right)} + 0.0833333333333333 \\sqrt{2} \\lambda \\sin{\\left(q_{4} \\right)} \\sin{\\left(q_{6} \\right)} \\sin{\\left(q_{3} + q_{5} \\right)} + 0.166666666666667 \\lambda \\sin{\\left(q_{4} \\right)} \\sin{\\left(q_{6} + \\frac{\\pi}{4} \\right)} \\cos{\\left(q_{3} + q_{5} \\right)} - 0.0833333333333333 \\sqrt{2} \\lambda \\sin{\\left(q_{5} \\right)} \\sin{\\left(- q_{3} + q_{4} + q_{6} \\right)} + 0.0833333333333333 \\sqrt{2} \\lambda \\sin{\\left(q_{6} \\right)} \\cos{\\left(q_{3} \\right)} \\cos{\\left(q_{4} \\right)} \\cos{\\left(q_{5} \\right)} + 0.0833333333333333 \\sqrt{2} \\lambda \\sin{\\left(q_{6} \\right)} \\cos{\\left(q_{3} - q_{4} + q_{5} \\right)} - 0.166666666666667 \\lambda \\sin{\\left(q_{3} - q_{4} \\right)} \\sin{\\left(q_{6} + \\frac{\\pi}{4} \\right)} \\cos{\\left(q_{5} \\right)} - 0.0833333333333333 \\sqrt{2} \\lambda \\sin{\\left(q_{3} + q_{5} \\right)} \\sin{\\left(q_{4} + q_{6} \\right)} - 0.166666666666667 \\lambda \\sin{\\left(q_{5} + \\frac{\\pi}{4} \\right)} \\cos{\\left(q_{3} \\right)} \\cos{\\left(q_{4} \\right)} \\cos{\\left(q_{6} \\right)} - 0.166666666666667 \\lambda \\sin{\\left(q_{5} + \\frac{\\pi}{4} \\right)} \\cos{\\left(q_{6} \\right)} \\cos{\\left(q_{3} - q_{4} \\right)} - 0.166666666666667 \\lambda \\sin{\\left(- q_{3} + q_{4} + q_{6} \\right)} - 0.166666666666667 \\lambda \\cos{\\left(- q_{3} + q_{4} + q_{6} \\right)}\\\\0.166666666666667 \\sqrt{2} \\lambda \\left(\\sin{\\left(q_{3} - q_{4} + q_{5} - q_{6} \\right)} + \\cos{\\left(q_{3} - q_{4} + q_{5} - q_{6} \\right)}\\right)\\\\- \\lambda \\left(0.166666666666667 \\left(\\sin{\\left(q_{5} \\right)} - \\sin{\\left(q_{3} - q_{4} + q_{5} \\right)}\\right) \\sin{\\left(q_{3} - q_{4} + q_{5} - q_{6} \\right)} + 0.166666666666667 \\left(\\cos{\\left(q_{5} \\right)} - \\cos{\\left(q_{3} - q_{4} + q_{5} \\right)}\\right) \\cos{\\left(q_{3} - q_{4} + q_{5} - q_{6} \\right)} + 0.0833333333333333 \\sqrt{2} \\sin{\\left(q_{3} - q_{4} + q_{5} - q_{6} \\right)} + 0.0833333333333333 \\sqrt{2} \\cos{\\left(q_{3} - q_{4} + q_{5} - q_{6} \\right)}\\right) - \\lambda \\left(0.166666666666667 \\left(\\sin{\\left(q_{5} \\right)} - \\sin{\\left(q_{3} - q_{4} + q_{5} \\right)}\\right) \\cos{\\left(q_{3} - q_{4} + q_{5} - q_{6} \\right)} - 0.166666666666667 \\left(\\cos{\\left(q_{5} \\right)} - \\cos{\\left(q_{3} - q_{4} + q_{5} \\right)}\\right) \\sin{\\left(q_{3} - q_{4} + q_{5} - q_{6} \\right)} + 0.0833333333333333 \\sqrt{2} \\sin{\\left(q_{3} - q_{4} + q_{5} - q_{6} \\right)} + 0.0833333333333333 \\sqrt{2} \\cos{\\left(q_{3} - q_{4} + q_{5} - q_{6} \\right)}\\right)\\\\0\\end{matrix}\\right]$"
      ],
      "text/plain": [
       "Matrix([\n",
       "[                                                                                                                                                                                                                                                                                                                                                                                                                                                                                                                                                                                                                                                                                                                                                                                                                                                                                            0],\n",
       "[                                                                                                                                                                                                                                                                                                                                                                                                                                                                                                                                                                                                                                                                                                                                                                                                                                                                                            0],\n",
       "[-0.0833333333333333*sqrt(2)*\\lambda*sin(q_3)*sin(q_5)*cos(q_4)*cos(q_6) + 0.0833333333333333*sqrt(2)*\\lambda*sin(q_3)*cos(q_4)*cos(q_5 - q_6) - 0.0833333333333333*sqrt(2)*\\lambda*sin(q_4)*sin(q_6)*sin(q_3 + q_5) - 0.166666666666667*\\lambda*sin(q_4)*sin(q_6 + pi/4)*cos(q_3 + q_5) + 0.0833333333333333*sqrt(2)*\\lambda*sin(q_5)*sin(-q_3 + q_4 + q_6) - 0.0833333333333333*sqrt(2)*\\lambda*sin(q_6)*cos(q_3)*cos(q_4)*cos(q_5) - 0.0833333333333333*sqrt(2)*\\lambda*sin(q_6)*cos(q_3 - q_4 + q_5) + 0.166666666666667*\\lambda*sin(q_3 - q_4)*sin(q_6 + pi/4)*cos(q_5) + 0.0833333333333333*sqrt(2)*\\lambda*sin(q_3 + q_5)*sin(q_4 + q_6) + 0.166666666666667*\\lambda*sin(q_5 + pi/4)*cos(q_3)*cos(q_4)*cos(q_6) + 0.166666666666667*\\lambda*sin(q_5 + pi/4)*cos(q_6)*cos(q_3 - q_4) + 0.166666666666667*\\lambda*sin(-q_3 + q_4 + q_6) + 0.166666666666667*\\lambda*cos(-q_3 + q_4 + q_6)],\n",
       "[ 0.0833333333333333*sqrt(2)*\\lambda*sin(q_3)*sin(q_5)*cos(q_4)*cos(q_6) - 0.0833333333333333*sqrt(2)*\\lambda*sin(q_3)*cos(q_4)*cos(q_5 - q_6) + 0.0833333333333333*sqrt(2)*\\lambda*sin(q_4)*sin(q_6)*sin(q_3 + q_5) + 0.166666666666667*\\lambda*sin(q_4)*sin(q_6 + pi/4)*cos(q_3 + q_5) - 0.0833333333333333*sqrt(2)*\\lambda*sin(q_5)*sin(-q_3 + q_4 + q_6) + 0.0833333333333333*sqrt(2)*\\lambda*sin(q_6)*cos(q_3)*cos(q_4)*cos(q_5) + 0.0833333333333333*sqrt(2)*\\lambda*sin(q_6)*cos(q_3 - q_4 + q_5) - 0.166666666666667*\\lambda*sin(q_3 - q_4)*sin(q_6 + pi/4)*cos(q_5) - 0.0833333333333333*sqrt(2)*\\lambda*sin(q_3 + q_5)*sin(q_4 + q_6) - 0.166666666666667*\\lambda*sin(q_5 + pi/4)*cos(q_3)*cos(q_4)*cos(q_6) - 0.166666666666667*\\lambda*sin(q_5 + pi/4)*cos(q_6)*cos(q_3 - q_4) - 0.166666666666667*\\lambda*sin(-q_3 + q_4 + q_6) - 0.166666666666667*\\lambda*cos(-q_3 + q_4 + q_6)],\n",
       "[                                                                                                                                                                                                                                                                                                                                                                                                                                                                                                                                                                                                                                                                                                                                                                                                  0.166666666666667*sqrt(2)*\\lambda*(sin(q_3 - q_4 + q_5 - q_6) + cos(q_3 - q_4 + q_5 - q_6))],\n",
       "[                                                                                                                                                                                                                                                                                                       -\\lambda*(0.166666666666667*(sin(q_5) - sin(q_3 - q_4 + q_5))*sin(q_3 - q_4 + q_5 - q_6) + 0.166666666666667*(cos(q_5) - cos(q_3 - q_4 + q_5))*cos(q_3 - q_4 + q_5 - q_6) + 0.0833333333333333*sqrt(2)*sin(q_3 - q_4 + q_5 - q_6) + 0.0833333333333333*sqrt(2)*cos(q_3 - q_4 + q_5 - q_6)) - \\lambda*(0.166666666666667*(sin(q_5) - sin(q_3 - q_4 + q_5))*cos(q_3 - q_4 + q_5 - q_6) - 0.166666666666667*(cos(q_5) - cos(q_3 - q_4 + q_5))*sin(q_3 - q_4 + q_5 - q_6) + 0.0833333333333333*sqrt(2)*sin(q_3 - q_4 + q_5 - q_6) + 0.0833333333333333*sqrt(2)*cos(q_3 - q_4 + q_5 - q_6))],\n",
       "[                                                                                                                                                                                                                                                                                                                                                                                                                                                                                                                                                                                                                                                                                                                                                                                                                                                                                            0]])"
      ]
     },
     "metadata": {},
     "output_type": "display_data"
    },
    {
     "name": "stdout",
     "output_type": "stream",
     "text": [
      "\n"
     ]
    },
    {
     "data": {
      "text/latex": [
       "$\\displaystyle \\left[\\begin{matrix}0\\\\0\\\\0\\\\0\\\\0\\\\0\\\\0\\end{matrix}\\right]$"
      ],
      "text/plain": [
       "Matrix([\n",
       "[0],\n",
       "[0],\n",
       "[0],\n",
       "[0],\n",
       "[0],\n",
       "[0],\n",
       "[0]])"
      ]
     },
     "metadata": {},
     "output_type": "display_data"
    },
    {
     "name": "stdout",
     "output_type": "stream",
     "text": [
      "\n"
     ]
    },
    {
     "data": {
      "text/latex": [
       "$\\displaystyle \\left[\\begin{matrix}0\\\\0\\\\- 0.0833333333333333 \\sqrt{2} \\lambda \\sin{\\left(q_{5} \\right)} \\sin{\\left(- q_{3} + q_{4} + q_{6} \\right)} - 0.166666666666667 \\lambda \\sin{\\left(q_{5} \\right)} \\cos{\\left(q_{3} - q_{4} + q_{5} - q_{6} \\right)} + 0.0833333333333333 \\sqrt{2} \\lambda \\sin{\\left(q_{6} \\right)} \\cos{\\left(q_{3} - q_{4} + q_{5} \\right)} - 0.166666666666667 \\lambda \\sin{\\left(q_{3} - q_{4} \\right)} \\sin{\\left(q_{6} + \\frac{\\pi}{4} \\right)} \\cos{\\left(q_{5} \\right)} - 0.166666666666667 \\lambda \\sin{\\left(q_{5} + \\frac{\\pi}{4} \\right)} \\cos{\\left(q_{6} \\right)} \\cos{\\left(q_{3} - q_{4} \\right)} + 0.166666666666667 \\lambda \\sin{\\left(q_{3} - q_{4} + q_{5} - q_{6} \\right)} \\cos{\\left(q_{5} \\right)} + 0.0833333333333333 \\sqrt{2} \\lambda \\sin{\\left(q_{3} - q_{4} + q_{5} - q_{6} \\right)} - 0.166666666666667 \\lambda \\cos{\\left(- q_{3} + q_{4} + q_{6} \\right)} - 0.0833333333333333 \\sqrt{2} \\lambda \\cos{\\left(q_{3} - q_{4} + q_{5} - q_{6} \\right)} - 1.0 qd^{+}_{1} \\sin{\\left(q_{5} \\right)} \\sin{\\left(q_{3} + q_{5} \\right)} + 1.0 qd^{+}_{1} \\cos{\\left(q_{3} \\right)} - 1.0 qd^{+}_{1} \\cos{\\left(q_{5} \\right)} \\cos{\\left(q_{3} + q_{5} \\right)} + 1.0 qd^{-}_{1} \\sin{\\left(q_{5} \\right)} \\sin{\\left(q_{3} + q_{5} \\right)} - 1.0 qd^{-}_{1} \\cos{\\left(q_{3} \\right)} + 1.0 qd^{-}_{1} \\cos{\\left(q_{5} \\right)} \\cos{\\left(q_{3} + q_{5} \\right)} + 1.0 qd^{+}_{2} \\sin{\\left(q_{3} \\right)} + 1.0 qd^{+}_{2} \\sin{\\left(q_{5} \\right)} \\cos{\\left(q_{3} + q_{5} \\right)} - 1.0 qd^{+}_{2} \\sin{\\left(q_{3} + q_{5} \\right)} \\cos{\\left(q_{5} \\right)} - 1.0 qd^{-}_{2} \\sin{\\left(q_{3} \\right)} - 1.0 qd^{-}_{2} \\sin{\\left(q_{5} \\right)} \\cos{\\left(q_{3} + q_{5} \\right)} + 1.0 qd^{-}_{2} \\sin{\\left(q_{3} + q_{5} \\right)} \\cos{\\left(q_{5} \\right)} - 1.0 qd^{+}_{3} \\sin^{2}{\\left(q_{5} \\right)} - 1.0 qd^{+}_{3} \\cos^{2}{\\left(q_{5} \\right)} + 1.0 qd^{+}_{3} + 1.0 qd^{-}_{3} \\sin^{2}{\\left(q_{5} \\right)} + 1.0 qd^{-}_{3} \\cos^{2}{\\left(q_{5} \\right)} - 1.0 qd^{-}_{3}\\\\- 0.0833333333333333 \\sqrt{2} \\lambda \\sin{\\left(q_{3} \\right)} \\sin{\\left(q_{5} \\right)} \\cos{\\left(q_{4} \\right)} \\cos{\\left(q_{6} \\right)} + 0.0833333333333333 \\sqrt{2} \\lambda \\sin{\\left(q_{3} \\right)} \\cos{\\left(q_{4} \\right)} \\cos{\\left(q_{5} - q_{6} \\right)} - 0.0833333333333333 \\sqrt{2} \\lambda \\sin{\\left(q_{4} \\right)} \\sin{\\left(q_{6} \\right)} \\sin{\\left(q_{3} + q_{5} \\right)} - 0.166666666666667 \\lambda \\sin{\\left(q_{4} \\right)} \\sin{\\left(q_{6} + \\frac{\\pi}{4} \\right)} \\cos{\\left(q_{3} + q_{5} \\right)} - 0.0833333333333333 \\sqrt{2} \\lambda \\sin{\\left(q_{5} \\right)} \\cos{\\left(- q_{3} + q_{4} + q_{6} \\right)} + 0.0833333333333333 \\sqrt{2} \\lambda \\sin{\\left(q_{6} \\right)} \\sin{\\left(q_{3} - q_{4} + q_{5} \\right)} - 0.0833333333333333 \\sqrt{2} \\lambda \\sin{\\left(q_{6} \\right)} \\cos{\\left(q_{3} \\right)} \\cos{\\left(q_{4} \\right)} \\cos{\\left(q_{5} \\right)} - 0.166666666666667 \\lambda \\sin{\\left(q_{3} - q_{4} \\right)} \\sin{\\left(q_{5} + \\frac{\\pi}{4} \\right)} \\cos{\\left(q_{6} \\right)} + 0.0833333333333333 \\sqrt{2} \\lambda \\sin{\\left(q_{3} + q_{5} \\right)} \\sin{\\left(q_{4} + q_{6} \\right)} + 0.166666666666667 \\lambda \\sin{\\left(q_{5} + \\frac{\\pi}{4} \\right)} \\cos{\\left(q_{3} \\right)} \\cos{\\left(q_{4} \\right)} \\cos{\\left(q_{6} \\right)} + 0.166666666666667 \\lambda \\sin{\\left(q_{6} + \\frac{\\pi}{4} \\right)} \\cos{\\left(q_{5} \\right)} \\cos{\\left(q_{3} - q_{4} \\right)} + 0.166666666666667 \\lambda \\sin{\\left(- q_{3} + q_{4} + q_{6} \\right)} + 0.166666666666667 \\lambda \\cos{\\left(- q_{3} + q_{4} + q_{6} \\right)}\\\\0.0833333333333333 \\sqrt{2} \\lambda \\left(\\sin{\\left(q_{3} - q_{4} + q_{5} - q_{6} \\right)} - \\cos{\\left(q_{3} - q_{4} + q_{5} - q_{6} \\right)}\\right) - 0.0833333333333333 \\sqrt{2} \\lambda \\left(\\sin{\\left(q_{3} - q_{4} + q_{5} - q_{6} \\right)} + \\cos{\\left(q_{3} - q_{4} + q_{5} - q_{6} \\right)}\\right)\\\\\\lambda \\left(0.166666666666667 \\left(\\sin{\\left(q_{5} \\right)} - \\sin{\\left(q_{3} - q_{4} + q_{5} \\right)}\\right) \\sin{\\left(q_{3} - q_{4} + q_{5} - q_{6} \\right)} + 0.166666666666667 \\left(\\cos{\\left(q_{5} \\right)} - \\cos{\\left(q_{3} - q_{4} + q_{5} \\right)}\\right) \\cos{\\left(q_{3} - q_{4} + q_{5} - q_{6} \\right)} + 0.0833333333333333 \\sqrt{2} \\sin{\\left(q_{3} - q_{4} + q_{5} - q_{6} \\right)} + 0.0833333333333333 \\sqrt{2} \\cos{\\left(q_{3} - q_{4} + q_{5} - q_{6} \\right)}\\right) + \\lambda \\left(0.166666666666667 \\left(\\sin{\\left(q_{5} \\right)} - \\sin{\\left(q_{3} - q_{4} + q_{5} \\right)}\\right) \\cos{\\left(q_{3} - q_{4} + q_{5} - q_{6} \\right)} - 0.166666666666667 \\left(\\cos{\\left(q_{5} \\right)} - \\cos{\\left(q_{3} - q_{4} + q_{5} \\right)}\\right) \\sin{\\left(q_{3} - q_{4} + q_{5} - q_{6} \\right)} - 0.0833333333333333 \\sqrt{2} \\sin{\\left(q_{3} - q_{4} + q_{5} - q_{6} \\right)} + 0.0833333333333333 \\sqrt{2} \\cos{\\left(q_{3} - q_{4} + q_{5} - q_{6} \\right)}\\right)\\\\0\\end{matrix}\\right]$"
      ],
      "text/plain": [
       "Matrix([\n",
       "[                                                                                                                                                                                                                                                                                                                                                                                                                                                                                                                                                                                                                                                                                                                                                                                                                                                                                                                                                                                                                                                                                                                            0],\n",
       "[                                                                                                                                                                                                                                                                                                                                                                                                                                                                                                                                                                                                                                                                                                                                                                                                                                                                                                                                                                                                                                                                                                                            0],\n",
       "[-0.0833333333333333*sqrt(2)*\\lambda*sin(q_5)*sin(-q_3 + q_4 + q_6) - 0.166666666666667*\\lambda*sin(q_5)*cos(q_3 - q_4 + q_5 - q_6) + 0.0833333333333333*sqrt(2)*\\lambda*sin(q_6)*cos(q_3 - q_4 + q_5) - 0.166666666666667*\\lambda*sin(q_3 - q_4)*sin(q_6 + pi/4)*cos(q_5) - 0.166666666666667*\\lambda*sin(q_5 + pi/4)*cos(q_6)*cos(q_3 - q_4) + 0.166666666666667*\\lambda*sin(q_3 - q_4 + q_5 - q_6)*cos(q_5) + 0.0833333333333333*sqrt(2)*\\lambda*sin(q_3 - q_4 + q_5 - q_6) - 0.166666666666667*\\lambda*cos(-q_3 + q_4 + q_6) - 0.0833333333333333*sqrt(2)*\\lambda*cos(q_3 - q_4 + q_5 - q_6) - 1.0*qd_1^+*sin(q_5)*sin(q_3 + q_5) + 1.0*qd_1^+*cos(q_3) - 1.0*qd_1^+*cos(q_5)*cos(q_3 + q_5) + 1.0*qd_1^-*sin(q_5)*sin(q_3 + q_5) - 1.0*qd_1^-*cos(q_3) + 1.0*qd_1^-*cos(q_5)*cos(q_3 + q_5) + 1.0*qd_2^+*sin(q_3) + 1.0*qd_2^+*sin(q_5)*cos(q_3 + q_5) - 1.0*qd_2^+*sin(q_3 + q_5)*cos(q_5) - 1.0*qd_2^-*sin(q_3) - 1.0*qd_2^-*sin(q_5)*cos(q_3 + q_5) + 1.0*qd_2^-*sin(q_3 + q_5)*cos(q_5) - 1.0*qd_3^+*sin(q_5)**2 - 1.0*qd_3^+*cos(q_5)**2 + 1.0*qd_3^+ + 1.0*qd_3^-*sin(q_5)**2 + 1.0*qd_3^-*cos(q_5)**2 - 1.0*qd_3^-],\n",
       "[                                                                                                                                                                                                                                -0.0833333333333333*sqrt(2)*\\lambda*sin(q_3)*sin(q_5)*cos(q_4)*cos(q_6) + 0.0833333333333333*sqrt(2)*\\lambda*sin(q_3)*cos(q_4)*cos(q_5 - q_6) - 0.0833333333333333*sqrt(2)*\\lambda*sin(q_4)*sin(q_6)*sin(q_3 + q_5) - 0.166666666666667*\\lambda*sin(q_4)*sin(q_6 + pi/4)*cos(q_3 + q_5) - 0.0833333333333333*sqrt(2)*\\lambda*sin(q_5)*cos(-q_3 + q_4 + q_6) + 0.0833333333333333*sqrt(2)*\\lambda*sin(q_6)*sin(q_3 - q_4 + q_5) - 0.0833333333333333*sqrt(2)*\\lambda*sin(q_6)*cos(q_3)*cos(q_4)*cos(q_5) - 0.166666666666667*\\lambda*sin(q_3 - q_4)*sin(q_5 + pi/4)*cos(q_6) + 0.0833333333333333*sqrt(2)*\\lambda*sin(q_3 + q_5)*sin(q_4 + q_6) + 0.166666666666667*\\lambda*sin(q_5 + pi/4)*cos(q_3)*cos(q_4)*cos(q_6) + 0.166666666666667*\\lambda*sin(q_6 + pi/4)*cos(q_5)*cos(q_3 - q_4) + 0.166666666666667*\\lambda*sin(-q_3 + q_4 + q_6) + 0.166666666666667*\\lambda*cos(-q_3 + q_4 + q_6)],\n",
       "[                                                                                                                                                                                                                                                                                                                                                                                                                                                                                                                                                                                                                                                                                                                                                                                                                                                                                                                                  0.0833333333333333*sqrt(2)*\\lambda*(sin(q_3 - q_4 + q_5 - q_6) - cos(q_3 - q_4 + q_5 - q_6)) - 0.0833333333333333*sqrt(2)*\\lambda*(sin(q_3 - q_4 + q_5 - q_6) + cos(q_3 - q_4 + q_5 - q_6))],\n",
       "[                                                                                                                                                                                                                                                                                                                                                                                                                                                                                                                                        \\lambda*(0.166666666666667*(sin(q_5) - sin(q_3 - q_4 + q_5))*sin(q_3 - q_4 + q_5 - q_6) + 0.166666666666667*(cos(q_5) - cos(q_3 - q_4 + q_5))*cos(q_3 - q_4 + q_5 - q_6) + 0.0833333333333333*sqrt(2)*sin(q_3 - q_4 + q_5 - q_6) + 0.0833333333333333*sqrt(2)*cos(q_3 - q_4 + q_5 - q_6)) + \\lambda*(0.166666666666667*(sin(q_5) - sin(q_3 - q_4 + q_5))*cos(q_3 - q_4 + q_5 - q_6) - 0.166666666666667*(cos(q_5) - cos(q_3 - q_4 + q_5))*sin(q_3 - q_4 + q_5 - q_6) - 0.0833333333333333*sqrt(2)*sin(q_3 - q_4 + q_5 - q_6) + 0.0833333333333333*sqrt(2)*cos(q_3 - q_4 + q_5 - q_6))],\n",
       "[                                                                                                                                                                                                                                                                                                                                                                                                                                                                                                                                                                                                                                                                                                                                                                                                                                                                                                                                                                                                                                                                                                                            0]])"
      ]
     },
     "metadata": {},
     "output_type": "display_data"
    },
    {
     "name": "stdout",
     "output_type": "stream",
     "text": [
      "\n"
     ]
    },
    {
     "data": {
      "text/latex": [
       "$\\displaystyle \\left[\\begin{matrix}0\\\\0\\\\0\\\\0\\\\0\\\\0\\\\0\\end{matrix}\\right]$"
      ],
      "text/plain": [
       "Matrix([\n",
       "[0],\n",
       "[0],\n",
       "[0],\n",
       "[0],\n",
       "[0],\n",
       "[0],\n",
       "[0]])"
      ]
     },
     "metadata": {},
     "output_type": "display_data"
    },
    {
     "name": "stdout",
     "output_type": "stream",
     "text": [
      "\n"
     ]
    },
    {
     "data": {
      "text/latex": [
       "$\\displaystyle \\left[\\begin{matrix}0\\\\0\\\\- 0.0833333333333333 \\sqrt{2} \\lambda \\sin{\\left(q_{5} \\right)} \\cos{\\left(- q_{3} + q_{4} + q_{6} \\right)} + 0.166666666666667 \\lambda \\sin{\\left(q_{5} \\right)} \\cos{\\left(q_{3} - q_{4} + q_{5} - q_{6} \\right)} + 0.0833333333333333 \\sqrt{2} \\lambda \\sin{\\left(q_{6} \\right)} \\sin{\\left(q_{3} - q_{4} + q_{5} \\right)} - 0.166666666666667 \\lambda \\sin{\\left(q_{3} - q_{4} \\right)} \\sin{\\left(q_{5} + \\frac{\\pi}{4} \\right)} \\cos{\\left(q_{6} \\right)} + 0.166666666666667 \\lambda \\sin{\\left(q_{6} + \\frac{\\pi}{4} \\right)} \\cos{\\left(q_{5} \\right)} \\cos{\\left(q_{3} - q_{4} \\right)} - 0.166666666666667 \\lambda \\sin{\\left(q_{3} - q_{4} + q_{5} - q_{6} \\right)} \\cos{\\left(q_{5} \\right)} - 0.0833333333333333 \\sqrt{2} \\lambda \\sin{\\left(q_{3} - q_{4} + q_{5} - q_{6} \\right)} + 0.166666666666667 \\lambda \\cos{\\left(- q_{3} + q_{4} + q_{6} \\right)} + 0.0833333333333333 \\sqrt{2} \\lambda \\cos{\\left(q_{3} - q_{4} + q_{5} - q_{6} \\right)} + 1.0 qd^{+}_{1} \\sin{\\left(q_{5} \\right)} \\sin{\\left(q_{3} + q_{5} \\right)} - 1.0 qd^{+}_{1} \\cos{\\left(q_{3} \\right)} + 1.0 qd^{+}_{1} \\cos{\\left(q_{5} \\right)} \\cos{\\left(q_{3} + q_{5} \\right)} - 1.0 qd^{-}_{1} \\sin{\\left(q_{5} \\right)} \\sin{\\left(q_{3} + q_{5} \\right)} + 1.0 qd^{-}_{1} \\cos{\\left(q_{3} \\right)} - 1.0 qd^{-}_{1} \\cos{\\left(q_{5} \\right)} \\cos{\\left(q_{3} + q_{5} \\right)} - 1.0 qd^{+}_{2} \\sin{\\left(q_{3} \\right)} - 1.0 qd^{+}_{2} \\sin{\\left(q_{5} \\right)} \\cos{\\left(q_{3} + q_{5} \\right)} + 1.0 qd^{+}_{2} \\sin{\\left(q_{3} + q_{5} \\right)} \\cos{\\left(q_{5} \\right)} + 1.0 qd^{-}_{2} \\sin{\\left(q_{3} \\right)} + 1.0 qd^{-}_{2} \\sin{\\left(q_{5} \\right)} \\cos{\\left(q_{3} + q_{5} \\right)} - 1.0 qd^{-}_{2} \\sin{\\left(q_{3} + q_{5} \\right)} \\cos{\\left(q_{5} \\right)} + 1.0 qd^{+}_{3} \\sin^{2}{\\left(q_{5} \\right)} + 1.0 qd^{+}_{3} \\cos^{2}{\\left(q_{5} \\right)} - 1.0 qd^{+}_{3} - 1.0 qd^{-}_{3} \\sin^{2}{\\left(q_{5} \\right)} - 1.0 qd^{-}_{3} \\cos^{2}{\\left(q_{5} \\right)} + 1.0 qd^{-}_{3}\\\\- 0.166666666666667 \\lambda \\sin{\\left(q_{5} \\right)} \\sin{\\left(q_{3} - q_{4} + q_{5} - q_{6} \\right)} + 0.0833333333333333 \\sqrt{2} \\lambda \\sin{\\left(q_{5} \\right)} \\cos{\\left(- q_{3} + q_{4} + q_{6} \\right)} - 0.0833333333333333 \\sqrt{2} \\lambda \\sin{\\left(q_{6} \\right)} \\sin{\\left(q_{3} - q_{4} + q_{5} \\right)} + 0.166666666666667 \\lambda \\sin{\\left(q_{3} - q_{4} \\right)} \\sin{\\left(q_{5} + \\frac{\\pi}{4} \\right)} \\cos{\\left(q_{6} \\right)} - 0.166666666666667 \\lambda \\sin{\\left(q_{6} + \\frac{\\pi}{4} \\right)} \\cos{\\left(q_{5} \\right)} \\cos{\\left(q_{3} - q_{4} \\right)} - 0.166666666666667 \\lambda \\sin{\\left(- q_{3} + q_{4} + q_{6} \\right)} + 0.0833333333333333 \\sqrt{2} \\lambda \\sin{\\left(q_{3} - q_{4} + q_{5} - q_{6} \\right)} - 0.166666666666667 \\lambda \\cos{\\left(q_{5} \\right)} \\cos{\\left(q_{3} - q_{4} + q_{5} - q_{6} \\right)} - 0.0833333333333333 \\sqrt{2} \\lambda \\cos{\\left(q_{3} - q_{4} + q_{5} - q_{6} \\right)} - 1.0 qd^{+}_{1} \\sin{\\left(q_{6} \\right)} \\sin{\\left(q_{4} + q_{6} \\right)} + 1.0 qd^{+}_{1} \\cos{\\left(q_{4} \\right)} - 1.0 qd^{+}_{1} \\cos{\\left(q_{6} \\right)} \\cos{\\left(q_{4} + q_{6} \\right)} + 1.0 qd^{-}_{1} \\sin{\\left(q_{6} \\right)} \\sin{\\left(q_{4} + q_{6} \\right)} - 1.0 qd^{-}_{1} \\cos{\\left(q_{4} \\right)} + 1.0 qd^{-}_{1} \\cos{\\left(q_{6} \\right)} \\cos{\\left(q_{4} + q_{6} \\right)} + 1.0 qd^{+}_{2} \\sin{\\left(q_{4} \\right)} + 1.0 qd^{+}_{2} \\sin{\\left(q_{6} \\right)} \\cos{\\left(q_{4} + q_{6} \\right)} - 1.0 qd^{+}_{2} \\sin{\\left(q_{4} + q_{6} \\right)} \\cos{\\left(q_{6} \\right)} - 1.0 qd^{-}_{2} \\sin{\\left(q_{4} \\right)} - 1.0 qd^{-}_{2} \\sin{\\left(q_{6} \\right)} \\cos{\\left(q_{4} + q_{6} \\right)} + 1.0 qd^{-}_{2} \\sin{\\left(q_{4} + q_{6} \\right)} \\cos{\\left(q_{6} \\right)} - 1.0 qd^{+}_{4} \\sin^{2}{\\left(q_{6} \\right)} - 1.0 qd^{+}_{4} \\cos^{2}{\\left(q_{6} \\right)} + 1.0 qd^{+}_{4} + 1.0 qd^{-}_{4} \\sin^{2}{\\left(q_{6} \\right)} + 1.0 qd^{-}_{4} \\cos^{2}{\\left(q_{6} \\right)} - 1.0 qd^{-}_{4}\\\\- 0.166666666666667 \\sqrt{2} \\lambda \\left(\\sin{\\left(q_{3} - q_{4} + q_{5} - q_{6} \\right)} - \\cos{\\left(q_{3} - q_{4} + q_{5} - q_{6} \\right)}\\right)\\\\- \\lambda \\left(0.166666666666667 \\left(\\sin{\\left(q_{5} \\right)} - \\sin{\\left(q_{3} - q_{4} + q_{5} \\right)}\\right) \\sin{\\left(q_{3} - q_{4} + q_{5} - q_{6} \\right)} + 0.166666666666667 \\left(\\cos{\\left(q_{5} \\right)} - \\cos{\\left(q_{3} - q_{4} + q_{5} \\right)}\\right) \\cos{\\left(q_{3} - q_{4} + q_{5} - q_{6} \\right)} - 0.0833333333333333 \\sqrt{2} \\sin{\\left(q_{3} - q_{4} + q_{5} - q_{6} \\right)} + 0.0833333333333333 \\sqrt{2} \\cos{\\left(q_{3} - q_{4} + q_{5} - q_{6} \\right)}\\right) - \\lambda \\left(0.166666666666667 \\left(\\sin{\\left(q_{5} \\right)} - \\sin{\\left(q_{3} - q_{4} + q_{5} \\right)}\\right) \\cos{\\left(q_{3} - q_{4} + q_{5} - q_{6} \\right)} - 0.166666666666667 \\left(\\cos{\\left(q_{5} \\right)} - \\cos{\\left(q_{3} - q_{4} + q_{5} \\right)}\\right) \\sin{\\left(q_{3} - q_{4} + q_{5} - q_{6} \\right)} - 0.0833333333333333 \\sqrt{2} \\sin{\\left(q_{3} - q_{4} + q_{5} - q_{6} \\right)} + 0.0833333333333333 \\sqrt{2} \\cos{\\left(q_{3} - q_{4} + q_{5} - q_{6} \\right)}\\right)\\\\0\\end{matrix}\\right]$"
      ],
      "text/plain": [
       "Matrix([\n",
       "[                                                                                                                                                                                                                                                                                                                                                                                                                                                                                                                                                                                                                                                                                                                                                                                                                                                                                                                                                                                                                                                                                                                            0],\n",
       "[                                                                                                                                                                                                                                                                                                                                                                                                                                                                                                                                                                                                                                                                                                                                                                                                                                                                                                                                                                                                                                                                                                                            0],\n",
       "[-0.0833333333333333*sqrt(2)*\\lambda*sin(q_5)*cos(-q_3 + q_4 + q_6) + 0.166666666666667*\\lambda*sin(q_5)*cos(q_3 - q_4 + q_5 - q_6) + 0.0833333333333333*sqrt(2)*\\lambda*sin(q_6)*sin(q_3 - q_4 + q_5) - 0.166666666666667*\\lambda*sin(q_3 - q_4)*sin(q_5 + pi/4)*cos(q_6) + 0.166666666666667*\\lambda*sin(q_6 + pi/4)*cos(q_5)*cos(q_3 - q_4) - 0.166666666666667*\\lambda*sin(q_3 - q_4 + q_5 - q_6)*cos(q_5) - 0.0833333333333333*sqrt(2)*\\lambda*sin(q_3 - q_4 + q_5 - q_6) + 0.166666666666667*\\lambda*cos(-q_3 + q_4 + q_6) + 0.0833333333333333*sqrt(2)*\\lambda*cos(q_3 - q_4 + q_5 - q_6) + 1.0*qd_1^+*sin(q_5)*sin(q_3 + q_5) - 1.0*qd_1^+*cos(q_3) + 1.0*qd_1^+*cos(q_5)*cos(q_3 + q_5) - 1.0*qd_1^-*sin(q_5)*sin(q_3 + q_5) + 1.0*qd_1^-*cos(q_3) - 1.0*qd_1^-*cos(q_5)*cos(q_3 + q_5) - 1.0*qd_2^+*sin(q_3) - 1.0*qd_2^+*sin(q_5)*cos(q_3 + q_5) + 1.0*qd_2^+*sin(q_3 + q_5)*cos(q_5) + 1.0*qd_2^-*sin(q_3) + 1.0*qd_2^-*sin(q_5)*cos(q_3 + q_5) - 1.0*qd_2^-*sin(q_3 + q_5)*cos(q_5) + 1.0*qd_3^+*sin(q_5)**2 + 1.0*qd_3^+*cos(q_5)**2 - 1.0*qd_3^+ - 1.0*qd_3^-*sin(q_5)**2 - 1.0*qd_3^-*cos(q_5)**2 + 1.0*qd_3^-],\n",
       "[-0.166666666666667*\\lambda*sin(q_5)*sin(q_3 - q_4 + q_5 - q_6) + 0.0833333333333333*sqrt(2)*\\lambda*sin(q_5)*cos(-q_3 + q_4 + q_6) - 0.0833333333333333*sqrt(2)*\\lambda*sin(q_6)*sin(q_3 - q_4 + q_5) + 0.166666666666667*\\lambda*sin(q_3 - q_4)*sin(q_5 + pi/4)*cos(q_6) - 0.166666666666667*\\lambda*sin(q_6 + pi/4)*cos(q_5)*cos(q_3 - q_4) - 0.166666666666667*\\lambda*sin(-q_3 + q_4 + q_6) + 0.0833333333333333*sqrt(2)*\\lambda*sin(q_3 - q_4 + q_5 - q_6) - 0.166666666666667*\\lambda*cos(q_5)*cos(q_3 - q_4 + q_5 - q_6) - 0.0833333333333333*sqrt(2)*\\lambda*cos(q_3 - q_4 + q_5 - q_6) - 1.0*qd_1^+*sin(q_6)*sin(q_4 + q_6) + 1.0*qd_1^+*cos(q_4) - 1.0*qd_1^+*cos(q_6)*cos(q_4 + q_6) + 1.0*qd_1^-*sin(q_6)*sin(q_4 + q_6) - 1.0*qd_1^-*cos(q_4) + 1.0*qd_1^-*cos(q_6)*cos(q_4 + q_6) + 1.0*qd_2^+*sin(q_4) + 1.0*qd_2^+*sin(q_6)*cos(q_4 + q_6) - 1.0*qd_2^+*sin(q_4 + q_6)*cos(q_6) - 1.0*qd_2^-*sin(q_4) - 1.0*qd_2^-*sin(q_6)*cos(q_4 + q_6) + 1.0*qd_2^-*sin(q_4 + q_6)*cos(q_6) - 1.0*qd_4^+*sin(q_6)**2 - 1.0*qd_4^+*cos(q_6)**2 + 1.0*qd_4^+ + 1.0*qd_4^-*sin(q_6)**2 + 1.0*qd_4^-*cos(q_6)**2 - 1.0*qd_4^-],\n",
       "[                                                                                                                                                                                                                                                                                                                                                                                                                                                                                                                                                                                                                                                                                                                                                                                                                                                                                                                                                                                                                                 -0.166666666666667*sqrt(2)*\\lambda*(sin(q_3 - q_4 + q_5 - q_6) - cos(q_3 - q_4 + q_5 - q_6))],\n",
       "[                                                                                                                                                                                                                                                                                                                                                                                                                                                                                                                                       -\\lambda*(0.166666666666667*(sin(q_5) - sin(q_3 - q_4 + q_5))*sin(q_3 - q_4 + q_5 - q_6) + 0.166666666666667*(cos(q_5) - cos(q_3 - q_4 + q_5))*cos(q_3 - q_4 + q_5 - q_6) - 0.0833333333333333*sqrt(2)*sin(q_3 - q_4 + q_5 - q_6) + 0.0833333333333333*sqrt(2)*cos(q_3 - q_4 + q_5 - q_6)) - \\lambda*(0.166666666666667*(sin(q_5) - sin(q_3 - q_4 + q_5))*cos(q_3 - q_4 + q_5 - q_6) - 0.166666666666667*(cos(q_5) - cos(q_3 - q_4 + q_5))*sin(q_3 - q_4 + q_5 - q_6) - 0.0833333333333333*sqrt(2)*sin(q_3 - q_4 + q_5 - q_6) + 0.0833333333333333*sqrt(2)*cos(q_3 - q_4 + q_5 - q_6))],\n",
       "[                                                                                                                                                                                                                                                                                                                                                                                                                                                                                                                                                                                                                                                                                                                                                                                                                                                                                                                                                                                                                                                                                                                            0]])"
      ]
     },
     "metadata": {},
     "output_type": "display_data"
    },
    {
     "name": "stdout",
     "output_type": "stream",
     "text": [
      "\n"
     ]
    },
    {
     "data": {
      "text/latex": [
       "$\\displaystyle \\left[\\begin{matrix}0\\\\0\\\\0\\\\0\\\\0\\\\0\\\\0\\end{matrix}\\right]$"
      ],
      "text/plain": [
       "Matrix([\n",
       "[0],\n",
       "[0],\n",
       "[0],\n",
       "[0],\n",
       "[0],\n",
       "[0],\n",
       "[0]])"
      ]
     },
     "metadata": {},
     "output_type": "display_data"
    },
    {
     "name": "stdout",
     "output_type": "stream",
     "text": [
      "\n"
     ]
    },
    {
     "data": {
      "text/latex": [
       "$\\displaystyle \\left[\\begin{matrix}0\\\\0\\\\0.0833333333333333 \\sqrt{2} \\lambda \\sin{\\left(q_{5} \\right)} \\sin{\\left(- q_{3} + q_{4} + q_{6} \\right)} + 0.0833333333333333 \\sqrt{2} \\lambda \\sin{\\left(q_{5} \\right)} \\cos{\\left(- q_{3} + q_{4} + q_{6} \\right)} - 0.0833333333333333 \\sqrt{2} \\lambda \\sin{\\left(q_{6} \\right)} \\sin{\\left(q_{3} - q_{4} + q_{5} \\right)} - 0.0833333333333333 \\sqrt{2} \\lambda \\sin{\\left(q_{6} \\right)} \\cos{\\left(q_{3} - q_{4} + q_{5} \\right)} + 0.166666666666667 \\lambda \\sin{\\left(q_{3} - q_{4} \\right)} \\sin{\\left(q_{5} + \\frac{\\pi}{4} \\right)} \\cos{\\left(q_{6} \\right)} + 0.166666666666667 \\lambda \\sin{\\left(q_{3} - q_{4} \\right)} \\sin{\\left(q_{6} + \\frac{\\pi}{4} \\right)} \\cos{\\left(q_{5} \\right)} + 0.166666666666667 \\lambda \\sin{\\left(q_{5} + \\frac{\\pi}{4} \\right)} \\cos{\\left(q_{6} \\right)} \\cos{\\left(q_{3} - q_{4} \\right)} - 0.166666666666667 \\lambda \\sin{\\left(q_{6} + \\frac{\\pi}{4} \\right)} \\cos{\\left(q_{5} \\right)} \\cos{\\left(q_{3} - q_{4} \\right)} - 0.166666666666667 \\lambda \\sin{\\left(- q_{3} + q_{4} + q_{6} \\right)} - 0.166666666666667 \\lambda \\cos{\\left(- q_{3} + q_{4} + q_{6} \\right)}\\\\0.0833333333333333 \\sqrt{2} \\lambda \\sin{\\left(q_{3} \\right)} \\sin{\\left(q_{5} \\right)} \\cos{\\left(q_{4} \\right)} \\cos{\\left(q_{6} \\right)} - 0.0833333333333333 \\sqrt{2} \\lambda \\sin{\\left(q_{3} \\right)} \\cos{\\left(q_{4} \\right)} \\cos{\\left(q_{5} - q_{6} \\right)} + 0.0833333333333333 \\sqrt{2} \\lambda \\sin{\\left(q_{4} \\right)} \\sin{\\left(q_{6} \\right)} \\sin{\\left(q_{3} + q_{5} \\right)} + 0.166666666666667 \\lambda \\sin{\\left(q_{4} \\right)} \\sin{\\left(q_{6} + \\frac{\\pi}{4} \\right)} \\cos{\\left(q_{3} + q_{5} \\right)} + 0.166666666666667 \\lambda \\sin{\\left(q_{5} \\right)} \\sin{\\left(q_{3} - q_{4} + q_{5} - q_{6} \\right)} + 0.0833333333333333 \\sqrt{2} \\lambda \\sin{\\left(q_{6} \\right)} \\cos{\\left(q_{3} \\right)} \\cos{\\left(q_{4} \\right)} \\cos{\\left(q_{5} \\right)} - 0.0833333333333333 \\sqrt{2} \\lambda \\sin{\\left(q_{3} + q_{5} \\right)} \\sin{\\left(q_{4} + q_{6} \\right)} - 0.166666666666667 \\lambda \\sin{\\left(q_{5} + \\frac{\\pi}{4} \\right)} \\cos{\\left(q_{3} \\right)} \\cos{\\left(q_{4} \\right)} \\cos{\\left(q_{6} \\right)} + 0.166666666666667 \\lambda \\sin{\\left(- q_{3} + q_{4} + q_{6} \\right)} - 0.0833333333333333 \\sqrt{2} \\lambda \\sin{\\left(q_{3} - q_{4} + q_{5} - q_{6} \\right)} + 0.166666666666667 \\lambda \\cos{\\left(q_{5} \\right)} \\cos{\\left(q_{3} - q_{4} + q_{5} - q_{6} \\right)} + 0.0833333333333333 \\sqrt{2} \\lambda \\cos{\\left(q_{3} - q_{4} + q_{5} - q_{6} \\right)} + 1.0 qd^{+}_{1} \\sin{\\left(q_{6} \\right)} \\sin{\\left(q_{4} + q_{6} \\right)} - 1.0 qd^{+}_{1} \\cos{\\left(q_{4} \\right)} + 1.0 qd^{+}_{1} \\cos{\\left(q_{6} \\right)} \\cos{\\left(q_{4} + q_{6} \\right)} - 1.0 qd^{-}_{1} \\sin{\\left(q_{6} \\right)} \\sin{\\left(q_{4} + q_{6} \\right)} + 1.0 qd^{-}_{1} \\cos{\\left(q_{4} \\right)} - 1.0 qd^{-}_{1} \\cos{\\left(q_{6} \\right)} \\cos{\\left(q_{4} + q_{6} \\right)} - 1.0 qd^{+}_{2} \\sin{\\left(q_{4} \\right)} - 1.0 qd^{+}_{2} \\sin{\\left(q_{6} \\right)} \\cos{\\left(q_{4} + q_{6} \\right)} + 1.0 qd^{+}_{2} \\sin{\\left(q_{4} + q_{6} \\right)} \\cos{\\left(q_{6} \\right)} + 1.0 qd^{-}_{2} \\sin{\\left(q_{4} \\right)} + 1.0 qd^{-}_{2} \\sin{\\left(q_{6} \\right)} \\cos{\\left(q_{4} + q_{6} \\right)} - 1.0 qd^{-}_{2} \\sin{\\left(q_{4} + q_{6} \\right)} \\cos{\\left(q_{6} \\right)} + 1.0 qd^{+}_{4} \\sin^{2}{\\left(q_{6} \\right)} + 1.0 qd^{+}_{4} \\cos^{2}{\\left(q_{6} \\right)} - 1.0 qd^{+}_{4} - 1.0 qd^{-}_{4} \\sin^{2}{\\left(q_{6} \\right)} - 1.0 qd^{-}_{4} \\cos^{2}{\\left(q_{6} \\right)} + 1.0 qd^{-}_{4}\\\\0.0833333333333333 \\sqrt{2} \\lambda \\left(\\sin{\\left(q_{3} - q_{4} + q_{5} - q_{6} \\right)} - \\cos{\\left(q_{3} - q_{4} + q_{5} - q_{6} \\right)}\\right) + 0.0833333333333333 \\sqrt{2} \\lambda \\left(\\sin{\\left(q_{3} - q_{4} + q_{5} - q_{6} \\right)} + \\cos{\\left(q_{3} - q_{4} + q_{5} - q_{6} \\right)}\\right)\\\\\\lambda \\left(0.166666666666667 \\left(\\sin{\\left(q_{5} \\right)} - \\sin{\\left(q_{3} - q_{4} + q_{5} \\right)}\\right) \\sin{\\left(q_{3} - q_{4} + q_{5} - q_{6} \\right)} + 0.166666666666667 \\left(\\cos{\\left(q_{5} \\right)} - \\cos{\\left(q_{3} - q_{4} + q_{5} \\right)}\\right) \\cos{\\left(q_{3} - q_{4} + q_{5} - q_{6} \\right)} - 0.0833333333333333 \\sqrt{2} \\sin{\\left(q_{3} - q_{4} + q_{5} - q_{6} \\right)} + 0.0833333333333333 \\sqrt{2} \\cos{\\left(q_{3} - q_{4} + q_{5} - q_{6} \\right)}\\right) - \\lambda \\left(- 0.166666666666667 \\left(\\sin{\\left(q_{5} \\right)} - \\sin{\\left(q_{3} - q_{4} + q_{5} \\right)}\\right) \\cos{\\left(q_{3} - q_{4} + q_{5} - q_{6} \\right)} + 0.166666666666667 \\left(\\cos{\\left(q_{5} \\right)} - \\cos{\\left(q_{3} - q_{4} + q_{5} \\right)}\\right) \\sin{\\left(q_{3} - q_{4} + q_{5} - q_{6} \\right)} + 0.0833333333333333 \\sqrt{2} \\sin{\\left(q_{3} - q_{4} + q_{5} - q_{6} \\right)} + 0.0833333333333333 \\sqrt{2} \\cos{\\left(q_{3} - q_{4} + q_{5} - q_{6} \\right)}\\right)\\\\0\\end{matrix}\\right]$"
      ],
      "text/plain": [
       "Matrix([\n",
       "[                                                                                                                                                                                                                                                                                                                                                                                                                                                                                                                                                                                                                                                                                                                                                                                                                                                                                                                                                                                                                                                                                                                                                                                                                                                                                                                                                        0],\n",
       "[                                                                                                                                                                                                                                                                                                                                                                                                                                                                                                                                                                                                                                                                                                                                                                                                                                                                                                                                                                                                                                                                                                                                                                                                                                                                                                                                                        0],\n",
       "[                                                                                                                                                                                                                                                                                                                                                                                                                                                                                                                                                                                                                                                                                          0.0833333333333333*sqrt(2)*\\lambda*sin(q_5)*sin(-q_3 + q_4 + q_6) + 0.0833333333333333*sqrt(2)*\\lambda*sin(q_5)*cos(-q_3 + q_4 + q_6) - 0.0833333333333333*sqrt(2)*\\lambda*sin(q_6)*sin(q_3 - q_4 + q_5) - 0.0833333333333333*sqrt(2)*\\lambda*sin(q_6)*cos(q_3 - q_4 + q_5) + 0.166666666666667*\\lambda*sin(q_3 - q_4)*sin(q_5 + pi/4)*cos(q_6) + 0.166666666666667*\\lambda*sin(q_3 - q_4)*sin(q_6 + pi/4)*cos(q_5) + 0.166666666666667*\\lambda*sin(q_5 + pi/4)*cos(q_6)*cos(q_3 - q_4) - 0.166666666666667*\\lambda*sin(q_6 + pi/4)*cos(q_5)*cos(q_3 - q_4) - 0.166666666666667*\\lambda*sin(-q_3 + q_4 + q_6) - 0.166666666666667*\\lambda*cos(-q_3 + q_4 + q_6)],\n",
       "[0.0833333333333333*sqrt(2)*\\lambda*sin(q_3)*sin(q_5)*cos(q_4)*cos(q_6) - 0.0833333333333333*sqrt(2)*\\lambda*sin(q_3)*cos(q_4)*cos(q_5 - q_6) + 0.0833333333333333*sqrt(2)*\\lambda*sin(q_4)*sin(q_6)*sin(q_3 + q_5) + 0.166666666666667*\\lambda*sin(q_4)*sin(q_6 + pi/4)*cos(q_3 + q_5) + 0.166666666666667*\\lambda*sin(q_5)*sin(q_3 - q_4 + q_5 - q_6) + 0.0833333333333333*sqrt(2)*\\lambda*sin(q_6)*cos(q_3)*cos(q_4)*cos(q_5) - 0.0833333333333333*sqrt(2)*\\lambda*sin(q_3 + q_5)*sin(q_4 + q_6) - 0.166666666666667*\\lambda*sin(q_5 + pi/4)*cos(q_3)*cos(q_4)*cos(q_6) + 0.166666666666667*\\lambda*sin(-q_3 + q_4 + q_6) - 0.0833333333333333*sqrt(2)*\\lambda*sin(q_3 - q_4 + q_5 - q_6) + 0.166666666666667*\\lambda*cos(q_5)*cos(q_3 - q_4 + q_5 - q_6) + 0.0833333333333333*sqrt(2)*\\lambda*cos(q_3 - q_4 + q_5 - q_6) + 1.0*qd_1^+*sin(q_6)*sin(q_4 + q_6) - 1.0*qd_1^+*cos(q_4) + 1.0*qd_1^+*cos(q_6)*cos(q_4 + q_6) - 1.0*qd_1^-*sin(q_6)*sin(q_4 + q_6) + 1.0*qd_1^-*cos(q_4) - 1.0*qd_1^-*cos(q_6)*cos(q_4 + q_6) - 1.0*qd_2^+*sin(q_4) - 1.0*qd_2^+*sin(q_6)*cos(q_4 + q_6) + 1.0*qd_2^+*sin(q_4 + q_6)*cos(q_6) + 1.0*qd_2^-*sin(q_4) + 1.0*qd_2^-*sin(q_6)*cos(q_4 + q_6) - 1.0*qd_2^-*sin(q_4 + q_6)*cos(q_6) + 1.0*qd_4^+*sin(q_6)**2 + 1.0*qd_4^+*cos(q_6)**2 - 1.0*qd_4^+ - 1.0*qd_4^-*sin(q_6)**2 - 1.0*qd_4^-*cos(q_6)**2 + 1.0*qd_4^-],\n",
       "[                                                                                                                                                                                                                                                                                                                                                                                                                                                                                                                                                                                                                                                                                                                                                                                                                                                                                                                                                                                                                                                                                                                                                              0.0833333333333333*sqrt(2)*\\lambda*(sin(q_3 - q_4 + q_5 - q_6) - cos(q_3 - q_4 + q_5 - q_6)) + 0.0833333333333333*sqrt(2)*\\lambda*(sin(q_3 - q_4 + q_5 - q_6) + cos(q_3 - q_4 + q_5 - q_6))],\n",
       "[                                                                                                                                                                                                                                                                                                                                                                                                                                                                                                                                                                                                                                                                                                                                                                   \\lambda*(0.166666666666667*(sin(q_5) - sin(q_3 - q_4 + q_5))*sin(q_3 - q_4 + q_5 - q_6) + 0.166666666666667*(cos(q_5) - cos(q_3 - q_4 + q_5))*cos(q_3 - q_4 + q_5 - q_6) - 0.0833333333333333*sqrt(2)*sin(q_3 - q_4 + q_5 - q_6) + 0.0833333333333333*sqrt(2)*cos(q_3 - q_4 + q_5 - q_6)) - \\lambda*(-0.166666666666667*(sin(q_5) - sin(q_3 - q_4 + q_5))*cos(q_3 - q_4 + q_5 - q_6) + 0.166666666666667*(cos(q_5) - cos(q_3 - q_4 + q_5))*sin(q_3 - q_4 + q_5 - q_6) + 0.0833333333333333*sqrt(2)*sin(q_3 - q_4 + q_5 - q_6) + 0.0833333333333333*sqrt(2)*cos(q_3 - q_4 + q_5 - q_6))],\n",
       "[                                                                                                                                                                                                                                                                                                                                                                                                                                                                                                                                                                                                                                                                                                                                                                                                                                                                                                                                                                                                                                                                                                                                                                                                                                                                                                                                                        0]])"
      ]
     },
     "metadata": {},
     "output_type": "display_data"
    },
    {
     "name": "stdout",
     "output_type": "stream",
     "text": [
      "\n"
     ]
    },
    {
     "data": {
      "text/latex": [
       "$\\displaystyle \\left[\\begin{matrix}0\\\\0\\\\0\\\\0\\\\0\\\\0\\\\0\\end{matrix}\\right]$"
      ],
      "text/plain": [
       "Matrix([\n",
       "[0],\n",
       "[0],\n",
       "[0],\n",
       "[0],\n",
       "[0],\n",
       "[0],\n",
       "[0]])"
      ]
     },
     "metadata": {},
     "output_type": "display_data"
    },
    {
     "name": "stdout",
     "output_type": "stream",
     "text": [
      "\n"
     ]
    },
    {
     "data": {
      "text/latex": [
       "$\\displaystyle \\left[\\begin{matrix}0\\\\0\\\\- 0.0833333333333333 \\sqrt{2} \\lambda \\sin{\\left(q_{5} \\right)} \\sin{\\left(- q_{3} + q_{4} + q_{6} \\right)} - 0.0833333333333333 \\sqrt{2} \\lambda \\sin{\\left(q_{5} \\right)} \\cos{\\left(- q_{3} + q_{4} + q_{6} \\right)} + 0.0833333333333333 \\sqrt{2} \\lambda \\sin{\\left(q_{6} \\right)} \\sin{\\left(q_{3} - q_{4} + q_{5} \\right)} + 0.0833333333333333 \\sqrt{2} \\lambda \\sin{\\left(q_{6} \\right)} \\cos{\\left(q_{3} - q_{4} + q_{5} \\right)} - 0.166666666666667 \\lambda \\sin{\\left(q_{3} - q_{4} \\right)} \\sin{\\left(q_{5} + \\frac{\\pi}{4} \\right)} \\cos{\\left(q_{6} \\right)} - 0.166666666666667 \\lambda \\sin{\\left(q_{3} - q_{4} \\right)} \\sin{\\left(q_{6} + \\frac{\\pi}{4} \\right)} \\cos{\\left(q_{5} \\right)} - 0.166666666666667 \\lambda \\sin{\\left(q_{5} + \\frac{\\pi}{4} \\right)} \\cos{\\left(q_{6} \\right)} \\cos{\\left(q_{3} - q_{4} \\right)} + 0.166666666666667 \\lambda \\sin{\\left(q_{6} + \\frac{\\pi}{4} \\right)} \\cos{\\left(q_{5} \\right)} \\cos{\\left(q_{3} - q_{4} \\right)} + 0.166666666666667 \\lambda \\sin{\\left(- q_{3} + q_{4} + q_{6} \\right)} - 0.166666666666667 \\lambda \\cos{\\left(q_{3} - q_{4} + q_{5} \\right)}\\\\\\lambda \\left(0.166666666666667 \\sin{\\left(q_{4} \\right)} \\sin{\\left(q_{3} + q_{5} \\right)} + 0.0833333333333333 \\sqrt{2} \\sin{\\left(q_{3} - q_{4} + q_{5} - q_{6} \\right)} + 0.166666666666667 \\cos{\\left(q_{4} \\right)} \\cos{\\left(q_{3} + q_{5} \\right)} - 0.0833333333333333 \\sqrt{2} \\cos{\\left(q_{3} - q_{4} + q_{5} - q_{6} \\right)}\\right) - 0.0833333333333333 \\sqrt{2} \\lambda \\sin{\\left(q_{3} \\right)} \\sin{\\left(q_{5} \\right)} \\cos{\\left(q_{4} \\right)} \\cos{\\left(q_{6} \\right)} + 0.0833333333333333 \\sqrt{2} \\lambda \\sin{\\left(q_{3} \\right)} \\cos{\\left(q_{4} \\right)} \\cos{\\left(q_{5} - q_{6} \\right)} - 0.0833333333333333 \\sqrt{2} \\lambda \\sin{\\left(q_{4} \\right)} \\sin{\\left(q_{6} \\right)} \\sin{\\left(q_{3} + q_{5} \\right)} - 0.166666666666667 \\lambda \\sin{\\left(q_{4} \\right)} \\sin{\\left(q_{6} + \\frac{\\pi}{4} \\right)} \\cos{\\left(q_{3} + q_{5} \\right)} - 0.0833333333333333 \\sqrt{2} \\lambda \\sin{\\left(q_{6} \\right)} \\cos{\\left(q_{3} \\right)} \\cos{\\left(q_{4} \\right)} \\cos{\\left(q_{5} \\right)} + 0.0833333333333333 \\sqrt{2} \\lambda \\sin{\\left(q_{3} + q_{5} \\right)} \\sin{\\left(q_{4} + q_{6} \\right)} + 0.166666666666667 \\lambda \\sin{\\left(q_{5} + \\frac{\\pi}{4} \\right)} \\cos{\\left(q_{3} \\right)} \\cos{\\left(q_{4} \\right)} \\cos{\\left(q_{6} \\right)} - 0.166666666666667 \\lambda \\sin{\\left(- q_{3} + q_{4} + q_{6} \\right)} + 1.0 qd^{+}_{1} \\cos{\\left(q_{4} \\right)} - 1.0 qd^{-}_{1} \\cos{\\left(q_{4} \\right)} + 1.0 qd^{+}_{2} \\sin{\\left(q_{4} \\right)} - 1.0 qd^{-}_{2} \\sin{\\left(q_{4} \\right)} + 1.0 qd^{+}_{4} - 1.0 qd^{-}_{4} - \\left(qd^{+}_{1} \\sin{\\left(q_{4} + q_{6} \\right)} - qd^{+}_{2} \\cos{\\left(q_{4} + q_{6} \\right)} + qd^{+}_{4} \\sin{\\left(q_{6} \\right)}\\right) \\sin{\\left(q_{6} \\right)} - \\left(qd^{+}_{1} \\cos{\\left(q_{4} + q_{6} \\right)} + qd^{+}_{2} \\sin{\\left(q_{4} + q_{6} \\right)} + qd^{+}_{4} \\cos{\\left(q_{6} \\right)}\\right) \\cos{\\left(q_{6} \\right)} + 1.0 \\left(qd^{-}_{1} \\sin{\\left(q_{4} + q_{6} \\right)} - qd^{-}_{2} \\cos{\\left(q_{4} + q_{6} \\right)} + qd^{-}_{4} \\sin{\\left(q_{6} \\right)}\\right) \\sin{\\left(q_{6} \\right)} + 1.0 \\left(qd^{-}_{1} \\cos{\\left(q_{4} + q_{6} \\right)} + qd^{-}_{2} \\sin{\\left(q_{4} + q_{6} \\right)} + qd^{-}_{4} \\cos{\\left(q_{6} \\right)}\\right) \\cos{\\left(q_{6} \\right)}\\\\- 0.0833333333333333 \\sqrt{2} \\lambda \\left(\\sin{\\left(q_{3} - q_{4} + q_{5} - q_{6} \\right)} + \\cos{\\left(q_{3} - q_{4} + q_{5} - q_{6} \\right)}\\right) + \\lambda \\left(0.166666666666667 \\sin{\\left(q_{3} \\right)} \\sin{\\left(q_{3} + q_{5} \\right)} - 0.166666666666667 \\sin{\\left(q_{4} \\right)} \\sin{\\left(q_{3} + q_{5} \\right)} - 0.0833333333333333 \\sqrt{2} \\sin{\\left(q_{3} - q_{4} + q_{5} - q_{6} \\right)} + 0.166666666666667 \\cos{\\left(q_{3} \\right)} \\cos{\\left(q_{3} + q_{5} \\right)} - 0.166666666666667 \\cos{\\left(q_{4} \\right)} \\cos{\\left(q_{3} + q_{5} \\right)} + 0.0833333333333333 \\sqrt{2} \\cos{\\left(q_{3} - q_{4} + q_{5} - q_{6} \\right)}\\right)\\\\0.0833333333333333 \\sqrt{2} \\lambda \\left(\\sin{\\left(q_{3} - q_{4} + q_{5} - q_{6} \\right)} - \\cos{\\left(q_{3} - q_{4} + q_{5} - q_{6} \\right)}\\right) + \\lambda \\left(- 0.166666666666667 \\left(\\sin{\\left(q_{5} \\right)} - \\sin{\\left(q_{3} - q_{4} + q_{5} \\right)}\\right) \\cos{\\left(q_{3} - q_{4} + q_{5} - q_{6} \\right)} + 0.166666666666667 \\left(\\cos{\\left(q_{5} \\right)} - \\cos{\\left(q_{3} - q_{4} + q_{5} \\right)}\\right) \\sin{\\left(q_{3} - q_{4} + q_{5} - q_{6} \\right)} + 0.0833333333333333 \\sqrt{2} \\sin{\\left(q_{3} - q_{4} + q_{5} - q_{6} \\right)} + 0.0833333333333333 \\sqrt{2} \\cos{\\left(q_{3} - q_{4} + q_{5} - q_{6} \\right)}\\right)\\\\0\\end{matrix}\\right]$"
      ],
      "text/plain": [
       "Matrix([\n",
       "[                                                                                                                                                                                                                                                                                                                                                                                                                                                                                                                                                                                                                                                                                                                                                                                                                                                                                                                                                                                                                                                                                                                                                                                                                          0],\n",
       "[                                                                                                                                                                                                                                                                                                                                                                                                                                                                                                                                                                                                                                                                                                                                                                                                                                                                                                                                                                                                                                                                                                                                                                                                                          0],\n",
       "[                                                                                                                                                                                                                                                                                                                                                                                                                                                                                                                                                            -0.0833333333333333*sqrt(2)*\\lambda*sin(q_5)*sin(-q_3 + q_4 + q_6) - 0.0833333333333333*sqrt(2)*\\lambda*sin(q_5)*cos(-q_3 + q_4 + q_6) + 0.0833333333333333*sqrt(2)*\\lambda*sin(q_6)*sin(q_3 - q_4 + q_5) + 0.0833333333333333*sqrt(2)*\\lambda*sin(q_6)*cos(q_3 - q_4 + q_5) - 0.166666666666667*\\lambda*sin(q_3 - q_4)*sin(q_5 + pi/4)*cos(q_6) - 0.166666666666667*\\lambda*sin(q_3 - q_4)*sin(q_6 + pi/4)*cos(q_5) - 0.166666666666667*\\lambda*sin(q_5 + pi/4)*cos(q_6)*cos(q_3 - q_4) + 0.166666666666667*\\lambda*sin(q_6 + pi/4)*cos(q_5)*cos(q_3 - q_4) + 0.166666666666667*\\lambda*sin(-q_3 + q_4 + q_6) - 0.166666666666667*\\lambda*cos(q_3 - q_4 + q_5)],\n",
       "[\\lambda*(0.166666666666667*sin(q_4)*sin(q_3 + q_5) + 0.0833333333333333*sqrt(2)*sin(q_3 - q_4 + q_5 - q_6) + 0.166666666666667*cos(q_4)*cos(q_3 + q_5) - 0.0833333333333333*sqrt(2)*cos(q_3 - q_4 + q_5 - q_6)) - 0.0833333333333333*sqrt(2)*\\lambda*sin(q_3)*sin(q_5)*cos(q_4)*cos(q_6) + 0.0833333333333333*sqrt(2)*\\lambda*sin(q_3)*cos(q_4)*cos(q_5 - q_6) - 0.0833333333333333*sqrt(2)*\\lambda*sin(q_4)*sin(q_6)*sin(q_3 + q_5) - 0.166666666666667*\\lambda*sin(q_4)*sin(q_6 + pi/4)*cos(q_3 + q_5) - 0.0833333333333333*sqrt(2)*\\lambda*sin(q_6)*cos(q_3)*cos(q_4)*cos(q_5) + 0.0833333333333333*sqrt(2)*\\lambda*sin(q_3 + q_5)*sin(q_4 + q_6) + 0.166666666666667*\\lambda*sin(q_5 + pi/4)*cos(q_3)*cos(q_4)*cos(q_6) - 0.166666666666667*\\lambda*sin(-q_3 + q_4 + q_6) + 1.0*qd_1^+*cos(q_4) - 1.0*qd_1^-*cos(q_4) + 1.0*qd_2^+*sin(q_4) - 1.0*qd_2^-*sin(q_4) + 1.0*qd_4^+ - 1.0*qd_4^- - (qd_1^+*sin(q_4 + q_6) - qd_2^+*cos(q_4 + q_6) + qd_4^+*sin(q_6))*sin(q_6) - (qd_1^+*cos(q_4 + q_6) + qd_2^+*sin(q_4 + q_6) + qd_4^+*cos(q_6))*cos(q_6) + 1.0*(qd_1^-*sin(q_4 + q_6) - qd_2^-*cos(q_4 + q_6) + qd_4^-*sin(q_6))*sin(q_6) + 1.0*(qd_1^-*cos(q_4 + q_6) + qd_2^-*sin(q_4 + q_6) + qd_4^-*cos(q_6))*cos(q_6)],\n",
       "[                                                                                                                                                                                                                                                                                                                                                                                                                                                                                                                                                                                                                                                                                                                                                                                                                    -0.0833333333333333*sqrt(2)*\\lambda*(sin(q_3 - q_4 + q_5 - q_6) + cos(q_3 - q_4 + q_5 - q_6)) + \\lambda*(0.166666666666667*sin(q_3)*sin(q_3 + q_5) - 0.166666666666667*sin(q_4)*sin(q_3 + q_5) - 0.0833333333333333*sqrt(2)*sin(q_3 - q_4 + q_5 - q_6) + 0.166666666666667*cos(q_3)*cos(q_3 + q_5) - 0.166666666666667*cos(q_4)*cos(q_3 + q_5) + 0.0833333333333333*sqrt(2)*cos(q_3 - q_4 + q_5 - q_6))],\n",
       "[                                                                                                                                                                                                                                                                                                                                                                                                                                                                                                                                                                                                                                                                                                                                                                                                                                  0.0833333333333333*sqrt(2)*\\lambda*(sin(q_3 - q_4 + q_5 - q_6) - cos(q_3 - q_4 + q_5 - q_6)) + \\lambda*(-0.166666666666667*(sin(q_5) - sin(q_3 - q_4 + q_5))*cos(q_3 - q_4 + q_5 - q_6) + 0.166666666666667*(cos(q_5) - cos(q_3 - q_4 + q_5))*sin(q_3 - q_4 + q_5 - q_6) + 0.0833333333333333*sqrt(2)*sin(q_3 - q_4 + q_5 - q_6) + 0.0833333333333333*sqrt(2)*cos(q_3 - q_4 + q_5 - q_6))],\n",
       "[                                                                                                                                                                                                                                                                                                                                                                                                                                                                                                                                                                                                                                                                                                                                                                                                                                                                                                                                                                                                                                                                                                                                                                                                                          0]])"
      ]
     },
     "metadata": {},
     "output_type": "display_data"
    },
    {
     "name": "stdout",
     "output_type": "stream",
     "text": [
      "\n"
     ]
    },
    {
     "data": {
      "text/latex": [
       "$\\displaystyle \\left[\\begin{matrix}0\\\\0\\\\0\\\\0\\\\0\\\\0\\\\0\\end{matrix}\\right]$"
      ],
      "text/plain": [
       "Matrix([\n",
       "[0],\n",
       "[0],\n",
       "[0],\n",
       "[0],\n",
       "[0],\n",
       "[0],\n",
       "[0]])"
      ]
     },
     "metadata": {},
     "output_type": "display_data"
    },
    {
     "name": "stdout",
     "output_type": "stream",
     "text": [
      "\n"
     ]
    },
    {
     "data": {
      "text/latex": [
       "$\\displaystyle \\left[\\begin{matrix}0\\\\0\\\\- \\lambda \\left(0.166666666666667 \\sin{\\left(q_{4} \\right)} \\cos{\\left(q_{3} + q_{5} \\right)} - 0.166666666666667 \\sin{\\left(q_{3} + q_{5} \\right)} \\cos{\\left(q_{4} \\right)} + 0.0833333333333333 \\sqrt{2} \\sin{\\left(q_{3} - q_{4} + q_{5} - q_{6} \\right)} + 0.0833333333333333 \\sqrt{2} \\cos{\\left(q_{3} - q_{4} + q_{5} - q_{6} \\right)}\\right) + 0.0833333333333333 \\sqrt{2} \\lambda \\sin{\\left(q_{5} \\right)} \\cos{\\left(- q_{3} + q_{4} + q_{6} \\right)} - 0.0833333333333333 \\sqrt{2} \\lambda \\sin{\\left(q_{6} \\right)} \\sin{\\left(q_{3} - q_{4} + q_{5} \\right)} + 0.166666666666667 \\lambda \\sin{\\left(q_{3} - q_{4} \\right)} \\sin{\\left(q_{5} + \\frac{\\pi}{4} \\right)} \\cos{\\left(q_{6} \\right)} - 0.166666666666667 \\lambda \\sin{\\left(q_{6} + \\frac{\\pi}{4} \\right)} \\cos{\\left(q_{5} \\right)} \\cos{\\left(q_{3} - q_{4} \\right)} + 0.166666666666667 \\lambda \\cos{\\left(q_{3} - q_{4} + q_{5} \\right)} + 1.0 qd^{+}_{1} \\cos{\\left(q_{3} \\right)} - 1.0 qd^{-}_{1} \\cos{\\left(q_{3} \\right)} + 1.0 qd^{+}_{2} \\sin{\\left(q_{3} \\right)} - 1.0 qd^{-}_{2} \\sin{\\left(q_{3} \\right)} + 1.0 qd^{+}_{3} - 1.0 qd^{-}_{3} - \\left(qd^{+}_{1} \\sin{\\left(q_{3} + q_{5} \\right)} - qd^{+}_{2} \\cos{\\left(q_{3} + q_{5} \\right)} + qd^{+}_{3} \\sin{\\left(q_{5} \\right)}\\right) \\sin{\\left(q_{5} \\right)} - \\left(qd^{+}_{1} \\cos{\\left(q_{3} + q_{5} \\right)} + qd^{+}_{2} \\sin{\\left(q_{3} + q_{5} \\right)} + qd^{+}_{3} \\cos{\\left(q_{5} \\right)}\\right) \\cos{\\left(q_{5} \\right)} + 1.0 \\left(qd^{-}_{1} \\sin{\\left(q_{3} + q_{5} \\right)} - qd^{-}_{2} \\cos{\\left(q_{3} + q_{5} \\right)} + qd^{-}_{3} \\sin{\\left(q_{5} \\right)}\\right) \\sin{\\left(q_{5} \\right)} + 1.0 \\left(qd^{-}_{1} \\cos{\\left(q_{3} + q_{5} \\right)} + qd^{-}_{2} \\sin{\\left(q_{3} + q_{5} \\right)} + qd^{-}_{3} \\cos{\\left(q_{5} \\right)}\\right) \\cos{\\left(q_{5} \\right)}\\\\- \\lambda \\left(0.166666666666667 \\sin{\\left(q_{4} \\right)} \\sin{\\left(q_{3} + q_{5} \\right)} + 0.0833333333333333 \\sqrt{2} \\sin{\\left(q_{3} - q_{4} + q_{5} - q_{6} \\right)} + 0.166666666666667 \\cos{\\left(q_{4} \\right)} \\cos{\\left(q_{3} + q_{5} \\right)} - 0.0833333333333333 \\sqrt{2} \\cos{\\left(q_{3} - q_{4} + q_{5} - q_{6} \\right)}\\right) + 0.0833333333333333 \\sqrt{2} \\lambda \\sin{\\left(q_{5} \\right)} \\sin{\\left(- q_{3} + q_{4} + q_{6} \\right)} - 0.0833333333333333 \\sqrt{2} \\lambda \\sin{\\left(q_{6} \\right)} \\cos{\\left(q_{3} - q_{4} + q_{5} \\right)} + 0.166666666666667 \\lambda \\sin{\\left(q_{3} - q_{4} \\right)} \\sin{\\left(q_{6} + \\frac{\\pi}{4} \\right)} \\cos{\\left(q_{5} \\right)} + 0.166666666666667 \\lambda \\sin{\\left(q_{5} + \\frac{\\pi}{4} \\right)} \\cos{\\left(q_{6} \\right)} \\cos{\\left(q_{3} - q_{4} \\right)} - 0.166666666666667 \\lambda \\sin{\\left(q_{3} - q_{4} + q_{5} \\right)} - 1.0 qd^{+}_{1} \\cos{\\left(q_{4} \\right)} + 1.0 qd^{-}_{1} \\cos{\\left(q_{4} \\right)} - 1.0 qd^{+}_{2} \\sin{\\left(q_{4} \\right)} + 1.0 qd^{-}_{2} \\sin{\\left(q_{4} \\right)} - 1.0 qd^{+}_{4} + 1.0 qd^{-}_{4} + \\left(qd^{+}_{1} \\sin{\\left(q_{4} + q_{6} \\right)} - qd^{+}_{2} \\cos{\\left(q_{4} + q_{6} \\right)} + qd^{+}_{4} \\sin{\\left(q_{6} \\right)}\\right) \\sin{\\left(q_{6} \\right)} + \\left(qd^{+}_{1} \\cos{\\left(q_{4} + q_{6} \\right)} + qd^{+}_{2} \\sin{\\left(q_{4} + q_{6} \\right)} + qd^{+}_{4} \\cos{\\left(q_{6} \\right)}\\right) \\cos{\\left(q_{6} \\right)} - 1.0 \\left(qd^{-}_{1} \\sin{\\left(q_{4} + q_{6} \\right)} - qd^{-}_{2} \\cos{\\left(q_{4} + q_{6} \\right)} + qd^{-}_{4} \\sin{\\left(q_{6} \\right)}\\right) \\sin{\\left(q_{6} \\right)} - 1.0 \\left(qd^{-}_{1} \\cos{\\left(q_{4} + q_{6} \\right)} + qd^{-}_{2} \\sin{\\left(q_{4} + q_{6} \\right)} + qd^{-}_{4} \\cos{\\left(q_{6} \\right)}\\right) \\cos{\\left(q_{6} \\right)}\\\\- \\lambda \\left(0.166666666666667 \\sin{\\left(q_{3} \\right)} \\sin{\\left(q_{3} + q_{5} \\right)} - 0.166666666666667 \\sin{\\left(q_{4} \\right)} \\sin{\\left(q_{3} + q_{5} \\right)} - 0.0833333333333333 \\sqrt{2} \\sin{\\left(q_{3} - q_{4} + q_{5} - q_{6} \\right)} + 0.166666666666667 \\cos{\\left(q_{3} \\right)} \\cos{\\left(q_{3} + q_{5} \\right)} - 0.166666666666667 \\cos{\\left(q_{4} \\right)} \\cos{\\left(q_{3} + q_{5} \\right)} + 0.0833333333333333 \\sqrt{2} \\cos{\\left(q_{3} - q_{4} + q_{5} - q_{6} \\right)}\\right) - \\lambda \\left(- 0.166666666666667 \\sin{\\left(q_{3} \\right)} \\cos{\\left(q_{3} + q_{5} \\right)} + 0.166666666666667 \\sin{\\left(q_{4} \\right)} \\cos{\\left(q_{3} + q_{5} \\right)} + 0.166666666666667 \\sin{\\left(q_{3} + q_{5} \\right)} \\cos{\\left(q_{3} \\right)} - 0.166666666666667 \\sin{\\left(q_{3} + q_{5} \\right)} \\cos{\\left(q_{4} \\right)} + 0.0833333333333333 \\sqrt{2} \\sin{\\left(q_{3} - q_{4} + q_{5} - q_{6} \\right)} + 0.0833333333333333 \\sqrt{2} \\cos{\\left(q_{3} - q_{4} + q_{5} - q_{6} \\right)}\\right)\\\\- 0.0833333333333333 \\sqrt{2} \\lambda \\left(\\sin{\\left(q_{3} - q_{4} + q_{5} - q_{6} \\right)} - \\cos{\\left(q_{3} - q_{4} + q_{5} - q_{6} \\right)}\\right) + 0.0833333333333333 \\sqrt{2} \\lambda \\left(\\sin{\\left(q_{3} - q_{4} + q_{5} - q_{6} \\right)} + \\cos{\\left(q_{3} - q_{4} + q_{5} - q_{6} \\right)}\\right)\\\\0\\end{matrix}\\right]$"
      ],
      "text/plain": [
       "Matrix([\n",
       "[                                                                                                                                                                                                                                                                                                                                                                                                                                                                                                                                                                                                                                                                                                                                                                                                                                                                                                                                                                                             0],\n",
       "[                                                                                                                                                                                                                                                                                                                                                                                                                                                                                                                                                                                                                                                                                                                                                                                                                                                                                                                                                                                             0],\n",
       "[-\\lambda*(0.166666666666667*sin(q_4)*cos(q_3 + q_5) - 0.166666666666667*sin(q_3 + q_5)*cos(q_4) + 0.0833333333333333*sqrt(2)*sin(q_3 - q_4 + q_5 - q_6) + 0.0833333333333333*sqrt(2)*cos(q_3 - q_4 + q_5 - q_6)) + 0.0833333333333333*sqrt(2)*\\lambda*sin(q_5)*cos(-q_3 + q_4 + q_6) - 0.0833333333333333*sqrt(2)*\\lambda*sin(q_6)*sin(q_3 - q_4 + q_5) + 0.166666666666667*\\lambda*sin(q_3 - q_4)*sin(q_5 + pi/4)*cos(q_6) - 0.166666666666667*\\lambda*sin(q_6 + pi/4)*cos(q_5)*cos(q_3 - q_4) + 0.166666666666667*\\lambda*cos(q_3 - q_4 + q_5) + 1.0*qd_1^+*cos(q_3) - 1.0*qd_1^-*cos(q_3) + 1.0*qd_2^+*sin(q_3) - 1.0*qd_2^-*sin(q_3) + 1.0*qd_3^+ - 1.0*qd_3^- - (qd_1^+*sin(q_3 + q_5) - qd_2^+*cos(q_3 + q_5) + qd_3^+*sin(q_5))*sin(q_5) - (qd_1^+*cos(q_3 + q_5) + qd_2^+*sin(q_3 + q_5) + qd_3^+*cos(q_5))*cos(q_5) + 1.0*(qd_1^-*sin(q_3 + q_5) - qd_2^-*cos(q_3 + q_5) + qd_3^-*sin(q_5))*sin(q_5) + 1.0*(qd_1^-*cos(q_3 + q_5) + qd_2^-*sin(q_3 + q_5) + qd_3^-*cos(q_5))*cos(q_5)],\n",
       "[-\\lambda*(0.166666666666667*sin(q_4)*sin(q_3 + q_5) + 0.0833333333333333*sqrt(2)*sin(q_3 - q_4 + q_5 - q_6) + 0.166666666666667*cos(q_4)*cos(q_3 + q_5) - 0.0833333333333333*sqrt(2)*cos(q_3 - q_4 + q_5 - q_6)) + 0.0833333333333333*sqrt(2)*\\lambda*sin(q_5)*sin(-q_3 + q_4 + q_6) - 0.0833333333333333*sqrt(2)*\\lambda*sin(q_6)*cos(q_3 - q_4 + q_5) + 0.166666666666667*\\lambda*sin(q_3 - q_4)*sin(q_6 + pi/4)*cos(q_5) + 0.166666666666667*\\lambda*sin(q_5 + pi/4)*cos(q_6)*cos(q_3 - q_4) - 0.166666666666667*\\lambda*sin(q_3 - q_4 + q_5) - 1.0*qd_1^+*cos(q_4) + 1.0*qd_1^-*cos(q_4) - 1.0*qd_2^+*sin(q_4) + 1.0*qd_2^-*sin(q_4) - 1.0*qd_4^+ + 1.0*qd_4^- + (qd_1^+*sin(q_4 + q_6) - qd_2^+*cos(q_4 + q_6) + qd_4^+*sin(q_6))*sin(q_6) + (qd_1^+*cos(q_4 + q_6) + qd_2^+*sin(q_4 + q_6) + qd_4^+*cos(q_6))*cos(q_6) - 1.0*(qd_1^-*sin(q_4 + q_6) - qd_2^-*cos(q_4 + q_6) + qd_4^-*sin(q_6))*sin(q_6) - 1.0*(qd_1^-*cos(q_4 + q_6) + qd_2^-*sin(q_4 + q_6) + qd_4^-*cos(q_6))*cos(q_6)],\n",
       "[                                                                                                                                                                                                                                                                                                                                                                           -\\lambda*(0.166666666666667*sin(q_3)*sin(q_3 + q_5) - 0.166666666666667*sin(q_4)*sin(q_3 + q_5) - 0.0833333333333333*sqrt(2)*sin(q_3 - q_4 + q_5 - q_6) + 0.166666666666667*cos(q_3)*cos(q_3 + q_5) - 0.166666666666667*cos(q_4)*cos(q_3 + q_5) + 0.0833333333333333*sqrt(2)*cos(q_3 - q_4 + q_5 - q_6)) - \\lambda*(-0.166666666666667*sin(q_3)*cos(q_3 + q_5) + 0.166666666666667*sin(q_4)*cos(q_3 + q_5) + 0.166666666666667*sin(q_3 + q_5)*cos(q_3) - 0.166666666666667*sin(q_3 + q_5)*cos(q_4) + 0.0833333333333333*sqrt(2)*sin(q_3 - q_4 + q_5 - q_6) + 0.0833333333333333*sqrt(2)*cos(q_3 - q_4 + q_5 - q_6))],\n",
       "[                                                                                                                                                                                                                                                                                                                                                                                                                                                                                                                                                                                                                                                                                                                                                                                                  -0.0833333333333333*sqrt(2)*\\lambda*(sin(q_3 - q_4 + q_5 - q_6) - cos(q_3 - q_4 + q_5 - q_6)) + 0.0833333333333333*sqrt(2)*\\lambda*(sin(q_3 - q_4 + q_5 - q_6) + cos(q_3 - q_4 + q_5 - q_6))],\n",
       "[                                                                                                                                                                                                                                                                                                                                                                                                                                                                                                                                                                                                                                                                                                                                                                                                                                                                                                                                                                                             0]])"
      ]
     },
     "metadata": {},
     "output_type": "display_data"
    },
    {
     "name": "stdout",
     "output_type": "stream",
     "text": [
      "\n"
     ]
    },
    {
     "data": {
      "text/latex": [
       "$\\displaystyle \\left[\\begin{matrix}0\\\\0\\\\0\\\\0\\\\0\\\\0\\\\0\\end{matrix}\\right]$"
      ],
      "text/plain": [
       "Matrix([\n",
       "[0],\n",
       "[0],\n",
       "[0],\n",
       "[0],\n",
       "[0],\n",
       "[0],\n",
       "[0]])"
      ]
     },
     "metadata": {},
     "output_type": "display_data"
    },
    {
     "name": "stdout",
     "output_type": "stream",
     "text": [
      "\n"
     ]
    },
    {
     "data": {
      "text/latex": [
       "$\\displaystyle \\left[\\begin{matrix}0\\\\0\\\\\\lambda \\left(0.166666666666667 \\sin{\\left(q_{4} \\right)} \\cos{\\left(q_{3} + q_{5} \\right)} - 0.166666666666667 \\sin{\\left(q_{3} + q_{5} \\right)} \\cos{\\left(q_{4} \\right)} + 0.0833333333333333 \\sqrt{2} \\sin{\\left(q_{3} - q_{4} + q_{5} - q_{6} \\right)} + 0.0833333333333333 \\sqrt{2} \\cos{\\left(q_{3} - q_{4} + q_{5} - q_{6} \\right)}\\right) + 0.0833333333333333 \\sqrt{2} \\lambda \\sin{\\left(q_{5} \\right)} \\sin{\\left(- q_{3} + q_{4} + q_{6} \\right)} - 0.0833333333333333 \\sqrt{2} \\lambda \\sin{\\left(q_{6} \\right)} \\cos{\\left(q_{3} - q_{4} + q_{5} \\right)} + 0.166666666666667 \\lambda \\sin{\\left(q_{3} - q_{4} \\right)} \\sin{\\left(q_{6} + \\frac{\\pi}{4} \\right)} \\cos{\\left(q_{5} \\right)} + 0.166666666666667 \\lambda \\sin{\\left(q_{5} + \\frac{\\pi}{4} \\right)} \\cos{\\left(q_{6} \\right)} \\cos{\\left(q_{3} - q_{4} \\right)} - 0.166666666666667 \\lambda \\cos{\\left(q_{3} - q_{4} + q_{5} \\right)} - 1.0 qd^{+}_{1} \\cos{\\left(q_{3} \\right)} + 1.0 qd^{-}_{1} \\cos{\\left(q_{3} \\right)} - 1.0 qd^{+}_{2} \\sin{\\left(q_{3} \\right)} + 1.0 qd^{-}_{2} \\sin{\\left(q_{3} \\right)} - 1.0 qd^{+}_{3} + 1.0 qd^{-}_{3} + \\left(qd^{+}_{1} \\sin{\\left(q_{3} + q_{5} \\right)} - qd^{+}_{2} \\cos{\\left(q_{3} + q_{5} \\right)} + qd^{+}_{3} \\sin{\\left(q_{5} \\right)}\\right) \\sin{\\left(q_{5} \\right)} + \\left(qd^{+}_{1} \\cos{\\left(q_{3} + q_{5} \\right)} + qd^{+}_{2} \\sin{\\left(q_{3} + q_{5} \\right)} + qd^{+}_{3} \\cos{\\left(q_{5} \\right)}\\right) \\cos{\\left(q_{5} \\right)} - 1.0 \\left(qd^{-}_{1} \\sin{\\left(q_{3} + q_{5} \\right)} - qd^{-}_{2} \\cos{\\left(q_{3} + q_{5} \\right)} + qd^{-}_{3} \\sin{\\left(q_{5} \\right)}\\right) \\sin{\\left(q_{5} \\right)} - 1.0 \\left(qd^{-}_{1} \\cos{\\left(q_{3} + q_{5} \\right)} + qd^{-}_{2} \\sin{\\left(q_{3} + q_{5} \\right)} + qd^{-}_{3} \\cos{\\left(q_{5} \\right)}\\right) \\cos{\\left(q_{5} \\right)}\\\\\\lambda \\left(0.166666666666667 \\sin{\\left(q_{4} \\right)} \\sin{\\left(q_{3} + q_{5} \\right)} - 0.0833333333333333 \\sqrt{2} \\sin{\\left(q_{3} - q_{4} + q_{5} - q_{6} \\right)} + 0.166666666666667 \\cos{\\left(q_{4} \\right)} \\cos{\\left(q_{3} + q_{5} \\right)} - 0.0833333333333333 \\sqrt{2} \\cos{\\left(q_{3} - q_{4} + q_{5} - q_{6} \\right)}\\right) - 0.0833333333333333 \\sqrt{2} \\lambda \\sin{\\left(q_{5} \\right)} \\sin{\\left(- q_{3} + q_{4} + q_{6} \\right)} + 0.0833333333333333 \\sqrt{2} \\lambda \\sin{\\left(q_{6} \\right)} \\cos{\\left(q_{3} - q_{4} + q_{5} \\right)} - 0.166666666666667 \\lambda \\sin{\\left(q_{3} - q_{4} \\right)} \\sin{\\left(q_{6} + \\frac{\\pi}{4} \\right)} \\cos{\\left(q_{5} \\right)} - 0.166666666666667 \\lambda \\sin{\\left(q_{5} + \\frac{\\pi}{4} \\right)} \\cos{\\left(q_{6} \\right)} \\cos{\\left(q_{3} - q_{4} \\right)} + 0.166666666666667 \\lambda \\sin{\\left(q_{3} - q_{4} + q_{5} \\right)} + 1.0 qd^{+}_{1} \\cos{\\left(q_{4} \\right)} - 1.0 qd^{-}_{1} \\cos{\\left(q_{4} \\right)} + 1.0 qd^{+}_{2} \\sin{\\left(q_{4} \\right)} - 1.0 qd^{-}_{2} \\sin{\\left(q_{4} \\right)} + 1.0 qd^{+}_{4} - 1.0 qd^{-}_{4} - \\left(qd^{+}_{1} \\sin{\\left(q_{4} + q_{6} \\right)} - qd^{+}_{2} \\cos{\\left(q_{4} + q_{6} \\right)} + qd^{+}_{4} \\sin{\\left(q_{6} \\right)}\\right) \\sin{\\left(q_{6} \\right)} - \\left(qd^{+}_{1} \\cos{\\left(q_{4} + q_{6} \\right)} + qd^{+}_{2} \\sin{\\left(q_{4} + q_{6} \\right)} + qd^{+}_{4} \\cos{\\left(q_{6} \\right)}\\right) \\cos{\\left(q_{6} \\right)} + 1.0 \\left(qd^{-}_{1} \\sin{\\left(q_{4} + q_{6} \\right)} - qd^{-}_{2} \\cos{\\left(q_{4} + q_{6} \\right)} + qd^{-}_{4} \\sin{\\left(q_{6} \\right)}\\right) \\sin{\\left(q_{6} \\right)} + 1.0 \\left(qd^{-}_{1} \\cos{\\left(q_{4} + q_{6} \\right)} + qd^{-}_{2} \\sin{\\left(q_{4} + q_{6} \\right)} + qd^{-}_{4} \\cos{\\left(q_{6} \\right)}\\right) \\cos{\\left(q_{6} \\right)}\\\\\\lambda \\left(0.166666666666667 \\sin{\\left(q_{3} \\right)} \\sin{\\left(q_{3} + q_{5} \\right)} - 0.166666666666667 \\sin{\\left(q_{4} \\right)} \\sin{\\left(q_{3} + q_{5} \\right)} + 0.0833333333333333 \\sqrt{2} \\sin{\\left(q_{3} - q_{4} + q_{5} - q_{6} \\right)} + 0.166666666666667 \\cos{\\left(q_{3} \\right)} \\cos{\\left(q_{3} + q_{5} \\right)} - 0.166666666666667 \\cos{\\left(q_{4} \\right)} \\cos{\\left(q_{3} + q_{5} \\right)} + 0.0833333333333333 \\sqrt{2} \\cos{\\left(q_{3} - q_{4} + q_{5} - q_{6} \\right)}\\right) + \\lambda \\left(- 0.166666666666667 \\sin{\\left(q_{3} \\right)} \\cos{\\left(q_{3} + q_{5} \\right)} + 0.166666666666667 \\sin{\\left(q_{4} \\right)} \\cos{\\left(q_{3} + q_{5} \\right)} + 0.166666666666667 \\sin{\\left(q_{3} + q_{5} \\right)} \\cos{\\left(q_{3} \\right)} - 0.166666666666667 \\sin{\\left(q_{3} + q_{5} \\right)} \\cos{\\left(q_{4} \\right)} + 0.0833333333333333 \\sqrt{2} \\sin{\\left(q_{3} - q_{4} + q_{5} - q_{6} \\right)} + 0.0833333333333333 \\sqrt{2} \\cos{\\left(q_{3} - q_{4} + q_{5} - q_{6} \\right)}\\right)\\\\- 0.166666666666667 \\sqrt{2} \\lambda \\left(\\sin{\\left(q_{3} - q_{4} + q_{5} - q_{6} \\right)} + \\cos{\\left(q_{3} - q_{4} + q_{5} - q_{6} \\right)}\\right)\\\\0\\end{matrix}\\right]$"
      ],
      "text/plain": [
       "Matrix([\n",
       "[                                                                                                                                                                                                                                                                                                                                                                                                                                                                                                                                                                                                                                                                                                                                                                                                                                                                                                                                                                                            0],\n",
       "[                                                                                                                                                                                                                                                                                                                                                                                                                                                                                                                                                                                                                                                                                                                                                                                                                                                                                                                                                                                            0],\n",
       "[\\lambda*(0.166666666666667*sin(q_4)*cos(q_3 + q_5) - 0.166666666666667*sin(q_3 + q_5)*cos(q_4) + 0.0833333333333333*sqrt(2)*sin(q_3 - q_4 + q_5 - q_6) + 0.0833333333333333*sqrt(2)*cos(q_3 - q_4 + q_5 - q_6)) + 0.0833333333333333*sqrt(2)*\\lambda*sin(q_5)*sin(-q_3 + q_4 + q_6) - 0.0833333333333333*sqrt(2)*\\lambda*sin(q_6)*cos(q_3 - q_4 + q_5) + 0.166666666666667*\\lambda*sin(q_3 - q_4)*sin(q_6 + pi/4)*cos(q_5) + 0.166666666666667*\\lambda*sin(q_5 + pi/4)*cos(q_6)*cos(q_3 - q_4) - 0.166666666666667*\\lambda*cos(q_3 - q_4 + q_5) - 1.0*qd_1^+*cos(q_3) + 1.0*qd_1^-*cos(q_3) - 1.0*qd_2^+*sin(q_3) + 1.0*qd_2^-*sin(q_3) - 1.0*qd_3^+ + 1.0*qd_3^- + (qd_1^+*sin(q_3 + q_5) - qd_2^+*cos(q_3 + q_5) + qd_3^+*sin(q_5))*sin(q_5) + (qd_1^+*cos(q_3 + q_5) + qd_2^+*sin(q_3 + q_5) + qd_3^+*cos(q_5))*cos(q_5) - 1.0*(qd_1^-*sin(q_3 + q_5) - qd_2^-*cos(q_3 + q_5) + qd_3^-*sin(q_5))*sin(q_5) - 1.0*(qd_1^-*cos(q_3 + q_5) + qd_2^-*sin(q_3 + q_5) + qd_3^-*cos(q_5))*cos(q_5)],\n",
       "[\\lambda*(0.166666666666667*sin(q_4)*sin(q_3 + q_5) - 0.0833333333333333*sqrt(2)*sin(q_3 - q_4 + q_5 - q_6) + 0.166666666666667*cos(q_4)*cos(q_3 + q_5) - 0.0833333333333333*sqrt(2)*cos(q_3 - q_4 + q_5 - q_6)) - 0.0833333333333333*sqrt(2)*\\lambda*sin(q_5)*sin(-q_3 + q_4 + q_6) + 0.0833333333333333*sqrt(2)*\\lambda*sin(q_6)*cos(q_3 - q_4 + q_5) - 0.166666666666667*\\lambda*sin(q_3 - q_4)*sin(q_6 + pi/4)*cos(q_5) - 0.166666666666667*\\lambda*sin(q_5 + pi/4)*cos(q_6)*cos(q_3 - q_4) + 0.166666666666667*\\lambda*sin(q_3 - q_4 + q_5) + 1.0*qd_1^+*cos(q_4) - 1.0*qd_1^-*cos(q_4) + 1.0*qd_2^+*sin(q_4) - 1.0*qd_2^-*sin(q_4) + 1.0*qd_4^+ - 1.0*qd_4^- - (qd_1^+*sin(q_4 + q_6) - qd_2^+*cos(q_4 + q_6) + qd_4^+*sin(q_6))*sin(q_6) - (qd_1^+*cos(q_4 + q_6) + qd_2^+*sin(q_4 + q_6) + qd_4^+*cos(q_6))*cos(q_6) + 1.0*(qd_1^-*sin(q_4 + q_6) - qd_2^-*cos(q_4 + q_6) + qd_4^-*sin(q_6))*sin(q_6) + 1.0*(qd_1^-*cos(q_4 + q_6) + qd_2^-*sin(q_4 + q_6) + qd_4^-*cos(q_6))*cos(q_6)],\n",
       "[                                                                                                                                                                                                                                                                                                                                                                           \\lambda*(0.166666666666667*sin(q_3)*sin(q_3 + q_5) - 0.166666666666667*sin(q_4)*sin(q_3 + q_5) + 0.0833333333333333*sqrt(2)*sin(q_3 - q_4 + q_5 - q_6) + 0.166666666666667*cos(q_3)*cos(q_3 + q_5) - 0.166666666666667*cos(q_4)*cos(q_3 + q_5) + 0.0833333333333333*sqrt(2)*cos(q_3 - q_4 + q_5 - q_6)) + \\lambda*(-0.166666666666667*sin(q_3)*cos(q_3 + q_5) + 0.166666666666667*sin(q_4)*cos(q_3 + q_5) + 0.166666666666667*sin(q_3 + q_5)*cos(q_3) - 0.166666666666667*sin(q_3 + q_5)*cos(q_4) + 0.0833333333333333*sqrt(2)*sin(q_3 - q_4 + q_5 - q_6) + 0.0833333333333333*sqrt(2)*cos(q_3 - q_4 + q_5 - q_6))],\n",
       "[                                                                                                                                                                                                                                                                                                                                                                                                                                                                                                                                                                                                                                                                                                                                                                                                                                                                                                 -0.166666666666667*sqrt(2)*\\lambda*(sin(q_3 - q_4 + q_5 - q_6) + cos(q_3 - q_4 + q_5 - q_6))],\n",
       "[                                                                                                                                                                                                                                                                                                                                                                                                                                                                                                                                                                                                                                                                                                                                                                                                                                                                                                                                                                                            0]])"
      ]
     },
     "metadata": {},
     "output_type": "display_data"
    },
    {
     "name": "stdout",
     "output_type": "stream",
     "text": [
      "\n"
     ]
    },
    {
     "data": {
      "text/latex": [
       "$\\displaystyle \\left[\\begin{matrix}0\\\\0\\\\0\\\\0\\\\0\\\\0\\\\0\\end{matrix}\\right]$"
      ],
      "text/plain": [
       "Matrix([\n",
       "[0],\n",
       "[0],\n",
       "[0],\n",
       "[0],\n",
       "[0],\n",
       "[0],\n",
       "[0]])"
      ]
     },
     "metadata": {},
     "output_type": "display_data"
    },
    {
     "name": "stdout",
     "output_type": "stream",
     "text": [
      "\n"
     ]
    },
    {
     "data": {
      "text/latex": [
       "$\\displaystyle \\left[\\begin{matrix}0\\\\0\\\\- 0.0833333333333333 \\sqrt{2} \\lambda \\sin{\\left(q_{5} \\right)} \\sin{\\left(- q_{3} + q_{4} + q_{6} \\right)} - 0.0833333333333333 \\sqrt{2} \\lambda \\sin{\\left(q_{5} \\right)} \\cos{\\left(- q_{3} + q_{4} + q_{6} \\right)} + 0.0833333333333333 \\sqrt{2} \\lambda \\sin{\\left(q_{6} \\right)} \\sin{\\left(q_{3} - q_{4} + q_{5} \\right)} + 0.0833333333333333 \\sqrt{2} \\lambda \\sin{\\left(q_{6} \\right)} \\cos{\\left(q_{3} - q_{4} + q_{5} \\right)} - 0.166666666666667 \\lambda \\sin{\\left(q_{3} - q_{4} \\right)} \\sin{\\left(q_{5} + \\frac{\\pi}{4} \\right)} \\cos{\\left(q_{6} \\right)} - 0.166666666666667 \\lambda \\sin{\\left(q_{3} - q_{4} \\right)} \\sin{\\left(q_{6} + \\frac{\\pi}{4} \\right)} \\cos{\\left(q_{5} \\right)} - 0.166666666666667 \\lambda \\sin{\\left(q_{5} + \\frac{\\pi}{4} \\right)} \\cos{\\left(q_{6} \\right)} \\cos{\\left(q_{3} - q_{4} \\right)} + 0.166666666666667 \\lambda \\sin{\\left(q_{6} + \\frac{\\pi}{4} \\right)} \\cos{\\left(q_{5} \\right)} \\cos{\\left(q_{3} - q_{4} \\right)} + 0.166666666666667 \\lambda \\sin{\\left(q_{3} - q_{4} + q_{5} \\right)} + 0.166666666666667 \\lambda \\cos{\\left(q_{3} - q_{4} + q_{5} \\right)}\\\\- \\lambda \\left(0.166666666666667 \\sin{\\left(q_{4} \\right)} \\sin{\\left(q_{3} + q_{5} \\right)} - 0.0833333333333333 \\sqrt{2} \\sin{\\left(q_{3} - q_{4} + q_{5} - q_{6} \\right)} + 0.166666666666667 \\cos{\\left(q_{4} \\right)} \\cos{\\left(q_{3} + q_{5} \\right)} - 0.0833333333333333 \\sqrt{2} \\cos{\\left(q_{3} - q_{4} + q_{5} - q_{6} \\right)}\\right) + \\lambda \\left(0.166666666666667 \\sin{\\left(q_{4} \\right)} \\cos{\\left(q_{3} + q_{5} \\right)} - 0.166666666666667 \\sin{\\left(q_{3} + q_{5} \\right)} \\cos{\\left(q_{4} \\right)} + 0.0833333333333333 \\sqrt{2} \\sin{\\left(q_{3} - q_{4} + q_{5} - q_{6} \\right)} - 0.0833333333333333 \\sqrt{2} \\cos{\\left(q_{3} - q_{4} + q_{5} - q_{6} \\right)}\\right)\\\\- \\lambda \\left(0.166666666666667 \\sin{\\left(q_{3} \\right)} \\sin{\\left(q_{3} + q_{5} \\right)} - 0.166666666666667 \\sin{\\left(q_{4} \\right)} \\sin{\\left(q_{3} + q_{5} \\right)} + 0.0833333333333333 \\sqrt{2} \\sin{\\left(q_{3} - q_{4} + q_{5} - q_{6} \\right)} + 0.166666666666667 \\cos{\\left(q_{3} \\right)} \\cos{\\left(q_{3} + q_{5} \\right)} - 0.166666666666667 \\cos{\\left(q_{4} \\right)} \\cos{\\left(q_{3} + q_{5} \\right)} + 0.0833333333333333 \\sqrt{2} \\cos{\\left(q_{3} - q_{4} + q_{5} - q_{6} \\right)}\\right) + \\lambda \\left(0.166666666666667 \\sin{\\left(q_{3} \\right)} \\cos{\\left(q_{3} + q_{5} \\right)} - 0.166666666666667 \\sin{\\left(q_{4} \\right)} \\cos{\\left(q_{3} + q_{5} \\right)} - 0.166666666666667 \\sin{\\left(q_{3} + q_{5} \\right)} \\cos{\\left(q_{3} \\right)} + 0.166666666666667 \\sin{\\left(q_{3} + q_{5} \\right)} \\cos{\\left(q_{4} \\right)} - 0.0833333333333333 \\sqrt{2} \\sin{\\left(q_{3} - q_{4} + q_{5} - q_{6} \\right)} + 0.0833333333333333 \\sqrt{2} \\cos{\\left(q_{3} - q_{4} + q_{5} - q_{6} \\right)}\\right)\\\\0.0833333333333333 \\sqrt{2} \\lambda \\left(\\sin{\\left(q_{3} - q_{4} + q_{5} - q_{6} \\right)} - \\cos{\\left(q_{3} - q_{4} + q_{5} - q_{6} \\right)}\\right) + 0.0833333333333333 \\sqrt{2} \\lambda \\left(\\sin{\\left(q_{3} - q_{4} + q_{5} - q_{6} \\right)} + \\cos{\\left(q_{3} - q_{4} + q_{5} - q_{6} \\right)}\\right)\\\\0\\end{matrix}\\right]$"
      ],
      "text/plain": [
       "Matrix([\n",
       "[                                                                                                                                                                                                                                                                                                                                                                                                                                                                                                                                                                                                                                                             0],\n",
       "[                                                                                                                                                                                                                                                                                                                                                                                                                                                                                                                                                                                                                                                             0],\n",
       "[-0.0833333333333333*sqrt(2)*\\lambda*sin(q_5)*sin(-q_3 + q_4 + q_6) - 0.0833333333333333*sqrt(2)*\\lambda*sin(q_5)*cos(-q_3 + q_4 + q_6) + 0.0833333333333333*sqrt(2)*\\lambda*sin(q_6)*sin(q_3 - q_4 + q_5) + 0.0833333333333333*sqrt(2)*\\lambda*sin(q_6)*cos(q_3 - q_4 + q_5) - 0.166666666666667*\\lambda*sin(q_3 - q_4)*sin(q_5 + pi/4)*cos(q_6) - 0.166666666666667*\\lambda*sin(q_3 - q_4)*sin(q_6 + pi/4)*cos(q_5) - 0.166666666666667*\\lambda*sin(q_5 + pi/4)*cos(q_6)*cos(q_3 - q_4) + 0.166666666666667*\\lambda*sin(q_6 + pi/4)*cos(q_5)*cos(q_3 - q_4) + 0.166666666666667*\\lambda*sin(q_3 - q_4 + q_5) + 0.166666666666667*\\lambda*cos(q_3 - q_4 + q_5)],\n",
       "[                                                                                                                                                                                                                            -\\lambda*(0.166666666666667*sin(q_4)*sin(q_3 + q_5) - 0.0833333333333333*sqrt(2)*sin(q_3 - q_4 + q_5 - q_6) + 0.166666666666667*cos(q_4)*cos(q_3 + q_5) - 0.0833333333333333*sqrt(2)*cos(q_3 - q_4 + q_5 - q_6)) + \\lambda*(0.166666666666667*sin(q_4)*cos(q_3 + q_5) - 0.166666666666667*sin(q_3 + q_5)*cos(q_4) + 0.0833333333333333*sqrt(2)*sin(q_3 - q_4 + q_5 - q_6) - 0.0833333333333333*sqrt(2)*cos(q_3 - q_4 + q_5 - q_6))],\n",
       "[                                            -\\lambda*(0.166666666666667*sin(q_3)*sin(q_3 + q_5) - 0.166666666666667*sin(q_4)*sin(q_3 + q_5) + 0.0833333333333333*sqrt(2)*sin(q_3 - q_4 + q_5 - q_6) + 0.166666666666667*cos(q_3)*cos(q_3 + q_5) - 0.166666666666667*cos(q_4)*cos(q_3 + q_5) + 0.0833333333333333*sqrt(2)*cos(q_3 - q_4 + q_5 - q_6)) + \\lambda*(0.166666666666667*sin(q_3)*cos(q_3 + q_5) - 0.166666666666667*sin(q_4)*cos(q_3 + q_5) - 0.166666666666667*sin(q_3 + q_5)*cos(q_3) + 0.166666666666667*sin(q_3 + q_5)*cos(q_4) - 0.0833333333333333*sqrt(2)*sin(q_3 - q_4 + q_5 - q_6) + 0.0833333333333333*sqrt(2)*cos(q_3 - q_4 + q_5 - q_6))],\n",
       "[                                                                                                                                                                                                                                                                                                                                                                                                                                                                   0.0833333333333333*sqrt(2)*\\lambda*(sin(q_3 - q_4 + q_5 - q_6) - cos(q_3 - q_4 + q_5 - q_6)) + 0.0833333333333333*sqrt(2)*\\lambda*(sin(q_3 - q_4 + q_5 - q_6) + cos(q_3 - q_4 + q_5 - q_6))],\n",
       "[                                                                                                                                                                                                                                                                                                                                                                                                                                                                                                                                                                                                                                                             0]])"
      ]
     },
     "metadata": {},
     "output_type": "display_data"
    },
    {
     "name": "stdout",
     "output_type": "stream",
     "text": [
      "\n"
     ]
    },
    {
     "data": {
      "text/latex": [
       "$\\displaystyle \\left[\\begin{matrix}0\\\\0\\\\0\\\\0\\\\0\\\\0\\\\0\\end{matrix}\\right]$"
      ],
      "text/plain": [
       "Matrix([\n",
       "[0],\n",
       "[0],\n",
       "[0],\n",
       "[0],\n",
       "[0],\n",
       "[0],\n",
       "[0]])"
      ]
     },
     "metadata": {},
     "output_type": "display_data"
    },
    {
     "name": "stdout",
     "output_type": "stream",
     "text": [
      "\n"
     ]
    },
    {
     "data": {
      "text/latex": [
       "$\\displaystyle \\left[\\begin{matrix}0\\\\0\\\\- \\lambda \\left(0.166666666666667 \\sin{\\left(q_{4} \\right)} \\sin{\\left(q_{3} + q_{5} \\right)} - 0.0833333333333333 \\sqrt{2} \\sin{\\left(q_{3} - q_{4} + q_{5} - q_{6} \\right)} + 0.166666666666667 \\cos{\\left(q_{4} \\right)} \\cos{\\left(q_{3} + q_{5} \\right)} + 0.0833333333333333 \\sqrt{2} \\cos{\\left(q_{3} - q_{4} + q_{5} - q_{6} \\right)}\\right) + 0.0833333333333333 \\sqrt{2} \\lambda \\sin{\\left(q_{5} \\right)} \\cos{\\left(- q_{3} + q_{4} + q_{6} \\right)} - 0.0833333333333333 \\sqrt{2} \\lambda \\sin{\\left(q_{6} \\right)} \\sin{\\left(q_{3} - q_{4} + q_{5} \\right)} + 0.166666666666667 \\lambda \\sin{\\left(q_{3} - q_{4} \\right)} \\sin{\\left(q_{5} + \\frac{\\pi}{4} \\right)} \\cos{\\left(q_{6} \\right)} - 0.166666666666667 \\lambda \\sin{\\left(q_{6} + \\frac{\\pi}{4} \\right)} \\cos{\\left(q_{5} \\right)} \\cos{\\left(q_{3} - q_{4} \\right)} - 0.166666666666667 \\lambda \\sin{\\left(q_{3} - q_{4} + q_{5} \\right)} + 1.0 qd^{+}_{1} \\cos{\\left(q_{3} \\right)} - 1.0 qd^{-}_{1} \\cos{\\left(q_{3} \\right)} + 1.0 qd^{+}_{2} \\sin{\\left(q_{3} \\right)} - 1.0 qd^{-}_{2} \\sin{\\left(q_{3} \\right)} + 1.0 qd^{+}_{3} - 1.0 qd^{-}_{3} - \\left(qd^{+}_{1} \\sin{\\left(q_{3} + q_{5} \\right)} - qd^{+}_{2} \\cos{\\left(q_{3} + q_{5} \\right)} + qd^{+}_{3} \\sin{\\left(q_{5} \\right)}\\right) \\sin{\\left(q_{5} \\right)} - \\left(qd^{+}_{1} \\cos{\\left(q_{3} + q_{5} \\right)} + qd^{+}_{2} \\sin{\\left(q_{3} + q_{5} \\right)} + qd^{+}_{3} \\cos{\\left(q_{5} \\right)}\\right) \\cos{\\left(q_{5} \\right)} + 1.0 \\left(qd^{-}_{1} \\sin{\\left(q_{3} + q_{5} \\right)} - qd^{-}_{2} \\cos{\\left(q_{3} + q_{5} \\right)} + qd^{-}_{3} \\sin{\\left(q_{5} \\right)}\\right) \\sin{\\left(q_{5} \\right)} + 1.0 \\left(qd^{-}_{1} \\cos{\\left(q_{3} + q_{5} \\right)} + qd^{-}_{2} \\sin{\\left(q_{3} + q_{5} \\right)} + qd^{-}_{3} \\cos{\\left(q_{5} \\right)}\\right) \\cos{\\left(q_{5} \\right)}\\\\- \\lambda \\left(0.166666666666667 \\sin{\\left(q_{4} \\right)} \\cos{\\left(q_{3} + q_{5} \\right)} - 0.166666666666667 \\sin{\\left(q_{3} + q_{5} \\right)} \\cos{\\left(q_{4} \\right)} + 0.0833333333333333 \\sqrt{2} \\sin{\\left(q_{3} - q_{4} + q_{5} - q_{6} \\right)} - 0.0833333333333333 \\sqrt{2} \\cos{\\left(q_{3} - q_{4} + q_{5} - q_{6} \\right)}\\right) - 0.0833333333333333 \\sqrt{2} \\lambda \\sin{\\left(q_{5} \\right)} \\cos{\\left(- q_{3} + q_{4} + q_{6} \\right)} + 0.0833333333333333 \\sqrt{2} \\lambda \\sin{\\left(q_{6} \\right)} \\sin{\\left(q_{3} - q_{4} + q_{5} \\right)} - 0.166666666666667 \\lambda \\sin{\\left(q_{3} - q_{4} \\right)} \\sin{\\left(q_{5} + \\frac{\\pi}{4} \\right)} \\cos{\\left(q_{6} \\right)} + 0.166666666666667 \\lambda \\sin{\\left(q_{6} + \\frac{\\pi}{4} \\right)} \\cos{\\left(q_{5} \\right)} \\cos{\\left(q_{3} - q_{4} \\right)} + 0.166666666666667 \\lambda \\cos{\\left(q_{3} - q_{4} + q_{5} \\right)} - 1.0 qd^{+}_{1} \\cos{\\left(q_{4} \\right)} + 1.0 qd^{-}_{1} \\cos{\\left(q_{4} \\right)} - 1.0 qd^{+}_{2} \\sin{\\left(q_{4} \\right)} + 1.0 qd^{-}_{2} \\sin{\\left(q_{4} \\right)} - 1.0 qd^{+}_{4} + 1.0 qd^{-}_{4} + \\left(qd^{+}_{1} \\sin{\\left(q_{4} + q_{6} \\right)} - qd^{+}_{2} \\cos{\\left(q_{4} + q_{6} \\right)} + qd^{+}_{4} \\sin{\\left(q_{6} \\right)}\\right) \\sin{\\left(q_{6} \\right)} + \\left(qd^{+}_{1} \\cos{\\left(q_{4} + q_{6} \\right)} + qd^{+}_{2} \\sin{\\left(q_{4} + q_{6} \\right)} + qd^{+}_{4} \\cos{\\left(q_{6} \\right)}\\right) \\cos{\\left(q_{6} \\right)} - 1.0 \\left(qd^{-}_{1} \\sin{\\left(q_{4} + q_{6} \\right)} - qd^{-}_{2} \\cos{\\left(q_{4} + q_{6} \\right)} + qd^{-}_{4} \\sin{\\left(q_{6} \\right)}\\right) \\sin{\\left(q_{6} \\right)} - 1.0 \\left(qd^{-}_{1} \\cos{\\left(q_{4} + q_{6} \\right)} + qd^{-}_{2} \\sin{\\left(q_{4} + q_{6} \\right)} + qd^{-}_{4} \\cos{\\left(q_{6} \\right)}\\right) \\cos{\\left(q_{6} \\right)}\\\\\\lambda \\left(0.166666666666667 \\sin{\\left(q_{3} \\right)} \\sin{\\left(q_{3} + q_{5} \\right)} - 0.166666666666667 \\sin{\\left(q_{4} \\right)} \\sin{\\left(q_{3} + q_{5} \\right)} + 0.0833333333333333 \\sqrt{2} \\sin{\\left(q_{3} - q_{4} + q_{5} - q_{6} \\right)} + 0.166666666666667 \\cos{\\left(q_{3} \\right)} \\cos{\\left(q_{3} + q_{5} \\right)} - 0.166666666666667 \\cos{\\left(q_{4} \\right)} \\cos{\\left(q_{3} + q_{5} \\right)} - 0.0833333333333333 \\sqrt{2} \\cos{\\left(q_{3} - q_{4} + q_{5} - q_{6} \\right)}\\right) - \\lambda \\left(0.166666666666667 \\sin{\\left(q_{3} \\right)} \\cos{\\left(q_{3} + q_{5} \\right)} - 0.166666666666667 \\sin{\\left(q_{4} \\right)} \\cos{\\left(q_{3} + q_{5} \\right)} - 0.166666666666667 \\sin{\\left(q_{3} + q_{5} \\right)} \\cos{\\left(q_{3} \\right)} + 0.166666666666667 \\sin{\\left(q_{3} + q_{5} \\right)} \\cos{\\left(q_{4} \\right)} - 0.0833333333333333 \\sqrt{2} \\sin{\\left(q_{3} - q_{4} + q_{5} - q_{6} \\right)} + 0.0833333333333333 \\sqrt{2} \\cos{\\left(q_{3} - q_{4} + q_{5} - q_{6} \\right)}\\right)\\\\- 0.166666666666667 \\sqrt{2} \\lambda \\left(\\sin{\\left(q_{3} - q_{4} + q_{5} - q_{6} \\right)} - \\cos{\\left(q_{3} - q_{4} + q_{5} - q_{6} \\right)}\\right)\\\\0\\end{matrix}\\right]$"
      ],
      "text/plain": [
       "Matrix([\n",
       "[                                                                                                                                                                                                                                                                                                                                                                                                                                                                                                                                                                                                                                                                                                                                                                                                                                                                                                                                                                                             0],\n",
       "[                                                                                                                                                                                                                                                                                                                                                                                                                                                                                                                                                                                                                                                                                                                                                                                                                                                                                                                                                                                             0],\n",
       "[-\\lambda*(0.166666666666667*sin(q_4)*sin(q_3 + q_5) - 0.0833333333333333*sqrt(2)*sin(q_3 - q_4 + q_5 - q_6) + 0.166666666666667*cos(q_4)*cos(q_3 + q_5) + 0.0833333333333333*sqrt(2)*cos(q_3 - q_4 + q_5 - q_6)) + 0.0833333333333333*sqrt(2)*\\lambda*sin(q_5)*cos(-q_3 + q_4 + q_6) - 0.0833333333333333*sqrt(2)*\\lambda*sin(q_6)*sin(q_3 - q_4 + q_5) + 0.166666666666667*\\lambda*sin(q_3 - q_4)*sin(q_5 + pi/4)*cos(q_6) - 0.166666666666667*\\lambda*sin(q_6 + pi/4)*cos(q_5)*cos(q_3 - q_4) - 0.166666666666667*\\lambda*sin(q_3 - q_4 + q_5) + 1.0*qd_1^+*cos(q_3) - 1.0*qd_1^-*cos(q_3) + 1.0*qd_2^+*sin(q_3) - 1.0*qd_2^-*sin(q_3) + 1.0*qd_3^+ - 1.0*qd_3^- - (qd_1^+*sin(q_3 + q_5) - qd_2^+*cos(q_3 + q_5) + qd_3^+*sin(q_5))*sin(q_5) - (qd_1^+*cos(q_3 + q_5) + qd_2^+*sin(q_3 + q_5) + qd_3^+*cos(q_5))*cos(q_5) + 1.0*(qd_1^-*sin(q_3 + q_5) - qd_2^-*cos(q_3 + q_5) + qd_3^-*sin(q_5))*sin(q_5) + 1.0*(qd_1^-*cos(q_3 + q_5) + qd_2^-*sin(q_3 + q_5) + qd_3^-*cos(q_5))*cos(q_5)],\n",
       "[-\\lambda*(0.166666666666667*sin(q_4)*cos(q_3 + q_5) - 0.166666666666667*sin(q_3 + q_5)*cos(q_4) + 0.0833333333333333*sqrt(2)*sin(q_3 - q_4 + q_5 - q_6) - 0.0833333333333333*sqrt(2)*cos(q_3 - q_4 + q_5 - q_6)) - 0.0833333333333333*sqrt(2)*\\lambda*sin(q_5)*cos(-q_3 + q_4 + q_6) + 0.0833333333333333*sqrt(2)*\\lambda*sin(q_6)*sin(q_3 - q_4 + q_5) - 0.166666666666667*\\lambda*sin(q_3 - q_4)*sin(q_5 + pi/4)*cos(q_6) + 0.166666666666667*\\lambda*sin(q_6 + pi/4)*cos(q_5)*cos(q_3 - q_4) + 0.166666666666667*\\lambda*cos(q_3 - q_4 + q_5) - 1.0*qd_1^+*cos(q_4) + 1.0*qd_1^-*cos(q_4) - 1.0*qd_2^+*sin(q_4) + 1.0*qd_2^-*sin(q_4) - 1.0*qd_4^+ + 1.0*qd_4^- + (qd_1^+*sin(q_4 + q_6) - qd_2^+*cos(q_4 + q_6) + qd_4^+*sin(q_6))*sin(q_6) + (qd_1^+*cos(q_4 + q_6) + qd_2^+*sin(q_4 + q_6) + qd_4^+*cos(q_6))*cos(q_6) - 1.0*(qd_1^-*sin(q_4 + q_6) - qd_2^-*cos(q_4 + q_6) + qd_4^-*sin(q_6))*sin(q_6) - 1.0*(qd_1^-*cos(q_4 + q_6) + qd_2^-*sin(q_4 + q_6) + qd_4^-*cos(q_6))*cos(q_6)],\n",
       "[                                                                                                                                                                                                                                                                                                                                                                             \\lambda*(0.166666666666667*sin(q_3)*sin(q_3 + q_5) - 0.166666666666667*sin(q_4)*sin(q_3 + q_5) + 0.0833333333333333*sqrt(2)*sin(q_3 - q_4 + q_5 - q_6) + 0.166666666666667*cos(q_3)*cos(q_3 + q_5) - 0.166666666666667*cos(q_4)*cos(q_3 + q_5) - 0.0833333333333333*sqrt(2)*cos(q_3 - q_4 + q_5 - q_6)) - \\lambda*(0.166666666666667*sin(q_3)*cos(q_3 + q_5) - 0.166666666666667*sin(q_4)*cos(q_3 + q_5) - 0.166666666666667*sin(q_3 + q_5)*cos(q_3) + 0.166666666666667*sin(q_3 + q_5)*cos(q_4) - 0.0833333333333333*sqrt(2)*sin(q_3 - q_4 + q_5 - q_6) + 0.0833333333333333*sqrt(2)*cos(q_3 - q_4 + q_5 - q_6))],\n",
       "[                                                                                                                                                                                                                                                                                                                                                                                                                                                                                                                                                                                                                                                                                                                                                                                                                                                                                                  -0.166666666666667*sqrt(2)*\\lambda*(sin(q_3 - q_4 + q_5 - q_6) - cos(q_3 - q_4 + q_5 - q_6))],\n",
       "[                                                                                                                                                                                                                                                                                                                                                                                                                                                                                                                                                                                                                                                                                                                                                                                                                                                                                                                                                                                             0]])"
      ]
     },
     "metadata": {},
     "output_type": "display_data"
    },
    {
     "name": "stdout",
     "output_type": "stream",
     "text": [
      "\n"
     ]
    },
    {
     "data": {
      "text/latex": [
       "$\\displaystyle \\left[\\begin{matrix}0\\\\0\\\\0\\\\0\\\\0\\\\0\\\\0\\end{matrix}\\right]$"
      ],
      "text/plain": [
       "Matrix([\n",
       "[0],\n",
       "[0],\n",
       "[0],\n",
       "[0],\n",
       "[0],\n",
       "[0],\n",
       "[0]])"
      ]
     },
     "metadata": {},
     "output_type": "display_data"
    },
    {
     "name": "stdout",
     "output_type": "stream",
     "text": [
      "\n"
     ]
    },
    {
     "data": {
      "text/latex": [
       "$\\displaystyle \\left[\\begin{matrix}0\\\\0\\\\\\lambda \\left(0.166666666666667 \\sin{\\left(q_{4} \\right)} \\sin{\\left(q_{3} + q_{5} \\right)} - 0.0833333333333333 \\sqrt{2} \\sin{\\left(q_{3} - q_{4} + q_{5} - q_{6} \\right)} + 0.166666666666667 \\cos{\\left(q_{4} \\right)} \\cos{\\left(q_{3} + q_{5} \\right)} + 0.0833333333333333 \\sqrt{2} \\cos{\\left(q_{3} - q_{4} + q_{5} - q_{6} \\right)}\\right) + 0.0833333333333333 \\sqrt{2} \\lambda \\sin{\\left(q_{5} \\right)} \\sin{\\left(- q_{3} + q_{4} + q_{6} \\right)} - 0.0833333333333333 \\sqrt{2} \\lambda \\sin{\\left(q_{6} \\right)} \\cos{\\left(q_{3} - q_{4} + q_{5} \\right)} + 0.166666666666667 \\lambda \\sin{\\left(q_{3} - q_{4} \\right)} \\sin{\\left(q_{6} + \\frac{\\pi}{4} \\right)} \\cos{\\left(q_{5} \\right)} + 0.166666666666667 \\lambda \\sin{\\left(q_{5} + \\frac{\\pi}{4} \\right)} \\cos{\\left(q_{6} \\right)} \\cos{\\left(q_{3} - q_{4} \\right)} + 0.166666666666667 \\lambda \\sin{\\left(q_{3} - q_{4} + q_{5} \\right)} - 1.0 qd^{+}_{1} \\cos{\\left(q_{3} \\right)} + 1.0 qd^{-}_{1} \\cos{\\left(q_{3} \\right)} - 1.0 qd^{+}_{2} \\sin{\\left(q_{3} \\right)} + 1.0 qd^{-}_{2} \\sin{\\left(q_{3} \\right)} - 1.0 qd^{+}_{3} + 1.0 qd^{-}_{3} + \\left(qd^{+}_{1} \\sin{\\left(q_{3} + q_{5} \\right)} - qd^{+}_{2} \\cos{\\left(q_{3} + q_{5} \\right)} + qd^{+}_{3} \\sin{\\left(q_{5} \\right)}\\right) \\sin{\\left(q_{5} \\right)} + \\left(qd^{+}_{1} \\cos{\\left(q_{3} + q_{5} \\right)} + qd^{+}_{2} \\sin{\\left(q_{3} + q_{5} \\right)} + qd^{+}_{3} \\cos{\\left(q_{5} \\right)}\\right) \\cos{\\left(q_{5} \\right)} - 1.0 \\left(qd^{-}_{1} \\sin{\\left(q_{3} + q_{5} \\right)} - qd^{-}_{2} \\cos{\\left(q_{3} + q_{5} \\right)} + qd^{-}_{3} \\sin{\\left(q_{5} \\right)}\\right) \\sin{\\left(q_{5} \\right)} - 1.0 \\left(qd^{-}_{1} \\cos{\\left(q_{3} + q_{5} \\right)} + qd^{-}_{2} \\sin{\\left(q_{3} + q_{5} \\right)} + qd^{-}_{3} \\cos{\\left(q_{5} \\right)}\\right) \\cos{\\left(q_{5} \\right)}\\\\- \\lambda \\left(- 0.166666666666667 \\sin{\\left(q_{4} \\right)} \\cos{\\left(q_{3} + q_{5} \\right)} + 0.166666666666667 \\sin{\\left(q_{3} + q_{5} \\right)} \\cos{\\left(q_{4} \\right)} + 0.0833333333333333 \\sqrt{2} \\sin{\\left(q_{3} - q_{4} + q_{5} - q_{6} \\right)} + 0.0833333333333333 \\sqrt{2} \\cos{\\left(q_{3} - q_{4} + q_{5} - q_{6} \\right)}\\right) + 0.0833333333333333 \\sqrt{2} \\lambda \\sin{\\left(q_{5} \\right)} \\cos{\\left(- q_{3} + q_{4} + q_{6} \\right)} - 0.0833333333333333 \\sqrt{2} \\lambda \\sin{\\left(q_{6} \\right)} \\sin{\\left(q_{3} - q_{4} + q_{5} \\right)} + 0.166666666666667 \\lambda \\sin{\\left(q_{3} - q_{4} \\right)} \\sin{\\left(q_{5} + \\frac{\\pi}{4} \\right)} \\cos{\\left(q_{6} \\right)} - 0.166666666666667 \\lambda \\sin{\\left(q_{6} + \\frac{\\pi}{4} \\right)} \\cos{\\left(q_{5} \\right)} \\cos{\\left(q_{3} - q_{4} \\right)} - 0.166666666666667 \\lambda \\cos{\\left(q_{3} - q_{4} + q_{5} \\right)} + 1.0 qd^{+}_{1} \\cos{\\left(q_{4} \\right)} - 1.0 qd^{-}_{1} \\cos{\\left(q_{4} \\right)} + 1.0 qd^{+}_{2} \\sin{\\left(q_{4} \\right)} - 1.0 qd^{-}_{2} \\sin{\\left(q_{4} \\right)} + 1.0 qd^{+}_{4} - 1.0 qd^{-}_{4} - \\left(qd^{+}_{1} \\sin{\\left(q_{4} + q_{6} \\right)} - qd^{+}_{2} \\cos{\\left(q_{4} + q_{6} \\right)} + qd^{+}_{4} \\sin{\\left(q_{6} \\right)}\\right) \\sin{\\left(q_{6} \\right)} - \\left(qd^{+}_{1} \\cos{\\left(q_{4} + q_{6} \\right)} + qd^{+}_{2} \\sin{\\left(q_{4} + q_{6} \\right)} + qd^{+}_{4} \\cos{\\left(q_{6} \\right)}\\right) \\cos{\\left(q_{6} \\right)} + 1.0 \\left(qd^{-}_{1} \\sin{\\left(q_{4} + q_{6} \\right)} - qd^{-}_{2} \\cos{\\left(q_{4} + q_{6} \\right)} + qd^{-}_{4} \\sin{\\left(q_{6} \\right)}\\right) \\sin{\\left(q_{6} \\right)} + 1.0 \\left(qd^{-}_{1} \\cos{\\left(q_{4} + q_{6} \\right)} + qd^{-}_{2} \\sin{\\left(q_{4} + q_{6} \\right)} + qd^{-}_{4} \\cos{\\left(q_{6} \\right)}\\right) \\cos{\\left(q_{6} \\right)}\\\\- \\lambda \\left(0.166666666666667 \\sin{\\left(q_{3} \\right)} \\sin{\\left(q_{3} + q_{5} \\right)} - 0.166666666666667 \\sin{\\left(q_{4} \\right)} \\sin{\\left(q_{3} + q_{5} \\right)} + 0.0833333333333333 \\sqrt{2} \\sin{\\left(q_{3} - q_{4} + q_{5} - q_{6} \\right)} + 0.166666666666667 \\cos{\\left(q_{3} \\right)} \\cos{\\left(q_{3} + q_{5} \\right)} - 0.166666666666667 \\cos{\\left(q_{4} \\right)} \\cos{\\left(q_{3} + q_{5} \\right)} - 0.0833333333333333 \\sqrt{2} \\cos{\\left(q_{3} - q_{4} + q_{5} - q_{6} \\right)}\\right) + \\lambda \\left(0.166666666666667 \\sin{\\left(q_{3} \\right)} \\cos{\\left(q_{3} + q_{5} \\right)} - 0.166666666666667 \\sin{\\left(q_{4} \\right)} \\cos{\\left(q_{3} + q_{5} \\right)} - 0.166666666666667 \\sin{\\left(q_{3} + q_{5} \\right)} \\cos{\\left(q_{3} \\right)} + 0.166666666666667 \\sin{\\left(q_{3} + q_{5} \\right)} \\cos{\\left(q_{4} \\right)} + 0.0833333333333333 \\sqrt{2} \\sin{\\left(q_{3} - q_{4} + q_{5} - q_{6} \\right)} + 0.0833333333333333 \\sqrt{2} \\cos{\\left(q_{3} - q_{4} + q_{5} - q_{6} \\right)}\\right)\\\\0.0833333333333333 \\sqrt{2} \\lambda \\left(\\sin{\\left(q_{3} - q_{4} + q_{5} - q_{6} \\right)} - \\cos{\\left(q_{3} - q_{4} + q_{5} - q_{6} \\right)}\\right) - 0.0833333333333333 \\sqrt{2} \\lambda \\left(\\sin{\\left(q_{3} - q_{4} + q_{5} - q_{6} \\right)} + \\cos{\\left(q_{3} - q_{4} + q_{5} - q_{6} \\right)}\\right)\\\\0\\end{matrix}\\right]$"
      ],
      "text/plain": [
       "Matrix([\n",
       "[                                                                                                                                                                                                                                                                                                                                                                                                                                                                                                                                                                                                                                                                                                                                                                                                                                                                                                                                                                                              0],\n",
       "[                                                                                                                                                                                                                                                                                                                                                                                                                                                                                                                                                                                                                                                                                                                                                                                                                                                                                                                                                                                              0],\n",
       "[  \\lambda*(0.166666666666667*sin(q_4)*sin(q_3 + q_5) - 0.0833333333333333*sqrt(2)*sin(q_3 - q_4 + q_5 - q_6) + 0.166666666666667*cos(q_4)*cos(q_3 + q_5) + 0.0833333333333333*sqrt(2)*cos(q_3 - q_4 + q_5 - q_6)) + 0.0833333333333333*sqrt(2)*\\lambda*sin(q_5)*sin(-q_3 + q_4 + q_6) - 0.0833333333333333*sqrt(2)*\\lambda*sin(q_6)*cos(q_3 - q_4 + q_5) + 0.166666666666667*\\lambda*sin(q_3 - q_4)*sin(q_6 + pi/4)*cos(q_5) + 0.166666666666667*\\lambda*sin(q_5 + pi/4)*cos(q_6)*cos(q_3 - q_4) + 0.166666666666667*\\lambda*sin(q_3 - q_4 + q_5) - 1.0*qd_1^+*cos(q_3) + 1.0*qd_1^-*cos(q_3) - 1.0*qd_2^+*sin(q_3) + 1.0*qd_2^-*sin(q_3) - 1.0*qd_3^+ + 1.0*qd_3^- + (qd_1^+*sin(q_3 + q_5) - qd_2^+*cos(q_3 + q_5) + qd_3^+*sin(q_5))*sin(q_5) + (qd_1^+*cos(q_3 + q_5) + qd_2^+*sin(q_3 + q_5) + qd_3^+*cos(q_5))*cos(q_5) - 1.0*(qd_1^-*sin(q_3 + q_5) - qd_2^-*cos(q_3 + q_5) + qd_3^-*sin(q_5))*sin(q_5) - 1.0*(qd_1^-*cos(q_3 + q_5) + qd_2^-*sin(q_3 + q_5) + qd_3^-*cos(q_5))*cos(q_5)],\n",
       "[-\\lambda*(-0.166666666666667*sin(q_4)*cos(q_3 + q_5) + 0.166666666666667*sin(q_3 + q_5)*cos(q_4) + 0.0833333333333333*sqrt(2)*sin(q_3 - q_4 + q_5 - q_6) + 0.0833333333333333*sqrt(2)*cos(q_3 - q_4 + q_5 - q_6)) + 0.0833333333333333*sqrt(2)*\\lambda*sin(q_5)*cos(-q_3 + q_4 + q_6) - 0.0833333333333333*sqrt(2)*\\lambda*sin(q_6)*sin(q_3 - q_4 + q_5) + 0.166666666666667*\\lambda*sin(q_3 - q_4)*sin(q_5 + pi/4)*cos(q_6) - 0.166666666666667*\\lambda*sin(q_6 + pi/4)*cos(q_5)*cos(q_3 - q_4) - 0.166666666666667*\\lambda*cos(q_3 - q_4 + q_5) + 1.0*qd_1^+*cos(q_4) - 1.0*qd_1^-*cos(q_4) + 1.0*qd_2^+*sin(q_4) - 1.0*qd_2^-*sin(q_4) + 1.0*qd_4^+ - 1.0*qd_4^- - (qd_1^+*sin(q_4 + q_6) - qd_2^+*cos(q_4 + q_6) + qd_4^+*sin(q_6))*sin(q_6) - (qd_1^+*cos(q_4 + q_6) + qd_2^+*sin(q_4 + q_6) + qd_4^+*cos(q_6))*cos(q_6) + 1.0*(qd_1^-*sin(q_4 + q_6) - qd_2^-*cos(q_4 + q_6) + qd_4^-*sin(q_6))*sin(q_6) + 1.0*(qd_1^-*cos(q_4 + q_6) + qd_2^-*sin(q_4 + q_6) + qd_4^-*cos(q_6))*cos(q_6)],\n",
       "[                                                                                                                                                                                                                                                                                                                                                                             -\\lambda*(0.166666666666667*sin(q_3)*sin(q_3 + q_5) - 0.166666666666667*sin(q_4)*sin(q_3 + q_5) + 0.0833333333333333*sqrt(2)*sin(q_3 - q_4 + q_5 - q_6) + 0.166666666666667*cos(q_3)*cos(q_3 + q_5) - 0.166666666666667*cos(q_4)*cos(q_3 + q_5) - 0.0833333333333333*sqrt(2)*cos(q_3 - q_4 + q_5 - q_6)) + \\lambda*(0.166666666666667*sin(q_3)*cos(q_3 + q_5) - 0.166666666666667*sin(q_4)*cos(q_3 + q_5) - 0.166666666666667*sin(q_3 + q_5)*cos(q_3) + 0.166666666666667*sin(q_3 + q_5)*cos(q_4) + 0.0833333333333333*sqrt(2)*sin(q_3 - q_4 + q_5 - q_6) + 0.0833333333333333*sqrt(2)*cos(q_3 - q_4 + q_5 - q_6))],\n",
       "[                                                                                                                                                                                                                                                                                                                                                                                                                                                                                                                                                                                                                                                                                                                                                                                                    0.0833333333333333*sqrt(2)*\\lambda*(sin(q_3 - q_4 + q_5 - q_6) - cos(q_3 - q_4 + q_5 - q_6)) - 0.0833333333333333*sqrt(2)*\\lambda*(sin(q_3 - q_4 + q_5 - q_6) + cos(q_3 - q_4 + q_5 - q_6))],\n",
       "[                                                                                                                                                                                                                                                                                                                                                                                                                                                                                                                                                                                                                                                                                                                                                                                                                                                                                                                                                                                              0]])"
      ]
     },
     "metadata": {},
     "output_type": "display_data"
    },
    {
     "name": "stdout",
     "output_type": "stream",
     "text": [
      "\n"
     ]
    },
    {
     "data": {
      "text/latex": [
       "$\\displaystyle \\left[\\begin{matrix}0\\\\0\\\\0\\\\0\\\\0\\\\0\\\\0\\end{matrix}\\right]$"
      ],
      "text/plain": [
       "Matrix([\n",
       "[0],\n",
       "[0],\n",
       "[0],\n",
       "[0],\n",
       "[0],\n",
       "[0],\n",
       "[0]])"
      ]
     },
     "metadata": {},
     "output_type": "display_data"
    },
    {
     "name": "stdout",
     "output_type": "stream",
     "text": [
      "\n"
     ]
    },
    {
     "data": {
      "text/latex": [
       "$\\displaystyle \\left[\\begin{matrix}0\\\\0\\\\- \\lambda \\left(0.166666666666667 \\sin{\\left(q_{4} \\right)} \\sin{\\left(q_{3} + q_{5} \\right)} + 0.0833333333333333 \\sqrt{2} \\sin{\\left(q_{3} - q_{4} + q_{5} - q_{6} \\right)} + 0.166666666666667 \\cos{\\left(q_{4} \\right)} \\cos{\\left(q_{3} + q_{5} \\right)} + 0.0833333333333333 \\sqrt{2} \\cos{\\left(q_{3} - q_{4} + q_{5} - q_{6} \\right)}\\right) - 0.0833333333333333 \\sqrt{2} \\lambda \\sin{\\left(q_{5} \\right)} \\sin{\\left(- q_{3} + q_{4} + q_{6} \\right)} + 0.0833333333333333 \\sqrt{2} \\lambda \\sin{\\left(q_{6} \\right)} \\cos{\\left(q_{3} - q_{4} + q_{5} \\right)} - 0.166666666666667 \\lambda \\sin{\\left(q_{3} - q_{4} \\right)} \\sin{\\left(q_{6} + \\frac{\\pi}{4} \\right)} \\cos{\\left(q_{5} \\right)} - 0.166666666666667 \\lambda \\sin{\\left(q_{5} + \\frac{\\pi}{4} \\right)} \\cos{\\left(q_{6} \\right)} \\cos{\\left(q_{3} - q_{4} \\right)} - 0.166666666666667 \\lambda \\sin{\\left(q_{3} - q_{4} + q_{5} \\right)} + 1.0 qd^{+}_{1} \\cos{\\left(q_{3} \\right)} - 1.0 qd^{-}_{1} \\cos{\\left(q_{3} \\right)} + 1.0 qd^{+}_{2} \\sin{\\left(q_{3} \\right)} - 1.0 qd^{-}_{2} \\sin{\\left(q_{3} \\right)} + 1.0 qd^{+}_{3} - 1.0 qd^{-}_{3} - \\left(qd^{+}_{1} \\sin{\\left(q_{3} + q_{5} \\right)} - qd^{+}_{2} \\cos{\\left(q_{3} + q_{5} \\right)} + qd^{+}_{3} \\sin{\\left(q_{5} \\right)}\\right) \\sin{\\left(q_{5} \\right)} - \\left(qd^{+}_{1} \\cos{\\left(q_{3} + q_{5} \\right)} + qd^{+}_{2} \\sin{\\left(q_{3} + q_{5} \\right)} + qd^{+}_{3} \\cos{\\left(q_{5} \\right)}\\right) \\cos{\\left(q_{5} \\right)} + 1.0 \\left(qd^{-}_{1} \\sin{\\left(q_{3} + q_{5} \\right)} - qd^{-}_{2} \\cos{\\left(q_{3} + q_{5} \\right)} + qd^{-}_{3} \\sin{\\left(q_{5} \\right)}\\right) \\sin{\\left(q_{5} \\right)} + 1.0 \\left(qd^{-}_{1} \\cos{\\left(q_{3} + q_{5} \\right)} + qd^{-}_{2} \\sin{\\left(q_{3} + q_{5} \\right)} + qd^{-}_{3} \\cos{\\left(q_{5} \\right)}\\right) \\cos{\\left(q_{5} \\right)}\\\\\\lambda \\left(- 0.166666666666667 \\sin{\\left(q_{4} \\right)} \\cos{\\left(q_{3} + q_{5} \\right)} + 0.166666666666667 \\sin{\\left(q_{3} + q_{5} \\right)} \\cos{\\left(q_{4} \\right)} + 0.0833333333333333 \\sqrt{2} \\sin{\\left(q_{3} - q_{4} + q_{5} - q_{6} \\right)} + 0.0833333333333333 \\sqrt{2} \\cos{\\left(q_{3} - q_{4} + q_{5} - q_{6} \\right)}\\right) + 0.0833333333333333 \\sqrt{2} \\lambda \\sin{\\left(q_{5} \\right)} \\sin{\\left(- q_{3} + q_{4} + q_{6} \\right)} - 0.0833333333333333 \\sqrt{2} \\lambda \\sin{\\left(q_{6} \\right)} \\cos{\\left(q_{3} - q_{4} + q_{5} \\right)} + 0.166666666666667 \\lambda \\sin{\\left(q_{3} - q_{4} \\right)} \\sin{\\left(q_{6} + \\frac{\\pi}{4} \\right)} \\cos{\\left(q_{5} \\right)} + 0.166666666666667 \\lambda \\sin{\\left(q_{5} + \\frac{\\pi}{4} \\right)} \\cos{\\left(q_{6} \\right)} \\cos{\\left(q_{3} - q_{4} \\right)} + 0.166666666666667 \\lambda \\cos{\\left(q_{3} - q_{4} + q_{5} \\right)} - 1.0 qd^{+}_{1} \\cos{\\left(q_{4} \\right)} + 1.0 qd^{-}_{1} \\cos{\\left(q_{4} \\right)} - 1.0 qd^{+}_{2} \\sin{\\left(q_{4} \\right)} + 1.0 qd^{-}_{2} \\sin{\\left(q_{4} \\right)} - 1.0 qd^{+}_{4} + 1.0 qd^{-}_{4} + \\left(qd^{+}_{1} \\sin{\\left(q_{4} + q_{6} \\right)} - qd^{+}_{2} \\cos{\\left(q_{4} + q_{6} \\right)} + qd^{+}_{4} \\sin{\\left(q_{6} \\right)}\\right) \\sin{\\left(q_{6} \\right)} + \\left(qd^{+}_{1} \\cos{\\left(q_{4} + q_{6} \\right)} + qd^{+}_{2} \\sin{\\left(q_{4} + q_{6} \\right)} + qd^{+}_{4} \\cos{\\left(q_{6} \\right)}\\right) \\cos{\\left(q_{6} \\right)} - 1.0 \\left(qd^{-}_{1} \\sin{\\left(q_{4} + q_{6} \\right)} - qd^{-}_{2} \\cos{\\left(q_{4} + q_{6} \\right)} + qd^{-}_{4} \\sin{\\left(q_{6} \\right)}\\right) \\sin{\\left(q_{6} \\right)} - 1.0 \\left(qd^{-}_{1} \\cos{\\left(q_{4} + q_{6} \\right)} + qd^{-}_{2} \\sin{\\left(q_{4} + q_{6} \\right)} + qd^{-}_{4} \\cos{\\left(q_{6} \\right)}\\right) \\cos{\\left(q_{6} \\right)}\\\\- \\lambda \\left(- 0.166666666666667 \\sin{\\left(q_{3} \\right)} \\sin{\\left(q_{3} + q_{5} \\right)} + 0.166666666666667 \\sin{\\left(q_{4} \\right)} \\sin{\\left(q_{3} + q_{5} \\right)} + 0.0833333333333333 \\sqrt{2} \\sin{\\left(q_{3} - q_{4} + q_{5} - q_{6} \\right)} - 0.166666666666667 \\cos{\\left(q_{3} \\right)} \\cos{\\left(q_{3} + q_{5} \\right)} + 0.166666666666667 \\cos{\\left(q_{4} \\right)} \\cos{\\left(q_{3} + q_{5} \\right)} + 0.0833333333333333 \\sqrt{2} \\cos{\\left(q_{3} - q_{4} + q_{5} - q_{6} \\right)}\\right) - \\lambda \\left(0.166666666666667 \\sin{\\left(q_{3} \\right)} \\cos{\\left(q_{3} + q_{5} \\right)} - 0.166666666666667 \\sin{\\left(q_{4} \\right)} \\cos{\\left(q_{3} + q_{5} \\right)} - 0.166666666666667 \\sin{\\left(q_{3} + q_{5} \\right)} \\cos{\\left(q_{3} \\right)} + 0.166666666666667 \\sin{\\left(q_{3} + q_{5} \\right)} \\cos{\\left(q_{4} \\right)} + 0.0833333333333333 \\sqrt{2} \\sin{\\left(q_{3} - q_{4} + q_{5} - q_{6} \\right)} + 0.0833333333333333 \\sqrt{2} \\cos{\\left(q_{3} - q_{4} + q_{5} - q_{6} \\right)}\\right)\\\\0.166666666666667 \\sqrt{2} \\lambda \\left(\\sin{\\left(q_{3} - q_{4} + q_{5} - q_{6} \\right)} + \\cos{\\left(q_{3} - q_{4} + q_{5} - q_{6} \\right)}\\right)\\\\0\\end{matrix}\\right]$"
      ],
      "text/plain": [
       "Matrix([\n",
       "[                                                                                                                                                                                                                                                                                                                                                                                                                                                                                                                                                                                                                                                                                                                                                                                                                                                                                                                                                                                             0],\n",
       "[                                                                                                                                                                                                                                                                                                                                                                                                                                                                                                                                                                                                                                                                                                                                                                                                                                                                                                                                                                                             0],\n",
       "[-\\lambda*(0.166666666666667*sin(q_4)*sin(q_3 + q_5) + 0.0833333333333333*sqrt(2)*sin(q_3 - q_4 + q_5 - q_6) + 0.166666666666667*cos(q_4)*cos(q_3 + q_5) + 0.0833333333333333*sqrt(2)*cos(q_3 - q_4 + q_5 - q_6)) - 0.0833333333333333*sqrt(2)*\\lambda*sin(q_5)*sin(-q_3 + q_4 + q_6) + 0.0833333333333333*sqrt(2)*\\lambda*sin(q_6)*cos(q_3 - q_4 + q_5) - 0.166666666666667*\\lambda*sin(q_3 - q_4)*sin(q_6 + pi/4)*cos(q_5) - 0.166666666666667*\\lambda*sin(q_5 + pi/4)*cos(q_6)*cos(q_3 - q_4) - 0.166666666666667*\\lambda*sin(q_3 - q_4 + q_5) + 1.0*qd_1^+*cos(q_3) - 1.0*qd_1^-*cos(q_3) + 1.0*qd_2^+*sin(q_3) - 1.0*qd_2^-*sin(q_3) + 1.0*qd_3^+ - 1.0*qd_3^- - (qd_1^+*sin(q_3 + q_5) - qd_2^+*cos(q_3 + q_5) + qd_3^+*sin(q_5))*sin(q_5) - (qd_1^+*cos(q_3 + q_5) + qd_2^+*sin(q_3 + q_5) + qd_3^+*cos(q_5))*cos(q_5) + 1.0*(qd_1^-*sin(q_3 + q_5) - qd_2^-*cos(q_3 + q_5) + qd_3^-*sin(q_5))*sin(q_5) + 1.0*(qd_1^-*cos(q_3 + q_5) + qd_2^-*sin(q_3 + q_5) + qd_3^-*cos(q_5))*cos(q_5)],\n",
       "[\\lambda*(-0.166666666666667*sin(q_4)*cos(q_3 + q_5) + 0.166666666666667*sin(q_3 + q_5)*cos(q_4) + 0.0833333333333333*sqrt(2)*sin(q_3 - q_4 + q_5 - q_6) + 0.0833333333333333*sqrt(2)*cos(q_3 - q_4 + q_5 - q_6)) + 0.0833333333333333*sqrt(2)*\\lambda*sin(q_5)*sin(-q_3 + q_4 + q_6) - 0.0833333333333333*sqrt(2)*\\lambda*sin(q_6)*cos(q_3 - q_4 + q_5) + 0.166666666666667*\\lambda*sin(q_3 - q_4)*sin(q_6 + pi/4)*cos(q_5) + 0.166666666666667*\\lambda*sin(q_5 + pi/4)*cos(q_6)*cos(q_3 - q_4) + 0.166666666666667*\\lambda*cos(q_3 - q_4 + q_5) - 1.0*qd_1^+*cos(q_4) + 1.0*qd_1^-*cos(q_4) - 1.0*qd_2^+*sin(q_4) + 1.0*qd_2^-*sin(q_4) - 1.0*qd_4^+ + 1.0*qd_4^- + (qd_1^+*sin(q_4 + q_6) - qd_2^+*cos(q_4 + q_6) + qd_4^+*sin(q_6))*sin(q_6) + (qd_1^+*cos(q_4 + q_6) + qd_2^+*sin(q_4 + q_6) + qd_4^+*cos(q_6))*cos(q_6) - 1.0*(qd_1^-*sin(q_4 + q_6) - qd_2^-*cos(q_4 + q_6) + qd_4^-*sin(q_6))*sin(q_6) - 1.0*(qd_1^-*cos(q_4 + q_6) + qd_2^-*sin(q_4 + q_6) + qd_4^-*cos(q_6))*cos(q_6)],\n",
       "[                                                                                                                                                                                                                                                                                                                                                                           -\\lambda*(-0.166666666666667*sin(q_3)*sin(q_3 + q_5) + 0.166666666666667*sin(q_4)*sin(q_3 + q_5) + 0.0833333333333333*sqrt(2)*sin(q_3 - q_4 + q_5 - q_6) - 0.166666666666667*cos(q_3)*cos(q_3 + q_5) + 0.166666666666667*cos(q_4)*cos(q_3 + q_5) + 0.0833333333333333*sqrt(2)*cos(q_3 - q_4 + q_5 - q_6)) - \\lambda*(0.166666666666667*sin(q_3)*cos(q_3 + q_5) - 0.166666666666667*sin(q_4)*cos(q_3 + q_5) - 0.166666666666667*sin(q_3 + q_5)*cos(q_3) + 0.166666666666667*sin(q_3 + q_5)*cos(q_4) + 0.0833333333333333*sqrt(2)*sin(q_3 - q_4 + q_5 - q_6) + 0.0833333333333333*sqrt(2)*cos(q_3 - q_4 + q_5 - q_6))],\n",
       "[                                                                                                                                                                                                                                                                                                                                                                                                                                                                                                                                                                                                                                                                                                                                                                                                                                                                                                   0.166666666666667*sqrt(2)*\\lambda*(sin(q_3 - q_4 + q_5 - q_6) + cos(q_3 - q_4 + q_5 - q_6))],\n",
       "[                                                                                                                                                                                                                                                                                                                                                                                                                                                                                                                                                                                                                                                                                                                                                                                                                                                                                                                                                                                             0]])"
      ]
     },
     "metadata": {},
     "output_type": "display_data"
    },
    {
     "name": "stdout",
     "output_type": "stream",
     "text": [
      "\n"
     ]
    },
    {
     "data": {
      "text/latex": [
       "$\\displaystyle \\left[\\begin{matrix}0\\\\0\\\\0\\\\0\\\\0\\\\0\\\\0\\end{matrix}\\right]$"
      ],
      "text/plain": [
       "Matrix([\n",
       "[0],\n",
       "[0],\n",
       "[0],\n",
       "[0],\n",
       "[0],\n",
       "[0],\n",
       "[0]])"
      ]
     },
     "metadata": {},
     "output_type": "display_data"
    },
    {
     "name": "stdout",
     "output_type": "stream",
     "text": [
      "\n"
     ]
    },
    {
     "data": {
      "text/latex": [
       "$\\displaystyle \\left[\\begin{matrix}0\\\\0\\\\\\lambda \\left(0.166666666666667 \\sin{\\left(q_{4} \\right)} \\sin{\\left(q_{3} + q_{5} \\right)} + 0.0833333333333333 \\sqrt{2} \\sin{\\left(q_{3} - q_{4} + q_{5} - q_{6} \\right)} + 0.166666666666667 \\cos{\\left(q_{4} \\right)} \\cos{\\left(q_{3} + q_{5} \\right)} + 0.0833333333333333 \\sqrt{2} \\cos{\\left(q_{3} - q_{4} + q_{5} - q_{6} \\right)}\\right) - \\lambda \\left(0.166666666666667 \\sin{\\left(q_{4} \\right)} \\cos{\\left(q_{3} + q_{5} \\right)} - 0.166666666666667 \\sin{\\left(q_{3} + q_{5} \\right)} \\cos{\\left(q_{4} \\right)} - 0.0833333333333333 \\sqrt{2} \\sin{\\left(q_{3} - q_{4} + q_{5} - q_{6} \\right)} + 0.0833333333333333 \\sqrt{2} \\cos{\\left(q_{3} - q_{4} + q_{5} - q_{6} \\right)}\\right)\\\\- 0.0833333333333333 \\sqrt{2} \\lambda \\sin{\\left(q_{5} \\right)} \\sin{\\left(- q_{3} + q_{4} + q_{6} \\right)} - 0.0833333333333333 \\sqrt{2} \\lambda \\sin{\\left(q_{5} \\right)} \\cos{\\left(- q_{3} + q_{4} + q_{6} \\right)} + 0.0833333333333333 \\sqrt{2} \\lambda \\sin{\\left(q_{6} \\right)} \\sin{\\left(q_{3} - q_{4} + q_{5} \\right)} + 0.0833333333333333 \\sqrt{2} \\lambda \\sin{\\left(q_{6} \\right)} \\cos{\\left(q_{3} - q_{4} + q_{5} \\right)} - 0.166666666666667 \\lambda \\sin{\\left(q_{3} - q_{4} \\right)} \\sin{\\left(q_{5} + \\frac{\\pi}{4} \\right)} \\cos{\\left(q_{6} \\right)} - 0.166666666666667 \\lambda \\sin{\\left(q_{3} - q_{4} \\right)} \\sin{\\left(q_{6} + \\frac{\\pi}{4} \\right)} \\cos{\\left(q_{5} \\right)} - 0.166666666666667 \\lambda \\sin{\\left(q_{5} + \\frac{\\pi}{4} \\right)} \\cos{\\left(q_{6} \\right)} \\cos{\\left(q_{3} - q_{4} \\right)} + 0.166666666666667 \\lambda \\sin{\\left(q_{6} + \\frac{\\pi}{4} \\right)} \\cos{\\left(q_{5} \\right)} \\cos{\\left(q_{3} - q_{4} \\right)} - 0.166666666666667 \\lambda \\sin{\\left(q_{3} - q_{4} + q_{5} \\right)} - 0.166666666666667 \\lambda \\cos{\\left(q_{3} - q_{4} + q_{5} \\right)}\\\\\\lambda \\left(- 0.166666666666667 \\sin{\\left(q_{3} \\right)} \\sin{\\left(q_{3} + q_{5} \\right)} + 0.166666666666667 \\sin{\\left(q_{4} \\right)} \\sin{\\left(q_{3} + q_{5} \\right)} + 0.0833333333333333 \\sqrt{2} \\sin{\\left(q_{3} - q_{4} + q_{5} - q_{6} \\right)} - 0.166666666666667 \\cos{\\left(q_{3} \\right)} \\cos{\\left(q_{3} + q_{5} \\right)} + 0.166666666666667 \\cos{\\left(q_{4} \\right)} \\cos{\\left(q_{3} + q_{5} \\right)} + 0.0833333333333333 \\sqrt{2} \\cos{\\left(q_{3} - q_{4} + q_{5} - q_{6} \\right)}\\right) + \\lambda \\left(0.166666666666667 \\sin{\\left(q_{3} \\right)} \\cos{\\left(q_{3} + q_{5} \\right)} - 0.166666666666667 \\sin{\\left(q_{4} \\right)} \\cos{\\left(q_{3} + q_{5} \\right)} - 0.166666666666667 \\sin{\\left(q_{3} + q_{5} \\right)} \\cos{\\left(q_{3} \\right)} + 0.166666666666667 \\sin{\\left(q_{3} + q_{5} \\right)} \\cos{\\left(q_{4} \\right)} + 0.0833333333333333 \\sqrt{2} \\sin{\\left(q_{3} - q_{4} + q_{5} - q_{6} \\right)} - 0.0833333333333333 \\sqrt{2} \\cos{\\left(q_{3} - q_{4} + q_{5} - q_{6} \\right)}\\right)\\\\- 0.0833333333333333 \\sqrt{2} \\lambda \\left(\\sin{\\left(q_{3} - q_{4} + q_{5} - q_{6} \\right)} - \\cos{\\left(q_{3} - q_{4} + q_{5} - q_{6} \\right)}\\right) - 0.0833333333333333 \\sqrt{2} \\lambda \\left(\\sin{\\left(q_{3} - q_{4} + q_{5} - q_{6} \\right)} + \\cos{\\left(q_{3} - q_{4} + q_{5} - q_{6} \\right)}\\right)\\\\0\\end{matrix}\\right]$"
      ],
      "text/plain": [
       "Matrix([\n",
       "[                                                                                                                                                                                                                                                                                                                                                                                                                                                                                                                                                                                                                                                             0],\n",
       "[                                                                                                                                                                                                                                                                                                                                                                                                                                                                                                                                                                                                                                                             0],\n",
       "[                                                                                                                                                                                                                             \\lambda*(0.166666666666667*sin(q_4)*sin(q_3 + q_5) + 0.0833333333333333*sqrt(2)*sin(q_3 - q_4 + q_5 - q_6) + 0.166666666666667*cos(q_4)*cos(q_3 + q_5) + 0.0833333333333333*sqrt(2)*cos(q_3 - q_4 + q_5 - q_6)) - \\lambda*(0.166666666666667*sin(q_4)*cos(q_3 + q_5) - 0.166666666666667*sin(q_3 + q_5)*cos(q_4) - 0.0833333333333333*sqrt(2)*sin(q_3 - q_4 + q_5 - q_6) + 0.0833333333333333*sqrt(2)*cos(q_3 - q_4 + q_5 - q_6))],\n",
       "[-0.0833333333333333*sqrt(2)*\\lambda*sin(q_5)*sin(-q_3 + q_4 + q_6) - 0.0833333333333333*sqrt(2)*\\lambda*sin(q_5)*cos(-q_3 + q_4 + q_6) + 0.0833333333333333*sqrt(2)*\\lambda*sin(q_6)*sin(q_3 - q_4 + q_5) + 0.0833333333333333*sqrt(2)*\\lambda*sin(q_6)*cos(q_3 - q_4 + q_5) - 0.166666666666667*\\lambda*sin(q_3 - q_4)*sin(q_5 + pi/4)*cos(q_6) - 0.166666666666667*\\lambda*sin(q_3 - q_4)*sin(q_6 + pi/4)*cos(q_5) - 0.166666666666667*\\lambda*sin(q_5 + pi/4)*cos(q_6)*cos(q_3 - q_4) + 0.166666666666667*\\lambda*sin(q_6 + pi/4)*cos(q_5)*cos(q_3 - q_4) - 0.166666666666667*\\lambda*sin(q_3 - q_4 + q_5) - 0.166666666666667*\\lambda*cos(q_3 - q_4 + q_5)],\n",
       "[                                            \\lambda*(-0.166666666666667*sin(q_3)*sin(q_3 + q_5) + 0.166666666666667*sin(q_4)*sin(q_3 + q_5) + 0.0833333333333333*sqrt(2)*sin(q_3 - q_4 + q_5 - q_6) - 0.166666666666667*cos(q_3)*cos(q_3 + q_5) + 0.166666666666667*cos(q_4)*cos(q_3 + q_5) + 0.0833333333333333*sqrt(2)*cos(q_3 - q_4 + q_5 - q_6)) + \\lambda*(0.166666666666667*sin(q_3)*cos(q_3 + q_5) - 0.166666666666667*sin(q_4)*cos(q_3 + q_5) - 0.166666666666667*sin(q_3 + q_5)*cos(q_3) + 0.166666666666667*sin(q_3 + q_5)*cos(q_4) + 0.0833333333333333*sqrt(2)*sin(q_3 - q_4 + q_5 - q_6) - 0.0833333333333333*sqrt(2)*cos(q_3 - q_4 + q_5 - q_6))],\n",
       "[                                                                                                                                                                                                                                                                                                                                                                                                                                                                  -0.0833333333333333*sqrt(2)*\\lambda*(sin(q_3 - q_4 + q_5 - q_6) - cos(q_3 - q_4 + q_5 - q_6)) - 0.0833333333333333*sqrt(2)*\\lambda*(sin(q_3 - q_4 + q_5 - q_6) + cos(q_3 - q_4 + q_5 - q_6))],\n",
       "[                                                                                                                                                                                                                                                                                                                                                                                                                                                                                                                                                                                                                                                             0]])"
      ]
     },
     "metadata": {},
     "output_type": "display_data"
    },
    {
     "name": "stdout",
     "output_type": "stream",
     "text": [
      "\n"
     ]
    },
    {
     "data": {
      "text/latex": [
       "$\\displaystyle \\left[\\begin{matrix}0\\\\0\\\\0\\\\0\\\\0\\\\0\\\\0\\end{matrix}\\right]$"
      ],
      "text/plain": [
       "Matrix([\n",
       "[0],\n",
       "[0],\n",
       "[0],\n",
       "[0],\n",
       "[0],\n",
       "[0],\n",
       "[0]])"
      ]
     },
     "metadata": {},
     "output_type": "display_data"
    }
   ],
   "source": [
    "for i in range(len(impact_eqns_0_32)-1):\n",
    "    print()\n",
    "    display(impact_eqns_0_32[i] - impact_eqns_0_32[i+1])\n",
    "    #finding: every other set of impact eqns is the same as the one before it.\n",
    "    #not very useful for numerical solving, since we have to solve at a given state anyway"
   ]
  },
  {
   "cell_type": "code",
   "execution_count": 30,
   "id": "bde7bd3c",
   "metadata": {},
   "outputs": [
    {
     "name": "stdout",
     "output_type": "stream",
     "text": [
      "32\n"
     ]
    }
   ],
   "source": [
    "print(len(impact_eqns_0_32))"
   ]
  },
  {
   "cell_type": "code",
   "execution_count": null,
   "id": "f75c7815",
   "metadata": {},
   "outputs": [],
   "source": [
    "dill_dump('../dill/impact_eqns_0_32.dill', impact_eqns_0_32)"
   ]
  }
 ],
 "metadata": {
  "kernelspec": {
   "display_name": "Python 3 (ipykernel)",
   "language": "python",
   "name": "python3"
  },
  "language_info": {
   "codemirror_mode": {
    "name": "ipython",
    "version": 3
   },
   "file_extension": ".py",
   "mimetype": "text/x-python",
   "name": "python",
   "nbconvert_exporter": "python",
   "pygments_lexer": "ipython3",
   "version": "3.10.7"
  }
 },
 "nbformat": 4,
 "nbformat_minor": 5
}
