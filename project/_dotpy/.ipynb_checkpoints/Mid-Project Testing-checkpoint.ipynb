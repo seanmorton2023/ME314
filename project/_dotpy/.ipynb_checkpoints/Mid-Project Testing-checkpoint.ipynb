{
 "cells": [
  {
   "cell_type": "code",
   "execution_count": 15,
   "id": "d7afbbc9",
   "metadata": {
    "scrolled": false
   },
   "outputs": [],
   "source": [
    "from geometry import *\n",
    "from helpers import *\n",
    "from el_equations import *\n",
    "from impacts import *\n",
    "from plotting_helpers import *\n",
    "from GUI import GUI"
   ]
  },
  {
   "cell_type": "code",
   "execution_count": null,
   "id": "8d247496",
   "metadata": {},
   "outputs": [],
   "source": [
    "lagrangian_f = '../data/lagrangian.dill'\n",
    "lagrangian = dill_load(lagrangian_f)\n",
    "display(lagrangian.simplify())"
   ]
  },
  {
   "cell_type": "code",
   "execution_count": null,
   "id": "d02b786b",
   "metadata": {},
   "outputs": [],
   "source": [
    "pkl_filename = '../data/EL_simplified.dill'\n",
    "eqns_new = dill_load(pkl_filename)\n",
    "for eq in eqns_new:\n",
    "    display(eq)"
   ]
  },
  {
   "cell_type": "code",
   "execution_count": null,
   "id": "0170867a",
   "metadata": {},
   "outputs": [],
   "source": [
    "hamiltonian_f = '../data/hamiltonian.dill'\n",
    "ham = dill_load(hamiltonian_f)\n",
    "display(ham.simplify())"
   ]
  },
  {
   "cell_type": "code",
   "execution_count": 4,
   "id": "eb45185d",
   "metadata": {
    "scrolled": false
   },
   "outputs": [
    {
     "name": "stdout",
     "output_type": "stream",
     "text": [
      "\n",
      "Press any key to simplify the E-L equations.s\n",
      "Simplifying:\n",
      "\n",
      "total_eq.simplify(): \n",
      "Elapsed: 28.68 seconds\n",
      "Euler-Lagrange equations - simplified:\n"
     ]
    },
    {
     "data": {
      "text/latex": [
       "$\\displaystyle \\left[\\begin{matrix}F_{x}\\\\F_{y}\\\\F_{\\theta1}\\\\F_{\\theta2}\\\\F_{\\phi1}\\\\F_{\\phi2}\\end{matrix}\\right] = \\left[\\begin{matrix}- 1.0 \\sin{\\left(\\theta_{1}{\\left(t \\right)} \\right)} \\left(\\frac{d}{d t} \\theta_{1}{\\left(t \\right)}\\right)^{2} - 1.0 \\sin{\\left(\\theta_{2}{\\left(t \\right)} \\right)} \\left(\\frac{d}{d t} \\theta_{2}{\\left(t \\right)}\\right)^{2} + 1.0 \\cos{\\left(\\theta_{1}{\\left(t \\right)} \\right)} \\frac{d^{2}}{d t^{2}} \\theta_{1}{\\left(t \\right)} + 1.0 \\cos{\\left(\\theta_{2}{\\left(t \\right)} \\right)} \\frac{d^{2}}{d t^{2}} \\theta_{2}{\\left(t \\right)} + 2.0 \\frac{d^{2}}{d t^{2}} x{\\left(t \\right)}\\\\1.0 \\sin{\\left(\\theta_{1}{\\left(t \\right)} \\right)} \\frac{d^{2}}{d t^{2}} \\theta_{1}{\\left(t \\right)} + 1.0 \\sin{\\left(\\theta_{2}{\\left(t \\right)} \\right)} \\frac{d^{2}}{d t^{2}} \\theta_{2}{\\left(t \\right)} + 1.0 \\cos{\\left(\\theta_{1}{\\left(t \\right)} \\right)} \\left(\\frac{d}{d t} \\theta_{1}{\\left(t \\right)}\\right)^{2} + 1.0 \\cos{\\left(\\theta_{2}{\\left(t \\right)} \\right)} \\left(\\frac{d}{d t} \\theta_{2}{\\left(t \\right)}\\right)^{2} + 2.0 \\frac{d^{2}}{d t^{2}} y{\\left(t \\right)} + 19.62\\\\1.11022302462516 \\cdot 10^{-16} \\sin^{2}{\\left(\\Phi_{1}{\\left(t \\right)} \\right)} \\sin^{4}{\\left(\\theta_{1}{\\left(t \\right)} \\right)} \\frac{d^{2}}{d t^{2}} \\theta_{1}{\\left(t \\right)} - 1.11022302462516 \\cdot 10^{-16} \\sin^{2}{\\left(\\Phi_{1}{\\left(t \\right)} \\right)} \\sin^{2}{\\left(\\theta_{1}{\\left(t \\right)} \\right)} \\frac{d^{2}}{d t^{2}} \\theta_{1}{\\left(t \\right)} - 9.71445146547012 \\cdot 10^{-17} \\sin^{2}{\\left(\\Phi_{1}{\\left(t \\right)} \\right)} \\frac{d^{2}}{d t^{2}} \\theta_{1}{\\left(t \\right)} - 4.44089209850063 \\cdot 10^{-16} \\sin^{2}{\\left(\\theta_{1}{\\left(t \\right)} \\right)} \\frac{d^{2}}{d t^{2}} \\theta_{1}{\\left(t \\right)} + 1.0 \\sin{\\left(\\theta_{1}{\\left(t \\right)} \\right)} \\frac{d^{2}}{d t^{2}} y{\\left(t \\right)} + 9.81 \\sin{\\left(\\theta_{1}{\\left(t \\right)} \\right)} + 1.0 \\cos{\\left(\\theta_{1}{\\left(t \\right)} \\right)} \\frac{d^{2}}{d t^{2}} x{\\left(t \\right)} + 0.0555555555555556 \\frac{d^{2}}{d t^{2}} \\Phi_{1}{\\left(t \\right)} + 1.05555555555556 \\frac{d^{2}}{d t^{2}} \\theta_{1}{\\left(t \\right)}\\\\1.11022302462516 \\cdot 10^{-16} \\sin^{2}{\\left(\\Phi_{2}{\\left(t \\right)} \\right)} \\sin^{4}{\\left(\\theta_{2}{\\left(t \\right)} \\right)} \\frac{d^{2}}{d t^{2}} \\theta_{2}{\\left(t \\right)} - 1.11022302462516 \\cdot 10^{-16} \\sin^{2}{\\left(\\Phi_{2}{\\left(t \\right)} \\right)} \\sin^{2}{\\left(\\theta_{2}{\\left(t \\right)} \\right)} \\frac{d^{2}}{d t^{2}} \\theta_{2}{\\left(t \\right)} - 9.71445146547012 \\cdot 10^{-17} \\sin^{2}{\\left(\\Phi_{2}{\\left(t \\right)} \\right)} \\frac{d^{2}}{d t^{2}} \\theta_{2}{\\left(t \\right)} - 4.44089209850063 \\cdot 10^{-16} \\sin^{2}{\\left(\\theta_{2}{\\left(t \\right)} \\right)} \\frac{d^{2}}{d t^{2}} \\theta_{2}{\\left(t \\right)} + 1.0 \\sin{\\left(\\theta_{2}{\\left(t \\right)} \\right)} \\frac{d^{2}}{d t^{2}} y{\\left(t \\right)} + 9.81 \\sin{\\left(\\theta_{2}{\\left(t \\right)} \\right)} + 1.0 \\cos{\\left(\\theta_{2}{\\left(t \\right)} \\right)} \\frac{d^{2}}{d t^{2}} x{\\left(t \\right)} + 0.0555555555555556 \\frac{d^{2}}{d t^{2}} \\Phi_{2}{\\left(t \\right)} + 1.05555555555556 \\frac{d^{2}}{d t^{2}} \\theta_{2}{\\left(t \\right)}\\\\0.0555555555555556 \\frac{d^{2}}{d t^{2}} \\Phi_{1}{\\left(t \\right)} + 0.0555555555555556 \\frac{d^{2}}{d t^{2}} \\theta_{1}{\\left(t \\right)}\\\\0.0555555555555556 \\frac{d^{2}}{d t^{2}} \\Phi_{2}{\\left(t \\right)} + 0.0555555555555556 \\frac{d^{2}}{d t^{2}} \\theta_{2}{\\left(t \\right)}\\end{matrix}\\right]$"
      ],
      "text/plain": [
       "Eq(Matrix([\n",
       "[      F_x],\n",
       "[      F_y],\n",
       "[F_\\theta1],\n",
       "[F_\\theta2],\n",
       "[  F_\\phi1],\n",
       "[  F_\\phi2]]), Matrix([\n",
       "[                                                                                                                                                                                                                                                                                                                    -1.0*sin(\\theta_1(t))*Derivative(\\theta_1(t), t)**2 - 1.0*sin(\\theta_2(t))*Derivative(\\theta_2(t), t)**2 + 1.0*cos(\\theta_1(t))*Derivative(\\theta_1(t), (t, 2)) + 1.0*cos(\\theta_2(t))*Derivative(\\theta_2(t), (t, 2)) + 2.0*Derivative(x(t), (t, 2))],\n",
       "[                                                                                                                                                                                                                                                                                                             1.0*sin(\\theta_1(t))*Derivative(\\theta_1(t), (t, 2)) + 1.0*sin(\\theta_2(t))*Derivative(\\theta_2(t), (t, 2)) + 1.0*cos(\\theta_1(t))*Derivative(\\theta_1(t), t)**2 + 1.0*cos(\\theta_2(t))*Derivative(\\theta_2(t), t)**2 + 2.0*Derivative(y(t), (t, 2)) + 19.62],\n",
       "[1.11022302462516e-16*sin(\\Phi_1(t))**2*sin(\\theta_1(t))**4*Derivative(\\theta_1(t), (t, 2)) - 1.11022302462516e-16*sin(\\Phi_1(t))**2*sin(\\theta_1(t))**2*Derivative(\\theta_1(t), (t, 2)) - 9.71445146547012e-17*sin(\\Phi_1(t))**2*Derivative(\\theta_1(t), (t, 2)) - 4.44089209850063e-16*sin(\\theta_1(t))**2*Derivative(\\theta_1(t), (t, 2)) + 1.0*sin(\\theta_1(t))*Derivative(y(t), (t, 2)) + 9.81*sin(\\theta_1(t)) + 1.0*cos(\\theta_1(t))*Derivative(x(t), (t, 2)) + 0.0555555555555556*Derivative(\\Phi_1(t), (t, 2)) + 1.05555555555556*Derivative(\\theta_1(t), (t, 2))],\n",
       "[1.11022302462516e-16*sin(\\Phi_2(t))**2*sin(\\theta_2(t))**4*Derivative(\\theta_2(t), (t, 2)) - 1.11022302462516e-16*sin(\\Phi_2(t))**2*sin(\\theta_2(t))**2*Derivative(\\theta_2(t), (t, 2)) - 9.71445146547012e-17*sin(\\Phi_2(t))**2*Derivative(\\theta_2(t), (t, 2)) - 4.44089209850063e-16*sin(\\theta_2(t))**2*Derivative(\\theta_2(t), (t, 2)) + 1.0*sin(\\theta_2(t))*Derivative(y(t), (t, 2)) + 9.81*sin(\\theta_2(t)) + 1.0*cos(\\theta_2(t))*Derivative(x(t), (t, 2)) + 0.0555555555555556*Derivative(\\Phi_2(t), (t, 2)) + 1.05555555555556*Derivative(\\theta_2(t), (t, 2))],\n",
       "[                                                                                                                                                                                                                                                                                                                                                                                                                                                                    0.0555555555555556*Derivative(\\Phi_1(t), (t, 2)) + 0.0555555555555556*Derivative(\\theta_1(t), (t, 2))],\n",
       "[                                                                                                                                                                                                                                                                                                                                                                                                                                                                    0.0555555555555556*Derivative(\\Phi_2(t), (t, 2)) + 0.0555555555555556*Derivative(\\theta_2(t), (t, 2))]]))"
      ]
     },
     "metadata": {},
     "output_type": "display_data"
    },
    {
     "name": "stdout",
     "output_type": "stream",
     "text": [
      "Euler-Lagrange equations - rounded:\n"
     ]
    },
    {
     "data": {
      "text/latex": [
       "$\\displaystyle \\left[\\begin{matrix}F_{x}\\\\F_{y}\\\\F_{\\theta1}\\\\F_{\\theta2}\\\\F_{\\phi1}\\\\F_{\\phi2}\\end{matrix}\\right] = \\left[\\begin{matrix}- 1.0 \\sin{\\left(\\theta_{1}{\\left(t \\right)} \\right)} \\left(\\frac{d}{d t} \\theta_{1}{\\left(t \\right)}\\right)^{2} - 1.0 \\sin{\\left(\\theta_{2}{\\left(t \\right)} \\right)} \\left(\\frac{d}{d t} \\theta_{2}{\\left(t \\right)}\\right)^{2} + 1.0 \\cos{\\left(\\theta_{1}{\\left(t \\right)} \\right)} \\frac{d^{2}}{d t^{2}} \\theta_{1}{\\left(t \\right)} + 1.0 \\cos{\\left(\\theta_{2}{\\left(t \\right)} \\right)} \\frac{d^{2}}{d t^{2}} \\theta_{2}{\\left(t \\right)} + 2.0 \\frac{d^{2}}{d t^{2}} x{\\left(t \\right)}\\\\1.0 \\sin{\\left(\\theta_{1}{\\left(t \\right)} \\right)} \\frac{d^{2}}{d t^{2}} \\theta_{1}{\\left(t \\right)} + 1.0 \\sin{\\left(\\theta_{2}{\\left(t \\right)} \\right)} \\frac{d^{2}}{d t^{2}} \\theta_{2}{\\left(t \\right)} + 1.0 \\cos{\\left(\\theta_{1}{\\left(t \\right)} \\right)} \\left(\\frac{d}{d t} \\theta_{1}{\\left(t \\right)}\\right)^{2} + 1.0 \\cos{\\left(\\theta_{2}{\\left(t \\right)} \\right)} \\left(\\frac{d}{d t} \\theta_{2}{\\left(t \\right)}\\right)^{2} + 2.0 \\frac{d^{2}}{d t^{2}} y{\\left(t \\right)} + 19.62\\\\1.0 \\sin{\\left(\\theta_{1}{\\left(t \\right)} \\right)} \\frac{d^{2}}{d t^{2}} y{\\left(t \\right)} + 9.81 \\sin{\\left(\\theta_{1}{\\left(t \\right)} \\right)} + 1.0 \\cos{\\left(\\theta_{1}{\\left(t \\right)} \\right)} \\frac{d^{2}}{d t^{2}} x{\\left(t \\right)} + 0.05555556 \\frac{d^{2}}{d t^{2}} \\Phi_{1}{\\left(t \\right)} + 1.05555556 \\frac{d^{2}}{d t^{2}} \\theta_{1}{\\left(t \\right)}\\\\1.0 \\sin{\\left(\\theta_{2}{\\left(t \\right)} \\right)} \\frac{d^{2}}{d t^{2}} y{\\left(t \\right)} + 9.81 \\sin{\\left(\\theta_{2}{\\left(t \\right)} \\right)} + 1.0 \\cos{\\left(\\theta_{2}{\\left(t \\right)} \\right)} \\frac{d^{2}}{d t^{2}} x{\\left(t \\right)} + 0.05555556 \\frac{d^{2}}{d t^{2}} \\Phi_{2}{\\left(t \\right)} + 1.05555556 \\frac{d^{2}}{d t^{2}} \\theta_{2}{\\left(t \\right)}\\\\0.05555556 \\frac{d^{2}}{d t^{2}} \\Phi_{1}{\\left(t \\right)} + 0.05555556 \\frac{d^{2}}{d t^{2}} \\theta_{1}{\\left(t \\right)}\\\\0.05555556 \\frac{d^{2}}{d t^{2}} \\Phi_{2}{\\left(t \\right)} + 0.05555556 \\frac{d^{2}}{d t^{2}} \\theta_{2}{\\left(t \\right)}\\end{matrix}\\right]$"
      ],
      "text/plain": [
       "Eq(Matrix([\n",
       "[      F_x],\n",
       "[      F_y],\n",
       "[F_\\theta1],\n",
       "[F_\\theta2],\n",
       "[  F_\\phi1],\n",
       "[  F_\\phi2]]), Matrix([\n",
       "[       -1.0*sin(\\theta_1(t))*Derivative(\\theta_1(t), t)**2 - 1.0*sin(\\theta_2(t))*Derivative(\\theta_2(t), t)**2 + 1.0*cos(\\theta_1(t))*Derivative(\\theta_1(t), (t, 2)) + 1.0*cos(\\theta_2(t))*Derivative(\\theta_2(t), (t, 2)) + 2.0*Derivative(x(t), (t, 2))],\n",
       "[1.0*sin(\\theta_1(t))*Derivative(\\theta_1(t), (t, 2)) + 1.0*sin(\\theta_2(t))*Derivative(\\theta_2(t), (t, 2)) + 1.0*cos(\\theta_1(t))*Derivative(\\theta_1(t), t)**2 + 1.0*cos(\\theta_2(t))*Derivative(\\theta_2(t), t)**2 + 2.0*Derivative(y(t), (t, 2)) + 19.62],\n",
       "[                                               1.0*sin(\\theta_1(t))*Derivative(y(t), (t, 2)) + 9.81*sin(\\theta_1(t)) + 1.0*cos(\\theta_1(t))*Derivative(x(t), (t, 2)) + 0.05555556*Derivative(\\Phi_1(t), (t, 2)) + 1.05555556*Derivative(\\theta_1(t), (t, 2))],\n",
       "[                                               1.0*sin(\\theta_2(t))*Derivative(y(t), (t, 2)) + 9.81*sin(\\theta_2(t)) + 1.0*cos(\\theta_2(t))*Derivative(x(t), (t, 2)) + 0.05555556*Derivative(\\Phi_2(t), (t, 2)) + 1.05555556*Derivative(\\theta_2(t), (t, 2))],\n",
       "[                                                                                                                                                                       0.05555556*Derivative(\\Phi_1(t), (t, 2)) + 0.05555556*Derivative(\\theta_1(t), (t, 2))],\n",
       "[                                                                                                                                                                       0.05555556*Derivative(\\Phi_2(t), (t, 2)) + 0.05555556*Derivative(\\theta_2(t), (t, 2))]]))"
      ]
     },
     "metadata": {},
     "output_type": "display_data"
    },
    {
     "name": "stdout",
     "output_type": "stream",
     "text": [
      "\n",
      "Press any key to solve the E-L equations.k\n",
      "Solving:\n",
      "\n",
      "sym.solve(): \n",
      "Elapsed: 51.12 seconds\n",
      "\n",
      "Simplifying EL equations:\n"
     ]
    },
    {
     "name": "stderr",
     "output_type": "stream",
     "text": [
      "100%|████████████████████████████████████████████████████████████████████████████████████| 6/6 [04:23<00:00, 43.99s/it]\n"
     ]
    }
   ],
   "source": [
    "F_mat = sym.Matrix([\n",
    "    sym.symbols(r'F_x'),\n",
    "    sym.symbols(r'F_y'),\n",
    "    sym.symbols(r'F_\\theta1'),\n",
    "    sym.symbols(r'F_\\theta2'),\n",
    "    sym.symbols(r'F_\\phi1'),\n",
    "    sym.symbols(r'F_\\phi2'),\n",
    "])\n",
    "\n",
    "eqns_new = compute_solve_EL(F_mat)"
   ]
  },
  {
   "cell_type": "code",
   "execution_count": 6,
   "id": "039e7f64",
   "metadata": {},
   "outputs": [
    {
     "data": {
      "text/latex": [
       "$\\displaystyle \\frac{d^{2}}{d t^{2}} x{\\left(t \\right)} = \\frac{- 1.0 F_{\\phi1} \\cos{\\left(\\theta_{1}{\\left(t \\right)} - 2 \\theta_{2}{\\left(t \\right)} \\right)} - 3.0 F_{\\phi1} \\cos{\\left(\\theta_{1}{\\left(t \\right)} \\right)} - 1.0 F_{\\phi2} \\cos{\\left(2 \\theta_{1}{\\left(t \\right)} - \\theta_{2}{\\left(t \\right)} \\right)} - 3.0 F_{\\phi2} \\cos{\\left(\\theta_{2}{\\left(t \\right)} \\right)} + 1.0 F_{\\theta1} \\cos{\\left(\\theta_{1}{\\left(t \\right)} - 2 \\theta_{2}{\\left(t \\right)} \\right)} + 3.0 F_{\\theta1} \\cos{\\left(\\theta_{1}{\\left(t \\right)} \\right)} + 1.0 F_{\\theta2} \\cos{\\left(2 \\theta_{1}{\\left(t \\right)} - \\theta_{2}{\\left(t \\right)} \\right)} + 3.0 F_{\\theta2} \\cos{\\left(\\theta_{2}{\\left(t \\right)} \\right)} - 1.0 F_{x} \\cos{\\left(2 \\theta_{1}{\\left(t \\right)} \\right)} - 1.0 F_{x} \\cos{\\left(2 \\theta_{2}{\\left(t \\right)} \\right)} - 2.0 F_{x} - 1.0 F_{y} \\sin{\\left(2 \\theta_{1}{\\left(t \\right)} \\right)} - 1.0 F_{y} \\sin{\\left(2 \\theta_{2}{\\left(t \\right)} \\right)} - 1.0 \\sin{\\left(\\theta_{1}{\\left(t \\right)} - 2 \\theta_{2}{\\left(t \\right)} \\right)} \\left(\\frac{d}{d t} \\theta_{1}{\\left(t \\right)}\\right)^{2} + 1.0 \\sin{\\left(2 \\theta_{1}{\\left(t \\right)} - \\theta_{2}{\\left(t \\right)} \\right)} \\left(\\frac{d}{d t} \\theta_{2}{\\left(t \\right)}\\right)^{2} - 1.0 \\sin{\\left(\\theta_{1}{\\left(t \\right)} \\right)} \\left(\\frac{d}{d t} \\theta_{1}{\\left(t \\right)}\\right)^{2} - 1.0 \\sin{\\left(\\theta_{2}{\\left(t \\right)} \\right)} \\left(\\frac{d}{d t} \\theta_{2}{\\left(t \\right)}\\right)^{2}}{\\cos{\\left(2 \\theta_{1}{\\left(t \\right)} - 2 \\theta_{2}{\\left(t \\right)} \\right)} - 1}$"
      ],
      "text/plain": [
       "Eq(Derivative(x(t), (t, 2)), (-1.0*F_\\phi1*cos(\\theta_1(t) - 2*\\theta_2(t)) - 3.0*F_\\phi1*cos(\\theta_1(t)) - 1.0*F_\\phi2*cos(2*\\theta_1(t) - \\theta_2(t)) - 3.0*F_\\phi2*cos(\\theta_2(t)) + 1.0*F_\\theta1*cos(\\theta_1(t) - 2*\\theta_2(t)) + 3.0*F_\\theta1*cos(\\theta_1(t)) + 1.0*F_\\theta2*cos(2*\\theta_1(t) - \\theta_2(t)) + 3.0*F_\\theta2*cos(\\theta_2(t)) - 1.0*F_x*cos(2*\\theta_1(t)) - 1.0*F_x*cos(2*\\theta_2(t)) - 2.0*F_x - 1.0*F_y*sin(2*\\theta_1(t)) - 1.0*F_y*sin(2*\\theta_2(t)) - 1.0*sin(\\theta_1(t) - 2*\\theta_2(t))*Derivative(\\theta_1(t), t)**2 + 1.0*sin(2*\\theta_1(t) - \\theta_2(t))*Derivative(\\theta_2(t), t)**2 - 1.0*sin(\\theta_1(t))*Derivative(\\theta_1(t), t)**2 - 1.0*sin(\\theta_2(t))*Derivative(\\theta_2(t), t)**2)/(cos(2*\\theta_1(t) - 2*\\theta_2(t)) - 1))"
      ]
     },
     "metadata": {},
     "output_type": "display_data"
    },
    {
     "data": {
      "text/latex": [
       "$\\displaystyle \\frac{d^{2}}{d t^{2}} y{\\left(t \\right)} = \\frac{1.0 F_{\\phi1} \\sin{\\left(\\theta_{1}{\\left(t \\right)} - 2 \\theta_{2}{\\left(t \\right)} \\right)} - 3.0 F_{\\phi1} \\sin{\\left(\\theta_{1}{\\left(t \\right)} \\right)} - 1.0 F_{\\phi2} \\sin{\\left(2 \\theta_{1}{\\left(t \\right)} - \\theta_{2}{\\left(t \\right)} \\right)} - 3.0 F_{\\phi2} \\sin{\\left(\\theta_{2}{\\left(t \\right)} \\right)} - 1.0 F_{\\theta1} \\sin{\\left(\\theta_{1}{\\left(t \\right)} - 2 \\theta_{2}{\\left(t \\right)} \\right)} + 3.0 F_{\\theta1} \\sin{\\left(\\theta_{1}{\\left(t \\right)} \\right)} + 1.0 F_{\\theta2} \\sin{\\left(2 \\theta_{1}{\\left(t \\right)} - \\theta_{2}{\\left(t \\right)} \\right)} + 3.0 F_{\\theta2} \\sin{\\left(\\theta_{2}{\\left(t \\right)} \\right)} - 1.0 F_{x} \\sin{\\left(2 \\theta_{1}{\\left(t \\right)} \\right)} - 1.0 F_{x} \\sin{\\left(2 \\theta_{2}{\\left(t \\right)} \\right)} + 1.0 F_{y} \\cos{\\left(2 \\theta_{1}{\\left(t \\right)} \\right)} + 1.0 F_{y} \\cos{\\left(2 \\theta_{2}{\\left(t \\right)} \\right)} - 2.0 F_{y} - 1.0 \\cos{\\left(\\theta_{1}{\\left(t \\right)} - 2 \\theta_{2}{\\left(t \\right)} \\right)} \\left(\\frac{d}{d t} \\theta_{1}{\\left(t \\right)}\\right)^{2} - 9.81 \\cos{\\left(2 \\theta_{1}{\\left(t \\right)} - 2 \\theta_{2}{\\left(t \\right)} \\right)} - 1.0 \\cos{\\left(2 \\theta_{1}{\\left(t \\right)} - \\theta_{2}{\\left(t \\right)} \\right)} \\left(\\frac{d}{d t} \\theta_{2}{\\left(t \\right)}\\right)^{2} + 1.0 \\cos{\\left(\\theta_{1}{\\left(t \\right)} \\right)} \\left(\\frac{d}{d t} \\theta_{1}{\\left(t \\right)}\\right)^{2} + 1.0 \\cos{\\left(\\theta_{2}{\\left(t \\right)} \\right)} \\left(\\frac{d}{d t} \\theta_{2}{\\left(t \\right)}\\right)^{2} + 9.81}{\\cos{\\left(2 \\theta_{1}{\\left(t \\right)} - 2 \\theta_{2}{\\left(t \\right)} \\right)} - 1}$"
      ],
      "text/plain": [
       "Eq(Derivative(y(t), (t, 2)), (1.0*F_\\phi1*sin(\\theta_1(t) - 2*\\theta_2(t)) - 3.0*F_\\phi1*sin(\\theta_1(t)) - 1.0*F_\\phi2*sin(2*\\theta_1(t) - \\theta_2(t)) - 3.0*F_\\phi2*sin(\\theta_2(t)) - 1.0*F_\\theta1*sin(\\theta_1(t) - 2*\\theta_2(t)) + 3.0*F_\\theta1*sin(\\theta_1(t)) + 1.0*F_\\theta2*sin(2*\\theta_1(t) - \\theta_2(t)) + 3.0*F_\\theta2*sin(\\theta_2(t)) - 1.0*F_x*sin(2*\\theta_1(t)) - 1.0*F_x*sin(2*\\theta_2(t)) + 1.0*F_y*cos(2*\\theta_1(t)) + 1.0*F_y*cos(2*\\theta_2(t)) - 2.0*F_y - 1.0*cos(\\theta_1(t) - 2*\\theta_2(t))*Derivative(\\theta_1(t), t)**2 - 9.81*cos(2*\\theta_1(t) - 2*\\theta_2(t)) - 1.0*cos(2*\\theta_1(t) - \\theta_2(t))*Derivative(\\theta_2(t), t)**2 + 1.0*cos(\\theta_1(t))*Derivative(\\theta_1(t), t)**2 + 1.0*cos(\\theta_2(t))*Derivative(\\theta_2(t), t)**2 + 9.81)/(cos(2*\\theta_1(t) - 2*\\theta_2(t)) - 1))"
      ]
     },
     "metadata": {},
     "output_type": "display_data"
    },
    {
     "data": {
      "text/latex": [
       "$\\displaystyle \\frac{d^{2}}{d t^{2}} \\theta_{1}{\\left(t \\right)} = \\frac{4.0 F_{\\phi1} + 4.0 F_{\\phi2} \\cos{\\left(\\theta_{1}{\\left(t \\right)} - \\theta_{2}{\\left(t \\right)} \\right)} - 4.0 F_{\\theta1} - 4.0 F_{\\theta2} \\cos{\\left(\\theta_{1}{\\left(t \\right)} - \\theta_{2}{\\left(t \\right)} \\right)} + 1.0 F_{x} \\cos{\\left(\\theta_{1}{\\left(t \\right)} - 2 \\theta_{2}{\\left(t \\right)} \\right)} + 3.0 F_{x} \\cos{\\left(\\theta_{1}{\\left(t \\right)} \\right)} - 1.0 F_{y} \\sin{\\left(\\theta_{1}{\\left(t \\right)} - 2 \\theta_{2}{\\left(t \\right)} \\right)} + 3.0 F_{y} \\sin{\\left(\\theta_{1}{\\left(t \\right)} \\right)} - 2.0 \\sin{\\left(\\theta_{1}{\\left(t \\right)} - \\theta_{2}{\\left(t \\right)} \\right)} \\left(\\frac{d}{d t} \\theta_{2}{\\left(t \\right)}\\right)^{2} + 1.0 \\sin{\\left(2 \\theta_{1}{\\left(t \\right)} - 2 \\theta_{2}{\\left(t \\right)} \\right)} \\left(\\frac{d}{d t} \\theta_{1}{\\left(t \\right)}\\right)^{2}}{\\cos{\\left(2 \\theta_{1}{\\left(t \\right)} - 2 \\theta_{2}{\\left(t \\right)} \\right)} - 1}$"
      ],
      "text/plain": [
       "Eq(Derivative(\\theta_1(t), (t, 2)), (4.0*F_\\phi1 + 4.0*F_\\phi2*cos(\\theta_1(t) - \\theta_2(t)) - 4.0*F_\\theta1 - 4.0*F_\\theta2*cos(\\theta_1(t) - \\theta_2(t)) + 1.0*F_x*cos(\\theta_1(t) - 2*\\theta_2(t)) + 3.0*F_x*cos(\\theta_1(t)) - 1.0*F_y*sin(\\theta_1(t) - 2*\\theta_2(t)) + 3.0*F_y*sin(\\theta_1(t)) - 2.0*sin(\\theta_1(t) - \\theta_2(t))*Derivative(\\theta_2(t), t)**2 + 1.0*sin(2*\\theta_1(t) - 2*\\theta_2(t))*Derivative(\\theta_1(t), t)**2)/(cos(2*\\theta_1(t) - 2*\\theta_2(t)) - 1))"
      ]
     },
     "metadata": {},
     "output_type": "display_data"
    },
    {
     "data": {
      "text/latex": [
       "$\\displaystyle \\frac{d^{2}}{d t^{2}} \\theta_{2}{\\left(t \\right)} = \\frac{4.0 F_{\\phi1} \\cos{\\left(\\theta_{1}{\\left(t \\right)} - \\theta_{2}{\\left(t \\right)} \\right)} + 4.0 F_{\\phi2} - 4.0 F_{\\theta1} \\cos{\\left(\\theta_{1}{\\left(t \\right)} - \\theta_{2}{\\left(t \\right)} \\right)} - 4.0 F_{\\theta2} + 1.0 F_{x} \\cos{\\left(2 \\theta_{1}{\\left(t \\right)} - \\theta_{2}{\\left(t \\right)} \\right)} + 3.0 F_{x} \\cos{\\left(\\theta_{2}{\\left(t \\right)} \\right)} + 1.0 F_{y} \\sin{\\left(2 \\theta_{1}{\\left(t \\right)} - \\theta_{2}{\\left(t \\right)} \\right)} + 3.0 F_{y} \\sin{\\left(\\theta_{2}{\\left(t \\right)} \\right)} + 2.0 \\sin{\\left(\\theta_{1}{\\left(t \\right)} - \\theta_{2}{\\left(t \\right)} \\right)} \\left(\\frac{d}{d t} \\theta_{1}{\\left(t \\right)}\\right)^{2} - 1.0 \\sin{\\left(2 \\theta_{1}{\\left(t \\right)} - 2 \\theta_{2}{\\left(t \\right)} \\right)} \\left(\\frac{d}{d t} \\theta_{2}{\\left(t \\right)}\\right)^{2}}{\\cos{\\left(2 \\theta_{1}{\\left(t \\right)} - 2 \\theta_{2}{\\left(t \\right)} \\right)} - 1}$"
      ],
      "text/plain": [
       "Eq(Derivative(\\theta_2(t), (t, 2)), (4.0*F_\\phi1*cos(\\theta_1(t) - \\theta_2(t)) + 4.0*F_\\phi2 - 4.0*F_\\theta1*cos(\\theta_1(t) - \\theta_2(t)) - 4.0*F_\\theta2 + 1.0*F_x*cos(2*\\theta_1(t) - \\theta_2(t)) + 3.0*F_x*cos(\\theta_2(t)) + 1.0*F_y*sin(2*\\theta_1(t) - \\theta_2(t)) + 3.0*F_y*sin(\\theta_2(t)) + 2.0*sin(\\theta_1(t) - \\theta_2(t))*Derivative(\\theta_1(t), t)**2 - 1.0*sin(2*\\theta_1(t) - 2*\\theta_2(t))*Derivative(\\theta_2(t), t)**2)/(cos(2*\\theta_1(t) - 2*\\theta_2(t)) - 1))"
      ]
     },
     "metadata": {},
     "output_type": "display_data"
    },
    {
     "data": {
      "text/latex": [
       "$\\displaystyle \\frac{d^{2}}{d t^{2}} \\Phi_{1}{\\left(t \\right)} = \\frac{18.0 F_{\\phi1} \\cos{\\left(2 \\theta_{1}{\\left(t \\right)} - 2 \\theta_{2}{\\left(t \\right)} \\right)} - 22.0 F_{\\phi1} - 4.0 F_{\\phi2} \\cos{\\left(\\theta_{1}{\\left(t \\right)} - \\theta_{2}{\\left(t \\right)} \\right)} + 4.0 F_{\\theta1} + 4.0 F_{\\theta2} \\cos{\\left(\\theta_{1}{\\left(t \\right)} - \\theta_{2}{\\left(t \\right)} \\right)} - 1.0 F_{x} \\cos{\\left(\\theta_{1}{\\left(t \\right)} - 2 \\theta_{2}{\\left(t \\right)} \\right)} - 3.0 F_{x} \\cos{\\left(\\theta_{1}{\\left(t \\right)} \\right)} + 1.0 F_{y} \\sin{\\left(\\theta_{1}{\\left(t \\right)} - 2 \\theta_{2}{\\left(t \\right)} \\right)} - 3.0 F_{y} \\sin{\\left(\\theta_{1}{\\left(t \\right)} \\right)} + 2.0 \\sin{\\left(\\theta_{1}{\\left(t \\right)} - \\theta_{2}{\\left(t \\right)} \\right)} \\left(\\frac{d}{d t} \\theta_{2}{\\left(t \\right)}\\right)^{2} - 1.0 \\sin{\\left(2 \\theta_{1}{\\left(t \\right)} - 2 \\theta_{2}{\\left(t \\right)} \\right)} \\left(\\frac{d}{d t} \\theta_{1}{\\left(t \\right)}\\right)^{2}}{\\cos{\\left(2 \\theta_{1}{\\left(t \\right)} - 2 \\theta_{2}{\\left(t \\right)} \\right)} - 1}$"
      ],
      "text/plain": [
       "Eq(Derivative(\\Phi_1(t), (t, 2)), (18.0*F_\\phi1*cos(2*\\theta_1(t) - 2*\\theta_2(t)) - 22.0*F_\\phi1 - 4.0*F_\\phi2*cos(\\theta_1(t) - \\theta_2(t)) + 4.0*F_\\theta1 + 4.0*F_\\theta2*cos(\\theta_1(t) - \\theta_2(t)) - 1.0*F_x*cos(\\theta_1(t) - 2*\\theta_2(t)) - 3.0*F_x*cos(\\theta_1(t)) + 1.0*F_y*sin(\\theta_1(t) - 2*\\theta_2(t)) - 3.0*F_y*sin(\\theta_1(t)) + 2.0*sin(\\theta_1(t) - \\theta_2(t))*Derivative(\\theta_2(t), t)**2 - 1.0*sin(2*\\theta_1(t) - 2*\\theta_2(t))*Derivative(\\theta_1(t), t)**2)/(cos(2*\\theta_1(t) - 2*\\theta_2(t)) - 1))"
      ]
     },
     "metadata": {},
     "output_type": "display_data"
    },
    {
     "data": {
      "text/latex": [
       "$\\displaystyle \\frac{d^{2}}{d t^{2}} \\Phi_{2}{\\left(t \\right)} = \\frac{- 4.0 F_{\\phi1} \\cos{\\left(\\theta_{1}{\\left(t \\right)} - \\theta_{2}{\\left(t \\right)} \\right)} + 18.0 F_{\\phi2} \\cos{\\left(2 \\theta_{1}{\\left(t \\right)} - 2 \\theta_{2}{\\left(t \\right)} \\right)} - 22.0 F_{\\phi2} + 4.0 F_{\\theta1} \\cos{\\left(\\theta_{1}{\\left(t \\right)} - \\theta_{2}{\\left(t \\right)} \\right)} + 4.0 F_{\\theta2} - 1.0 F_{x} \\cos{\\left(2 \\theta_{1}{\\left(t \\right)} - \\theta_{2}{\\left(t \\right)} \\right)} - 3.0 F_{x} \\cos{\\left(\\theta_{2}{\\left(t \\right)} \\right)} - 1.0 F_{y} \\sin{\\left(2 \\theta_{1}{\\left(t \\right)} - \\theta_{2}{\\left(t \\right)} \\right)} - 3.0 F_{y} \\sin{\\left(\\theta_{2}{\\left(t \\right)} \\right)} - 2.0 \\sin{\\left(\\theta_{1}{\\left(t \\right)} - \\theta_{2}{\\left(t \\right)} \\right)} \\left(\\frac{d}{d t} \\theta_{1}{\\left(t \\right)}\\right)^{2} + 1.0 \\sin{\\left(2 \\theta_{1}{\\left(t \\right)} - 2 \\theta_{2}{\\left(t \\right)} \\right)} \\left(\\frac{d}{d t} \\theta_{2}{\\left(t \\right)}\\right)^{2}}{\\cos{\\left(2 \\theta_{1}{\\left(t \\right)} - 2 \\theta_{2}{\\left(t \\right)} \\right)} - 1}$"
      ],
      "text/plain": [
       "Eq(Derivative(\\Phi_2(t), (t, 2)), (-4.0*F_\\phi1*cos(\\theta_1(t) - \\theta_2(t)) + 18.0*F_\\phi2*cos(2*\\theta_1(t) - 2*\\theta_2(t)) - 22.0*F_\\phi2 + 4.0*F_\\theta1*cos(\\theta_1(t) - \\theta_2(t)) + 4.0*F_\\theta2 - 1.0*F_x*cos(2*\\theta_1(t) - \\theta_2(t)) - 3.0*F_x*cos(\\theta_2(t)) - 1.0*F_y*sin(2*\\theta_1(t) - \\theta_2(t)) - 3.0*F_y*sin(\\theta_2(t)) - 2.0*sin(\\theta_1(t) - \\theta_2(t))*Derivative(\\theta_1(t), t)**2 + 1.0*sin(2*\\theta_1(t) - 2*\\theta_2(t))*Derivative(\\theta_2(t), t)**2)/(cos(2*\\theta_1(t) - 2*\\theta_2(t)) - 1))"
      ]
     },
     "metadata": {},
     "output_type": "display_data"
    }
   ],
   "source": [
    "for eq in eqns_new:\n",
    "    display(eq)"
   ]
  },
  {
   "cell_type": "code",
   "execution_count": 8,
   "id": "e481ea07",
   "metadata": {},
   "outputs": [],
   "source": [
    "dill_dump('../data/EL_simplified.dill', eqns_new)"
   ]
  },
  {
   "cell_type": "markdown",
   "id": "f8ffbc5a",
   "metadata": {},
   "source": [
    "# Impacts stuff"
   ]
  },
  {
   "cell_type": "code",
   "execution_count": null,
   "id": "3e9672a0",
   "metadata": {},
   "outputs": [],
   "source": [
    "vertices_coords_list = dill_load('../data/vertices_coords_list.dill')"
   ]
  }
 ],
 "metadata": {
  "kernelspec": {
   "display_name": "Python 3 (ipykernel)",
   "language": "python",
   "name": "python3"
  },
  "language_info": {
   "codemirror_mode": {
    "name": "ipython",
    "version": 3
   },
   "file_extension": ".py",
   "mimetype": "text/x-python",
   "name": "python",
   "nbconvert_exporter": "python",
   "pygments_lexer": "ipython3",
   "version": "3.10.7"
  }
 },
 "nbformat": 4,
 "nbformat_minor": 5
}
