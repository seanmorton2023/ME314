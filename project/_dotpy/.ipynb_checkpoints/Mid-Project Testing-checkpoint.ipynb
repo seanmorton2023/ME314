{
 "cells": [
  {
   "cell_type": "code",
   "execution_count": 3,
   "id": "d7afbbc9",
   "metadata": {
    "scrolled": false
   },
   "outputs": [],
   "source": [
    "from geometry import *\n",
    "from helpers import *\n",
    "from el_equations import *\n",
    "#from impacts import *\n",
    "from plotting_helpers import *\n",
    "from GUI import GUI"
   ]
  },
  {
   "cell_type": "code",
   "execution_count": 10,
   "id": "7544c2f1",
   "metadata": {},
   "outputs": [
    {
     "data": {
      "text/latex": [
       "$\\displaystyle m \\left(0.5 L^{2} \\left(\\frac{d}{d t} \\theta_{1}{\\left(t \\right)}\\right)^{2} + 0.5 L^{2} \\left(\\frac{d}{d t} \\theta_{2}{\\left(t \\right)}\\right)^{2} + 1.0 L g \\cos{\\left(\\theta_{1}{\\left(t \\right)} \\right)} + 1.0 L g \\cos{\\left(\\theta_{2}{\\left(t \\right)} \\right)} + 1.0 L \\sin{\\left(\\theta_{1}{\\left(t \\right)} \\right)} \\frac{d}{d t} \\theta_{1}{\\left(t \\right)} \\frac{d}{d t} y{\\left(t \\right)} + 1.0 L \\sin{\\left(\\theta_{2}{\\left(t \\right)} \\right)} \\frac{d}{d t} \\theta_{2}{\\left(t \\right)} \\frac{d}{d t} y{\\left(t \\right)} + 1.0 L \\cos{\\left(\\theta_{1}{\\left(t \\right)} \\right)} \\frac{d}{d t} \\theta_{1}{\\left(t \\right)} \\frac{d}{d t} x{\\left(t \\right)} + 1.0 L \\cos{\\left(\\theta_{2}{\\left(t \\right)} \\right)} \\frac{d}{d t} \\theta_{2}{\\left(t \\right)} \\frac{d}{d t} x{\\left(t \\right)} - 2.0 g y{\\left(t \\right)} + 1.0 w^{2} \\left(\\frac{d}{d t} \\Phi_{1}{\\left(t \\right)}\\right)^{2} + 2.0 w^{2} \\frac{d}{d t} \\Phi_{1}{\\left(t \\right)} \\frac{d}{d t} \\theta_{1}{\\left(t \\right)} + 1.0 w^{2} \\left(\\frac{d}{d t} \\Phi_{2}{\\left(t \\right)}\\right)^{2} + 2.0 w^{2} \\frac{d}{d t} \\Phi_{2}{\\left(t \\right)} \\frac{d}{d t} \\theta_{2}{\\left(t \\right)} + 1.0 w^{2} \\left(\\frac{d}{d t} \\theta_{1}{\\left(t \\right)}\\right)^{2} + 1.0 w^{2} \\left(\\frac{d}{d t} \\theta_{2}{\\left(t \\right)}\\right)^{2} + 1.0 \\left(\\frac{d}{d t} x{\\left(t \\right)}\\right)^{2} + 1.0 \\left(\\frac{d}{d t} y{\\left(t \\right)}\\right)^{2}\\right)$"
      ],
      "text/plain": [
       "m*(0.5*L**2*Derivative(\\theta_1(t), t)**2 + 0.5*L**2*Derivative(\\theta_2(t), t)**2 + 1.0*L*g*cos(\\theta_1(t)) + 1.0*L*g*cos(\\theta_2(t)) + 1.0*L*sin(\\theta_1(t))*Derivative(\\theta_1(t), t)*Derivative(y(t), t) + 1.0*L*sin(\\theta_2(t))*Derivative(\\theta_2(t), t)*Derivative(y(t), t) + 1.0*L*cos(\\theta_1(t))*Derivative(\\theta_1(t), t)*Derivative(x(t), t) + 1.0*L*cos(\\theta_2(t))*Derivative(\\theta_2(t), t)*Derivative(x(t), t) - 2.0*g*y(t) + 1.0*w**2*Derivative(\\Phi_1(t), t)**2 + 2.0*w**2*Derivative(\\Phi_1(t), t)*Derivative(\\theta_1(t), t) + 1.0*w**2*Derivative(\\Phi_2(t), t)**2 + 2.0*w**2*Derivative(\\Phi_2(t), t)*Derivative(\\theta_2(t), t) + 1.0*w**2*Derivative(\\theta_1(t), t)**2 + 1.0*w**2*Derivative(\\theta_2(t), t)**2 + 1.0*Derivative(x(t), t)**2 + 1.0*Derivative(y(t), t)**2)"
      ]
     },
     "metadata": {},
     "output_type": "display_data"
    }
   ],
   "source": [
    "lagrangian_f = '../data/lagrangian.dill'\n",
    "lagrangian = dill_load(lagrangian_f)\n",
    "#display(lagrangian.simplify())"
   ]
  },
  {
   "cell_type": "code",
   "execution_count": 11,
   "id": "d02b786b",
   "metadata": {},
   "outputs": [
    {
     "data": {
      "text/latex": [
       "$\\displaystyle \\frac{d^{2}}{d t^{2}} x{\\left(t \\right)} = \\frac{- 1.0 F_{\\phi1} \\cos{\\left(\\theta_{1}{\\left(t \\right)} - 2 \\theta_{2}{\\left(t \\right)} \\right)} - 3.0 F_{\\phi1} \\cos{\\left(\\theta_{1}{\\left(t \\right)} \\right)} - 1.0 F_{\\phi2} \\cos{\\left(2 \\theta_{1}{\\left(t \\right)} - \\theta_{2}{\\left(t \\right)} \\right)} - 3.0 F_{\\phi2} \\cos{\\left(\\theta_{2}{\\left(t \\right)} \\right)} + 1.0 F_{\\theta1} \\cos{\\left(\\theta_{1}{\\left(t \\right)} - 2 \\theta_{2}{\\left(t \\right)} \\right)} + 3.0 F_{\\theta1} \\cos{\\left(\\theta_{1}{\\left(t \\right)} \\right)} + 1.0 F_{\\theta2} \\cos{\\left(2 \\theta_{1}{\\left(t \\right)} - \\theta_{2}{\\left(t \\right)} \\right)} + 3.0 F_{\\theta2} \\cos{\\left(\\theta_{2}{\\left(t \\right)} \\right)} - 1.0 F_{x} \\cos{\\left(2 \\theta_{1}{\\left(t \\right)} \\right)} - 1.0 F_{x} \\cos{\\left(2 \\theta_{2}{\\left(t \\right)} \\right)} - 2.0 F_{x} - 1.0 F_{y} \\sin{\\left(2 \\theta_{1}{\\left(t \\right)} \\right)} - 1.0 F_{y} \\sin{\\left(2 \\theta_{2}{\\left(t \\right)} \\right)} - 1.0 \\sin{\\left(\\theta_{1}{\\left(t \\right)} - 2 \\theta_{2}{\\left(t \\right)} \\right)} \\left(\\frac{d}{d t} \\theta_{1}{\\left(t \\right)}\\right)^{2} + 1.0 \\sin{\\left(2 \\theta_{1}{\\left(t \\right)} - \\theta_{2}{\\left(t \\right)} \\right)} \\left(\\frac{d}{d t} \\theta_{2}{\\left(t \\right)}\\right)^{2} - 1.0 \\sin{\\left(\\theta_{1}{\\left(t \\right)} \\right)} \\left(\\frac{d}{d t} \\theta_{1}{\\left(t \\right)}\\right)^{2} - 1.0 \\sin{\\left(\\theta_{2}{\\left(t \\right)} \\right)} \\left(\\frac{d}{d t} \\theta_{2}{\\left(t \\right)}\\right)^{2}}{\\cos{\\left(2 \\theta_{1}{\\left(t \\right)} - 2 \\theta_{2}{\\left(t \\right)} \\right)} - 1}$"
      ],
      "text/plain": [
       "Eq(Derivative(x(t), (t, 2)), (-1.0*F_\\phi1*cos(\\theta_1(t) - 2*\\theta_2(t)) - 3.0*F_\\phi1*cos(\\theta_1(t)) - 1.0*F_\\phi2*cos(2*\\theta_1(t) - \\theta_2(t)) - 3.0*F_\\phi2*cos(\\theta_2(t)) + 1.0*F_\\theta1*cos(\\theta_1(t) - 2*\\theta_2(t)) + 3.0*F_\\theta1*cos(\\theta_1(t)) + 1.0*F_\\theta2*cos(2*\\theta_1(t) - \\theta_2(t)) + 3.0*F_\\theta2*cos(\\theta_2(t)) - 1.0*F_x*cos(2*\\theta_1(t)) - 1.0*F_x*cos(2*\\theta_2(t)) - 2.0*F_x - 1.0*F_y*sin(2*\\theta_1(t)) - 1.0*F_y*sin(2*\\theta_2(t)) - 1.0*sin(\\theta_1(t) - 2*\\theta_2(t))*Derivative(\\theta_1(t), t)**2 + 1.0*sin(2*\\theta_1(t) - \\theta_2(t))*Derivative(\\theta_2(t), t)**2 - 1.0*sin(\\theta_1(t))*Derivative(\\theta_1(t), t)**2 - 1.0*sin(\\theta_2(t))*Derivative(\\theta_2(t), t)**2)/(cos(2*\\theta_1(t) - 2*\\theta_2(t)) - 1))"
      ]
     },
     "metadata": {},
     "output_type": "display_data"
    },
    {
     "data": {
      "text/latex": [
       "$\\displaystyle \\frac{d^{2}}{d t^{2}} y{\\left(t \\right)} = \\frac{1.0 F_{\\phi1} \\sin{\\left(\\theta_{1}{\\left(t \\right)} - 2 \\theta_{2}{\\left(t \\right)} \\right)} - 3.0 F_{\\phi1} \\sin{\\left(\\theta_{1}{\\left(t \\right)} \\right)} - 1.0 F_{\\phi2} \\sin{\\left(2 \\theta_{1}{\\left(t \\right)} - \\theta_{2}{\\left(t \\right)} \\right)} - 3.0 F_{\\phi2} \\sin{\\left(\\theta_{2}{\\left(t \\right)} \\right)} - 1.0 F_{\\theta1} \\sin{\\left(\\theta_{1}{\\left(t \\right)} - 2 \\theta_{2}{\\left(t \\right)} \\right)} + 3.0 F_{\\theta1} \\sin{\\left(\\theta_{1}{\\left(t \\right)} \\right)} + 1.0 F_{\\theta2} \\sin{\\left(2 \\theta_{1}{\\left(t \\right)} - \\theta_{2}{\\left(t \\right)} \\right)} + 3.0 F_{\\theta2} \\sin{\\left(\\theta_{2}{\\left(t \\right)} \\right)} - 1.0 F_{x} \\sin{\\left(2 \\theta_{1}{\\left(t \\right)} \\right)} - 1.0 F_{x} \\sin{\\left(2 \\theta_{2}{\\left(t \\right)} \\right)} + 1.0 F_{y} \\cos{\\left(2 \\theta_{1}{\\left(t \\right)} \\right)} + 1.0 F_{y} \\cos{\\left(2 \\theta_{2}{\\left(t \\right)} \\right)} - 2.0 F_{y} - 1.0 \\cos{\\left(\\theta_{1}{\\left(t \\right)} - 2 \\theta_{2}{\\left(t \\right)} \\right)} \\left(\\frac{d}{d t} \\theta_{1}{\\left(t \\right)}\\right)^{2} - 9.81 \\cos{\\left(2 \\theta_{1}{\\left(t \\right)} - 2 \\theta_{2}{\\left(t \\right)} \\right)} - 1.0 \\cos{\\left(2 \\theta_{1}{\\left(t \\right)} - \\theta_{2}{\\left(t \\right)} \\right)} \\left(\\frac{d}{d t} \\theta_{2}{\\left(t \\right)}\\right)^{2} + 1.0 \\cos{\\left(\\theta_{1}{\\left(t \\right)} \\right)} \\left(\\frac{d}{d t} \\theta_{1}{\\left(t \\right)}\\right)^{2} + 1.0 \\cos{\\left(\\theta_{2}{\\left(t \\right)} \\right)} \\left(\\frac{d}{d t} \\theta_{2}{\\left(t \\right)}\\right)^{2} + 9.81}{\\cos{\\left(2 \\theta_{1}{\\left(t \\right)} - 2 \\theta_{2}{\\left(t \\right)} \\right)} - 1}$"
      ],
      "text/plain": [
       "Eq(Derivative(y(t), (t, 2)), (1.0*F_\\phi1*sin(\\theta_1(t) - 2*\\theta_2(t)) - 3.0*F_\\phi1*sin(\\theta_1(t)) - 1.0*F_\\phi2*sin(2*\\theta_1(t) - \\theta_2(t)) - 3.0*F_\\phi2*sin(\\theta_2(t)) - 1.0*F_\\theta1*sin(\\theta_1(t) - 2*\\theta_2(t)) + 3.0*F_\\theta1*sin(\\theta_1(t)) + 1.0*F_\\theta2*sin(2*\\theta_1(t) - \\theta_2(t)) + 3.0*F_\\theta2*sin(\\theta_2(t)) - 1.0*F_x*sin(2*\\theta_1(t)) - 1.0*F_x*sin(2*\\theta_2(t)) + 1.0*F_y*cos(2*\\theta_1(t)) + 1.0*F_y*cos(2*\\theta_2(t)) - 2.0*F_y - 1.0*cos(\\theta_1(t) - 2*\\theta_2(t))*Derivative(\\theta_1(t), t)**2 - 9.81*cos(2*\\theta_1(t) - 2*\\theta_2(t)) - 1.0*cos(2*\\theta_1(t) - \\theta_2(t))*Derivative(\\theta_2(t), t)**2 + 1.0*cos(\\theta_1(t))*Derivative(\\theta_1(t), t)**2 + 1.0*cos(\\theta_2(t))*Derivative(\\theta_2(t), t)**2 + 9.81)/(cos(2*\\theta_1(t) - 2*\\theta_2(t)) - 1))"
      ]
     },
     "metadata": {},
     "output_type": "display_data"
    },
    {
     "data": {
      "text/latex": [
       "$\\displaystyle \\frac{d^{2}}{d t^{2}} \\theta_{1}{\\left(t \\right)} = \\frac{4.0 F_{\\phi1} + 4.0 F_{\\phi2} \\cos{\\left(\\theta_{1}{\\left(t \\right)} - \\theta_{2}{\\left(t \\right)} \\right)} - 4.0 F_{\\theta1} - 4.0 F_{\\theta2} \\cos{\\left(\\theta_{1}{\\left(t \\right)} - \\theta_{2}{\\left(t \\right)} \\right)} + 1.0 F_{x} \\cos{\\left(\\theta_{1}{\\left(t \\right)} - 2 \\theta_{2}{\\left(t \\right)} \\right)} + 3.0 F_{x} \\cos{\\left(\\theta_{1}{\\left(t \\right)} \\right)} - 1.0 F_{y} \\sin{\\left(\\theta_{1}{\\left(t \\right)} - 2 \\theta_{2}{\\left(t \\right)} \\right)} + 3.0 F_{y} \\sin{\\left(\\theta_{1}{\\left(t \\right)} \\right)} - 2.0 \\sin{\\left(\\theta_{1}{\\left(t \\right)} - \\theta_{2}{\\left(t \\right)} \\right)} \\left(\\frac{d}{d t} \\theta_{2}{\\left(t \\right)}\\right)^{2} + 1.0 \\sin{\\left(2 \\theta_{1}{\\left(t \\right)} - 2 \\theta_{2}{\\left(t \\right)} \\right)} \\left(\\frac{d}{d t} \\theta_{1}{\\left(t \\right)}\\right)^{2}}{\\cos{\\left(2 \\theta_{1}{\\left(t \\right)} - 2 \\theta_{2}{\\left(t \\right)} \\right)} - 1}$"
      ],
      "text/plain": [
       "Eq(Derivative(\\theta_1(t), (t, 2)), (4.0*F_\\phi1 + 4.0*F_\\phi2*cos(\\theta_1(t) - \\theta_2(t)) - 4.0*F_\\theta1 - 4.0*F_\\theta2*cos(\\theta_1(t) - \\theta_2(t)) + 1.0*F_x*cos(\\theta_1(t) - 2*\\theta_2(t)) + 3.0*F_x*cos(\\theta_1(t)) - 1.0*F_y*sin(\\theta_1(t) - 2*\\theta_2(t)) + 3.0*F_y*sin(\\theta_1(t)) - 2.0*sin(\\theta_1(t) - \\theta_2(t))*Derivative(\\theta_2(t), t)**2 + 1.0*sin(2*\\theta_1(t) - 2*\\theta_2(t))*Derivative(\\theta_1(t), t)**2)/(cos(2*\\theta_1(t) - 2*\\theta_2(t)) - 1))"
      ]
     },
     "metadata": {},
     "output_type": "display_data"
    },
    {
     "data": {
      "text/latex": [
       "$\\displaystyle \\frac{d^{2}}{d t^{2}} \\theta_{2}{\\left(t \\right)} = \\frac{4.0 F_{\\phi1} \\cos{\\left(\\theta_{1}{\\left(t \\right)} - \\theta_{2}{\\left(t \\right)} \\right)} + 4.0 F_{\\phi2} - 4.0 F_{\\theta1} \\cos{\\left(\\theta_{1}{\\left(t \\right)} - \\theta_{2}{\\left(t \\right)} \\right)} - 4.0 F_{\\theta2} + 1.0 F_{x} \\cos{\\left(2 \\theta_{1}{\\left(t \\right)} - \\theta_{2}{\\left(t \\right)} \\right)} + 3.0 F_{x} \\cos{\\left(\\theta_{2}{\\left(t \\right)} \\right)} + 1.0 F_{y} \\sin{\\left(2 \\theta_{1}{\\left(t \\right)} - \\theta_{2}{\\left(t \\right)} \\right)} + 3.0 F_{y} \\sin{\\left(\\theta_{2}{\\left(t \\right)} \\right)} + 2.0 \\sin{\\left(\\theta_{1}{\\left(t \\right)} - \\theta_{2}{\\left(t \\right)} \\right)} \\left(\\frac{d}{d t} \\theta_{1}{\\left(t \\right)}\\right)^{2} - 1.0 \\sin{\\left(2 \\theta_{1}{\\left(t \\right)} - 2 \\theta_{2}{\\left(t \\right)} \\right)} \\left(\\frac{d}{d t} \\theta_{2}{\\left(t \\right)}\\right)^{2}}{\\cos{\\left(2 \\theta_{1}{\\left(t \\right)} - 2 \\theta_{2}{\\left(t \\right)} \\right)} - 1}$"
      ],
      "text/plain": [
       "Eq(Derivative(\\theta_2(t), (t, 2)), (4.0*F_\\phi1*cos(\\theta_1(t) - \\theta_2(t)) + 4.0*F_\\phi2 - 4.0*F_\\theta1*cos(\\theta_1(t) - \\theta_2(t)) - 4.0*F_\\theta2 + 1.0*F_x*cos(2*\\theta_1(t) - \\theta_2(t)) + 3.0*F_x*cos(\\theta_2(t)) + 1.0*F_y*sin(2*\\theta_1(t) - \\theta_2(t)) + 3.0*F_y*sin(\\theta_2(t)) + 2.0*sin(\\theta_1(t) - \\theta_2(t))*Derivative(\\theta_1(t), t)**2 - 1.0*sin(2*\\theta_1(t) - 2*\\theta_2(t))*Derivative(\\theta_2(t), t)**2)/(cos(2*\\theta_1(t) - 2*\\theta_2(t)) - 1))"
      ]
     },
     "metadata": {},
     "output_type": "display_data"
    },
    {
     "data": {
      "text/latex": [
       "$\\displaystyle \\frac{d^{2}}{d t^{2}} \\Phi_{1}{\\left(t \\right)} = \\frac{4.5 F_{\\phi1} \\cos{\\left(2 \\theta_{1}{\\left(t \\right)} - 2 \\theta_{2}{\\left(t \\right)} \\right)} - 8.5 F_{\\phi1} - 4.0 F_{\\phi2} \\cos{\\left(\\theta_{1}{\\left(t \\right)} - \\theta_{2}{\\left(t \\right)} \\right)} + 4.0 F_{\\theta1} + 4.0 F_{\\theta2} \\cos{\\left(\\theta_{1}{\\left(t \\right)} - \\theta_{2}{\\left(t \\right)} \\right)} - 1.0 F_{x} \\cos{\\left(\\theta_{1}{\\left(t \\right)} - 2 \\theta_{2}{\\left(t \\right)} \\right)} - 3.0 F_{x} \\cos{\\left(\\theta_{1}{\\left(t \\right)} \\right)} + 1.0 F_{y} \\sin{\\left(\\theta_{1}{\\left(t \\right)} - 2 \\theta_{2}{\\left(t \\right)} \\right)} - 3.0 F_{y} \\sin{\\left(\\theta_{1}{\\left(t \\right)} \\right)} + 2.0 \\sin{\\left(\\theta_{1}{\\left(t \\right)} - \\theta_{2}{\\left(t \\right)} \\right)} \\left(\\frac{d}{d t} \\theta_{2}{\\left(t \\right)}\\right)^{2} - 1.0 \\sin{\\left(2 \\theta_{1}{\\left(t \\right)} - 2 \\theta_{2}{\\left(t \\right)} \\right)} \\left(\\frac{d}{d t} \\theta_{1}{\\left(t \\right)}\\right)^{2}}{\\cos{\\left(2 \\theta_{1}{\\left(t \\right)} - 2 \\theta_{2}{\\left(t \\right)} \\right)} - 1}$"
      ],
      "text/plain": [
       "Eq(Derivative(\\Phi_1(t), (t, 2)), (4.5*F_\\phi1*cos(2*\\theta_1(t) - 2*\\theta_2(t)) - 8.5*F_\\phi1 - 4.0*F_\\phi2*cos(\\theta_1(t) - \\theta_2(t)) + 4.0*F_\\theta1 + 4.0*F_\\theta2*cos(\\theta_1(t) - \\theta_2(t)) - 1.0*F_x*cos(\\theta_1(t) - 2*\\theta_2(t)) - 3.0*F_x*cos(\\theta_1(t)) + 1.0*F_y*sin(\\theta_1(t) - 2*\\theta_2(t)) - 3.0*F_y*sin(\\theta_1(t)) + 2.0*sin(\\theta_1(t) - \\theta_2(t))*Derivative(\\theta_2(t), t)**2 - 1.0*sin(2*\\theta_1(t) - 2*\\theta_2(t))*Derivative(\\theta_1(t), t)**2)/(cos(2*\\theta_1(t) - 2*\\theta_2(t)) - 1))"
      ]
     },
     "metadata": {},
     "output_type": "display_data"
    },
    {
     "data": {
      "text/latex": [
       "$\\displaystyle \\frac{d^{2}}{d t^{2}} \\Phi_{2}{\\left(t \\right)} = \\frac{- 4.0 F_{\\phi1} \\cos{\\left(\\theta_{1}{\\left(t \\right)} - \\theta_{2}{\\left(t \\right)} \\right)} + 4.5 F_{\\phi2} \\cos{\\left(2 \\theta_{1}{\\left(t \\right)} - 2 \\theta_{2}{\\left(t \\right)} \\right)} - 8.5 F_{\\phi2} + 4.0 F_{\\theta1} \\cos{\\left(\\theta_{1}{\\left(t \\right)} - \\theta_{2}{\\left(t \\right)} \\right)} + 4.0 F_{\\theta2} - 1.0 F_{x} \\cos{\\left(2 \\theta_{1}{\\left(t \\right)} - \\theta_{2}{\\left(t \\right)} \\right)} - 3.0 F_{x} \\cos{\\left(\\theta_{2}{\\left(t \\right)} \\right)} - 1.0 F_{y} \\sin{\\left(2 \\theta_{1}{\\left(t \\right)} - \\theta_{2}{\\left(t \\right)} \\right)} - 3.0 F_{y} \\sin{\\left(\\theta_{2}{\\left(t \\right)} \\right)} - 2.0 \\sin{\\left(\\theta_{1}{\\left(t \\right)} - \\theta_{2}{\\left(t \\right)} \\right)} \\left(\\frac{d}{d t} \\theta_{1}{\\left(t \\right)}\\right)^{2} + 1.0 \\sin{\\left(2 \\theta_{1}{\\left(t \\right)} - 2 \\theta_{2}{\\left(t \\right)} \\right)} \\left(\\frac{d}{d t} \\theta_{2}{\\left(t \\right)}\\right)^{2}}{\\cos{\\left(2 \\theta_{1}{\\left(t \\right)} - 2 \\theta_{2}{\\left(t \\right)} \\right)} - 1}$"
      ],
      "text/plain": [
       "Eq(Derivative(\\Phi_2(t), (t, 2)), (-4.0*F_\\phi1*cos(\\theta_1(t) - \\theta_2(t)) + 4.5*F_\\phi2*cos(2*\\theta_1(t) - 2*\\theta_2(t)) - 8.5*F_\\phi2 + 4.0*F_\\theta1*cos(\\theta_1(t) - \\theta_2(t)) + 4.0*F_\\theta2 - 1.0*F_x*cos(2*\\theta_1(t) - \\theta_2(t)) - 3.0*F_x*cos(\\theta_2(t)) - 1.0*F_y*sin(2*\\theta_1(t) - \\theta_2(t)) - 3.0*F_y*sin(\\theta_2(t)) - 2.0*sin(\\theta_1(t) - \\theta_2(t))*Derivative(\\theta_1(t), t)**2 + 1.0*sin(2*\\theta_1(t) - 2*\\theta_2(t))*Derivative(\\theta_2(t), t)**2)/(cos(2*\\theta_1(t) - 2*\\theta_2(t)) - 1))"
      ]
     },
     "metadata": {},
     "output_type": "display_data"
    }
   ],
   "source": [
    "pkl_filename = '../data/EL_simplified.dill'\n",
    "eqns_new = dill_load(pkl_filename)\n",
    "for eq in eqns_new:\n",
    "    display(eq)"
   ]
  },
  {
   "cell_type": "code",
   "execution_count": 12,
   "id": "c8fd9928",
   "metadata": {},
   "outputs": [
    {
     "data": {
      "text/latex": [
       "$\\displaystyle g m \\left(- L \\cos{\\left(\\theta_{1}{\\left(t \\right)} \\right)} - L \\cos{\\left(\\theta_{2}{\\left(t \\right)} \\right)} + 2 y{\\left(t \\right)}\\right) + 1.0 m w^{2} \\left(- \\left(- \\sin{\\left(\\Phi_{1}{\\left(t \\right)} \\right)} \\sin{\\left(\\theta_{1}{\\left(t \\right)} \\right)} + \\cos{\\left(\\Phi_{1}{\\left(t \\right)} \\right)} \\cos{\\left(\\theta_{1}{\\left(t \\right)} \\right)}\\right) \\left(\\sin{\\left(\\Phi_{1}{\\left(t \\right)} \\right)} \\sin{\\left(\\theta_{1}{\\left(t \\right)} \\right)} \\frac{d}{d t} \\Phi_{1}{\\left(t \\right)} + \\sin{\\left(\\Phi_{1}{\\left(t \\right)} \\right)} \\sin{\\left(\\theta_{1}{\\left(t \\right)} \\right)} \\frac{d}{d t} \\theta_{1}{\\left(t \\right)} - \\cos{\\left(\\Phi_{1}{\\left(t \\right)} \\right)} \\cos{\\left(\\theta_{1}{\\left(t \\right)} \\right)} \\frac{d}{d t} \\Phi_{1}{\\left(t \\right)} - \\cos{\\left(\\Phi_{1}{\\left(t \\right)} \\right)} \\cos{\\left(\\theta_{1}{\\left(t \\right)} \\right)} \\frac{d}{d t} \\theta_{1}{\\left(t \\right)}\\right) - \\left(\\sin{\\left(\\Phi_{1}{\\left(t \\right)} \\right)} \\cos{\\left(\\theta_{1}{\\left(t \\right)} \\right)} + \\sin{\\left(\\theta_{1}{\\left(t \\right)} \\right)} \\cos{\\left(\\Phi_{1}{\\left(t \\right)} \\right)}\\right) \\left(- \\sin{\\left(\\Phi_{1}{\\left(t \\right)} \\right)} \\cos{\\left(\\theta_{1}{\\left(t \\right)} \\right)} \\frac{d}{d t} \\Phi_{1}{\\left(t \\right)} - \\sin{\\left(\\Phi_{1}{\\left(t \\right)} \\right)} \\cos{\\left(\\theta_{1}{\\left(t \\right)} \\right)} \\frac{d}{d t} \\theta_{1}{\\left(t \\right)} - \\sin{\\left(\\theta_{1}{\\left(t \\right)} \\right)} \\cos{\\left(\\Phi_{1}{\\left(t \\right)} \\right)} \\frac{d}{d t} \\Phi_{1}{\\left(t \\right)} - \\sin{\\left(\\theta_{1}{\\left(t \\right)} \\right)} \\cos{\\left(\\Phi_{1}{\\left(t \\right)} \\right)} \\frac{d}{d t} \\theta_{1}{\\left(t \\right)}\\right)\\right)^{2} + 1.0 m w^{2} \\left(- \\left(- \\sin{\\left(\\Phi_{2}{\\left(t \\right)} \\right)} \\sin{\\left(\\theta_{2}{\\left(t \\right)} \\right)} + \\cos{\\left(\\Phi_{2}{\\left(t \\right)} \\right)} \\cos{\\left(\\theta_{2}{\\left(t \\right)} \\right)}\\right) \\left(\\sin{\\left(\\Phi_{2}{\\left(t \\right)} \\right)} \\sin{\\left(\\theta_{2}{\\left(t \\right)} \\right)} \\frac{d}{d t} \\Phi_{2}{\\left(t \\right)} + \\sin{\\left(\\Phi_{2}{\\left(t \\right)} \\right)} \\sin{\\left(\\theta_{2}{\\left(t \\right)} \\right)} \\frac{d}{d t} \\theta_{2}{\\left(t \\right)} - \\cos{\\left(\\Phi_{2}{\\left(t \\right)} \\right)} \\cos{\\left(\\theta_{2}{\\left(t \\right)} \\right)} \\frac{d}{d t} \\Phi_{2}{\\left(t \\right)} - \\cos{\\left(\\Phi_{2}{\\left(t \\right)} \\right)} \\cos{\\left(\\theta_{2}{\\left(t \\right)} \\right)} \\frac{d}{d t} \\theta_{2}{\\left(t \\right)}\\right) - \\left(\\sin{\\left(\\Phi_{2}{\\left(t \\right)} \\right)} \\cos{\\left(\\theta_{2}{\\left(t \\right)} \\right)} + \\sin{\\left(\\theta_{2}{\\left(t \\right)} \\right)} \\cos{\\left(\\Phi_{2}{\\left(t \\right)} \\right)}\\right) \\left(- \\sin{\\left(\\Phi_{2}{\\left(t \\right)} \\right)} \\cos{\\left(\\theta_{2}{\\left(t \\right)} \\right)} \\frac{d}{d t} \\Phi_{2}{\\left(t \\right)} - \\sin{\\left(\\Phi_{2}{\\left(t \\right)} \\right)} \\cos{\\left(\\theta_{2}{\\left(t \\right)} \\right)} \\frac{d}{d t} \\theta_{2}{\\left(t \\right)} - \\sin{\\left(\\theta_{2}{\\left(t \\right)} \\right)} \\cos{\\left(\\Phi_{2}{\\left(t \\right)} \\right)} \\frac{d}{d t} \\Phi_{2}{\\left(t \\right)} - \\sin{\\left(\\theta_{2}{\\left(t \\right)} \\right)} \\cos{\\left(\\Phi_{2}{\\left(t \\right)} \\right)} \\frac{d}{d t} \\theta_{2}{\\left(t \\right)}\\right)\\right)^{2} + 0.5 m \\left(\\left(- \\sin{\\left(\\Phi_{1}{\\left(t \\right)} \\right)} \\sin{\\left(\\theta_{1}{\\left(t \\right)} \\right)} + \\cos{\\left(\\Phi_{1}{\\left(t \\right)} \\right)} \\cos{\\left(\\theta_{1}{\\left(t \\right)} \\right)}\\right) \\left(L \\sin{\\left(\\theta_{1}{\\left(t \\right)} \\right)} \\frac{d}{d t} \\theta_{1}{\\left(t \\right)} + \\frac{d}{d t} y{\\left(t \\right)}\\right) + \\left(- \\sin{\\left(\\Phi_{1}{\\left(t \\right)} \\right)} \\cos{\\left(\\theta_{1}{\\left(t \\right)} \\right)} - \\sin{\\left(\\theta_{1}{\\left(t \\right)} \\right)} \\cos{\\left(\\Phi_{1}{\\left(t \\right)} \\right)}\\right) \\left(L \\cos{\\left(\\theta_{1}{\\left(t \\right)} \\right)} \\frac{d}{d t} \\theta_{1}{\\left(t \\right)} + \\frac{d}{d t} x{\\left(t \\right)}\\right)\\right)^{2} + 0.5 m \\left(\\left(- \\sin{\\left(\\Phi_{1}{\\left(t \\right)} \\right)} \\sin{\\left(\\theta_{1}{\\left(t \\right)} \\right)} + \\cos{\\left(\\Phi_{1}{\\left(t \\right)} \\right)} \\cos{\\left(\\theta_{1}{\\left(t \\right)} \\right)}\\right) \\left(L \\cos{\\left(\\theta_{1}{\\left(t \\right)} \\right)} \\frac{d}{d t} \\theta_{1}{\\left(t \\right)} + \\frac{d}{d t} x{\\left(t \\right)}\\right) + \\left(\\sin{\\left(\\Phi_{1}{\\left(t \\right)} \\right)} \\cos{\\left(\\theta_{1}{\\left(t \\right)} \\right)} + \\sin{\\left(\\theta_{1}{\\left(t \\right)} \\right)} \\cos{\\left(\\Phi_{1}{\\left(t \\right)} \\right)}\\right) \\left(L \\sin{\\left(\\theta_{1}{\\left(t \\right)} \\right)} \\frac{d}{d t} \\theta_{1}{\\left(t \\right)} + \\frac{d}{d t} y{\\left(t \\right)}\\right)\\right)^{2} + 0.5 m \\left(\\left(- \\sin{\\left(\\Phi_{2}{\\left(t \\right)} \\right)} \\sin{\\left(\\theta_{2}{\\left(t \\right)} \\right)} + \\cos{\\left(\\Phi_{2}{\\left(t \\right)} \\right)} \\cos{\\left(\\theta_{2}{\\left(t \\right)} \\right)}\\right) \\left(L \\sin{\\left(\\theta_{2}{\\left(t \\right)} \\right)} \\frac{d}{d t} \\theta_{2}{\\left(t \\right)} + \\frac{d}{d t} y{\\left(t \\right)}\\right) + \\left(- \\sin{\\left(\\Phi_{2}{\\left(t \\right)} \\right)} \\cos{\\left(\\theta_{2}{\\left(t \\right)} \\right)} - \\sin{\\left(\\theta_{2}{\\left(t \\right)} \\right)} \\cos{\\left(\\Phi_{2}{\\left(t \\right)} \\right)}\\right) \\left(L \\cos{\\left(\\theta_{2}{\\left(t \\right)} \\right)} \\frac{d}{d t} \\theta_{2}{\\left(t \\right)} + \\frac{d}{d t} x{\\left(t \\right)}\\right)\\right)^{2} + 0.5 m \\left(\\left(- \\sin{\\left(\\Phi_{2}{\\left(t \\right)} \\right)} \\sin{\\left(\\theta_{2}{\\left(t \\right)} \\right)} + \\cos{\\left(\\Phi_{2}{\\left(t \\right)} \\right)} \\cos{\\left(\\theta_{2}{\\left(t \\right)} \\right)}\\right) \\left(L \\cos{\\left(\\theta_{2}{\\left(t \\right)} \\right)} \\frac{d}{d t} \\theta_{2}{\\left(t \\right)} + \\frac{d}{d t} x{\\left(t \\right)}\\right) + \\left(\\sin{\\left(\\Phi_{2}{\\left(t \\right)} \\right)} \\cos{\\left(\\theta_{2}{\\left(t \\right)} \\right)} + \\sin{\\left(\\theta_{2}{\\left(t \\right)} \\right)} \\cos{\\left(\\Phi_{2}{\\left(t \\right)} \\right)}\\right) \\left(L \\sin{\\left(\\theta_{2}{\\left(t \\right)} \\right)} \\frac{d}{d t} \\theta_{2}{\\left(t \\right)} + \\frac{d}{d t} y{\\left(t \\right)}\\right)\\right)^{2}$"
      ],
      "text/plain": [
       "g*m*(-L*cos(\\theta_1(t)) - L*cos(\\theta_2(t)) + 2*y(t)) + 1.0*m*w**2*(-(-sin(\\Phi_1(t))*sin(\\theta_1(t)) + cos(\\Phi_1(t))*cos(\\theta_1(t)))*(sin(\\Phi_1(t))*sin(\\theta_1(t))*Derivative(\\Phi_1(t), t) + sin(\\Phi_1(t))*sin(\\theta_1(t))*Derivative(\\theta_1(t), t) - cos(\\Phi_1(t))*cos(\\theta_1(t))*Derivative(\\Phi_1(t), t) - cos(\\Phi_1(t))*cos(\\theta_1(t))*Derivative(\\theta_1(t), t)) - (sin(\\Phi_1(t))*cos(\\theta_1(t)) + sin(\\theta_1(t))*cos(\\Phi_1(t)))*(-sin(\\Phi_1(t))*cos(\\theta_1(t))*Derivative(\\Phi_1(t), t) - sin(\\Phi_1(t))*cos(\\theta_1(t))*Derivative(\\theta_1(t), t) - sin(\\theta_1(t))*cos(\\Phi_1(t))*Derivative(\\Phi_1(t), t) - sin(\\theta_1(t))*cos(\\Phi_1(t))*Derivative(\\theta_1(t), t)))**2 + 1.0*m*w**2*(-(-sin(\\Phi_2(t))*sin(\\theta_2(t)) + cos(\\Phi_2(t))*cos(\\theta_2(t)))*(sin(\\Phi_2(t))*sin(\\theta_2(t))*Derivative(\\Phi_2(t), t) + sin(\\Phi_2(t))*sin(\\theta_2(t))*Derivative(\\theta_2(t), t) - cos(\\Phi_2(t))*cos(\\theta_2(t))*Derivative(\\Phi_2(t), t) - cos(\\Phi_2(t))*cos(\\theta_2(t))*Derivative(\\theta_2(t), t)) - (sin(\\Phi_2(t))*cos(\\theta_2(t)) + sin(\\theta_2(t))*cos(\\Phi_2(t)))*(-sin(\\Phi_2(t))*cos(\\theta_2(t))*Derivative(\\Phi_2(t), t) - sin(\\Phi_2(t))*cos(\\theta_2(t))*Derivative(\\theta_2(t), t) - sin(\\theta_2(t))*cos(\\Phi_2(t))*Derivative(\\Phi_2(t), t) - sin(\\theta_2(t))*cos(\\Phi_2(t))*Derivative(\\theta_2(t), t)))**2 + 0.5*m*((-sin(\\Phi_1(t))*sin(\\theta_1(t)) + cos(\\Phi_1(t))*cos(\\theta_1(t)))*(L*sin(\\theta_1(t))*Derivative(\\theta_1(t), t) + Derivative(y(t), t)) + (-sin(\\Phi_1(t))*cos(\\theta_1(t)) - sin(\\theta_1(t))*cos(\\Phi_1(t)))*(L*cos(\\theta_1(t))*Derivative(\\theta_1(t), t) + Derivative(x(t), t)))**2 + 0.5*m*((-sin(\\Phi_1(t))*sin(\\theta_1(t)) + cos(\\Phi_1(t))*cos(\\theta_1(t)))*(L*cos(\\theta_1(t))*Derivative(\\theta_1(t), t) + Derivative(x(t), t)) + (sin(\\Phi_1(t))*cos(\\theta_1(t)) + sin(\\theta_1(t))*cos(\\Phi_1(t)))*(L*sin(\\theta_1(t))*Derivative(\\theta_1(t), t) + Derivative(y(t), t)))**2 + 0.5*m*((-sin(\\Phi_2(t))*sin(\\theta_2(t)) + cos(\\Phi_2(t))*cos(\\theta_2(t)))*(L*sin(\\theta_2(t))*Derivative(\\theta_2(t), t) + Derivative(y(t), t)) + (-sin(\\Phi_2(t))*cos(\\theta_2(t)) - sin(\\theta_2(t))*cos(\\Phi_2(t)))*(L*cos(\\theta_2(t))*Derivative(\\theta_2(t), t) + Derivative(x(t), t)))**2 + 0.5*m*((-sin(\\Phi_2(t))*sin(\\theta_2(t)) + cos(\\Phi_2(t))*cos(\\theta_2(t)))*(L*cos(\\theta_2(t))*Derivative(\\theta_2(t), t) + Derivative(x(t), t)) + (sin(\\Phi_2(t))*cos(\\theta_2(t)) + sin(\\theta_2(t))*cos(\\Phi_2(t)))*(L*sin(\\theta_2(t))*Derivative(\\theta_2(t), t) + Derivative(y(t), t)))**2"
      ]
     },
     "metadata": {},
     "output_type": "display_data"
    }
   ],
   "source": [
    "hamiltonian_f = '../data/hamiltonian.dill'\n",
    "ham = dill_load(hamiltonian_f)\n",
    "display(ham.simplify())"
   ]
  }
 ],
 "metadata": {
  "kernelspec": {
   "display_name": "Python 3 (ipykernel)",
   "language": "python",
   "name": "python3"
  },
  "language_info": {
   "codemirror_mode": {
    "name": "ipython",
    "version": 3
   },
   "file_extension": ".py",
   "mimetype": "text/x-python",
   "name": "python",
   "nbconvert_exporter": "python",
   "pygments_lexer": "ipython3",
   "version": "3.10.7"
  }
 },
 "nbformat": 4,
 "nbformat_minor": 5
}
