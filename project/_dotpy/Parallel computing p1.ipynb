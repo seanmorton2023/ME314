{
 "cells": [
  {
   "cell_type": "code",
   "execution_count": 1,
   "id": "f1938b95",
   "metadata": {},
   "outputs": [],
   "source": [
    "from geometry import *\n",
    "from helpers import *\n",
    "from el_equations import *\n",
    "from impacts import *\n",
    "from plotting_helpers import *\n",
    "from GUI import GUI"
   ]
  },
  {
   "cell_type": "code",
   "execution_count": 2,
   "id": "dd6cb688",
   "metadata": {},
   "outputs": [
    {
     "name": "stdout",
     "output_type": "stream",
     "text": [
      "Preparing Lagrangian...\n",
      "Generating impact equations...\n"
     ]
    },
    {
     "name": "stderr",
     "output_type": "stream",
     "text": [
      "100%|█████████████████████████████████████████████████████████████████████████████████| 16/16 [39:19<00:00, 147.45s/it]\n"
     ]
    }
   ],
   "source": [
    "print(\"Preparing Lagrangian...\")\n",
    "xy_coords_list = convert_coords_to_xy()\n",
    "vertices_list_np = [sym.lambdify(q, expr) for expr in xy_coords_list]\n",
    "phiq_list_sym = calculate_sym_phiq(xy_coords_list)\n",
    "phiq_list_sym = phiq_list_sym[0:16]\n",
    "lagrangian = compute_lagrangian()\n",
    "\n",
    "print(\"Generating impact equations...\")\n",
    "#test_gen_impact_updates(phiq_list_sym, lagrangian, q, subs_dict) #subs_dict = constants\n",
    "out = gen_impact_eqns(phiq_list_sym, lagrangian, q, subs_dict) #subs_dict = constants\n",
    "\n"
   ]
  },
  {
   "cell_type": "code",
   "execution_count": 3,
   "id": "e198fb2c",
   "metadata": {},
   "outputs": [],
   "source": [
    "dill_dump(\"../dill/impact_eqns_0_16.dill\", out)"
   ]
  },
  {
   "cell_type": "code",
   "execution_count": 10,
   "id": "1a061fe1",
   "metadata": {},
   "outputs": [],
   "source": [
    "eqns_0_16 =  dill_load(\"../dill/impact_eqns_0_16.dill\")\n",
    "eqns_16_32 = dill_load(\"../dill/impact_eqns_16_32.dill\")"
   ]
  },
  {
   "cell_type": "code",
   "execution_count": 12,
   "id": "fc6fb135",
   "metadata": {},
   "outputs": [],
   "source": [
    "eqns_combined = eqns_0_16 + eqns_16_32\n",
    "dill_dump(\"../dill/impact_eqns_0_32.dill\", eqns_combined)"
   ]
  },
  {
   "cell_type": "code",
   "execution_count": 9,
   "id": "500b3423",
   "metadata": {},
   "outputs": [
    {
     "data": {
      "text/plain": [
       "17"
      ]
     },
     "execution_count": 9,
     "metadata": {},
     "output_type": "execute_result"
    }
   ],
   "source": []
  }
 ],
 "metadata": {
  "kernelspec": {
   "display_name": "Python 3 (ipykernel)",
   "language": "python",
   "name": "python3"
  },
  "language_info": {
   "codemirror_mode": {
    "name": "ipython",
    "version": 3
   },
   "file_extension": ".py",
   "mimetype": "text/x-python",
   "name": "python",
   "nbconvert_exporter": "python",
   "pygments_lexer": "ipython3",
   "version": "3.10.7"
  }
 },
 "nbformat": 4,
 "nbformat_minor": 5
}
