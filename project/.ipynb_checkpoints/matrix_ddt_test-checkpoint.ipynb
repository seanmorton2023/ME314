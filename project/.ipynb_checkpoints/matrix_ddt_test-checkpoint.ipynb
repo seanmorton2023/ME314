{
 "cells": [
  {
   "cell_type": "code",
   "execution_count": 2,
   "id": "3dee7824",
   "metadata": {},
   "outputs": [],
   "source": [
    "#define variables\n",
    "import sympy as sym\n",
    "import numpy as np\n",
    "\n",
    "def SOnAndRnToSEn(R, p):\n",
    "       \n",
    "#     print('-----------------------')\n",
    "#     print(\"\\nSOnAndRn... Debug:\")\n",
    "#     print(\"\\nR:\")\n",
    "#     print(type(R))\n",
    "#     print(R)\n",
    "#     print(\"\\np:\")\n",
    "#     print(type(p))\n",
    "#     print(p)\n",
    "    \n",
    "    #do type checking for the matrix types\n",
    "    if type(R) == list:\n",
    "        R = np.matrix(R)\n",
    "        \n",
    "    n = R.shape[0]\n",
    "    if ((R.shape[0] != R.shape[1]) or                               #R is NP array or Sym matrix\n",
    "        ((type(p) is np.ndarray and max(p.shape) != R.shape[0]) or  #p is NP array and shape mismatch or.. \n",
    "          ((isinstance(p, list) or isinstance(p, sym.Matrix)) and \n",
    "            ( len(p) != R.shape[0] ))   )  ):                       #p is Sym matrix or \"list\" and shape mismatch\n",
    "        raise Exception(f\"Shape of R {R.shape} and p ({len(p)}) mismatch; exiting.\")\n",
    "        return None\n",
    "        \n",
    "    #construct a matrix based on returning a Sympy Matrix\n",
    "    if isinstance(R, sym.Matrix) or isinstance(p, sym.Matrix): \n",
    "        #realistically one of these needs to be symbolic to do this\n",
    "\n",
    "        if isinstance(R, np.ndarray) or isinstance(p, np.ndarray):\n",
    "            raise Exception(\"R and p cannot mix/match Sympy and Numpy types\")\n",
    "            return None\n",
    "        \n",
    "        G = sym.zeros(n+1)\n",
    "        G[:n, n] = sym.Matrix(p)\n",
    "    \n",
    "    #construct a matrix based on returning a Numpy matrix\n",
    "    elif isinstance(R, np.ndarray) or isinstance(R, list):\n",
    "        G = np.zeros([n+1, n+1])\n",
    "        # print(f\"\\nSOnAndRnToSEn Debug: \\n\\nR:\\n{R}    \\n\\np:\\n{p}   \")\n",
    "        G[:n, n] = np.array(p).T\n",
    "        \n",
    "    else:\n",
    "        raise Exception(\"Error: type not recognized\")\n",
    "        return None\n",
    "    \n",
    "    G[:n,:n] = R\n",
    "    G[-1,-1] = 1\n",
    "    return G  \n",
    "\n",
    "\n",
    "\n",
    "L1, L2, m, J, W, g = sym.symbols(r'L_1, L_2, m, J, W, g')\n",
    "t = sym.symbols(r't')\n",
    "x = sym.Function(r'x')(t)\n",
    "y = sym.Function(r'y')(t)\n",
    "theta1 = sym.Function(r'\\theta_1')(t)\n",
    "theta2 = sym.Function(r'\\theta_2')(t)\n",
    "\n",
    "q = sym.Matrix([x, y, theta1, theta2])\n",
    "qd = q.diff(t)\n",
    "qdd = qd.diff(t)\n",
    "\n",
    "#not included: xd, yd, ..., q_ext\n",
    "\n",
    "#define transformation matrices. let A1 be in the direction of \n",
    "#the right leg and A2 be in the direction of the left leg\n",
    "\n",
    "#------right leg------#\n",
    "Raa1 = sym.Matrix([\n",
    "    [sym.cos(theta1), -sym.sin(theta1), 0],\n",
    "    [sym.sin(theta1),  sym.cos(theta1), 0],\n",
    "    [              0,                0, 1]\n",
    "])\n",
    "\n",
    "Rdf = sym.Matrix([\n",
    "    [sym.cos(-theta1), -sym.sin(-theta1), 0],\n",
    "    [sym.sin(-theta1),  sym.cos(-theta1), 0],\n",
    "    [              0,                0,   1]\n",
    "])\n",
    "\n",
    "p_a1b = sym.Matrix([0, -L1/2, 0])\n",
    "p_bd =  sym.Matrix([0, -L1/2, 0])\n",
    "\n",
    "p_new = sym.Matrix([x, y, 0])\n",
    "Gaa1 = SOnAndRnToSEn(Raa1, p_new)"
   ]
  },
  {
   "cell_type": "code",
   "execution_count": 4,
   "id": "0bfaf1f3",
   "metadata": {},
   "outputs": [
    {
     "data": {
      "text/latex": [
       "$\\displaystyle \\left[\\begin{matrix}\\cos{\\left(\\theta_{1}{\\left(t \\right)} \\right)} & - \\sin{\\left(\\theta_{1}{\\left(t \\right)} \\right)} & 0 & 0\\\\\\sin{\\left(\\theta_{1}{\\left(t \\right)} \\right)} & \\cos{\\left(\\theta_{1}{\\left(t \\right)} \\right)} & 0 & - \\frac{L_{1}}{2}\\\\0 & 0 & 1 & 0\\\\0 & 0 & 0 & 1\\end{matrix}\\right]$"
      ],
      "text/plain": [
       "Matrix([\n",
       "[cos(\\theta_1(t)), -sin(\\theta_1(t)), 0,      0],\n",
       "[sin(\\theta_1(t)),  cos(\\theta_1(t)), 0, -L_1/2],\n",
       "[               0,                 0, 1,      0],\n",
       "[               0,                 0, 0,      1]])"
      ]
     },
     "metadata": {},
     "output_type": "display_data"
    },
    {
     "data": {
      "text/latex": [
       "$\\displaystyle \\left[\\begin{matrix}- \\sin{\\left(\\theta_{1}{\\left(t \\right)} \\right)} \\frac{d}{d t} \\theta_{1}{\\left(t \\right)} & - \\cos{\\left(\\theta_{1}{\\left(t \\right)} \\right)} \\frac{d}{d t} \\theta_{1}{\\left(t \\right)} & 0 & 0\\\\\\cos{\\left(\\theta_{1}{\\left(t \\right)} \\right)} \\frac{d}{d t} \\theta_{1}{\\left(t \\right)} & - \\sin{\\left(\\theta_{1}{\\left(t \\right)} \\right)} \\frac{d}{d t} \\theta_{1}{\\left(t \\right)} & 0 & 0\\\\0 & 0 & 0 & 0\\\\0 & 0 & 0 & 0\\end{matrix}\\right]$"
      ],
      "text/plain": [
       "Matrix([\n",
       "[-sin(\\theta_1(t))*Derivative(\\theta_1(t), t), -cos(\\theta_1(t))*Derivative(\\theta_1(t), t), 0, 0],\n",
       "[ cos(\\theta_1(t))*Derivative(\\theta_1(t), t), -sin(\\theta_1(t))*Derivative(\\theta_1(t), t), 0, 0],\n",
       "[                                           0,                                            0, 0, 0],\n",
       "[                                           0,                                            0, 0, 0]])"
      ]
     },
     "metadata": {},
     "output_type": "display_data"
    }
   ],
   "source": [
    "display(Gaa1)\n",
    "display(Gaa1.diff(t))"
   ]
  }
 ],
 "metadata": {
  "kernelspec": {
   "display_name": "Python 3 (ipykernel)",
   "language": "python",
   "name": "python3"
  },
  "language_info": {
   "codemirror_mode": {
    "name": "ipython",
    "version": 3
   },
   "file_extension": ".py",
   "mimetype": "text/x-python",
   "name": "python",
   "nbconvert_exporter": "python",
   "pygments_lexer": "ipython3",
   "version": "3.10.7"
  }
 },
 "nbformat": 4,
 "nbformat_minor": 5
}
