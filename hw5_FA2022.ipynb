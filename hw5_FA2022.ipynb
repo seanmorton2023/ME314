{
 "cells": [
  {
   "cell_type": "markdown",
   "metadata": {
    "id": "hpGKreNV1Zvi"
   },
   "source": [
    "# ME314 Homework 5\n",
    "\n",
    "### Submission instructions\n",
    "\n",
    "Deliverables that should be included with your submission are shown in **bold** at the end of each problem statement and the corresponding supplemental material. **Your homework will be graded IFF you submit a single PDF, .mp4 videos of animations when requested and a link to a Google colab file that meet all the requirements outlined below.**\n",
    "\n",
    "- List the names of students you've collaborated with on this homework assignment.\n",
    "- Include all of your code (and handwritten solutions when applicable) used to complete the problems.\n",
    "- Highlight your answers (i.e. **bold** and outline the answers) for handwritten or markdown questions and include simplified code outputs (e.g. .simplify()) for python questions.\n",
    "- Enable Google Colab permission for editing \n",
    " * Click Share in the upper right corner\n",
    " * Under \"Get Link\" click \"Share with...\" or \"Change\" \n",
    " * Then make sure it says \"Anyone with Link\" and \"Editor\" under the dropdown menu\n",
    "- Make sure all cells are run before submitting (i.e. check the permission by running your code in a private mode)\n",
    " * Please don't make changes to your file after submitting, so we can grade it!\n",
    "- Submit a link to your Google Colab file that has been run (before the submission deadline) and don't edit it afterwards!\n",
    "\n",
    "**NOTE:** This Juputer Notebook file serves as a template for you to start homework. Make sure you first copy this template to your own Google driver (click \"File\" -> \"Save a copy in Drive\"), and then start to edit it."
   ]
  },
  {
   "cell_type": "code",
   "execution_count": 33,
   "metadata": {
    "id": "g_-zrKKbRrtk"
   },
   "outputs": [],
   "source": [
    "#Import cell\n",
    "import sympy as sym\n",
    "import numpy as np\n",
    "import matplotlib.pyplot as plt\n"
   ]
  },
  {
   "cell_type": "code",
   "execution_count": 2,
   "metadata": {
    "id": "7Fr6sZey1Zvj"
   },
   "outputs": [],
   "source": [
    "##############################################################################################\n",
    "# If you're using Google Colab, uncomment this section by selecting the whole section and press\n",
    "# ctrl+'/' on your and keyboard. Run it before you start programming, this will enable the nice \n",
    "# LaTeX \"display()\" function for you. If you're using the local Jupyter environment, leave it alone\n",
    "##############################################################################################\n",
    "# def custom_latex_printer(exp,**options):\n",
    "#     from google.colab.output._publish import javascript\n",
    "#     url = \"https://cdnjs.cloudflare.com/ajax/libs/mathjax/3.1.1/latest.js?config=TeX-AMS_HTML\"\n",
    "#     javascript(url=url)\n",
    "#     return sym.printing.latex(exp,**options)\n",
    "# sym.init_printing(use_latex=\"mathjax\",latex_printer=custom_latex_printer)"
   ]
  },
  {
   "cell_type": "markdown",
   "metadata": {
    "id": "CWoRK0TT1Zvp"
   },
   "source": [
    "Below are the help functions in previous homeworks, which you may need for this homework."
   ]
  },
  {
   "cell_type": "code",
   "execution_count": 24,
   "metadata": {},
   "outputs": [],
   "source": [
    "def compute_EL(lagrangian, q):\n",
    "    '''\n",
    "    Helper function for computing the Euler-Lagrange equations for a given system,\n",
    "    so I don't have to keep writing it out over and over again.\n",
    "    \n",
    "    Inputs:\n",
    "    - lagrangian: our Lagrangian function in symbolic (Sympy) form\n",
    "    - q: our state vector [x1, x2, ...], in symbolic (Sympy) form\n",
    "    \n",
    "    Outputs:\n",
    "    - eqn: the Euler-Lagrange equations in Sympy form\n",
    "    '''\n",
    "    \n",
    "    # wrap system states into one vector (in SymPy would be Matrix)\n",
    "    #q = sym.Matrix([x1, x2])\n",
    "    qd = q.diff(t)\n",
    "    qdd = qd.diff(t)\n",
    "\n",
    "    # compute derivative wrt a vector, method 1\n",
    "    # wrap the expression into a SymPy Matrix\n",
    "    L_mat = sym.Matrix([lagrangian])\n",
    "    dL_dq = L_mat.jacobian(q)\n",
    "    dL_dqdot = L_mat.jacobian(qd)\n",
    "\n",
    "    #set up the Euler-Lagrange equations\n",
    "    LHS = dL_dq - dL_dqdot.diff(t)\n",
    "    RHS = sym.zeros(len(q),1)\n",
    "    eqn = sym.Eq(LHS.T, RHS.T)\n",
    "    \n",
    "    return eqn\n",
    "\n",
    "def solve_EL(eqn, var):\n",
    "    '''\n",
    "    Helper function to solve and display the solution for the Euler-Lagrange\n",
    "    equations.\n",
    "    \n",
    "    Inputs:\n",
    "    - eqn: Euler-Lagrange equation (type: Sympy Equation())\n",
    "    - var: state vector (type: Sympy Matrix). typically a form of q-doubledot\n",
    "        but may have different terms\n",
    "    \n",
    "    Outputs:\n",
    "    - Prints symbolic solutions\n",
    "    - Returns symbolic solutions in a dictionary\n",
    "    '''\n",
    "    \n",
    "    soln = sym.solve(eqn, var, dict = True)\n",
    "    eqns_solved = []\n",
    "    \n",
    "    \n",
    "    for i, sol in enumerate(soln):\n",
    "        for x in list(sol.keys()):\n",
    "            eqn_solved = sym.Eq(x, sol[x])\n",
    "            eqns_solved.append(eqn_solved)\n",
    "            \n",
    "    return eqns_solved\n",
    "\n",
    "def solve_constrained_EL(lamb, phi, q, lhs):\n",
    "    \"\"\"Now uses just the LHS of the constrained E-L equations,\n",
    "    rather than the full equation form\"\"\"\n",
    "    \n",
    "    qd = q.diff(t)\n",
    "    qdd = qd.diff(t)\n",
    "    \n",
    "    phidd = phi.diff(t).diff(t)\n",
    "    lamb_grad = sym.Matrix([lamb * phi.diff(a) for a in q])\n",
    "    q_mod = qdd.row_insert(2, sym.Matrix([lamb]))\n",
    "    \n",
    "    #format equations so they're all in one matrix\n",
    "    expr_matrix = lhs - lamb_grad\n",
    "    phidd_matrix = sym.Matrix([phidd])\n",
    "    expr_matrix = expr_matrix.row_insert(2,phidd_matrix)\n",
    "    \n",
    "    print(\"Equations to be solved (LHS - lambda * grad(phi) = 0):\")\n",
    "    RHS = sym.zeros(len(expr_matrix), 1)\n",
    "    disp_eq = sym.Eq(expr_matrix, RHS)\n",
    "    display(disp_eq)\n",
    "    print(\"Variables to solve for:\")\n",
    "    display(q_mod)\n",
    "\n",
    "    #solve E-L equations\n",
    "    eqns_solved = solve_EL(expr_matrix, q_mod)\n",
    "    return eqns_solved\n"
   ]
  },
  {
   "cell_type": "code",
   "execution_count": 46,
   "metadata": {},
   "outputs": [],
   "source": [
    "def rk4(dxdt, x, t, dt):\n",
    "    '''\n",
    "    Applies the Runge-Kutta method, 4th order, to a sample function,\n",
    "    for a given state q0, for a given step size. Currently only\n",
    "    configured for a 2-variable dependent system (x,y).\n",
    "    ==========\n",
    "    dxdt: a Sympy function that specifies the derivative of the system of interest\n",
    "    t: the current timestep of the simulation\n",
    "    x: current value of the state vector\n",
    "    dt: the amount to increment by for Runge-Kutta\n",
    "    ======\n",
    "    returns:\n",
    "    x_new: value of the state vector at the next timestep\n",
    "    '''      \n",
    "    k1 = dt * dxdt(t, x)\n",
    "    k2 = dt * dxdt(t + dt/2.0, x + k1/2.0)\n",
    "    k3 = dt * dxdt(t + dt/2.0, x + k2/2.0)\n",
    "    k4 = dt * dxdt(t + dt, x + k3)\n",
    "    x_new = x + (k1 + 2.0*k2 + 2.0*k3 + k4)/6.0\n",
    "    \n",
    "    return x_new\n",
    "\n",
    "\n",
    "def simulate(f, x0, tspan, dt, integrate):\n",
    "    \"\"\"\n",
    "    This function takes in an initial condition x0, a timestep dt,\n",
    "    a time span tspan consisting of a list [min_time, max_time],\n",
    "    as well as a dynamical system f(x) that outputs a vector of the\n",
    "    same dimension as x0. It outputs a full trajectory simulated\n",
    "    over the time span of dimensions (xvec_size, time_vec_size).\n",
    "    \n",
    "    Parameters\n",
    "    ============\n",
    "    f: Python function\n",
    "        derivate of the system at a given step x(t), \n",
    "        it can considered as \\dot{x}(t) = func(x(t))\n",
    "    x0: NumPy array\n",
    "        initial conditions\n",
    "    tspan: Python list\n",
    "        tspan = [min_time, max_time], it defines the start and end\n",
    "        time of simulation\n",
    "    dt:\n",
    "        time step for numerical integration\n",
    "    integrate: Python function\n",
    "        numerical integration method used in this simulation\n",
    "\n",
    "    Return\n",
    "    ============\n",
    "    x_traj:\n",
    "        simulated trajectory of x(t) from t=0 to tf\n",
    "    \"\"\"\n",
    "    N = int((max(tspan)-min(tspan))/dt)\n",
    "    x = np.copy(x0)\n",
    "    tvec = np.linspace(min(tspan),max(tspan),N)\n",
    "    xtraj = np.zeros((len(x0),N))\n",
    "    \n",
    "    for i in range(N):\n",
    "        t = tvec[i]\n",
    "        xtraj[:,i]=integrate(f,x,t,dt)\n",
    "        x = np.copy(xtraj[:,i])\n",
    "    return xtraj \n",
    "      "
   ]
  },
  {
   "cell_type": "code",
   "execution_count": 47,
   "metadata": {},
   "outputs": [],
   "source": [
    "# def integrate(f, xt, dt):\n",
    "#     \"\"\"\n",
    "#     This function takes in an initial condition x(t) and a timestep dt,\n",
    "#     as well as a dynamical system f(x) that outputs a vector of the\n",
    "#     same dimension as x(t). It outputs a vector x(t+dt) at the future\n",
    "#     time step.\n",
    "    \n",
    "#     Parameters\n",
    "#     ============\n",
    "#     dyn: Python function\n",
    "#         derivate of the system at a given step x(t), \n",
    "#         it can considered as \\dot{x}(t) = func(x(t))\n",
    "#     xt: NumPy array\n",
    "#         current step x(t)\n",
    "#     dt: \n",
    "#         step size for integration\n",
    "\n",
    "#     Return\n",
    "#     ============\n",
    "#     new_xt: \n",
    "#         value of x(t+dt) integrated from x(t)\n",
    "#     \"\"\"\n",
    "#     k1 = dt * f(xt)\n",
    "#     k2 = dt * f(xt+k1/2.)\n",
    "#     k3 = dt * f(xt+k2/2.)\n",
    "#     k4 = dt * f(xt+k3)\n",
    "#     new_xt = xt + (1/6.) * (k1+2.0*k2+2.0*k3+k4)\n",
    "#     return new_xt\n",
    "\n",
    "# def simulate(f, x0, tspan, dt, integrate):\n",
    "#     \"\"\"\n",
    "#     This function takes in an initial condition x0, a timestep dt,\n",
    "#     a time span tspan consisting of a list [min_time, max_time],\n",
    "#     as well as a dynamical system f(x) that outputs a vector of the\n",
    "#     same dimension as x0. It outputs a full trajectory simulated\n",
    "#     over the time span of dimensions (xvec_size, time_vec_size).\n",
    "    \n",
    "#     Parameters\n",
    "#     ============\n",
    "#     f: Python function\n",
    "#         derivate of the system at a given step x(t), \n",
    "#         it can considered as \\dot{x}(t) = func(x(t))\n",
    "#     x0: NumPy array\n",
    "#         initial conditions\n",
    "#     tspan: Python list\n",
    "#         tspan = [min_time, max_time], it defines the start and end\n",
    "#         time of simulation\n",
    "#     dt:\n",
    "#         time step for numerical integration\n",
    "#     integrate: Python function\n",
    "#         numerical integration method used in this simulation\n",
    "\n",
    "#     Return\n",
    "#     ============\n",
    "#     x_traj:\n",
    "#         simulated trajectory of x(t) from t=0 to tf\n",
    "#     \"\"\"\n",
    "#     N = int((max(tspan)-min(tspan))/dt)\n",
    "#     x = np.copy(x0)\n",
    "#     tvec = np.linspace(min(tspan),max(tspan),N)\n",
    "#     xtraj = np.zeros((len(x0),N))\n",
    "#     for i in range(N):\n",
    "#         xtraj[:,i]=integrate(f,x,dt)\n",
    "#         x = np.copy(xtraj[:,i])\n",
    "#     return xtraj "
   ]
  },
  {
   "cell_type": "code",
   "execution_count": 48,
   "metadata": {
    "id": "c_zO-b0K1Zvq"
   },
   "outputs": [],
   "source": [
    "def animate_double_pend(theta_array,L1=1,L2=1,T=10):\n",
    "    \"\"\"\n",
    "    Function to generate web-based animation of double-pendulum system\n",
    "\n",
    "    Parameters:\n",
    "    ================================================\n",
    "    theta_array:\n",
    "        trajectory of theta1 and theta2, should be a NumPy array with\n",
    "        shape of (2,N)\n",
    "    L1:\n",
    "        length of the first pendulum\n",
    "    L2:\n",
    "        length of the second pendulum\n",
    "    T:\n",
    "        length/seconds of animation duration\n",
    "\n",
    "    Returns: None\n",
    "    \"\"\"\n",
    "\n",
    "    ################################\n",
    "    # Imports required for animation.\n",
    "    from plotly.offline import init_notebook_mode, iplot\n",
    "    from IPython.display import display, HTML\n",
    "    import plotly.graph_objects as go\n",
    "\n",
    "    #######################\n",
    "    # Browser configuration.\n",
    "    def configure_plotly_browser_state():\n",
    "        import IPython\n",
    "        display(IPython.core.display.HTML('''\n",
    "            <script src=\"/static/components/requirejs/require.js\"></script>\n",
    "            <script>\n",
    "              requirejs.config({\n",
    "                paths: {\n",
    "                  base: '/static/base',\n",
    "                  plotly: 'https://cdn.plot.ly/plotly-latest.min.js?noext',\n",
    "                },\n",
    "              });\n",
    "            </script>\n",
    "            '''))\n",
    "    configure_plotly_browser_state()\n",
    "    init_notebook_mode(connected=False)\n",
    "\n",
    "    ###############################################\n",
    "    # Getting data from pendulum angle trajectories.\n",
    "    xx1=L1*np.sin(theta_array[0])\n",
    "    yy1=-L1*np.cos(theta_array[0])\n",
    "    xx2=xx1+L2*np.sin(theta_array[0]+theta_array[1])\n",
    "    yy2=yy1-L2*np.cos(theta_array[0]+theta_array[1])\n",
    "    N = len(theta_array[0]) # Need this for specifying length of simulation\n",
    "\n",
    "    ####################################\n",
    "    # Using these to specify axis limits.\n",
    "    xm=np.min(xx1)-0.5\n",
    "    xM=np.max(xx1)+0.5\n",
    "    ym=np.min(yy1)-2.5\n",
    "    yM=np.max(yy1)+1.5\n",
    "\n",
    "    ###########################\n",
    "    # Defining data dictionary.\n",
    "    # Trajectories are here.\n",
    "    data=[dict(x=xx1, y=yy1, \n",
    "               mode='lines', name='Arm', \n",
    "               line=dict(width=2, color='blue')\n",
    "              ),\n",
    "          dict(x=xx1, y=yy1, \n",
    "               mode='lines', name='Mass 1',\n",
    "               line=dict(width=2, color='purple')\n",
    "              ),\n",
    "          dict(x=xx2, y=yy2, \n",
    "               mode='lines', name='Mass 2',\n",
    "               line=dict(width=2, color='green')\n",
    "              ),\n",
    "          dict(x=xx1, y=yy1, \n",
    "               mode='markers', name='Pendulum 1 Traj', \n",
    "               marker=dict(color=\"purple\", size=2)\n",
    "              ),\n",
    "          dict(x=xx2, y=yy2, \n",
    "               mode='markers', name='Pendulum 2 Traj', \n",
    "               marker=dict(color=\"green\", size=2)\n",
    "              ),\n",
    "        ]\n",
    "\n",
    "    ################################\n",
    "    # Preparing simulation layout.\n",
    "    # Title and axis ranges are here.\n",
    "    layout=dict(xaxis=dict(range=[xm, xM], autorange=False, zeroline=False,dtick=1),\n",
    "                yaxis=dict(range=[ym, yM], autorange=False, zeroline=False,scaleanchor = \"x\",dtick=1),\n",
    "                title='Double Pendulum Simulation', \n",
    "                hovermode='closest',\n",
    "                updatemenus= [{'type': 'buttons',\n",
    "                               'buttons': [{'label': 'Play','method': 'animate',\n",
    "                                            'args': [None, {'frame': {'duration': T, 'redraw': False}}]},\n",
    "                                           {'args': [[None], {'frame': {'duration': T, 'redraw': False}, 'mode': 'immediate',\n",
    "                                            'transition': {'duration': 0}}],'label': 'Pause','method': 'animate'}\n",
    "                                          ]\n",
    "                              }]\n",
    "               )\n",
    "\n",
    "    ########################################\n",
    "    # Defining the frames of the simulation.\n",
    "    # This is what draws the lines from\n",
    "    # joint to joint of the pendulum.\n",
    "    frames=[dict(data=[dict(x=[0,xx1[k],xx2[k]], \n",
    "                            y=[0,yy1[k],yy2[k]], \n",
    "                            mode='lines',\n",
    "                            line=dict(color='red', width=3)\n",
    "                            ),\n",
    "                       go.Scatter(\n",
    "                            x=[xx1[k]],\n",
    "                            y=[yy1[k]],\n",
    "                            mode=\"markers\",\n",
    "                            marker=dict(color=\"blue\", size=12)),\n",
    "                       go.Scatter(\n",
    "                            x=[xx2[k]],\n",
    "                            y=[yy2[k]],\n",
    "                            mode=\"markers\",\n",
    "                            marker=dict(color=\"blue\", size=12)),\n",
    "                      ]) for k in range(N)]\n",
    "\n",
    "    #######################################\n",
    "    # Putting it all together and plotting.\n",
    "    figure1=dict(data=data, layout=layout, frames=frames)           \n",
    "    iplot(figure1)\n",
    "\n",
    "def animate_triple_pend(theta_array, L1=1, L2=1, L3=1, T=10):\n",
    "    \"\"\"\n",
    "    Function to generate web-based animation of triple-pendulum system\n",
    "\n",
    "    Parameters:\n",
    "    ================================================\n",
    "    theta_array:\n",
    "        trajectory of theta1 and theta2, should be a NumPy array with\n",
    "        shape of (3,N)\n",
    "    L1:\n",
    "        length of the first pendulum\n",
    "    L2:\n",
    "        length of the second pendulum\n",
    "    L3:\n",
    "        length of the third pendulum\n",
    "    T:\n",
    "        length/seconds of animation duration\n",
    "\n",
    "    Returns: None\n",
    "    \"\"\"\n",
    "\n",
    "    ################################\n",
    "    # Imports required for animation.\n",
    "    from plotly.offline import init_notebook_mode, iplot\n",
    "    from IPython.display import display, HTML\n",
    "    import plotly.graph_objects as go\n",
    "\n",
    "    #######################\n",
    "    # Browser configuration.\n",
    "    def configure_plotly_browser_state():\n",
    "        import IPython\n",
    "        display(IPython.core.display.HTML('''\n",
    "            <script src=\"/static/components/requirejs/require.js\"></script>\n",
    "            <script>\n",
    "              requirejs.config({\n",
    "                paths: {\n",
    "                  base: '/static/base',\n",
    "                  plotly: 'https://cdn.plot.ly/plotly-1.5.1.min.js?noext',\n",
    "                },\n",
    "              });\n",
    "            </script>\n",
    "            '''))\n",
    "    configure_plotly_browser_state()\n",
    "    init_notebook_mode(connected=False)\n",
    "\n",
    "    ###############################################\n",
    "    # Getting data from pendulum angle trajectories.\n",
    "    xx1=L1*np.sin(theta_array[0])\n",
    "    yy1=-L1*np.cos(theta_array[0])\n",
    "    xx2=xx1+L2*np.sin(theta_array[0]+theta_array[1])\n",
    "    yy2=yy1-L2*np.cos(theta_array[0]+theta_array[1])\n",
    "    xx3=xx2+L3*np.sin(theta_array[0]+theta_array[1]+theta_array[2])\n",
    "    yy3=yy2-L3*np.cos(theta_array[0]+theta_array[1]+theta_array[2])\n",
    "    N = len(theta_array[0]) # Need this for specifying length of simulation\n",
    "\n",
    "    ####################################\n",
    "    # Using these to specify axis limits.\n",
    "    xm=np.min(xx1)-0.5\n",
    "    xM=np.max(xx1)+0.5\n",
    "    ym=np.min(yy1)-2.5\n",
    "    yM=np.max(yy1)+1.5\n",
    "\n",
    "    ###########################\n",
    "    # Defining data dictionary.\n",
    "    # Trajectories are here.\n",
    "    data=[dict(x=xx1, y=yy1, \n",
    "               mode='lines', name='Arm', \n",
    "               line=dict(width=2, color='blue')\n",
    "              ),\n",
    "          dict(x=xx1, y=yy1, \n",
    "               mode='lines', name='Mass 1',\n",
    "               line=dict(width=2, color='purple')\n",
    "              ),\n",
    "          dict(x=xx2, y=yy2, \n",
    "               mode='lines', name='Mass 2',\n",
    "               line=dict(width=2, color='green')\n",
    "              ),\n",
    "          dict(x=xx3, y=yy3, \n",
    "               mode='lines', name='Mass 3',\n",
    "               line=dict(width=2, color='yellow')\n",
    "              ),\n",
    "          dict(x=xx1, y=yy1, \n",
    "               mode='markers', name='Pendulum 1 Traj', \n",
    "               marker=dict(color=\"purple\", size=2)\n",
    "              ),\n",
    "          dict(x=xx2, y=yy2, \n",
    "               mode='markers', name='Pendulum 2 Traj', \n",
    "               marker=dict(color=\"green\", size=2)\n",
    "              ),\n",
    "          dict(x=xx3, y=yy3, \n",
    "               mode='markers', name='Pendulum 3 Traj', \n",
    "               marker=dict(color=\"yellow\", size=2)\n",
    "              ),\n",
    "        ]\n",
    "\n",
    "    ################################\n",
    "    # Preparing simulation layout.\n",
    "    # Title and axis ranges are here.\n",
    "    layout=dict(xaxis=dict(range=[xm, xM], autorange=False, zeroline=False,dtick=1),\n",
    "                yaxis=dict(range=[ym, yM], autorange=False, zeroline=False,scaleanchor = \"x\",dtick=1),\n",
    "                title='Double Pendulum Simulation', \n",
    "                hovermode='closest',\n",
    "                updatemenus= [{'type': 'buttons',\n",
    "                               'buttons': [{'label': 'Play','method': 'animate',\n",
    "                                            'args': [None, {'frame': {'duration': T, 'redraw': False}}]},\n",
    "                                           {'args': [[None], {'frame': {'duration': T, 'redraw': False}, 'mode': 'immediate',\n",
    "                                            'transition': {'duration': 0}}],'label': 'Pause','method': 'animate'}\n",
    "                                          ]\n",
    "                              }]\n",
    "               )\n",
    "\n",
    "    ########################################\n",
    "    # Defining the frames of the simulation.\n",
    "    # This is what draws the lines from\n",
    "    # joint to joint of the pendulum.\n",
    "    frames=[dict(data=[dict(x=[0,xx1[k],xx2[k],xx3[k]], \n",
    "                            y=[0,yy1[k],yy2[k],yy3[k]], \n",
    "                            mode='lines',\n",
    "                            line=dict(color='red', width=3)\n",
    "                            ),\n",
    "                       go.Scatter(\n",
    "                            x=[xx1[k]],\n",
    "                            y=[yy1[k]],\n",
    "                            mode=\"markers\",\n",
    "                            marker=dict(color=\"blue\", size=12)),\n",
    "                       go.Scatter(\n",
    "                            x=[xx2[k]],\n",
    "                            y=[yy2[k]],\n",
    "                            mode=\"markers\",\n",
    "                            marker=dict(color=\"blue\", size=12)),\n",
    "                       go.Scatter(\n",
    "                            x=[xx3[k]],\n",
    "                            y=[yy3[k]],\n",
    "                            mode=\"markers\",\n",
    "                            marker=dict(color=\"blue\", size=12)),\n",
    "                      ]) for k in range(N)]\n",
    "\n",
    "    #######################################\n",
    "    # Putting it all together and plotting.\n",
    "    figure1=dict(data=data, layout=layout, frames=frames)           \n",
    "    iplot(figure1)\n"
   ]
  },
  {
   "cell_type": "code",
   "execution_count": 49,
   "metadata": {
    "colab": {
     "base_uri": "https://localhost:8080/",
     "height": 377
    },
    "id": "ErkFGzgk1Zvv",
    "outputId": "46415dd0-4df0-4d76-dd3b-e7ab3ff52d16"
   },
   "outputs": [
    {
     "data": {
      "text/html": [
       "<table><tr><td><img src='https://github.com/MuchenSun/ME314pngs/raw/master/singlepend.JPG' width=350' height='350'></table>"
      ],
      "text/plain": [
       "<IPython.core.display.HTML object>"
      ]
     },
     "metadata": {},
     "output_type": "display_data"
    }
   ],
   "source": [
    "from IPython.core.display import HTML\n",
    "display(HTML(\"<table><tr><td><img src='https://github.com/MuchenSun/ME314pngs/raw/master/singlepend.JPG' width=350' height='350'></table>\"))"
   ]
  },
  {
   "cell_type": "markdown",
   "metadata": {
    "id": "2BNpt_dn1Zv1"
   },
   "source": [
    "## Problem 1 (5pts)\n",
    "\n",
    "Consider the single pendulum showed above. Solve the Euler-Lagrange equations and simulate the system for $t\\in[0,5]$ with $dt=0.01, R=1, m=1, g=9.8$ given initial condition as $\\theta=\\frac{\\pi}{2}, \\dot{\\theta}=0$. Plot your simulation of the system (i.e. $\\theta$ versus time). Note that in this problem there is no impact involved (ignore the wall at the bottom).\n",
    "\n",
    "**Turn in: A copy of the code used to solve the EL-equations and numerically simulate the system. Also include code output, which should be the plot of the trajectory versus time.**"
   ]
  },
  {
   "cell_type": "code",
   "execution_count": 50,
   "metadata": {
    "id": "nbrt7JGT1Zv2"
   },
   "outputs": [
    {
     "name": "stdout",
     "output_type": "stream",
     "text": [
      "Lagrangian:\n"
     ]
    },
    {
     "data": {
      "text/latex": [
       "$\\displaystyle R m \\left(0.5 R \\left(\\frac{d}{d t} \\theta{\\left(t \\right)}\\right)^{2} + g \\cos{\\left(\\theta{\\left(t \\right)} \\right)}\\right)$"
      ],
      "text/plain": [
       "R*m*(0.5*R*Derivative(\\theta(t), t)**2 + g*cos(\\theta(t)))"
      ]
     },
     "metadata": {},
     "output_type": "display_data"
    }
   ],
   "source": [
    "# - define variables and constants\n",
    "m, R, g = sym.symbols(r'm, R, g')\n",
    "t = sym.symbols(r't')\n",
    "theta = sym.Function(r'\\theta')(t)\n",
    "thetad = theta.diff(t)\n",
    "\n",
    "# - define x and y as a function of theta\n",
    "x = R * sym.sin(theta)\n",
    "xd = x.diff(t)\n",
    "y = -R * sym.cos(theta)\n",
    "yd = y.diff(t)\n",
    "\n",
    "# - make a substitution dict\n",
    "subs_dict = {\n",
    "    m : 1,\n",
    "    R : 1,\n",
    "    g : 9.8,\n",
    "}\n",
    "\n",
    "# - define state vector\n",
    "q = sym.Matrix([theta])\n",
    "qd = q.diff(t)\n",
    "qdd = qd.diff(t)\n",
    "\n",
    "# - define KE, U, and lagrangian of system\n",
    "KE = 0.5 * m * (xd**2 + yd**2)\n",
    "U = m * g * y\n",
    "lagrangian1 = KE - U\n",
    "lagrangian1 = lagrangian1.simplify()\n",
    "\n",
    "print(\"Lagrangian:\")\n",
    "display(lagrangian1)"
   ]
  },
  {
   "cell_type": "code",
   "execution_count": 51,
   "metadata": {},
   "outputs": [
    {
     "name": "stdout",
     "output_type": "stream",
     "text": [
      "Euler-Lagrange equations:\n"
     ]
    },
    {
     "data": {
      "text/latex": [
       "$\\displaystyle \\left[\\begin{matrix}- 1.0 R^{2} m \\frac{d^{2}}{d t^{2}} \\theta{\\left(t \\right)} - R g m \\sin{\\left(\\theta{\\left(t \\right)} \\right)}\\end{matrix}\\right] = \\left[\\begin{matrix}0\\end{matrix}\\right]$"
      ],
      "text/plain": [
       "Eq(Matrix([[-1.0*R**2*m*Derivative(\\theta(t), (t, 2)) - R*g*m*sin(\\theta(t))]]), Matrix([[0]]))"
      ]
     },
     "metadata": {},
     "output_type": "display_data"
    },
    {
     "name": "stdout",
     "output_type": "stream",
     "text": [
      "Solved:\n"
     ]
    },
    {
     "data": {
      "text/latex": [
       "$\\displaystyle \\frac{d^{2}}{d t^{2}} \\theta{\\left(t \\right)} = - \\frac{g \\sin{\\left(\\theta{\\left(t \\right)} \\right)}}{R}$"
      ],
      "text/plain": [
       "Eq(Derivative(\\theta(t), (t, 2)), -g*sin(\\theta(t))/R)"
      ]
     },
     "metadata": {},
     "output_type": "display_data"
    }
   ],
   "source": [
    "# - compute non-constrained EL\n",
    "eqns = compute_EL(lagrangian1, q)\n",
    "eqns_solved = solve_EL(eqns, qdd)\n",
    "\n",
    "print(\"Euler-Lagrange equations:\")\n",
    "display(eqns)\n",
    "    \n",
    "print(\"Solved:\")\n",
    "for eq in eqns_solved:\n",
    "    display(eq)"
   ]
  },
  {
   "cell_type": "code",
   "execution_count": 55,
   "metadata": {},
   "outputs": [
    {
     "name": "stdout",
     "output_type": "stream",
     "text": [
      "2\n"
     ]
    }
   ],
   "source": [
    "# - make dxdt function\n",
    "q_ext = sym.Matrix([theta, thetad])\n",
    "thetadd_sym = eqns_solved[0].rhs.subs(subs_dict)\n",
    "thetadd_np = sym.lambdify(q_ext, thetadd_sym)\n",
    "\n",
    "# display(thetadd_sym)\n",
    "# help(thetadd_np)\n",
    "\n",
    "def dxdt_problem1(t, s):\n",
    "    #derivatives of position and velocity are velocity and accel\n",
    "    return np.array([s[1], thetadd_np(*s)])\n",
    "\n",
    "# - define ICs\n",
    "ICs = [np.pi/2, 0]\n",
    "dt = 0.01\n",
    "tspan = [0,5]\n",
    "\n",
    "# - simulate system over times\n",
    "traj_array = simulate(dxdt_problem1, ICs, tspan, dt, rk4)\n",
    "print(len(traj_array))"
   ]
  },
  {
   "cell_type": "code",
   "execution_count": 59,
   "metadata": {},
   "outputs": [
    {
     "data": {
      "text/plain": [
       "Text(0.5, 1.0, 'Single Pendulum with No Impact')"
      ]
     },
     "execution_count": 59,
     "metadata": {},
     "output_type": "execute_result"
    },
    {
     "data": {
      "image/png": "[encoded data removed]",
      "text/plain": [
       "<Figure size 640x480 with 1 Axes>"
      ]
     },
     "metadata": {},
     "output_type": "display_data"
    }
   ],
   "source": [
    "theta_array = traj_array[0]\n",
    "t_array = np.arange(tspan[0], tspan[1], dt)\n",
    "\n",
    "# - plot array over time\n",
    "plt.plot(t_array, theta_array)\n",
    "plt.xlabel(\"Time (seconds)\")\n",
    "plt.ylabel(\"Angle (radians)\")\n",
    "plt.title(\"Single Pendulum with No Impact\")"
   ]
  },
  {
   "cell_type": "markdown",
   "metadata": {
    "id": "KBSsV5nv1Zv7"
   },
   "source": [
    "## Problem 2 (10pts)\n",
    "\n",
    "Now, time for impact (i.e. don't ignore the vertical wall) ! As shown in the figure above, there is a wall such that the pendulum will hit it when $\\theta=0$. Recall that in the course notes, to solve the impact update rule, we have two set of equations:\n",
    "$$\n",
    "\\begin{aligned}\n",
    "\\frac{\\partial L}{\\partial \\dot{q}} \\Big\\vert^{\\tau^+}_{\\tau^-} & = \\lambda \\frac{\\partial \\phi}{\\partial q} \\\\\n",
    "\\left[ \\frac{\\partial L}{\\partial \\dot{q}}\\cdot\\dot{q} - L(q,\\dot{q}) \\right] \\Bigg\\vert^{\\tau^+}_{\\tau^-} & = 0\n",
    "\\end{aligned}\n",
    "$$\n",
    "    \n",
    "In this problem, you will need to symbolically compute the following three expressions contained the equations above:\n",
    "$$\\frac{\\partial L}{\\partial \\dot{q}}, \\quad \\frac{\\partial \\phi}{\\partial q}, \\quad \\frac{\\partial L}{\\partial \\dot{q}}\\cdot\\dot{q} - L(q,\\dot{q})$$\n",
    "\n",
    "> Hint 1: The third expression is the Hamiltonian of the system. \n",
    ">\n",
    "> Hint 2: All three expressions can be considered as functions of $q$ and $\\dot{q}$. If you have previously defined $q$ and $\\dot{q}$ as SymPy's function objects, now you will need to substitute them with dummy symbols (using SymPy's substitute method)\n",
    ">\n",
    "> Hint 3: $q$ and $\\dot{q}$ should be two sets of separate symbols. \n",
    "\n",
    "**Turn in: A copy of code used to symbolically compute the three expressions, also include the outputs of your code, which should be the three expressions (make sure there is no SymPy Function(t) left in your solution output).**"
   ]
  },
  {
   "cell_type": "code",
   "execution_count": 98,
   "metadata": {
    "id": "yhJmKcMk1Zv8"
   },
   "outputs": [
    {
     "name": "stdout",
     "output_type": "stream",
     "text": [
      "dL_dqdot:\n"
     ]
    },
    {
     "data": {
      "text/latex": [
       "$\\displaystyle 1.0 R^{2} \\dot{q} m$"
      ],
      "text/plain": [
       "1.0*R**2*\\dot{q}*m"
      ]
     },
     "metadata": {},
     "output_type": "display_data"
    },
    {
     "name": "stdout",
     "output_type": "stream",
     "text": [
      "Lambda * d(phi)/dq:\n"
     ]
    },
    {
     "data": {
      "text/latex": [
       "$\\displaystyle \\lambda$"
      ],
      "text/plain": [
       "\\lambda"
      ]
     },
     "metadata": {},
     "output_type": "display_data"
    },
    {
     "name": "stdout",
     "output_type": "stream",
     "text": [
      "dL_dqdot - L(q,qdot):\n"
     ]
    },
    {
     "data": {
      "text/latex": [
       "$\\displaystyle 1.0 R^{2} \\dot{q} m - R m \\left(0.5 R \\dot{q}^{2} + g \\cos{\\left(q \\right)}\\right)$"
      ],
      "text/plain": [
       "1.0*R**2*\\dot{q}*m - R*m*(0.5*R*\\dot{q}**2 + g*cos(q))"
      ]
     },
     "metadata": {},
     "output_type": "display_data"
    }
   ],
   "source": [
    "#  - use setup provided in problem 1 - state, lagrangian\n",
    "phi = theta\n",
    "lamb = sym.symbols(r'\\lambda')\n",
    "q_sym, qd_sym = sym.symbols(r'q, \\dot{q}')\n",
    "q_subs = {theta: q_sym, thetad: qd_sym}\n",
    "\n",
    "# - make equation dL/dqdot = lambda*dPhi/dq\n",
    "dL_dqd = lagrangian1.diff(qd)[0]\n",
    "lamb_dphi = sym.Matrix([lamb * phi.diff(a) for a in q])[0]\n",
    "expr_a = dL_dqd.subs(q_subs)\n",
    "expr_b = lamb_dphi.subs(q_subs)\n",
    "\n",
    "# - make equation dL/dqd * q -L\n",
    "expr_c = dL_dqd - lagrangian1\n",
    "expr_d = expr_c.subs(q_subs)\n",
    "\n",
    "print(\"dL_dqdot:\")\n",
    "display(expr_a)\n",
    "print(\"Lambda * d(phi)/dq:\")\n",
    "display(expr_b)\n",
    "print(\"dL_dqdot - L(q,qdot):\")\n",
    "display(expr_d)\n",
    "\n",
    "\n",
    "# - define the equations in terms of L, q, and qd dummy vars\n",
    "# - don't solve the equations yet; just compute the form of them"
   ]
  },
  {
   "cell_type": "markdown",
   "metadata": {
    "id": "aAmzJzld1ZwC"
   },
   "source": [
    "## Problem 3 (10pts)\n",
    "\n",
    "Now everything is ready for you to solve the impact update rules! To solve those equations, you will need to evaluate them right before and after the impact time at $\\tau^-$ and $\\tau^+$.\n",
    "\n",
    "> Hint 1: Here $\\dot{q}(\\tau^-)$ is actually same as the dummy symbol you defined in Problem 2 (why?), but you will need to define new dummy symbol for $\\dot{q}(\\tau^+)$. That is to say, $\\frac{\\partial L}{\\partial \\dot{q}}$ and $\\frac{\\partial L}{\\partial \\dot{q}}\\cdot\\dot{q} - L(q,\\dot{q})$ evaluated at $\\tau^-$ are those you already had in Problem 2, but you will need to substitute the dummy symbols of $\\dot{q}(\\tau^+)$ to evaluate them at $\\tau^+$. \n",
    "\n",
    "Based on the information above, define the equations for impact update and solve them for impact update rules. After solving the impact update solution, numerically evaluate it as a function using SymPy's lambdify method and test it with $\\theta(\\tau^-)=0.01, \\dot{\\theta}(\\tau^-)=2$.\n",
    "\n",
    "\n",
    "> Hint 2: In your equations and impact update solutions, there should be NO SymPy Function left (except for internal functions like $\\sin$ or $\\cos$).\n",
    ">\n",
    "> Hint 3: You may wonder where are $q(\\tau^-)$ and $q(\\tau^+)$? The real question at hand is do we really need new dummy variables for them?\n",
    ">\n",
    "> Hint 4: The solution of the impact update rules, which is obtained by solving the equations for the dummy variables corresponds to $\\dot{q}(\\tau^+)$ and $\\lambda$, can be a function of $q(\\tau^-)$ or a function of $q(\\tau^-)$ and $\\dot{q}(\\tau^-)$. While $q$ will not be updated during impact, including it now (as an argument in your lambdify function) may help you to combine the function into simulation later.\n",
    "\n",
    "**Turn in: A copy of code used to symbolically solve for the impact update rules and evaluate them numerically. Also, include the outputs of your code, which should be the test output of your numerically evaluated impact update function.**"
   ]
  },
  {
   "cell_type": "code",
   "execution_count": 121,
   "metadata": {
    "id": "kJz9A5nY1ZwC"
   },
   "outputs": [
    {
     "name": "stdout",
     "output_type": "stream",
     "text": [
      "Impact expressions to solve:\n"
     ]
    },
    {
     "data": {
      "text/latex": [
       "$\\displaystyle \\left[\\begin{matrix}1.0 R^{2} \\dot{q}^{\\tau+} m - 1.0 R^{2} \\dot{q}^{\\tau-} m - \\lambda\\\\R^{2} m \\left(- 0.5 \\left(\\dot{q}^{\\tau+}\\right)^{2} + 1.0 \\dot{q}^{\\tau+} + 0.5 \\left(\\dot{q}^{\\tau-}\\right)^{2} - 1.0 \\dot{q}^{\\tau-}\\right)\\end{matrix}\\right] = \\left[\\begin{matrix}0\\\\0\\end{matrix}\\right]$"
      ],
      "text/plain": [
       "Eq(Matrix([\n",
       "[                                    1.0*R**2*\\dot{q}^{\\tau+}*m - 1.0*R**2*\\dot{q}^{\\tau-}*m - \\lambda],\n",
       "[R**2*m*(-0.5*\\dot{q}^{\\tau+}**2 + 1.0*\\dot{q}^{\\tau+} + 0.5*\\dot{q}^{\\tau-}**2 - 1.0*\\dot{q}^{\\tau-})]]), Matrix([\n",
       "[0],\n",
       "[0]]))"
      ]
     },
     "metadata": {},
     "output_type": "display_data"
    },
    {
     "name": "stdout",
     "output_type": "stream",
     "text": [
      "Solved:\n",
      "0.0\n",
      "-2.0*R**2*m*(\\dot{q}^{\\tau-} - 1.0)\n"
     ]
    },
    {
     "data": {
      "text/latex": [
       "$\\displaystyle \\dot{q}^{\\tau+} = \\dot{q}^{\\tau-}$"
      ],
      "text/plain": [
       "Eq(\\dot{q}^{\\tau+}, \\dot{q}^{\\tau-})"
      ]
     },
     "metadata": {},
     "output_type": "display_data"
    },
    {
     "data": {
      "text/latex": [
       "$\\displaystyle \\lambda = 0.0$"
      ],
      "text/plain": [
       "Eq(\\lambda, 0.0)"
      ]
     },
     "metadata": {},
     "output_type": "display_data"
    },
    {
     "data": {
      "text/latex": [
       "$\\displaystyle \\dot{q}^{\\tau+} = 2.0 - 1.0 \\dot{q}^{\\tau-}$"
      ],
      "text/plain": [
       "Eq(\\dot{q}^{\\tau+}, 2.0 - 1.0*\\dot{q}^{\\tau-})"
      ]
     },
     "metadata": {},
     "output_type": "display_data"
    },
    {
     "data": {
      "text/latex": [
       "$\\displaystyle \\lambda = 2.0 R^{2} m \\left(1 - \\dot{q}^{\\tau-}\\right)$"
      ],
      "text/plain": [
       "Eq(\\lambda, 2.0*R**2*m*(1 - \\dot{q}^{\\tau-}))"
      ]
     },
     "metadata": {},
     "output_type": "display_data"
    }
   ],
   "source": [
    "# - sub in dummy variables for the functions q(t)and qd(t)\n",
    "qdtaup, qdtaum = sym.symbols(r'\\dot{q}^{\\tau+}, \\dot{q}^{\\tau-}')\n",
    "qtaup, qtaum = sym.symbols(r'q^{\\tau+}, q^{\\tau-}')\n",
    "# qtaup_subs = {q: qtaup, qd:qdtaup}\n",
    "# qtaum_subs = {q: qtaum, qd:qdtaum}\n",
    "qtaup_subs = {thetad:qdtaup}\n",
    "qtaum_subs = {thetad:qdtaum}\n",
    "\n",
    "#goal is to solve for qd(tau+) and q(tau+) as a function of \n",
    "#pre-impact values\n",
    "impact_a_LHS = dL_dqd.subs(qtaup_subs) - dL_dqd.subs(qtaum_subs)\n",
    "impact_a = impact_a_LHS - lamb_dphi\n",
    "impact_b = expr_c.subs(qtaup_subs) - expr_c.subs(qtaum_subs)\n",
    "impact_b = impact_b.simplify()\n",
    "\n",
    "expr_mat = sym.Matrix([impact_a, impact_b])\n",
    "RHS = sym.zeros(len(expr_mat),1)\n",
    "eqns = sym.Eq(expr_mat, RHS)\n",
    "\n",
    "sol_vec = [qdtaup, lamb]\n",
    "solns = sym.solve(eqns, sol_vec, dict=True)\n",
    "\n",
    "print(\"Impact expressions to solve:\")\n",
    "display(eqns)\n",
    "\n",
    "print(\"Solved:\")\n",
    "# for a in solns:\n",
    "#     display(a[0])\n",
    "eqns_solved = []\n",
    "for i, sol in enumerate(solns):\n",
    "    \n",
    "    #do some error checking - if lambda = 0, not valid\n",
    "    if sol[lamb] == 0:\n",
    "        print(\"True\")\n",
    "    else:\n",
    "        print(\"False\")\n",
    "        \n",
    "    for x in list(sol.keys()):\n",
    "        sol_new = sol[x].simplify()\n",
    "        eqn_solved = sym.Eq(x, sol_new)\n",
    "        eqns_solved.append(eqn_solved)\n",
    "\n",
    "for eq in eqns_solved:\n",
    "    display(eq)\n",
    "        \n",
    "# - find solutions to qdot and lambda\n",
    "# \t- filter the solutions so that only the ones where lambda is\n",
    "# \t\tnonzero are valid\n",
    "# - "
   ]
  },
  {
   "cell_type": "markdown",
   "metadata": {
    "id": "8-Q9dAKH1ZwI"
   },
   "source": [
    "## Problem 4 (20pts)\n",
    "\n",
    "Finally, it's time to simulate the impact! To use impact update rules with our previous simulate function, there two more steps:\n",
    "1. Write a function called ''impact_condition'', which takes in $s=[q,\\dot{q}]$ and returns **True** if $s$ will cause an impact, otherwise the function will return **False**.\n",
    "\n",
    "> Hint 1 : you need to use the constraint $\\phi$ in this problem, and note that, since we are doing numerical evaluation, the impact condition will not be perfect, you will need to catch the change of sign at $\\phi(s)$ or setup a threshold to decide the condition.\n",
    "\n",
    "2. Now, with the ''impact_condition'' function and the numerically evaluated impact update rule for $\\dot{q}(\\tau^+)$ solved in last problem, find a way to combine them into the previous simulation function, thus it can simulate the impact. Pseudo-code for the simulate function can be found in lecture note 13.\n",
    "\n",
    "Simulate the system with same parameters and initial condition in Problem 1 for the single pendulum hitting the wall for five times. Plot the trajectory and animate the simulation (you need to modify the animation function by yourself).\n",
    "\n",
    "**Turn in: A copy of the code used to simulate the system. You don't need to include the animation function, but please include other code (impact_condition, simulate, ets.) used for simulating impact. Also, include the plot and a video for animation. The video can be uploaded separately through Canvas, and it should be in \".mp4\" format. You can use screen capture or record the screen directly with your phone.**"
   ]
  },
  {
   "cell_type": "code",
   "execution_count": null,
   "metadata": {
    "id": "OZb-SYKC1Zwk"
   },
   "outputs": [],
   "source": []
  },
  {
   "cell_type": "markdown",
   "metadata": {
    "id": "G00WpnULMTVl"
   },
   "source": [
    "## Problem 5 (10pts)"
   ]
  },
  {
   "cell_type": "code",
   "execution_count": null,
   "metadata": {
    "colab": {
     "base_uri": "https://localhost:8080/",
     "height": 477
    },
    "id": "PQ_2cckG1Zwn",
    "outputId": "a0ee4c94-c597-4f30-c3f0-ebf68082a443"
   },
   "outputs": [
    {
     "data": {
      "text/html": [
       "<table><tr><td><img src='https://github.com/MuchenSun/ME314pngs/raw/master/tripend_constrained.JPG' width=500' height='450'></table>"
      ],
      "text/plain": [
       "<IPython.core.display.HTML object>"
      ]
     },
     "metadata": {},
     "output_type": "display_data"
    }
   ],
   "source": [
    "from IPython.core.display import HTML\n",
    "display(HTML(\"<table><tr><td><img src='https://github.com/MuchenSun/ME314pngs/raw/master/tripend_constrained.JPG' width=500' height='450'></table>\"))"
   ]
  },
  {
   "cell_type": "markdown",
   "metadata": {
    "id": "-yJ22XwU1Zwr"
   },
   "source": [
    "We will now consider a constrained triple-pendulum system with the system configuration $q=[\\theta_1, \\theta_2, \\theta_3]$. A constraint is such that *x coordinate* of the third pendulum (i.e. $m_3$) ONLY can not be smaller than 0 -- there exist a vertical wall high enough for third pendulum impact. Note that there is no constraint on *y coordinate* -- the top ceiling is infinitely high!\n",
    "\n",
    "Similar to Problem 2, symbolically compute the following three expressions contained the equations above:\n",
    "$$\\frac{\\partial L}{\\partial \\dot{q}}, \\quad \\frac{\\partial \\phi}{\\partial q}, \\quad \\frac{\\partial L}{\\partial \\dot{q}}\\cdot\\dot{q} - L(q,\\dot{q})$$ \n",
    "\n",
    "Use $m_1=m_2=m_3=1$ and $R_1=R_2=R_3=1$ as numerical values in the equations (i.e. **do not** define $m_1, m_2, m_3, R_1, R_2, R_3$ as symbols).\n",
    "\n",
    "> Hint 1: As before, you will need to substitute $q$ and $\\dot{q}$ with dummy symbols.\n",
    "\n",
    "**Turn in: Include the code used to symbolically compute the three expressions, as well as code outputs - the resulting three expressions. Make sure there is no SymPy Function(t) left!**"
   ]
  },
  {
   "cell_type": "code",
   "execution_count": null,
   "metadata": {
    "id": "Bjgged841Zws"
   },
   "outputs": [],
   "source": []
  },
  {
   "cell_type": "markdown",
   "metadata": {
    "id": "khDZ_7QJ1Zw4"
   },
   "source": [
    "## Problem 6 (10pts)\n",
    "\n",
    "Similar to Problem 3, now you need to define dummy symbols for $\\dot{q}(\\tau^+)$, define the equations for impact update rules. Note that you don't need to solve the equations in this problem - in fact it's very time consuming to solve the analytical solution, and we will use a trick to get around it later!\n",
    "\n",
    "**Turn in: Include a copy of the code used to define the equations for impact update and the code output (i.e. print out of the equations).**"
   ]
  },
  {
   "cell_type": "code",
   "execution_count": null,
   "metadata": {
    "id": "S3ufZSrQ1Zw8"
   },
   "outputs": [],
   "source": []
  },
  {
   "cell_type": "markdown",
   "metadata": {
    "id": "PfMq1f0y1ZxA"
   },
   "source": [
    "## Problem 7 (15pts)\n",
    "\n",
    "Since solving the analytical symbolic solution of the impact update rules for the triple-pendulum system is too slow, here we will solve it along within the simulation. The idea is, when the impact happens, substitute the numerical values of $q$ and $\\dot{q}$ at that moment into the equations you got in Problem 6, thus you will just need to solve a set equations with most terms being numerical values (which is very fast).\n",
    "\n",
    "The first thing is to write a function called \"impact\\_update\\_triple\\_pend\". This function at least takes in the current state of the system $s(t^-) = [q(t^-), \\dot{q}(t^-)]$ or $\\dot{q}(t^-)$, inside the function you need to substitute in $q(t^-)$ and $\\dot{q}(t^-)$, solve for and return $s(t^+) = [q(t^+), \\dot{q}(t^+)]$ or $\\dot{q}(t^+)$ (which should be numerical values now). This function will replace lambdify, and you can use SymPy's \"sym.N()\" or \"expr.evalf()\" methods to convert SymPy expressions into numerical values. Test your function with $\\theta_1(\\tau^-) = \\theta_2(\\tau^-) = \\theta_3(\\tau^-) = 0$ and $\\dot{\\theta}_1(\\tau^-) = \\dot{\\theta_2}(\\tau^-) = \\dot{\\theta_3}(\\tau^-) = -1$. \n",
    "\n",
    "**Turn in: A copy of your \"impact_update_triple_pend\" function, and the test result of your function.**"
   ]
  },
  {
   "cell_type": "code",
   "execution_count": null,
   "metadata": {
    "id": "dgkTCCF11ZxA"
   },
   "outputs": [],
   "source": []
  },
  {
   "cell_type": "markdown",
   "metadata": {
    "id": "jE-Fh9e61ZxE"
   },
   "source": [
    "## Problem 8 (15pts)\n",
    "\n",
    "Similar to the single-pendulum system, you will still want to implement a function named \"impact\\_condition\\_triple\\_pend\" to indicate the moment when impact happens. Again, you need to use the constraint $\\phi$. After obtaining the impact condition function, simulate the triple-pendulum system with impact for $t\\in[0,2], dt=0.01$ with initial condition $\\theta_1=\\frac{\\pi}{3}, \\theta_2=\\frac{\\pi}{3}, \\theta_3=-\\frac{\\pi}{3}$ and $\\dot{\\theta}_1=\\dot{\\theta}_2=\\dot{\\theta}_3=0$. Plot the simulated trajectory versus time and animate your simulated trajectory.\n",
    "\n",
    "> Hint 1: You will need to modify the simulate function!\n",
    "\n",
    "**Turn in: A copy of code for the impact update function and simulate function, as well as code output including the plot of simulated trajectory and the animation. The video should be uploaded separately from the .pdf file through Canvas, and it should be in \".mp4\" format. You can use screen capture or record the screen directly with your phone.**"
   ]
  },
  {
   "cell_type": "code",
   "execution_count": null,
   "metadata": {
    "id": "yxajOfcd1ZxR"
   },
   "outputs": [],
   "source": []
  },
  {
   "cell_type": "markdown",
   "metadata": {
    "id": "5H-1-N8x1Zxb"
   },
   "source": [
    "## Problem 9 (5pts)\n",
    "\n",
    "Compute and plot the Hamiltonian of the simulated trajectory for the triple-pendulum system with impact.\n",
    "\n",
    "**Turn in: A copy of code used to compute the Hamiltonian, also include the code output, which should the plot of the Hamiltonian versus time.**"
   ]
  },
  {
   "cell_type": "code",
   "execution_count": null,
   "metadata": {
    "id": "dK4ih-dT1Zxc"
   },
   "outputs": [],
   "source": []
  }
 ],
 "metadata": {
  "colab": {
   "collapsed_sections": [],
   "provenance": []
  },
  "kernelspec": {
   "display_name": "Python 3 (ipykernel)",
   "language": "python",
   "name": "python3"
  },
  "language_info": {
   "codemirror_mode": {
    "name": "ipython",
    "version": 3
   },
   "file_extension": ".py",
   "mimetype": "text/x-python",
   "name": "python",
   "nbconvert_exporter": "python",
   "pygments_lexer": "ipython3",
   "version": "3.10.7"
  }
 },
 "nbformat": 4,
 "nbformat_minor": 1
}
