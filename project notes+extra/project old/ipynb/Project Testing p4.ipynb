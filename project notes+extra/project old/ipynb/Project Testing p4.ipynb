{
 "cells": [
  {
   "cell_type": "code",
   "execution_count": 5,
   "id": "5f0b77b6",
   "metadata": {},
   "outputs": [],
   "source": [
    "#use this notebook to test out things like factoring out polynomial in terms of lambda\n",
    "import sympy as sym\n",
    "import numpy as np"
   ]
  },
  {
   "cell_type": "code",
   "execution_count": 6,
   "id": "fb24b275",
   "metadata": {},
   "outputs": [],
   "source": [
    "x = sym.symbols(r'x')\n",
    "lamb = sym.symbols(r'\\lambda')\n",
    "expr = x * lamb + (1 + x + lamb)*(lamb  + x) "
   ]
  },
  {
   "cell_type": "code",
   "execution_count": 7,
   "id": "bf1bd479",
   "metadata": {},
   "outputs": [
    {
     "data": {
      "text/latex": [
       "$\\displaystyle \\lambda x + \\left(\\lambda + x\\right) \\left(\\lambda + x + 1\\right)$"
      ],
      "text/plain": [
       "\\lambda*x + (\\lambda + x)*(\\lambda + x + 1)"
      ]
     },
     "metadata": {},
     "output_type": "display_data"
    }
   ],
   "source": [
    "display(expr)"
   ]
  },
  {
   "cell_type": "code",
   "execution_count": 16,
   "id": "895b90b6",
   "metadata": {},
   "outputs": [
    {
     "data": {
      "text/plain": [
       "{1, \\lambda, x}"
      ]
     },
     "metadata": {},
     "output_type": "display_data"
    }
   ],
   "source": [
    "display(expr.atoms())"
   ]
  },
  {
   "cell_type": "code",
   "execution_count": 13,
   "id": "eefffd1b",
   "metadata": {},
   "outputs": [
    {
     "data": {
      "text/latex": [
       "$\\displaystyle \\lambda^{2} + 3 \\lambda x + \\lambda + x^{2} + x$"
      ],
      "text/plain": [
       "\\lambda**2 + 3*\\lambda*x + \\lambda + x**2 + x"
      ]
     },
     "metadata": {},
     "output_type": "display_data"
    }
   ],
   "source": [
    "# display(expr.as_ordered_factors())\n",
    "#display(expr.as_ordered_terms())\n",
    "display(expr.factor())"
   ]
  },
  {
   "cell_type": "code",
   "execution_count": 17,
   "id": "11a8cff4",
   "metadata": {},
   "outputs": [],
   "source": [
    "#dir(expr)"
   ]
  },
  {
   "cell_type": "code",
   "execution_count": 21,
   "id": "79590a11",
   "metadata": {},
   "outputs": [
    {
     "data": {
      "text/plain": [
       "[-3*x/2 - sqrt(5*x**2 + 2*x + 1)/2 - 1/2,\n",
       " -3*x/2 + sqrt(5*x**2 + 2*x + 1)/2 - 1/2]"
      ]
     },
     "execution_count": 21,
     "metadata": {},
     "output_type": "execute_result"
    }
   ],
   "source": [
    "#find a way to calculate roots of the factored expr\n",
    "factored = expr.factor()\n",
    "# sol = sym.RootOf(factored,0) #doesn't work if more than one var is in expr\n",
    "sym.solve(expr, lamb)"
   ]
  },
  {
   "cell_type": "code",
   "execution_count": 23,
   "id": "56f4a29e",
   "metadata": {},
   "outputs": [
    {
     "data": {
      "text/latex": [
       "$\\displaystyle \\lambda^{2} + 3 \\lambda x + \\lambda + x^{2} + x$"
      ],
      "text/plain": [
       "\\lambda**2 + 3*\\lambda*x + \\lambda + x**2 + x"
      ]
     },
     "metadata": {},
     "output_type": "display_data"
    }
   ],
   "source": [
    "eq = sym.Eq(x, expr)\n",
    "display(eq.rhs.factor())"
   ]
  }
 ],
 "metadata": {
  "kernelspec": {
   "display_name": "Python 3 (ipykernel)",
   "language": "python",
   "name": "python3"
  },
  "language_info": {
   "codemirror_mode": {
    "name": "ipython",
    "version": 3
   },
   "file_extension": ".py",
   "mimetype": "text/x-python",
   "name": "python",
   "nbconvert_exporter": "python",
   "pygments_lexer": "ipython3",
   "version": "3.10.7"
  }
 },
 "nbformat": 4,
 "nbformat_minor": 5
}
