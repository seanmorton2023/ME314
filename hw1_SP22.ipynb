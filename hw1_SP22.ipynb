{
 "cells": [
  {
   "cell_type": "markdown",
   "metadata": {
    "id": "p5AANcq8aXQE"
   },
   "source": [
    "# ME314 Homework 1\n",
    "\n",
    "###Submission instructions\n",
    "\n",
    "Deliverables that should be included with your submission are shown in **bold** at the end of each problem statement and the corresponding supplemental material. Your homework will be graded IFF you submit a **single** PDF and a link to a Google colab file that meet all the requirements outlined below.\n",
    "\n",
    "- List the names of students you've collaborated with on this homework assignment.\n",
    "- Include all of your code (and handwritten solutions when applicable) used to complete the problems.\n",
    "- Highlight your answers (i.e. **bold** and outline the answers) and include simplified code outputs (e.g. .simplify()).\n",
    "- Enable Google Colab permission for viewing \n",
    " * Click Share in the upper right corner\n",
    " * Under \"Get Link\" click \"Share with...\" or \"Change\" \n",
    " * Then make sure it says \"Anyone with Link\" and \"Editor\" under the dropdown menu\n",
    "- Make sure all cells are run before submitting (i.e. check the permission by running your code in a private mode)\n",
    " * Please don't make changes to your file after submitting, so we can grade it!\n",
    "- Submit a link to your Google Colab file that has been run (before the submission deadline) and don't edit it afterwards!\n",
    "\n",
    "**NOTE:** This Juputer Notebook file serves as a template for you to start homework. Make sure you first copy this template to your own Google driver (click \"File\" -> \"Save a copy in Drive\"), and then start to edit it."
   ]
  },
  {
   "cell_type": "code",
   "execution_count": 1,
   "metadata": {
    "id": "e10BTR6Ldtgc"
   },
   "outputs": [],
   "source": [
    "#IMPORT ALL NECESSARY PACKAGES AT THE TOP OF THE CODE\n",
    "import sympy as sym\n",
    "import numpy as np\n",
    "import matplotlib.pyplot as plt\n",
    "\n",
    "from IPython.display import Markdown, display\n"
   ]
  },
  {
   "cell_type": "code",
   "execution_count": 2,
   "metadata": {
    "id": "9HlLVMmeaXQF"
   },
   "outputs": [],
   "source": [
    "# for google colab only\n",
    "\n",
    "# def custom_latex_printer(exp,**options):\n",
    "#     from google.colab.output._publish import javascript\n",
    "#     url = \"https://cdnjs.cloudflare.com/ajax/libs/mathjax/3.1.1/latest.js?config=TeX-AMS_HTML\"\n",
    "#     javascript(url=url)\n",
    "#     return sym.printing.latex(exp,**options)\n",
    "# sym.init_printing(use_latex=\"mathjax\",latex_printer=custom_latex_printer)"
   ]
  },
  {
   "cell_type": "markdown",
   "metadata": {},
   "source": [
    "# Helper Functions"
   ]
  },
  {
   "cell_type": "code",
   "execution_count": 85,
   "metadata": {},
   "outputs": [
    {
     "data": {
      "text/latex": [
       "$\\displaystyle \\left[\\begin{matrix}- 1.0 k_{1} x_{1}{\\left(t \\right)} - 0.5 k_{2} \\cdot \\left(2 x_{1}{\\left(t \\right)} - 2 x_{2}{\\left(t \\right)}\\right) - 1.0 m_{1} \\frac{d^{2}}{d t^{2}} x_{1}{\\left(t \\right)}\\\\- 0.5 k_{2} \\left(- 2 x_{1}{\\left(t \\right)} + 2 x_{2}{\\left(t \\right)}\\right) - 1.0 m_{2} \\frac{d^{2}}{d t^{2}} x_{2}{\\left(t \\right)}\\end{matrix}\\right] = \\left[\\begin{matrix}0\\\\0\\end{matrix}\\right]$"
      ],
      "text/plain": [
       "Eq(Matrix([\n",
       "[-1.0*k1*x1(t) - 0.5*k2*(2*x1(t) - 2*x2(t)) - 1.0*m1*Derivative(x1(t), (t, 2))],\n",
       "[              -0.5*k2*(-2*x1(t) + 2*x2(t)) - 1.0*m2*Derivative(x2(t), (t, 2))]]), Matrix([\n",
       "[0],\n",
       "[0]]))"
      ]
     },
     "metadata": {},
     "output_type": "display_data"
    },
    {
     "data": {
      "text/latex": [
       "$\\displaystyle \\frac{d^{2}}{d t^{2}} x_{1}{\\left(t \\right)} = - \\frac{k_{1} x_{1}{\\left(t \\right)}}{m_{1}} - \\frac{k_{2} x_{1}{\\left(t \\right)}}{m_{1}} + \\frac{k_{2} x_{2}{\\left(t \\right)}}{m_{1}}$"
      ],
      "text/plain": [
       "Eq(Derivative(x1(t), (t, 2)), -k1*x1(t)/m1 - k2*x1(t)/m1 + k2*x2(t)/m1)"
      ]
     },
     "metadata": {},
     "output_type": "display_data"
    },
    {
     "data": {
      "text/latex": [
       "$\\displaystyle \\frac{d^{2}}{d t^{2}} x_{2}{\\left(t \\right)} = \\frac{k_{2} x_{1}{\\left(t \\right)}}{m_{2}} - \\frac{k_{2} x_{2}{\\left(t \\right)}}{m_{2}}$"
      ],
      "text/plain": [
       "Eq(Derivative(x2(t), (t, 2)), k2*x1(t)/m2 - k2*x2(t)/m2)"
      ]
     },
     "metadata": {},
     "output_type": "display_data"
    }
   ],
   "source": [
    "#PURPOSE: make a set of functions I can use in later homeworks to optimize the process\n",
    "#of simulating entire systems. I thought that was the purpose of this homework but I was\n",
    "#wrong - so I made a bunch of functions I can use later\n",
    "\n",
    "def compute_EL(lagrangian, q):\n",
    "    '''\n",
    "    Helper function for computing the Euler-Lagrange equations for a given system,\n",
    "    so I don't have to keep writing it out over and over again.\n",
    "    \n",
    "    Inputs:\n",
    "    - lagrangian: our Lagrangian function in symbolic (Sympy) form\n",
    "    - q: our state vector [x1, x2, ...], in symbolic (Sympy) form\n",
    "    \n",
    "    Outputs:\n",
    "    - eqn: the Euler-Lagrange equations in Sympy form\n",
    "    '''\n",
    "    \n",
    "    # wrap system states into one vector (in SymPy would be Matrix)\n",
    "    #q = sym.Matrix([x1, x2])\n",
    "    qd = q.diff(t)\n",
    "    qdd = qd.diff(t)\n",
    "\n",
    "    # compute derivative wrt a vector, method 1\n",
    "    # wrap the expression into a SymPy Matrix\n",
    "    L_mat = sym.Matrix([lagrangian])\n",
    "    dL_dq = L_mat.jacobian(q)\n",
    "    dL_dqdot = L_mat.jacobian(qd)\n",
    "\n",
    "    #set up the Euler-Lagrange equations\n",
    "    LHS = dL_dq - dL_dqdot.diff(t)\n",
    "    RHS = sym.Matrix([0,0]).T\n",
    "    eqn = sym.Eq(LHS.T, RHS.T)\n",
    "    \n",
    "    return eqn\n",
    "\n",
    "\n",
    "def solve_EL(eqn, q):\n",
    "    '''\n",
    "    Helper function to solve and display the solution for the Euler-Lagrange\n",
    "    equations.\n",
    "    \n",
    "    Inputs:\n",
    "    - eqn: Euler-Lagrange equation (type: Sympy Equation())\n",
    "    - q: state vector (type: Sympy Matrix)\n",
    "    \n",
    "    Outputs:\n",
    "    - Prints symbolic solutions\n",
    "    - Returns symbolic solutions in a dictionary\n",
    "    '''\n",
    "    qd = q.diff(t)\n",
    "    qdd = qd.diff(t)\n",
    "    \n",
    "    soln = sym.solve(eqn, qdd, dict = True)\n",
    "    eqns_solved = []\n",
    "    \n",
    "    for sol in soln:\n",
    "        for x in qdd:\n",
    "            eqn_solved = sym.Eq(x, sol[x])\n",
    "            eqns_solved.append(eqn_solved)\n",
    "            \n",
    "    return eqns_solved\n",
    "\n",
    "#test\n",
    "lagrangian2 = lagrangian\n",
    "q2 = q\n",
    "eqn = compute_EL(lagrangian2, q2)\n",
    "display(eqn)\n",
    "\n",
    "solns_list = solve_EL(eqn, q2)\n",
    "for soln in solns_list:\n",
    "    display(soln)"
   ]
  },
  {
   "cell_type": "code",
   "execution_count": 88,
   "metadata": {},
   "outputs": [],
   "source": [
    "\n",
    "def rk4(dxdt, x, t, dt):\n",
    "    '''\n",
    "    Applies the Runge-Kutta method, 4th order, to a sample function,\n",
    "    for a given state q0, for a given step size. Currently only\n",
    "    configured for a 2-variable dependent system (x,y).\n",
    "    ==========\n",
    "    dxdt: a Sympy function that specifies the derivative of the system of interest\n",
    "    t: the current timestep of the simulation\n",
    "    x: current value of the state vector\n",
    "    dt: the amount to increment by for Runge-Kutta\n",
    "    ======\n",
    "    returns:\n",
    "    x_new: value of the state vector at the next timestep\n",
    "    '''  \n",
    "    k1 = dt * dxdt(t, x)\n",
    "    k2 = dt * dxdt(t + dt/2.0, x + k1/2.0)\n",
    "    k3 = dt * dxdt(t + dt/2.0, x + k2/2.0)\n",
    "    k4 = dt * dxdt(t + dt, x + k3)\n",
    "    x_new = x + (k1 + 2.0*k2 + 2.0*k3 + k4)/6.0\n",
    "    \n",
    "    return x_new\n",
    "    \n",
    "def euler(dxdt, x, t, dt):\n",
    "    '''\n",
    "    Euler's method\n",
    "\n",
    "    Parameters:\n",
    "    =============\n",
    "    dxdt: a Sympy function that specifies the derivative of the system of interest\n",
    "    t: the current timestep of the simulation\n",
    "    x: current value of the state vector\n",
    "    dt: the amount to increment by for Euler\n",
    "    ======\n",
    "    returns:\n",
    "    x_new: value of the state vector at the next timestep\n",
    "    '''\n",
    "    x_new = x + dt * dxdt(t, x)\n",
    "    return x_new\n",
    "\n",
    "eul = euler(lambda t, x: x**2, 0.5, 2, 0.1)\n",
    "assert eul == 0.525, f\"Euler val: {res}\"\n",
    "\n",
    "rk = rk4(lambda t, x: x**2, 0.5, 2, 0.1)\n",
    "assert np.isclose(rk, 0.526315781526278075), f\"RK4 value: {rk}\" #from an online RK4 solver\n"
   ]
  },
  {
   "cell_type": "markdown",
   "metadata": {
    "id": "R8KcW-HdaXQK"
   },
   "source": [
    "## Problem 1 (15pts)"
   ]
  },
  {
   "cell_type": "code",
   "execution_count": 3,
   "metadata": {
    "colab": {
     "base_uri": "https://localhost:8080/",
     "height": 377
    },
    "id": "Q4EUnq1kTchx",
    "outputId": "cd3364cf-eff1-4cdc-b826-4a3fc8bc20b7"
   },
   "outputs": [
    {
     "data": {
      "text/html": [
       "<table><tr><td><img src='https://github.com/MuchenSun/ME314pngs/raw/master/2mass_spring.png' width=500' height='350'></table>"
      ],
      "text/plain": [
       "<IPython.core.display.HTML object>"
      ]
     },
     "metadata": {},
     "output_type": "display_data"
    }
   ],
   "source": [
    "from IPython.core.display import HTML\n",
    "display(HTML(\"<table><tr><td><img src='https://github.com/MuchenSun/ME314pngs/raw/master/2mass_spring.png' width=500' height='350'></table>\"))"
   ]
  },
  {
   "cell_type": "markdown",
   "metadata": {
    "id": "aRvSsEyeTmmA"
   },
   "source": [
    "As shown in the image above, a block of mass $m_1$ is on one side connected to a wall by a massless spring with a spring constant $k_1$ and on another side to a block of mass $m_2$ by a massless spring with a spring constant $k_2$. Assuming that the two springs have lengths of zero when \"relaxed\", they are stretched with any positive displacement $\\Delta x > 0$ and the magnitude of the force can be computed using Hooke's law $|F| = k \\Delta x$, where $k$ is the spring constant. Furthermore, there is no friction between the blocks and the ground. \n",
    "    \n",
    "Given masses $m_1=1kg$ and $ m_2=2kg$, spring constants $k_1=0.5N/m$ and $k_2=0.8N/m$, and positions of the blocks as $x_1$ and $x_2$, use Newton's law $F=ma$ to compute the accelerations of the blocks $a_1=\\ddot{x}_1$ and $a_2=\\ddot{x}_2$. You need to use Pythons's SymPy package to solve for symbolic solutions, as well as numerically evaluate your solutions for $a_1$ and $a_2$ as functions of $x_1$ and $x_2$ respectively. Test your numerical functions with $x_1=1m$ and $x_2=3m$ as function inputs. \n",
    "\n",
    "*Hint 1: You will have two equations based on Newton's law $F=ma$ for each block. Thus, for each block you need to write down its $F$ in terms of $x_1$ and $x_2$ (which can be defined as symbols in SymPy).*\n",
    "\n",
    "*Hint 2: You will need to use SymPy's **`solve()`** and **`lambdify()`** methods in this problem as seen in Homework 0. This problem is very similar to Problem 5 in Homework 0, except that (1) you need to write down the equations yourself, and (2) you don't need to solve the equations simultaneously - you can solve them one by one for each block. Feel free to take the example code in Homework 0 as a starting point.*\n",
    "\n",
    "*Hint 3: You will need to use **`lambdify()`** to numerically evaluate a function with multiple variables. Below is an example.*"
   ]
  },
  {
   "cell_type": "code",
   "execution_count": 4,
   "metadata": {
    "colab": {
     "base_uri": "https://localhost:8080/",
     "height": 119
    },
    "id": "sWtszMPMaXQK",
    "outputId": "5bf3b1a7-9add-45e4-8472-21eba1bfa89a"
   },
   "outputs": [],
   "source": [
    "# # from sympy.abc import x, y, z or\n",
    "# x,y,z = sym.symbols(r'x,y,z')\n",
    "# expr = sym.sin(x) * y**2 * z + x*z + x/z**2\n",
    "# print('\\033[1mExample expression: ')\n",
    "# display(expr)\n",
    "\n",
    "# # method 1: the numerical function will take variables one by one\n",
    "# func = sym.lambdify([x, y, z], expr)\n",
    "# print('\\n\\033[1mTest at x=1, y=2, z=3: \\033[0m{:.2f}'.format(func(1, 2, 3)))\n",
    "\n",
    "# # method 2: the numerical function will take variables cotained in one list/array\n",
    "# func = sym.lambdify([[x, y, z]], expr)\n",
    "# print('\\033[1mTest at x=1, y=2, z=3: \\033[0m{:.2f}'.format(func([1, 2, 3])))"
   ]
  },
  {
   "cell_type": "markdown",
   "metadata": {
    "id": "mBdOhX1vaXQO"
   },
   "source": [
    "**Turn in: A copy of the code used to solve for symbolic solutions and evaluate them as numerical functions, output of the code as well as the test results for numerical functions.**"
   ]
  },
  {
   "cell_type": "code",
   "execution_count": 5,
   "metadata": {
    "id": "-ZivndofaXQP"
   },
   "outputs": [
    {
     "name": "stdout",
     "output_type": "stream",
     "text": [
      "Acceleration for mass 1:\n"
     ]
    },
    {
     "data": {
      "text/latex": [
       "$\\displaystyle \\frac{k_{2} x_{2}}{m_{1}} - \\frac{x_{1} \\left(k_{1} + k_{2}\\right)}{m_{1}}$"
      ],
      "text/plain": [
       "k2*x2/m1 - x1*(k1 + k2)/m1"
      ]
     },
     "metadata": {},
     "output_type": "display_data"
    },
    {
     "name": "stdout",
     "output_type": "stream",
     "text": [
      "Acceleration for mass 2:\n"
     ]
    },
    {
     "data": {
      "text/latex": [
       "$\\displaystyle - \\frac{k_{2} \\left(- x_{1} + x_{2}\\right)}{m_{2}}$"
      ],
      "text/plain": [
       "-k2*(-x1 + x2)/m2"
      ]
     },
     "metadata": {},
     "output_type": "display_data"
    }
   ],
   "source": [
    "# You can start your implementation here :)\n",
    "\n",
    "#1. grab variables\n",
    "x1, x2 = sym.symbols(r'x1, x2') #state variables\n",
    "k1, k2, m1, m2 = sym.symbols(r'k1, k2, m1, m2') # constants\n",
    "x1dd = sym.Function('x1') \n",
    "x2dd = sym.Function('x2')\n",
    "\n",
    "#2. write expressions of x1** and x2** in terms of state variables\n",
    "x1dd = (1/m1) * (k2 * x2) - (1/m1) * (k1 + k2) * x1\n",
    "x2dd = -(k2/m2) * (x2 - x1)\n",
    "\n",
    "print(\"Acceleration for mass 1:\")\n",
    "display(x1dd)\n",
    "print(\"Acceleration for mass 2:\")\n",
    "display(x2dd)\n",
    "\n",
    "consts_dict = {\n",
    "    k1: 0.5,\n",
    "    k2: 0.8,\n",
    "    m1: 1,\n",
    "    m2: 2\n",
    "}\n",
    "\n",
    "#3. subs()titute in values for things\n",
    "accel1 = x1dd.subs(consts_dict) #all in SI units; N/m and kg\n",
    "accel2 = x2dd.subs(consts_dict) #all in SI units; N/m and kg\n",
    "\n",
    "#4. lambdify functions and input values, method 1: take variables one by one\n",
    "\n",
    "npaccel1 = sym.lambdify([x1, x2], accel1)\n",
    "npaccel2 = sym.lambdify([x1, x2], accel2)\n",
    "\n",
    "ans1 = npaccel1(1, 3)\n",
    "ans2 = npaccel2(1, 3)\n",
    "\n",
    "#check NP answer with hand calcs\n",
    "assert np.isclose(ans1, 1.1), f\"Accel 1: {ans1}\" \n",
    "assert np.isclose(ans2, -0.8), f\"Accel 2: {ans2}\" \n"
   ]
  },
  {
   "cell_type": "markdown",
   "metadata": {
    "id": "2GySmCekaXRC"
   },
   "source": [
    "## Problem 2 (10pts)\n",
    "\n",
    "For the same system in Problem 1, compute the Lagrangian of the system using Python's SymPy package with $x_1$, $x_2$ as system configuration variables.\n",
    "\n",
    "*Hint 1: For an object with mass $m$ and velocity $v$, its kinetic energy is $\\frac{1}{2} mv^2$.*\n",
    "\n",
    "*Hint 2: For a spring stretched with displacement $\\Delta x$ and spring ratio $k$, its potential energy is $\\frac{1}{2} k (\\Delta x)^2$. Also, the springs have zero mass.*\n",
    "\n",
    "*Hint 3: Since $x_1$ and $x_2$ are actually functions of time $t$, in order to compute Euler-Lagrange equations you will need to take their derivative with respect to $t$. Instead of defining position and velocity as two separate symbols, you need to define position as SymPy's **Function** object and the velocity as the derivative of that function with respect to time $t$. An example is provided below.*"
   ]
  },
  {
   "cell_type": "code",
   "execution_count": 6,
   "metadata": {
    "colab": {
     "base_uri": "https://localhost:8080/",
     "height": 220
    },
    "id": "OvgRhdLMaXRC",
    "outputId": "6dfdf27e-e677-46a4-b9c0-83d992c56b8f"
   },
   "outputs": [],
   "source": [
    "# t = sym.symbols('t')\n",
    "# # define position as function of t\n",
    "# x1 = sym.Function(r'x_1')(t)\n",
    "# # define velocity as derivative of position wrt t\n",
    "# x1dot = x1.diff(t)\n",
    "# # define acceleration as derivative of velocity wrt t\n",
    "# x1ddot = x1dot.diff(t)\n",
    "\n",
    "# # now write down an expression in terms of position and velocity\n",
    "# expr = x1**2 + x1*x1dot\n",
    "# print('\\033[1mExample expression: ')\n",
    "# display(expr)\n",
    "# # you can take the derivative of this expression wrt to time t\n",
    "# expr_dt = expr.diff(t)\n",
    "# print('\\n\\033[1mDerivative of expression w.r.t. time (t): ')\n",
    "# display(expr_dt)\n",
    "# # or you can take the derivative wrt the functions: x, xdot, xddot\n",
    "# expr_dx = expr.diff(x1)\n",
    "# print('\\n\\033[1mDerivative of expression w.r.t. x1(t): ')\n",
    "# display(expr_dx)"
   ]
  },
  {
   "cell_type": "markdown",
   "metadata": {
    "id": "Mn5Oe2QVaXSP"
   },
   "source": [
    "**Turn in: A copy of the code used to symbolically compute the Lagrangian and corresponding output of the code (i.e. the computed Lagrangian.)**"
   ]
  },
  {
   "cell_type": "code",
   "execution_count": 7,
   "metadata": {
    "id": "YdxntM2maXSP"
   },
   "outputs": [
    {
     "name": "stdout",
     "output_type": "stream",
     "text": [
      "Lagrangian function:\n"
     ]
    },
    {
     "data": {
      "text/latex": [
       "$\\displaystyle - 0.5 k_{1} x_{1}^{2}{\\left(t \\right)} - 0.5 k_{2} \\left(- x_{1}{\\left(t \\right)} + x_{2}{\\left(t \\right)}\\right)^{2} + 0.5 m_{1} \\left(\\frac{d}{d t} x_{1}{\\left(t \\right)}\\right)^{2} + 0.5 m_{2} \\left(\\frac{d}{d t} x_{2}{\\left(t \\right)}\\right)^{2}$"
      ],
      "text/plain": [
       "-0.5*k1*x1(t)**2 - 0.5*k2*(-x1(t) + x2(t))**2 + 0.5*m1*Derivative(x1(t), t)**2 + 0.5*m2*Derivative(x2(t), t)**2"
      ]
     },
     "metadata": {},
     "output_type": "display_data"
    }
   ],
   "source": [
    "# You can start your implementation here :)\n",
    "\n",
    "#1. grab variables\n",
    "t = sym.symbols(r't') #independent variable\n",
    "k1, k2, m1, m2 = sym.symbols(r'k1, k2, m1, m2') #constant\n",
    "\n",
    "#2. define position, velocity, accel for masses 1 and 2 as functions\n",
    "x1 = sym.Function(r'x1')(t)\n",
    "x2 = sym.Function(r'x2')(t)\n",
    "\n",
    "x1d = x1.diff('t')\n",
    "x1dd = x1d.diff('t') #will need acceleration later\n",
    "x2d = x2.diff('t')\n",
    "x2dd = x2d.diff('t')\n",
    "\n",
    "#define state of system\n",
    "q = [x1, x2, x1d, x2d]\n",
    "\n",
    "#3.  now write down an expression in terms of position and velocity\n",
    "KE1 = (m1/2.0) * (x1d)**2\n",
    "KE2 = (m2/2.0) * (x2d)**2\n",
    "KE_sys = KE1 + KE2\n",
    "\n",
    "U1  = (k1/2.0) * (x1) **2\n",
    "U2  = (k2/2.0) * (x2 - x1) **2\n",
    "U_sys = U1 + U2\n",
    "\n",
    "lagrangian = KE_sys - U_sys\n",
    "print('Lagrangian function:')\n",
    "display(lagrangian)\n"
   ]
  },
  {
   "cell_type": "markdown",
   "metadata": {
    "id": "Xuw8SIBPaXSS"
   },
   "source": [
    "## Problem 3 (10pts)\n",
    "\n",
    "Based on your solution for Problem 2, compute the Euler-Lagrange equations for this system.\n",
    "\n",
    "*Hint 1: In this problem, the system has two configuration variables. Thus, when taking the derivative of the Lagrangian with respect to the system state vector, the derivative is also a vector (sometimes also called the Jacobian of the Lagrangian with respect to system states). Below is an example of several ways to compute the derivative with respect to a vector in SymPy.*"
   ]
  },
  {
   "cell_type": "code",
   "execution_count": 8,
   "metadata": {
    "colab": {
     "base_uri": "https://localhost:8080/",
     "height": 263
    },
    "id": "e7BOfEj4T7u-",
    "outputId": "f5204bd7-69a8-4851-c6bd-99cbc5e1637e"
   },
   "outputs": [],
   "source": [
    "# print('\\033[1mDifferent ways of taking the derivative of the Lagrangian with respect ot the system state vector (q)')\n",
    "# t = sym.symbols('t')\n",
    "\n",
    "# # define two system states as functions\n",
    "# x1 = sym.Function(r'x_1')(t)\n",
    "# x2 = sym.Function(r'x_2')(t)\n",
    "# # wrap system states into one vector (in SymPy would be Matrix)\n",
    "# q = sym.Matrix([x1, x2])\n",
    "# # define an expression in terms of x1(t) and x2(t)\n",
    "# J = sym.sin(x1**2) + sym.cos(x2)**2\n",
    "# print('\\n\\033[1mExample expression ')\n",
    "# display(J)\n",
    "\n",
    "# # compute derivative wrt a vector, method 1\n",
    "# # wrap the expression into a SymPy Matrix\n",
    "# J_mat = sym.Matrix([J])\n",
    "# # SymPy Matrix has built-in method for Jacobian\n",
    "# dJdq = J_mat.jacobian(q)\n",
    "# print('\\n\\033[1mMethod: built-in Jacobian derivative')\n",
    "# display(dJdq) # note that dJdq is 1-by-2 vector, not 2-by-1 as q\n",
    "\n",
    "# # compute derivative wrt a vector, method 2: do it one by one\n",
    "# dJdx1 = J.diff(x1)\n",
    "# dJdx2 = J.diff(x2)\n",
    "# dJdq = sym.Matrix([dJdx1, dJdx2]).T # transpose so dimension can match\n",
    "# print('\\n\\033[1mMethod: one-by-one')\n",
    "# display(dJdq)\n",
    "\n",
    "# # compute derivative wrt a vector, method 3: do it one by one ... but in a \"fancy\" way\n",
    "# dJdq = []\n",
    "# for x in q:\n",
    "#     dJdq.append(J.diff(x))\n",
    "# dJdq = sym.Matrix([dJdq])\n",
    "# print('\\n\\033[1mMethod: for loop')\n",
    "# display(dJdq)"
   ]
  },
  {
   "cell_type": "markdown",
   "metadata": {
    "id": "_HVwj1s8T-pw"
   },
   "source": [
    "**Turn in: A copy of the code used to symbolically compute the Euler-Lagrange equations and the code outpute (i.e. the resulting equations).**"
   ]
  },
  {
   "cell_type": "code",
   "execution_count": 82,
   "metadata": {},
   "outputs": [
    {
     "name": "stdout",
     "output_type": "stream",
     "text": [
      "LHS and RHS of the Euler-Lagrange equations:\n"
     ]
    },
    {
     "data": {
      "text/latex": [
       "$\\displaystyle \\left[\\begin{matrix}- 1.0 k_{1} x_{1}{\\left(t \\right)} - 0.5 k_{2} \\cdot \\left(2 x_{1}{\\left(t \\right)} - 2 x_{2}{\\left(t \\right)}\\right) - 1.0 m_{1} \\frac{d^{2}}{d t^{2}} x_{1}{\\left(t \\right)} & - 0.5 k_{2} \\left(- 2 x_{1}{\\left(t \\right)} + 2 x_{2}{\\left(t \\right)}\\right) - 1.0 m_{2} \\frac{d^{2}}{d t^{2}} x_{2}{\\left(t \\right)}\\end{matrix}\\right]$"
      ],
      "text/plain": [
       "Matrix([[-1.0*k1*x1(t) - 0.5*k2*(2*x1(t) - 2*x2(t)) - 1.0*m1*Derivative(x1(t), (t, 2)), -0.5*k2*(-2*x1(t) + 2*x2(t)) - 1.0*m2*Derivative(x2(t), (t, 2))]])"
      ]
     },
     "metadata": {},
     "output_type": "display_data"
    },
    {
     "data": {
      "text/latex": [
       "$\\displaystyle \\left[\\begin{matrix}0 & 0\\end{matrix}\\right]$"
      ],
      "text/plain": [
       "Matrix([[0, 0]])"
      ]
     },
     "metadata": {},
     "output_type": "display_data"
    }
   ],
   "source": [
    "#our function of x1, x2 is already defined in prev. cell - it's the lagrangian function \n",
    "\n",
    "# wrap system states into one vector (in SymPy would be Matrix)\n",
    "q = sym.Matrix([x1, x2])\n",
    "qd = q.diff(t)\n",
    "qdd = qd.diff(t)\n",
    "\n",
    "# compute derivative wrt a vector, method 1\n",
    "# wrap the expression into a SymPy Matrix\n",
    "L_mat = sym.Matrix([lagrangian])\n",
    "dL_dq = L_mat.jacobian(q)\n",
    "dL_dqdot = L_mat.jacobian(qd)\n",
    "\n",
    "#set up the Euler-Lagrange equations\n",
    "LHS = dL_dq - dL_dqdot.diff(t)\n",
    "RHS = sym.Matrix([0,0]).T\n",
    "\n",
    "print(\"LHS and RHS of the Euler-Lagrange equations:\")\n",
    "display(LHS)\n",
    "display(RHS)"
   ]
  },
  {
   "cell_type": "markdown",
   "metadata": {
    "id": "72Jg3xWJaXSw"
   },
   "source": [
    "## Problem 4 (15pts)\n",
    "\n",
    "Based on your Euler-Lagrange equations from Problem 3, use Python's SymPy package to solve the equations for the accelerations of the two blocks $\\ddot{x}_1, \\ddot{x}_2$, in terms of position $x_1, x_2$, and velocity $\\dot{x}_1, \\dot{x}_2$. Compare your answer to Problem 1 to see if they match with each other and comment if this is not the case.\n",
    "\n",
    "*Hint 1: Since you need to solve a set of multiple equations symbolically in SymPy, it's recommended to wrap both sides of the equations into SymPy's Matrix object. As an example, below is the code solving the following set of equations (feel free to use this code as a starting point).*\n",
    "$$\n",
    "\\begin{aligned}\n",
    "\\left\\{\n",
    "    \\begin{array}{ll}\n",
    "      x^2 + y = 3 \\\\\n",
    "      x + y = 1\n",
    "    \\end{array}\n",
    "\\right.\n",
    "\\end{aligned}\n",
    "$$"
   ]
  },
  {
   "cell_type": "code",
   "execution_count": 83,
   "metadata": {
    "colab": {
     "base_uri": "https://localhost:8080/",
     "height": 174
    },
    "id": "VES-iwYBaXSz",
    "outputId": "089f15d2-28d4-4726-910b-7daf74ce8cd6"
   },
   "outputs": [],
   "source": [
    "# x,y = sym.symbols(r'x,y')\n",
    "# # define left hand side as a matrix\n",
    "# lhs = sym.Matrix([x**2+y, x+y])\n",
    "\n",
    "# # define right hand side as a Matrix\n",
    "# rhs = sym.Matrix([3, 1])\n",
    "\n",
    "# # define the equations\n",
    "# eqn = sym.Eq(lhs, rhs)\n",
    "\n",
    "# # solve it for both x and y\n",
    "# q = sym.Matrix([x, y])\n",
    "# soln = sym.solve(eqn, q, dict=True) # this will return the solution \n",
    "#                                      # as a Python dictionary\n",
    "# for sol in soln:\n",
    "#     print('\\n\\033[1mSolution: ')\n",
    "#     for v in q:\n",
    "#         display(sym.Eq(v, sol[v]))"
   ]
  },
  {
   "cell_type": "markdown",
   "metadata": {
    "id": "XpXlPCKGaXS1"
   },
   "source": [
    "**Turn in: A copy of the code you used to solve the Euler-Lagrange equations and the code output (i.e. the resulting symbolic solutions).**"
   ]
  },
  {
   "cell_type": "code",
   "execution_count": 84,
   "metadata": {
    "id": "T-A50gSgaXS2"
   },
   "outputs": [
    {
     "name": "stdout",
     "output_type": "stream",
     "text": [
      "Equation:\n"
     ]
    },
    {
     "data": {
      "text/latex": [
       "$\\displaystyle \\left[\\begin{matrix}- 1.0 k_{1} x_{1}{\\left(t \\right)} - 0.5 k_{2} \\cdot \\left(2 x_{1}{\\left(t \\right)} - 2 x_{2}{\\left(t \\right)}\\right) - 1.0 m_{1} \\frac{d^{2}}{d t^{2}} x_{1}{\\left(t \\right)}\\\\- 0.5 k_{2} \\left(- 2 x_{1}{\\left(t \\right)} + 2 x_{2}{\\left(t \\right)}\\right) - 1.0 m_{2} \\frac{d^{2}}{d t^{2}} x_{2}{\\left(t \\right)}\\end{matrix}\\right] = \\left[\\begin{matrix}0\\\\0\\end{matrix}\\right]$"
      ],
      "text/plain": [
       "Eq(Matrix([\n",
       "[-1.0*k1*x1(t) - 0.5*k2*(2*x1(t) - 2*x2(t)) - 1.0*m1*Derivative(x1(t), (t, 2))],\n",
       "[              -0.5*k2*(-2*x1(t) + 2*x2(t)) - 1.0*m2*Derivative(x2(t), (t, 2))]]), Matrix([\n",
       "[0],\n",
       "[0]]))"
      ]
     },
     "metadata": {},
     "output_type": "display_data"
    },
    {
     "name": "stdout",
     "output_type": "stream",
     "text": [
      "Solution: \n"
     ]
    },
    {
     "data": {
      "text/latex": [
       "$\\displaystyle \\frac{d^{2}}{d t^{2}} x_{1}{\\left(t \\right)} = - \\frac{k_{1} x_{1}{\\left(t \\right)}}{m_{1}} - \\frac{k_{2} x_{1}{\\left(t \\right)}}{m_{1}} + \\frac{k_{2} x_{2}{\\left(t \\right)}}{m_{1}}$"
      ],
      "text/plain": [
       "Eq(Derivative(x1(t), (t, 2)), -k1*x1(t)/m1 - k2*x1(t)/m1 + k2*x2(t)/m1)"
      ]
     },
     "metadata": {},
     "output_type": "display_data"
    },
    {
     "data": {
      "text/latex": [
       "$\\displaystyle \\frac{d^{2}}{d t^{2}} x_{2}{\\left(t \\right)} = \\frac{k_{2} x_{1}{\\left(t \\right)}}{m_{2}} - \\frac{k_{2} x_{2}{\\left(t \\right)}}{m_{2}}$"
      ],
      "text/plain": [
       "Eq(Derivative(x2(t), (t, 2)), k2*x1(t)/m2 - k2*x2(t)/m2)"
      ]
     },
     "metadata": {},
     "output_type": "display_data"
    },
    {
     "name": "stdout",
     "output_type": "stream",
     "text": [
      "These acceleration equations match what I found via written analysis.\n"
     ]
    }
   ],
   "source": [
    "# You can start your implementation here :)\n",
    "\n",
    "#purpose of this step: have sympy simplify the equation to give the acceleration of objects.\n",
    "#this lets us integrate to give v and x as a function of t in next steps\n",
    "\n",
    "# 8. solve equation and display result\n",
    "eqn = sym.Eq(LHS.T, RHS.T)\n",
    "\n",
    "print(\"Equation:\")\n",
    "display(eqn)\n",
    "\n",
    "soln = sym.solve(eqn, qdd, dict = True)\n",
    "\n",
    "print(\"Solution: \")\n",
    "for sol in soln:\n",
    "    for x in qdd:\n",
    "        display(sym.Eq(x, sol[x]))\n",
    "    \n",
    "print(\"These acceleration equations match what I found via written analysis.\")"
   ]
  },
  {
   "cell_type": "code",
   "execution_count": 89,
   "metadata": {},
   "outputs": [
    {
     "ename": "TypeError",
     "evalue": "'Equality' object is not subscriptable",
     "output_type": "error",
     "traceback": [
      "\u001b[1;31m---------------------------------------------------------------------------\u001b[0m",
      "\u001b[1;31mTypeError\u001b[0m                                 Traceback (most recent call last)",
      "Cell \u001b[1;32mIn [89], line 3\u001b[0m\n\u001b[0;32m      1\u001b[0m \u001b[38;5;66;03m#9a. lambdify our acceleration functions so we can plug in values for them and solve\u001b[39;00m\n\u001b[0;32m      2\u001b[0m \u001b[38;5;66;03m#substitute in our values of constants b/c we sure can't do it once they're in numpy\u001b[39;00m\n\u001b[1;32m----> 3\u001b[0m x1dd_sy \u001b[38;5;241m=\u001b[39m \u001b[43msoln\u001b[49m\u001b[43m[\u001b[49m\u001b[38;5;241;43m0\u001b[39;49m\u001b[43m]\u001b[49m[qdd[\u001b[38;5;241m0\u001b[39m]]\n\u001b[0;32m      4\u001b[0m x2dd_sy \u001b[38;5;241m=\u001b[39m soln[\u001b[38;5;241m0\u001b[39m][qdd[\u001b[38;5;241m1\u001b[39m]]\n\u001b[0;32m      6\u001b[0m x1dd_sy \u001b[38;5;241m=\u001b[39m x1dd_sy\u001b[38;5;241m.\u001b[39msubs(consts_dict) \u001b[38;5;66;03m#defined above\u001b[39;00m\n",
      "\u001b[1;31mTypeError\u001b[0m: 'Equality' object is not subscriptable"
     ]
    }
   ],
   "source": [
    "#9a. lambdify our acceleration functions so we can plug in values for them and solve\n",
    "#substitute in our values of constants b/c we sure can't do it once they're in numpy\n",
    "x1dd_sy = soln[0][qdd[0]]\n",
    "x2dd_sy = soln[0][qdd[1]]\n",
    "\n",
    "x1dd_sy = x1dd_sy.subs(consts_dict) #defined above\n",
    "x2dd_sy = x2dd_sy.subs(consts_dict) #defined above\n",
    "\n",
    "display(x1dd_sy)\n",
    "display(x2dd_sy)\n",
    "\n",
    "x1dd_np = sym.lambdify([q[0], q[1]], x1dd_sy) #lamd(vars, function)\n",
    "x2dd_np = sym.lambdify([q[0], q[1]], x2dd_sy) #lamd(vars, function)\n",
    "\n",
    "help(x1dd_np)\n",
    "\n",
    "print(x1dd_np(1,1))\n",
    "print(x2dd_np(0.2,0.25))\n"
   ]
  },
  {
   "cell_type": "code",
   "execution_count": 45,
   "metadata": {},
   "outputs": [
    {
     "data": {
      "text/plain": [
       "array([ 0.6 ,  0.7 , -0.06, -0.02])"
      ]
     },
     "metadata": {},
     "output_type": "display_data"
    },
    {
     "data": {
      "text/plain": [
       "[0.6, 0.7, -0.06, -0.01999999999999999]"
      ]
     },
     "metadata": {},
     "output_type": "display_data"
    }
   ],
   "source": [
    "#9. define our state vector \n",
    "q0 = np.array([0,0,0,0]) #x1, x2, x1d, x2d\n",
    "qd0 = np.array([0,0,0,0]) #x1d, x2d, x1dd, x2dd\n",
    "\n",
    "def dxdt(t, s):\n",
    "    '''\n",
    "    Derivative of our state vector at the given state [x1, x2, x1d, x2d].\n",
    "    Inputs:\n",
    "     - x1dd: a lambdified Python function that calculates x1ddot as a function\n",
    "         of x1, x2, x1d, x2d\n",
    "     - x2dd: ditto for x2ddot\n",
    "     - q: current value of our state vector\n",
    "     \n",
    "     implicitly, this dxdt() function takes in the 2 functions x1dd and x2dd - \n",
    "     they are not included in the arguments for compatibility with rk4() and euler()\n",
    "     \n",
    "     Returns: an array [x1d, x2d, x1dd, x2dd]\n",
    "    '''\n",
    "    #potential to turn this into a dictionary-type set of functions\n",
    "    \n",
    "    #calculate x1'' and x2'' based on current state values and sympy function\n",
    "    #x1' and x2' are given\n",
    "    return np.array([s[2], s[3], x1dd_np(s[0], s[1]), x2dd_np(s[0], s[1])])\n",
    "\n",
    "q_sample = [0.2, 0.25, 0.6, 0.7]\n",
    "out = dxdt(0, q_sample)\n",
    "\n",
    "display(out)\n",
    "display(list(out))\n",
    "output_test = np.array([0.6, 0.7, -0.06, -0.02])\n",
    "\n",
    "assert np.allclose(out, output_test), f\"Output of dxdt: {out}\"\n",
    "\n",
    "#using numerical solvers, integrate the system from time t_o to t_f,\n",
    "#applying initial conditions\n",
    "\n",
    "#should I be using dictionaries more than I currently am, rather than lists\n",
    "#like in the state vector?\n",
    "\n",
    "def simulate(dxdt, integrator, t_span, q0, dt):\n",
    "    '''\n",
    "    Takes a given system and simulates the evolution of that system over\n",
    "    time. Uses a numerical integrator of the user's choice.\n",
    "    \n",
    "    Inputs:\n",
    "    - dxdt: func() that evaluates the derivative of the state variables. \n",
    "        takes in the current state q0 of size [1,n] and returns an array\n",
    "        of that same size qd, [1,n]\n",
    "    - integrator: RK4 or Euler numerical integration. takes in x and returns\n",
    "        x_new\n",
    "    - q0: initial state of the system, in form of a Numpy vector of size [1,n]\n",
    "    - t_span: array-like, [t0, tf]\n",
    "    - dt: timestep by which to evolve the system    \n",
    "    \n",
    "    Returns: an array of approx. size [n, (tf-t0)/dt] that contains the evolution of\n",
    "    the state variables over the timespan\n",
    "    \n",
    "    '''\n",
    "    [t0, tf] = t_span\n",
    "    q_array = np.array(q0)\n",
    "    q = q0\n",
    "\n",
    "    for t in np.arange(t0, tf, dt):\n",
    "        \n",
    "        q_new = integrator(dxdt,q,t,dt)\n",
    "        q_array.append(q_new)\n",
    "        q = q_new\n",
    "        \n",
    "    return q_array\n",
    "        \n",
    "        "
   ]
  },
  {
   "cell_type": "markdown",
   "metadata": {
    "id": "rmzz-xtCaXS4"
   },
   "source": [
    "## Problem 5 (10pts)"
   ]
  },
  {
   "cell_type": "code",
   "execution_count": 46,
   "metadata": {
    "colab": {
     "base_uri": "https://localhost:8080/",
     "height": 377
    },
    "id": "q3lbk_JjUG7w",
    "outputId": "dcdde399-9744-46f0-f72a-5bfde5c37bbf"
   },
   "outputs": [
    {
     "data": {
      "text/html": [
       "<table><tr><td><img src='https://raw.githubusercontent.com/MuchenSun/ME314pngs/master/dyninvpend.png' width=500' height='350'></table>"
      ],
      "text/plain": [
       "<IPython.core.display.HTML object>"
      ]
     },
     "metadata": {},
     "output_type": "display_data"
    }
   ],
   "source": [
    "from IPython.core.display import HTML\n",
    "display(HTML(\"<table><tr><td><img src='https://raw.githubusercontent.com/MuchenSun/ME314pngs/master/dyninvpend.png' width=500' height='350'></table>\"))"
   ]
  },
  {
   "cell_type": "markdown",
   "metadata": {
    "id": "W3og15vlYNcs"
   },
   "source": [
    "\n",
    "You are given the unforced inverted cart-pendulum as shown below. The pendulum is in gravity and can swing freely (the cart will not interfere with pendulum's motion). The cart can move freely in the horizontal direction. Take $x$ and $\\theta$ as the system configuration variables and compute the Lagrangian of the system using Python's SymPy package. Provide symoblic solution of the Lagrangian with $m$ and $M$ as symbols instead of given constants.\n",
    "\n",
    "*Hint 1: Assume that the positive direction for the rotation of the pendulum $\\dot{\\theta}$ is clockwise. Likewise, the positive direction for the translation of the cart is to the right.*\n",
    "\n",
    "*Hint 2: You will need to define $m$ and $M$ as SymPy's symbols.*\n",
    "\n",
    "*Hint 3: Note that the pendulum is attached to the cart! In order to compute the kinetic energy of the pendulum, the velocity of the cart needs to be considered. One suggestion is to compute the velocity of the pendulum in a different coordinate system (other than Cartesian with $x$ and $y$ coordinates).*"
   ]
  },
  {
   "cell_type": "markdown",
   "metadata": {
    "id": "UBG_nJa0aXS7"
   },
   "source": [
    "**Turn in: A copy of the code used to symbolically compute Lagrangian and the code output (i.e. the computed expression of the Lagrangian).**\n"
   ]
  },
  {
   "cell_type": "code",
   "execution_count": 99,
   "metadata": {
    "id": "OYaAr10EaXS7"
   },
   "outputs": [
    {
     "name": "stdout",
     "output_type": "stream",
     "text": [
      "Kinetic and potential function expressions:\n"
     ]
    },
    {
     "data": {
      "text/latex": [
       "$\\displaystyle 0.5 M \\left(\\frac{d}{d t} x_{m}{\\left(t \\right)}\\right)^{2} + 0.5 m \\left(R^{2} \\sin^{2}{\\left(\\frac{d}{d t} \\theta{\\left(t \\right)} \\right)} + \\left(R \\cos{\\left(\\frac{d}{d t} \\theta{\\left(t \\right)} \\right)} + \\frac{d}{d t} x_{m}{\\left(t \\right)}\\right)^{2}\\right)$"
      ],
      "text/plain": [
       "0.5*M*Derivative(x_m(t), t)**2 + 0.5*m*(R**2*sin(Derivative(\\theta(t), t))**2 + (R*cos(Derivative(\\theta(t), t)) + Derivative(x_m(t), t))**2)"
      ]
     },
     "metadata": {},
     "output_type": "display_data"
    },
    {
     "data": {
      "text/latex": [
       "$\\displaystyle R g m \\cos{\\left(\\theta{\\left(t \\right)} \\right)}$"
      ],
      "text/plain": [
       "R*g*m*cos(\\theta(t))"
      ]
     },
     "metadata": {},
     "output_type": "display_data"
    },
    {
     "name": "stdout",
     "output_type": "stream",
     "text": [
      "Lagrangian function:\n"
     ]
    },
    {
     "data": {
      "text/latex": [
       "$\\displaystyle 0.5 M \\left(\\frac{d}{d t} x_{m}{\\left(t \\right)}\\right)^{2} - R g m \\cos{\\left(\\theta{\\left(t \\right)} \\right)} + 0.5 m \\left(R^{2} \\sin^{2}{\\left(\\frac{d}{d t} \\theta{\\left(t \\right)} \\right)} + \\left(R \\cos{\\left(\\frac{d}{d t} \\theta{\\left(t \\right)} \\right)} + \\frac{d}{d t} x_{m}{\\left(t \\right)}\\right)^{2}\\right)$"
      ],
      "text/plain": [
       "0.5*M*Derivative(x_m(t), t)**2 - R*g*m*cos(\\theta(t)) + 0.5*m*(R**2*sin(Derivative(\\theta(t), t))**2 + (R*cos(Derivative(\\theta(t), t)) + Derivative(x_m(t), t))**2)"
      ]
     },
     "metadata": {},
     "output_type": "display_data"
    }
   ],
   "source": [
    "# You can start your implementation here :)\n",
    "\n",
    "#1. grab variables\n",
    "t = sym.symbols(r't') #ind. var.\n",
    "R, m, M, g = sym.symbols(r'R, m, M, g') #constants\n",
    "\n",
    "const_dict = {\n",
    "    M: 2,\n",
    "    m: 1,\n",
    "    g: 9.8,\n",
    "    R: 1\n",
    "}\n",
    "\n",
    "#2. define position, velocity, accel for masses 1 and 2 as functions\n",
    "xm = sym.Function(r'x_m')(t)\n",
    "theta = sym.Function(r'\\theta')(t)\n",
    "\n",
    "xmd = xm.diff(t)\n",
    "xmdd = xmd.diff(t)\n",
    "\n",
    "thetad = theta.diff(t)\n",
    "thetadd = thetad.diff(t)\n",
    "\n",
    "#define state of system\n",
    "q = sym.Matrix([xm, theta])\n",
    "qd = q.diff(t)\n",
    "qdd = qd.diff(t)\n",
    "\n",
    "#3.  now write down KE and PE in terms of position and velocity\n",
    "KE_M = 0.5 * M * xmd**2 \n",
    "KE_m = 0.5 * m * ( (xmd + R*sym.cos(thetad))**2 + (R*sym.sin(thetad))**2 )\n",
    "KE_sys2 = KE_M  + KE_m\n",
    "U_sys2 = m * g * R * sym.cos(theta)\n",
    "\n",
    "print(\"Kinetic and potential function expressions:\")\n",
    "display(KE_sys2)\n",
    "display(U_sys2)\n",
    "\n",
    "print(\"Lagrangian function:\")\n",
    "lagrangian_2 = KE_sys2 - U_sys2\n",
    "display(lagrangian_2)"
   ]
  },
  {
   "cell_type": "markdown",
   "metadata": {
    "id": "TZOarGN7UOa8"
   },
   "source": [
    "## Problem 6 (15pts)\n",
    "\n",
    "Based on your solution in Problem 5, compute the Euler-Lagrange equations for this inverted cart-pendulum system using Python's SymPy package.\n",
    "\n",
    "**Turn in: A copy of the code used to symbolically compute Euler-Lagrange equations  and the code output (i.e. the computed expression of the Lagrangian).**"
   ]
  },
  {
   "cell_type": "code",
   "execution_count": 100,
   "metadata": {
    "id": "i_1qHTNWUNq1"
   },
   "outputs": [
    {
     "name": "stdout",
     "output_type": "stream",
     "text": [
      "Euler-Lagrange Equations:\n"
     ]
    },
    {
     "data": {
      "text/latex": [
       "$\\displaystyle \\left[\\begin{matrix}- 1.0 M \\frac{d^{2}}{d t^{2}} x_{m}{\\left(t \\right)} - 0.5 m \\left(- 2 R \\sin{\\left(\\frac{d}{d t} \\theta{\\left(t \\right)} \\right)} \\frac{d^{2}}{d t^{2}} \\theta{\\left(t \\right)} + 2 \\frac{d^{2}}{d t^{2}} x_{m}{\\left(t \\right)}\\right)\\\\R g m \\sin{\\left(\\theta{\\left(t \\right)} \\right)} - 0.5 m \\left(- 2 R^{2} \\sin^{2}{\\left(\\frac{d}{d t} \\theta{\\left(t \\right)} \\right)} \\frac{d^{2}}{d t^{2}} \\theta{\\left(t \\right)} + 2 R^{2} \\cos^{2}{\\left(\\frac{d}{d t} \\theta{\\left(t \\right)} \\right)} \\frac{d^{2}}{d t^{2}} \\theta{\\left(t \\right)} - 2 R \\left(R \\cos{\\left(\\frac{d}{d t} \\theta{\\left(t \\right)} \\right)} + \\frac{d}{d t} x_{m}{\\left(t \\right)}\\right) \\cos{\\left(\\frac{d}{d t} \\theta{\\left(t \\right)} \\right)} \\frac{d^{2}}{d t^{2}} \\theta{\\left(t \\right)} - 2 R \\left(- R \\sin{\\left(\\frac{d}{d t} \\theta{\\left(t \\right)} \\right)} \\frac{d^{2}}{d t^{2}} \\theta{\\left(t \\right)} + \\frac{d^{2}}{d t^{2}} x_{m}{\\left(t \\right)}\\right) \\sin{\\left(\\frac{d}{d t} \\theta{\\left(t \\right)} \\right)}\\right)\\end{matrix}\\right] = \\left[\\begin{matrix}0\\\\0\\end{matrix}\\right]$"
      ],
      "text/plain": [
       "Eq(Matrix([\n",
       "[                                                                                                                                                                                                                                                                                                -1.0*M*Derivative(x_m(t), (t, 2)) - 0.5*m*(-2*R*sin(Derivative(\\theta(t), t))*Derivative(\\theta(t), (t, 2)) + 2*Derivative(x_m(t), (t, 2)))],\n",
       "[R*g*m*sin(\\theta(t)) - 0.5*m*(-2*R**2*sin(Derivative(\\theta(t), t))**2*Derivative(\\theta(t), (t, 2)) + 2*R**2*cos(Derivative(\\theta(t), t))**2*Derivative(\\theta(t), (t, 2)) - 2*R*(R*cos(Derivative(\\theta(t), t)) + Derivative(x_m(t), t))*cos(Derivative(\\theta(t), t))*Derivative(\\theta(t), (t, 2)) - 2*R*(-R*sin(Derivative(\\theta(t), t))*Derivative(\\theta(t), (t, 2)) + Derivative(x_m(t), (t, 2)))*sin(Derivative(\\theta(t), t)))]]), Matrix([\n",
       "[0],\n",
       "[0]]))"
      ]
     },
     "metadata": {},
     "output_type": "display_data"
    },
    {
     "name": "stdout",
     "output_type": "stream",
     "text": [
      "Simplified:\n"
     ]
    },
    {
     "data": {
      "text/latex": [
       "$\\displaystyle \\left[\\begin{matrix}0\\\\0\\end{matrix}\\right] = \\left[\\begin{matrix}- 1.0 M \\frac{d^{2}}{d t^{2}} x_{m}{\\left(t \\right)} + m \\left(R \\sin{\\left(\\frac{d}{d t} \\theta{\\left(t \\right)} \\right)} \\frac{d^{2}}{d t^{2}} \\theta{\\left(t \\right)} - \\frac{d^{2}}{d t^{2}} x_{m}{\\left(t \\right)}\\right)\\\\R m \\left(g \\sin{\\left(\\theta{\\left(t \\right)} \\right)} + \\sin{\\left(\\frac{d}{d t} \\theta{\\left(t \\right)} \\right)} \\frac{d^{2}}{d t^{2}} x_{m}{\\left(t \\right)} + \\cos{\\left(\\frac{d}{d t} \\theta{\\left(t \\right)} \\right)} \\frac{d^{2}}{d t^{2}} \\theta{\\left(t \\right)} \\frac{d}{d t} x_{m}{\\left(t \\right)}\\right)\\end{matrix}\\right]$"
      ],
      "text/plain": [
       "Eq(Matrix([\n",
       "[0],\n",
       "[0]]), Matrix([\n",
       "[                                   -1.0*M*Derivative(x_m(t), (t, 2)) + m*(R*sin(Derivative(\\theta(t), t))*Derivative(\\theta(t), (t, 2)) - Derivative(x_m(t), (t, 2)))],\n",
       "[R*m*(g*sin(\\theta(t)) + sin(Derivative(\\theta(t), t))*Derivative(x_m(t), (t, 2)) + cos(Derivative(\\theta(t), t))*Derivative(\\theta(t), (t, 2))*Derivative(x_m(t), t))]]))"
      ]
     },
     "metadata": {},
     "output_type": "display_data"
    }
   ],
   "source": [
    "# You can start your implementation here :)\n",
    "eqn = compute_EL(lagrangian_2, q)\n",
    "print(\"Euler-Lagrange Equations:\")\n",
    "display(eqn)\n",
    "\n",
    "print(\"Simplified:\")\n",
    "display(eqn.simplify())\n"
   ]
  },
  {
   "cell_type": "markdown",
   "metadata": {
    "id": "JvEeknCXUQMF"
   },
   "source": [
    "## Problem 7 (15pts)\n",
    "\n",
    "Find symbolic expressions of $\\ddot{x}$ and $\\ddot{\\theta}$ from the Euler-Lagrange equations in Problem 6 using SymPy's **`solve()`** method (NOTE: the expressions should be in terms of $x$, $\\theta$, $\\dot{x}$ and $\\dot{\\theta}$ only). Convert these results to numerical functions using SymPy's **`lambdify()`** method by substituting $M, m, R, g$ symbols with $M=2, m=1, R=1, g=9.8$ values. Test your numerical functions of $\\ddot{x}$ and $\\ddot{\\theta}$ by evaluating them given $x=0, \\theta=0.1, \\dot{x}=0, \\dot{\\theta}=0$ as function inputs.\n",
    "\n",
    "**Turn in: A copy of the code used to symbolically solve and numerically evaluate the solutions of Euler-Lagrange equations (i.e. $\\ddot{x}$ and $\\ddot{\\theta}$). Include the code output, consisting of symbolic expression of $\\ddot{x}$ and $\\ddot{\\theta}$, as well as your test results for the numerical evaluations.**"
   ]
  },
  {
   "cell_type": "code",
   "execution_count": 107,
   "metadata": {
    "id": "nVpc5FEGaXTC"
   },
   "outputs": [
    {
     "name": "stdout",
     "output_type": "stream",
     "text": [
      "Euler-Lagrange equations:\n"
     ]
    },
    {
     "data": {
      "text/latex": [
       "$\\displaystyle \\left[\\begin{matrix}- 1.0 M \\frac{d^{2}}{d t^{2}} x_{m}{\\left(t \\right)} - 0.5 m \\left(- 2 R \\sin{\\left(\\frac{d}{d t} \\theta{\\left(t \\right)} \\right)} \\frac{d^{2}}{d t^{2}} \\theta{\\left(t \\right)} + 2 \\frac{d^{2}}{d t^{2}} x_{m}{\\left(t \\right)}\\right)\\\\R g m \\sin{\\left(\\theta{\\left(t \\right)} \\right)} - 0.5 m \\left(- 2 R^{2} \\sin^{2}{\\left(\\frac{d}{d t} \\theta{\\left(t \\right)} \\right)} \\frac{d^{2}}{d t^{2}} \\theta{\\left(t \\right)} + 2 R^{2} \\cos^{2}{\\left(\\frac{d}{d t} \\theta{\\left(t \\right)} \\right)} \\frac{d^{2}}{d t^{2}} \\theta{\\left(t \\right)} - 2 R \\left(R \\cos{\\left(\\frac{d}{d t} \\theta{\\left(t \\right)} \\right)} + \\frac{d}{d t} x_{m}{\\left(t \\right)}\\right) \\cos{\\left(\\frac{d}{d t} \\theta{\\left(t \\right)} \\right)} \\frac{d^{2}}{d t^{2}} \\theta{\\left(t \\right)} - 2 R \\left(- R \\sin{\\left(\\frac{d}{d t} \\theta{\\left(t \\right)} \\right)} \\frac{d^{2}}{d t^{2}} \\theta{\\left(t \\right)} + \\frac{d^{2}}{d t^{2}} x_{m}{\\left(t \\right)}\\right) \\sin{\\left(\\frac{d}{d t} \\theta{\\left(t \\right)} \\right)}\\right)\\end{matrix}\\right] = \\left[\\begin{matrix}0\\\\0\\end{matrix}\\right]$"
      ],
      "text/plain": [
       "Eq(Matrix([\n",
       "[                                                                                                                                                                                                                                                                                                -1.0*M*Derivative(x_m(t), (t, 2)) - 0.5*m*(-2*R*sin(Derivative(\\theta(t), t))*Derivative(\\theta(t), (t, 2)) + 2*Derivative(x_m(t), (t, 2)))],\n",
       "[R*g*m*sin(\\theta(t)) - 0.5*m*(-2*R**2*sin(Derivative(\\theta(t), t))**2*Derivative(\\theta(t), (t, 2)) + 2*R**2*cos(Derivative(\\theta(t), t))**2*Derivative(\\theta(t), (t, 2)) - 2*R*(R*cos(Derivative(\\theta(t), t)) + Derivative(x_m(t), t))*cos(Derivative(\\theta(t), t))*Derivative(\\theta(t), (t, 2)) - 2*R*(-R*sin(Derivative(\\theta(t), t))*Derivative(\\theta(t), (t, 2)) + Derivative(x_m(t), (t, 2)))*sin(Derivative(\\theta(t), t)))]]), Matrix([\n",
       "[0],\n",
       "[0]]))"
      ]
     },
     "metadata": {},
     "output_type": "display_data"
    },
    {
     "name": "stdout",
     "output_type": "stream",
     "text": [
      "Solutions to Euler-Lagrange equations:\n"
     ]
    },
    {
     "data": {
      "text/latex": [
       "$\\displaystyle \\frac{d^{2}}{d t^{2}} x_{m}{\\left(t \\right)} = - \\frac{9.8 \\sin{\\left(\\theta{\\left(t \\right)} \\right)} \\sin{\\left(\\frac{d}{d t} \\theta{\\left(t \\right)} \\right)}}{\\sin^{2}{\\left(\\frac{d}{d t} \\theta{\\left(t \\right)} \\right)} + 3 \\cos{\\left(\\frac{d}{d t} \\theta{\\left(t \\right)} \\right)} \\frac{d}{d t} x_{m}{\\left(t \\right)}}$"
      ],
      "text/plain": [
       "Eq(Derivative(x_m(t), (t, 2)), -9.8*sin(\\theta(t))*sin(Derivative(\\theta(t), t))/(sin(Derivative(\\theta(t), t))**2 + 3*cos(Derivative(\\theta(t), t))*Derivative(x_m(t), t)))"
      ]
     },
     "metadata": {},
     "output_type": "display_data"
    },
    {
     "data": {
      "text/latex": [
       "$\\displaystyle \\frac{d^{2}}{d t^{2}} \\theta{\\left(t \\right)} = - \\frac{29.4 \\sin{\\left(\\theta{\\left(t \\right)} \\right)}}{\\sin^{2}{\\left(\\frac{d}{d t} \\theta{\\left(t \\right)} \\right)} + 3 \\cos{\\left(\\frac{d}{d t} \\theta{\\left(t \\right)} \\right)} \\frac{d}{d t} x_{m}{\\left(t \\right)}}$"
      ],
      "text/plain": [
       "Eq(Derivative(\\theta(t), (t, 2)), -29.4*sin(\\theta(t))/(sin(Derivative(\\theta(t), t))**2 + 3*cos(Derivative(\\theta(t), t))*Derivative(x_m(t), t)))"
      ]
     },
     "metadata": {},
     "output_type": "display_data"
    }
   ],
   "source": [
    "# You can start your implementation here :)\n",
    "\n",
    "#eqn = eqn.subs(const_dict)\n",
    "print(\"Euler-Lagrange equations:\")\n",
    "display(eqn)\n",
    "\n",
    "eqns_solved = solve_EL(eqn, q)\n",
    "\n",
    "print(\"Solutions to Euler-Lagrange equations:\")\n",
    "for eq in eqns_solved:\n",
    "    #display(eq)\n",
    "    display(eq.subs(const_dict))\n",
    "    \n",
    "\n",
    "    "
   ]
  },
  {
   "cell_type": "code",
   "execution_count": 117,
   "metadata": {},
   "outputs": [
    {
     "data": {
      "text/latex": [
       "$\\displaystyle - \\frac{9.8 \\sin{\\left(\\theta{\\left(t \\right)} \\right)} \\sin{\\left(\\frac{d}{d t} \\theta{\\left(t \\right)} \\right)}}{\\sin^{2}{\\left(\\frac{d}{d t} \\theta{\\left(t \\right)} \\right)} + 3 \\cos{\\left(\\frac{d}{d t} \\theta{\\left(t \\right)} \\right)} \\frac{d}{d t} x_{m}{\\left(t \\right)}}$"
      ],
      "text/plain": [
       "-9.8*sin(\\theta(t))*sin(Derivative(\\theta(t), t))/(sin(Derivative(\\theta(t), t))**2 + 3*cos(Derivative(\\theta(t), t))*Derivative(x_m(t), t))"
      ]
     },
     "metadata": {},
     "output_type": "display_data"
    },
    {
     "data": {
      "text/latex": [
       "$\\displaystyle - \\frac{29.4 \\sin{\\left(\\theta{\\left(t \\right)} \\right)}}{\\sin^{2}{\\left(\\frac{d}{d t} \\theta{\\left(t \\right)} \\right)} + 3 \\cos{\\left(\\frac{d}{d t} \\theta{\\left(t \\right)} \\right)} \\frac{d}{d t} x_{m}{\\left(t \\right)}}$"
      ],
      "text/plain": [
       "-29.4*sin(\\theta(t))/(sin(Derivative(\\theta(t), t))**2 + 3*cos(Derivative(\\theta(t), t))*Derivative(x_m(t), t))"
      ]
     },
     "metadata": {},
     "output_type": "display_data"
    },
    {
     "name": "stdout",
     "output_type": "stream",
     "text": [
      "Test of functions given input parameters:\n"
     ]
    },
    {
     "data": {
      "text/plain": [
       "-0.388531149441417"
      ]
     },
     "metadata": {},
     "output_type": "display_data"
    },
    {
     "data": {
      "text/plain": [
       "-2.993165245925701"
      ]
     },
     "metadata": {},
     "output_type": "display_data"
    }
   ],
   "source": [
    "#lambdify the Sympy equations \n",
    "q_ext = sym.Matrix([xm, theta, xmd, thetad])\n",
    "\n",
    "xmdd_sy = eqns_solved[0].subs(const_dict)\n",
    "thetadd_sy = eqns_solved[1].subs(const_dict)\n",
    "\n",
    "display(xmdd_sy.rhs)\n",
    "display(thetadd_sy.rhs)\n",
    "\n",
    "xmdd_np = sym.lambdify(q_ext, xmdd_sy.rhs)\n",
    "thetadd_np = sym.lambdify(q_ext, thetadd_sy.rhs)\n",
    "\n",
    "#help(xmdd_np)\n",
    "    \n",
    "print(\"Test of functions given input parameters:\")\n",
    "display(xmdd_np(0.2, 0.1, 0.3, 0.4))\n",
    "display(thetadd_np(0.2, 0.1, 0.3, 0.4))\n",
    "\n",
    "#this has been debugged so that the lambdify() stuff is working now,\n",
    "#but the result is still shit\n"
   ]
  },
  {
   "cell_type": "markdown",
   "metadata": {
    "id": "HQ2Hl88sUUmF"
   },
   "source": [
    "## Problem 8 (10pts)\n",
    "\n",
    "Based on your symbolic and numerical solutions for $\\ddot{x}(t)$ and $\\ddot{\\theta}(t)$, which are now functions of $x(t), \\theta(t), \\dot{x}(t)$ and $\\dot{\\theta}(t)$, simulate the system for $t\\in[0,10]$, with initial conditions $x(0)=0, \\theta(0)=0.1, \\dot{x}(0)=0, \\dot{\\theta}(0)=0$ and the numerical integration and simulation functions provided below. Plot the trajectories of $x(t)$ and $\\theta(t)$ versus time.\n",
    "\n",
    "*Hint 1: The numerical simulation function below can only simulate systems with first-order dynamics. This means that the function of dynamics (i.e. $f(xt)$), whose input is fed to the numerical integration and simulation functions, needs to return the first-order time derivative. This might be confusing because our solutions $\\ddot{x}(t)$ and $\\ddot{\\theta}(t)$ are second-order time derivative. The trick here is to extend the system state from $[x(t), \\theta(t)]$ to $[x(t), \\theta(t), \\dot{x}(t), \\dot{\\theta}(t)]$, thus the time derivative of the state vector becomes $[\\dot{x}(t), \\dot{\\theta}(t), \\ddot{x}(t), \\ddot{\\theta}(t)]$. Now, when you write down the system dynamics function, the third and forth elements of input vector $\\dot{x}(t)$ and $\\dot{\\theta}(t)$ can be put into the output vector directly, and we already know the rest two elements of the output vector, from our previous solution of Euler-Lagrange equations. More information can be found in Lecture Note 1 (Background) - Section 1.4 Ordinary Differential Equations. An example is provided below for simulating a particle falling in gravity, where the acceleration $\\ddot{x}(t) = -9.8$.*\n",
    "\n",
    "*Hint 2: You will need to include the numerical evaluations for $\\ddot{x}(t)$ and $\\ddot{\\theta}(t)$ in system dynamics function. You can either use your previous **`lambdify()`** results, or hand code the equations from previous symbolic solutions. We recommend using **`lambdify()`** for practice because later homeworks will require integration of much more complicated equations.*\n",
    "\n",
    "**Turn in: A copy of the code used to simulate the system with the plot of the simulated trajectories.**"
   ]
  },
  {
   "cell_type": "code",
   "execution_count": null,
   "metadata": {
    "colab": {
     "base_uri": "https://localhost:8080/"
    },
    "id": "AxammQGfUUCv",
    "outputId": "bd652f22-1617-47fe-c85f-eb8f17527d54"
   },
   "outputs": [],
   "source": [
    "def integrate(f, xt, dt):\n",
    "    \"\"\"\n",
    "    This function takes in an initial condition x(t) and a timestep dt,\n",
    "    as well as a dynamical system f(x) that outputs a vector of the\n",
    "    same dimension as x(t). It outputs a vector x(t+dt) at the future\n",
    "    time step.\n",
    "    \n",
    "    Parameters\n",
    "    ============\n",
    "    dyn: Python function\n",
    "        derivate of the system at a given step x(t), \n",
    "        it can considered as \\dot{x}(t) = func(x(t))\n",
    "    xt: NumPy array\n",
    "        current step x(t)\n",
    "    dt: \n",
    "        step size for integration\n",
    "\n",
    "    Return\n",
    "    ============\n",
    "    new_xt: \n",
    "        value of x(t+dt) integrated from x(t)\n",
    "    \"\"\"\n",
    "    k1 = dt * f(xt)\n",
    "    k2 = dt * f(xt+k1/2.)\n",
    "    k3 = dt * f(xt+k2/2.)\n",
    "    k4 = dt * f(xt+k3)\n",
    "    new_xt = xt + (1/6.) * (k1+2.0*k2+2.0*k3+k4)\n",
    "    return new_xt\n",
    "\n",
    "def simulate(f, x0, tspan, dt, integrate):\n",
    "    \"\"\"\n",
    "    This function takes in an initial condition x0, a timestep dt,\n",
    "    a time span tspan consisting of a list [min_time, max_time],\n",
    "    as well as a dynamical system f(x) that outputs a vector of the\n",
    "    same dimension as x0. It outputs a full trajectory simulated\n",
    "    over the time span of dimensions (xvec_size, time_vec_size).\n",
    "    \n",
    "    Parameters\n",
    "    ============\n",
    "    f: Python function\n",
    "        derivate of the system at a given step x(t), \n",
    "        it can considered as \\dot{x}(t) = func(x(t))\n",
    "    x0: NumPy array\n",
    "        initial conditions\n",
    "    tspan: Python list\n",
    "        tspan = [min_time, max_time], it defines the start and end\n",
    "        time of simulation\n",
    "    dt:\n",
    "        time step for numerical integration\n",
    "    integrate: Python function\n",
    "        numerical integration method used in this simulation\n",
    "\n",
    "    Return\n",
    "    ============\n",
    "    x_traj:\n",
    "        simulated trajectory of x(t) from t=0 to tf\n",
    "    \"\"\"\n",
    "    N = int((max(tspan)-min(tspan))/dt)\n",
    "    x = np.copy(x0)\n",
    "    tvec = np.linspace(min(tspan),max(tspan),N)\n",
    "    xtraj = np.zeros((len(x0),N))\n",
    "    for i in range(N):\n",
    "        xtraj[:,i]=integrate(f,x,dt)\n",
    "        x = np.copy(xtraj[:,i])\n",
    "    return xtraj \n",
    "\n",
    "##############################################\n",
    "# example: simulate a particle falling in gravity\n",
    "def xddot(x, xdot):\n",
    "    \"\"\"\n",
    "    Acceleration of the particle in terms of\n",
    "    position and velocity. Here it's a constant.\n",
    "    \"\"\"\n",
    "    \n",
    "    return -9.8\n",
    "\n",
    "def dyn(s):\n",
    "    \"\"\"\n",
    "    System dynamics function (extended)\n",
    "    \n",
    "    Parameters\n",
    "    ============\n",
    "    s: NumPy array\n",
    "        s = [x, xdot] is the extended system\n",
    "        state vector, includng the position and\n",
    "        the velocity of the particle\n",
    "    \n",
    "    Return\n",
    "    ============\n",
    "    sdot: NumPy array\n",
    "        time derivative of input state vector,\n",
    "        sdot = [xdot, xddot]\n",
    "    \"\"\"\n",
    "    return np.array([s[1], xddot(s[0], s[1])])\n",
    "\n",
    "# define initial state\n",
    "s0 = np.array([10, 0]) # at 10m high with zero velocity\n",
    "# simulat from t=0 to 10, since dt=0.1, the returned trajectory\n",
    "# will have 10/0.1=100 time steps, each time step contains extended\n",
    "# system state vector [x(t), xdot(t)]\n",
    "traj = simulate(dyn, s0, [0, 10], 0.1, integrate) \n",
    "print('\\033[1mShape of traj: \\033[0m', traj.shape)"
   ]
  },
  {
   "cell_type": "code",
   "execution_count": null,
   "metadata": {
    "id": "873DWPPjUXn5"
   },
   "outputs": [],
   "source": [
    "# You can start your implementation here :)"
   ]
  },
  {
   "cell_type": "markdown",
   "metadata": {
    "id": "vr6U6HRFUajR"
   },
   "source": [
    "***\n",
    "\n",
    "## Problem X (0pts)\n",
    "### **Not required for submission!**\n",
    "\n",
    "*NOTE: \"Problem X\" is not required for submission and has zero credit. This is only designed to help you get more familiar with things that are not the primary purposes of this class, but are important in practice, like Python.*\n",
    "\n",
    "You may now have all the code running to compute the dynamics of some \"pendulum stuff\"... and you will need to compute more later in this class! One suggestion here, for the purpose of handling more sophisticated systems (like a triple-pendulum!), is to wrap up your code for this homework into several functions. This is not required, and it's fine if you don't want to do it (you can always go back here after you're more familiar with Python and course materials). This is only for some of you who just want to have more Python in their life, just as the saying goes, \"life is short, use python\".\n",
    "\n",
    "Why is it better to wrap existing code into functions - isn't it a waste of time? Consider a sort of unrelated example: write a program that computes the trace of a matrix, which is the sum of all diagonal elements. If the matrix is already provided, just like we already computed Lagrangian in the homework, we can do something like this:"
   ]
  },
  {
   "cell_type": "code",
   "execution_count": null,
   "metadata": {
    "id": "wlglp0RmUZ2U"
   },
   "outputs": [],
   "source": [
    "mat = [[1, 2, 3],\n",
    "       [4, 5, 6],\n",
    "       [7, 8, 9]]\n",
    "trace = mat[0][0] + mat[1][1] + mat[2][2]"
   ]
  },
  {
   "cell_type": "markdown",
   "metadata": {
    "id": "vC_wKQnwUd-w"
   },
   "source": [
    "However, what if we need to compute the trace of a 5-by-5 matrix instead? Then we need to rewrite the code! In our simple example, this isn't that annoying or time consuming. However, for more complicated problems it could be very annoying, especially when we find that we are basically doing the same thing every time we rewrite the code - manually adding all the diagonal elements together as well as very tedious, especially in case if there are multiple places in the code where we perform the same calculation. Thus, why don't we just write a function once, and it will handle matrices with all possible dimensions for us? The challenge is that the function doesn't know what matrix it will be provided ahead of time! One solution is to require matrix dimension as a function input (you might find this very common in lower-level programming languages like C/C++). But in Python, we have better choice - querying the dimension of your input! Here's one possible implementation:"
   ]
  },
  {
   "cell_type": "code",
   "execution_count": null,
   "metadata": {
    "id": "wYcHGyGeUdvI"
   },
   "outputs": [],
   "source": [
    "def compute_trace(mat):\n",
    "    dim = len(mat)\n",
    "    trace_val = 0\n",
    "    for i in range(dim):\n",
    "        trace_val += mat[i][i]\n",
    "    return trace_val\n",
    "\n",
    "mat = [[1, 2, 3],\n",
    "       [4, 5, 6],\n",
    "       [7, 8, 9]]\n",
    "trace = compute_trace(mat)"
   ]
  },
  {
   "cell_type": "markdown",
   "metadata": {
    "id": "4VvmIDLPUfgs"
   },
   "source": [
    "Python provides some really nice methods to tell us the dimension of the data! While the default is `len()`, given NumPy or SymPy you can also use `.shape()`. In this way, you can generalize your method through the function, and easily reuse your code later. Besides that, depending on the specific scenarios, some methods can naturally avoid encountering number of parameters, like SymPy's matrix `jacobian()` method. Usually these methods are better choices because their implementations are typically more efficient than using loops (loops are slow). \n",
    "    \n",
    "In this homework, one part of your code you can re-write using a function feature is Problem 3. **Try to write a Python function, which takes in the Lagrangian, a list of variables of the Lagrangian, and returns the Euler-Lagrange equation as a SymPy equation object.** The challenge here is that we don't know how many variables will be provided ahead of time, and the example above might inspire you. \n",
    "    \n",
    "Feel free to use template provided below as a starting point. Note that it's highly recommended to document your function as shown below - letting others understand your code is as important as getting your code to run!"
   ]
  },
  {
   "cell_type": "code",
   "execution_count": null,
   "metadata": {
    "id": "qfwvNYPqUb-c"
   },
   "outputs": [],
   "source": [
    "def euler_equations(L, funcs, t):\n",
    "    \"\"\"\n",
    "    Find the Euler-Lagrangian equations given the Lagrangian equation.\n",
    "\n",
    "    Parameters:\n",
    "    ============\n",
    "    L: SymPy Expression\n",
    "        L should be a SymPy expression containing necessary system \n",
    "        configuration variables\n",
    "    funcs: list of SymPy Functions\n",
    "        func should included all the system configuration variables\n",
    "        as functions of time variable \"t\" in the Lagrangian\n",
    "    t: SymPy Symbol\n",
    "        time variable\n",
    "\n",
    "    Returns:\n",
    "    ============\n",
    "    eqns: SymPy Equation\n",
    "        eqns is the resulting Euler-Lagrangian equations, it should\n",
    "        be a sinlge SymPy Equation object, each side being a SymPy\n",
    "        Matrix object\n",
    "    \"\"\"\n",
    "    pass # In Python, \"pass\" means \"do nothing\",  many people use it\n",
    "         # to occupy a space so they don't need to implement a function\n",
    "         # while getting the program running. Here you just need to \n",
    "         # replace it with your own implementation."
   ]
  },
  {
   "cell_type": "code",
   "execution_count": null,
   "metadata": {
    "id": "smsePfLWUgZP"
   },
   "outputs": [],
   "source": []
  }
 ],
 "metadata": {
  "colab": {
   "collapsed_sections": [],
   "provenance": []
  },
  "kernelspec": {
   "display_name": "Python 3 (ipykernel)",
   "language": "python",
   "name": "python3"
  },
  "language_info": {
   "codemirror_mode": {
    "name": "ipython",
    "version": 3
   },
   "file_extension": ".py",
   "mimetype": "text/x-python",
   "name": "python",
   "nbconvert_exporter": "python",
   "pygments_lexer": "ipython3",
   "version": "3.10.7"
  }
 },
 "nbformat": 4,
 "nbformat_minor": 1
}
